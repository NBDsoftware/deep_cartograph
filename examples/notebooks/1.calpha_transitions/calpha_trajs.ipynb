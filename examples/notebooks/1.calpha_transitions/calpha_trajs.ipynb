{
 "cells": [
  {
   "cell_type": "markdown",
   "metadata": {},
   "source": [
    "# Tests on Trans Atlas data\n",
    "\n",
    "Trajectories from the TransAtlas MD database are used here as input data. These trajectories reproduce conformational transitions between two different states of proteins. The trajectories are generated using [GOdMD](https://mmb.irbbarcelona.org/GOdMD/index.php?id=about). The potential energy function considers only Carbon alpha atoms and both bonding and non-bonding interactions are described with simplified wells. The MD engine to generate samples uses discrete MD (ballistic regime) and enhanced sampling with metadynamics and Maxwell Demon. For additional details see [Orozco et al.](https://doi.org/10.1093/bioinformatics/btt324).\n",
    "\n",
    "These trajectories capture large conformational changes of proteins. They contain only Carbon alpha atoms and there is a small number of samples. Here we will use the deep cartograph package to analyze these trajectories and find collective variables that describe the transitions."
   ]
  },
  {
   "cell_type": "code",
   "execution_count": 1,
   "metadata": {},
   "outputs": [],
   "source": [
    "from deep_cartograph.modules.plumed.utils import read_as_pandas\n",
    "from deep_cartograph.run import deep_cartograph \n",
    "import importlib.resources as resources\n",
    "from deep_cartograph import data\n",
    "\n",
    "from sklearn.neighbors import KernelDensity\n",
    "from IPython.display import display, HTML\n",
    "from typing import Tuple, Dict, List, Literal\n",
    "import matplotlib.pyplot as plt\n",
    "from decimal import Decimal\n",
    "import pandas as pd\n",
    "import numpy as np\n",
    "import logging\n",
    "import shutil\n",
    "import yaml\n",
    "import time\n",
    "import os\n",
    "\n",
    "# Get the path to the data\n",
    "data_folder = resources.files(data)\n",
    "\n",
    "# Set logging level\n",
    "logging.basicConfig(level=logging.INFO)\n",
    "\n",
    "def run_deep_cartograph(features: Literal['torsions', 'distances'], system_name: str):\n",
    "\n",
    "    # Input trajectory and topology\n",
    "    input_path = f\"{data_folder}/calpha_transitions/input/{system_name}\"\n",
    "    traj_path = os.path.join(input_path, f'{system_name}.dcd')\n",
    "    top_path = os.path.join(input_path, f'{system_name}.pdb')\n",
    "\n",
    "    # Input configuration\n",
    "    config_path = f\"{data_folder}/calpha_transitions/input/{features}_config.yml\"\n",
    "    with open(config_path) as config_file:\n",
    "        configuration = yaml.load(config_file, Loader = yaml.FullLoader)\n",
    "\n",
    "    # Output folder for the full workflow\n",
    "    output_folder = f\"{data_folder}/calpha_transitions/output/{system_name}/{features}\"\n",
    "\n",
    "    # Clean output folder\n",
    "    if os.path.exists(output_folder):\n",
    "        shutil.rmtree(output_folder)\n",
    "\n",
    "    ################\n",
    "    # Run workflow #\n",
    "    ################\n",
    "    deep_cartograph(\n",
    "        configuration = configuration,\n",
    "        trajectory_data = traj_path,\n",
    "        topology_data = top_path,\n",
    "        output_folder = output_folder)\n",
    "\n",
    "def compute_kde(feature_data: pd.DataFrame, bandwidth: float = 0.1, kernel: str = \"gaussian\") -> KernelDensity:\n",
    "    \"\"\"\n",
    "    Compute the Kernel Density Estimation for a data frame containing the time series of a single feature.\n",
    "\n",
    "    Parameters\n",
    "    ----------\n",
    "\n",
    "        feature_data    (pandas DataFrame):   data frame with the time series of a single feature\n",
    "        bandwith        (float):              bandwith for the KDE\n",
    "        kernel          (str):                kernel for the KDE\n",
    "    \n",
    "    Returns\n",
    "    -------\n",
    "\n",
    "        kde             (KernelDensity):       KDE object\n",
    "    \"\"\"\n",
    "\n",
    "    # Create the KDE object\n",
    "    kde = KernelDensity(kernel=kernel, bandwidth=bandwidth)\n",
    "\n",
    "    # Convert the data to a numpy array\n",
    "    data = feature_data.values.reshape(-1, 1)\n",
    "\n",
    "    # Fit the KDE\n",
    "    kde.fit(data)\n",
    "\n",
    "    return kde\n",
    "\n",
    "def show_filtering_results(colvars_path: str, filter_summary_path: str, N: int = 10, bandwidth: float = 0.1, kernel: str = \"gaussian\", alpha_level = 0.05):\n",
    "    \"\"\"\n",
    "    Function that shows a summary of the feature analysis. It shows:\n",
    "     \n",
    "       - The probability distribution of N randomly selected discarded features and N randomly selected filtered features. \n",
    "       - The distribution of the hartigan dip test (hdt) result for all the features\n",
    "    \n",
    "    Parameters\n",
    "    ----------\n",
    "    \n",
    "        colvars_path        (str): path to the colvars file with the time series of all features\n",
    "        filter_summary_path (str): path to the filter summary csv file with the results of the filter for each feature\n",
    "        N                   (int): number of features to show\n",
    "        bandwidth           (float): bandwidth for the KDE\n",
    "        kernel              (str): kernel for the KDE\n",
    "        alpha_level         (float): alpha level used for the hartigan dip test\n",
    "    \"\"\"\n",
    "\n",
    "    font_size = 14\n",
    "    \n",
    "    def get_kde_models(colvars_df: pd.DataFrame, names: list, bandwidth: float = 0.1, kernel: str = \"gaussian\") -> Tuple[Dict, List]:\n",
    "        \"\"\"\n",
    "        Get the KDE models for each feature in the list of names together with the maximum and minimum values across all features (to use as x-axis limits if needed)\n",
    "\n",
    "        Parameters\n",
    "        ----------\n",
    "\n",
    "            colvars_df  (pandas DataFrame):   data frame with the time series of all features\n",
    "            names       (list):                list of feature names\n",
    "            bandwidth   (float):               bandwidth for the KDE\n",
    "            kernel      (str):                 kernel for the KDE\n",
    "\n",
    "        Returns\n",
    "        -------\n",
    "\n",
    "            kde_models  (dict):                dictionary with the KDE models for each feature\n",
    "            features_range (list):             list with the maximum and minimum values across all features\n",
    "        \"\"\"\n",
    "        \n",
    "        kde_models = {}\n",
    "        features_range = [colvars_df[names[0]].min(), colvars_df[names[0]].max()]\n",
    "        for name in names:\n",
    "            feature_data = colvars_df[name]\n",
    "            kde = compute_kde(feature_data, bandwidth = bandwidth, kernel = kernel)\n",
    "            kde_models[name] = kde\n",
    "            features_range[0] = min(features_range[0], feature_data.min())\n",
    "            features_range[1] = max(features_range[1], feature_data.max())\n",
    "        \n",
    "        return kde_models, features_range\n",
    "\n",
    "    def plot_kde(data_df: pd.DataFrame, bandwidth: float = 0.01, kernel: str = \"gaussian\", x_label: str = \"x\", title: str = \"KDE\"):\n",
    "        \"\"\"\n",
    "        Plot the Kernel Density Estimation of a data frame with a single feature\n",
    "\n",
    "        Parameters\n",
    "        ----------\n",
    "\n",
    "            data_df     (pandas DataFrame):   data frame with the feature values\n",
    "            bandwidth   (float):               bandwidth for the KDE\n",
    "            kernel      (str):                 kernel for the KDE\n",
    "            x_label     (str):                 label for the x-axis\n",
    "            title       (str):                 title for the plot\n",
    "        \"\"\"\n",
    "\n",
    "        # Get the KDE model of the p-values\n",
    "        hdtp_kde = compute_kde(data_df, bandwidth = bandwidth, kernel = kernel)\n",
    "\n",
    "        # Generate x values to plot the KDE\n",
    "        x = np.linspace(data_df.min(), data_df.max(), 1000)\n",
    "\n",
    "        # Generate samples from the KDE model, compute the log density\n",
    "        log_dens = hdtp_kde.score_samples(x[:, None])\n",
    "\n",
    "        # Find the probability density\n",
    "        dens = np.exp(log_dens)\n",
    "\n",
    "        # Normalize the probability density\n",
    "        dens = dens / dens.sum()\n",
    "\n",
    "        # Create the figure\n",
    "        fig, ax = plt.subplots(figsize=(10, 6))\n",
    "\n",
    "        # Plot the KDE\n",
    "        ax.plot(x, dens)\n",
    "\n",
    "        # Create a new axis on the right side for the histogram\n",
    "        ax_hist = ax.twinx()\n",
    "\n",
    "        # Plot the 1D histogram of the p-values\n",
    "        ax_hist.hist(data_df, bins=200, density=True, alpha=0.2)\n",
    "\n",
    "        # Add vertical line at alpha_level\n",
    "        ax.axvline(x=alpha_level, color='r', linestyle='--')\n",
    "\n",
    "        # Add text with the alpha level\n",
    "        ax.text(alpha_level, max(dens) * 0.9, f\" alpha = {alpha_level}\", color='r', fontsize = font_size)\n",
    "\n",
    "        # Set size to tick labels\n",
    "        ax.tick_params(axis='both', which='major', labelsize=font_size)\n",
    "        ax_hist.tick_params(axis='both', which='major', labelsize=font_size)\n",
    "        \n",
    "        # Add limits\n",
    "        ax.set_xlim([0, 1])\n",
    "        ax.set_ylim([0, max(dens) + max(dens) * 0.1])\n",
    "\n",
    "        # Add title\n",
    "        ax.set_title(title, fontsize = font_size + 4)\n",
    "\n",
    "        # Add labels\n",
    "        ax.set_xlabel(x_label, fontsize = font_size)\n",
    "        ax.set_ylabel(\"Probability density\", fontsize = font_size)\n",
    "        ax_hist.set_ylabel(\"Histogram\", fontsize = font_size)\n",
    "\n",
    "        # Show the plot\n",
    "        plt.show()\n",
    "\n",
    "    def plot_feature_kdes(features_range: List, summary_df: pd.DataFrame, kde_models: Dict[str, KernelDensity], title: str):\n",
    "        \"\"\"\n",
    "        Plot the estimated probability distribution of the features using the KDE models. Add the p-value of the Hartigan's Dip Test \n",
    "        to the legend of each feature.\n",
    "\n",
    "        Parameters\n",
    "        ----------\n",
    "\n",
    "            features_range  (list):               list with the maximum and minimum values across all features\n",
    "            summary_df       (pandas DataFrame):  data frame with the sumary of the filter for the features (containing the name and the p-value of the Hartigan's Dip Test)\n",
    "            kde_models      (dict):               dictionary with the KDE models for each feature\n",
    "            title           (str):                title for the plot\n",
    "        \"\"\"\n",
    "        \n",
    "        sample_names = summary_df[\"name\"].values\n",
    "\n",
    "        # Generate x values to plot the KDEs\n",
    "        x = np.linspace(features_range[0], features_range[1], 1000)\n",
    "\n",
    "        # Create the figure\n",
    "        fig, ax = plt.subplots(figsize=(10, 6))\n",
    "\n",
    "        # Plot the probability distribution of each feature\n",
    "        max_density = 0\n",
    "        for name in sample_names:\n",
    "            \n",
    "            # Get the p-value of the Hartigan's Dip Test\n",
    "            p_value = summary_df[summary_df[\"name\"] == name][\"hdtp\"].values[0]\n",
    "\n",
    "            # Get the corresponding KDE model\n",
    "            kde_model = kde_models[name]\n",
    "\n",
    "            # Generate samples from the KDE model, compute the log density \n",
    "            log_dens = kde_model.score_samples(x[:, None])\n",
    "\n",
    "            # Plot the KDE\n",
    "            ax.plot(x, np.exp(log_dens), label=f\"{name} (p-value: {Decimal(p_value):.2E})\")\n",
    "\n",
    "            # Get the maximum density\n",
    "            max_density = max(max_density, np.exp(log_dens).max())\n",
    "\n",
    "        # Set the limits\n",
    "        plt.xlim(features_range) \n",
    "        plt.ylim([0, max_density + max_density * 0.1])\n",
    "        \n",
    "        # Add title\n",
    "        ax.set_title(title, fontsize = font_size + 4)\n",
    "\n",
    "        # Add labels\n",
    "        ax.set_xlabel(\"Feature value\", fontsize = font_size)\n",
    "        ax.set_ylabel(\"Probability density\", fontsize = font_size)\n",
    "\n",
    "        # Add legend\n",
    "        ax.legend(fontsize = font_size - 2)\n",
    "\n",
    "        # Set size to tick labels\n",
    "        ax.tick_params(axis='both', which='major', labelsize=font_size)\n",
    "\n",
    "        # Adjust the spacing between subplots\n",
    "        plt.tight_layout()\n",
    "\n",
    "        # Show the plot\n",
    "        plt.show()\n",
    "\n",
    "    # Try to load the colvars file\n",
    "    if not os.path.exists(colvars_path):\n",
    "        raise FileNotFoundError(f\"File {colvars_path} not found\")\n",
    "    try:\n",
    "        colvars_df = read_as_pandas(colvars_path)\n",
    "    except:\n",
    "        raise ValueError(f\"Could not read file {colvars_path}\")\n",
    "\n",
    "    # Try to load the filter summary file\n",
    "    if not os.path.exists(filter_summary_path):\n",
    "        raise FileNotFoundError(f\"File {filter_summary_path} not found\")\n",
    "    try:\n",
    "        filter_summary_df = pd.read_csv(filter_summary_path)\n",
    "    except:\n",
    "        raise ValueError(f\"Could not read file {filter_summary_path}\")\n",
    "\n",
    "    # Plot the KDE of the Hartigan Dip Test p-values for the features\n",
    "    plot_kde(filter_summary_df['hdtp'], bandwidth = 0.001, kernel = kernel, x_label = 'p-value', title = 'Hartigan Dip Test p-values')\n",
    "\n",
    "    # Get the discarded features summary df, those with pass = False in the filter summary\n",
    "    rejected_summary_df = filter_summary_df[filter_summary_df[\"pass\"] == False]\n",
    "\n",
    "    # Get the filtered features summary df, those with pass = True in the filter summary\n",
    "    accepted_summary_df = filter_summary_df[filter_summary_df[\"pass\"] == True]\n",
    "\n",
    "    # Get 10 random discarded features\n",
    "    sample_rejected_df = rejected_summary_df.sample(N)\n",
    "    sample_rejected_names = sample_rejected_df[\"name\"].values\n",
    "    \n",
    "    # Get the KDE models for the discarded features\n",
    "    rejected_kdes, rejected_range = get_kde_models(colvars_df, sample_rejected_names, bandwidth, kernel)\n",
    "\n",
    "    # Get 10 random filtered features\n",
    "    sample_accepted_df = accepted_summary_df.sample(N)\n",
    "    sample_accepted_names = sample_accepted_df[\"name\"].values\n",
    "\n",
    "    # Get the KDE models for the filtered features\n",
    "    accepted_kdes, accepted_range = get_kde_models(colvars_df, sample_accepted_names, bandwidth, kernel)\n",
    "\n",
    "    # Unify features range\n",
    "    features_range = [min(rejected_range[0], accepted_range[0]), max(rejected_range[1], accepted_range[1])]\n",
    "\n",
    "    # Plot the KDEs for the discarded features\n",
    "    plot_feature_kdes(features_range, sample_rejected_df, rejected_kdes, \"Discarded features\")\n",
    "\n",
    "    # Plot the KDEs for the filtered features\n",
    "    plot_feature_kdes(features_range, sample_accepted_df, accepted_kdes, \"Selected features\")\n",
    "\n",
    "def show_results(output_folder: str, model_name: str, system: str):\n",
    "    \"\"\"\n",
    "    Show the results for a specific model trained with deep cartograph\n",
    "\n",
    "    Inputs\n",
    "    ------\n",
    "\n",
    "        output_folder   (str):          path to the output folder\n",
    "        model_name      (str):          name of the model\n",
    "    \"\"\"\n",
    "\n",
    "    def show_score(score_path):\n",
    "        \"\"\"\n",
    "        Print score path in a nice format \n",
    "\n",
    "        Input\n",
    "        -----\n",
    "\n",
    "            score_path: path to the score file\n",
    "        \"\"\"\n",
    "\n",
    "        # Read score\n",
    "        with open(score_path, 'r') as file:\n",
    "            score = file.read()\n",
    "\n",
    "        # Print score in scientific notation\n",
    "        print(f\"Final model score: {Decimal(score):.4E}\")\n",
    "\n",
    "    def show_eigenvalues(eig_path):\n",
    "        \"\"\"\n",
    "        Print eigenvalues in a nice format\n",
    "\n",
    "        Input\n",
    "        -----\n",
    "\n",
    "            eig_path: path to the eigenvalues file\n",
    "        \"\"\"\n",
    "\n",
    "        # Read eigenvalues\n",
    "        with open(eig_path, 'r') as file:\n",
    "            eigenvalues = file.readlines()\n",
    "\n",
    "        # Print eigenvalues\n",
    "        for i, eig in enumerate(eigenvalues):\n",
    "            print(f\"Eigenvalue {i+1}: {Decimal(eig):.4E}\")\n",
    "    \n",
    "    # Show output folder\n",
    "    print(f\"Output folder: {output_folder}\")\n",
    "\n",
    "    # Training folder\n",
    "    training_folder = os.path.join(output_folder, 'train_colvars')\n",
    "\n",
    "    # Model folder\n",
    "    model_folder = os.path.join(training_folder, model_name)\n",
    "\n",
    "    # Show score if any\n",
    "    if model_name in ['ae', 'deep_tica']:\n",
    "        score_path = os.path.join(model_folder, 'model_score.txt')\n",
    "        if os.path.exists(score_path):\n",
    "            show_score(score_path)\n",
    "        else:\n",
    "            print(\"Score file not found\")\n",
    "\n",
    "    # Show eigenvalues if any\n",
    "    if model_name == 'deep_tica':\n",
    "        eig_path = os.path.join(model_folder, 'eigenvalues.txt')\n",
    "        if os.path.exists(eig_path):\n",
    "            show_eigenvalues(eig_path)\n",
    "        else:\n",
    "            print(\"Eigenvalues file not found\")\n",
    "            \n",
    "    # Paths to images\n",
    "    trajectory = os.path.join(model_folder, system, 'trajectory.png')\n",
    "    loss = os.path.join(model_folder, 'loss.png')\n",
    "    eigenvalues = os.path.join(model_folder, 'eigenvalues.png')\n",
    "    paths = [trajectory, loss, eigenvalues]\n",
    "\n",
    "    # Generate HTML image tags\n",
    "    timestamp = int(time.time()) # Add timestamp to avoid caching\n",
    "    images_html = [f'<img src=\"{path}?{timestamp}\" style=\"width: 600px; margin-right: 10px;\">' for path in paths if os.path.exists(path)]\n",
    "\n",
    "    # Display images\n",
    "    display(HTML(''.join(images_html)))\n",
    "    "
   ]
  },
  {
   "cell_type": "markdown",
   "metadata": {},
   "source": [
    "## 1rcs_B-3ssx_R-3\n",
    "\n",
    "The trajectory\n",
    "\n",
    "<center>\n",
    "    <video width=\"620\" height=\"440\" src=\"../../../deep_cartograph/data/calpha_transitions/input/1rcs_B-3ssx_R-3/trajectory.mp4\" controls> </video>\n",
    "</center>\n",
    "\n",
    "### Computing the features\n",
    "\n",
    "The first step is to compute a set of features invariant to rotation and translation that encode the trajectory in a lower dimensional space.\n",
    "There are several types of features available:\n",
    "\n",
    "- Pairwise distances between two selections of atoms\n",
    "- Dihedral angles\n",
    "- Distance to center of mass of a selection of atoms\n",
    "\n",
    "(More dictionaries of features will be added in the future)\n",
    "\n",
    "See the corresponding section in the YAML configuration file:\n",
    "\n",
    "```yaml\n",
    "compute_features:\n",
    "  plumed_settings:\n",
    "    traj_stride: 1\n",
    "    moltype: protein     \n",
    "    input_name: torsions \n",
    "    whole_molecule_selection: all\n",
    "    features:\n",
    "      dihedral_groups:\n",
    "        tor:\n",
    "          selection: \"all\"\n",
    "          periodic_encoding: True\n",
    "          search_mode: virtual\n",
    "          atoms_format: name\n",
    "  plumed_environment:          \n",
    "    bin_path: /path/to/plumed/binary                 \n",
    "    kernel_path: /path/to/lib/libplumedKernel.so  \n",
    "    env_commands: \n",
    "      - \"ml any_module_you_need\"\n",
    "```\n",
    "\n",
    "The `compute_features` section contains the plumed settings to compute the features and the definition of the plumed environment to run the calculations. The plumed settings include:\n",
    "\n",
    "- `traj_stride`: the stride to use when computing the features from the trajectory\n",
    "- `moltype`: the molecule type (see PLUMED docs)\n",
    "- `input_name`: the name of the input file to plumed\n",
    "- `whole_molecule_selection`: the selection of atoms to consider as a single entity (to image the trajectory appropriately and correct for periodic boundary conditions when computing distances)\n",
    "- `features`: a dictionary of dictionaries of features to compute. To see all the options in detail check the Schema in the `deep_cartograph/yaml_schemas/compute_features.py`.\n",
    "\n",
    "\n",
    "#### Step 1: Compute virtual torsion angles\n",
    "\n",
    "Pairwise distances between selections scale worse with system size than torsion angles. In addition, a collective variable that is a function of interatomic distances will probably present problems when used to bias a subsequent simulation. \n",
    "\n",
    "Here we will use virtual torsion angles between consecutive C-alpha atoms as the dictionary of features. "
   ]
  },
  {
   "cell_type": "code",
   "execution_count": 2,
   "metadata": {},
   "outputs": [
    {
     "name": "stderr",
     "output_type": "stream",
     "text": [
      "INFO:deep_cartograph:================\n",
      "INFO:deep_cartograph:Compute features\n",
      "INFO:deep_cartograph:================\n",
      "INFO:deep_cartograph:Trajectory file: /home/pnavarro/repos/NostrumBD/CV_learning/deep_cartograph/deep_cartograph/data/calpha_transitions/input/1rcs_B-3ssx_R-3/1rcs_B-3ssx_R-3.dcd\n",
      "/home/pnavarro/miniforge3/envs/deep_cartograph/lib/python3.10/site-packages/MDAnalysis/topology/PDBParser.py:317: UserWarning: Element information is missing, elements attribute will not be populated. If needed these can be guessed using MDAnalysis.topology.guessers.\n",
      "  warnings.warn(\"Element information is missing, elements attribute \"\n",
      "/home/pnavarro/miniforge3/envs/deep_cartograph/lib/python3.10/site-packages/MDAnalysis/coordinates/PDB.py:747: UserWarning: Unit cell dimensions not found. CRYST1 record set to unitary values.\n",
      "  warnings.warn(\"Unit cell dimensions not found. \"\n",
      "/home/pnavarro/miniforge3/envs/deep_cartograph/lib/python3.10/site-packages/MDAnalysis/coordinates/PDB.py:1078: UserWarning: Found no information for attr: 'elements' Using default value of ' '\n",
      "  warnings.warn(\"Found no information for attr: '{}'\"\n",
      "/home/pnavarro/miniforge3/envs/deep_cartograph/lib/python3.10/site-packages/MDAnalysis/coordinates/PDB.py:429: UserWarning: 1 A^3 CRYST1 record, this is usually a placeholder. Unit cell dimensions will be set to None.\n",
      "  warnings.warn(\"1 A^3 CRYST1 record,\"\n",
      "INFO:deep_cartograph.modules.plumed.input_file.input_file:Found 202 features for tor\n",
      "INFO:deep_cartograph.modules.plumed.utils:Executing PLUMED driver command: plumed driver --plumed /home/pnavarro/repos/NostrumBD/CV_learning/deep_cartograph/deep_cartograph/data/calpha_transitions/output/1rcs_B-3ssx_R-3/compute_features/torsions.dat --mf_dcd /home/pnavarro/repos/NostrumBD/CV_learning/deep_cartograph/deep_cartograph/data/calpha_transitions/input/1rcs_B-3ssx_R-3/1rcs_B-3ssx_R-3.dcd --natoms 104\n",
      "INFO:deep_cartograph:Elapsed time (Compute features): 00 h 00 min 00 s\n"
     ]
    }
   ],
   "source": [
    "from deep_cartograph import compute_features\n",
    "\n",
    "# Input trajectory and topology\n",
    "system_name = '1rcs_B-3ssx_R-3'\n",
    "input_path = f\"{data_folder}/calpha_transitions/input/{system_name}\"\n",
    "traj_path = os.path.join(input_path, f'{system_name}.dcd')\n",
    "top_path = os.path.join(input_path, f'{system_name}.pdb')\n",
    "\n",
    "# Input configuration\n",
    "config_path = f\"{data_folder}/calpha_transitions/input/torsions_config.yml\"\n",
    "\n",
    "with open(config_path) as config_file:\n",
    "    configuration = yaml.load(config_file, Loader = yaml.FullLoader)\n",
    "\n",
    "############################\n",
    "# Step 1: Compute features #\n",
    "############################\n",
    "\n",
    "# Output folder for this step\n",
    "output_path = f\"{data_folder}/calpha_transitions/output/{system_name}\"\n",
    "step1_folder = os.path.join(output_path, 'compute_features')\n",
    "\n",
    "# Clean step folder\n",
    "if os.path.exists(step1_folder):\n",
    "    shutil.rmtree(step1_folder)\n",
    "\n",
    "# Extract configuration for this step\n",
    "step1_configuration = configuration['compute_features']\n",
    "\n",
    "# Call API to compute features\n",
    "colvars_path = compute_features(\n",
    "        configuration = step1_configuration, \n",
    "        trajectory = traj_path, \n",
    "        topology = top_path, \n",
    "        output_folder = step1_folder)"
   ]
  },
  {
   "cell_type": "markdown",
   "metadata": {},
   "source": [
    "### Step 2: Filter the torsion angles\n",
    "\n",
    "In this example, the trajectory is already showing a transition between two states. If one is interested in deriving collective variables that can describe the conformational change, we can discard those features that are not perturbed during the transition. As they will be less informative and will add noise to the subsequent analysis.\n",
    "\n",
    "One of the filters that can be applied is the Hartigan's dip test for unimodality. This test can be used to discard features with an unimodal probability distribution, as they are less likely to be informative.\n",
    "\n",
    "See the corresponding section in the YAML configuration file:\n",
    "\n",
    "```yaml\n",
    "filter_features:       \n",
    "  filter_settings:\n",
    "    compute_diptest: True              \n",
    "    compute_entropy: False             \n",
    "    compute_std: False                \n",
    "    diptest_significance_level: 0.05   \n",
    "    entropy_quantile: 0                \n",
    "    std_quantile: 0                  \n",
    "```"
   ]
  },
  {
   "cell_type": "code",
   "execution_count": 3,
   "metadata": {},
   "outputs": [
    {
     "name": "stderr",
     "output_type": "stream",
     "text": [
      "INFO:deep_cartograph:==================\n",
      "INFO:deep_cartograph:Filtering features\n",
      "INFO:deep_cartograph:==================\n",
      "INFO:deep_cartograph:Finding the features that contains the most information about the transitions or conformational changes.\n",
      "INFO:deep_cartograph:The following algorithms are available:\n",
      "INFO:deep_cartograph:- Hartigan's dip test filter. Keeps features that are not unimodal.\n",
      "INFO:deep_cartograph:- Shannon entropy filter. Keeps features with entropy greater than a threshold.\n",
      "INFO:deep_cartograph:- Standard deviation filter. Keeps features with standard deviation greater than a threshold.\n",
      "INFO:deep_cartograph:Note that the all features must be in the same units to apply the entropy and standard deviation filters meaningfully.\n",
      "INFO:deep_cartograph:Initial size of features set: 202.\n",
      "INFO:deep_cartograph.tools.filter_features.filtering:Computing dip test.\n",
      "INFO:deep_cartograph.tools.filter_features.filtering:Filtered 148 features.\n",
      "INFO:deep_cartograph:Elapsed time (Filter features): 00 h 00 min 00 s\n"
     ]
    },
    {
     "data": {
      "image/png": "[encoded data removed]",
      "text/plain": [
       "<Figure size 1000x600 with 2 Axes>"
      ]
     },
     "metadata": {},
     "output_type": "display_data"
    },
    {
     "data": {
      "image/png": "[encoded data removed]",
      "text/plain": [
       "<Figure size 1000x600 with 1 Axes>"
      ]
     },
     "metadata": {},
     "output_type": "display_data"
    },
    {
     "data": {
      "image/png": "[encoded data removed]",
      "text/plain": [
       "<Figure size 1000x600 with 1 Axes>"
      ]
     },
     "metadata": {},
     "output_type": "display_data"
    }
   ],
   "source": [
    "from deep_cartograph import filter_features\n",
    "\n",
    "# Input configuration\n",
    "config_path = f\"{data_folder}/calpha_transitions/input/torsions_config.yml\"\n",
    "\n",
    "with open(config_path) as config_file:\n",
    "    configuration = yaml.load(config_file, Loader = yaml.FullLoader)\n",
    "    \n",
    "###########################\n",
    "# Step 2: Filter features #\n",
    "###########################\n",
    "\n",
    "# Output folder for this step\n",
    "step2_folder = os.path.join(output_path, 'filter_features')\n",
    "\n",
    "# Clean step folder\n",
    "if os.path.exists(step2_folder):\n",
    "    shutil.rmtree(step2_folder)\n",
    "\n",
    "# Extract configuration for this step\n",
    "step2_configuration = configuration['filter_features']\n",
    "\n",
    "# Call API to filter features\n",
    "filtered_features_path = filter_features(\n",
    "    configuration = step2_configuration,\n",
    "    colvars_paths = colvars_path,\n",
    "    csv_summary = True,\n",
    "    output_folder = step2_folder)\n",
    "\n",
    "filter_summary_path = os.path.join(step2_folder, 'filter_summary.csv')\n",
    "show_filtering_results(colvars_path, filter_summary_path, N = 3, bandwidth = 0.02, kernel = \"gaussian\")"
   ]
  },
  {
   "cell_type": "markdown",
   "metadata": {},
   "source": [
    "One can move the cutoff of the p-value to include more or less features."
   ]
  },
  {
   "cell_type": "markdown",
   "metadata": {},
   "source": [
    "#### Step 3: Compute Collective Variables\n",
    "\n",
    "We can use the filtered features to train or compute collective variables that can describe the transition. In this example, we compute a 2 dimensional collective variable using 4 different methods:\n",
    "\n",
    "- PCA\n",
    "- tICA\n",
    "- Autoencoder\n",
    "- Deep tICA or State free reversible VAMPnets (SRV)\n",
    "\n",
    "See the corresponding section in the YAML configuration file:\n",
    "\n",
    "```yaml\n",
    "train_colvars:\n",
    "  cvs: ['pca', 'deep_tica', 'tica', 'ae']\n",
    "  common:\n",
    "    dimension: 2\n",
    "    architecture:\n",
    "      hidden_layers: [5, 3]\n",
    "      lag_time: 1                        \n",
    "    training: \n",
    "      general:\n",
    "        max_tries: 10\n",
    "        seed: 42\n",
    "        lengths: [0.8, 0.2]\n",
    "        batch_size: 256\n",
    "        max_epochs: 10000\n",
    "        dropout: 0.1\n",
    "        shuffle: False\n",
    "        random_split: True\n",
    "        check_val_every_n_epoch: 1\n",
    "        save_check_every_n_epoch: 1\n",
    "      early_stopping:\n",
    "        patience: 20\n",
    "        min_delta: 1.0e-05\n",
    "      optimizer:\n",
    "        name: Adam\n",
    "        kwargs: \n",
    "          lr: 1.0e-02 \n",
    "          weight_decay: 0\n",
    "      lr_scheduler: null\n",
    "      save_loss: True\n",
    "      plot_loss: True\n",
    "``` \n"
   ]
  },
  {
   "cell_type": "code",
   "execution_count": 4,
   "metadata": {},
   "outputs": [
    {
     "name": "stderr",
     "output_type": "stream",
     "text": [
      "INFO:deep_cartograph.modules.common.common: Using features in /home/pnavarro/repos/NostrumBD/CV_learning/deep_cartograph/deep_cartograph/data/calpha_transitions/output/1rcs_B-3ssx_R-3/filter_features/filtered_features.txt\n",
      "INFO:deep_cartograph:================================\n",
      "INFO:deep_cartograph:Training of Collective Variables\n",
      "INFO:deep_cartograph:================================\n",
      "INFO:deep_cartograph:Training of collective variables using the mlcolvar library.\n",
      "INFO:deep_cartograph.tools.train_colvars.train_colvars_workflow:Collective variables to compute: ['pca', 'deep_tica', 'tica', 'ae']\n",
      "INFO:deep_cartograph.tools.train_colvars.cv_calculator:Reading training data from colvars files...\n",
      "INFO:deep_cartograph.tools.train_colvars.cv_calculator:Number of features: 54\n",
      "INFO:deep_cartograph.tools.train_colvars.cv_calculator:Number of samples: 164\n",
      "INFO:deep_cartograph.tools.train_colvars.cv_calculator:Calculating PCA ...\n",
      "INFO:deep_cartograph.tools.train_colvars.cv_calculator:Projecting reference data onto PCA ...\n",
      "INFO:deep_cartograph.tools.train_colvars.cv_calculator:Collective variable weights saved to /home/pnavarro/repos/NostrumBD/CV_learning/deep_cartograph/deep_cartograph/data/calpha_transitions/output/1rcs_B-3ssx_R-3/train_colvars/pca/weights.txt\n",
      "INFO:deep_cartograph.tools.train_colvars.train_colvars_workflow:Projecting colvars file: /home/pnavarro/repos/NostrumBD/CV_learning/deep_cartograph/deep_cartograph/data/calpha_transitions/output/1rcs_B-3ssx_R-3/compute_features/colvars.dat\n",
      "INFO:deep_cartograph.tools.train_colvars.train_colvars_workflow:Corresponding trajectory file: /home/pnavarro/repos/NostrumBD/CV_learning/deep_cartograph/deep_cartograph/data/calpha_transitions/input/1rcs_B-3ssx_R-3/1rcs_B-3ssx_R-3.dcd\n",
      "INFO:deep_cartograph.tools.train_colvars.train_colvars_workflow:Corresponding topology file: /home/pnavarro/repos/NostrumBD/CV_learning/deep_cartograph/deep_cartograph/data/calpha_transitions/input/1rcs_B-3ssx_R-3/1rcs_B-3ssx_R-3.pdb\n",
      "INFO:deep_cartograph.tools.train_colvars.cv_calculator:Projecting colvars features onto PCA ...\n",
      "INFO:deep_cartograph.modules.figures.figures:Computing FES(PC 1, PC 2)...\n",
      "/home/pnavarro/repos/NostrumBD/CV_learning/deep_cartograph/deep_cartograph/modules/figures/figures.py:129: UserWarning: No artists with labels found to put in legend.  Note that artists whose label start with an underscore are ignored when legend() is called with no argument.\n",
      "  ax.legend(fontsize = font_size)\n",
      "INFO:deep_cartograph.modules.statistics.statistics:Best number of clusters: 5\n",
      "/home/pnavarro/miniforge3/envs/deep_cartograph/lib/python3.10/site-packages/MDAnalysis/topology/PDBParser.py:317: UserWarning: Element information is missing, elements attribute will not be populated. If needed these can be guessed using MDAnalysis.topology.guessers.\n",
      "  warnings.warn(\"Element information is missing, elements attribute \"\n",
      "INFO:deep_cartograph.modules.md.md:Number of clusters: 5\n",
      "INFO:deep_cartograph.modules.md.md:Number of centroids: 5\n",
      "/home/pnavarro/miniforge3/envs/deep_cartograph/lib/python3.10/site-packages/MDAnalysis/coordinates/PDB.py:747: UserWarning: Unit cell dimensions not found. CRYST1 record set to unitary values.\n",
      "  warnings.warn(\"Unit cell dimensions not found. \"\n",
      "/home/pnavarro/miniforge3/envs/deep_cartograph/lib/python3.10/site-packages/MDAnalysis/coordinates/PDB.py:1078: UserWarning: Found no information for attr: 'elements' Using default value of ' '\n",
      "  warnings.warn(\"Found no information for attr: '{}'\"\n",
      "/home/pnavarro/miniforge3/envs/deep_cartograph/lib/python3.10/site-packages/seaborn/axisgrid.py:1832: UserWarning: Numpy array is not a supported type for `palette`. Please convert your palette to a list. This will become an error in v0.14\n",
      "  func(x=self.x, y=self.y, **kwargs)\n",
      "INFO:deep_cartograph.tools.train_colvars.cv_calculator:Reading training data from colvars files...\n",
      "INFO:deep_cartograph.tools.train_colvars.cv_calculator:Number of features: 54\n",
      "/home/pnavarro/repos/mlcolvar/mlcolvar/utils/timelagged.py:140: UserWarning: Monitoring the progress for the search of time-lagged configurations with a progress_bar requires `tqdm`.\n",
      "  warnings.warn(\n",
      "/home/pnavarro/repos/mlcolvar/mlcolvar/utils/timelagged.py:186: UserWarning: Creating a tensor from a list of numpy.ndarrays is extremely slow. Please consider converting the list to a single numpy.ndarray with numpy.array() before converting to a tensor. (Triggered internally at ../torch/csrc/utils/tensor_new.cpp:275.)\n",
      "  x_t = torch.stack(x_t) if type(x) == torch.Tensor else torch.Tensor(x_t)\n",
      "INFO:deep_cartograph.tools.train_colvars.cv_calculator:Number of samples: 161\n",
      "INFO:deep_cartograph.tools.train_colvars.cv_calculator:Calculating DeepTICA ...\n",
      "WARNING:deep_cartograph.tools.train_colvars.cv_calculator:The batch size is larger than the number of samples in the training set. \n",
      "                           Setting the batch size to the closest power of two: 128\n",
      "INFO:deep_cartograph.tools.train_colvars.cv_calculator:Training DeepTICA ...\n",
      "INFO:deep_cartograph.tools.train_colvars.cv_calculator:Model architecture: DeepTICA(\n",
      "  (loss_fn): ReduceEigenvaluesLoss()\n",
      "  (norm_in): Normalization(in_features=54, out_features=54, mode=mean_std)\n",
      "  (nn): FeedForward(\n",
      "    (nn): Sequential(\n",
      "      (0): Linear(in_features=54, out_features=5, bias=True)\n",
      "      (1): Shifted_Softplus(beta=1, threshold=20)\n",
      "      (2): Dropout(p=0.1, inplace=False)\n",
      "      (3): Linear(in_features=5, out_features=3, bias=True)\n",
      "      (4): Shifted_Softplus(beta=1, threshold=20)\n",
      "      (5): Dropout(p=0.1, inplace=False)\n",
      "      (6): Linear(in_features=3, out_features=2, bias=True)\n",
      "    )\n",
      "  )\n",
      "  (tica): TICA(in_features=2, out_features=2)\n",
      ")\n",
      "GPU available: False, used: False\n",
      "TPU available: False, using: 0 TPU cores\n",
      "HPU available: False, using: 0 HPUs\n",
      "\n",
      "  | Name    | Type                  | Params | Mode  | In sizes | Out sizes\n",
      "---------------------------------------------------------------------------------\n",
      "0 | loss_fn | ReduceEigenvaluesLoss | 0      | train | ?        | ?        \n",
      "1 | norm_in | Normalization         | 0      | train | [1, 54]  | [1, 54]  \n",
      "2 | nn      | FeedForward           | 301    | train | [1, 54]  | [1, 2]   \n",
      "3 | tica    | TICA                  | 0      | train | [1, 2]   | [1, 2]   \n",
      "---------------------------------------------------------------------------------\n",
      "301       Trainable params\n",
      "0         Non-trainable params\n",
      "301       Total params\n",
      "0.001     Total estimated model params size (MB)\n",
      "INFO:deep_cartograph.tools.train_colvars.cv_calculator:Best model score: -1.9534595012664795\n",
      "/home/pnavarro/repos/mlcolvar/mlcolvar/utils/plot.py:254: UserWarning: Data has no positive values, and therefore cannot be log-scaled.\n",
      "  ax.set_yscale(yscale)\n",
      "INFO:deep_cartograph.tools.train_colvars.cv_calculator:Projecting reference data onto DeepTICA ...\n",
      "INFO:deep_cartograph.tools.train_colvars.cv_calculator:Took 1 epochs\n",
      "INFO:deep_cartograph.tools.train_colvars.cv_calculator:Eigenvalue 1: 1.0008667707443237\n",
      "INFO:deep_cartograph.tools.train_colvars.cv_calculator:Eigenvalue 2: 0.9755640625953674\n",
      "/home/pnavarro/repos/mlcolvar/mlcolvar/core/nn/utils.py:13: TracerWarning: Converting a tensor to a Python number might cause the trace to be incorrect. We can't record the data flow of Python values, so this value will be treated as a constant in the future. This means that the trace might not generalize to other inputs!\n",
      "  sp0 = F.softplus(torch.zeros(1), self.beta, self.threshold).item()\n",
      "INFO:deep_cartograph.tools.train_colvars.cv_calculator:Collective variable weights saved to /home/pnavarro/repos/NostrumBD/CV_learning/deep_cartograph/deep_cartograph/data/calpha_transitions/output/1rcs_B-3ssx_R-3/train_colvars/deep_tica/weights.ptc\n",
      "INFO:deep_cartograph.tools.train_colvars.train_colvars_workflow:Projecting colvars file: /home/pnavarro/repos/NostrumBD/CV_learning/deep_cartograph/deep_cartograph/data/calpha_transitions/output/1rcs_B-3ssx_R-3/compute_features/colvars.dat\n",
      "INFO:deep_cartograph.tools.train_colvars.train_colvars_workflow:Corresponding trajectory file: /home/pnavarro/repos/NostrumBD/CV_learning/deep_cartograph/deep_cartograph/data/calpha_transitions/input/1rcs_B-3ssx_R-3/1rcs_B-3ssx_R-3.dcd\n",
      "INFO:deep_cartograph.tools.train_colvars.train_colvars_workflow:Corresponding topology file: /home/pnavarro/repos/NostrumBD/CV_learning/deep_cartograph/deep_cartograph/data/calpha_transitions/input/1rcs_B-3ssx_R-3/1rcs_B-3ssx_R-3.pdb\n",
      "INFO:deep_cartograph.tools.train_colvars.cv_calculator:Projecting features onto DeepTICA ...\n",
      "INFO:deep_cartograph.modules.figures.figures:Computing FES(DeepTIC 1, DeepTIC 2)...\n",
      "/home/pnavarro/repos/NostrumBD/CV_learning/deep_cartograph/deep_cartograph/modules/figures/figures.py:129: UserWarning: No artists with labels found to put in legend.  Note that artists whose label start with an underscore are ignored when legend() is called with no argument.\n",
      "  ax.legend(fontsize = font_size)\n",
      "INFO:deep_cartograph.modules.statistics.statistics:Best number of clusters: 5\n",
      "/home/pnavarro/miniforge3/envs/deep_cartograph/lib/python3.10/site-packages/MDAnalysis/topology/PDBParser.py:317: UserWarning: Element information is missing, elements attribute will not be populated. If needed these can be guessed using MDAnalysis.topology.guessers.\n",
      "  warnings.warn(\"Element information is missing, elements attribute \"\n",
      "INFO:deep_cartograph.modules.md.md:Number of clusters: 5\n",
      "INFO:deep_cartograph.modules.md.md:Number of centroids: 5\n",
      "/home/pnavarro/miniforge3/envs/deep_cartograph/lib/python3.10/site-packages/MDAnalysis/coordinates/PDB.py:747: UserWarning: Unit cell dimensions not found. CRYST1 record set to unitary values.\n",
      "  warnings.warn(\"Unit cell dimensions not found. \"\n",
      "/home/pnavarro/miniforge3/envs/deep_cartograph/lib/python3.10/site-packages/MDAnalysis/coordinates/PDB.py:1078: UserWarning: Found no information for attr: 'elements' Using default value of ' '\n",
      "  warnings.warn(\"Found no information for attr: '{}'\"\n",
      "/home/pnavarro/miniforge3/envs/deep_cartograph/lib/python3.10/site-packages/seaborn/axisgrid.py:1832: UserWarning: Numpy array is not a supported type for `palette`. Please convert your palette to a list. This will become an error in v0.14\n",
      "  func(x=self.x, y=self.y, **kwargs)\n",
      "INFO:deep_cartograph.tools.train_colvars.cv_calculator:Reading training data from colvars files...\n",
      "INFO:deep_cartograph.tools.train_colvars.cv_calculator:Number of features: 54\n",
      "/home/pnavarro/repos/mlcolvar/mlcolvar/utils/timelagged.py:140: UserWarning: Monitoring the progress for the search of time-lagged configurations with a progress_bar requires `tqdm`.\n",
      "  warnings.warn(\n",
      "INFO:deep_cartograph.tools.train_colvars.cv_calculator:Number of samples: 161\n",
      "INFO:deep_cartograph.tools.train_colvars.cv_calculator:Calculating TICA ...\n",
      "/home/pnavarro/repos/mlcolvar/mlcolvar/core/stats/utils.py:224: UserWarning: The use of `x.T` on tensors of dimension other than 2 to reverse their shape is deprecated and it will throw an error in a future release. Consider `x.mT` to transpose batches of matrices or `x.permute(*torch.arange(x.ndim - 1, -1, -1))` to reverse the dimensions of a tensor. (Triggered internally at ../aten/src/ATen/native/TensorShape.cpp:3637.)\n",
      "  ave = torch.mean(x.T, 1, keepdim=False).T\n",
      "INFO:deep_cartograph.tools.train_colvars.cv_calculator:Projecting reference data onto TICA ...\n",
      "INFO:deep_cartograph.tools.train_colvars.cv_calculator:Collective variable weights saved to /home/pnavarro/repos/NostrumBD/CV_learning/deep_cartograph/deep_cartograph/data/calpha_transitions/output/1rcs_B-3ssx_R-3/train_colvars/tica/weights.txt\n",
      "INFO:deep_cartograph.tools.train_colvars.train_colvars_workflow:Projecting colvars file: /home/pnavarro/repos/NostrumBD/CV_learning/deep_cartograph/deep_cartograph/data/calpha_transitions/output/1rcs_B-3ssx_R-3/compute_features/colvars.dat\n",
      "INFO:deep_cartograph.tools.train_colvars.train_colvars_workflow:Corresponding trajectory file: /home/pnavarro/repos/NostrumBD/CV_learning/deep_cartograph/deep_cartograph/data/calpha_transitions/input/1rcs_B-3ssx_R-3/1rcs_B-3ssx_R-3.dcd\n",
      "INFO:deep_cartograph.tools.train_colvars.train_colvars_workflow:Corresponding topology file: /home/pnavarro/repos/NostrumBD/CV_learning/deep_cartograph/deep_cartograph/data/calpha_transitions/input/1rcs_B-3ssx_R-3/1rcs_B-3ssx_R-3.pdb\n",
      "INFO:deep_cartograph.tools.train_colvars.cv_calculator:Projecting colvars features onto TICA ...\n",
      "INFO:deep_cartograph.modules.figures.figures:Computing FES(TIC 1, TIC 2)...\n",
      "/home/pnavarro/repos/NostrumBD/CV_learning/deep_cartograph/deep_cartograph/modules/figures/figures.py:129: UserWarning: No artists with labels found to put in legend.  Note that artists whose label start with an underscore are ignored when legend() is called with no argument.\n",
      "  ax.legend(fontsize = font_size)\n",
      "INFO:deep_cartograph.modules.statistics.statistics:Best number of clusters: 7\n",
      "/home/pnavarro/miniforge3/envs/deep_cartograph/lib/python3.10/site-packages/MDAnalysis/topology/PDBParser.py:317: UserWarning: Element information is missing, elements attribute will not be populated. If needed these can be guessed using MDAnalysis.topology.guessers.\n",
      "  warnings.warn(\"Element information is missing, elements attribute \"\n",
      "INFO:deep_cartograph.modules.md.md:Number of clusters: 7\n",
      "INFO:deep_cartograph.modules.md.md:Number of centroids: 7\n",
      "/home/pnavarro/miniforge3/envs/deep_cartograph/lib/python3.10/site-packages/MDAnalysis/coordinates/PDB.py:747: UserWarning: Unit cell dimensions not found. CRYST1 record set to unitary values.\n",
      "  warnings.warn(\"Unit cell dimensions not found. \"\n",
      "/home/pnavarro/miniforge3/envs/deep_cartograph/lib/python3.10/site-packages/MDAnalysis/coordinates/PDB.py:1078: UserWarning: Found no information for attr: 'elements' Using default value of ' '\n",
      "  warnings.warn(\"Found no information for attr: '{}'\"\n",
      "/home/pnavarro/miniforge3/envs/deep_cartograph/lib/python3.10/site-packages/seaborn/axisgrid.py:1832: UserWarning: Numpy array is not a supported type for `palette`. Please convert your palette to a list. This will become an error in v0.14\n",
      "  func(x=self.x, y=self.y, **kwargs)\n",
      "INFO:deep_cartograph.tools.train_colvars.cv_calculator:Reading training data from colvars files...\n",
      "INFO:deep_cartograph.tools.train_colvars.cv_calculator:Number of features: 54\n",
      "INFO:deep_cartograph.tools.train_colvars.cv_calculator:Number of samples: 164\n",
      "INFO:deep_cartograph.tools.train_colvars.cv_calculator:Calculating AE ...\n",
      "WARNING:deep_cartograph.tools.train_colvars.cv_calculator:The batch size is larger than the number of samples in the training set. \n",
      "                           Setting the batch size to the closest power of two: 128\n",
      "INFO:deep_cartograph.tools.train_colvars.cv_calculator:Training AE ...\n",
      "INFO:deep_cartograph.tools.train_colvars.cv_calculator:Model architecture: AutoEncoderCV(\n",
      "  (loss_fn): MSELoss()\n",
      "  (norm_in): Normalization(in_features=54, out_features=54, mode=mean_std)\n",
      "  (encoder): FeedForward(\n",
      "    (nn): Sequential(\n",
      "      (0): Linear(in_features=54, out_features=5, bias=True)\n",
      "      (1): Shifted_Softplus(beta=1, threshold=20)\n",
      "      (2): Dropout(p=0.1, inplace=False)\n",
      "      (3): Linear(in_features=5, out_features=3, bias=True)\n",
      "      (4): Shifted_Softplus(beta=1, threshold=20)\n",
      "      (5): Dropout(p=0.1, inplace=False)\n",
      "      (6): Linear(in_features=3, out_features=2, bias=True)\n",
      "    )\n",
      "  )\n",
      "  (decoder): FeedForward(\n",
      "    (nn): Sequential(\n",
      "      (0): Linear(in_features=2, out_features=3, bias=True)\n",
      "      (1): Shifted_Softplus(beta=1, threshold=20)\n",
      "      (2): Dropout(p=0.1, inplace=False)\n",
      "      (3): Linear(in_features=3, out_features=5, bias=True)\n",
      "      (4): Shifted_Softplus(beta=1, threshold=20)\n",
      "      (5): Dropout(p=0.1, inplace=False)\n",
      "      (6): Linear(in_features=5, out_features=54, bias=True)\n",
      "    )\n",
      "  )\n",
      ")\n",
      "GPU available: False, used: False\n",
      "TPU available: False, using: 0 TPU cores\n",
      "HPU available: False, using: 0 HPUs\n",
      "\n",
      "  | Name    | Type          | Params | Mode  | In sizes | Out sizes\n",
      "-------------------------------------------------------------------------\n",
      "0 | loss_fn | MSELoss       | 0      | train | ?        | ?        \n",
      "1 | norm_in | Normalization | 0      | train | [1, 54]  | [1, 54]  \n",
      "2 | encoder | FeedForward   | 301    | train | [1, 54]  | [1, 2]   \n",
      "3 | decoder | FeedForward   | 353    | train | ?        | ?        \n",
      "-------------------------------------------------------------------------\n",
      "654       Trainable params\n",
      "0         Non-trainable params\n",
      "654       Total params\n",
      "0.003     Total estimated model params size (MB)\n",
      "INFO:deep_cartograph.tools.train_colvars.cv_calculator:Best model score: 0.03162259981036186\n",
      "INFO:deep_cartograph.tools.train_colvars.cv_calculator:Projecting reference data onto AE ...\n",
      "/home/pnavarro/repos/mlcolvar/mlcolvar/core/nn/utils.py:13: TracerWarning: Converting a tensor to a Python number might cause the trace to be incorrect. We can't record the data flow of Python values, so this value will be treated as a constant in the future. This means that the trace might not generalize to other inputs!\n",
      "  sp0 = F.softplus(torch.zeros(1), self.beta, self.threshold).item()\n",
      "INFO:deep_cartograph.tools.train_colvars.cv_calculator:Collective variable weights saved to /home/pnavarro/repos/NostrumBD/CV_learning/deep_cartograph/deep_cartograph/data/calpha_transitions/output/1rcs_B-3ssx_R-3/train_colvars/ae/weights.ptc\n",
      "INFO:deep_cartograph.tools.train_colvars.train_colvars_workflow:Projecting colvars file: /home/pnavarro/repos/NostrumBD/CV_learning/deep_cartograph/deep_cartograph/data/calpha_transitions/output/1rcs_B-3ssx_R-3/compute_features/colvars.dat\n",
      "INFO:deep_cartograph.tools.train_colvars.train_colvars_workflow:Corresponding trajectory file: /home/pnavarro/repos/NostrumBD/CV_learning/deep_cartograph/deep_cartograph/data/calpha_transitions/input/1rcs_B-3ssx_R-3/1rcs_B-3ssx_R-3.dcd\n",
      "INFO:deep_cartograph.tools.train_colvars.train_colvars_workflow:Corresponding topology file: /home/pnavarro/repos/NostrumBD/CV_learning/deep_cartograph/deep_cartograph/data/calpha_transitions/input/1rcs_B-3ssx_R-3/1rcs_B-3ssx_R-3.pdb\n",
      "INFO:deep_cartograph.tools.train_colvars.cv_calculator:Projecting features onto AE ...\n",
      "INFO:deep_cartograph.modules.figures.figures:Computing FES(AE 1, AE 2)...\n",
      "/home/pnavarro/repos/NostrumBD/CV_learning/deep_cartograph/deep_cartograph/modules/figures/figures.py:129: UserWarning: No artists with labels found to put in legend.  Note that artists whose label start with an underscore are ignored when legend() is called with no argument.\n",
      "  ax.legend(fontsize = font_size)\n",
      "INFO:deep_cartograph.modules.statistics.statistics:Best number of clusters: 15\n",
      "/home/pnavarro/miniforge3/envs/deep_cartograph/lib/python3.10/site-packages/MDAnalysis/topology/PDBParser.py:317: UserWarning: Element information is missing, elements attribute will not be populated. If needed these can be guessed using MDAnalysis.topology.guessers.\n",
      "  warnings.warn(\"Element information is missing, elements attribute \"\n",
      "INFO:deep_cartograph.modules.md.md:Number of clusters: 15\n",
      "INFO:deep_cartograph.modules.md.md:Number of centroids: 15\n",
      "/home/pnavarro/miniforge3/envs/deep_cartograph/lib/python3.10/site-packages/MDAnalysis/coordinates/PDB.py:747: UserWarning: Unit cell dimensions not found. CRYST1 record set to unitary values.\n",
      "  warnings.warn(\"Unit cell dimensions not found. \"\n",
      "/home/pnavarro/miniforge3/envs/deep_cartograph/lib/python3.10/site-packages/MDAnalysis/coordinates/PDB.py:1078: UserWarning: Found no information for attr: 'elements' Using default value of ' '\n",
      "  warnings.warn(\"Found no information for attr: '{}'\"\n",
      "/home/pnavarro/miniforge3/envs/deep_cartograph/lib/python3.10/site-packages/seaborn/axisgrid.py:1832: UserWarning: Numpy array is not a supported type for `palette`. Please convert your palette to a list. This will become an error in v0.14\n",
      "  func(x=self.x, y=self.y, **kwargs)\n",
      "INFO:deep_cartograph:Elapsed time (Train colvars): 00 h 00 min 24 s\n"
     ]
    },
    {
     "data": {
      "text/plain": [
       "<Figure size 640x480 with 0 Axes>"
      ]
     },
     "metadata": {},
     "output_type": "display_data"
    },
    {
     "data": {
      "text/plain": [
       "<Figure size 500x400 with 0 Axes>"
      ]
     },
     "metadata": {},
     "output_type": "display_data"
    },
    {
     "data": {
      "text/plain": [
       "<Figure size 500x400 with 0 Axes>"
      ]
     },
     "metadata": {},
     "output_type": "display_data"
    },
    {
     "data": {
      "text/plain": [
       "<Figure size 640x480 with 0 Axes>"
      ]
     },
     "metadata": {},
     "output_type": "display_data"
    },
    {
     "data": {
      "text/plain": [
       "<Figure size 640x480 with 0 Axes>"
      ]
     },
     "metadata": {},
     "output_type": "display_data"
    },
    {
     "data": {
      "text/plain": [
       "<Figure size 500x400 with 0 Axes>"
      ]
     },
     "metadata": {},
     "output_type": "display_data"
    },
    {
     "data": {
      "text/plain": [
       "<Figure size 640x480 with 0 Axes>"
      ]
     },
     "metadata": {},
     "output_type": "display_data"
    }
   ],
   "source": [
    "from deep_cartograph import train_colvars\n",
    "from deep_cartograph.modules.common import read_feature_constraints\n",
    "\n",
    "# Input configuration\n",
    "config_path = f\"{data_folder}/calpha_transitions/input/torsions_config.yml\"\n",
    "\n",
    "with open(config_path) as config_file:\n",
    "    configuration = yaml.load(config_file, Loader = yaml.FullLoader)\n",
    "    \n",
    "#########################\n",
    "# Step 3: Train colvars #\n",
    "#########################\n",
    "\n",
    "# Output folder for this step\n",
    "step3_folder = os.path.join(output_path, 'train_colvars')\n",
    "\n",
    "# Clean step folder\n",
    "if os.path.exists(step3_folder):\n",
    "    shutil.rmtree(step3_folder)\n",
    "\n",
    "# Extract configuration for this step\n",
    "step3_configuration = configuration['train_colvars']\n",
    "\n",
    "# Read feature constraints\n",
    "filtered_features = read_feature_constraints(filtered_features_path)\n",
    "\n",
    "# Call API to train colvars\n",
    "train_colvars(\n",
    "    configuration = step3_configuration,\n",
    "    colvars_paths = colvars_path,\n",
    "    feature_constraints = filtered_features,  \n",
    "    output_folder = step3_folder,\n",
    "    trajectories=[traj_path],\n",
    "    topologies=[top_path])"
   ]
  },
  {
   "cell_type": "markdown",
   "metadata": {},
   "source": [
    "#### PCA\n",
    "\n",
    "The projection of the trajectory onto the first two principal components is shown below."
   ]
  },
  {
   "cell_type": "code",
   "execution_count": 5,
   "metadata": {},
   "outputs": [
    {
     "name": "stdout",
     "output_type": "stream",
     "text": [
      "Output folder: /home/pnavarro/repos/NostrumBD/CV_learning/deep_cartograph/deep_cartograph/data/calpha_transitions/output/1rcs_B-3ssx_R-3\n"
     ]
    },
    {
     "data": {
      "text/html": [
       "<img src=\"/home/pnavarro/repos/NostrumBD/CV_learning/deep_cartograph/deep_cartograph/data/calpha_transitions/output/1rcs_B-3ssx_R-3/train_colvars/pca/1rcs_B-3ssx_R-3/trajectory.png?1732796887\" style=\"width: 600px; margin-right: 10px;\">"
      ],
      "text/plain": [
       "<IPython.core.display.HTML object>"
      ]
     },
     "metadata": {},
     "output_type": "display_data"
    }
   ],
   "source": [
    "show_results(output_path, model_name = 'pca', system = system_name)"
   ]
  },
  {
   "cell_type": "markdown",
   "metadata": {},
   "source": [
    "#### AE"
   ]
  },
  {
   "cell_type": "code",
   "execution_count": 6,
   "metadata": {},
   "outputs": [
    {
     "name": "stdout",
     "output_type": "stream",
     "text": [
      "Output folder: /home/pnavarro/repos/NostrumBD/CV_learning/deep_cartograph/deep_cartograph/data/calpha_transitions/output/1rcs_B-3ssx_R-3\n",
      "Final model score: 3.1623E-2\n"
     ]
    },
    {
     "data": {
      "text/html": [
       "<img src=\"/home/pnavarro/repos/NostrumBD/CV_learning/deep_cartograph/deep_cartograph/data/calpha_transitions/output/1rcs_B-3ssx_R-3/train_colvars/ae/1rcs_B-3ssx_R-3/trajectory.png?1732796887\" style=\"width: 600px; margin-right: 10px;\"><img src=\"/home/pnavarro/repos/NostrumBD/CV_learning/deep_cartograph/deep_cartograph/data/calpha_transitions/output/1rcs_B-3ssx_R-3/train_colvars/ae/loss.png?1732796887\" style=\"width: 600px; margin-right: 10px;\">"
      ],
      "text/plain": [
       "<IPython.core.display.HTML object>"
      ]
     },
     "metadata": {},
     "output_type": "display_data"
    }
   ],
   "source": [
    "show_results(output_path, model_name = 'ae', system = system_name)"
   ]
  },
  {
   "cell_type": "markdown",
   "metadata": {},
   "source": [
    "- When all the points are on the diagonal, it means that both components of the AE are the same. A sign that the AE doesn't need two dimensions to describe the transition or that the training could be improved."
   ]
  },
  {
   "cell_type": "markdown",
   "metadata": {},
   "source": [
    "#### TICA"
   ]
  },
  {
   "cell_type": "code",
   "execution_count": 7,
   "metadata": {},
   "outputs": [
    {
     "name": "stdout",
     "output_type": "stream",
     "text": [
      "Output folder: /home/pnavarro/repos/NostrumBD/CV_learning/deep_cartograph/deep_cartograph/data/calpha_transitions/output/1rcs_B-3ssx_R-3\n"
     ]
    },
    {
     "data": {
      "text/html": [
       "<img src=\"/home/pnavarro/repos/NostrumBD/CV_learning/deep_cartograph/deep_cartograph/data/calpha_transitions/output/1rcs_B-3ssx_R-3/train_colvars/tica/1rcs_B-3ssx_R-3/trajectory.png?1732796887\" style=\"width: 600px; margin-right: 10px;\">"
      ],
      "text/plain": [
       "<IPython.core.display.HTML object>"
      ]
     },
     "metadata": {},
     "output_type": "display_data"
    }
   ],
   "source": [
    "show_results(output_path, model_name = 'tica', system = system_name)"
   ]
  },
  {
   "cell_type": "markdown",
   "metadata": {},
   "source": [
    "#### Deep TICA"
   ]
  },
  {
   "cell_type": "code",
   "execution_count": 8,
   "metadata": {},
   "outputs": [
    {
     "name": "stdout",
     "output_type": "stream",
     "text": [
      "Output folder: /home/pnavarro/repos/NostrumBD/CV_learning/deep_cartograph/deep_cartograph/data/calpha_transitions/output/1rcs_B-3ssx_R-3\n",
      "Final model score: -1.9535E+0\n",
      "Eigenvalue 1: 1.0009E+0\n",
      "Eigenvalue 2: 9.7556E-1\n"
     ]
    },
    {
     "data": {
      "text/html": [
       "<img src=\"/home/pnavarro/repos/NostrumBD/CV_learning/deep_cartograph/deep_cartograph/data/calpha_transitions/output/1rcs_B-3ssx_R-3/train_colvars/deep_tica/1rcs_B-3ssx_R-3/trajectory.png?1732796887\" style=\"width: 600px; margin-right: 10px;\"><img src=\"/home/pnavarro/repos/NostrumBD/CV_learning/deep_cartograph/deep_cartograph/data/calpha_transitions/output/1rcs_B-3ssx_R-3/train_colvars/deep_tica/loss.png?1732796887\" style=\"width: 600px; margin-right: 10px;\"><img src=\"/home/pnavarro/repos/NostrumBD/CV_learning/deep_cartograph/deep_cartograph/data/calpha_transitions/output/1rcs_B-3ssx_R-3/train_colvars/deep_tica/eigenvalues.png?1732796887\" style=\"width: 600px; margin-right: 10px;\">"
      ],
      "text/plain": [
       "<IPython.core.display.HTML object>"
      ]
     },
     "metadata": {},
     "output_type": "display_data"
    }
   ],
   "source": [
    "show_results(output_path, model_name = 'deep_tica', system = system_name)"
   ]
  },
  {
   "cell_type": "code",
   "execution_count": 9,
   "metadata": {},
   "outputs": [],
   "source": [
    "# Clean previous step folders\n",
    "if os.path.exists(step1_folder):\n",
    "    shutil.rmtree(step1_folder)\n",
    "if os.path.exists(step2_folder):\n",
    "    shutil.rmtree(step2_folder)\n",
    "if os.path.exists(step3_folder):\n",
    "    shutil.rmtree(step3_folder)"
   ]
  },
  {
   "cell_type": "markdown",
   "metadata": {},
   "source": [
    "The previous three steps can be run seamlessly using the main API of the package."
   ]
  },
  {
   "cell_type": "code",
   "execution_count": 10,
   "metadata": {},
   "outputs": [
    {
     "name": "stderr",
     "output_type": "stream",
     "text": [
      "INFO:deep_cartograph:================\n",
      "INFO:deep_cartograph:Compute features\n",
      "INFO:deep_cartograph:================\n",
      "INFO:deep_cartograph:Trajectory file: /home/pnavarro/repos/NostrumBD/CV_learning/deep_cartograph/deep_cartograph/data/calpha_transitions/input/1rcs_B-3ssx_R-3/1rcs_B-3ssx_R-3.dcd\n"
     ]
    },
    {
     "name": "stderr",
     "output_type": "stream",
     "text": [
      "/home/pnavarro/miniforge3/envs/deep_cartograph/lib/python3.10/site-packages/MDAnalysis/topology/PDBParser.py:317: UserWarning: Element information is missing, elements attribute will not be populated. If needed these can be guessed using MDAnalysis.topology.guessers.\n",
      "  warnings.warn(\"Element information is missing, elements attribute \"\n",
      "/home/pnavarro/miniforge3/envs/deep_cartograph/lib/python3.10/site-packages/MDAnalysis/coordinates/PDB.py:747: UserWarning: Unit cell dimensions not found. CRYST1 record set to unitary values.\n",
      "  warnings.warn(\"Unit cell dimensions not found. \"\n",
      "/home/pnavarro/miniforge3/envs/deep_cartograph/lib/python3.10/site-packages/MDAnalysis/coordinates/PDB.py:1078: UserWarning: Found no information for attr: 'elements' Using default value of ' '\n",
      "  warnings.warn(\"Found no information for attr: '{}'\"\n",
      "/home/pnavarro/miniforge3/envs/deep_cartograph/lib/python3.10/site-packages/MDAnalysis/coordinates/PDB.py:429: UserWarning: 1 A^3 CRYST1 record, this is usually a placeholder. Unit cell dimensions will be set to None.\n",
      "  warnings.warn(\"1 A^3 CRYST1 record,\"\n",
      "INFO:deep_cartograph.modules.plumed.input_file.input_file:Found 202 features for tor\n",
      "INFO:deep_cartograph.modules.plumed.utils:Executing PLUMED driver command: plumed driver --plumed /home/pnavarro/repos/NostrumBD/CV_learning/deep_cartograph/deep_cartograph/data/calpha_transitions/output/1rcs_B-3ssx_R-3/torsions/compute_features/1rcs_B-3ssx_R-3/torsions.dat --mf_dcd /home/pnavarro/repos/NostrumBD/CV_learning/deep_cartograph/deep_cartograph/data/calpha_transitions/input/1rcs_B-3ssx_R-3/1rcs_B-3ssx_R-3.dcd --natoms 104\n",
      "INFO:deep_cartograph:Elapsed time (Compute features): 00 h 00 min 00 s\n",
      "INFO:deep_cartograph:==================\n",
      "INFO:deep_cartograph:Filtering features\n",
      "INFO:deep_cartograph:==================\n",
      "INFO:deep_cartograph:Finding the features that contains the most information about the transitions or conformational changes.\n",
      "INFO:deep_cartograph:The following algorithms are available:\n",
      "INFO:deep_cartograph:- Hartigan's dip test filter. Keeps features that are not unimodal.\n",
      "INFO:deep_cartograph:- Shannon entropy filter. Keeps features with entropy greater than a threshold.\n",
      "INFO:deep_cartograph:- Standard deviation filter. Keeps features with standard deviation greater than a threshold.\n",
      "INFO:deep_cartograph:Note that the all features must be in the same units to apply the entropy and standard deviation filters meaningfully.\n",
      "INFO:deep_cartograph:Initial size of features set: 202.\n",
      "INFO:deep_cartograph.tools.filter_features.filtering:Computing dip test.\n",
      "INFO:deep_cartograph.tools.filter_features.filtering:Filtered 148 features.\n",
      "INFO:deep_cartograph:Elapsed time (Filter features): 00 h 00 min 00 s\n",
      "INFO:deep_cartograph.modules.common.common: Using features in /home/pnavarro/repos/NostrumBD/CV_learning/deep_cartograph/deep_cartograph/data/calpha_transitions/output/1rcs_B-3ssx_R-3/torsions/filter_features/filtered_features.txt\n",
      "INFO:deep_cartograph:================================\n",
      "INFO:deep_cartograph:Training of Collective Variables\n",
      "INFO:deep_cartograph:================================\n",
      "INFO:deep_cartograph:Training of collective variables using the mlcolvar library.\n",
      "INFO:deep_cartograph.tools.train_colvars.train_colvars_workflow:Collective variables to compute: ['pca', 'deep_tica', 'tica', 'ae']\n",
      "INFO:deep_cartograph.tools.train_colvars.cv_calculator:Reading training data from colvars files...\n",
      "INFO:deep_cartograph.tools.train_colvars.cv_calculator:Number of features: 54\n",
      "INFO:deep_cartograph.tools.train_colvars.cv_calculator:Number of samples: 164\n",
      "INFO:deep_cartograph.tools.train_colvars.cv_calculator:Calculating PCA ...\n",
      "INFO:deep_cartograph.tools.train_colvars.cv_calculator:Projecting reference data onto PCA ...\n",
      "INFO:deep_cartograph.tools.train_colvars.cv_calculator:Collective variable weights saved to /home/pnavarro/repos/NostrumBD/CV_learning/deep_cartograph/deep_cartograph/data/calpha_transitions/output/1rcs_B-3ssx_R-3/torsions/train_colvars/pca/weights.txt\n",
      "INFO:deep_cartograph.tools.train_colvars.train_colvars_workflow:Projecting colvars file: /home/pnavarro/repos/NostrumBD/CV_learning/deep_cartograph/deep_cartograph/data/calpha_transitions/output/1rcs_B-3ssx_R-3/torsions/compute_features/1rcs_B-3ssx_R-3/colvars.dat\n",
      "INFO:deep_cartograph.tools.train_colvars.train_colvars_workflow:Corresponding trajectory file: /home/pnavarro/repos/NostrumBD/CV_learning/deep_cartograph/deep_cartograph/data/calpha_transitions/input/1rcs_B-3ssx_R-3/1rcs_B-3ssx_R-3.dcd\n",
      "INFO:deep_cartograph.tools.train_colvars.train_colvars_workflow:Corresponding topology file: /home/pnavarro/repos/NostrumBD/CV_learning/deep_cartograph/deep_cartograph/data/calpha_transitions/input/1rcs_B-3ssx_R-3/1rcs_B-3ssx_R-3.pdb\n",
      "INFO:deep_cartograph.tools.train_colvars.cv_calculator:Projecting colvars features onto PCA ...\n",
      "INFO:deep_cartograph.modules.figures.figures:Computing FES(PC 1, PC 2)...\n",
      "/home/pnavarro/repos/NostrumBD/CV_learning/deep_cartograph/deep_cartograph/modules/figures/figures.py:129: UserWarning: No artists with labels found to put in legend.  Note that artists whose label start with an underscore are ignored when legend() is called with no argument.\n",
      "  ax.legend(fontsize = font_size)\n",
      "INFO:deep_cartograph.modules.statistics.statistics:Best number of clusters: 5\n",
      "/home/pnavarro/miniforge3/envs/deep_cartograph/lib/python3.10/site-packages/MDAnalysis/topology/PDBParser.py:317: UserWarning: Element information is missing, elements attribute will not be populated. If needed these can be guessed using MDAnalysis.topology.guessers.\n",
      "  warnings.warn(\"Element information is missing, elements attribute \"\n",
      "INFO:deep_cartograph.modules.md.md:Number of clusters: 5\n",
      "INFO:deep_cartograph.modules.md.md:Number of centroids: 5\n",
      "/home/pnavarro/miniforge3/envs/deep_cartograph/lib/python3.10/site-packages/MDAnalysis/coordinates/PDB.py:747: UserWarning: Unit cell dimensions not found. CRYST1 record set to unitary values.\n",
      "  warnings.warn(\"Unit cell dimensions not found. \"\n",
      "/home/pnavarro/miniforge3/envs/deep_cartograph/lib/python3.10/site-packages/MDAnalysis/coordinates/PDB.py:1078: UserWarning: Found no information for attr: 'elements' Using default value of ' '\n",
      "  warnings.warn(\"Found no information for attr: '{}'\"\n",
      "/home/pnavarro/miniforge3/envs/deep_cartograph/lib/python3.10/site-packages/seaborn/axisgrid.py:1832: UserWarning: Numpy array is not a supported type for `palette`. Please convert your palette to a list. This will become an error in v0.14\n",
      "  func(x=self.x, y=self.y, **kwargs)\n",
      "INFO:deep_cartograph.tools.train_colvars.cv_calculator:Reading training data from colvars files...\n",
      "INFO:deep_cartograph.tools.train_colvars.cv_calculator:Number of features: 54\n",
      "/home/pnavarro/repos/mlcolvar/mlcolvar/utils/timelagged.py:140: UserWarning: Monitoring the progress for the search of time-lagged configurations with a progress_bar requires `tqdm`.\n",
      "  warnings.warn(\n",
      "INFO:deep_cartograph.tools.train_colvars.cv_calculator:Number of samples: 161\n",
      "INFO:deep_cartograph.tools.train_colvars.cv_calculator:Calculating DeepTICA ...\n",
      "WARNING:deep_cartograph.tools.train_colvars.cv_calculator:The batch size is larger than the number of samples in the training set. \n",
      "                           Setting the batch size to the closest power of two: 128\n",
      "INFO:deep_cartograph.tools.train_colvars.cv_calculator:Training DeepTICA ...\n",
      "INFO:deep_cartograph.tools.train_colvars.cv_calculator:Model architecture: DeepTICA(\n",
      "  (loss_fn): ReduceEigenvaluesLoss()\n",
      "  (norm_in): Normalization(in_features=54, out_features=54, mode=mean_std)\n",
      "  (nn): FeedForward(\n",
      "    (nn): Sequential(\n",
      "      (0): Linear(in_features=54, out_features=5, bias=True)\n",
      "      (1): Shifted_Softplus(beta=1, threshold=20)\n",
      "      (2): Dropout(p=0.1, inplace=False)\n",
      "      (3): Linear(in_features=5, out_features=3, bias=True)\n",
      "      (4): Shifted_Softplus(beta=1, threshold=20)\n",
      "      (5): Dropout(p=0.1, inplace=False)\n",
      "      (6): Linear(in_features=3, out_features=2, bias=True)\n",
      "    )\n",
      "  )\n",
      "  (tica): TICA(in_features=2, out_features=2)\n",
      ")\n",
      "GPU available: False, used: False\n",
      "TPU available: False, using: 0 TPU cores\n",
      "HPU available: False, using: 0 HPUs\n",
      "\n",
      "  | Name    | Type                  | Params | Mode  | In sizes | Out sizes\n",
      "---------------------------------------------------------------------------------\n",
      "0 | loss_fn | ReduceEigenvaluesLoss | 0      | train | ?        | ?        \n",
      "1 | norm_in | Normalization         | 0      | train | [1, 54]  | [1, 54]  \n",
      "2 | nn      | FeedForward           | 301    | train | [1, 54]  | [1, 2]   \n",
      "3 | tica    | TICA                  | 0      | train | [1, 2]   | [1, 2]   \n",
      "---------------------------------------------------------------------------------\n",
      "301       Trainable params\n",
      "0         Non-trainable params\n",
      "301       Total params\n",
      "0.001     Total estimated model params size (MB)\n",
      "INFO:deep_cartograph.tools.train_colvars.cv_calculator:Best model score: -1.9534595012664795\n",
      "/home/pnavarro/repos/mlcolvar/mlcolvar/utils/plot.py:254: UserWarning: Data has no positive values, and therefore cannot be log-scaled.\n",
      "  ax.set_yscale(yscale)\n",
      "INFO:deep_cartograph.tools.train_colvars.cv_calculator:Projecting reference data onto DeepTICA ...\n",
      "INFO:deep_cartograph.tools.train_colvars.cv_calculator:Took 1 epochs\n",
      "INFO:deep_cartograph.tools.train_colvars.cv_calculator:Eigenvalue 1: 1.0008667707443237\n",
      "INFO:deep_cartograph.tools.train_colvars.cv_calculator:Eigenvalue 2: 0.9755640625953674\n",
      "/home/pnavarro/repos/mlcolvar/mlcolvar/core/nn/utils.py:13: TracerWarning: Converting a tensor to a Python number might cause the trace to be incorrect. We can't record the data flow of Python values, so this value will be treated as a constant in the future. This means that the trace might not generalize to other inputs!\n",
      "  sp0 = F.softplus(torch.zeros(1), self.beta, self.threshold).item()\n",
      "INFO:deep_cartograph.tools.train_colvars.cv_calculator:Collective variable weights saved to /home/pnavarro/repos/NostrumBD/CV_learning/deep_cartograph/deep_cartograph/data/calpha_transitions/output/1rcs_B-3ssx_R-3/torsions/train_colvars/deep_tica/weights.ptc\n",
      "INFO:deep_cartograph.tools.train_colvars.train_colvars_workflow:Projecting colvars file: /home/pnavarro/repos/NostrumBD/CV_learning/deep_cartograph/deep_cartograph/data/calpha_transitions/output/1rcs_B-3ssx_R-3/torsions/compute_features/1rcs_B-3ssx_R-3/colvars.dat\n",
      "INFO:deep_cartograph.tools.train_colvars.train_colvars_workflow:Corresponding trajectory file: /home/pnavarro/repos/NostrumBD/CV_learning/deep_cartograph/deep_cartograph/data/calpha_transitions/input/1rcs_B-3ssx_R-3/1rcs_B-3ssx_R-3.dcd\n",
      "INFO:deep_cartograph.tools.train_colvars.train_colvars_workflow:Corresponding topology file: /home/pnavarro/repos/NostrumBD/CV_learning/deep_cartograph/deep_cartograph/data/calpha_transitions/input/1rcs_B-3ssx_R-3/1rcs_B-3ssx_R-3.pdb\n",
      "INFO:deep_cartograph.tools.train_colvars.cv_calculator:Projecting features onto DeepTICA ...\n",
      "INFO:deep_cartograph.modules.figures.figures:Computing FES(DeepTIC 1, DeepTIC 2)...\n",
      "/home/pnavarro/repos/NostrumBD/CV_learning/deep_cartograph/deep_cartograph/modules/figures/figures.py:129: UserWarning: No artists with labels found to put in legend.  Note that artists whose label start with an underscore are ignored when legend() is called with no argument.\n",
      "  ax.legend(fontsize = font_size)\n",
      "INFO:deep_cartograph.modules.statistics.statistics:Best number of clusters: 5\n",
      "/home/pnavarro/miniforge3/envs/deep_cartograph/lib/python3.10/site-packages/MDAnalysis/topology/PDBParser.py:317: UserWarning: Element information is missing, elements attribute will not be populated. If needed these can be guessed using MDAnalysis.topology.guessers.\n",
      "  warnings.warn(\"Element information is missing, elements attribute \"\n",
      "INFO:deep_cartograph.modules.md.md:Number of clusters: 5\n",
      "INFO:deep_cartograph.modules.md.md:Number of centroids: 5\n",
      "/home/pnavarro/miniforge3/envs/deep_cartograph/lib/python3.10/site-packages/MDAnalysis/coordinates/PDB.py:747: UserWarning: Unit cell dimensions not found. CRYST1 record set to unitary values.\n",
      "  warnings.warn(\"Unit cell dimensions not found. \"\n",
      "/home/pnavarro/miniforge3/envs/deep_cartograph/lib/python3.10/site-packages/MDAnalysis/coordinates/PDB.py:1078: UserWarning: Found no information for attr: 'elements' Using default value of ' '\n",
      "  warnings.warn(\"Found no information for attr: '{}'\"\n",
      "/home/pnavarro/miniforge3/envs/deep_cartograph/lib/python3.10/site-packages/seaborn/axisgrid.py:1832: UserWarning: Numpy array is not a supported type for `palette`. Please convert your palette to a list. This will become an error in v0.14\n",
      "  func(x=self.x, y=self.y, **kwargs)\n",
      "INFO:deep_cartograph.tools.train_colvars.cv_calculator:Reading training data from colvars files...\n",
      "INFO:deep_cartograph.tools.train_colvars.cv_calculator:Number of features: 54\n",
      "/home/pnavarro/repos/mlcolvar/mlcolvar/utils/timelagged.py:140: UserWarning: Monitoring the progress for the search of time-lagged configurations with a progress_bar requires `tqdm`.\n",
      "  warnings.warn(\n",
      "INFO:deep_cartograph.tools.train_colvars.cv_calculator:Number of samples: 161\n",
      "INFO:deep_cartograph.tools.train_colvars.cv_calculator:Calculating TICA ...\n",
      "INFO:deep_cartograph.tools.train_colvars.cv_calculator:Projecting reference data onto TICA ...\n",
      "INFO:deep_cartograph.tools.train_colvars.cv_calculator:Collective variable weights saved to /home/pnavarro/repos/NostrumBD/CV_learning/deep_cartograph/deep_cartograph/data/calpha_transitions/output/1rcs_B-3ssx_R-3/torsions/train_colvars/tica/weights.txt\n",
      "INFO:deep_cartograph.tools.train_colvars.train_colvars_workflow:Projecting colvars file: /home/pnavarro/repos/NostrumBD/CV_learning/deep_cartograph/deep_cartograph/data/calpha_transitions/output/1rcs_B-3ssx_R-3/torsions/compute_features/1rcs_B-3ssx_R-3/colvars.dat\n",
      "INFO:deep_cartograph.tools.train_colvars.train_colvars_workflow:Corresponding trajectory file: /home/pnavarro/repos/NostrumBD/CV_learning/deep_cartograph/deep_cartograph/data/calpha_transitions/input/1rcs_B-3ssx_R-3/1rcs_B-3ssx_R-3.dcd\n",
      "INFO:deep_cartograph.tools.train_colvars.train_colvars_workflow:Corresponding topology file: /home/pnavarro/repos/NostrumBD/CV_learning/deep_cartograph/deep_cartograph/data/calpha_transitions/input/1rcs_B-3ssx_R-3/1rcs_B-3ssx_R-3.pdb\n",
      "INFO:deep_cartograph.tools.train_colvars.cv_calculator:Projecting colvars features onto TICA ...\n",
      "INFO:deep_cartograph.modules.figures.figures:Computing FES(TIC 1, TIC 2)...\n",
      "/home/pnavarro/repos/NostrumBD/CV_learning/deep_cartograph/deep_cartograph/modules/figures/figures.py:129: UserWarning: No artists with labels found to put in legend.  Note that artists whose label start with an underscore are ignored when legend() is called with no argument.\n",
      "  ax.legend(fontsize = font_size)\n",
      "INFO:deep_cartograph.modules.statistics.statistics:Best number of clusters: 7\n",
      "/home/pnavarro/miniforge3/envs/deep_cartograph/lib/python3.10/site-packages/MDAnalysis/topology/PDBParser.py:317: UserWarning: Element information is missing, elements attribute will not be populated. If needed these can be guessed using MDAnalysis.topology.guessers.\n",
      "  warnings.warn(\"Element information is missing, elements attribute \"\n",
      "INFO:deep_cartograph.modules.md.md:Number of clusters: 7\n",
      "INFO:deep_cartograph.modules.md.md:Number of centroids: 7\n",
      "/home/pnavarro/miniforge3/envs/deep_cartograph/lib/python3.10/site-packages/MDAnalysis/coordinates/PDB.py:747: UserWarning: Unit cell dimensions not found. CRYST1 record set to unitary values.\n",
      "  warnings.warn(\"Unit cell dimensions not found. \"\n",
      "/home/pnavarro/miniforge3/envs/deep_cartograph/lib/python3.10/site-packages/MDAnalysis/coordinates/PDB.py:1078: UserWarning: Found no information for attr: 'elements' Using default value of ' '\n",
      "  warnings.warn(\"Found no information for attr: '{}'\"\n",
      "/home/pnavarro/miniforge3/envs/deep_cartograph/lib/python3.10/site-packages/seaborn/axisgrid.py:1832: UserWarning: Numpy array is not a supported type for `palette`. Please convert your palette to a list. This will become an error in v0.14\n",
      "  func(x=self.x, y=self.y, **kwargs)\n",
      "INFO:deep_cartograph.tools.train_colvars.cv_calculator:Reading training data from colvars files...\n",
      "INFO:deep_cartograph.tools.train_colvars.cv_calculator:Number of features: 54\n",
      "INFO:deep_cartograph.tools.train_colvars.cv_calculator:Number of samples: 164\n",
      "INFO:deep_cartograph.tools.train_colvars.cv_calculator:Calculating AE ...\n",
      "WARNING:deep_cartograph.tools.train_colvars.cv_calculator:The batch size is larger than the number of samples in the training set. \n",
      "                           Setting the batch size to the closest power of two: 128\n",
      "INFO:deep_cartograph.tools.train_colvars.cv_calculator:Training AE ...\n",
      "INFO:deep_cartograph.tools.train_colvars.cv_calculator:Model architecture: AutoEncoderCV(\n",
      "  (loss_fn): MSELoss()\n",
      "  (norm_in): Normalization(in_features=54, out_features=54, mode=mean_std)\n",
      "  (encoder): FeedForward(\n",
      "    (nn): Sequential(\n",
      "      (0): Linear(in_features=54, out_features=5, bias=True)\n",
      "      (1): Shifted_Softplus(beta=1, threshold=20)\n",
      "      (2): Dropout(p=0.1, inplace=False)\n",
      "      (3): Linear(in_features=5, out_features=3, bias=True)\n",
      "      (4): Shifted_Softplus(beta=1, threshold=20)\n",
      "      (5): Dropout(p=0.1, inplace=False)\n",
      "      (6): Linear(in_features=3, out_features=2, bias=True)\n",
      "    )\n",
      "  )\n",
      "  (decoder): FeedForward(\n",
      "    (nn): Sequential(\n",
      "      (0): Linear(in_features=2, out_features=3, bias=True)\n",
      "      (1): Shifted_Softplus(beta=1, threshold=20)\n",
      "      (2): Dropout(p=0.1, inplace=False)\n",
      "      (3): Linear(in_features=3, out_features=5, bias=True)\n",
      "      (4): Shifted_Softplus(beta=1, threshold=20)\n",
      "      (5): Dropout(p=0.1, inplace=False)\n",
      "      (6): Linear(in_features=5, out_features=54, bias=True)\n",
      "    )\n",
      "  )\n",
      ")\n",
      "GPU available: False, used: False\n",
      "TPU available: False, using: 0 TPU cores\n",
      "HPU available: False, using: 0 HPUs\n",
      "\n",
      "  | Name    | Type          | Params | Mode  | In sizes | Out sizes\n",
      "-------------------------------------------------------------------------\n",
      "0 | loss_fn | MSELoss       | 0      | train | ?        | ?        \n",
      "1 | norm_in | Normalization | 0      | train | [1, 54]  | [1, 54]  \n",
      "2 | encoder | FeedForward   | 301    | train | [1, 54]  | [1, 2]   \n",
      "3 | decoder | FeedForward   | 353    | train | ?        | ?        \n",
      "-------------------------------------------------------------------------\n",
      "654       Trainable params\n",
      "0         Non-trainable params\n",
      "654       Total params\n",
      "0.003     Total estimated model params size (MB)\n",
      "INFO:deep_cartograph.tools.train_colvars.cv_calculator:Best model score: 0.03162259981036186\n",
      "INFO:deep_cartograph.tools.train_colvars.cv_calculator:Projecting reference data onto AE ...\n",
      "/home/pnavarro/repos/mlcolvar/mlcolvar/core/nn/utils.py:13: TracerWarning: Converting a tensor to a Python number might cause the trace to be incorrect. We can't record the data flow of Python values, so this value will be treated as a constant in the future. This means that the trace might not generalize to other inputs!\n",
      "  sp0 = F.softplus(torch.zeros(1), self.beta, self.threshold).item()\n",
      "INFO:deep_cartograph.tools.train_colvars.cv_calculator:Collective variable weights saved to /home/pnavarro/repos/NostrumBD/CV_learning/deep_cartograph/deep_cartograph/data/calpha_transitions/output/1rcs_B-3ssx_R-3/torsions/train_colvars/ae/weights.ptc\n",
      "INFO:deep_cartograph.tools.train_colvars.train_colvars_workflow:Projecting colvars file: /home/pnavarro/repos/NostrumBD/CV_learning/deep_cartograph/deep_cartograph/data/calpha_transitions/output/1rcs_B-3ssx_R-3/torsions/compute_features/1rcs_B-3ssx_R-3/colvars.dat\n",
      "INFO:deep_cartograph.tools.train_colvars.train_colvars_workflow:Corresponding trajectory file: /home/pnavarro/repos/NostrumBD/CV_learning/deep_cartograph/deep_cartograph/data/calpha_transitions/input/1rcs_B-3ssx_R-3/1rcs_B-3ssx_R-3.dcd\n",
      "INFO:deep_cartograph.tools.train_colvars.train_colvars_workflow:Corresponding topology file: /home/pnavarro/repos/NostrumBD/CV_learning/deep_cartograph/deep_cartograph/data/calpha_transitions/input/1rcs_B-3ssx_R-3/1rcs_B-3ssx_R-3.pdb\n",
      "INFO:deep_cartograph.tools.train_colvars.cv_calculator:Projecting features onto AE ...\n",
      "INFO:deep_cartograph.modules.figures.figures:Computing FES(AE 1, AE 2)...\n",
      "/home/pnavarro/repos/NostrumBD/CV_learning/deep_cartograph/deep_cartograph/modules/figures/figures.py:129: UserWarning: No artists with labels found to put in legend.  Note that artists whose label start with an underscore are ignored when legend() is called with no argument.\n",
      "  ax.legend(fontsize = font_size)\n",
      "INFO:deep_cartograph.modules.statistics.statistics:Best number of clusters: 15\n",
      "/home/pnavarro/miniforge3/envs/deep_cartograph/lib/python3.10/site-packages/MDAnalysis/topology/PDBParser.py:317: UserWarning: Element information is missing, elements attribute will not be populated. If needed these can be guessed using MDAnalysis.topology.guessers.\n",
      "  warnings.warn(\"Element information is missing, elements attribute \"\n",
      "INFO:deep_cartograph.modules.md.md:Number of clusters: 15\n",
      "INFO:deep_cartograph.modules.md.md:Number of centroids: 15\n",
      "/home/pnavarro/miniforge3/envs/deep_cartograph/lib/python3.10/site-packages/MDAnalysis/coordinates/PDB.py:747: UserWarning: Unit cell dimensions not found. CRYST1 record set to unitary values.\n",
      "  warnings.warn(\"Unit cell dimensions not found. \"\n",
      "/home/pnavarro/miniforge3/envs/deep_cartograph/lib/python3.10/site-packages/MDAnalysis/coordinates/PDB.py:1078: UserWarning: Found no information for attr: 'elements' Using default value of ' '\n",
      "  warnings.warn(\"Found no information for attr: '{}'\"\n",
      "/home/pnavarro/miniforge3/envs/deep_cartograph/lib/python3.10/site-packages/seaborn/axisgrid.py:1832: UserWarning: Numpy array is not a supported type for `palette`. Please convert your palette to a list. This will become an error in v0.14\n",
      "  func(x=self.x, y=self.y, **kwargs)\n",
      "INFO:deep_cartograph:Elapsed time (Train colvars): 00 h 00 min 24 s\n",
      "INFO:deep_cartograph:Total elapsed time: 00 h 00 min 24 s\n"
     ]
    },
    {
     "data": {
      "text/plain": [
       "<Figure size 640x480 with 0 Axes>"
      ]
     },
     "metadata": {},
     "output_type": "display_data"
    },
    {
     "data": {
      "text/plain": [
       "<Figure size 500x400 with 0 Axes>"
      ]
     },
     "metadata": {},
     "output_type": "display_data"
    },
    {
     "data": {
      "text/plain": [
       "<Figure size 500x400 with 0 Axes>"
      ]
     },
     "metadata": {},
     "output_type": "display_data"
    },
    {
     "data": {
      "text/plain": [
       "<Figure size 640x480 with 0 Axes>"
      ]
     },
     "metadata": {},
     "output_type": "display_data"
    },
    {
     "data": {
      "text/plain": [
       "<Figure size 640x480 with 0 Axes>"
      ]
     },
     "metadata": {},
     "output_type": "display_data"
    },
    {
     "data": {
      "text/plain": [
       "<Figure size 500x400 with 0 Axes>"
      ]
     },
     "metadata": {},
     "output_type": "display_data"
    },
    {
     "data": {
      "text/plain": [
       "<Figure size 640x480 with 0 Axes>"
      ]
     },
     "metadata": {},
     "output_type": "display_data"
    }
   ],
   "source": [
    "features = 'torsions'\n",
    "run_deep_cartograph(features, system_name)"
   ]
  },
  {
   "cell_type": "markdown",
   "metadata": {},
   "source": [
    "### Using distances as features"
   ]
  },
  {
   "cell_type": "code",
   "execution_count": 11,
   "metadata": {},
   "outputs": [
    {
     "name": "stderr",
     "output_type": "stream",
     "text": [
      "INFO:deep_cartograph:================\n",
      "INFO:deep_cartograph:Compute features\n",
      "INFO:deep_cartograph:================\n",
      "INFO:deep_cartograph:Trajectory file: /home/pnavarro/repos/NostrumBD/CV_learning/deep_cartograph/deep_cartograph/data/calpha_transitions/input/1rcs_B-3ssx_R-3/1rcs_B-3ssx_R-3.dcd\n",
      "/home/pnavarro/miniforge3/envs/deep_cartograph/lib/python3.10/site-packages/MDAnalysis/topology/PDBParser.py:317: UserWarning: Element information is missing, elements attribute will not be populated. If needed these can be guessed using MDAnalysis.topology.guessers.\n",
      "  warnings.warn(\"Element information is missing, elements attribute \"\n",
      "/home/pnavarro/miniforge3/envs/deep_cartograph/lib/python3.10/site-packages/MDAnalysis/coordinates/PDB.py:747: UserWarning: Unit cell dimensions not found. CRYST1 record set to unitary values.\n",
      "  warnings.warn(\"Unit cell dimensions not found. \"\n",
      "/home/pnavarro/miniforge3/envs/deep_cartograph/lib/python3.10/site-packages/MDAnalysis/coordinates/PDB.py:1078: UserWarning: Found no information for attr: 'elements' Using default value of ' '\n",
      "  warnings.warn(\"Found no information for attr: '{}'\"\n",
      "/home/pnavarro/miniforge3/envs/deep_cartograph/lib/python3.10/site-packages/MDAnalysis/coordinates/PDB.py:429: UserWarning: 1 A^3 CRYST1 record, this is usually a placeholder. Unit cell dimensions will be set to None.\n",
      "  warnings.warn(\"1 A^3 CRYST1 record,\"\n",
      "WARNING:deep_cartograph.modules.md.md:Provided topology does not contain bonds. Bonds will be guessed using a distance criterion (bond_length < 2.0). Distances between bonded atoms will be excluded.\n",
      "WARNING:deep_cartograph.modules.md.md:Distances between atoms in the same residue or neighboring residues will be included. These are unlikely to contain relevant information. To exclude them use 'skip_neigh_residues: True'.\n",
      "INFO:deep_cartograph.modules.plumed.input_file.input_file:Found 119 features for dist\n",
      "INFO:deep_cartograph.modules.plumed.utils:Executing PLUMED driver command: plumed driver --plumed /home/pnavarro/repos/NostrumBD/CV_learning/deep_cartograph/deep_cartograph/data/calpha_transitions/output/1rcs_B-3ssx_R-3/distances/compute_features/1rcs_B-3ssx_R-3/distances.dat --mf_dcd /home/pnavarro/repos/NostrumBD/CV_learning/deep_cartograph/deep_cartograph/data/calpha_transitions/input/1rcs_B-3ssx_R-3/1rcs_B-3ssx_R-3.dcd --natoms 104\n",
      "INFO:deep_cartograph:Elapsed time (Compute features): 00 h 00 min 00 s\n",
      "INFO:deep_cartograph:==================\n",
      "INFO:deep_cartograph:Filtering features\n",
      "INFO:deep_cartograph:==================\n",
      "INFO:deep_cartograph:Finding the features that contains the most information about the transitions or conformational changes.\n",
      "INFO:deep_cartograph:The following algorithms are available:\n",
      "INFO:deep_cartograph:- Hartigan's dip test filter. Keeps features that are not unimodal.\n",
      "INFO:deep_cartograph:- Shannon entropy filter. Keeps features with entropy greater than a threshold.\n",
      "INFO:deep_cartograph:- Standard deviation filter. Keeps features with standard deviation greater than a threshold.\n",
      "INFO:deep_cartograph:Note that the all features must be in the same units to apply the entropy and standard deviation filters meaningfully.\n",
      "INFO:deep_cartograph:Initial size of features set: 119.\n",
      "INFO:deep_cartograph.tools.filter_features.filtering:Computing dip test.\n",
      "INFO:deep_cartograph.tools.filter_features.filtering:Filtered 78 features.\n",
      "INFO:deep_cartograph:Elapsed time (Filter features): 00 h 00 min 00 s\n",
      "INFO:deep_cartograph.modules.common.common: Using features in /home/pnavarro/repos/NostrumBD/CV_learning/deep_cartograph/deep_cartograph/data/calpha_transitions/output/1rcs_B-3ssx_R-3/distances/filter_features/filtered_features.txt\n",
      "INFO:deep_cartograph:================================\n",
      "INFO:deep_cartograph:Training of Collective Variables\n",
      "INFO:deep_cartograph:================================\n",
      "INFO:deep_cartograph:Training of collective variables using the mlcolvar library.\n",
      "INFO:deep_cartograph.tools.train_colvars.train_colvars_workflow:Collective variables to compute: ['pca', 'deep_tica', 'tica', 'ae']\n",
      "INFO:deep_cartograph.tools.train_colvars.cv_calculator:Reading training data from colvars files...\n",
      "INFO:deep_cartograph.tools.train_colvars.cv_calculator:Number of features: 41\n",
      "INFO:deep_cartograph.tools.train_colvars.cv_calculator:Number of samples: 164\n",
      "INFO:deep_cartograph.tools.train_colvars.cv_calculator:Calculating PCA ...\n",
      "INFO:deep_cartograph.tools.train_colvars.cv_calculator:Projecting reference data onto PCA ...\n",
      "INFO:deep_cartograph.tools.train_colvars.cv_calculator:Collective variable weights saved to /home/pnavarro/repos/NostrumBD/CV_learning/deep_cartograph/deep_cartograph/data/calpha_transitions/output/1rcs_B-3ssx_R-3/distances/train_colvars/pca/weights.txt\n",
      "INFO:deep_cartograph.tools.train_colvars.train_colvars_workflow:Projecting colvars file: /home/pnavarro/repos/NostrumBD/CV_learning/deep_cartograph/deep_cartograph/data/calpha_transitions/output/1rcs_B-3ssx_R-3/distances/compute_features/1rcs_B-3ssx_R-3/colvars.dat\n",
      "INFO:deep_cartograph.tools.train_colvars.train_colvars_workflow:Corresponding trajectory file: /home/pnavarro/repos/NostrumBD/CV_learning/deep_cartograph/deep_cartograph/data/calpha_transitions/input/1rcs_B-3ssx_R-3/1rcs_B-3ssx_R-3.dcd\n",
      "INFO:deep_cartograph.tools.train_colvars.train_colvars_workflow:Corresponding topology file: /home/pnavarro/repos/NostrumBD/CV_learning/deep_cartograph/deep_cartograph/data/calpha_transitions/input/1rcs_B-3ssx_R-3/1rcs_B-3ssx_R-3.pdb\n",
      "INFO:deep_cartograph.tools.train_colvars.cv_calculator:Projecting colvars features onto PCA ...\n",
      "INFO:deep_cartograph.modules.figures.figures:Computing FES(PC 1, PC 2)...\n",
      "/home/pnavarro/repos/NostrumBD/CV_learning/deep_cartograph/deep_cartograph/modules/figures/figures.py:129: UserWarning: No artists with labels found to put in legend.  Note that artists whose label start with an underscore are ignored when legend() is called with no argument.\n",
      "  ax.legend(fontsize = font_size)\n",
      "INFO:deep_cartograph.tools.train_colvars.cv_calculator:Reading training data from colvars files...\n",
      "INFO:deep_cartograph.tools.train_colvars.cv_calculator:Number of features: 41\n",
      "/home/pnavarro/repos/mlcolvar/mlcolvar/utils/timelagged.py:140: UserWarning: Monitoring the progress for the search of time-lagged configurations with a progress_bar requires `tqdm`.\n",
      "  warnings.warn(\n",
      "INFO:deep_cartograph.tools.train_colvars.cv_calculator:Number of samples: 161\n",
      "INFO:deep_cartograph.tools.train_colvars.cv_calculator:Calculating DeepTICA ...\n",
      "WARNING:deep_cartograph.tools.train_colvars.cv_calculator:The batch size is larger than the number of samples in the training set. \n",
      "                           Setting the batch size to the closest power of two: 128\n",
      "INFO:deep_cartograph.tools.train_colvars.cv_calculator:Training DeepTICA ...\n",
      "INFO:deep_cartograph.tools.train_colvars.cv_calculator:Model architecture: DeepTICA(\n",
      "  (loss_fn): ReduceEigenvaluesLoss()\n",
      "  (norm_in): Normalization(in_features=41, out_features=41, mode=mean_std)\n",
      "  (nn): FeedForward(\n",
      "    (nn): Sequential(\n",
      "      (0): Linear(in_features=41, out_features=5, bias=True)\n",
      "      (1): Shifted_Softplus(beta=1, threshold=20)\n",
      "      (2): Dropout(p=0.1, inplace=False)\n",
      "      (3): Linear(in_features=5, out_features=3, bias=True)\n",
      "      (4): Shifted_Softplus(beta=1, threshold=20)\n",
      "      (5): Dropout(p=0.1, inplace=False)\n",
      "      (6): Linear(in_features=3, out_features=2, bias=True)\n",
      "    )\n",
      "  )\n",
      "  (tica): TICA(in_features=2, out_features=2)\n",
      ")\n",
      "GPU available: False, used: False\n",
      "TPU available: False, using: 0 TPU cores\n",
      "HPU available: False, using: 0 HPUs\n",
      "\n",
      "  | Name    | Type                  | Params | Mode  | In sizes | Out sizes\n",
      "---------------------------------------------------------------------------------\n",
      "0 | loss_fn | ReduceEigenvaluesLoss | 0      | train | ?        | ?        \n",
      "1 | norm_in | Normalization         | 0      | train | [1, 41]  | [1, 41]  \n",
      "2 | nn      | FeedForward           | 236    | train | [1, 41]  | [1, 2]   \n",
      "3 | tica    | TICA                  | 0      | train | [1, 2]   | [1, 2]   \n",
      "---------------------------------------------------------------------------------\n",
      "236       Trainable params\n",
      "0         Non-trainable params\n",
      "236       Total params\n",
      "0.001     Total estimated model params size (MB)\n",
      "INFO:deep_cartograph.tools.train_colvars.cv_calculator:Best model score: -1.9657585620880127\n",
      "/home/pnavarro/repos/mlcolvar/mlcolvar/utils/plot.py:254: UserWarning: Data has no positive values, and therefore cannot be log-scaled.\n",
      "  ax.set_yscale(yscale)\n",
      "INFO:deep_cartograph.tools.train_colvars.cv_calculator:Projecting reference data onto DeepTICA ...\n",
      "INFO:deep_cartograph.tools.train_colvars.cv_calculator:Took 3 epochs\n",
      "INFO:deep_cartograph.tools.train_colvars.cv_calculator:Eigenvalue 1: 1.006980299949646\n",
      "INFO:deep_cartograph.tools.train_colvars.cv_calculator:Eigenvalue 2: 0.9755763411521912\n",
      "/home/pnavarro/repos/mlcolvar/mlcolvar/core/nn/utils.py:13: TracerWarning: Converting a tensor to a Python number might cause the trace to be incorrect. We can't record the data flow of Python values, so this value will be treated as a constant in the future. This means that the trace might not generalize to other inputs!\n",
      "  sp0 = F.softplus(torch.zeros(1), self.beta, self.threshold).item()\n",
      "INFO:deep_cartograph.tools.train_colvars.cv_calculator:Collective variable weights saved to /home/pnavarro/repos/NostrumBD/CV_learning/deep_cartograph/deep_cartograph/data/calpha_transitions/output/1rcs_B-3ssx_R-3/distances/train_colvars/deep_tica/weights.ptc\n",
      "INFO:deep_cartograph.tools.train_colvars.train_colvars_workflow:Projecting colvars file: /home/pnavarro/repos/NostrumBD/CV_learning/deep_cartograph/deep_cartograph/data/calpha_transitions/output/1rcs_B-3ssx_R-3/distances/compute_features/1rcs_B-3ssx_R-3/colvars.dat\n",
      "INFO:deep_cartograph.tools.train_colvars.train_colvars_workflow:Corresponding trajectory file: /home/pnavarro/repos/NostrumBD/CV_learning/deep_cartograph/deep_cartograph/data/calpha_transitions/input/1rcs_B-3ssx_R-3/1rcs_B-3ssx_R-3.dcd\n",
      "INFO:deep_cartograph.tools.train_colvars.train_colvars_workflow:Corresponding topology file: /home/pnavarro/repos/NostrumBD/CV_learning/deep_cartograph/deep_cartograph/data/calpha_transitions/input/1rcs_B-3ssx_R-3/1rcs_B-3ssx_R-3.pdb\n",
      "INFO:deep_cartograph.tools.train_colvars.cv_calculator:Projecting features onto DeepTICA ...\n",
      "INFO:deep_cartograph.modules.figures.figures:Computing FES(DeepTIC 1, DeepTIC 2)...\n",
      "/home/pnavarro/repos/NostrumBD/CV_learning/deep_cartograph/deep_cartograph/modules/figures/figures.py:129: UserWarning: No artists with labels found to put in legend.  Note that artists whose label start with an underscore are ignored when legend() is called with no argument.\n",
      "  ax.legend(fontsize = font_size)\n",
      "INFO:deep_cartograph.tools.train_colvars.cv_calculator:Reading training data from colvars files...\n",
      "INFO:deep_cartograph.tools.train_colvars.cv_calculator:Number of features: 41\n",
      "/home/pnavarro/repos/mlcolvar/mlcolvar/utils/timelagged.py:140: UserWarning: Monitoring the progress for the search of time-lagged configurations with a progress_bar requires `tqdm`.\n",
      "  warnings.warn(\n",
      "INFO:deep_cartograph.tools.train_colvars.cv_calculator:Number of samples: 161\n",
      "INFO:deep_cartograph.tools.train_colvars.cv_calculator:Calculating TICA ...\n",
      "INFO:deep_cartograph.tools.train_colvars.cv_calculator:Projecting reference data onto TICA ...\n",
      "INFO:deep_cartograph.tools.train_colvars.cv_calculator:Collective variable weights saved to /home/pnavarro/repos/NostrumBD/CV_learning/deep_cartograph/deep_cartograph/data/calpha_transitions/output/1rcs_B-3ssx_R-3/distances/train_colvars/tica/weights.txt\n",
      "INFO:deep_cartograph.tools.train_colvars.train_colvars_workflow:Projecting colvars file: /home/pnavarro/repos/NostrumBD/CV_learning/deep_cartograph/deep_cartograph/data/calpha_transitions/output/1rcs_B-3ssx_R-3/distances/compute_features/1rcs_B-3ssx_R-3/colvars.dat\n",
      "INFO:deep_cartograph.tools.train_colvars.train_colvars_workflow:Corresponding trajectory file: /home/pnavarro/repos/NostrumBD/CV_learning/deep_cartograph/deep_cartograph/data/calpha_transitions/input/1rcs_B-3ssx_R-3/1rcs_B-3ssx_R-3.dcd\n",
      "INFO:deep_cartograph.tools.train_colvars.train_colvars_workflow:Corresponding topology file: /home/pnavarro/repos/NostrumBD/CV_learning/deep_cartograph/deep_cartograph/data/calpha_transitions/input/1rcs_B-3ssx_R-3/1rcs_B-3ssx_R-3.pdb\n",
      "INFO:deep_cartograph.tools.train_colvars.cv_calculator:Projecting colvars features onto TICA ...\n",
      "INFO:deep_cartograph.modules.figures.figures:Computing FES(TIC 1, TIC 2)...\n",
      "/home/pnavarro/repos/NostrumBD/CV_learning/deep_cartograph/deep_cartograph/modules/figures/figures.py:129: UserWarning: No artists with labels found to put in legend.  Note that artists whose label start with an underscore are ignored when legend() is called with no argument.\n",
      "  ax.legend(fontsize = font_size)\n",
      "INFO:deep_cartograph.tools.train_colvars.cv_calculator:Reading training data from colvars files...\n",
      "INFO:deep_cartograph.tools.train_colvars.cv_calculator:Number of features: 41\n",
      "INFO:deep_cartograph.tools.train_colvars.cv_calculator:Number of samples: 164\n",
      "INFO:deep_cartograph.tools.train_colvars.cv_calculator:Calculating AE ...\n",
      "WARNING:deep_cartograph.tools.train_colvars.cv_calculator:The batch size is larger than the number of samples in the training set. \n",
      "                           Setting the batch size to the closest power of two: 128\n",
      "INFO:deep_cartograph.tools.train_colvars.cv_calculator:Training AE ...\n",
      "INFO:deep_cartograph.tools.train_colvars.cv_calculator:Model architecture: AutoEncoderCV(\n",
      "  (loss_fn): MSELoss()\n",
      "  (norm_in): Normalization(in_features=41, out_features=41, mode=mean_std)\n",
      "  (encoder): FeedForward(\n",
      "    (nn): Sequential(\n",
      "      (0): Linear(in_features=41, out_features=5, bias=True)\n",
      "      (1): Shifted_Softplus(beta=1, threshold=20)\n",
      "      (2): Dropout(p=0.1, inplace=False)\n",
      "      (3): Linear(in_features=5, out_features=3, bias=True)\n",
      "      (4): Shifted_Softplus(beta=1, threshold=20)\n",
      "      (5): Dropout(p=0.1, inplace=False)\n",
      "      (6): Linear(in_features=3, out_features=2, bias=True)\n",
      "    )\n",
      "  )\n",
      "  (decoder): FeedForward(\n",
      "    (nn): Sequential(\n",
      "      (0): Linear(in_features=2, out_features=3, bias=True)\n",
      "      (1): Shifted_Softplus(beta=1, threshold=20)\n",
      "      (2): Dropout(p=0.1, inplace=False)\n",
      "      (3): Linear(in_features=3, out_features=5, bias=True)\n",
      "      (4): Shifted_Softplus(beta=1, threshold=20)\n",
      "      (5): Dropout(p=0.1, inplace=False)\n",
      "      (6): Linear(in_features=5, out_features=41, bias=True)\n",
      "    )\n",
      "  )\n",
      ")\n",
      "GPU available: False, used: False\n",
      "TPU available: False, using: 0 TPU cores\n",
      "HPU available: False, using: 0 HPUs\n",
      "\n",
      "  | Name    | Type          | Params | Mode  | In sizes | Out sizes\n",
      "-------------------------------------------------------------------------\n",
      "0 | loss_fn | MSELoss       | 0      | train | ?        | ?        \n",
      "1 | norm_in | Normalization | 0      | train | [1, 41]  | [1, 41]  \n",
      "2 | encoder | FeedForward   | 236    | train | [1, 41]  | [1, 2]   \n",
      "3 | decoder | FeedForward   | 275    | train | ?        | ?        \n",
      "-------------------------------------------------------------------------\n",
      "511       Trainable params\n",
      "0         Non-trainable params\n",
      "511       Total params\n",
      "0.002     Total estimated model params size (MB)\n",
      "INFO:deep_cartograph.tools.train_colvars.cv_calculator:Best model score: 0.0076872846111655235\n",
      "INFO:deep_cartograph.tools.train_colvars.cv_calculator:Projecting reference data onto AE ...\n",
      "/home/pnavarro/repos/mlcolvar/mlcolvar/core/nn/utils.py:13: TracerWarning: Converting a tensor to a Python number might cause the trace to be incorrect. We can't record the data flow of Python values, so this value will be treated as a constant in the future. This means that the trace might not generalize to other inputs!\n",
      "  sp0 = F.softplus(torch.zeros(1), self.beta, self.threshold).item()\n",
      "INFO:deep_cartograph.tools.train_colvars.cv_calculator:Collective variable weights saved to /home/pnavarro/repos/NostrumBD/CV_learning/deep_cartograph/deep_cartograph/data/calpha_transitions/output/1rcs_B-3ssx_R-3/distances/train_colvars/ae/weights.ptc\n",
      "INFO:deep_cartograph.tools.train_colvars.train_colvars_workflow:Projecting colvars file: /home/pnavarro/repos/NostrumBD/CV_learning/deep_cartograph/deep_cartograph/data/calpha_transitions/output/1rcs_B-3ssx_R-3/distances/compute_features/1rcs_B-3ssx_R-3/colvars.dat\n",
      "INFO:deep_cartograph.tools.train_colvars.train_colvars_workflow:Corresponding trajectory file: /home/pnavarro/repos/NostrumBD/CV_learning/deep_cartograph/deep_cartograph/data/calpha_transitions/input/1rcs_B-3ssx_R-3/1rcs_B-3ssx_R-3.dcd\n",
      "INFO:deep_cartograph.tools.train_colvars.train_colvars_workflow:Corresponding topology file: /home/pnavarro/repos/NostrumBD/CV_learning/deep_cartograph/deep_cartograph/data/calpha_transitions/input/1rcs_B-3ssx_R-3/1rcs_B-3ssx_R-3.pdb\n",
      "INFO:deep_cartograph.tools.train_colvars.cv_calculator:Projecting features onto AE ...\n",
      "INFO:deep_cartograph.modules.figures.figures:Computing FES(AE 1, AE 2)...\n",
      "/home/pnavarro/repos/NostrumBD/CV_learning/deep_cartograph/deep_cartograph/modules/figures/figures.py:129: UserWarning: No artists with labels found to put in legend.  Note that artists whose label start with an underscore are ignored when legend() is called with no argument.\n",
      "  ax.legend(fontsize = font_size)\n",
      "INFO:deep_cartograph:Elapsed time (Train colvars): 00 h 00 min 51 s\n",
      "INFO:deep_cartograph:Total elapsed time: 00 h 00 min 52 s\n"
     ]
    },
    {
     "data": {
      "text/plain": [
       "<Figure size 640x480 with 0 Axes>"
      ]
     },
     "metadata": {},
     "output_type": "display_data"
    },
    {
     "data": {
      "text/plain": [
       "<Figure size 500x400 with 0 Axes>"
      ]
     },
     "metadata": {},
     "output_type": "display_data"
    },
    {
     "data": {
      "text/plain": [
       "<Figure size 500x400 with 0 Axes>"
      ]
     },
     "metadata": {},
     "output_type": "display_data"
    },
    {
     "data": {
      "text/plain": [
       "<Figure size 640x480 with 0 Axes>"
      ]
     },
     "metadata": {},
     "output_type": "display_data"
    },
    {
     "data": {
      "text/plain": [
       "<Figure size 640x480 with 0 Axes>"
      ]
     },
     "metadata": {},
     "output_type": "display_data"
    },
    {
     "data": {
      "text/plain": [
       "<Figure size 500x400 with 0 Axes>"
      ]
     },
     "metadata": {},
     "output_type": "display_data"
    },
    {
     "data": {
      "text/plain": [
       "<Figure size 640x480 with 0 Axes>"
      ]
     },
     "metadata": {},
     "output_type": "display_data"
    }
   ],
   "source": [
    "features = 'distances'\n",
    "run_deep_cartograph(features, system_name)"
   ]
  },
  {
   "cell_type": "code",
   "execution_count": 12,
   "metadata": {},
   "outputs": [
    {
     "name": "stdout",
     "output_type": "stream",
     "text": [
      "Output folder: /home/pnavarro/repos/NostrumBD/CV_learning/deep_cartograph/deep_cartograph/data/calpha_transitions/output/1rcs_B-3ssx_R-3/distances\n"
     ]
    },
    {
     "data": {
      "text/html": [
       "<img src=\"/home/pnavarro/repos/NostrumBD/CV_learning/deep_cartograph/deep_cartograph/data/calpha_transitions/output/1rcs_B-3ssx_R-3/distances/train_colvars/pca/1rcs_B-3ssx_R-3/trajectory.png?1732796964\" style=\"width: 600px; margin-right: 10px;\">"
      ],
      "text/plain": [
       "<IPython.core.display.HTML object>"
      ]
     },
     "metadata": {},
     "output_type": "display_data"
    }
   ],
   "source": [
    "output_folder = f\"{data_folder}/calpha_transitions/output/{system_name}/{features}\"\n",
    "show_results(output_folder, model_name = 'pca', system=system_name)"
   ]
  },
  {
   "cell_type": "code",
   "execution_count": 13,
   "metadata": {},
   "outputs": [
    {
     "name": "stdout",
     "output_type": "stream",
     "text": [
      "Output folder: /home/pnavarro/repos/NostrumBD/CV_learning/deep_cartograph/deep_cartograph/data/calpha_transitions/output/1rcs_B-3ssx_R-3/distances\n",
      "Final model score: 7.6873E-3\n"
     ]
    },
    {
     "data": {
      "text/html": [
       "<img src=\"/home/pnavarro/repos/NostrumBD/CV_learning/deep_cartograph/deep_cartograph/data/calpha_transitions/output/1rcs_B-3ssx_R-3/distances/train_colvars/ae/1rcs_B-3ssx_R-3/trajectory.png?1732796964\" style=\"width: 600px; margin-right: 10px;\"><img src=\"/home/pnavarro/repos/NostrumBD/CV_learning/deep_cartograph/deep_cartograph/data/calpha_transitions/output/1rcs_B-3ssx_R-3/distances/train_colvars/ae/loss.png?1732796964\" style=\"width: 600px; margin-right: 10px;\">"
      ],
      "text/plain": [
       "<IPython.core.display.HTML object>"
      ]
     },
     "metadata": {},
     "output_type": "display_data"
    }
   ],
   "source": [
    "show_results(output_folder, model_name = 'ae', system=system_name)"
   ]
  },
  {
   "cell_type": "markdown",
   "metadata": {},
   "source": [
    "With the autoencoder now we are not overfitting but underfitting - probably because the relationship between the distances and the conformational change is more complex than with the torsion angles."
   ]
  },
  {
   "cell_type": "code",
   "execution_count": 14,
   "metadata": {},
   "outputs": [
    {
     "name": "stdout",
     "output_type": "stream",
     "text": [
      "Output folder: /home/pnavarro/repos/NostrumBD/CV_learning/deep_cartograph/deep_cartograph/data/calpha_transitions/output/1rcs_B-3ssx_R-3/distances\n"
     ]
    },
    {
     "data": {
      "text/html": [
       "<img src=\"/home/pnavarro/repos/NostrumBD/CV_learning/deep_cartograph/deep_cartograph/data/calpha_transitions/output/1rcs_B-3ssx_R-3/distances/train_colvars/tica/1rcs_B-3ssx_R-3/trajectory.png?1732796964\" style=\"width: 600px; margin-right: 10px;\">"
      ],
      "text/plain": [
       "<IPython.core.display.HTML object>"
      ]
     },
     "metadata": {},
     "output_type": "display_data"
    }
   ],
   "source": [
    "show_results(output_folder, model_name = 'tica', system=system_name)"
   ]
  },
  {
   "cell_type": "code",
   "execution_count": 15,
   "metadata": {},
   "outputs": [
    {
     "name": "stdout",
     "output_type": "stream",
     "text": [
      "Output folder: /home/pnavarro/repos/NostrumBD/CV_learning/deep_cartograph/deep_cartograph/data/calpha_transitions/output/1rcs_B-3ssx_R-3/distances\n",
      "Final model score: -1.9658E+0\n",
      "Eigenvalue 1: 1.0070E+0\n",
      "Eigenvalue 2: 9.7558E-1\n"
     ]
    },
    {
     "data": {
      "text/html": [
       "<img src=\"/home/pnavarro/repos/NostrumBD/CV_learning/deep_cartograph/deep_cartograph/data/calpha_transitions/output/1rcs_B-3ssx_R-3/distances/train_colvars/deep_tica/1rcs_B-3ssx_R-3/trajectory.png?1732796964\" style=\"width: 600px; margin-right: 10px;\"><img src=\"/home/pnavarro/repos/NostrumBD/CV_learning/deep_cartograph/deep_cartograph/data/calpha_transitions/output/1rcs_B-3ssx_R-3/distances/train_colvars/deep_tica/loss.png?1732796964\" style=\"width: 600px; margin-right: 10px;\"><img src=\"/home/pnavarro/repos/NostrumBD/CV_learning/deep_cartograph/deep_cartograph/data/calpha_transitions/output/1rcs_B-3ssx_R-3/distances/train_colvars/deep_tica/eigenvalues.png?1732796964\" style=\"width: 600px; margin-right: 10px;\">"
      ],
      "text/plain": [
       "<IPython.core.display.HTML object>"
      ]
     },
     "metadata": {},
     "output_type": "display_data"
    }
   ],
   "source": [
    "show_results(output_folder, model_name = 'deep_tica', system=system_name)"
   ]
  },
  {
   "cell_type": "markdown",
   "metadata": {},
   "source": [
    "## 2olu_A-2olv_A-1 transition\n",
    "\n",
    "<center>\n",
    "    <video width=\"620\" height=\"440\" src=\"../../../deep_cartograph/data/calpha_transitions/input/2olu_A-2olv_A-1/trajectory.mp4\" controls> </video>\n",
    "</center>"
   ]
  },
  {
   "cell_type": "code",
   "execution_count": 16,
   "metadata": {},
   "outputs": [
    {
     "name": "stderr",
     "output_type": "stream",
     "text": [
      "INFO:deep_cartograph:================\n",
      "INFO:deep_cartograph:Compute features\n",
      "INFO:deep_cartograph:================\n",
      "INFO:deep_cartograph:Trajectory file: /home/pnavarro/repos/NostrumBD/CV_learning/deep_cartograph/deep_cartograph/data/calpha_transitions/input/2olu_A-2olv_A-1/2olu_A-2olv_A-1.dcd\n"
     ]
    },
    {
     "name": "stderr",
     "output_type": "stream",
     "text": [
      "/home/pnavarro/miniforge3/envs/deep_cartograph/lib/python3.10/site-packages/MDAnalysis/topology/PDBParser.py:317: UserWarning: Element information is missing, elements attribute will not be populated. If needed these can be guessed using MDAnalysis.topology.guessers.\n",
      "  warnings.warn(\"Element information is missing, elements attribute \"\n",
      "/home/pnavarro/miniforge3/envs/deep_cartograph/lib/python3.10/site-packages/MDAnalysis/coordinates/PDB.py:747: UserWarning: Unit cell dimensions not found. CRYST1 record set to unitary values.\n",
      "  warnings.warn(\"Unit cell dimensions not found. \"\n",
      "/home/pnavarro/miniforge3/envs/deep_cartograph/lib/python3.10/site-packages/MDAnalysis/coordinates/PDB.py:1078: UserWarning: Found no information for attr: 'elements' Using default value of ' '\n",
      "  warnings.warn(\"Found no information for attr: '{}'\"\n",
      "/home/pnavarro/miniforge3/envs/deep_cartograph/lib/python3.10/site-packages/MDAnalysis/coordinates/PDB.py:429: UserWarning: 1 A^3 CRYST1 record, this is usually a placeholder. Unit cell dimensions will be set to None.\n",
      "  warnings.warn(\"1 A^3 CRYST1 record,\"\n",
      "INFO:deep_cartograph.modules.plumed.input_file.input_file:Found 1186 features for tor\n",
      "INFO:deep_cartograph.modules.plumed.utils:Executing PLUMED driver command: plumed driver --plumed /home/pnavarro/repos/NostrumBD/CV_learning/deep_cartograph/deep_cartograph/data/calpha_transitions/output/2olu_A-2olv_A-1/torsions/compute_features/2olu_A-2olv_A-1/torsions.dat --mf_dcd /home/pnavarro/repos/NostrumBD/CV_learning/deep_cartograph/deep_cartograph/data/calpha_transitions/input/2olu_A-2olv_A-1/2olu_A-2olv_A-1.dcd --natoms 596\n",
      "INFO:deep_cartograph:Elapsed time (Compute features): 00 h 00 min 01 s\n",
      "INFO:deep_cartograph:==================\n",
      "INFO:deep_cartograph:Filtering features\n",
      "INFO:deep_cartograph:==================\n",
      "INFO:deep_cartograph:Finding the features that contains the most information about the transitions or conformational changes.\n",
      "INFO:deep_cartograph:The following algorithms are available:\n",
      "INFO:deep_cartograph:- Hartigan's dip test filter. Keeps features that are not unimodal.\n",
      "INFO:deep_cartograph:- Shannon entropy filter. Keeps features with entropy greater than a threshold.\n",
      "INFO:deep_cartograph:- Standard deviation filter. Keeps features with standard deviation greater than a threshold.\n",
      "INFO:deep_cartograph:Note that the all features must be in the same units to apply the entropy and standard deviation filters meaningfully.\n",
      "INFO:deep_cartograph:Initial size of features set: 1186.\n",
      "INFO:deep_cartograph.tools.filter_features.filtering:Computing dip test.\n",
      "INFO:deep_cartograph.tools.filter_features.filtering:Filtered 1003 features.\n",
      "INFO:deep_cartograph:Elapsed time (Filter features): 00 h 00 min 20 s\n",
      "INFO:deep_cartograph.modules.common.common: Using features in /home/pnavarro/repos/NostrumBD/CV_learning/deep_cartograph/deep_cartograph/data/calpha_transitions/output/2olu_A-2olv_A-1/torsions/filter_features/filtered_features.txt\n",
      "INFO:deep_cartograph:================================\n",
      "INFO:deep_cartograph:Training of Collective Variables\n",
      "INFO:deep_cartograph:================================\n",
      "INFO:deep_cartograph:Training of collective variables using the mlcolvar library.\n",
      "INFO:deep_cartograph.tools.train_colvars.train_colvars_workflow:Collective variables to compute: ['pca', 'deep_tica', 'tica', 'ae']\n",
      "INFO:deep_cartograph.tools.train_colvars.cv_calculator:Reading training data from colvars files...\n",
      "INFO:deep_cartograph.tools.train_colvars.cv_calculator:Number of features: 183\n",
      "INFO:deep_cartograph.tools.train_colvars.cv_calculator:Number of samples: 338\n",
      "INFO:deep_cartograph.tools.train_colvars.cv_calculator:Calculating PCA ...\n",
      "INFO:deep_cartograph.tools.train_colvars.cv_calculator:Projecting reference data onto PCA ...\n",
      "INFO:deep_cartograph.tools.train_colvars.cv_calculator:Collective variable weights saved to /home/pnavarro/repos/NostrumBD/CV_learning/deep_cartograph/deep_cartograph/data/calpha_transitions/output/2olu_A-2olv_A-1/torsions/train_colvars/pca/weights.txt\n",
      "INFO:deep_cartograph.tools.train_colvars.train_colvars_workflow:Projecting colvars file: /home/pnavarro/repos/NostrumBD/CV_learning/deep_cartograph/deep_cartograph/data/calpha_transitions/output/2olu_A-2olv_A-1/torsions/compute_features/2olu_A-2olv_A-1/colvars.dat\n",
      "INFO:deep_cartograph.tools.train_colvars.train_colvars_workflow:Corresponding trajectory file: /home/pnavarro/repos/NostrumBD/CV_learning/deep_cartograph/deep_cartograph/data/calpha_transitions/input/2olu_A-2olv_A-1/2olu_A-2olv_A-1.dcd\n",
      "INFO:deep_cartograph.tools.train_colvars.train_colvars_workflow:Corresponding topology file: /home/pnavarro/repos/NostrumBD/CV_learning/deep_cartograph/deep_cartograph/data/calpha_transitions/input/2olu_A-2olv_A-1/2olu_A-2olv_A-1.pdb\n",
      "INFO:deep_cartograph.tools.train_colvars.cv_calculator:Projecting colvars features onto PCA ...\n",
      "INFO:deep_cartograph.modules.figures.figures:Computing FES(PC 1, PC 2)...\n",
      "/home/pnavarro/repos/NostrumBD/CV_learning/deep_cartograph/deep_cartograph/modules/figures/figures.py:129: UserWarning: No artists with labels found to put in legend.  Note that artists whose label start with an underscore are ignored when legend() is called with no argument.\n",
      "  ax.legend(fontsize = font_size)\n",
      "INFO:deep_cartograph.modules.statistics.statistics:Best number of clusters: 9\n",
      "/home/pnavarro/miniforge3/envs/deep_cartograph/lib/python3.10/site-packages/MDAnalysis/topology/PDBParser.py:317: UserWarning: Element information is missing, elements attribute will not be populated. If needed these can be guessed using MDAnalysis.topology.guessers.\n",
      "  warnings.warn(\"Element information is missing, elements attribute \"\n",
      "INFO:deep_cartograph.modules.md.md:Number of clusters: 9\n",
      "INFO:deep_cartograph.modules.md.md:Number of centroids: 9\n",
      "/home/pnavarro/miniforge3/envs/deep_cartograph/lib/python3.10/site-packages/MDAnalysis/coordinates/PDB.py:747: UserWarning: Unit cell dimensions not found. CRYST1 record set to unitary values.\n",
      "  warnings.warn(\"Unit cell dimensions not found. \"\n",
      "/home/pnavarro/miniforge3/envs/deep_cartograph/lib/python3.10/site-packages/MDAnalysis/coordinates/PDB.py:1078: UserWarning: Found no information for attr: 'elements' Using default value of ' '\n",
      "  warnings.warn(\"Found no information for attr: '{}'\"\n",
      "/home/pnavarro/miniforge3/envs/deep_cartograph/lib/python3.10/site-packages/seaborn/axisgrid.py:1832: UserWarning: Numpy array is not a supported type for `palette`. Please convert your palette to a list. This will become an error in v0.14\n",
      "  func(x=self.x, y=self.y, **kwargs)\n",
      "INFO:deep_cartograph.tools.train_colvars.cv_calculator:Reading training data from colvars files...\n",
      "INFO:deep_cartograph.tools.train_colvars.cv_calculator:Number of features: 183\n",
      "/home/pnavarro/repos/mlcolvar/mlcolvar/utils/timelagged.py:140: UserWarning: Monitoring the progress for the search of time-lagged configurations with a progress_bar requires `tqdm`.\n",
      "  warnings.warn(\n",
      "INFO:deep_cartograph.tools.train_colvars.cv_calculator:Number of samples: 335\n",
      "INFO:deep_cartograph.tools.train_colvars.cv_calculator:Calculating DeepTICA ...\n",
      "INFO:deep_cartograph.tools.train_colvars.cv_calculator:Training DeepTICA ...\n",
      "INFO:deep_cartograph.tools.train_colvars.cv_calculator:Model architecture: DeepTICA(\n",
      "  (loss_fn): ReduceEigenvaluesLoss()\n",
      "  (norm_in): Normalization(in_features=183, out_features=183, mode=mean_std)\n",
      "  (nn): FeedForward(\n",
      "    (nn): Sequential(\n",
      "      (0): Linear(in_features=183, out_features=5, bias=True)\n",
      "      (1): Shifted_Softplus(beta=1, threshold=20)\n",
      "      (2): Dropout(p=0.1, inplace=False)\n",
      "      (3): Linear(in_features=5, out_features=3, bias=True)\n",
      "      (4): Shifted_Softplus(beta=1, threshold=20)\n",
      "      (5): Dropout(p=0.1, inplace=False)\n",
      "      (6): Linear(in_features=3, out_features=2, bias=True)\n",
      "    )\n",
      "  )\n",
      "  (tica): TICA(in_features=2, out_features=2)\n",
      ")\n",
      "GPU available: False, used: False\n",
      "TPU available: False, using: 0 TPU cores\n",
      "HPU available: False, using: 0 HPUs\n",
      "\n",
      "  | Name    | Type                  | Params | Mode  | In sizes | Out sizes\n",
      "---------------------------------------------------------------------------------\n",
      "0 | loss_fn | ReduceEigenvaluesLoss | 0      | train | ?        | ?        \n",
      "1 | norm_in | Normalization         | 0      | train | [1, 183] | [1, 183] \n",
      "2 | nn      | FeedForward           | 946    | train | [1, 183] | [1, 2]   \n",
      "3 | tica    | TICA                  | 0      | train | [1, 2]   | [1, 2]   \n",
      "---------------------------------------------------------------------------------\n",
      "946       Trainable params\n",
      "0         Non-trainable params\n",
      "946       Total params\n",
      "0.004     Total estimated model params size (MB)\n",
      "INFO:deep_cartograph.tools.train_colvars.cv_calculator:Best model score: -1.6213949918746948\n",
      "/home/pnavarro/repos/mlcolvar/mlcolvar/utils/plot.py:254: UserWarning: Data has no positive values, and therefore cannot be log-scaled.\n",
      "  ax.set_yscale(yscale)\n",
      "INFO:deep_cartograph.tools.train_colvars.cv_calculator:Projecting reference data onto DeepTICA ...\n",
      "INFO:deep_cartograph.tools.train_colvars.cv_calculator:Took 1 epochs\n",
      "INFO:deep_cartograph.tools.train_colvars.cv_calculator:Eigenvalue 1: 0.9697879552841187\n",
      "INFO:deep_cartograph.tools.train_colvars.cv_calculator:Eigenvalue 2: 0.8251704573631287\n",
      "/home/pnavarro/repos/mlcolvar/mlcolvar/core/nn/utils.py:13: TracerWarning: Converting a tensor to a Python number might cause the trace to be incorrect. We can't record the data flow of Python values, so this value will be treated as a constant in the future. This means that the trace might not generalize to other inputs!\n",
      "  sp0 = F.softplus(torch.zeros(1), self.beta, self.threshold).item()\n",
      "INFO:deep_cartograph.tools.train_colvars.cv_calculator:Collective variable weights saved to /home/pnavarro/repos/NostrumBD/CV_learning/deep_cartograph/deep_cartograph/data/calpha_transitions/output/2olu_A-2olv_A-1/torsions/train_colvars/deep_tica/weights.ptc\n",
      "INFO:deep_cartograph.tools.train_colvars.train_colvars_workflow:Projecting colvars file: /home/pnavarro/repos/NostrumBD/CV_learning/deep_cartograph/deep_cartograph/data/calpha_transitions/output/2olu_A-2olv_A-1/torsions/compute_features/2olu_A-2olv_A-1/colvars.dat\n",
      "INFO:deep_cartograph.tools.train_colvars.train_colvars_workflow:Corresponding trajectory file: /home/pnavarro/repos/NostrumBD/CV_learning/deep_cartograph/deep_cartograph/data/calpha_transitions/input/2olu_A-2olv_A-1/2olu_A-2olv_A-1.dcd\n",
      "INFO:deep_cartograph.tools.train_colvars.train_colvars_workflow:Corresponding topology file: /home/pnavarro/repos/NostrumBD/CV_learning/deep_cartograph/deep_cartograph/data/calpha_transitions/input/2olu_A-2olv_A-1/2olu_A-2olv_A-1.pdb\n",
      "INFO:deep_cartograph.tools.train_colvars.cv_calculator:Projecting features onto DeepTICA ...\n",
      "INFO:deep_cartograph.modules.figures.figures:Computing FES(DeepTIC 1, DeepTIC 2)...\n",
      "/home/pnavarro/repos/NostrumBD/CV_learning/deep_cartograph/deep_cartograph/modules/figures/figures.py:129: UserWarning: No artists with labels found to put in legend.  Note that artists whose label start with an underscore are ignored when legend() is called with no argument.\n",
      "  ax.legend(fontsize = font_size)\n",
      "INFO:deep_cartograph.modules.statistics.statistics:Best number of clusters: 5\n",
      "/home/pnavarro/miniforge3/envs/deep_cartograph/lib/python3.10/site-packages/MDAnalysis/topology/PDBParser.py:317: UserWarning: Element information is missing, elements attribute will not be populated. If needed these can be guessed using MDAnalysis.topology.guessers.\n",
      "  warnings.warn(\"Element information is missing, elements attribute \"\n",
      "INFO:deep_cartograph.modules.md.md:Number of clusters: 5\n",
      "INFO:deep_cartograph.modules.md.md:Number of centroids: 5\n",
      "/home/pnavarro/miniforge3/envs/deep_cartograph/lib/python3.10/site-packages/MDAnalysis/coordinates/PDB.py:747: UserWarning: Unit cell dimensions not found. CRYST1 record set to unitary values.\n",
      "  warnings.warn(\"Unit cell dimensions not found. \"\n",
      "/home/pnavarro/miniforge3/envs/deep_cartograph/lib/python3.10/site-packages/MDAnalysis/coordinates/PDB.py:1078: UserWarning: Found no information for attr: 'elements' Using default value of ' '\n",
      "  warnings.warn(\"Found no information for attr: '{}'\"\n",
      "/home/pnavarro/miniforge3/envs/deep_cartograph/lib/python3.10/site-packages/seaborn/axisgrid.py:1832: UserWarning: Numpy array is not a supported type for `palette`. Please convert your palette to a list. This will become an error in v0.14\n",
      "  func(x=self.x, y=self.y, **kwargs)\n",
      "INFO:deep_cartograph.tools.train_colvars.cv_calculator:Reading training data from colvars files...\n",
      "INFO:deep_cartograph.tools.train_colvars.cv_calculator:Number of features: 183\n",
      "/home/pnavarro/repos/mlcolvar/mlcolvar/utils/timelagged.py:140: UserWarning: Monitoring the progress for the search of time-lagged configurations with a progress_bar requires `tqdm`.\n",
      "  warnings.warn(\n",
      "INFO:deep_cartograph.tools.train_colvars.cv_calculator:Number of samples: 335\n",
      "INFO:deep_cartograph.tools.train_colvars.cv_calculator:Calculating TICA ...\n",
      "INFO:deep_cartograph.tools.train_colvars.cv_calculator:Projecting reference data onto TICA ...\n",
      "INFO:deep_cartograph.tools.train_colvars.cv_calculator:Collective variable weights saved to /home/pnavarro/repos/NostrumBD/CV_learning/deep_cartograph/deep_cartograph/data/calpha_transitions/output/2olu_A-2olv_A-1/torsions/train_colvars/tica/weights.txt\n",
      "INFO:deep_cartograph.tools.train_colvars.train_colvars_workflow:Projecting colvars file: /home/pnavarro/repos/NostrumBD/CV_learning/deep_cartograph/deep_cartograph/data/calpha_transitions/output/2olu_A-2olv_A-1/torsions/compute_features/2olu_A-2olv_A-1/colvars.dat\n",
      "INFO:deep_cartograph.tools.train_colvars.train_colvars_workflow:Corresponding trajectory file: /home/pnavarro/repos/NostrumBD/CV_learning/deep_cartograph/deep_cartograph/data/calpha_transitions/input/2olu_A-2olv_A-1/2olu_A-2olv_A-1.dcd\n",
      "INFO:deep_cartograph.tools.train_colvars.train_colvars_workflow:Corresponding topology file: /home/pnavarro/repos/NostrumBD/CV_learning/deep_cartograph/deep_cartograph/data/calpha_transitions/input/2olu_A-2olv_A-1/2olu_A-2olv_A-1.pdb\n",
      "INFO:deep_cartograph.tools.train_colvars.cv_calculator:Projecting colvars features onto TICA ...\n",
      "INFO:deep_cartograph.modules.figures.figures:Computing FES(TIC 1, TIC 2)...\n",
      "/home/pnavarro/repos/NostrumBD/CV_learning/deep_cartograph/deep_cartograph/modules/figures/figures.py:129: UserWarning: No artists with labels found to put in legend.  Note that artists whose label start with an underscore are ignored when legend() is called with no argument.\n",
      "  ax.legend(fontsize = font_size)\n",
      "INFO:deep_cartograph.modules.statistics.statistics:Best number of clusters: 9\n",
      "/home/pnavarro/miniforge3/envs/deep_cartograph/lib/python3.10/site-packages/MDAnalysis/topology/PDBParser.py:317: UserWarning: Element information is missing, elements attribute will not be populated. If needed these can be guessed using MDAnalysis.topology.guessers.\n",
      "  warnings.warn(\"Element information is missing, elements attribute \"\n",
      "INFO:deep_cartograph.modules.md.md:Number of clusters: 9\n",
      "INFO:deep_cartograph.modules.md.md:Number of centroids: 9\n",
      "/home/pnavarro/miniforge3/envs/deep_cartograph/lib/python3.10/site-packages/MDAnalysis/coordinates/PDB.py:747: UserWarning: Unit cell dimensions not found. CRYST1 record set to unitary values.\n",
      "  warnings.warn(\"Unit cell dimensions not found. \"\n",
      "/home/pnavarro/miniforge3/envs/deep_cartograph/lib/python3.10/site-packages/MDAnalysis/coordinates/PDB.py:1078: UserWarning: Found no information for attr: 'elements' Using default value of ' '\n",
      "  warnings.warn(\"Found no information for attr: '{}'\"\n",
      "/home/pnavarro/miniforge3/envs/deep_cartograph/lib/python3.10/site-packages/seaborn/axisgrid.py:1832: UserWarning: Numpy array is not a supported type for `palette`. Please convert your palette to a list. This will become an error in v0.14\n",
      "  func(x=self.x, y=self.y, **kwargs)\n",
      "INFO:deep_cartograph.tools.train_colvars.cv_calculator:Reading training data from colvars files...\n",
      "INFO:deep_cartograph.tools.train_colvars.cv_calculator:Number of features: 183\n",
      "INFO:deep_cartograph.tools.train_colvars.cv_calculator:Number of samples: 338\n",
      "INFO:deep_cartograph.tools.train_colvars.cv_calculator:Calculating AE ...\n",
      "INFO:deep_cartograph.tools.train_colvars.cv_calculator:Training AE ...\n",
      "INFO:deep_cartograph.tools.train_colvars.cv_calculator:Model architecture: AutoEncoderCV(\n",
      "  (loss_fn): MSELoss()\n",
      "  (norm_in): Normalization(in_features=183, out_features=183, mode=mean_std)\n",
      "  (encoder): FeedForward(\n",
      "    (nn): Sequential(\n",
      "      (0): Linear(in_features=183, out_features=5, bias=True)\n",
      "      (1): Shifted_Softplus(beta=1, threshold=20)\n",
      "      (2): Dropout(p=0.1, inplace=False)\n",
      "      (3): Linear(in_features=5, out_features=3, bias=True)\n",
      "      (4): Shifted_Softplus(beta=1, threshold=20)\n",
      "      (5): Dropout(p=0.1, inplace=False)\n",
      "      (6): Linear(in_features=3, out_features=2, bias=True)\n",
      "    )\n",
      "  )\n",
      "  (decoder): FeedForward(\n",
      "    (nn): Sequential(\n",
      "      (0): Linear(in_features=2, out_features=3, bias=True)\n",
      "      (1): Shifted_Softplus(beta=1, threshold=20)\n",
      "      (2): Dropout(p=0.1, inplace=False)\n",
      "      (3): Linear(in_features=3, out_features=5, bias=True)\n",
      "      (4): Shifted_Softplus(beta=1, threshold=20)\n",
      "      (5): Dropout(p=0.1, inplace=False)\n",
      "      (6): Linear(in_features=5, out_features=183, bias=True)\n",
      "    )\n",
      "  )\n",
      ")\n",
      "GPU available: False, used: False\n",
      "TPU available: False, using: 0 TPU cores\n",
      "HPU available: False, using: 0 HPUs\n",
      "\n",
      "  | Name    | Type          | Params | Mode  | In sizes | Out sizes\n",
      "-------------------------------------------------------------------------\n",
      "0 | loss_fn | MSELoss       | 0      | train | ?        | ?        \n",
      "1 | norm_in | Normalization | 0      | train | [1, 183] | [1, 183] \n",
      "2 | encoder | FeedForward   | 946    | train | [1, 183] | [1, 2]   \n",
      "3 | decoder | FeedForward   | 1.1 K  | train | ?        | ?        \n",
      "-------------------------------------------------------------------------\n",
      "2.1 K     Trainable params\n",
      "0         Non-trainable params\n",
      "2.1 K     Total params\n",
      "0.008     Total estimated model params size (MB)\n",
      "INFO:deep_cartograph.tools.train_colvars.cv_calculator:Best model score: 0.0066808476112782955\n",
      "INFO:deep_cartograph.tools.train_colvars.cv_calculator:Projecting reference data onto AE ...\n",
      "/home/pnavarro/repos/mlcolvar/mlcolvar/core/nn/utils.py:13: TracerWarning: Converting a tensor to a Python number might cause the trace to be incorrect. We can't record the data flow of Python values, so this value will be treated as a constant in the future. This means that the trace might not generalize to other inputs!\n",
      "  sp0 = F.softplus(torch.zeros(1), self.beta, self.threshold).item()\n",
      "INFO:deep_cartograph.tools.train_colvars.cv_calculator:Collective variable weights saved to /home/pnavarro/repos/NostrumBD/CV_learning/deep_cartograph/deep_cartograph/data/calpha_transitions/output/2olu_A-2olv_A-1/torsions/train_colvars/ae/weights.ptc\n",
      "INFO:deep_cartograph.tools.train_colvars.train_colvars_workflow:Projecting colvars file: /home/pnavarro/repos/NostrumBD/CV_learning/deep_cartograph/deep_cartograph/data/calpha_transitions/output/2olu_A-2olv_A-1/torsions/compute_features/2olu_A-2olv_A-1/colvars.dat\n",
      "INFO:deep_cartograph.tools.train_colvars.train_colvars_workflow:Corresponding trajectory file: /home/pnavarro/repos/NostrumBD/CV_learning/deep_cartograph/deep_cartograph/data/calpha_transitions/input/2olu_A-2olv_A-1/2olu_A-2olv_A-1.dcd\n",
      "INFO:deep_cartograph.tools.train_colvars.train_colvars_workflow:Corresponding topology file: /home/pnavarro/repos/NostrumBD/CV_learning/deep_cartograph/deep_cartograph/data/calpha_transitions/input/2olu_A-2olv_A-1/2olu_A-2olv_A-1.pdb\n",
      "INFO:deep_cartograph.tools.train_colvars.cv_calculator:Projecting features onto AE ...\n",
      "INFO:deep_cartograph.modules.figures.figures:Computing FES(AE 1, AE 2)...\n",
      "/home/pnavarro/repos/NostrumBD/CV_learning/deep_cartograph/deep_cartograph/modules/figures/figures.py:129: UserWarning: No artists with labels found to put in legend.  Note that artists whose label start with an underscore are ignored when legend() is called with no argument.\n",
      "  ax.legend(fontsize = font_size)\n",
      "INFO:deep_cartograph.modules.statistics.statistics:Best number of clusters: 15\n",
      "/home/pnavarro/miniforge3/envs/deep_cartograph/lib/python3.10/site-packages/MDAnalysis/topology/PDBParser.py:317: UserWarning: Element information is missing, elements attribute will not be populated. If needed these can be guessed using MDAnalysis.topology.guessers.\n",
      "  warnings.warn(\"Element information is missing, elements attribute \"\n",
      "INFO:deep_cartograph.modules.md.md:Number of clusters: 15\n",
      "INFO:deep_cartograph.modules.md.md:Number of centroids: 15\n",
      "/home/pnavarro/miniforge3/envs/deep_cartograph/lib/python3.10/site-packages/MDAnalysis/coordinates/PDB.py:747: UserWarning: Unit cell dimensions not found. CRYST1 record set to unitary values.\n",
      "  warnings.warn(\"Unit cell dimensions not found. \"\n",
      "/home/pnavarro/miniforge3/envs/deep_cartograph/lib/python3.10/site-packages/MDAnalysis/coordinates/PDB.py:1078: UserWarning: Found no information for attr: 'elements' Using default value of ' '\n",
      "  warnings.warn(\"Found no information for attr: '{}'\"\n",
      "/home/pnavarro/miniforge3/envs/deep_cartograph/lib/python3.10/site-packages/seaborn/axisgrid.py:1832: UserWarning: Numpy array is not a supported type for `palette`. Please convert your palette to a list. This will become an error in v0.14\n",
      "  func(x=self.x, y=self.y, **kwargs)\n",
      "INFO:deep_cartograph:Elapsed time (Train colvars): 00 h 01 min 08 s\n",
      "INFO:deep_cartograph:Total elapsed time: 00 h 01 min 30 s\n"
     ]
    },
    {
     "name": "stdout",
     "output_type": "stream",
     "text": [
      "Results for model: pca\n",
      "Output folder: /home/pnavarro/repos/NostrumBD/CV_learning/deep_cartograph/deep_cartograph/data/calpha_transitions/output/2olu_A-2olv_A-1/torsions\n"
     ]
    },
    {
     "data": {
      "text/html": [
       "<img src=\"/home/pnavarro/repos/NostrumBD/CV_learning/deep_cartograph/deep_cartograph/data/calpha_transitions/output/2olu_A-2olv_A-1/torsions/train_colvars/pca/2olu_A-2olv_A-1/trajectory.png?1732797055\" style=\"width: 600px; margin-right: 10px;\">"
      ],
      "text/plain": [
       "<IPython.core.display.HTML object>"
      ]
     },
     "metadata": {},
     "output_type": "display_data"
    },
    {
     "name": "stdout",
     "output_type": "stream",
     "text": [
      "Results for model: ae\n",
      "Output folder: /home/pnavarro/repos/NostrumBD/CV_learning/deep_cartograph/deep_cartograph/data/calpha_transitions/output/2olu_A-2olv_A-1/torsions\n",
      "Final model score: 6.6808E-3\n"
     ]
    },
    {
     "data": {
      "text/html": [
       "<img src=\"/home/pnavarro/repos/NostrumBD/CV_learning/deep_cartograph/deep_cartograph/data/calpha_transitions/output/2olu_A-2olv_A-1/torsions/train_colvars/ae/2olu_A-2olv_A-1/trajectory.png?1732797055\" style=\"width: 600px; margin-right: 10px;\"><img src=\"/home/pnavarro/repos/NostrumBD/CV_learning/deep_cartograph/deep_cartograph/data/calpha_transitions/output/2olu_A-2olv_A-1/torsions/train_colvars/ae/loss.png?1732797055\" style=\"width: 600px; margin-right: 10px;\">"
      ],
      "text/plain": [
       "<IPython.core.display.HTML object>"
      ]
     },
     "metadata": {},
     "output_type": "display_data"
    },
    {
     "name": "stdout",
     "output_type": "stream",
     "text": [
      "Results for model: tica\n",
      "Output folder: /home/pnavarro/repos/NostrumBD/CV_learning/deep_cartograph/deep_cartograph/data/calpha_transitions/output/2olu_A-2olv_A-1/torsions\n"
     ]
    },
    {
     "data": {
      "text/html": [
       "<img src=\"/home/pnavarro/repos/NostrumBD/CV_learning/deep_cartograph/deep_cartograph/data/calpha_transitions/output/2olu_A-2olv_A-1/torsions/train_colvars/tica/2olu_A-2olv_A-1/trajectory.png?1732797055\" style=\"width: 600px; margin-right: 10px;\">"
      ],
      "text/plain": [
       "<IPython.core.display.HTML object>"
      ]
     },
     "metadata": {},
     "output_type": "display_data"
    },
    {
     "name": "stdout",
     "output_type": "stream",
     "text": [
      "Results for model: deep_tica\n",
      "Output folder: /home/pnavarro/repos/NostrumBD/CV_learning/deep_cartograph/deep_cartograph/data/calpha_transitions/output/2olu_A-2olv_A-1/torsions\n",
      "Final model score: -1.6214E+0\n",
      "Eigenvalue 1: 9.6979E-1\n",
      "Eigenvalue 2: 8.2517E-1\n"
     ]
    },
    {
     "data": {
      "text/html": [
       "<img src=\"/home/pnavarro/repos/NostrumBD/CV_learning/deep_cartograph/deep_cartograph/data/calpha_transitions/output/2olu_A-2olv_A-1/torsions/train_colvars/deep_tica/2olu_A-2olv_A-1/trajectory.png?1732797055\" style=\"width: 600px; margin-right: 10px;\"><img src=\"/home/pnavarro/repos/NostrumBD/CV_learning/deep_cartograph/deep_cartograph/data/calpha_transitions/output/2olu_A-2olv_A-1/torsions/train_colvars/deep_tica/loss.png?1732797055\" style=\"width: 600px; margin-right: 10px;\"><img src=\"/home/pnavarro/repos/NostrumBD/CV_learning/deep_cartograph/deep_cartograph/data/calpha_transitions/output/2olu_A-2olv_A-1/torsions/train_colvars/deep_tica/eigenvalues.png?1732797055\" style=\"width: 600px; margin-right: 10px;\">"
      ],
      "text/plain": [
       "<IPython.core.display.HTML object>"
      ]
     },
     "metadata": {},
     "output_type": "display_data"
    },
    {
     "data": {
      "text/plain": [
       "<Figure size 640x480 with 0 Axes>"
      ]
     },
     "metadata": {},
     "output_type": "display_data"
    },
    {
     "data": {
      "text/plain": [
       "<Figure size 500x400 with 0 Axes>"
      ]
     },
     "metadata": {},
     "output_type": "display_data"
    },
    {
     "data": {
      "text/plain": [
       "<Figure size 500x400 with 0 Axes>"
      ]
     },
     "metadata": {},
     "output_type": "display_data"
    },
    {
     "data": {
      "text/plain": [
       "<Figure size 640x480 with 0 Axes>"
      ]
     },
     "metadata": {},
     "output_type": "display_data"
    },
    {
     "data": {
      "text/plain": [
       "<Figure size 640x480 with 0 Axes>"
      ]
     },
     "metadata": {},
     "output_type": "display_data"
    },
    {
     "data": {
      "text/plain": [
       "<Figure size 500x400 with 0 Axes>"
      ]
     },
     "metadata": {},
     "output_type": "display_data"
    },
    {
     "data": {
      "text/plain": [
       "<Figure size 640x480 with 0 Axes>"
      ]
     },
     "metadata": {},
     "output_type": "display_data"
    }
   ],
   "source": [
    "features = 'torsions'\n",
    "system_name = '2olu_A-2olv_A-1'\n",
    "output_folder = f\"{data_folder}/calpha_transitions/output/{system_name}/{features}\"\n",
    "run_deep_cartograph(features, system_name)\n",
    "\n",
    "for model in ['pca', 'ae', 'tica', 'deep_tica']:\n",
    "\n",
    "    print(f\"Results for model: {model}\")\n",
    "    show_results(output_folder, model_name = model, system = system_name)"
   ]
  },
  {
   "cell_type": "code",
   "execution_count": 17,
   "metadata": {},
   "outputs": [
    {
     "name": "stderr",
     "output_type": "stream",
     "text": [
      "INFO:deep_cartograph:================\n",
      "INFO:deep_cartograph:Compute features\n",
      "INFO:deep_cartograph:================\n",
      "INFO:deep_cartograph:Trajectory file: /home/pnavarro/repos/NostrumBD/CV_learning/deep_cartograph/deep_cartograph/data/calpha_transitions/input/2olu_A-2olv_A-1/2olu_A-2olv_A-1.dcd\n"
     ]
    },
    {
     "name": "stderr",
     "output_type": "stream",
     "text": [
      "/home/pnavarro/miniforge3/envs/deep_cartograph/lib/python3.10/site-packages/MDAnalysis/topology/PDBParser.py:317: UserWarning: Element information is missing, elements attribute will not be populated. If needed these can be guessed using MDAnalysis.topology.guessers.\n",
      "  warnings.warn(\"Element information is missing, elements attribute \"\n",
      "/home/pnavarro/miniforge3/envs/deep_cartograph/lib/python3.10/site-packages/MDAnalysis/coordinates/PDB.py:747: UserWarning: Unit cell dimensions not found. CRYST1 record set to unitary values.\n",
      "  warnings.warn(\"Unit cell dimensions not found. \"\n",
      "/home/pnavarro/miniforge3/envs/deep_cartograph/lib/python3.10/site-packages/MDAnalysis/coordinates/PDB.py:1078: UserWarning: Found no information for attr: 'elements' Using default value of ' '\n",
      "  warnings.warn(\"Found no information for attr: '{}'\"\n",
      "/home/pnavarro/miniforge3/envs/deep_cartograph/lib/python3.10/site-packages/MDAnalysis/coordinates/PDB.py:429: UserWarning: 1 A^3 CRYST1 record, this is usually a placeholder. Unit cell dimensions will be set to None.\n",
      "  warnings.warn(\"1 A^3 CRYST1 record,\"\n",
      "WARNING:deep_cartograph.modules.md.md:Provided topology does not contain bonds. Bonds will be guessed using a distance criterion (bond_length < 2.0). Distances between bonded atoms will be excluded.\n",
      "WARNING:deep_cartograph.modules.md.md:Distances between atoms in the same residue or neighboring residues will be included. These are unlikely to contain relevant information. To exclude them use 'skip_neigh_residues: True'.\n",
      "INFO:deep_cartograph.modules.plumed.input_file.input_file:Found 3980 features for dist\n",
      "INFO:deep_cartograph.modules.plumed.utils:Executing PLUMED driver command: plumed driver --plumed /home/pnavarro/repos/NostrumBD/CV_learning/deep_cartograph/deep_cartograph/data/calpha_transitions/output/2olu_A-2olv_A-1/distances/compute_features/2olu_A-2olv_A-1/distances.dat --mf_dcd /home/pnavarro/repos/NostrumBD/CV_learning/deep_cartograph/deep_cartograph/data/calpha_transitions/input/2olu_A-2olv_A-1/2olu_A-2olv_A-1.dcd --natoms 596\n",
      "INFO:deep_cartograph:Elapsed time (Compute features): 00 h 00 min 04 s\n",
      "INFO:deep_cartograph:==================\n",
      "INFO:deep_cartograph:Filtering features\n",
      "INFO:deep_cartograph:==================\n",
      "INFO:deep_cartograph:Finding the features that contains the most information about the transitions or conformational changes.\n",
      "INFO:deep_cartograph:The following algorithms are available:\n",
      "INFO:deep_cartograph:- Hartigan's dip test filter. Keeps features that are not unimodal.\n",
      "INFO:deep_cartograph:- Shannon entropy filter. Keeps features with entropy greater than a threshold.\n",
      "INFO:deep_cartograph:- Standard deviation filter. Keeps features with standard deviation greater than a threshold.\n",
      "INFO:deep_cartograph:Note that the all features must be in the same units to apply the entropy and standard deviation filters meaningfully.\n",
      "INFO:deep_cartograph:Initial size of features set: 3980.\n",
      "INFO:deep_cartograph.tools.filter_features.filtering:Computing dip test.\n",
      "INFO:deep_cartograph.tools.filter_features.filtering:Filtered 3173 features.\n",
      "INFO:deep_cartograph:Elapsed time (Filter features): 00 h 04 min 01 s\n",
      "INFO:deep_cartograph.modules.common.common: Using features in /home/pnavarro/repos/NostrumBD/CV_learning/deep_cartograph/deep_cartograph/data/calpha_transitions/output/2olu_A-2olv_A-1/distances/filter_features/filtered_features.txt\n",
      "INFO:deep_cartograph:================================\n",
      "INFO:deep_cartograph:Training of Collective Variables\n",
      "INFO:deep_cartograph:================================\n",
      "INFO:deep_cartograph:Training of collective variables using the mlcolvar library.\n",
      "INFO:deep_cartograph.tools.train_colvars.train_colvars_workflow:Collective variables to compute: ['pca', 'deep_tica', 'tica', 'ae']\n",
      "INFO:deep_cartograph.tools.train_colvars.cv_calculator:Reading training data from colvars files...\n",
      "INFO:deep_cartograph.tools.train_colvars.cv_calculator:Number of features: 807\n",
      "INFO:deep_cartograph.tools.train_colvars.cv_calculator:Number of samples: 338\n",
      "INFO:deep_cartograph.tools.train_colvars.cv_calculator:Calculating PCA ...\n",
      "INFO:deep_cartograph.tools.train_colvars.cv_calculator:Projecting reference data onto PCA ...\n",
      "INFO:deep_cartograph.tools.train_colvars.cv_calculator:Collective variable weights saved to /home/pnavarro/repos/NostrumBD/CV_learning/deep_cartograph/deep_cartograph/data/calpha_transitions/output/2olu_A-2olv_A-1/distances/train_colvars/pca/weights.txt\n",
      "INFO:deep_cartograph.tools.train_colvars.train_colvars_workflow:Projecting colvars file: /home/pnavarro/repos/NostrumBD/CV_learning/deep_cartograph/deep_cartograph/data/calpha_transitions/output/2olu_A-2olv_A-1/distances/compute_features/2olu_A-2olv_A-1/colvars.dat\n",
      "INFO:deep_cartograph.tools.train_colvars.train_colvars_workflow:Corresponding trajectory file: /home/pnavarro/repos/NostrumBD/CV_learning/deep_cartograph/deep_cartograph/data/calpha_transitions/input/2olu_A-2olv_A-1/2olu_A-2olv_A-1.dcd\n",
      "INFO:deep_cartograph.tools.train_colvars.train_colvars_workflow:Corresponding topology file: /home/pnavarro/repos/NostrumBD/CV_learning/deep_cartograph/deep_cartograph/data/calpha_transitions/input/2olu_A-2olv_A-1/2olu_A-2olv_A-1.pdb\n",
      "INFO:deep_cartograph.tools.train_colvars.cv_calculator:Projecting colvars features onto PCA ...\n",
      "INFO:deep_cartograph.modules.figures.figures:Computing FES(PC 1, PC 2)...\n",
      "/home/pnavarro/repos/NostrumBD/CV_learning/deep_cartograph/deep_cartograph/modules/figures/figures.py:129: UserWarning: No artists with labels found to put in legend.  Note that artists whose label start with an underscore are ignored when legend() is called with no argument.\n",
      "  ax.legend(fontsize = font_size)\n",
      "INFO:deep_cartograph.tools.train_colvars.cv_calculator:Reading training data from colvars files...\n",
      "INFO:deep_cartograph.tools.train_colvars.cv_calculator:Number of features: 807\n",
      "/home/pnavarro/repos/mlcolvar/mlcolvar/utils/timelagged.py:140: UserWarning: Monitoring the progress for the search of time-lagged configurations with a progress_bar requires `tqdm`.\n",
      "  warnings.warn(\n",
      "INFO:deep_cartograph.tools.train_colvars.cv_calculator:Number of samples: 335\n",
      "INFO:deep_cartograph.tools.train_colvars.cv_calculator:Calculating DeepTICA ...\n",
      "INFO:deep_cartograph.tools.train_colvars.cv_calculator:Training DeepTICA ...\n",
      "INFO:deep_cartograph.tools.train_colvars.cv_calculator:Model architecture: DeepTICA(\n",
      "  (loss_fn): ReduceEigenvaluesLoss()\n",
      "  (norm_in): Normalization(in_features=807, out_features=807, mode=mean_std)\n",
      "  (nn): FeedForward(\n",
      "    (nn): Sequential(\n",
      "      (0): Linear(in_features=807, out_features=5, bias=True)\n",
      "      (1): Shifted_Softplus(beta=1, threshold=20)\n",
      "      (2): Dropout(p=0.1, inplace=False)\n",
      "      (3): Linear(in_features=5, out_features=3, bias=True)\n",
      "      (4): Shifted_Softplus(beta=1, threshold=20)\n",
      "      (5): Dropout(p=0.1, inplace=False)\n",
      "      (6): Linear(in_features=3, out_features=2, bias=True)\n",
      "    )\n",
      "  )\n",
      "  (tica): TICA(in_features=2, out_features=2)\n",
      ")\n",
      "GPU available: False, used: False\n",
      "TPU available: False, using: 0 TPU cores\n",
      "HPU available: False, using: 0 HPUs\n",
      "\n",
      "  | Name    | Type                  | Params | Mode  | In sizes | Out sizes\n",
      "---------------------------------------------------------------------------------\n",
      "0 | loss_fn | ReduceEigenvaluesLoss | 0      | train | ?        | ?        \n",
      "1 | norm_in | Normalization         | 0      | train | [1, 807] | [1, 807] \n",
      "2 | nn      | FeedForward           | 4.1 K  | train | [1, 807] | [1, 2]   \n",
      "3 | tica    | TICA                  | 0      | train | [1, 2]   | [1, 2]   \n",
      "---------------------------------------------------------------------------------\n",
      "4.1 K     Trainable params\n",
      "0         Non-trainable params\n",
      "4.1 K     Total params\n",
      "0.016     Total estimated model params size (MB)\n",
      "INFO:deep_cartograph.tools.train_colvars.cv_calculator:Best model score: -1.9659289121627808\n",
      "/home/pnavarro/repos/mlcolvar/mlcolvar/utils/plot.py:254: UserWarning: Data has no positive values, and therefore cannot be log-scaled.\n",
      "  ax.set_yscale(yscale)\n",
      "INFO:deep_cartograph.tools.train_colvars.cv_calculator:Projecting reference data onto DeepTICA ...\n",
      "INFO:deep_cartograph.tools.train_colvars.cv_calculator:Took 23 epochs\n",
      "INFO:deep_cartograph.tools.train_colvars.cv_calculator:Eigenvalue 1: 1.003287434577942\n",
      "INFO:deep_cartograph.tools.train_colvars.cv_calculator:Eigenvalue 2: 0.9794606566429138\n",
      "/home/pnavarro/repos/mlcolvar/mlcolvar/core/nn/utils.py:13: TracerWarning: Converting a tensor to a Python number might cause the trace to be incorrect. We can't record the data flow of Python values, so this value will be treated as a constant in the future. This means that the trace might not generalize to other inputs!\n",
      "  sp0 = F.softplus(torch.zeros(1), self.beta, self.threshold).item()\n",
      "INFO:deep_cartograph.tools.train_colvars.cv_calculator:Collective variable weights saved to /home/pnavarro/repos/NostrumBD/CV_learning/deep_cartograph/deep_cartograph/data/calpha_transitions/output/2olu_A-2olv_A-1/distances/train_colvars/deep_tica/weights.ptc\n",
      "INFO:deep_cartograph.tools.train_colvars.train_colvars_workflow:Projecting colvars file: /home/pnavarro/repos/NostrumBD/CV_learning/deep_cartograph/deep_cartograph/data/calpha_transitions/output/2olu_A-2olv_A-1/distances/compute_features/2olu_A-2olv_A-1/colvars.dat\n",
      "INFO:deep_cartograph.tools.train_colvars.train_colvars_workflow:Corresponding trajectory file: /home/pnavarro/repos/NostrumBD/CV_learning/deep_cartograph/deep_cartograph/data/calpha_transitions/input/2olu_A-2olv_A-1/2olu_A-2olv_A-1.dcd\n",
      "INFO:deep_cartograph.tools.train_colvars.train_colvars_workflow:Corresponding topology file: /home/pnavarro/repos/NostrumBD/CV_learning/deep_cartograph/deep_cartograph/data/calpha_transitions/input/2olu_A-2olv_A-1/2olu_A-2olv_A-1.pdb\n",
      "INFO:deep_cartograph.tools.train_colvars.cv_calculator:Projecting features onto DeepTICA ...\n",
      "INFO:deep_cartograph.modules.figures.figures:Computing FES(DeepTIC 1, DeepTIC 2)...\n",
      "/home/pnavarro/repos/NostrumBD/CV_learning/deep_cartograph/deep_cartograph/modules/figures/figures.py:129: UserWarning: No artists with labels found to put in legend.  Note that artists whose label start with an underscore are ignored when legend() is called with no argument.\n",
      "  ax.legend(fontsize = font_size)\n",
      "INFO:deep_cartograph.tools.train_colvars.cv_calculator:Reading training data from colvars files...\n",
      "INFO:deep_cartograph.tools.train_colvars.cv_calculator:Number of features: 807\n",
      "/home/pnavarro/repos/mlcolvar/mlcolvar/utils/timelagged.py:140: UserWarning: Monitoring the progress for the search of time-lagged configurations with a progress_bar requires `tqdm`.\n",
      "  warnings.warn(\n",
      "INFO:deep_cartograph.tools.train_colvars.cv_calculator:Number of samples: 335\n",
      "INFO:deep_cartograph.tools.train_colvars.cv_calculator:Calculating TICA ...\n",
      "ERROR:deep_cartograph.tools.train_colvars.cv_calculator:TICA could not be computed. Error message: linalg.cholesky: The factorization could not be completed because the input is not positive-definite (the leading minor of order 123 is not positive-definite).\n",
      "INFO:deep_cartograph.tools.train_colvars.cv_calculator:Reading training data from colvars files...\n",
      "INFO:deep_cartograph.tools.train_colvars.cv_calculator:Number of features: 807\n",
      "INFO:deep_cartograph.tools.train_colvars.cv_calculator:Number of samples: 338\n",
      "INFO:deep_cartograph.tools.train_colvars.cv_calculator:Calculating AE ...\n",
      "INFO:deep_cartograph.tools.train_colvars.cv_calculator:Training AE ...\n",
      "INFO:deep_cartograph.tools.train_colvars.cv_calculator:Model architecture: AutoEncoderCV(\n",
      "  (loss_fn): MSELoss()\n",
      "  (norm_in): Normalization(in_features=807, out_features=807, mode=mean_std)\n",
      "  (encoder): FeedForward(\n",
      "    (nn): Sequential(\n",
      "      (0): Linear(in_features=807, out_features=5, bias=True)\n",
      "      (1): Shifted_Softplus(beta=1, threshold=20)\n",
      "      (2): Dropout(p=0.1, inplace=False)\n",
      "      (3): Linear(in_features=5, out_features=3, bias=True)\n",
      "      (4): Shifted_Softplus(beta=1, threshold=20)\n",
      "      (5): Dropout(p=0.1, inplace=False)\n",
      "      (6): Linear(in_features=3, out_features=2, bias=True)\n",
      "    )\n",
      "  )\n",
      "  (decoder): FeedForward(\n",
      "    (nn): Sequential(\n",
      "      (0): Linear(in_features=2, out_features=3, bias=True)\n",
      "      (1): Shifted_Softplus(beta=1, threshold=20)\n",
      "      (2): Dropout(p=0.1, inplace=False)\n",
      "      (3): Linear(in_features=3, out_features=5, bias=True)\n",
      "      (4): Shifted_Softplus(beta=1, threshold=20)\n",
      "      (5): Dropout(p=0.1, inplace=False)\n",
      "      (6): Linear(in_features=5, out_features=807, bias=True)\n",
      "    )\n",
      "  )\n",
      ")\n",
      "GPU available: False, used: False\n",
      "TPU available: False, using: 0 TPU cores\n",
      "HPU available: False, using: 0 HPUs\n",
      "\n",
      "  | Name    | Type          | Params | Mode  | In sizes | Out sizes\n",
      "-------------------------------------------------------------------------\n",
      "0 | loss_fn | MSELoss       | 0      | train | ?        | ?        \n",
      "1 | norm_in | Normalization | 0      | train | [1, 807] | [1, 807] \n",
      "2 | encoder | FeedForward   | 4.1 K  | train | [1, 807] | [1, 2]   \n",
      "3 | decoder | FeedForward   | 4.9 K  | train | ?        | ?        \n",
      "-------------------------------------------------------------------------\n",
      "8.9 K     Trainable params\n",
      "0         Non-trainable params\n",
      "8.9 K     Total params\n",
      "0.036     Total estimated model params size (MB)\n",
      "INFO:deep_cartograph.tools.train_colvars.cv_calculator:Best model score: 0.0037722832057625055\n",
      "INFO:deep_cartograph.tools.train_colvars.cv_calculator:Projecting reference data onto AE ...\n",
      "/home/pnavarro/repos/mlcolvar/mlcolvar/core/nn/utils.py:13: TracerWarning: Converting a tensor to a Python number might cause the trace to be incorrect. We can't record the data flow of Python values, so this value will be treated as a constant in the future. This means that the trace might not generalize to other inputs!\n",
      "  sp0 = F.softplus(torch.zeros(1), self.beta, self.threshold).item()\n",
      "INFO:deep_cartograph.tools.train_colvars.cv_calculator:Collective variable weights saved to /home/pnavarro/repos/NostrumBD/CV_learning/deep_cartograph/deep_cartograph/data/calpha_transitions/output/2olu_A-2olv_A-1/distances/train_colvars/ae/weights.ptc\n",
      "INFO:deep_cartograph.tools.train_colvars.train_colvars_workflow:Projecting colvars file: /home/pnavarro/repos/NostrumBD/CV_learning/deep_cartograph/deep_cartograph/data/calpha_transitions/output/2olu_A-2olv_A-1/distances/compute_features/2olu_A-2olv_A-1/colvars.dat\n",
      "INFO:deep_cartograph.tools.train_colvars.train_colvars_workflow:Corresponding trajectory file: /home/pnavarro/repos/NostrumBD/CV_learning/deep_cartograph/deep_cartograph/data/calpha_transitions/input/2olu_A-2olv_A-1/2olu_A-2olv_A-1.dcd\n",
      "INFO:deep_cartograph.tools.train_colvars.train_colvars_workflow:Corresponding topology file: /home/pnavarro/repos/NostrumBD/CV_learning/deep_cartograph/deep_cartograph/data/calpha_transitions/input/2olu_A-2olv_A-1/2olu_A-2olv_A-1.pdb\n",
      "INFO:deep_cartograph.tools.train_colvars.cv_calculator:Projecting features onto AE ...\n",
      "INFO:deep_cartograph.modules.figures.figures:Computing FES(AE 1, AE 2)...\n",
      "/home/pnavarro/repos/NostrumBD/CV_learning/deep_cartograph/deep_cartograph/modules/figures/figures.py:129: UserWarning: No artists with labels found to put in legend.  Note that artists whose label start with an underscore are ignored when legend() is called with no argument.\n",
      "  ax.legend(fontsize = font_size)\n",
      "INFO:deep_cartograph:Elapsed time (Train colvars): 00 h 01 min 47 s\n",
      "INFO:deep_cartograph:Total elapsed time: 00 h 05 min 53 s\n"
     ]
    },
    {
     "name": "stdout",
     "output_type": "stream",
     "text": [
      "Results for model: pca\n",
      "Output folder: /home/pnavarro/repos/NostrumBD/CV_learning/deep_cartograph/deep_cartograph/data/calpha_transitions/output/2olu_A-2olv_A-1/distances\n"
     ]
    },
    {
     "data": {
      "text/html": [
       "<img src=\"/home/pnavarro/repos/NostrumBD/CV_learning/deep_cartograph/deep_cartograph/data/calpha_transitions/output/2olu_A-2olv_A-1/distances/train_colvars/pca/2olu_A-2olv_A-1/trajectory.png?1732797408\" style=\"width: 600px; margin-right: 10px;\">"
      ],
      "text/plain": [
       "<IPython.core.display.HTML object>"
      ]
     },
     "metadata": {},
     "output_type": "display_data"
    },
    {
     "name": "stdout",
     "output_type": "stream",
     "text": [
      "Results for model: ae\n",
      "Output folder: /home/pnavarro/repos/NostrumBD/CV_learning/deep_cartograph/deep_cartograph/data/calpha_transitions/output/2olu_A-2olv_A-1/distances\n",
      "Final model score: 3.7723E-3\n"
     ]
    },
    {
     "data": {
      "text/html": [
       "<img src=\"/home/pnavarro/repos/NostrumBD/CV_learning/deep_cartograph/deep_cartograph/data/calpha_transitions/output/2olu_A-2olv_A-1/distances/train_colvars/ae/2olu_A-2olv_A-1/trajectory.png?1732797408\" style=\"width: 600px; margin-right: 10px;\"><img src=\"/home/pnavarro/repos/NostrumBD/CV_learning/deep_cartograph/deep_cartograph/data/calpha_transitions/output/2olu_A-2olv_A-1/distances/train_colvars/ae/loss.png?1732797408\" style=\"width: 600px; margin-right: 10px;\">"
      ],
      "text/plain": [
       "<IPython.core.display.HTML object>"
      ]
     },
     "metadata": {},
     "output_type": "display_data"
    },
    {
     "name": "stdout",
     "output_type": "stream",
     "text": [
      "Results for model: tica\n",
      "Output folder: /home/pnavarro/repos/NostrumBD/CV_learning/deep_cartograph/deep_cartograph/data/calpha_transitions/output/2olu_A-2olv_A-1/distances\n"
     ]
    },
    {
     "data": {
      "text/html": [],
      "text/plain": [
       "<IPython.core.display.HTML object>"
      ]
     },
     "metadata": {},
     "output_type": "display_data"
    },
    {
     "name": "stdout",
     "output_type": "stream",
     "text": [
      "Results for model: deep_tica\n",
      "Output folder: /home/pnavarro/repos/NostrumBD/CV_learning/deep_cartograph/deep_cartograph/data/calpha_transitions/output/2olu_A-2olv_A-1/distances\n",
      "Final model score: -1.9659E+0\n",
      "Eigenvalue 1: 1.0033E+0\n",
      "Eigenvalue 2: 9.7946E-1\n"
     ]
    },
    {
     "data": {
      "text/html": [
       "<img src=\"/home/pnavarro/repos/NostrumBD/CV_learning/deep_cartograph/deep_cartograph/data/calpha_transitions/output/2olu_A-2olv_A-1/distances/train_colvars/deep_tica/2olu_A-2olv_A-1/trajectory.png?1732797408\" style=\"width: 600px; margin-right: 10px;\"><img src=\"/home/pnavarro/repos/NostrumBD/CV_learning/deep_cartograph/deep_cartograph/data/calpha_transitions/output/2olu_A-2olv_A-1/distances/train_colvars/deep_tica/loss.png?1732797408\" style=\"width: 600px; margin-right: 10px;\"><img src=\"/home/pnavarro/repos/NostrumBD/CV_learning/deep_cartograph/deep_cartograph/data/calpha_transitions/output/2olu_A-2olv_A-1/distances/train_colvars/deep_tica/eigenvalues.png?1732797408\" style=\"width: 600px; margin-right: 10px;\">"
      ],
      "text/plain": [
       "<IPython.core.display.HTML object>"
      ]
     },
     "metadata": {},
     "output_type": "display_data"
    },
    {
     "data": {
      "text/plain": [
       "<Figure size 640x480 with 0 Axes>"
      ]
     },
     "metadata": {},
     "output_type": "display_data"
    },
    {
     "data": {
      "text/plain": [
       "<Figure size 500x400 with 0 Axes>"
      ]
     },
     "metadata": {},
     "output_type": "display_data"
    },
    {
     "data": {
      "text/plain": [
       "<Figure size 500x400 with 0 Axes>"
      ]
     },
     "metadata": {},
     "output_type": "display_data"
    },
    {
     "data": {
      "text/plain": [
       "<Figure size 640x480 with 0 Axes>"
      ]
     },
     "metadata": {},
     "output_type": "display_data"
    },
    {
     "data": {
      "text/plain": [
       "<Figure size 500x400 with 0 Axes>"
      ]
     },
     "metadata": {},
     "output_type": "display_data"
    },
    {
     "data": {
      "text/plain": [
       "<Figure size 640x480 with 0 Axes>"
      ]
     },
     "metadata": {},
     "output_type": "display_data"
    }
   ],
   "source": [
    "features = 'distances'\n",
    "system_name = '2olu_A-2olv_A-1'\n",
    "output_folder = f\"{data_folder}/calpha_transitions/output/{system_name}/{features}\"\n",
    "run_deep_cartograph(features, system_name)\n",
    "\n",
    "for model in ['pca', 'ae', 'tica', 'deep_tica']:\n",
    "\n",
    "    print(f\"Results for model: {model}\")\n",
    "    show_results(output_folder, model_name = model, system = system_name)"
   ]
  },
  {
   "cell_type": "markdown",
   "metadata": {},
   "source": [
    "## 3cw2_E-2qmu_A-3 transition\n",
    "\n",
    "<center>\n",
    "    <video width=\"620\" height=\"440\" src=\"../../../deep_cartograph/data/calpha_transitions/input/3cw2_E-2qmu_A-3/trajectory.mp4\" controls> </video>\n",
    "</center>"
   ]
  },
  {
   "cell_type": "code",
   "execution_count": 19,
   "metadata": {},
   "outputs": [
    {
     "name": "stderr",
     "output_type": "stream",
     "text": [
      "INFO:deep_cartograph:================\n",
      "INFO:deep_cartograph:Compute features\n",
      "INFO:deep_cartograph:================\n",
      "INFO:deep_cartograph:Trajectory file: /home/pnavarro/repos/NostrumBD/CV_learning/deep_cartograph/deep_cartograph/data/calpha_transitions/input/3cw2_E-2qmu_A-3/3cw2_E-2qmu_A-3.dcd\n",
      "/home/pnavarro/miniforge3/envs/deep_cartograph/lib/python3.10/site-packages/MDAnalysis/topology/PDBParser.py:317: UserWarning: Element information is missing, elements attribute will not be populated. If needed these can be guessed using MDAnalysis.topology.guessers.\n",
      "  warnings.warn(\"Element information is missing, elements attribute \"\n",
      "/home/pnavarro/miniforge3/envs/deep_cartograph/lib/python3.10/site-packages/MDAnalysis/coordinates/PDB.py:747: UserWarning: Unit cell dimensions not found. CRYST1 record set to unitary values.\n",
      "  warnings.warn(\"Unit cell dimensions not found. \"\n",
      "/home/pnavarro/miniforge3/envs/deep_cartograph/lib/python3.10/site-packages/MDAnalysis/coordinates/PDB.py:1078: UserWarning: Found no information for attr: 'elements' Using default value of ' '\n",
      "  warnings.warn(\"Found no information for attr: '{}'\"\n",
      "/home/pnavarro/miniforge3/envs/deep_cartograph/lib/python3.10/site-packages/MDAnalysis/coordinates/PDB.py:429: UserWarning: 1 A^3 CRYST1 record, this is usually a placeholder. Unit cell dimensions will be set to None.\n",
      "  warnings.warn(\"1 A^3 CRYST1 record,\"\n",
      "INFO:deep_cartograph.modules.plumed.input_file.input_file:Found 822 features for tor\n",
      "INFO:deep_cartograph.modules.plumed.utils:Executing PLUMED driver command: plumed driver --plumed /home/pnavarro/repos/NostrumBD/CV_learning/deep_cartograph/deep_cartograph/data/calpha_transitions/output/3cw2_E-2qmu_A-3/torsions/compute_features/3cw2_E-2qmu_A-3/torsions.dat --mf_dcd /home/pnavarro/repos/NostrumBD/CV_learning/deep_cartograph/deep_cartograph/data/calpha_transitions/input/3cw2_E-2qmu_A-3/3cw2_E-2qmu_A-3.dcd --natoms 414\n",
      "INFO:deep_cartograph:Elapsed time (Compute features): 00 h 00 min 00 s\n",
      "INFO:deep_cartograph:==================\n",
      "INFO:deep_cartograph:Filtering features\n",
      "INFO:deep_cartograph:==================\n",
      "INFO:deep_cartograph:Finding the features that contains the most information about the transitions or conformational changes.\n",
      "INFO:deep_cartograph:The following algorithms are available:\n",
      "INFO:deep_cartograph:- Hartigan's dip test filter. Keeps features that are not unimodal.\n",
      "INFO:deep_cartograph:- Shannon entropy filter. Keeps features with entropy greater than a threshold.\n",
      "INFO:deep_cartograph:- Standard deviation filter. Keeps features with standard deviation greater than a threshold.\n",
      "INFO:deep_cartograph:Note that the all features must be in the same units to apply the entropy and standard deviation filters meaningfully.\n",
      "INFO:deep_cartograph:Initial size of features set: 822.\n",
      "INFO:deep_cartograph.tools.filter_features.filtering:Computing dip test.\n",
      "INFO:deep_cartograph.tools.filter_features.filtering:Filtered 401 features.\n",
      "INFO:deep_cartograph:Elapsed time (Filter features): 00 h 00 min 11 s\n",
      "INFO:deep_cartograph.modules.common.common: Using features in /home/pnavarro/repos/NostrumBD/CV_learning/deep_cartograph/deep_cartograph/data/calpha_transitions/output/3cw2_E-2qmu_A-3/torsions/filter_features/filtered_features.txt\n",
      "INFO:deep_cartograph:================================\n",
      "INFO:deep_cartograph:Training of Collective Variables\n",
      "INFO:deep_cartograph:================================\n",
      "INFO:deep_cartograph:Training of collective variables using the mlcolvar library.\n",
      "INFO:deep_cartograph.tools.train_colvars.train_colvars_workflow:Collective variables to compute: ['pca', 'deep_tica', 'tica', 'ae']\n",
      "INFO:deep_cartograph.tools.train_colvars.cv_calculator:Reading training data from colvars files...\n",
      "INFO:deep_cartograph.tools.train_colvars.cv_calculator:Number of features: 421\n",
      "INFO:deep_cartograph.tools.train_colvars.cv_calculator:Number of samples: 292\n",
      "INFO:deep_cartograph.tools.train_colvars.cv_calculator:Calculating PCA ...\n",
      "INFO:deep_cartograph.tools.train_colvars.cv_calculator:Projecting reference data onto PCA ...\n",
      "INFO:deep_cartograph.tools.train_colvars.cv_calculator:Collective variable weights saved to /home/pnavarro/repos/NostrumBD/CV_learning/deep_cartograph/deep_cartograph/data/calpha_transitions/output/3cw2_E-2qmu_A-3/torsions/train_colvars/pca/weights.txt\n",
      "INFO:deep_cartograph.tools.train_colvars.train_colvars_workflow:Projecting colvars file: /home/pnavarro/repos/NostrumBD/CV_learning/deep_cartograph/deep_cartograph/data/calpha_transitions/output/3cw2_E-2qmu_A-3/torsions/compute_features/3cw2_E-2qmu_A-3/colvars.dat\n",
      "INFO:deep_cartograph.tools.train_colvars.train_colvars_workflow:Corresponding trajectory file: /home/pnavarro/repos/NostrumBD/CV_learning/deep_cartograph/deep_cartograph/data/calpha_transitions/input/3cw2_E-2qmu_A-3/3cw2_E-2qmu_A-3.dcd\n",
      "INFO:deep_cartograph.tools.train_colvars.train_colvars_workflow:Corresponding topology file: /home/pnavarro/repos/NostrumBD/CV_learning/deep_cartograph/deep_cartograph/data/calpha_transitions/input/3cw2_E-2qmu_A-3/3cw2_E-2qmu_A-3.pdb\n",
      "INFO:deep_cartograph.tools.train_colvars.cv_calculator:Projecting colvars features onto PCA ...\n",
      "INFO:deep_cartograph.modules.figures.figures:Computing FES(PC 1, PC 2)...\n",
      "/home/pnavarro/repos/NostrumBD/CV_learning/deep_cartograph/deep_cartograph/modules/figures/figures.py:129: UserWarning: No artists with labels found to put in legend.  Note that artists whose label start with an underscore are ignored when legend() is called with no argument.\n",
      "  ax.legend(fontsize = font_size)\n",
      "INFO:deep_cartograph.modules.statistics.statistics:Best number of clusters: 7\n",
      "/home/pnavarro/miniforge3/envs/deep_cartograph/lib/python3.10/site-packages/MDAnalysis/topology/PDBParser.py:317: UserWarning: Element information is missing, elements attribute will not be populated. If needed these can be guessed using MDAnalysis.topology.guessers.\n",
      "  warnings.warn(\"Element information is missing, elements attribute \"\n",
      "INFO:deep_cartograph.modules.md.md:Number of clusters: 7\n",
      "INFO:deep_cartograph.modules.md.md:Number of centroids: 7\n",
      "/home/pnavarro/miniforge3/envs/deep_cartograph/lib/python3.10/site-packages/MDAnalysis/coordinates/PDB.py:747: UserWarning: Unit cell dimensions not found. CRYST1 record set to unitary values.\n",
      "  warnings.warn(\"Unit cell dimensions not found. \"\n",
      "/home/pnavarro/miniforge3/envs/deep_cartograph/lib/python3.10/site-packages/MDAnalysis/coordinates/PDB.py:1078: UserWarning: Found no information for attr: 'elements' Using default value of ' '\n",
      "  warnings.warn(\"Found no information for attr: '{}'\"\n",
      "/home/pnavarro/miniforge3/envs/deep_cartograph/lib/python3.10/site-packages/seaborn/axisgrid.py:1832: UserWarning: Numpy array is not a supported type for `palette`. Please convert your palette to a list. This will become an error in v0.14\n",
      "  func(x=self.x, y=self.y, **kwargs)\n",
      "INFO:deep_cartograph.tools.train_colvars.cv_calculator:Reading training data from colvars files...\n",
      "INFO:deep_cartograph.tools.train_colvars.cv_calculator:Number of features: 421\n",
      "/home/pnavarro/repos/mlcolvar/mlcolvar/utils/timelagged.py:140: UserWarning: Monitoring the progress for the search of time-lagged configurations with a progress_bar requires `tqdm`.\n",
      "  warnings.warn(\n",
      "INFO:deep_cartograph.tools.train_colvars.cv_calculator:Number of samples: 289\n",
      "INFO:deep_cartograph.tools.train_colvars.cv_calculator:Calculating DeepTICA ...\n",
      "WARNING:deep_cartograph.tools.train_colvars.cv_calculator:The batch size is larger than the number of samples in the training set. \n",
      "                           Setting the batch size to the closest power of two: 128\n",
      "INFO:deep_cartograph.tools.train_colvars.cv_calculator:Training DeepTICA ...\n",
      "INFO:deep_cartograph.tools.train_colvars.cv_calculator:Model architecture: DeepTICA(\n",
      "  (loss_fn): ReduceEigenvaluesLoss()\n",
      "  (norm_in): Normalization(in_features=421, out_features=421, mode=mean_std)\n",
      "  (nn): FeedForward(\n",
      "    (nn): Sequential(\n",
      "      (0): Linear(in_features=421, out_features=5, bias=True)\n",
      "      (1): Shifted_Softplus(beta=1, threshold=20)\n",
      "      (2): Dropout(p=0.1, inplace=False)\n",
      "      (3): Linear(in_features=5, out_features=3, bias=True)\n",
      "      (4): Shifted_Softplus(beta=1, threshold=20)\n",
      "      (5): Dropout(p=0.1, inplace=False)\n",
      "      (6): Linear(in_features=3, out_features=2, bias=True)\n",
      "    )\n",
      "  )\n",
      "  (tica): TICA(in_features=2, out_features=2)\n",
      ")\n",
      "GPU available: False, used: False\n",
      "TPU available: False, using: 0 TPU cores\n",
      "HPU available: False, using: 0 HPUs\n",
      "\n",
      "  | Name    | Type                  | Params | Mode  | In sizes | Out sizes\n",
      "---------------------------------------------------------------------------------\n",
      "0 | loss_fn | ReduceEigenvaluesLoss | 0      | train | ?        | ?        \n",
      "1 | norm_in | Normalization         | 0      | train | [1, 421] | [1, 421] \n",
      "2 | nn      | FeedForward           | 2.1 K  | train | [1, 421] | [1, 2]   \n",
      "3 | tica    | TICA                  | 0      | train | [1, 2]   | [1, 2]   \n",
      "---------------------------------------------------------------------------------\n",
      "2.1 K     Trainable params\n",
      "0         Non-trainable params\n",
      "2.1 K     Total params\n",
      "0.009     Total estimated model params size (MB)\n",
      "INFO:deep_cartograph.tools.train_colvars.cv_calculator:Best model score: -1.9060633182525635\n",
      "/home/pnavarro/repos/mlcolvar/mlcolvar/utils/plot.py:254: UserWarning: Data has no positive values, and therefore cannot be log-scaled.\n",
      "  ax.set_yscale(yscale)\n",
      "INFO:deep_cartograph.tools.train_colvars.cv_calculator:Projecting reference data onto DeepTICA ...\n",
      "INFO:deep_cartograph.tools.train_colvars.cv_calculator:Took 1 epochs\n",
      "INFO:deep_cartograph.tools.train_colvars.cv_calculator:Eigenvalue 1: 0.9997255802154541\n",
      "INFO:deep_cartograph.tools.train_colvars.cv_calculator:Eigenvalue 2: 0.9521618485450745\n",
      "/home/pnavarro/repos/mlcolvar/mlcolvar/core/nn/utils.py:13: TracerWarning: Converting a tensor to a Python number might cause the trace to be incorrect. We can't record the data flow of Python values, so this value will be treated as a constant in the future. This means that the trace might not generalize to other inputs!\n",
      "  sp0 = F.softplus(torch.zeros(1), self.beta, self.threshold).item()\n",
      "INFO:deep_cartograph.tools.train_colvars.cv_calculator:Collective variable weights saved to /home/pnavarro/repos/NostrumBD/CV_learning/deep_cartograph/deep_cartograph/data/calpha_transitions/output/3cw2_E-2qmu_A-3/torsions/train_colvars/deep_tica/weights.ptc\n",
      "INFO:deep_cartograph.tools.train_colvars.train_colvars_workflow:Projecting colvars file: /home/pnavarro/repos/NostrumBD/CV_learning/deep_cartograph/deep_cartograph/data/calpha_transitions/output/3cw2_E-2qmu_A-3/torsions/compute_features/3cw2_E-2qmu_A-3/colvars.dat\n",
      "INFO:deep_cartograph.tools.train_colvars.train_colvars_workflow:Corresponding trajectory file: /home/pnavarro/repos/NostrumBD/CV_learning/deep_cartograph/deep_cartograph/data/calpha_transitions/input/3cw2_E-2qmu_A-3/3cw2_E-2qmu_A-3.dcd\n",
      "INFO:deep_cartograph.tools.train_colvars.train_colvars_workflow:Corresponding topology file: /home/pnavarro/repos/NostrumBD/CV_learning/deep_cartograph/deep_cartograph/data/calpha_transitions/input/3cw2_E-2qmu_A-3/3cw2_E-2qmu_A-3.pdb\n",
      "INFO:deep_cartograph.tools.train_colvars.cv_calculator:Projecting features onto DeepTICA ...\n",
      "INFO:deep_cartograph.modules.figures.figures:Computing FES(DeepTIC 1, DeepTIC 2)...\n",
      "/home/pnavarro/repos/NostrumBD/CV_learning/deep_cartograph/deep_cartograph/modules/figures/figures.py:129: UserWarning: No artists with labels found to put in legend.  Note that artists whose label start with an underscore are ignored when legend() is called with no argument.\n",
      "  ax.legend(fontsize = font_size)\n",
      "INFO:deep_cartograph.modules.statistics.statistics:Best number of clusters: 10\n",
      "/home/pnavarro/miniforge3/envs/deep_cartograph/lib/python3.10/site-packages/MDAnalysis/topology/PDBParser.py:317: UserWarning: Element information is missing, elements attribute will not be populated. If needed these can be guessed using MDAnalysis.topology.guessers.\n",
      "  warnings.warn(\"Element information is missing, elements attribute \"\n",
      "INFO:deep_cartograph.modules.md.md:Number of clusters: 10\n",
      "INFO:deep_cartograph.modules.md.md:Number of centroids: 10\n",
      "/home/pnavarro/miniforge3/envs/deep_cartograph/lib/python3.10/site-packages/MDAnalysis/coordinates/PDB.py:747: UserWarning: Unit cell dimensions not found. CRYST1 record set to unitary values.\n",
      "  warnings.warn(\"Unit cell dimensions not found. \"\n",
      "/home/pnavarro/miniforge3/envs/deep_cartograph/lib/python3.10/site-packages/MDAnalysis/coordinates/PDB.py:1078: UserWarning: Found no information for attr: 'elements' Using default value of ' '\n",
      "  warnings.warn(\"Found no information for attr: '{}'\"\n",
      "/home/pnavarro/miniforge3/envs/deep_cartograph/lib/python3.10/site-packages/seaborn/axisgrid.py:1832: UserWarning: Numpy array is not a supported type for `palette`. Please convert your palette to a list. This will become an error in v0.14\n",
      "  func(x=self.x, y=self.y, **kwargs)\n",
      "INFO:deep_cartograph.tools.train_colvars.cv_calculator:Reading training data from colvars files...\n",
      "INFO:deep_cartograph.tools.train_colvars.cv_calculator:Number of features: 421\n",
      "/home/pnavarro/repos/mlcolvar/mlcolvar/utils/timelagged.py:140: UserWarning: Monitoring the progress for the search of time-lagged configurations with a progress_bar requires `tqdm`.\n",
      "  warnings.warn(\n",
      "INFO:deep_cartograph.tools.train_colvars.cv_calculator:Number of samples: 289\n",
      "INFO:deep_cartograph.tools.train_colvars.cv_calculator:Calculating TICA ...\n",
      "ERROR:deep_cartograph.tools.train_colvars.cv_calculator:TICA could not be computed. Error message: linalg.cholesky: The factorization could not be completed because the input is not positive-definite (the leading minor of order 301 is not positive-definite).\n",
      "INFO:deep_cartograph.tools.train_colvars.cv_calculator:Reading training data from colvars files...\n",
      "INFO:deep_cartograph.tools.train_colvars.cv_calculator:Number of features: 421\n",
      "INFO:deep_cartograph.tools.train_colvars.cv_calculator:Number of samples: 292\n",
      "INFO:deep_cartograph.tools.train_colvars.cv_calculator:Calculating AE ...\n",
      "WARNING:deep_cartograph.tools.train_colvars.cv_calculator:The batch size is larger than the number of samples in the training set. \n",
      "                           Setting the batch size to the closest power of two: 128\n",
      "INFO:deep_cartograph.tools.train_colvars.cv_calculator:Training AE ...\n",
      "INFO:deep_cartograph.tools.train_colvars.cv_calculator:Model architecture: AutoEncoderCV(\n",
      "  (loss_fn): MSELoss()\n",
      "  (norm_in): Normalization(in_features=421, out_features=421, mode=mean_std)\n",
      "  (encoder): FeedForward(\n",
      "    (nn): Sequential(\n",
      "      (0): Linear(in_features=421, out_features=5, bias=True)\n",
      "      (1): Shifted_Softplus(beta=1, threshold=20)\n",
      "      (2): Dropout(p=0.1, inplace=False)\n",
      "      (3): Linear(in_features=5, out_features=3, bias=True)\n",
      "      (4): Shifted_Softplus(beta=1, threshold=20)\n",
      "      (5): Dropout(p=0.1, inplace=False)\n",
      "      (6): Linear(in_features=3, out_features=2, bias=True)\n",
      "    )\n",
      "  )\n",
      "  (decoder): FeedForward(\n",
      "    (nn): Sequential(\n",
      "      (0): Linear(in_features=2, out_features=3, bias=True)\n",
      "      (1): Shifted_Softplus(beta=1, threshold=20)\n",
      "      (2): Dropout(p=0.1, inplace=False)\n",
      "      (3): Linear(in_features=3, out_features=5, bias=True)\n",
      "      (4): Shifted_Softplus(beta=1, threshold=20)\n",
      "      (5): Dropout(p=0.1, inplace=False)\n",
      "      (6): Linear(in_features=5, out_features=421, bias=True)\n",
      "    )\n",
      "  )\n",
      ")\n",
      "GPU available: False, used: False\n",
      "TPU available: False, using: 0 TPU cores\n",
      "HPU available: False, using: 0 HPUs\n",
      "\n",
      "  | Name    | Type          | Params | Mode  | In sizes | Out sizes\n",
      "-------------------------------------------------------------------------\n",
      "0 | loss_fn | MSELoss       | 0      | train | ?        | ?        \n",
      "1 | norm_in | Normalization | 0      | train | [1, 421] | [1, 421] \n",
      "2 | encoder | FeedForward   | 2.1 K  | train | [1, 421] | [1, 2]   \n",
      "3 | decoder | FeedForward   | 2.6 K  | train | ?        | ?        \n",
      "-------------------------------------------------------------------------\n",
      "4.7 K     Trainable params\n",
      "0         Non-trainable params\n",
      "4.7 K     Total params\n",
      "0.019     Total estimated model params size (MB)\n",
      "INFO:deep_cartograph.tools.train_colvars.cv_calculator:Best model score: 0.006160489749163389\n",
      "INFO:deep_cartograph.tools.train_colvars.cv_calculator:Projecting reference data onto AE ...\n",
      "/home/pnavarro/repos/mlcolvar/mlcolvar/core/nn/utils.py:13: TracerWarning: Converting a tensor to a Python number might cause the trace to be incorrect. We can't record the data flow of Python values, so this value will be treated as a constant in the future. This means that the trace might not generalize to other inputs!\n",
      "  sp0 = F.softplus(torch.zeros(1), self.beta, self.threshold).item()\n",
      "INFO:deep_cartograph.tools.train_colvars.cv_calculator:Collective variable weights saved to /home/pnavarro/repos/NostrumBD/CV_learning/deep_cartograph/deep_cartograph/data/calpha_transitions/output/3cw2_E-2qmu_A-3/torsions/train_colvars/ae/weights.ptc\n",
      "INFO:deep_cartograph.tools.train_colvars.train_colvars_workflow:Projecting colvars file: /home/pnavarro/repos/NostrumBD/CV_learning/deep_cartograph/deep_cartograph/data/calpha_transitions/output/3cw2_E-2qmu_A-3/torsions/compute_features/3cw2_E-2qmu_A-3/colvars.dat\n",
      "INFO:deep_cartograph.tools.train_colvars.train_colvars_workflow:Corresponding trajectory file: /home/pnavarro/repos/NostrumBD/CV_learning/deep_cartograph/deep_cartograph/data/calpha_transitions/input/3cw2_E-2qmu_A-3/3cw2_E-2qmu_A-3.dcd\n",
      "INFO:deep_cartograph.tools.train_colvars.train_colvars_workflow:Corresponding topology file: /home/pnavarro/repos/NostrumBD/CV_learning/deep_cartograph/deep_cartograph/data/calpha_transitions/input/3cw2_E-2qmu_A-3/3cw2_E-2qmu_A-3.pdb\n",
      "INFO:deep_cartograph.tools.train_colvars.cv_calculator:Projecting features onto AE ...\n",
      "INFO:deep_cartograph.modules.figures.figures:Computing FES(AE 1, AE 2)...\n",
      "/home/pnavarro/repos/NostrumBD/CV_learning/deep_cartograph/deep_cartograph/modules/figures/figures.py:129: UserWarning: No artists with labels found to put in legend.  Note that artists whose label start with an underscore are ignored when legend() is called with no argument.\n",
      "  ax.legend(fontsize = font_size)\n",
      "INFO:deep_cartograph.modules.statistics.statistics:Best number of clusters: 9\n",
      "/home/pnavarro/miniforge3/envs/deep_cartograph/lib/python3.10/site-packages/MDAnalysis/topology/PDBParser.py:317: UserWarning: Element information is missing, elements attribute will not be populated. If needed these can be guessed using MDAnalysis.topology.guessers.\n",
      "  warnings.warn(\"Element information is missing, elements attribute \"\n",
      "INFO:deep_cartograph.modules.md.md:Number of clusters: 9\n",
      "INFO:deep_cartograph.modules.md.md:Number of centroids: 9\n",
      "/home/pnavarro/miniforge3/envs/deep_cartograph/lib/python3.10/site-packages/MDAnalysis/coordinates/PDB.py:747: UserWarning: Unit cell dimensions not found. CRYST1 record set to unitary values.\n",
      "  warnings.warn(\"Unit cell dimensions not found. \"\n",
      "/home/pnavarro/miniforge3/envs/deep_cartograph/lib/python3.10/site-packages/MDAnalysis/coordinates/PDB.py:1078: UserWarning: Found no information for attr: 'elements' Using default value of ' '\n",
      "  warnings.warn(\"Found no information for attr: '{}'\"\n",
      "/home/pnavarro/miniforge3/envs/deep_cartograph/lib/python3.10/site-packages/seaborn/axisgrid.py:1832: UserWarning: Numpy array is not a supported type for `palette`. Please convert your palette to a list. This will become an error in v0.14\n",
      "  func(x=self.x, y=self.y, **kwargs)\n",
      "INFO:deep_cartograph:Elapsed time (Train colvars): 00 h 01 min 51 s\n",
      "INFO:deep_cartograph:Total elapsed time: 00 h 02 min 03 s\n"
     ]
    },
    {
     "name": "stdout",
     "output_type": "stream",
     "text": [
      "Results for model: pca\n",
      "Output folder: /home/pnavarro/repos/NostrumBD/CV_learning/deep_cartograph/deep_cartograph/data/calpha_transitions/output/3cw2_E-2qmu_A-3/torsions\n"
     ]
    },
    {
     "data": {
      "text/html": [
       "<img src=\"/home/pnavarro/repos/NostrumBD/CV_learning/deep_cartograph/deep_cartograph/data/calpha_transitions/output/3cw2_E-2qmu_A-3/torsions/train_colvars/pca/3cw2_E-2qmu_A-3/trajectory.png?1732799509\" style=\"width: 600px; margin-right: 10px;\">"
      ],
      "text/plain": [
       "<IPython.core.display.HTML object>"
      ]
     },
     "metadata": {},
     "output_type": "display_data"
    },
    {
     "name": "stdout",
     "output_type": "stream",
     "text": [
      "Results for model: ae\n",
      "Output folder: /home/pnavarro/repos/NostrumBD/CV_learning/deep_cartograph/deep_cartograph/data/calpha_transitions/output/3cw2_E-2qmu_A-3/torsions\n",
      "Final model score: 6.1605E-3\n"
     ]
    },
    {
     "data": {
      "text/html": [
       "<img src=\"/home/pnavarro/repos/NostrumBD/CV_learning/deep_cartograph/deep_cartograph/data/calpha_transitions/output/3cw2_E-2qmu_A-3/torsions/train_colvars/ae/3cw2_E-2qmu_A-3/trajectory.png?1732799509\" style=\"width: 600px; margin-right: 10px;\"><img src=\"/home/pnavarro/repos/NostrumBD/CV_learning/deep_cartograph/deep_cartograph/data/calpha_transitions/output/3cw2_E-2qmu_A-3/torsions/train_colvars/ae/loss.png?1732799509\" style=\"width: 600px; margin-right: 10px;\">"
      ],
      "text/plain": [
       "<IPython.core.display.HTML object>"
      ]
     },
     "metadata": {},
     "output_type": "display_data"
    },
    {
     "name": "stdout",
     "output_type": "stream",
     "text": [
      "Results for model: tica\n",
      "Output folder: /home/pnavarro/repos/NostrumBD/CV_learning/deep_cartograph/deep_cartograph/data/calpha_transitions/output/3cw2_E-2qmu_A-3/torsions\n"
     ]
    },
    {
     "data": {
      "text/html": [],
      "text/plain": [
       "<IPython.core.display.HTML object>"
      ]
     },
     "metadata": {},
     "output_type": "display_data"
    },
    {
     "name": "stdout",
     "output_type": "stream",
     "text": [
      "Results for model: deep_tica\n",
      "Output folder: /home/pnavarro/repos/NostrumBD/CV_learning/deep_cartograph/deep_cartograph/data/calpha_transitions/output/3cw2_E-2qmu_A-3/torsions\n",
      "Final model score: -1.9061E+0\n",
      "Eigenvalue 1: 9.9973E-1\n",
      "Eigenvalue 2: 9.5216E-1\n"
     ]
    },
    {
     "data": {
      "text/html": [
       "<img src=\"/home/pnavarro/repos/NostrumBD/CV_learning/deep_cartograph/deep_cartograph/data/calpha_transitions/output/3cw2_E-2qmu_A-3/torsions/train_colvars/deep_tica/3cw2_E-2qmu_A-3/trajectory.png?1732799509\" style=\"width: 600px; margin-right: 10px;\"><img src=\"/home/pnavarro/repos/NostrumBD/CV_learning/deep_cartograph/deep_cartograph/data/calpha_transitions/output/3cw2_E-2qmu_A-3/torsions/train_colvars/deep_tica/loss.png?1732799509\" style=\"width: 600px; margin-right: 10px;\"><img src=\"/home/pnavarro/repos/NostrumBD/CV_learning/deep_cartograph/deep_cartograph/data/calpha_transitions/output/3cw2_E-2qmu_A-3/torsions/train_colvars/deep_tica/eigenvalues.png?1732799509\" style=\"width: 600px; margin-right: 10px;\">"
      ],
      "text/plain": [
       "<IPython.core.display.HTML object>"
      ]
     },
     "metadata": {},
     "output_type": "display_data"
    },
    {
     "data": {
      "text/plain": [
       "<Figure size 640x480 with 0 Axes>"
      ]
     },
     "metadata": {},
     "output_type": "display_data"
    },
    {
     "data": {
      "text/plain": [
       "<Figure size 500x400 with 0 Axes>"
      ]
     },
     "metadata": {},
     "output_type": "display_data"
    },
    {
     "data": {
      "text/plain": [
       "<Figure size 500x400 with 0 Axes>"
      ]
     },
     "metadata": {},
     "output_type": "display_data"
    },
    {
     "data": {
      "text/plain": [
       "<Figure size 640x480 with 0 Axes>"
      ]
     },
     "metadata": {},
     "output_type": "display_data"
    },
    {
     "data": {
      "text/plain": [
       "<Figure size 500x400 with 0 Axes>"
      ]
     },
     "metadata": {},
     "output_type": "display_data"
    },
    {
     "data": {
      "text/plain": [
       "<Figure size 640x480 with 0 Axes>"
      ]
     },
     "metadata": {},
     "output_type": "display_data"
    }
   ],
   "source": [
    "features = 'torsions'\n",
    "system_name = '3cw2_E-2qmu_A-3'\n",
    "output_folder = f\"{data_folder}/calpha_transitions/output/{system_name}/{features}\"\n",
    "run_deep_cartograph(features, system_name)\n",
    "\n",
    "for model in ['pca', 'ae', 'tica', 'deep_tica']:\n",
    "\n",
    "    print(f\"Results for model: {model}\")\n",
    "    show_results(output_folder, model_name = model, system=system_name)"
   ]
  },
  {
   "cell_type": "code",
   "execution_count": 20,
   "metadata": {},
   "outputs": [
    {
     "name": "stderr",
     "output_type": "stream",
     "text": [
      "INFO:deep_cartograph:================\n",
      "INFO:deep_cartograph:Compute features\n",
      "INFO:deep_cartograph:================\n",
      "INFO:deep_cartograph:Trajectory file: /home/pnavarro/repos/NostrumBD/CV_learning/deep_cartograph/deep_cartograph/data/calpha_transitions/input/3cw2_E-2qmu_A-3/3cw2_E-2qmu_A-3.dcd\n",
      "/home/pnavarro/miniforge3/envs/deep_cartograph/lib/python3.10/site-packages/MDAnalysis/topology/PDBParser.py:317: UserWarning: Element information is missing, elements attribute will not be populated. If needed these can be guessed using MDAnalysis.topology.guessers.\n",
      "  warnings.warn(\"Element information is missing, elements attribute \"\n",
      "/home/pnavarro/miniforge3/envs/deep_cartograph/lib/python3.10/site-packages/MDAnalysis/coordinates/PDB.py:747: UserWarning: Unit cell dimensions not found. CRYST1 record set to unitary values.\n",
      "  warnings.warn(\"Unit cell dimensions not found. \"\n",
      "/home/pnavarro/miniforge3/envs/deep_cartograph/lib/python3.10/site-packages/MDAnalysis/coordinates/PDB.py:1078: UserWarning: Found no information for attr: 'elements' Using default value of ' '\n",
      "  warnings.warn(\"Found no information for attr: '{}'\"\n",
      "/home/pnavarro/miniforge3/envs/deep_cartograph/lib/python3.10/site-packages/MDAnalysis/coordinates/PDB.py:429: UserWarning: 1 A^3 CRYST1 record, this is usually a placeholder. Unit cell dimensions will be set to None.\n",
      "  warnings.warn(\"1 A^3 CRYST1 record,\"\n",
      "WARNING:deep_cartograph.modules.md.md:Provided topology does not contain bonds. Bonds will be guessed using a distance criterion (bond_length < 2.0). Distances between bonded atoms will be excluded.\n",
      "WARNING:deep_cartograph.modules.md.md:Distances between atoms in the same residue or neighboring residues will be included. These are unlikely to contain relevant information. To exclude them use 'skip_neigh_residues: True'.\n",
      "INFO:deep_cartograph.modules.plumed.input_file.input_file:Found 1918 features for dist\n",
      "INFO:deep_cartograph.modules.plumed.utils:Executing PLUMED driver command: plumed driver --plumed /home/pnavarro/repos/NostrumBD/CV_learning/deep_cartograph/deep_cartograph/data/calpha_transitions/output/3cw2_E-2qmu_A-3/distances/compute_features/3cw2_E-2qmu_A-3/distances.dat --mf_dcd /home/pnavarro/repos/NostrumBD/CV_learning/deep_cartograph/deep_cartograph/data/calpha_transitions/input/3cw2_E-2qmu_A-3/3cw2_E-2qmu_A-3.dcd --natoms 414\n",
      "INFO:deep_cartograph:Elapsed time (Compute features): 00 h 00 min 01 s\n",
      "INFO:deep_cartograph:==================\n",
      "INFO:deep_cartograph:Filtering features\n",
      "INFO:deep_cartograph:==================\n",
      "INFO:deep_cartograph:Finding the features that contains the most information about the transitions or conformational changes.\n",
      "INFO:deep_cartograph:The following algorithms are available:\n",
      "INFO:deep_cartograph:- Hartigan's dip test filter. Keeps features that are not unimodal.\n",
      "INFO:deep_cartograph:- Shannon entropy filter. Keeps features with entropy greater than a threshold.\n",
      "INFO:deep_cartograph:- Standard deviation filter. Keeps features with standard deviation greater than a threshold.\n",
      "INFO:deep_cartograph:Note that the all features must be in the same units to apply the entropy and standard deviation filters meaningfully.\n",
      "INFO:deep_cartograph:Initial size of features set: 1918.\n",
      "INFO:deep_cartograph.tools.filter_features.filtering:Computing dip test.\n",
      "INFO:deep_cartograph.tools.filter_features.filtering:Filtered 704 features.\n",
      "INFO:deep_cartograph:Elapsed time (Filter features): 00 h 00 min 53 s\n",
      "INFO:deep_cartograph.modules.common.common: Using features in /home/pnavarro/repos/NostrumBD/CV_learning/deep_cartograph/deep_cartograph/data/calpha_transitions/output/3cw2_E-2qmu_A-3/distances/filter_features/filtered_features.txt\n",
      "INFO:deep_cartograph:================================\n",
      "INFO:deep_cartograph:Training of Collective Variables\n",
      "INFO:deep_cartograph:================================\n",
      "INFO:deep_cartograph:Training of collective variables using the mlcolvar library.\n",
      "INFO:deep_cartograph.tools.train_colvars.train_colvars_workflow:Collective variables to compute: ['pca', 'deep_tica', 'tica', 'ae']\n",
      "INFO:deep_cartograph.tools.train_colvars.cv_calculator:Reading training data from colvars files...\n",
      "INFO:deep_cartograph.tools.train_colvars.cv_calculator:Number of features: 1214\n",
      "INFO:deep_cartograph.tools.train_colvars.cv_calculator:Number of samples: 292\n",
      "INFO:deep_cartograph.tools.train_colvars.cv_calculator:Calculating PCA ...\n",
      "INFO:deep_cartograph.tools.train_colvars.cv_calculator:Projecting reference data onto PCA ...\n",
      "INFO:deep_cartograph.tools.train_colvars.cv_calculator:Collective variable weights saved to /home/pnavarro/repos/NostrumBD/CV_learning/deep_cartograph/deep_cartograph/data/calpha_transitions/output/3cw2_E-2qmu_A-3/distances/train_colvars/pca/weights.txt\n",
      "INFO:deep_cartograph.tools.train_colvars.train_colvars_workflow:Projecting colvars file: /home/pnavarro/repos/NostrumBD/CV_learning/deep_cartograph/deep_cartograph/data/calpha_transitions/output/3cw2_E-2qmu_A-3/distances/compute_features/3cw2_E-2qmu_A-3/colvars.dat\n",
      "INFO:deep_cartograph.tools.train_colvars.train_colvars_workflow:Corresponding trajectory file: /home/pnavarro/repos/NostrumBD/CV_learning/deep_cartograph/deep_cartograph/data/calpha_transitions/input/3cw2_E-2qmu_A-3/3cw2_E-2qmu_A-3.dcd\n",
      "INFO:deep_cartograph.tools.train_colvars.train_colvars_workflow:Corresponding topology file: /home/pnavarro/repos/NostrumBD/CV_learning/deep_cartograph/deep_cartograph/data/calpha_transitions/input/3cw2_E-2qmu_A-3/3cw2_E-2qmu_A-3.pdb\n",
      "INFO:deep_cartograph.tools.train_colvars.cv_calculator:Projecting colvars features onto PCA ...\n",
      "INFO:deep_cartograph.modules.figures.figures:Computing FES(PC 1, PC 2)...\n",
      "/home/pnavarro/repos/NostrumBD/CV_learning/deep_cartograph/deep_cartograph/modules/figures/figures.py:129: UserWarning: No artists with labels found to put in legend.  Note that artists whose label start with an underscore are ignored when legend() is called with no argument.\n",
      "  ax.legend(fontsize = font_size)\n",
      "INFO:deep_cartograph.tools.train_colvars.cv_calculator:Reading training data from colvars files...\n",
      "INFO:deep_cartograph.tools.train_colvars.cv_calculator:Number of features: 1214\n",
      "/home/pnavarro/repos/mlcolvar/mlcolvar/utils/timelagged.py:140: UserWarning: Monitoring the progress for the search of time-lagged configurations with a progress_bar requires `tqdm`.\n",
      "  warnings.warn(\n",
      "INFO:deep_cartograph.tools.train_colvars.cv_calculator:Number of samples: 289\n",
      "INFO:deep_cartograph.tools.train_colvars.cv_calculator:Calculating DeepTICA ...\n",
      "WARNING:deep_cartograph.tools.train_colvars.cv_calculator:The batch size is larger than the number of samples in the training set. \n",
      "                           Setting the batch size to the closest power of two: 128\n",
      "INFO:deep_cartograph.tools.train_colvars.cv_calculator:Training DeepTICA ...\n",
      "INFO:deep_cartograph.tools.train_colvars.cv_calculator:Model architecture: DeepTICA(\n",
      "  (loss_fn): ReduceEigenvaluesLoss()\n",
      "  (norm_in): Normalization(in_features=1214, out_features=1214, mode=mean_std)\n",
      "  (nn): FeedForward(\n",
      "    (nn): Sequential(\n",
      "      (0): Linear(in_features=1214, out_features=5, bias=True)\n",
      "      (1): Shifted_Softplus(beta=1, threshold=20)\n",
      "      (2): Dropout(p=0.1, inplace=False)\n",
      "      (3): Linear(in_features=5, out_features=3, bias=True)\n",
      "      (4): Shifted_Softplus(beta=1, threshold=20)\n",
      "      (5): Dropout(p=0.1, inplace=False)\n",
      "      (6): Linear(in_features=3, out_features=2, bias=True)\n",
      "    )\n",
      "  )\n",
      "  (tica): TICA(in_features=2, out_features=2)\n",
      ")\n",
      "GPU available: False, used: False\n",
      "TPU available: False, using: 0 TPU cores\n",
      "HPU available: False, using: 0 HPUs\n",
      "\n",
      "  | Name    | Type                  | Params | Mode  | In sizes  | Out sizes\n",
      "----------------------------------------------------------------------------------\n",
      "0 | loss_fn | ReduceEigenvaluesLoss | 0      | train | ?         | ?        \n",
      "1 | norm_in | Normalization         | 0      | train | [1, 1214] | [1, 1214]\n",
      "2 | nn      | FeedForward           | 6.1 K  | train | [1, 1214] | [1, 2]   \n",
      "3 | tica    | TICA                  | 0      | train | [1, 2]    | [1, 2]   \n",
      "----------------------------------------------------------------------------------\n",
      "6.1 K     Trainable params\n",
      "0         Non-trainable params\n",
      "6.1 K     Total params\n",
      "0.024     Total estimated model params size (MB)\n",
      "INFO:deep_cartograph.tools.train_colvars.cv_calculator:Best model score: -1.9748234748840332\n",
      "/home/pnavarro/repos/mlcolvar/mlcolvar/utils/plot.py:254: UserWarning: Data has no positive values, and therefore cannot be log-scaled.\n",
      "  ax.set_yscale(yscale)\n",
      "INFO:deep_cartograph.tools.train_colvars.cv_calculator:Projecting reference data onto DeepTICA ...\n",
      "INFO:deep_cartograph.tools.train_colvars.cv_calculator:Took 0 epochs\n",
      "INFO:deep_cartograph.tools.train_colvars.cv_calculator:Eigenvalue 1: 0.9997482299804688\n",
      "INFO:deep_cartograph.tools.train_colvars.cv_calculator:Eigenvalue 2: 0.9875864386558533\n",
      "/home/pnavarro/repos/mlcolvar/mlcolvar/core/nn/utils.py:13: TracerWarning: Converting a tensor to a Python number might cause the trace to be incorrect. We can't record the data flow of Python values, so this value will be treated as a constant in the future. This means that the trace might not generalize to other inputs!\n",
      "  sp0 = F.softplus(torch.zeros(1), self.beta, self.threshold).item()\n",
      "INFO:deep_cartograph.tools.train_colvars.cv_calculator:Collective variable weights saved to /home/pnavarro/repos/NostrumBD/CV_learning/deep_cartograph/deep_cartograph/data/calpha_transitions/output/3cw2_E-2qmu_A-3/distances/train_colvars/deep_tica/weights.ptc\n",
      "INFO:deep_cartograph.tools.train_colvars.train_colvars_workflow:Projecting colvars file: /home/pnavarro/repos/NostrumBD/CV_learning/deep_cartograph/deep_cartograph/data/calpha_transitions/output/3cw2_E-2qmu_A-3/distances/compute_features/3cw2_E-2qmu_A-3/colvars.dat\n",
      "INFO:deep_cartograph.tools.train_colvars.train_colvars_workflow:Corresponding trajectory file: /home/pnavarro/repos/NostrumBD/CV_learning/deep_cartograph/deep_cartograph/data/calpha_transitions/input/3cw2_E-2qmu_A-3/3cw2_E-2qmu_A-3.dcd\n",
      "INFO:deep_cartograph.tools.train_colvars.train_colvars_workflow:Corresponding topology file: /home/pnavarro/repos/NostrumBD/CV_learning/deep_cartograph/deep_cartograph/data/calpha_transitions/input/3cw2_E-2qmu_A-3/3cw2_E-2qmu_A-3.pdb\n",
      "INFO:deep_cartograph.tools.train_colvars.cv_calculator:Projecting features onto DeepTICA ...\n",
      "INFO:deep_cartograph.modules.figures.figures:Computing FES(DeepTIC 1, DeepTIC 2)...\n",
      "/home/pnavarro/repos/NostrumBD/CV_learning/deep_cartograph/deep_cartograph/modules/figures/figures.py:129: UserWarning: No artists with labels found to put in legend.  Note that artists whose label start with an underscore are ignored when legend() is called with no argument.\n",
      "  ax.legend(fontsize = font_size)\n",
      "INFO:deep_cartograph.tools.train_colvars.cv_calculator:Reading training data from colvars files...\n",
      "INFO:deep_cartograph.tools.train_colvars.cv_calculator:Number of features: 1214\n",
      "/home/pnavarro/repos/mlcolvar/mlcolvar/utils/timelagged.py:140: UserWarning: Monitoring the progress for the search of time-lagged configurations with a progress_bar requires `tqdm`.\n",
      "  warnings.warn(\n",
      "INFO:deep_cartograph.tools.train_colvars.cv_calculator:Number of samples: 289\n",
      "INFO:deep_cartograph.tools.train_colvars.cv_calculator:Calculating TICA ...\n",
      "ERROR:deep_cartograph.tools.train_colvars.cv_calculator:TICA could not be computed. Error message: linalg.cholesky: The factorization could not be completed because the input is not positive-definite (the leading minor of order 156 is not positive-definite).\n",
      "INFO:deep_cartograph.tools.train_colvars.cv_calculator:Reading training data from colvars files...\n",
      "INFO:deep_cartograph.tools.train_colvars.cv_calculator:Number of features: 1214\n",
      "INFO:deep_cartograph.tools.train_colvars.cv_calculator:Number of samples: 292\n",
      "INFO:deep_cartograph.tools.train_colvars.cv_calculator:Calculating AE ...\n",
      "WARNING:deep_cartograph.tools.train_colvars.cv_calculator:The batch size is larger than the number of samples in the training set. \n",
      "                           Setting the batch size to the closest power of two: 128\n",
      "INFO:deep_cartograph.tools.train_colvars.cv_calculator:Training AE ...\n",
      "INFO:deep_cartograph.tools.train_colvars.cv_calculator:Model architecture: AutoEncoderCV(\n",
      "  (loss_fn): MSELoss()\n",
      "  (norm_in): Normalization(in_features=1214, out_features=1214, mode=mean_std)\n",
      "  (encoder): FeedForward(\n",
      "    (nn): Sequential(\n",
      "      (0): Linear(in_features=1214, out_features=5, bias=True)\n",
      "      (1): Shifted_Softplus(beta=1, threshold=20)\n",
      "      (2): Dropout(p=0.1, inplace=False)\n",
      "      (3): Linear(in_features=5, out_features=3, bias=True)\n",
      "      (4): Shifted_Softplus(beta=1, threshold=20)\n",
      "      (5): Dropout(p=0.1, inplace=False)\n",
      "      (6): Linear(in_features=3, out_features=2, bias=True)\n",
      "    )\n",
      "  )\n",
      "  (decoder): FeedForward(\n",
      "    (nn): Sequential(\n",
      "      (0): Linear(in_features=2, out_features=3, bias=True)\n",
      "      (1): Shifted_Softplus(beta=1, threshold=20)\n",
      "      (2): Dropout(p=0.1, inplace=False)\n",
      "      (3): Linear(in_features=3, out_features=5, bias=True)\n",
      "      (4): Shifted_Softplus(beta=1, threshold=20)\n",
      "      (5): Dropout(p=0.1, inplace=False)\n",
      "      (6): Linear(in_features=5, out_features=1214, bias=True)\n",
      "    )\n",
      "  )\n",
      ")\n",
      "GPU available: False, used: False\n",
      "TPU available: False, using: 0 TPU cores\n",
      "HPU available: False, using: 0 HPUs\n",
      "\n",
      "  | Name    | Type          | Params | Mode  | In sizes  | Out sizes\n",
      "--------------------------------------------------------------------------\n",
      "0 | loss_fn | MSELoss       | 0      | train | ?         | ?        \n",
      "1 | norm_in | Normalization | 0      | train | [1, 1214] | [1, 1214]\n",
      "2 | encoder | FeedForward   | 6.1 K  | train | [1, 1214] | [1, 2]   \n",
      "3 | decoder | FeedForward   | 7.3 K  | train | ?         | ?        \n",
      "--------------------------------------------------------------------------\n",
      "13.4 K    Trainable params\n",
      "0         Non-trainable params\n",
      "13.4 K    Total params\n",
      "0.054     Total estimated model params size (MB)\n",
      "INFO:deep_cartograph.tools.train_colvars.cv_calculator:Best model score: 0.0016161069506779313\n",
      "INFO:deep_cartograph.tools.train_colvars.cv_calculator:Projecting reference data onto AE ...\n",
      "/home/pnavarro/repos/mlcolvar/mlcolvar/core/nn/utils.py:13: TracerWarning: Converting a tensor to a Python number might cause the trace to be incorrect. We can't record the data flow of Python values, so this value will be treated as a constant in the future. This means that the trace might not generalize to other inputs!\n",
      "  sp0 = F.softplus(torch.zeros(1), self.beta, self.threshold).item()\n",
      "INFO:deep_cartograph.tools.train_colvars.cv_calculator:Collective variable weights saved to /home/pnavarro/repos/NostrumBD/CV_learning/deep_cartograph/deep_cartograph/data/calpha_transitions/output/3cw2_E-2qmu_A-3/distances/train_colvars/ae/weights.ptc\n",
      "INFO:deep_cartograph.tools.train_colvars.train_colvars_workflow:Projecting colvars file: /home/pnavarro/repos/NostrumBD/CV_learning/deep_cartograph/deep_cartograph/data/calpha_transitions/output/3cw2_E-2qmu_A-3/distances/compute_features/3cw2_E-2qmu_A-3/colvars.dat\n",
      "INFO:deep_cartograph.tools.train_colvars.train_colvars_workflow:Corresponding trajectory file: /home/pnavarro/repos/NostrumBD/CV_learning/deep_cartograph/deep_cartograph/data/calpha_transitions/input/3cw2_E-2qmu_A-3/3cw2_E-2qmu_A-3.dcd\n",
      "INFO:deep_cartograph.tools.train_colvars.train_colvars_workflow:Corresponding topology file: /home/pnavarro/repos/NostrumBD/CV_learning/deep_cartograph/deep_cartograph/data/calpha_transitions/input/3cw2_E-2qmu_A-3/3cw2_E-2qmu_A-3.pdb\n",
      "INFO:deep_cartograph.tools.train_colvars.cv_calculator:Projecting features onto AE ...\n",
      "INFO:deep_cartograph.modules.figures.figures:Computing FES(AE 1, AE 2)...\n",
      "/home/pnavarro/repos/NostrumBD/CV_learning/deep_cartograph/deep_cartograph/modules/figures/figures.py:129: UserWarning: No artists with labels found to put in legend.  Note that artists whose label start with an underscore are ignored when legend() is called with no argument.\n",
      "  ax.legend(fontsize = font_size)\n",
      "INFO:deep_cartograph:Elapsed time (Train colvars): 00 h 01 min 19 s\n",
      "INFO:deep_cartograph:Total elapsed time: 00 h 02 min 13 s\n"
     ]
    },
    {
     "name": "stdout",
     "output_type": "stream",
     "text": [
      "Results for model: pca\n",
      "Output folder: /home/pnavarro/repos/NostrumBD/CV_learning/deep_cartograph/deep_cartograph/data/calpha_transitions/output/3cw2_E-2qmu_A-3/distances\n"
     ]
    },
    {
     "data": {
      "text/html": [
       "<img src=\"/home/pnavarro/repos/NostrumBD/CV_learning/deep_cartograph/deep_cartograph/data/calpha_transitions/output/3cw2_E-2qmu_A-3/distances/train_colvars/pca/3cw2_E-2qmu_A-3/trajectory.png?1732800172\" style=\"width: 600px; margin-right: 10px;\">"
      ],
      "text/plain": [
       "<IPython.core.display.HTML object>"
      ]
     },
     "metadata": {},
     "output_type": "display_data"
    },
    {
     "name": "stdout",
     "output_type": "stream",
     "text": [
      "Results for model: ae\n",
      "Output folder: /home/pnavarro/repos/NostrumBD/CV_learning/deep_cartograph/deep_cartograph/data/calpha_transitions/output/3cw2_E-2qmu_A-3/distances\n",
      "Final model score: 1.6161E-3\n"
     ]
    },
    {
     "data": {
      "text/html": [
       "<img src=\"/home/pnavarro/repos/NostrumBD/CV_learning/deep_cartograph/deep_cartograph/data/calpha_transitions/output/3cw2_E-2qmu_A-3/distances/train_colvars/ae/3cw2_E-2qmu_A-3/trajectory.png?1732800172\" style=\"width: 600px; margin-right: 10px;\"><img src=\"/home/pnavarro/repos/NostrumBD/CV_learning/deep_cartograph/deep_cartograph/data/calpha_transitions/output/3cw2_E-2qmu_A-3/distances/train_colvars/ae/loss.png?1732800172\" style=\"width: 600px; margin-right: 10px;\">"
      ],
      "text/plain": [
       "<IPython.core.display.HTML object>"
      ]
     },
     "metadata": {},
     "output_type": "display_data"
    },
    {
     "name": "stdout",
     "output_type": "stream",
     "text": [
      "Results for model: tica\n",
      "Output folder: /home/pnavarro/repos/NostrumBD/CV_learning/deep_cartograph/deep_cartograph/data/calpha_transitions/output/3cw2_E-2qmu_A-3/distances\n"
     ]
    },
    {
     "data": {
      "text/html": [],
      "text/plain": [
       "<IPython.core.display.HTML object>"
      ]
     },
     "metadata": {},
     "output_type": "display_data"
    },
    {
     "name": "stdout",
     "output_type": "stream",
     "text": [
      "Results for model: deep_tica\n",
      "Output folder: /home/pnavarro/repos/NostrumBD/CV_learning/deep_cartograph/deep_cartograph/data/calpha_transitions/output/3cw2_E-2qmu_A-3/distances\n",
      "Final model score: -1.9748E+0\n",
      "Eigenvalue 1: 9.9975E-1\n",
      "Eigenvalue 2: 9.8759E-1\n"
     ]
    },
    {
     "data": {
      "text/html": [
       "<img src=\"/home/pnavarro/repos/NostrumBD/CV_learning/deep_cartograph/deep_cartograph/data/calpha_transitions/output/3cw2_E-2qmu_A-3/distances/train_colvars/deep_tica/3cw2_E-2qmu_A-3/trajectory.png?1732800172\" style=\"width: 600px; margin-right: 10px;\"><img src=\"/home/pnavarro/repos/NostrumBD/CV_learning/deep_cartograph/deep_cartograph/data/calpha_transitions/output/3cw2_E-2qmu_A-3/distances/train_colvars/deep_tica/loss.png?1732800172\" style=\"width: 600px; margin-right: 10px;\"><img src=\"/home/pnavarro/repos/NostrumBD/CV_learning/deep_cartograph/deep_cartograph/data/calpha_transitions/output/3cw2_E-2qmu_A-3/distances/train_colvars/deep_tica/eigenvalues.png?1732800172\" style=\"width: 600px; margin-right: 10px;\">"
      ],
      "text/plain": [
       "<IPython.core.display.HTML object>"
      ]
     },
     "metadata": {},
     "output_type": "display_data"
    },
    {
     "data": {
      "text/plain": [
       "<Figure size 640x480 with 0 Axes>"
      ]
     },
     "metadata": {},
     "output_type": "display_data"
    },
    {
     "data": {
      "text/plain": [
       "<Figure size 500x400 with 0 Axes>"
      ]
     },
     "metadata": {},
     "output_type": "display_data"
    },
    {
     "data": {
      "text/plain": [
       "<Figure size 500x400 with 0 Axes>"
      ]
     },
     "metadata": {},
     "output_type": "display_data"
    },
    {
     "data": {
      "text/plain": [
       "<Figure size 640x480 with 0 Axes>"
      ]
     },
     "metadata": {},
     "output_type": "display_data"
    },
    {
     "data": {
      "text/plain": [
       "<Figure size 500x400 with 0 Axes>"
      ]
     },
     "metadata": {},
     "output_type": "display_data"
    },
    {
     "data": {
      "text/plain": [
       "<Figure size 640x480 with 0 Axes>"
      ]
     },
     "metadata": {},
     "output_type": "display_data"
    }
   ],
   "source": [
    "features = 'distances'\n",
    "system_name = '3cw2_E-2qmu_A-3'\n",
    "output_folder = f\"{data_folder}/calpha_transitions/output/{system_name}/{features}\"\n",
    "run_deep_cartograph(features, system_name)\n",
    "\n",
    "for model in ['pca', 'ae', 'tica', 'deep_tica']:\n",
    "\n",
    "    print(f\"Results for model: {model}\")\n",
    "    show_results(output_folder, model_name = model, system  = system_name)  "
   ]
  },
  {
   "cell_type": "markdown",
   "metadata": {},
   "source": [
    "## 3hif_B-4bhp_A-3 transition\n",
    "\n",
    "<center>\n",
    "    <video width=\"620\" height=\"440\" src=\"../../../deep_cartograph/data/calpha_transitions/input/3hif_B-4bhp_A-3/trajectory.mp4\" controls> </video>\n",
    "</center>"
   ]
  },
  {
   "cell_type": "code",
   "execution_count": 21,
   "metadata": {},
   "outputs": [
    {
     "name": "stderr",
     "output_type": "stream",
     "text": [
      "INFO:deep_cartograph:================\n",
      "INFO:deep_cartograph:Compute features\n",
      "INFO:deep_cartograph:================\n",
      "INFO:deep_cartograph:Trajectory file: /home/pnavarro/repos/NostrumBD/CV_learning/deep_cartograph/deep_cartograph/data/calpha_transitions/input/3hif_B-4bhp_A-3/3hif_B-4bhp_A-3.dcd\n",
      "/home/pnavarro/miniforge3/envs/deep_cartograph/lib/python3.10/site-packages/MDAnalysis/topology/PDBParser.py:317: UserWarning: Element information is missing, elements attribute will not be populated. If needed these can be guessed using MDAnalysis.topology.guessers.\n",
      "  warnings.warn(\"Element information is missing, elements attribute \"\n",
      "/home/pnavarro/miniforge3/envs/deep_cartograph/lib/python3.10/site-packages/MDAnalysis/coordinates/PDB.py:747: UserWarning: Unit cell dimensions not found. CRYST1 record set to unitary values.\n",
      "  warnings.warn(\"Unit cell dimensions not found. \"\n",
      "/home/pnavarro/miniforge3/envs/deep_cartograph/lib/python3.10/site-packages/MDAnalysis/coordinates/PDB.py:1078: UserWarning: Found no information for attr: 'elements' Using default value of ' '\n",
      "  warnings.warn(\"Found no information for attr: '{}'\"\n",
      "/home/pnavarro/miniforge3/envs/deep_cartograph/lib/python3.10/site-packages/MDAnalysis/coordinates/PDB.py:429: UserWarning: 1 A^3 CRYST1 record, this is usually a placeholder. Unit cell dimensions will be set to None.\n",
      "  warnings.warn(\"1 A^3 CRYST1 record,\"\n",
      "INFO:deep_cartograph.modules.plumed.input_file.input_file:Found 392 features for tor\n",
      "INFO:deep_cartograph.modules.plumed.utils:Executing PLUMED driver command: plumed driver --plumed /home/pnavarro/repos/NostrumBD/CV_learning/deep_cartograph/deep_cartograph/data/calpha_transitions/output/3hif_B-4bhp_A-3/torsions/compute_features/3hif_B-4bhp_A-3/torsions.dat --mf_dcd /home/pnavarro/repos/NostrumBD/CV_learning/deep_cartograph/deep_cartograph/data/calpha_transitions/input/3hif_B-4bhp_A-3/3hif_B-4bhp_A-3.dcd --natoms 199\n",
      "INFO:deep_cartograph:Elapsed time (Compute features): 00 h 00 min 00 s\n",
      "INFO:deep_cartograph:==================\n",
      "INFO:deep_cartograph:Filtering features\n",
      "INFO:deep_cartograph:==================\n",
      "INFO:deep_cartograph:Finding the features that contains the most information about the transitions or conformational changes.\n",
      "INFO:deep_cartograph:The following algorithms are available:\n",
      "INFO:deep_cartograph:- Hartigan's dip test filter. Keeps features that are not unimodal.\n",
      "INFO:deep_cartograph:- Shannon entropy filter. Keeps features with entropy greater than a threshold.\n",
      "INFO:deep_cartograph:- Standard deviation filter. Keeps features with standard deviation greater than a threshold.\n",
      "INFO:deep_cartograph:Note that the all features must be in the same units to apply the entropy and standard deviation filters meaningfully.\n",
      "INFO:deep_cartograph:Initial size of features set: 392.\n",
      "INFO:deep_cartograph.tools.filter_features.filtering:Computing dip test.\n",
      "INFO:deep_cartograph.tools.filter_features.filtering:Filtered 174 features.\n",
      "INFO:deep_cartograph:Elapsed time (Filter features): 00 h 00 min 03 s\n",
      "INFO:deep_cartograph.modules.common.common: Using features in /home/pnavarro/repos/NostrumBD/CV_learning/deep_cartograph/deep_cartograph/data/calpha_transitions/output/3hif_B-4bhp_A-3/torsions/filter_features/filtered_features.txt\n",
      "INFO:deep_cartograph:================================\n",
      "INFO:deep_cartograph:Training of Collective Variables\n",
      "INFO:deep_cartograph:================================\n",
      "INFO:deep_cartograph:Training of collective variables using the mlcolvar library.\n",
      "INFO:deep_cartograph.tools.train_colvars.train_colvars_workflow:Collective variables to compute: ['pca', 'deep_tica', 'tica', 'ae']\n",
      "INFO:deep_cartograph.tools.train_colvars.cv_calculator:Reading training data from colvars files...\n",
      "INFO:deep_cartograph.tools.train_colvars.cv_calculator:Number of features: 218\n",
      "INFO:deep_cartograph.tools.train_colvars.cv_calculator:Number of samples: 297\n",
      "INFO:deep_cartograph.tools.train_colvars.cv_calculator:Calculating PCA ...\n",
      "INFO:deep_cartograph.tools.train_colvars.cv_calculator:Projecting reference data onto PCA ...\n",
      "INFO:deep_cartograph.tools.train_colvars.cv_calculator:Collective variable weights saved to /home/pnavarro/repos/NostrumBD/CV_learning/deep_cartograph/deep_cartograph/data/calpha_transitions/output/3hif_B-4bhp_A-3/torsions/train_colvars/pca/weights.txt\n",
      "INFO:deep_cartograph.tools.train_colvars.train_colvars_workflow:Projecting colvars file: /home/pnavarro/repos/NostrumBD/CV_learning/deep_cartograph/deep_cartograph/data/calpha_transitions/output/3hif_B-4bhp_A-3/torsions/compute_features/3hif_B-4bhp_A-3/colvars.dat\n",
      "INFO:deep_cartograph.tools.train_colvars.train_colvars_workflow:Corresponding trajectory file: /home/pnavarro/repos/NostrumBD/CV_learning/deep_cartograph/deep_cartograph/data/calpha_transitions/input/3hif_B-4bhp_A-3/3hif_B-4bhp_A-3.dcd\n",
      "INFO:deep_cartograph.tools.train_colvars.train_colvars_workflow:Corresponding topology file: /home/pnavarro/repos/NostrumBD/CV_learning/deep_cartograph/deep_cartograph/data/calpha_transitions/input/3hif_B-4bhp_A-3/3hif_B-4bhp_A-3.pdb\n",
      "INFO:deep_cartograph.tools.train_colvars.cv_calculator:Projecting colvars features onto PCA ...\n",
      "INFO:deep_cartograph.modules.figures.figures:Computing FES(PC 1, PC 2)...\n",
      "/home/pnavarro/repos/NostrumBD/CV_learning/deep_cartograph/deep_cartograph/modules/figures/figures.py:129: UserWarning: No artists with labels found to put in legend.  Note that artists whose label start with an underscore are ignored when legend() is called with no argument.\n",
      "  ax.legend(fontsize = font_size)\n",
      "INFO:deep_cartograph.modules.statistics.statistics:Best number of clusters: 5\n",
      "/home/pnavarro/miniforge3/envs/deep_cartograph/lib/python3.10/site-packages/MDAnalysis/topology/PDBParser.py:317: UserWarning: Element information is missing, elements attribute will not be populated. If needed these can be guessed using MDAnalysis.topology.guessers.\n",
      "  warnings.warn(\"Element information is missing, elements attribute \"\n",
      "INFO:deep_cartograph.modules.md.md:Number of clusters: 5\n",
      "INFO:deep_cartograph.modules.md.md:Number of centroids: 5\n",
      "/home/pnavarro/miniforge3/envs/deep_cartograph/lib/python3.10/site-packages/MDAnalysis/coordinates/PDB.py:747: UserWarning: Unit cell dimensions not found. CRYST1 record set to unitary values.\n",
      "  warnings.warn(\"Unit cell dimensions not found. \"\n",
      "/home/pnavarro/miniforge3/envs/deep_cartograph/lib/python3.10/site-packages/MDAnalysis/coordinates/PDB.py:1078: UserWarning: Found no information for attr: 'elements' Using default value of ' '\n",
      "  warnings.warn(\"Found no information for attr: '{}'\"\n",
      "/home/pnavarro/miniforge3/envs/deep_cartograph/lib/python3.10/site-packages/seaborn/axisgrid.py:1832: UserWarning: Numpy array is not a supported type for `palette`. Please convert your palette to a list. This will become an error in v0.14\n",
      "  func(x=self.x, y=self.y, **kwargs)\n",
      "INFO:deep_cartograph.tools.train_colvars.cv_calculator:Reading training data from colvars files...\n",
      "INFO:deep_cartograph.tools.train_colvars.cv_calculator:Number of features: 218\n",
      "/home/pnavarro/repos/mlcolvar/mlcolvar/utils/timelagged.py:140: UserWarning: Monitoring the progress for the search of time-lagged configurations with a progress_bar requires `tqdm`.\n",
      "  warnings.warn(\n",
      "INFO:deep_cartograph.tools.train_colvars.cv_calculator:Number of samples: 294\n",
      "INFO:deep_cartograph.tools.train_colvars.cv_calculator:Calculating DeepTICA ...\n",
      "WARNING:deep_cartograph.tools.train_colvars.cv_calculator:The batch size is larger than the number of samples in the training set. \n",
      "                           Setting the batch size to the closest power of two: 128\n",
      "INFO:deep_cartograph.tools.train_colvars.cv_calculator:Training DeepTICA ...\n",
      "INFO:deep_cartograph.tools.train_colvars.cv_calculator:Model architecture: DeepTICA(\n",
      "  (loss_fn): ReduceEigenvaluesLoss()\n",
      "  (norm_in): Normalization(in_features=218, out_features=218, mode=mean_std)\n",
      "  (nn): FeedForward(\n",
      "    (nn): Sequential(\n",
      "      (0): Linear(in_features=218, out_features=5, bias=True)\n",
      "      (1): Shifted_Softplus(beta=1, threshold=20)\n",
      "      (2): Dropout(p=0.1, inplace=False)\n",
      "      (3): Linear(in_features=5, out_features=3, bias=True)\n",
      "      (4): Shifted_Softplus(beta=1, threshold=20)\n",
      "      (5): Dropout(p=0.1, inplace=False)\n",
      "      (6): Linear(in_features=3, out_features=2, bias=True)\n",
      "    )\n",
      "  )\n",
      "  (tica): TICA(in_features=2, out_features=2)\n",
      ")\n",
      "GPU available: False, used: False\n",
      "TPU available: False, using: 0 TPU cores\n",
      "HPU available: False, using: 0 HPUs\n",
      "\n",
      "  | Name    | Type                  | Params | Mode  | In sizes | Out sizes\n",
      "---------------------------------------------------------------------------------\n",
      "0 | loss_fn | ReduceEigenvaluesLoss | 0      | train | ?        | ?        \n",
      "1 | norm_in | Normalization         | 0      | train | [1, 218] | [1, 218] \n",
      "2 | nn      | FeedForward           | 1.1 K  | train | [1, 218] | [1, 2]   \n",
      "3 | tica    | TICA                  | 0      | train | [1, 2]   | [1, 2]   \n",
      "---------------------------------------------------------------------------------\n",
      "1.1 K     Trainable params\n",
      "0         Non-trainable params\n",
      "1.1 K     Total params\n",
      "0.004     Total estimated model params size (MB)\n",
      "INFO:deep_cartograph.tools.train_colvars.cv_calculator:Best model score: -1.9660770893096924\n",
      "/home/pnavarro/repos/mlcolvar/mlcolvar/utils/plot.py:254: UserWarning: Data has no positive values, and therefore cannot be log-scaled.\n",
      "  ax.set_yscale(yscale)\n",
      "INFO:deep_cartograph.tools.train_colvars.cv_calculator:Projecting reference data onto DeepTICA ...\n",
      "INFO:deep_cartograph.tools.train_colvars.cv_calculator:Took 3 epochs\n",
      "INFO:deep_cartograph.tools.train_colvars.cv_calculator:Eigenvalue 1: 1.0104323625564575\n",
      "INFO:deep_cartograph.tools.train_colvars.cv_calculator:Eigenvalue 2: 0.9721643328666687\n",
      "/home/pnavarro/repos/mlcolvar/mlcolvar/core/nn/utils.py:13: TracerWarning: Converting a tensor to a Python number might cause the trace to be incorrect. We can't record the data flow of Python values, so this value will be treated as a constant in the future. This means that the trace might not generalize to other inputs!\n",
      "  sp0 = F.softplus(torch.zeros(1), self.beta, self.threshold).item()\n",
      "INFO:deep_cartograph.tools.train_colvars.cv_calculator:Collective variable weights saved to /home/pnavarro/repos/NostrumBD/CV_learning/deep_cartograph/deep_cartograph/data/calpha_transitions/output/3hif_B-4bhp_A-3/torsions/train_colvars/deep_tica/weights.ptc\n",
      "INFO:deep_cartograph.tools.train_colvars.train_colvars_workflow:Projecting colvars file: /home/pnavarro/repos/NostrumBD/CV_learning/deep_cartograph/deep_cartograph/data/calpha_transitions/output/3hif_B-4bhp_A-3/torsions/compute_features/3hif_B-4bhp_A-3/colvars.dat\n",
      "INFO:deep_cartograph.tools.train_colvars.train_colvars_workflow:Corresponding trajectory file: /home/pnavarro/repos/NostrumBD/CV_learning/deep_cartograph/deep_cartograph/data/calpha_transitions/input/3hif_B-4bhp_A-3/3hif_B-4bhp_A-3.dcd\n",
      "INFO:deep_cartograph.tools.train_colvars.train_colvars_workflow:Corresponding topology file: /home/pnavarro/repos/NostrumBD/CV_learning/deep_cartograph/deep_cartograph/data/calpha_transitions/input/3hif_B-4bhp_A-3/3hif_B-4bhp_A-3.pdb\n",
      "INFO:deep_cartograph.tools.train_colvars.cv_calculator:Projecting features onto DeepTICA ...\n",
      "INFO:deep_cartograph.modules.figures.figures:Computing FES(DeepTIC 1, DeepTIC 2)...\n",
      "/home/pnavarro/repos/NostrumBD/CV_learning/deep_cartograph/deep_cartograph/modules/figures/figures.py:129: UserWarning: No artists with labels found to put in legend.  Note that artists whose label start with an underscore are ignored when legend() is called with no argument.\n",
      "  ax.legend(fontsize = font_size)\n",
      "INFO:deep_cartograph.modules.statistics.statistics:Best number of clusters: 10\n",
      "/home/pnavarro/miniforge3/envs/deep_cartograph/lib/python3.10/site-packages/MDAnalysis/topology/PDBParser.py:317: UserWarning: Element information is missing, elements attribute will not be populated. If needed these can be guessed using MDAnalysis.topology.guessers.\n",
      "  warnings.warn(\"Element information is missing, elements attribute \"\n",
      "INFO:deep_cartograph.modules.md.md:Number of clusters: 10\n",
      "INFO:deep_cartograph.modules.md.md:Number of centroids: 10\n",
      "/home/pnavarro/miniforge3/envs/deep_cartograph/lib/python3.10/site-packages/MDAnalysis/coordinates/PDB.py:747: UserWarning: Unit cell dimensions not found. CRYST1 record set to unitary values.\n",
      "  warnings.warn(\"Unit cell dimensions not found. \"\n",
      "/home/pnavarro/miniforge3/envs/deep_cartograph/lib/python3.10/site-packages/MDAnalysis/coordinates/PDB.py:1078: UserWarning: Found no information for attr: 'elements' Using default value of ' '\n",
      "  warnings.warn(\"Found no information for attr: '{}'\"\n",
      "/home/pnavarro/miniforge3/envs/deep_cartograph/lib/python3.10/site-packages/seaborn/axisgrid.py:1832: UserWarning: Numpy array is not a supported type for `palette`. Please convert your palette to a list. This will become an error in v0.14\n",
      "  func(x=self.x, y=self.y, **kwargs)\n",
      "INFO:deep_cartograph.tools.train_colvars.cv_calculator:Reading training data from colvars files...\n",
      "INFO:deep_cartograph.tools.train_colvars.cv_calculator:Number of features: 218\n",
      "/home/pnavarro/repos/mlcolvar/mlcolvar/utils/timelagged.py:140: UserWarning: Monitoring the progress for the search of time-lagged configurations with a progress_bar requires `tqdm`.\n",
      "  warnings.warn(\n",
      "INFO:deep_cartograph.tools.train_colvars.cv_calculator:Number of samples: 294\n",
      "INFO:deep_cartograph.tools.train_colvars.cv_calculator:Calculating TICA ...\n",
      "INFO:deep_cartograph.tools.train_colvars.cv_calculator:Projecting reference data onto TICA ...\n",
      "INFO:deep_cartograph.tools.train_colvars.cv_calculator:Collective variable weights saved to /home/pnavarro/repos/NostrumBD/CV_learning/deep_cartograph/deep_cartograph/data/calpha_transitions/output/3hif_B-4bhp_A-3/torsions/train_colvars/tica/weights.txt\n",
      "INFO:deep_cartograph.tools.train_colvars.train_colvars_workflow:Projecting colvars file: /home/pnavarro/repos/NostrumBD/CV_learning/deep_cartograph/deep_cartograph/data/calpha_transitions/output/3hif_B-4bhp_A-3/torsions/compute_features/3hif_B-4bhp_A-3/colvars.dat\n",
      "INFO:deep_cartograph.tools.train_colvars.train_colvars_workflow:Corresponding trajectory file: /home/pnavarro/repos/NostrumBD/CV_learning/deep_cartograph/deep_cartograph/data/calpha_transitions/input/3hif_B-4bhp_A-3/3hif_B-4bhp_A-3.dcd\n",
      "INFO:deep_cartograph.tools.train_colvars.train_colvars_workflow:Corresponding topology file: /home/pnavarro/repos/NostrumBD/CV_learning/deep_cartograph/deep_cartograph/data/calpha_transitions/input/3hif_B-4bhp_A-3/3hif_B-4bhp_A-3.pdb\n",
      "INFO:deep_cartograph.tools.train_colvars.cv_calculator:Projecting colvars features onto TICA ...\n",
      "INFO:deep_cartograph.modules.figures.figures:Computing FES(TIC 1, TIC 2)...\n",
      "/home/pnavarro/repos/NostrumBD/CV_learning/deep_cartograph/deep_cartograph/modules/figures/figures.py:129: UserWarning: No artists with labels found to put in legend.  Note that artists whose label start with an underscore are ignored when legend() is called with no argument.\n",
      "  ax.legend(fontsize = font_size)\n",
      "INFO:deep_cartograph.modules.statistics.statistics:Best number of clusters: 11\n",
      "/home/pnavarro/miniforge3/envs/deep_cartograph/lib/python3.10/site-packages/MDAnalysis/topology/PDBParser.py:317: UserWarning: Element information is missing, elements attribute will not be populated. If needed these can be guessed using MDAnalysis.topology.guessers.\n",
      "  warnings.warn(\"Element information is missing, elements attribute \"\n",
      "INFO:deep_cartograph.modules.md.md:Number of clusters: 11\n",
      "INFO:deep_cartograph.modules.md.md:Number of centroids: 11\n",
      "/home/pnavarro/miniforge3/envs/deep_cartograph/lib/python3.10/site-packages/MDAnalysis/coordinates/PDB.py:747: UserWarning: Unit cell dimensions not found. CRYST1 record set to unitary values.\n",
      "  warnings.warn(\"Unit cell dimensions not found. \"\n",
      "/home/pnavarro/miniforge3/envs/deep_cartograph/lib/python3.10/site-packages/MDAnalysis/coordinates/PDB.py:1078: UserWarning: Found no information for attr: 'elements' Using default value of ' '\n",
      "  warnings.warn(\"Found no information for attr: '{}'\"\n",
      "/home/pnavarro/miniforge3/envs/deep_cartograph/lib/python3.10/site-packages/seaborn/axisgrid.py:1832: UserWarning: Numpy array is not a supported type for `palette`. Please convert your palette to a list. This will become an error in v0.14\n",
      "  func(x=self.x, y=self.y, **kwargs)\n",
      "INFO:deep_cartograph.tools.train_colvars.cv_calculator:Reading training data from colvars files...\n",
      "INFO:deep_cartograph.tools.train_colvars.cv_calculator:Number of features: 218\n",
      "INFO:deep_cartograph.tools.train_colvars.cv_calculator:Number of samples: 297\n",
      "INFO:deep_cartograph.tools.train_colvars.cv_calculator:Calculating AE ...\n",
      "WARNING:deep_cartograph.tools.train_colvars.cv_calculator:The batch size is larger than the number of samples in the training set. \n",
      "                           Setting the batch size to the closest power of two: 128\n",
      "INFO:deep_cartograph.tools.train_colvars.cv_calculator:Training AE ...\n",
      "INFO:deep_cartograph.tools.train_colvars.cv_calculator:Model architecture: AutoEncoderCV(\n",
      "  (loss_fn): MSELoss()\n",
      "  (norm_in): Normalization(in_features=218, out_features=218, mode=mean_std)\n",
      "  (encoder): FeedForward(\n",
      "    (nn): Sequential(\n",
      "      (0): Linear(in_features=218, out_features=5, bias=True)\n",
      "      (1): Shifted_Softplus(beta=1, threshold=20)\n",
      "      (2): Dropout(p=0.1, inplace=False)\n",
      "      (3): Linear(in_features=5, out_features=3, bias=True)\n",
      "      (4): Shifted_Softplus(beta=1, threshold=20)\n",
      "      (5): Dropout(p=0.1, inplace=False)\n",
      "      (6): Linear(in_features=3, out_features=2, bias=True)\n",
      "    )\n",
      "  )\n",
      "  (decoder): FeedForward(\n",
      "    (nn): Sequential(\n",
      "      (0): Linear(in_features=2, out_features=3, bias=True)\n",
      "      (1): Shifted_Softplus(beta=1, threshold=20)\n",
      "      (2): Dropout(p=0.1, inplace=False)\n",
      "      (3): Linear(in_features=3, out_features=5, bias=True)\n",
      "      (4): Shifted_Softplus(beta=1, threshold=20)\n",
      "      (5): Dropout(p=0.1, inplace=False)\n",
      "      (6): Linear(in_features=5, out_features=218, bias=True)\n",
      "    )\n",
      "  )\n",
      ")\n",
      "GPU available: False, used: False\n",
      "TPU available: False, using: 0 TPU cores\n",
      "HPU available: False, using: 0 HPUs\n",
      "\n",
      "  | Name    | Type          | Params | Mode  | In sizes | Out sizes\n",
      "-------------------------------------------------------------------------\n",
      "0 | loss_fn | MSELoss       | 0      | train | ?        | ?        \n",
      "1 | norm_in | Normalization | 0      | train | [1, 218] | [1, 218] \n",
      "2 | encoder | FeedForward   | 1.1 K  | train | [1, 218] | [1, 2]   \n",
      "3 | decoder | FeedForward   | 1.3 K  | train | ?        | ?        \n",
      "-------------------------------------------------------------------------\n",
      "2.5 K     Trainable params\n",
      "0         Non-trainable params\n",
      "2.5 K     Total params\n",
      "0.010     Total estimated model params size (MB)\n",
      "INFO:deep_cartograph.tools.train_colvars.cv_calculator:Best model score: 0.009448187425732613\n",
      "INFO:deep_cartograph.tools.train_colvars.cv_calculator:Projecting reference data onto AE ...\n",
      "/home/pnavarro/repos/mlcolvar/mlcolvar/core/nn/utils.py:13: TracerWarning: Converting a tensor to a Python number might cause the trace to be incorrect. We can't record the data flow of Python values, so this value will be treated as a constant in the future. This means that the trace might not generalize to other inputs!\n",
      "  sp0 = F.softplus(torch.zeros(1), self.beta, self.threshold).item()\n",
      "INFO:deep_cartograph.tools.train_colvars.cv_calculator:Collective variable weights saved to /home/pnavarro/repos/NostrumBD/CV_learning/deep_cartograph/deep_cartograph/data/calpha_transitions/output/3hif_B-4bhp_A-3/torsions/train_colvars/ae/weights.ptc\n",
      "INFO:deep_cartograph.tools.train_colvars.train_colvars_workflow:Projecting colvars file: /home/pnavarro/repos/NostrumBD/CV_learning/deep_cartograph/deep_cartograph/data/calpha_transitions/output/3hif_B-4bhp_A-3/torsions/compute_features/3hif_B-4bhp_A-3/colvars.dat\n",
      "INFO:deep_cartograph.tools.train_colvars.train_colvars_workflow:Corresponding trajectory file: /home/pnavarro/repos/NostrumBD/CV_learning/deep_cartograph/deep_cartograph/data/calpha_transitions/input/3hif_B-4bhp_A-3/3hif_B-4bhp_A-3.dcd\n",
      "INFO:deep_cartograph.tools.train_colvars.train_colvars_workflow:Corresponding topology file: /home/pnavarro/repos/NostrumBD/CV_learning/deep_cartograph/deep_cartograph/data/calpha_transitions/input/3hif_B-4bhp_A-3/3hif_B-4bhp_A-3.pdb\n",
      "INFO:deep_cartograph.tools.train_colvars.cv_calculator:Projecting features onto AE ...\n",
      "INFO:deep_cartograph.modules.figures.figures:Computing FES(AE 1, AE 2)...\n",
      "/home/pnavarro/repos/NostrumBD/CV_learning/deep_cartograph/deep_cartograph/modules/figures/figures.py:129: UserWarning: No artists with labels found to put in legend.  Note that artists whose label start with an underscore are ignored when legend() is called with no argument.\n",
      "  ax.legend(fontsize = font_size)\n",
      "INFO:deep_cartograph.modules.statistics.statistics:Best number of clusters: 15\n",
      "/home/pnavarro/miniforge3/envs/deep_cartograph/lib/python3.10/site-packages/MDAnalysis/topology/PDBParser.py:317: UserWarning: Element information is missing, elements attribute will not be populated. If needed these can be guessed using MDAnalysis.topology.guessers.\n",
      "  warnings.warn(\"Element information is missing, elements attribute \"\n",
      "INFO:deep_cartograph.modules.md.md:Number of clusters: 15\n",
      "INFO:deep_cartograph.modules.md.md:Number of centroids: 15\n",
      "/home/pnavarro/miniforge3/envs/deep_cartograph/lib/python3.10/site-packages/MDAnalysis/coordinates/PDB.py:747: UserWarning: Unit cell dimensions not found. CRYST1 record set to unitary values.\n",
      "  warnings.warn(\"Unit cell dimensions not found. \"\n",
      "/home/pnavarro/miniforge3/envs/deep_cartograph/lib/python3.10/site-packages/MDAnalysis/coordinates/PDB.py:1078: UserWarning: Found no information for attr: 'elements' Using default value of ' '\n",
      "  warnings.warn(\"Found no information for attr: '{}'\"\n",
      "/home/pnavarro/miniforge3/envs/deep_cartograph/lib/python3.10/site-packages/seaborn/axisgrid.py:1832: UserWarning: Numpy array is not a supported type for `palette`. Please convert your palette to a list. This will become an error in v0.14\n",
      "  func(x=self.x, y=self.y, **kwargs)\n",
      "INFO:deep_cartograph:Elapsed time (Train colvars): 00 h 02 min 07 s\n",
      "INFO:deep_cartograph:Total elapsed time: 00 h 02 min 11 s\n"
     ]
    },
    {
     "name": "stdout",
     "output_type": "stream",
     "text": [
      "Results for model: pca\n",
      "Output folder: /home/pnavarro/repos/NostrumBD/CV_learning/deep_cartograph/deep_cartograph/data/calpha_transitions/output/3hif_B-4bhp_A-3/torsions\n"
     ]
    },
    {
     "data": {
      "text/html": [
       "<img src=\"/home/pnavarro/repos/NostrumBD/CV_learning/deep_cartograph/deep_cartograph/data/calpha_transitions/output/3hif_B-4bhp_A-3/torsions/train_colvars/pca/3hif_B-4bhp_A-3/trajectory.png?1732800315\" style=\"width: 600px; margin-right: 10px;\">"
      ],
      "text/plain": [
       "<IPython.core.display.HTML object>"
      ]
     },
     "metadata": {},
     "output_type": "display_data"
    },
    {
     "name": "stdout",
     "output_type": "stream",
     "text": [
      "Results for model: ae\n",
      "Output folder: /home/pnavarro/repos/NostrumBD/CV_learning/deep_cartograph/deep_cartograph/data/calpha_transitions/output/3hif_B-4bhp_A-3/torsions\n",
      "Final model score: 9.4482E-3\n"
     ]
    },
    {
     "data": {
      "text/html": [
       "<img src=\"/home/pnavarro/repos/NostrumBD/CV_learning/deep_cartograph/deep_cartograph/data/calpha_transitions/output/3hif_B-4bhp_A-3/torsions/train_colvars/ae/3hif_B-4bhp_A-3/trajectory.png?1732800315\" style=\"width: 600px; margin-right: 10px;\"><img src=\"/home/pnavarro/repos/NostrumBD/CV_learning/deep_cartograph/deep_cartograph/data/calpha_transitions/output/3hif_B-4bhp_A-3/torsions/train_colvars/ae/loss.png?1732800315\" style=\"width: 600px; margin-right: 10px;\">"
      ],
      "text/plain": [
       "<IPython.core.display.HTML object>"
      ]
     },
     "metadata": {},
     "output_type": "display_data"
    },
    {
     "name": "stdout",
     "output_type": "stream",
     "text": [
      "Results for model: tica\n",
      "Output folder: /home/pnavarro/repos/NostrumBD/CV_learning/deep_cartograph/deep_cartograph/data/calpha_transitions/output/3hif_B-4bhp_A-3/torsions\n"
     ]
    },
    {
     "data": {
      "text/html": [
       "<img src=\"/home/pnavarro/repos/NostrumBD/CV_learning/deep_cartograph/deep_cartograph/data/calpha_transitions/output/3hif_B-4bhp_A-3/torsions/train_colvars/tica/3hif_B-4bhp_A-3/trajectory.png?1732800315\" style=\"width: 600px; margin-right: 10px;\">"
      ],
      "text/plain": [
       "<IPython.core.display.HTML object>"
      ]
     },
     "metadata": {},
     "output_type": "display_data"
    },
    {
     "name": "stdout",
     "output_type": "stream",
     "text": [
      "Results for model: deep_tica\n",
      "Output folder: /home/pnavarro/repos/NostrumBD/CV_learning/deep_cartograph/deep_cartograph/data/calpha_transitions/output/3hif_B-4bhp_A-3/torsions\n",
      "Final model score: -1.9661E+0\n",
      "Eigenvalue 1: 1.0104E+0\n",
      "Eigenvalue 2: 9.7216E-1\n"
     ]
    },
    {
     "data": {
      "text/html": [
       "<img src=\"/home/pnavarro/repos/NostrumBD/CV_learning/deep_cartograph/deep_cartograph/data/calpha_transitions/output/3hif_B-4bhp_A-3/torsions/train_colvars/deep_tica/3hif_B-4bhp_A-3/trajectory.png?1732800315\" style=\"width: 600px; margin-right: 10px;\"><img src=\"/home/pnavarro/repos/NostrumBD/CV_learning/deep_cartograph/deep_cartograph/data/calpha_transitions/output/3hif_B-4bhp_A-3/torsions/train_colvars/deep_tica/loss.png?1732800315\" style=\"width: 600px; margin-right: 10px;\"><img src=\"/home/pnavarro/repos/NostrumBD/CV_learning/deep_cartograph/deep_cartograph/data/calpha_transitions/output/3hif_B-4bhp_A-3/torsions/train_colvars/deep_tica/eigenvalues.png?1732800315\" style=\"width: 600px; margin-right: 10px;\">"
      ],
      "text/plain": [
       "<IPython.core.display.HTML object>"
      ]
     },
     "metadata": {},
     "output_type": "display_data"
    },
    {
     "data": {
      "text/plain": [
       "<Figure size 640x480 with 0 Axes>"
      ]
     },
     "metadata": {},
     "output_type": "display_data"
    },
    {
     "data": {
      "text/plain": [
       "<Figure size 500x400 with 0 Axes>"
      ]
     },
     "metadata": {},
     "output_type": "display_data"
    },
    {
     "data": {
      "text/plain": [
       "<Figure size 500x400 with 0 Axes>"
      ]
     },
     "metadata": {},
     "output_type": "display_data"
    },
    {
     "data": {
      "text/plain": [
       "<Figure size 640x480 with 0 Axes>"
      ]
     },
     "metadata": {},
     "output_type": "display_data"
    },
    {
     "data": {
      "text/plain": [
       "<Figure size 640x480 with 0 Axes>"
      ]
     },
     "metadata": {},
     "output_type": "display_data"
    },
    {
     "data": {
      "text/plain": [
       "<Figure size 500x400 with 0 Axes>"
      ]
     },
     "metadata": {},
     "output_type": "display_data"
    },
    {
     "data": {
      "text/plain": [
       "<Figure size 640x480 with 0 Axes>"
      ]
     },
     "metadata": {},
     "output_type": "display_data"
    }
   ],
   "source": [
    "features = 'torsions'\n",
    "system_name = '3hif_B-4bhp_A-3'\n",
    "output_folder = f\"{data_folder}/calpha_transitions/output/{system_name}/{features}\"\n",
    "run_deep_cartograph(features, system_name)\n",
    "\n",
    "for model in ['pca', 'ae', 'tica', 'deep_tica']:\n",
    "\n",
    "    print(f\"Results for model: {model}\")\n",
    "    show_results(output_folder, model_name = model, system = system_name)   "
   ]
  },
  {
   "cell_type": "code",
   "execution_count": 22,
   "metadata": {},
   "outputs": [
    {
     "name": "stderr",
     "output_type": "stream",
     "text": [
      "INFO:deep_cartograph:================\n",
      "INFO:deep_cartograph:Compute features\n",
      "INFO:deep_cartograph:================\n",
      "INFO:deep_cartograph:Trajectory file: /home/pnavarro/repos/NostrumBD/CV_learning/deep_cartograph/deep_cartograph/data/calpha_transitions/input/3hif_B-4bhp_A-3/3hif_B-4bhp_A-3.dcd\n",
      "/home/pnavarro/miniforge3/envs/deep_cartograph/lib/python3.10/site-packages/MDAnalysis/topology/PDBParser.py:317: UserWarning: Element information is missing, elements attribute will not be populated. If needed these can be guessed using MDAnalysis.topology.guessers.\n",
      "  warnings.warn(\"Element information is missing, elements attribute \"\n",
      "/home/pnavarro/miniforge3/envs/deep_cartograph/lib/python3.10/site-packages/MDAnalysis/coordinates/PDB.py:747: UserWarning: Unit cell dimensions not found. CRYST1 record set to unitary values.\n",
      "  warnings.warn(\"Unit cell dimensions not found. \"\n",
      "/home/pnavarro/miniforge3/envs/deep_cartograph/lib/python3.10/site-packages/MDAnalysis/coordinates/PDB.py:1078: UserWarning: Found no information for attr: 'elements' Using default value of ' '\n",
      "  warnings.warn(\"Found no information for attr: '{}'\"\n",
      "/home/pnavarro/miniforge3/envs/deep_cartograph/lib/python3.10/site-packages/MDAnalysis/coordinates/PDB.py:429: UserWarning: 1 A^3 CRYST1 record, this is usually a placeholder. Unit cell dimensions will be set to None.\n",
      "  warnings.warn(\"1 A^3 CRYST1 record,\"\n",
      "WARNING:deep_cartograph.modules.md.md:Provided topology does not contain bonds. Bonds will be guessed using a distance criterion (bond_length < 2.0). Distances between bonded atoms will be excluded.\n",
      "WARNING:deep_cartograph.modules.md.md:Distances between atoms in the same residue or neighboring residues will be included. These are unlikely to contain relevant information. To exclude them use 'skip_neigh_residues: True'.\n",
      "INFO:deep_cartograph.modules.plumed.input_file.input_file:Found 455 features for dist\n",
      "INFO:deep_cartograph.modules.plumed.utils:Executing PLUMED driver command: plumed driver --plumed /home/pnavarro/repos/NostrumBD/CV_learning/deep_cartograph/deep_cartograph/data/calpha_transitions/output/3hif_B-4bhp_A-3/distances/compute_features/3hif_B-4bhp_A-3/distances.dat --mf_dcd /home/pnavarro/repos/NostrumBD/CV_learning/deep_cartograph/deep_cartograph/data/calpha_transitions/input/3hif_B-4bhp_A-3/3hif_B-4bhp_A-3.dcd --natoms 199\n",
      "INFO:deep_cartograph:Elapsed time (Compute features): 00 h 00 min 00 s\n",
      "INFO:deep_cartograph:==================\n",
      "INFO:deep_cartograph:Filtering features\n",
      "INFO:deep_cartograph:==================\n",
      "INFO:deep_cartograph:Finding the features that contains the most information about the transitions or conformational changes.\n",
      "INFO:deep_cartograph:The following algorithms are available:\n",
      "INFO:deep_cartograph:- Hartigan's dip test filter. Keeps features that are not unimodal.\n",
      "INFO:deep_cartograph:- Shannon entropy filter. Keeps features with entropy greater than a threshold.\n",
      "INFO:deep_cartograph:- Standard deviation filter. Keeps features with standard deviation greater than a threshold.\n",
      "INFO:deep_cartograph:Note that the all features must be in the same units to apply the entropy and standard deviation filters meaningfully.\n",
      "INFO:deep_cartograph:Initial size of features set: 455.\n",
      "INFO:deep_cartograph.tools.filter_features.filtering:Computing dip test.\n",
      "INFO:deep_cartograph.tools.filter_features.filtering:Filtered 95 features.\n",
      "INFO:deep_cartograph:Elapsed time (Filter features): 00 h 00 min 05 s\n",
      "INFO:deep_cartograph.modules.common.common: Using features in /home/pnavarro/repos/NostrumBD/CV_learning/deep_cartograph/deep_cartograph/data/calpha_transitions/output/3hif_B-4bhp_A-3/distances/filter_features/filtered_features.txt\n",
      "INFO:deep_cartograph:================================\n",
      "INFO:deep_cartograph:Training of Collective Variables\n",
      "INFO:deep_cartograph:================================\n",
      "INFO:deep_cartograph:Training of collective variables using the mlcolvar library.\n",
      "INFO:deep_cartograph.tools.train_colvars.train_colvars_workflow:Collective variables to compute: ['pca', 'deep_tica', 'tica', 'ae']\n",
      "INFO:deep_cartograph.tools.train_colvars.cv_calculator:Reading training data from colvars files...\n",
      "INFO:deep_cartograph.tools.train_colvars.cv_calculator:Number of features: 360\n",
      "INFO:deep_cartograph.tools.train_colvars.cv_calculator:Number of samples: 297\n",
      "INFO:deep_cartograph.tools.train_colvars.cv_calculator:Calculating PCA ...\n",
      "INFO:deep_cartograph.tools.train_colvars.cv_calculator:Projecting reference data onto PCA ...\n",
      "INFO:deep_cartograph.tools.train_colvars.cv_calculator:Collective variable weights saved to /home/pnavarro/repos/NostrumBD/CV_learning/deep_cartograph/deep_cartograph/data/calpha_transitions/output/3hif_B-4bhp_A-3/distances/train_colvars/pca/weights.txt\n",
      "INFO:deep_cartograph.tools.train_colvars.train_colvars_workflow:Projecting colvars file: /home/pnavarro/repos/NostrumBD/CV_learning/deep_cartograph/deep_cartograph/data/calpha_transitions/output/3hif_B-4bhp_A-3/distances/compute_features/3hif_B-4bhp_A-3/colvars.dat\n",
      "INFO:deep_cartograph.tools.train_colvars.train_colvars_workflow:Corresponding trajectory file: /home/pnavarro/repos/NostrumBD/CV_learning/deep_cartograph/deep_cartograph/data/calpha_transitions/input/3hif_B-4bhp_A-3/3hif_B-4bhp_A-3.dcd\n",
      "INFO:deep_cartograph.tools.train_colvars.train_colvars_workflow:Corresponding topology file: /home/pnavarro/repos/NostrumBD/CV_learning/deep_cartograph/deep_cartograph/data/calpha_transitions/input/3hif_B-4bhp_A-3/3hif_B-4bhp_A-3.pdb\n",
      "INFO:deep_cartograph.tools.train_colvars.cv_calculator:Projecting colvars features onto PCA ...\n",
      "INFO:deep_cartograph.modules.figures.figures:Computing FES(PC 1, PC 2)...\n",
      "/home/pnavarro/repos/NostrumBD/CV_learning/deep_cartograph/deep_cartograph/modules/figures/figures.py:129: UserWarning: No artists with labels found to put in legend.  Note that artists whose label start with an underscore are ignored when legend() is called with no argument.\n",
      "  ax.legend(fontsize = font_size)\n",
      "INFO:deep_cartograph.tools.train_colvars.cv_calculator:Reading training data from colvars files...\n",
      "INFO:deep_cartograph.tools.train_colvars.cv_calculator:Number of features: 360\n",
      "/home/pnavarro/repos/mlcolvar/mlcolvar/utils/timelagged.py:140: UserWarning: Monitoring the progress for the search of time-lagged configurations with a progress_bar requires `tqdm`.\n",
      "  warnings.warn(\n",
      "INFO:deep_cartograph.tools.train_colvars.cv_calculator:Number of samples: 294\n",
      "INFO:deep_cartograph.tools.train_colvars.cv_calculator:Calculating DeepTICA ...\n",
      "WARNING:deep_cartograph.tools.train_colvars.cv_calculator:The batch size is larger than the number of samples in the training set. \n",
      "                           Setting the batch size to the closest power of two: 128\n",
      "INFO:deep_cartograph.tools.train_colvars.cv_calculator:Training DeepTICA ...\n",
      "INFO:deep_cartograph.tools.train_colvars.cv_calculator:Model architecture: DeepTICA(\n",
      "  (loss_fn): ReduceEigenvaluesLoss()\n",
      "  (norm_in): Normalization(in_features=360, out_features=360, mode=mean_std)\n",
      "  (nn): FeedForward(\n",
      "    (nn): Sequential(\n",
      "      (0): Linear(in_features=360, out_features=5, bias=True)\n",
      "      (1): Shifted_Softplus(beta=1, threshold=20)\n",
      "      (2): Dropout(p=0.1, inplace=False)\n",
      "      (3): Linear(in_features=5, out_features=3, bias=True)\n",
      "      (4): Shifted_Softplus(beta=1, threshold=20)\n",
      "      (5): Dropout(p=0.1, inplace=False)\n",
      "      (6): Linear(in_features=3, out_features=2, bias=True)\n",
      "    )\n",
      "  )\n",
      "  (tica): TICA(in_features=2, out_features=2)\n",
      ")\n",
      "GPU available: False, used: False\n",
      "TPU available: False, using: 0 TPU cores\n",
      "HPU available: False, using: 0 HPUs\n",
      "\n",
      "  | Name    | Type                  | Params | Mode  | In sizes | Out sizes\n",
      "---------------------------------------------------------------------------------\n",
      "0 | loss_fn | ReduceEigenvaluesLoss | 0      | train | ?        | ?        \n",
      "1 | norm_in | Normalization         | 0      | train | [1, 360] | [1, 360] \n",
      "2 | nn      | FeedForward           | 1.8 K  | train | [1, 360] | [1, 2]   \n",
      "3 | tica    | TICA                  | 0      | train | [1, 2]   | [1, 2]   \n",
      "---------------------------------------------------------------------------------\n",
      "1.8 K     Trainable params\n",
      "0         Non-trainable params\n",
      "1.8 K     Total params\n",
      "0.007     Total estimated model params size (MB)\n",
      "INFO:deep_cartograph.tools.train_colvars.cv_calculator:Best model score: -1.9878517389297485\n",
      "/home/pnavarro/repos/mlcolvar/mlcolvar/utils/plot.py:254: UserWarning: Data has no positive values, and therefore cannot be log-scaled.\n",
      "  ax.set_yscale(yscale)\n",
      "INFO:deep_cartograph.tools.train_colvars.cv_calculator:Projecting reference data onto DeepTICA ...\n",
      "INFO:deep_cartograph.tools.train_colvars.cv_calculator:Took 0 epochs\n",
      "INFO:deep_cartograph.tools.train_colvars.cv_calculator:Eigenvalue 1: 1.002177119255066\n",
      "INFO:deep_cartograph.tools.train_colvars.cv_calculator:Eigenvalue 2: 0.9917120337486267\n",
      "/home/pnavarro/repos/mlcolvar/mlcolvar/core/nn/utils.py:13: TracerWarning: Converting a tensor to a Python number might cause the trace to be incorrect. We can't record the data flow of Python values, so this value will be treated as a constant in the future. This means that the trace might not generalize to other inputs!\n",
      "  sp0 = F.softplus(torch.zeros(1), self.beta, self.threshold).item()\n",
      "INFO:deep_cartograph.tools.train_colvars.cv_calculator:Collective variable weights saved to /home/pnavarro/repos/NostrumBD/CV_learning/deep_cartograph/deep_cartograph/data/calpha_transitions/output/3hif_B-4bhp_A-3/distances/train_colvars/deep_tica/weights.ptc\n",
      "INFO:deep_cartograph.tools.train_colvars.train_colvars_workflow:Projecting colvars file: /home/pnavarro/repos/NostrumBD/CV_learning/deep_cartograph/deep_cartograph/data/calpha_transitions/output/3hif_B-4bhp_A-3/distances/compute_features/3hif_B-4bhp_A-3/colvars.dat\n",
      "INFO:deep_cartograph.tools.train_colvars.train_colvars_workflow:Corresponding trajectory file: /home/pnavarro/repos/NostrumBD/CV_learning/deep_cartograph/deep_cartograph/data/calpha_transitions/input/3hif_B-4bhp_A-3/3hif_B-4bhp_A-3.dcd\n",
      "INFO:deep_cartograph.tools.train_colvars.train_colvars_workflow:Corresponding topology file: /home/pnavarro/repos/NostrumBD/CV_learning/deep_cartograph/deep_cartograph/data/calpha_transitions/input/3hif_B-4bhp_A-3/3hif_B-4bhp_A-3.pdb\n",
      "INFO:deep_cartograph.tools.train_colvars.cv_calculator:Projecting features onto DeepTICA ...\n",
      "INFO:deep_cartograph.modules.figures.figures:Computing FES(DeepTIC 1, DeepTIC 2)...\n",
      "/home/pnavarro/repos/NostrumBD/CV_learning/deep_cartograph/deep_cartograph/modules/figures/figures.py:129: UserWarning: No artists with labels found to put in legend.  Note that artists whose label start with an underscore are ignored when legend() is called with no argument.\n",
      "  ax.legend(fontsize = font_size)\n",
      "INFO:deep_cartograph.tools.train_colvars.cv_calculator:Reading training data from colvars files...\n",
      "INFO:deep_cartograph.tools.train_colvars.cv_calculator:Number of features: 360\n",
      "/home/pnavarro/repos/mlcolvar/mlcolvar/utils/timelagged.py:140: UserWarning: Monitoring the progress for the search of time-lagged configurations with a progress_bar requires `tqdm`.\n",
      "  warnings.warn(\n",
      "INFO:deep_cartograph.tools.train_colvars.cv_calculator:Number of samples: 294\n",
      "INFO:deep_cartograph.tools.train_colvars.cv_calculator:Calculating TICA ...\n",
      "ERROR:deep_cartograph.tools.train_colvars.cv_calculator:TICA could not be computed. Error message: linalg.cholesky: The factorization could not be completed because the input is not positive-definite (the leading minor of order 129 is not positive-definite).\n",
      "INFO:deep_cartograph.tools.train_colvars.cv_calculator:Reading training data from colvars files...\n",
      "INFO:deep_cartograph.tools.train_colvars.cv_calculator:Number of features: 360\n",
      "INFO:deep_cartograph.tools.train_colvars.cv_calculator:Number of samples: 297\n",
      "INFO:deep_cartograph.tools.train_colvars.cv_calculator:Calculating AE ...\n",
      "WARNING:deep_cartograph.tools.train_colvars.cv_calculator:The batch size is larger than the number of samples in the training set. \n",
      "                           Setting the batch size to the closest power of two: 128\n",
      "INFO:deep_cartograph.tools.train_colvars.cv_calculator:Training AE ...\n",
      "INFO:deep_cartograph.tools.train_colvars.cv_calculator:Model architecture: AutoEncoderCV(\n",
      "  (loss_fn): MSELoss()\n",
      "  (norm_in): Normalization(in_features=360, out_features=360, mode=mean_std)\n",
      "  (encoder): FeedForward(\n",
      "    (nn): Sequential(\n",
      "      (0): Linear(in_features=360, out_features=5, bias=True)\n",
      "      (1): Shifted_Softplus(beta=1, threshold=20)\n",
      "      (2): Dropout(p=0.1, inplace=False)\n",
      "      (3): Linear(in_features=5, out_features=3, bias=True)\n",
      "      (4): Shifted_Softplus(beta=1, threshold=20)\n",
      "      (5): Dropout(p=0.1, inplace=False)\n",
      "      (6): Linear(in_features=3, out_features=2, bias=True)\n",
      "    )\n",
      "  )\n",
      "  (decoder): FeedForward(\n",
      "    (nn): Sequential(\n",
      "      (0): Linear(in_features=2, out_features=3, bias=True)\n",
      "      (1): Shifted_Softplus(beta=1, threshold=20)\n",
      "      (2): Dropout(p=0.1, inplace=False)\n",
      "      (3): Linear(in_features=3, out_features=5, bias=True)\n",
      "      (4): Shifted_Softplus(beta=1, threshold=20)\n",
      "      (5): Dropout(p=0.1, inplace=False)\n",
      "      (6): Linear(in_features=5, out_features=360, bias=True)\n",
      "    )\n",
      "  )\n",
      ")\n",
      "GPU available: False, used: False\n",
      "TPU available: False, using: 0 TPU cores\n",
      "HPU available: False, using: 0 HPUs\n",
      "\n",
      "  | Name    | Type          | Params | Mode  | In sizes | Out sizes\n",
      "-------------------------------------------------------------------------\n",
      "0 | loss_fn | MSELoss       | 0      | train | ?        | ?        \n",
      "1 | norm_in | Normalization | 0      | train | [1, 360] | [1, 360] \n",
      "2 | encoder | FeedForward   | 1.8 K  | train | [1, 360] | [1, 2]   \n",
      "3 | decoder | FeedForward   | 2.2 K  | train | ?        | ?        \n",
      "-------------------------------------------------------------------------\n",
      "4.0 K     Trainable params\n",
      "0         Non-trainable params\n",
      "4.0 K     Total params\n",
      "0.016     Total estimated model params size (MB)\n",
      "INFO:deep_cartograph.tools.train_colvars.cv_calculator:Best model score: 0.022434649989008904\n",
      "INFO:deep_cartograph.tools.train_colvars.cv_calculator:Projecting reference data onto AE ...\n",
      "/home/pnavarro/repos/mlcolvar/mlcolvar/core/nn/utils.py:13: TracerWarning: Converting a tensor to a Python number might cause the trace to be incorrect. We can't record the data flow of Python values, so this value will be treated as a constant in the future. This means that the trace might not generalize to other inputs!\n",
      "  sp0 = F.softplus(torch.zeros(1), self.beta, self.threshold).item()\n",
      "INFO:deep_cartograph.tools.train_colvars.cv_calculator:Collective variable weights saved to /home/pnavarro/repos/NostrumBD/CV_learning/deep_cartograph/deep_cartograph/data/calpha_transitions/output/3hif_B-4bhp_A-3/distances/train_colvars/ae/weights.ptc\n",
      "INFO:deep_cartograph.tools.train_colvars.train_colvars_workflow:Projecting colvars file: /home/pnavarro/repos/NostrumBD/CV_learning/deep_cartograph/deep_cartograph/data/calpha_transitions/output/3hif_B-4bhp_A-3/distances/compute_features/3hif_B-4bhp_A-3/colvars.dat\n",
      "INFO:deep_cartograph.tools.train_colvars.train_colvars_workflow:Corresponding trajectory file: /home/pnavarro/repos/NostrumBD/CV_learning/deep_cartograph/deep_cartograph/data/calpha_transitions/input/3hif_B-4bhp_A-3/3hif_B-4bhp_A-3.dcd\n",
      "INFO:deep_cartograph.tools.train_colvars.train_colvars_workflow:Corresponding topology file: /home/pnavarro/repos/NostrumBD/CV_learning/deep_cartograph/deep_cartograph/data/calpha_transitions/input/3hif_B-4bhp_A-3/3hif_B-4bhp_A-3.pdb\n",
      "INFO:deep_cartograph.tools.train_colvars.cv_calculator:Projecting features onto AE ...\n",
      "INFO:deep_cartograph.modules.figures.figures:Computing FES(AE 1, AE 2)...\n",
      "/home/pnavarro/repos/NostrumBD/CV_learning/deep_cartograph/deep_cartograph/modules/figures/figures.py:129: UserWarning: No artists with labels found to put in legend.  Note that artists whose label start with an underscore are ignored when legend() is called with no argument.\n",
      "  ax.legend(fontsize = font_size)\n",
      "INFO:deep_cartograph:Elapsed time (Train colvars): 00 h 07 min 31 s\n",
      "INFO:deep_cartograph:Total elapsed time: 00 h 07 min 38 s\n"
     ]
    },
    {
     "name": "stdout",
     "output_type": "stream",
     "text": [
      "Results for model: pca\n",
      "Output folder: /home/pnavarro/repos/NostrumBD/CV_learning/deep_cartograph/deep_cartograph/data/calpha_transitions/output/3hif_B-4bhp_A-3/distances\n"
     ]
    },
    {
     "data": {
      "text/html": [
       "<img src=\"/home/pnavarro/repos/NostrumBD/CV_learning/deep_cartograph/deep_cartograph/data/calpha_transitions/output/3hif_B-4bhp_A-3/distances/train_colvars/pca/3hif_B-4bhp_A-3/trajectory.png?1732800853\" style=\"width: 600px; margin-right: 10px;\">"
      ],
      "text/plain": [
       "<IPython.core.display.HTML object>"
      ]
     },
     "metadata": {},
     "output_type": "display_data"
    },
    {
     "name": "stdout",
     "output_type": "stream",
     "text": [
      "Results for model: ae\n",
      "Output folder: /home/pnavarro/repos/NostrumBD/CV_learning/deep_cartograph/deep_cartograph/data/calpha_transitions/output/3hif_B-4bhp_A-3/distances\n",
      "Final model score: 2.2435E-2\n"
     ]
    },
    {
     "data": {
      "text/html": [
       "<img src=\"/home/pnavarro/repos/NostrumBD/CV_learning/deep_cartograph/deep_cartograph/data/calpha_transitions/output/3hif_B-4bhp_A-3/distances/train_colvars/ae/3hif_B-4bhp_A-3/trajectory.png?1732800853\" style=\"width: 600px; margin-right: 10px;\"><img src=\"/home/pnavarro/repos/NostrumBD/CV_learning/deep_cartograph/deep_cartograph/data/calpha_transitions/output/3hif_B-4bhp_A-3/distances/train_colvars/ae/loss.png?1732800853\" style=\"width: 600px; margin-right: 10px;\">"
      ],
      "text/plain": [
       "<IPython.core.display.HTML object>"
      ]
     },
     "metadata": {},
     "output_type": "display_data"
    },
    {
     "name": "stdout",
     "output_type": "stream",
     "text": [
      "Results for model: tica\n",
      "Output folder: /home/pnavarro/repos/NostrumBD/CV_learning/deep_cartograph/deep_cartograph/data/calpha_transitions/output/3hif_B-4bhp_A-3/distances\n"
     ]
    },
    {
     "data": {
      "text/html": [],
      "text/plain": [
       "<IPython.core.display.HTML object>"
      ]
     },
     "metadata": {},
     "output_type": "display_data"
    },
    {
     "name": "stdout",
     "output_type": "stream",
     "text": [
      "Results for model: deep_tica\n",
      "Output folder: /home/pnavarro/repos/NostrumBD/CV_learning/deep_cartograph/deep_cartograph/data/calpha_transitions/output/3hif_B-4bhp_A-3/distances\n",
      "Final model score: -1.9879E+0\n",
      "Eigenvalue 1: 1.0022E+0\n",
      "Eigenvalue 2: 9.9171E-1\n"
     ]
    },
    {
     "data": {
      "text/html": [
       "<img src=\"/home/pnavarro/repos/NostrumBD/CV_learning/deep_cartograph/deep_cartograph/data/calpha_transitions/output/3hif_B-4bhp_A-3/distances/train_colvars/deep_tica/3hif_B-4bhp_A-3/trajectory.png?1732800853\" style=\"width: 600px; margin-right: 10px;\"><img src=\"/home/pnavarro/repos/NostrumBD/CV_learning/deep_cartograph/deep_cartograph/data/calpha_transitions/output/3hif_B-4bhp_A-3/distances/train_colvars/deep_tica/loss.png?1732800853\" style=\"width: 600px; margin-right: 10px;\"><img src=\"/home/pnavarro/repos/NostrumBD/CV_learning/deep_cartograph/deep_cartograph/data/calpha_transitions/output/3hif_B-4bhp_A-3/distances/train_colvars/deep_tica/eigenvalues.png?1732800853\" style=\"width: 600px; margin-right: 10px;\">"
      ],
      "text/plain": [
       "<IPython.core.display.HTML object>"
      ]
     },
     "metadata": {},
     "output_type": "display_data"
    },
    {
     "data": {
      "text/plain": [
       "<Figure size 640x480 with 0 Axes>"
      ]
     },
     "metadata": {},
     "output_type": "display_data"
    },
    {
     "data": {
      "text/plain": [
       "<Figure size 500x400 with 0 Axes>"
      ]
     },
     "metadata": {},
     "output_type": "display_data"
    },
    {
     "data": {
      "text/plain": [
       "<Figure size 500x400 with 0 Axes>"
      ]
     },
     "metadata": {},
     "output_type": "display_data"
    },
    {
     "data": {
      "text/plain": [
       "<Figure size 640x480 with 0 Axes>"
      ]
     },
     "metadata": {},
     "output_type": "display_data"
    },
    {
     "data": {
      "text/plain": [
       "<Figure size 500x400 with 0 Axes>"
      ]
     },
     "metadata": {},
     "output_type": "display_data"
    },
    {
     "data": {
      "text/plain": [
       "<Figure size 640x480 with 0 Axes>"
      ]
     },
     "metadata": {},
     "output_type": "display_data"
    }
   ],
   "source": [
    "features = 'distances'\n",
    "system_name = '3hif_B-4bhp_A-3'\n",
    "output_folder = f\"{data_folder}/calpha_transitions/output/{system_name}/{features}\"\n",
    "run_deep_cartograph(features, system_name)\n",
    "\n",
    "for model in ['pca', 'ae', 'tica', 'deep_tica']:\n",
    "\n",
    "    print(f\"Results for model: {model}\")\n",
    "    show_results(output_folder, model_name = model, system = system_name)"
   ]
  },
  {
   "cell_type": "markdown",
   "metadata": {},
   "source": [
    "## 3ts7_B-3ts7_A-1 transition\n",
    "\n",
    "<center>\n",
    "    <video width=\"620\" height=\"440\" src=\"../../../deep_cartograph/data/calpha_transitions/input/3ts7_B-3ts7_A-1/trajectory.mp4\" controls> </video>\n",
    "</center>"
   ]
  },
  {
   "cell_type": "code",
   "execution_count": null,
   "metadata": {},
   "outputs": [],
   "source": [
    "features = 'torsions'\n",
    "system_name = '3ts7_B-3ts7_A-1'\n",
    "output_folder = f\"{data_folder}/calpha_transitions/output/{system_name}/{features}\"\n",
    "run_deep_cartograph(features, system_name)\n",
    "\n",
    "for model in ['pca', 'ae', 'tica', 'deep_tica']:\n",
    "\n",
    "    print(f\"Results for model: {model}\")\n",
    "    show_results(output_folder, model_name = model, system = system_name)"
   ]
  },
  {
   "cell_type": "code",
   "execution_count": null,
   "metadata": {},
   "outputs": [],
   "source": [
    "features = 'distances'\n",
    "system_name = '3ts7_B-3ts7_A-1'\n",
    "output_folder = f\"{data_folder}/calpha_transitions/output/{system_name}/{features}\"\n",
    "run_deep_cartograph(features, system_name)\n",
    "\n",
    "for model in ['pca', 'ae', 'tica', 'deep_tica']:\n",
    "\n",
    "    print(f\"Results for model: {model}\")\n",
    "    show_results(output_folder, model_name = model, system = system_name)"
   ]
  }
 ],
 "metadata": {
  "kernelspec": {
   "display_name": "deep_cartograph",
   "language": "python",
   "name": "python3"
  },
  "language_info": {
   "codemirror_mode": {
    "name": "ipython",
    "version": 3
   },
   "file_extension": ".py",
   "mimetype": "text/x-python",
   "name": "python",
   "nbconvert_exporter": "python",
   "pygments_lexer": "ipython3",
   "version": "3.10.0"
  },
  "varInspector": {
   "cols": {
    "lenName": 16,
    "lenType": 16,
    "lenVar": 40
   },
   "kernels_config": {
    "python": {
     "delete_cmd_postfix": "",
     "delete_cmd_prefix": "del ",
     "library": "var_list.py",
     "varRefreshCmd": "print(var_dic_list())"
    },
    "r": {
     "delete_cmd_postfix": ") ",
     "delete_cmd_prefix": "rm(",
     "library": "var_list.r",
     "varRefreshCmd": "cat(var_dic_list()) "
    }
   },
   "types_to_exclude": [
    "module",
    "function",
    "builtin_function_or_method",
    "instance",
    "_Feature"
   ],
   "window_display": false
  }
 },
 "nbformat": 4,
 "nbformat_minor": 4
}
