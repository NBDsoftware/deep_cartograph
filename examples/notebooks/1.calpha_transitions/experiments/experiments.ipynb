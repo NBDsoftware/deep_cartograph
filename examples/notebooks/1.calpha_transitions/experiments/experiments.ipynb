{
 "cells": [
  {
   "cell_type": "markdown",
   "metadata": {},
   "source": [
    "# Experiments on parameters"
   ]
  },
  {
   "cell_type": "markdown",
   "metadata": {},
   "source": [
    "This notebook can be used to experiment with the different parameters of the models and see how those affect the outcome of the training. The discussion of the results for each hyper-parameter will be divided between the autoencoder and the deep tica models. As the hyper-parameters might affect them differently.\n",
    "\n",
    "Unlike with alanine dipeptide, here we don't have access to a lower dimensional manifold that separates the metastable states. Thus we cannot simply project the CV onto the $\\phi$, $\\psi$ space and see how well the model is able to separate the metastable states. Instead, knowing that each trajectory shows a transition between two states, we can project the trajectory on the CV space and see how smoothly it separates the initial and the final states."
   ]
  },
  {
   "cell_type": "code",
   "execution_count": 11,
   "metadata": {},
   "outputs": [],
   "source": [
    "from deep_cartograph.run import deep_cartograph\n",
    "import importlib.resources as resources\n",
    "from deep_cartograph import data\n",
    "\n",
    "from IPython.display import display, HTML\n",
    "from typing import Literal, Dict\n",
    "from decimal import Decimal\n",
    "import logging\n",
    "import shutil\n",
    "import yaml\n",
    "import time\n",
    "import os\n",
    "\n",
    "# Get the path to the data\n",
    "data_folder = resources.files(data)\n",
    "\n",
    "# Set logging level\n",
    "logging.basicConfig(level=logging.INFO)\n",
    "    \n",
    "def run_deep_cartograph(configuration: Dict, features: Literal['torsions', 'distances'], system_name: str, test_name: str):\n",
    "    \"\"\"\n",
    "    Runs deep cartograph using one of the system trajectories. Using one of the feature dictionaries\n",
    "    and the provided configuration.\n",
    "\n",
    "    Input\n",
    "    -----\n",
    "\n",
    "        configuration: configuration for all the steps of the deep cartograph main workflow\n",
    "        features:      choice of features to use to train/compute the CVs\n",
    "        system_name:   name of the system to use\n",
    "        test_name:     name of the test that will be used as output folder name\n",
    "    \"\"\"\n",
    "    # Input trajectory and topology\n",
    "    input_path = f\"{data_folder}/calpha_transitions/input/{system_name}\"\n",
    "    traj_path = os.path.join(input_path, f'{system_name}.dcd')\n",
    "    top_path = os.path.join(input_path, f'{system_name}.pdb')\n",
    "        \n",
    "    # Output folder\n",
    "    output_folder = f\"{data_folder}/calpha_transitions/experiments/output/{system_name}/{features}/{test_name}\"\n",
    "\n",
    "    # Clean output folder\n",
    "    if os.path.exists(output_folder):\n",
    "        shutil.rmtree(output_folder)\n",
    "\n",
    "    # Run workflow \n",
    "    deep_cartograph(\n",
    "        configuration = configuration,\n",
    "        trajectory_data = traj_path,\n",
    "        topology_data = top_path,\n",
    "        output_folder = output_folder)\n",
    "\n",
    "def show_results(features: Literal['torsions', 'distances'], system_name: str, model_name: str, test_name: str):\n",
    "    \"\"\"\n",
    "    Show the results for a specific model trained with deep cartograph\n",
    "\n",
    "    Inputs\n",
    "    ------\n",
    "\n",
    "        features:    choice of features to use to train/compute the CVs\n",
    "        system_name: name of the system\n",
    "        model_name:  name of the model\n",
    "        test_name:   name of the test to show results for\n",
    "    \"\"\"\n",
    "    def show_score(score_path):\n",
    "        \"\"\"\n",
    "        Print score path in a nice format \n",
    "\n",
    "        Input\n",
    "        -----\n",
    "\n",
    "            score_path: path to the score file\n",
    "        \"\"\"\n",
    "\n",
    "        # Read score\n",
    "        with open(score_path, 'r') as file:\n",
    "            score = file.read()\n",
    "\n",
    "        # Print score in scientific notation\n",
    "        print(f\"Final model score: {Decimal(score):.4E}\")\n",
    "\n",
    "    def show_eigenvalues(eig_path):\n",
    "        \"\"\"\n",
    "        Print eigenvalues in a nice format\n",
    "\n",
    "        Input\n",
    "        -----\n",
    "\n",
    "            eig_path: path to the eigenvalues file\n",
    "        \"\"\"\n",
    "\n",
    "        # Read eigenvalues\n",
    "        with open(eig_path, 'r') as file:\n",
    "            eigenvalues = file.readlines()\n",
    "\n",
    "        # Print eigenvalues\n",
    "        for i, eig in enumerate(eigenvalues):\n",
    "            print(f\"Eigenvalue {i+1}: {Decimal(eig):.4E}\")\n",
    "\n",
    "    # Output folder\n",
    "    output_folder = f\"{data_folder}/calpha_transitions/experiments/output/{system_name}/{features}/{test_name}\"\n",
    "\n",
    "    # Show output folder\n",
    "    print(f\"Output folder: {output_folder}\")\n",
    "\n",
    "    # Find model path\n",
    "    model_path = os.path.join(output_folder, \"train_colvars\", model_name)\n",
    "\n",
    "    # Find score if any\n",
    "    if model_name in ['ae', 'deep_tica']:\n",
    "        score_path = os.path.join(model_path, \"model_score.txt\")\n",
    "        if os.path.exists(score_path):\n",
    "            show_score(score_path)\n",
    "        else:\n",
    "            print(\"Score file not found\")\n",
    "\n",
    "    # Find eigenvalues if any\n",
    "    if model_name == 'deep_tica':\n",
    "        eig_path = os.path.join(model_path, \"eigenvalues.txt\")\n",
    "        if os.path.exists(eig_path):\n",
    "            show_eigenvalues(eig_path)\n",
    "        else:\n",
    "            print(\"Eigenvalues file not found\")\n",
    "\n",
    "    # Paths to images\n",
    "    loss = os.path.join(model_path, 'loss.png')\n",
    "    eigenvalues = os.path.join(model_path, 'eigenvalues.png')\n",
    "    trajectory = os.path.join(model_path, 'trajectory.png')\n",
    "    paths = [loss, eigenvalues, trajectory]\n",
    "\n",
    "    # Generate HTML image tags\n",
    "    timestamp = int(time.time()) # Add timestamp to avoid caching\n",
    "    images_html = [f'<img src=\"{path}?{timestamp}\" style=\"width: 600px; margin-right: 10px;\">' for path in paths if os.path.exists(path)]\n",
    "\n",
    "    # Display images\n",
    "    display(HTML(''.join(images_html)))"
   ]
  },
  {
   "cell_type": "markdown",
   "metadata": {},
   "source": [
    "## Batch size\n",
    "\n",
    "Smaller batch sizes can introduce more noise in the gradient updates, which can help the model scape local or sharp minima and find better solutions. Thus generalize better (see relation between training and validation loss). However, smaller batch sizes can also slow down the training process. In this case we have a small dataset and model, so the recommendation is to use a small batch size."
   ]
  },
  {
   "cell_type": "code",
   "execution_count": 12,
   "metadata": {},
   "outputs": [
    {
     "name": "stderr",
     "output_type": "stream",
     "text": [
      "INFO:deep_cartograph:================\n",
      "INFO:deep_cartograph:Compute features\n",
      "INFO:deep_cartograph:================\n",
      "INFO:deep_cartograph:Trajectory file: /home/pnavarro/repos/NostrumBD/CV_learning/deep_cartograph/deep_cartograph/data/calpha_transitions/input/2olu_A-2olv_A-1/2olu_A-2olv_A-1.dcd\n",
      "/home/pnavarro/miniforge3/envs/deep_cartograph/lib/python3.10/site-packages/MDAnalysis/topology/PDBParser.py:317: UserWarning: Element information is missing, elements attribute will not be populated. If needed these can be guessed using MDAnalysis.topology.guessers.\n",
      "  warnings.warn(\"Element information is missing, elements attribute \"\n",
      "/home/pnavarro/miniforge3/envs/deep_cartograph/lib/python3.10/site-packages/MDAnalysis/coordinates/PDB.py:747: UserWarning: Unit cell dimensions not found. CRYST1 record set to unitary values.\n",
      "  warnings.warn(\"Unit cell dimensions not found. \"\n",
      "/home/pnavarro/miniforge3/envs/deep_cartograph/lib/python3.10/site-packages/MDAnalysis/coordinates/PDB.py:1078: UserWarning: Found no information for attr: 'elements' Using default value of ' '\n",
      "  warnings.warn(\"Found no information for attr: '{}'\"\n",
      "/home/pnavarro/miniforge3/envs/deep_cartograph/lib/python3.10/site-packages/MDAnalysis/coordinates/PDB.py:429: UserWarning: 1 A^3 CRYST1 record, this is usually a placeholder. Unit cell dimensions will be set to None.\n",
      "  warnings.warn(\"1 A^3 CRYST1 record,\"\n",
      "INFO:deep_cartograph.modules.plumed.input_file.input_file:Found 1186 features for tor\n",
      "INFO:deep_cartograph.modules.plumed.utils:Executing PLUMED driver command: plumed driver --plumed /home/pnavarro/repos/NostrumBD/CV_learning/deep_cartograph/deep_cartograph/data/calpha_transitions/experiments/output/2olu_A-2olv_A-1/torsions/bs_16/compute_features/2olu_A-2olv_A-1/torsions.dat --mf_dcd /home/pnavarro/repos/NostrumBD/CV_learning/deep_cartograph/deep_cartograph/data/calpha_transitions/input/2olu_A-2olv_A-1/2olu_A-2olv_A-1.dcd --natoms 596\n",
      "INFO:deep_cartograph:Elapsed time (Compute features): 00 h 00 min 01 s\n",
      "INFO:deep_cartograph:==================\n",
      "INFO:deep_cartograph:Filtering features\n",
      "INFO:deep_cartograph:==================\n",
      "INFO:deep_cartograph:Finding the features that contains the most information about the transitions or conformational changes.\n",
      "INFO:deep_cartograph:The following algorithms are available:\n",
      "INFO:deep_cartograph:- Hartigan's dip test filter. Keeps features that are not unimodal.\n",
      "INFO:deep_cartograph:- Shannon entropy filter. Keeps features with entropy greater than a threshold.\n",
      "INFO:deep_cartograph:- Standard deviation filter. Keeps features with standard deviation greater than a threshold.\n",
      "INFO:deep_cartograph:Note that the all features must be in the same units to apply the entropy and standard deviation filters meaningfully.\n",
      "INFO:deep_cartograph:Initial size of features set: 1186.\n",
      "INFO:deep_cartograph.tools.filter_features.filtering:Computing dip test.\n",
      "INFO:deep_cartograph.tools.filter_features.filtering:Filtered 1003 features.\n",
      "INFO:deep_cartograph:Elapsed time (Filter features): 00 h 00 min 18 s\n",
      "INFO:deep_cartograph.modules.common.common: Using features in /home/pnavarro/repos/NostrumBD/CV_learning/deep_cartograph/deep_cartograph/data/calpha_transitions/experiments/output/2olu_A-2olv_A-1/torsions/bs_16/filter_features/filtered_features.txt\n",
      "INFO:deep_cartograph:================================\n",
      "INFO:deep_cartograph:Training of Collective Variables\n",
      "INFO:deep_cartograph:================================\n",
      "INFO:deep_cartograph:Training of collective variables using the mlcolvar library.\n",
      "INFO:deep_cartograph.tools.train_colvars.train_colvars_workflow:Collective variables to compute: ['ae', 'deep_tica']\n",
      "INFO:deep_cartograph.tools.train_colvars.cv_calculator:Reading training data from colvars files...\n",
      "INFO:deep_cartograph.tools.train_colvars.cv_calculator:Number of features: 183\n",
      "INFO:deep_cartograph.tools.train_colvars.cv_calculator:Number of samples: 338\n",
      "INFO:deep_cartograph.tools.train_colvars.cv_calculator:Calculating AE ...\n",
      "INFO:deep_cartograph.tools.train_colvars.cv_calculator:Training AE ...\n",
      "INFO:deep_cartograph.tools.train_colvars.cv_calculator:Model architecture: AutoEncoderCV(\n",
      "  (loss_fn): MSELoss()\n",
      "  (norm_in): Normalization(in_features=183, out_features=183, mode=mean_std)\n",
      "  (encoder): FeedForward(\n",
      "    (nn): Sequential(\n",
      "      (0): Linear(in_features=183, out_features=15, bias=True)\n",
      "      (1): Shifted_Softplus(beta=1, threshold=20)\n",
      "      (2): Dropout(p=0.1, inplace=False)\n",
      "      (3): Linear(in_features=15, out_features=15, bias=True)\n",
      "      (4): Shifted_Softplus(beta=1, threshold=20)\n",
      "      (5): Dropout(p=0.1, inplace=False)\n",
      "      (6): Linear(in_features=15, out_features=2, bias=True)\n",
      "    )\n",
      "  )\n",
      "  (decoder): FeedForward(\n",
      "    (nn): Sequential(\n",
      "      (0): Linear(in_features=2, out_features=15, bias=True)\n",
      "      (1): Shifted_Softplus(beta=1, threshold=20)\n",
      "      (2): Dropout(p=0.1, inplace=False)\n",
      "      (3): Linear(in_features=15, out_features=15, bias=True)\n",
      "      (4): Shifted_Softplus(beta=1, threshold=20)\n",
      "      (5): Dropout(p=0.1, inplace=False)\n",
      "      (6): Linear(in_features=15, out_features=183, bias=True)\n",
      "    )\n",
      "  )\n",
      ")\n",
      "GPU available: False, used: False\n",
      "TPU available: False, using: 0 TPU cores\n",
      "HPU available: False, using: 0 HPUs\n",
      "\n",
      "  | Name    | Type          | Params | Mode  | In sizes | Out sizes\n",
      "-------------------------------------------------------------------------\n",
      "0 | loss_fn | MSELoss       | 0      | train | ?        | ?        \n",
      "1 | norm_in | Normalization | 0      | train | [1, 183] | [1, 183] \n",
      "2 | encoder | FeedForward   | 3.0 K  | train | [1, 183] | [1, 2]   \n",
      "3 | decoder | FeedForward   | 3.2 K  | train | ?        | ?        \n",
      "-------------------------------------------------------------------------\n",
      "6.2 K     Trainable params\n",
      "0         Non-trainable params\n",
      "6.2 K     Total params\n",
      "0.025     Total estimated model params size (MB)\n",
      "INFO:deep_cartograph.tools.train_colvars.cv_calculator:Best model score: 0.002464552642777562\n",
      "INFO:deep_cartograph.tools.train_colvars.cv_calculator:Projecting reference data onto AE ...\n",
      "/home/pnavarro/repos/mlcolvar/mlcolvar/core/nn/utils.py:13: TracerWarning: Converting a tensor to a Python number might cause the trace to be incorrect. We can't record the data flow of Python values, so this value will be treated as a constant in the future. This means that the trace might not generalize to other inputs!\n",
      "  sp0 = F.softplus(torch.zeros(1), self.beta, self.threshold).item()\n",
      "INFO:deep_cartograph.tools.train_colvars.cv_calculator:Collective variable weights saved to /home/pnavarro/repos/NostrumBD/CV_learning/deep_cartograph/deep_cartograph/data/calpha_transitions/experiments/output/2olu_A-2olv_A-1/torsions/bs_16/train_colvars/ae/weights.ptc\n",
      "INFO:deep_cartograph.tools.train_colvars.train_colvars_workflow:Projecting colvars file: /home/pnavarro/repos/NostrumBD/CV_learning/deep_cartograph/deep_cartograph/data/calpha_transitions/experiments/output/2olu_A-2olv_A-1/torsions/bs_16/compute_features/2olu_A-2olv_A-1/colvars.dat\n",
      "INFO:deep_cartograph.tools.train_colvars.train_colvars_workflow:Corresponding trajectory file: /home/pnavarro/repos/NostrumBD/CV_learning/deep_cartograph/deep_cartograph/data/calpha_transitions/input/2olu_A-2olv_A-1/2olu_A-2olv_A-1.dcd\n",
      "INFO:deep_cartograph.tools.train_colvars.train_colvars_workflow:Corresponding topology file: /home/pnavarro/repos/NostrumBD/CV_learning/deep_cartograph/deep_cartograph/data/calpha_transitions/input/2olu_A-2olv_A-1/2olu_A-2olv_A-1.pdb\n",
      "INFO:deep_cartograph.tools.train_colvars.cv_calculator:Projecting features onto AE ...\n",
      "INFO:deep_cartograph.modules.figures.figures:Computing FES(AE 1, AE 2)...\n",
      "/home/pnavarro/repos/NostrumBD/CV_learning/deep_cartograph/deep_cartograph/modules/figures/figures.py:129: UserWarning: No artists with labels found to put in legend.  Note that artists whose label start with an underscore are ignored when legend() is called with no argument.\n",
      "  ax.legend(fontsize = font_size)\n",
      "INFO:deep_cartograph.tools.train_colvars.cv_calculator:Reading training data from colvars files...\n",
      "INFO:deep_cartograph.tools.train_colvars.cv_calculator:Number of features: 183\n",
      "/home/pnavarro/repos/mlcolvar/mlcolvar/utils/timelagged.py:140: UserWarning: Monitoring the progress for the search of time-lagged configurations with a progress_bar requires `tqdm`.\n",
      "  warnings.warn(\n",
      "INFO:deep_cartograph.tools.train_colvars.cv_calculator:Number of samples: 335\n",
      "INFO:deep_cartograph.tools.train_colvars.cv_calculator:Calculating DeepTICA ...\n",
      "INFO:deep_cartograph.tools.train_colvars.cv_calculator:Training DeepTICA ...\n",
      "INFO:deep_cartograph.tools.train_colvars.cv_calculator:Model architecture: DeepTICA(\n",
      "  (loss_fn): ReduceEigenvaluesLoss()\n",
      "  (norm_in): Normalization(in_features=183, out_features=183, mode=mean_std)\n",
      "  (nn): FeedForward(\n",
      "    (nn): Sequential(\n",
      "      (0): Linear(in_features=183, out_features=15, bias=True)\n",
      "      (1): Shifted_Softplus(beta=1, threshold=20)\n",
      "      (2): Dropout(p=0.1, inplace=False)\n",
      "      (3): Linear(in_features=15, out_features=15, bias=True)\n",
      "      (4): Shifted_Softplus(beta=1, threshold=20)\n",
      "      (5): Dropout(p=0.1, inplace=False)\n",
      "      (6): Linear(in_features=15, out_features=2, bias=True)\n",
      "    )\n",
      "  )\n",
      "  (tica): TICA(in_features=2, out_features=2)\n",
      ")\n",
      "GPU available: False, used: False\n",
      "TPU available: False, using: 0 TPU cores\n",
      "HPU available: False, using: 0 HPUs\n",
      "\n",
      "  | Name    | Type                  | Params | Mode  | In sizes | Out sizes\n",
      "---------------------------------------------------------------------------------\n",
      "0 | loss_fn | ReduceEigenvaluesLoss | 0      | train | ?        | ?        \n",
      "1 | norm_in | Normalization         | 0      | train | [1, 183] | [1, 183] \n",
      "2 | nn      | FeedForward           | 3.0 K  | train | [1, 183] | [1, 2]   \n",
      "3 | tica    | TICA                  | 0      | train | [1, 2]   | [1, 2]   \n",
      "---------------------------------------------------------------------------------\n",
      "3.0 K     Trainable params\n",
      "0         Non-trainable params\n",
      "3.0 K     Total params\n",
      "0.012     Total estimated model params size (MB)\n",
      "INFO:deep_cartograph.tools.train_colvars.cv_calculator:Best model score: -1.7073334455490112\n",
      "/home/pnavarro/repos/mlcolvar/mlcolvar/utils/plot.py:254: UserWarning: Data has no positive values, and therefore cannot be log-scaled.\n",
      "  ax.set_yscale(yscale)\n",
      "INFO:deep_cartograph.tools.train_colvars.cv_calculator:Projecting reference data onto DeepTICA ...\n",
      "INFO:deep_cartograph.tools.train_colvars.cv_calculator:Took 0 epochs\n",
      "INFO:deep_cartograph.tools.train_colvars.cv_calculator:Eigenvalue 1: 1.0026278495788574\n",
      "INFO:deep_cartograph.tools.train_colvars.cv_calculator:Eigenvalue 2: 0.8297398686408997\n",
      "/home/pnavarro/repos/mlcolvar/mlcolvar/core/nn/utils.py:13: TracerWarning: Converting a tensor to a Python number might cause the trace to be incorrect. We can't record the data flow of Python values, so this value will be treated as a constant in the future. This means that the trace might not generalize to other inputs!\n",
      "  sp0 = F.softplus(torch.zeros(1), self.beta, self.threshold).item()\n",
      "INFO:deep_cartograph.tools.train_colvars.cv_calculator:Collective variable weights saved to /home/pnavarro/repos/NostrumBD/CV_learning/deep_cartograph/deep_cartograph/data/calpha_transitions/experiments/output/2olu_A-2olv_A-1/torsions/bs_16/train_colvars/deep_tica/weights.ptc\n",
      "INFO:deep_cartograph.tools.train_colvars.train_colvars_workflow:Projecting colvars file: /home/pnavarro/repos/NostrumBD/CV_learning/deep_cartograph/deep_cartograph/data/calpha_transitions/experiments/output/2olu_A-2olv_A-1/torsions/bs_16/compute_features/2olu_A-2olv_A-1/colvars.dat\n",
      "INFO:deep_cartograph.tools.train_colvars.train_colvars_workflow:Corresponding trajectory file: /home/pnavarro/repos/NostrumBD/CV_learning/deep_cartograph/deep_cartograph/data/calpha_transitions/input/2olu_A-2olv_A-1/2olu_A-2olv_A-1.dcd\n",
      "INFO:deep_cartograph.tools.train_colvars.train_colvars_workflow:Corresponding topology file: /home/pnavarro/repos/NostrumBD/CV_learning/deep_cartograph/deep_cartograph/data/calpha_transitions/input/2olu_A-2olv_A-1/2olu_A-2olv_A-1.pdb\n",
      "INFO:deep_cartograph.tools.train_colvars.cv_calculator:Projecting features onto DeepTICA ...\n",
      "INFO:deep_cartograph.modules.figures.figures:Computing FES(DeepTIC 1, DeepTIC 2)...\n",
      "/home/pnavarro/repos/NostrumBD/CV_learning/deep_cartograph/deep_cartograph/modules/figures/figures.py:129: UserWarning: No artists with labels found to put in legend.  Note that artists whose label start with an underscore are ignored when legend() is called with no argument.\n",
      "  ax.legend(fontsize = font_size)\n",
      "INFO:deep_cartograph:Elapsed time (Train colvars): 00 h 00 min 23 s\n",
      "INFO:deep_cartograph:Total elapsed time: 00 h 00 min 43 s\n",
      "INFO:deep_cartograph:================\n",
      "INFO:deep_cartograph:Compute features\n",
      "INFO:deep_cartograph:================\n",
      "INFO:deep_cartograph:Trajectory file: /home/pnavarro/repos/NostrumBD/CV_learning/deep_cartograph/deep_cartograph/data/calpha_transitions/input/2olu_A-2olv_A-1/2olu_A-2olv_A-1.dcd\n",
      "/home/pnavarro/miniforge3/envs/deep_cartograph/lib/python3.10/site-packages/MDAnalysis/topology/PDBParser.py:317: UserWarning: Element information is missing, elements attribute will not be populated. If needed these can be guessed using MDAnalysis.topology.guessers.\n",
      "  warnings.warn(\"Element information is missing, elements attribute \"\n",
      "/home/pnavarro/miniforge3/envs/deep_cartograph/lib/python3.10/site-packages/MDAnalysis/coordinates/PDB.py:747: UserWarning: Unit cell dimensions not found. CRYST1 record set to unitary values.\n",
      "  warnings.warn(\"Unit cell dimensions not found. \"\n",
      "/home/pnavarro/miniforge3/envs/deep_cartograph/lib/python3.10/site-packages/MDAnalysis/coordinates/PDB.py:1078: UserWarning: Found no information for attr: 'elements' Using default value of ' '\n",
      "  warnings.warn(\"Found no information for attr: '{}'\"\n",
      "/home/pnavarro/miniforge3/envs/deep_cartograph/lib/python3.10/site-packages/MDAnalysis/coordinates/PDB.py:429: UserWarning: 1 A^3 CRYST1 record, this is usually a placeholder. Unit cell dimensions will be set to None.\n",
      "  warnings.warn(\"1 A^3 CRYST1 record,\"\n",
      "INFO:deep_cartograph.modules.plumed.input_file.input_file:Found 1186 features for tor\n",
      "INFO:deep_cartograph.modules.plumed.utils:Executing PLUMED driver command: plumed driver --plumed /home/pnavarro/repos/NostrumBD/CV_learning/deep_cartograph/deep_cartograph/data/calpha_transitions/experiments/output/2olu_A-2olv_A-1/torsions/bs_32/compute_features/2olu_A-2olv_A-1/torsions.dat --mf_dcd /home/pnavarro/repos/NostrumBD/CV_learning/deep_cartograph/deep_cartograph/data/calpha_transitions/input/2olu_A-2olv_A-1/2olu_A-2olv_A-1.dcd --natoms 596\n",
      "INFO:deep_cartograph:Elapsed time (Compute features): 00 h 00 min 01 s\n",
      "INFO:deep_cartograph:==================\n",
      "INFO:deep_cartograph:Filtering features\n",
      "INFO:deep_cartograph:==================\n",
      "INFO:deep_cartograph:Finding the features that contains the most information about the transitions or conformational changes.\n",
      "INFO:deep_cartograph:The following algorithms are available:\n",
      "INFO:deep_cartograph:- Hartigan's dip test filter. Keeps features that are not unimodal.\n",
      "INFO:deep_cartograph:- Shannon entropy filter. Keeps features with entropy greater than a threshold.\n",
      "INFO:deep_cartograph:- Standard deviation filter. Keeps features with standard deviation greater than a threshold.\n",
      "INFO:deep_cartograph:Note that the all features must be in the same units to apply the entropy and standard deviation filters meaningfully.\n",
      "INFO:deep_cartograph:Initial size of features set: 1186.\n",
      "INFO:deep_cartograph.tools.filter_features.filtering:Computing dip test.\n",
      "INFO:deep_cartograph.tools.filter_features.filtering:Filtered 1003 features.\n",
      "INFO:deep_cartograph:Elapsed time (Filter features): 00 h 00 min 19 s\n",
      "INFO:deep_cartograph.modules.common.common: Using features in /home/pnavarro/repos/NostrumBD/CV_learning/deep_cartograph/deep_cartograph/data/calpha_transitions/experiments/output/2olu_A-2olv_A-1/torsions/bs_32/filter_features/filtered_features.txt\n",
      "INFO:deep_cartograph:================================\n",
      "INFO:deep_cartograph:Training of Collective Variables\n",
      "INFO:deep_cartograph:================================\n",
      "INFO:deep_cartograph:Training of collective variables using the mlcolvar library.\n",
      "INFO:deep_cartograph.tools.train_colvars.train_colvars_workflow:Collective variables to compute: ['ae', 'deep_tica']\n",
      "INFO:deep_cartograph.tools.train_colvars.cv_calculator:Reading training data from colvars files...\n",
      "INFO:deep_cartograph.tools.train_colvars.cv_calculator:Number of features: 183\n",
      "INFO:deep_cartograph.tools.train_colvars.cv_calculator:Number of samples: 338\n",
      "INFO:deep_cartograph.tools.train_colvars.cv_calculator:Calculating AE ...\n",
      "INFO:deep_cartograph.tools.train_colvars.cv_calculator:Training AE ...\n",
      "INFO:deep_cartograph.tools.train_colvars.cv_calculator:Model architecture: AutoEncoderCV(\n",
      "  (loss_fn): MSELoss()\n",
      "  (norm_in): Normalization(in_features=183, out_features=183, mode=mean_std)\n",
      "  (encoder): FeedForward(\n",
      "    (nn): Sequential(\n",
      "      (0): Linear(in_features=183, out_features=15, bias=True)\n",
      "      (1): Shifted_Softplus(beta=1, threshold=20)\n",
      "      (2): Dropout(p=0.1, inplace=False)\n",
      "      (3): Linear(in_features=15, out_features=15, bias=True)\n",
      "      (4): Shifted_Softplus(beta=1, threshold=20)\n",
      "      (5): Dropout(p=0.1, inplace=False)\n",
      "      (6): Linear(in_features=15, out_features=2, bias=True)\n",
      "    )\n",
      "  )\n",
      "  (decoder): FeedForward(\n",
      "    (nn): Sequential(\n",
      "      (0): Linear(in_features=2, out_features=15, bias=True)\n",
      "      (1): Shifted_Softplus(beta=1, threshold=20)\n",
      "      (2): Dropout(p=0.1, inplace=False)\n",
      "      (3): Linear(in_features=15, out_features=15, bias=True)\n",
      "      (4): Shifted_Softplus(beta=1, threshold=20)\n",
      "      (5): Dropout(p=0.1, inplace=False)\n",
      "      (6): Linear(in_features=15, out_features=183, bias=True)\n",
      "    )\n",
      "  )\n",
      ")\n",
      "GPU available: False, used: False\n",
      "TPU available: False, using: 0 TPU cores\n",
      "HPU available: False, using: 0 HPUs\n",
      "\n",
      "  | Name    | Type          | Params | Mode  | In sizes | Out sizes\n",
      "-------------------------------------------------------------------------\n",
      "0 | loss_fn | MSELoss       | 0      | train | ?        | ?        \n",
      "1 | norm_in | Normalization | 0      | train | [1, 183] | [1, 183] \n",
      "2 | encoder | FeedForward   | 3.0 K  | train | [1, 183] | [1, 2]   \n",
      "3 | decoder | FeedForward   | 3.2 K  | train | ?        | ?        \n",
      "-------------------------------------------------------------------------\n",
      "6.2 K     Trainable params\n",
      "0         Non-trainable params\n",
      "6.2 K     Total params\n",
      "0.025     Total estimated model params size (MB)\n",
      "INFO:deep_cartograph.tools.train_colvars.cv_calculator:Best model score: 0.0023508158046752214\n",
      "INFO:deep_cartograph.tools.train_colvars.cv_calculator:Projecting reference data onto AE ...\n",
      "/home/pnavarro/repos/mlcolvar/mlcolvar/core/nn/utils.py:13: TracerWarning: Converting a tensor to a Python number might cause the trace to be incorrect. We can't record the data flow of Python values, so this value will be treated as a constant in the future. This means that the trace might not generalize to other inputs!\n",
      "  sp0 = F.softplus(torch.zeros(1), self.beta, self.threshold).item()\n",
      "INFO:deep_cartograph.tools.train_colvars.cv_calculator:Collective variable weights saved to /home/pnavarro/repos/NostrumBD/CV_learning/deep_cartograph/deep_cartograph/data/calpha_transitions/experiments/output/2olu_A-2olv_A-1/torsions/bs_32/train_colvars/ae/weights.ptc\n",
      "INFO:deep_cartograph.tools.train_colvars.train_colvars_workflow:Projecting colvars file: /home/pnavarro/repos/NostrumBD/CV_learning/deep_cartograph/deep_cartograph/data/calpha_transitions/experiments/output/2olu_A-2olv_A-1/torsions/bs_32/compute_features/2olu_A-2olv_A-1/colvars.dat\n",
      "INFO:deep_cartograph.tools.train_colvars.train_colvars_workflow:Corresponding trajectory file: /home/pnavarro/repos/NostrumBD/CV_learning/deep_cartograph/deep_cartograph/data/calpha_transitions/input/2olu_A-2olv_A-1/2olu_A-2olv_A-1.dcd\n",
      "INFO:deep_cartograph.tools.train_colvars.train_colvars_workflow:Corresponding topology file: /home/pnavarro/repos/NostrumBD/CV_learning/deep_cartograph/deep_cartograph/data/calpha_transitions/input/2olu_A-2olv_A-1/2olu_A-2olv_A-1.pdb\n",
      "INFO:deep_cartograph.tools.train_colvars.cv_calculator:Projecting features onto AE ...\n",
      "INFO:deep_cartograph.modules.figures.figures:Computing FES(AE 1, AE 2)...\n",
      "/home/pnavarro/repos/NostrumBD/CV_learning/deep_cartograph/deep_cartograph/modules/figures/figures.py:129: UserWarning: No artists with labels found to put in legend.  Note that artists whose label start with an underscore are ignored when legend() is called with no argument.\n",
      "  ax.legend(fontsize = font_size)\n",
      "INFO:deep_cartograph.tools.train_colvars.cv_calculator:Reading training data from colvars files...\n",
      "INFO:deep_cartograph.tools.train_colvars.cv_calculator:Number of features: 183\n",
      "/home/pnavarro/repos/mlcolvar/mlcolvar/utils/timelagged.py:140: UserWarning: Monitoring the progress for the search of time-lagged configurations with a progress_bar requires `tqdm`.\n",
      "  warnings.warn(\n",
      "INFO:deep_cartograph.tools.train_colvars.cv_calculator:Number of samples: 335\n",
      "INFO:deep_cartograph.tools.train_colvars.cv_calculator:Calculating DeepTICA ...\n",
      "INFO:deep_cartograph.tools.train_colvars.cv_calculator:Training DeepTICA ...\n",
      "INFO:deep_cartograph.tools.train_colvars.cv_calculator:Model architecture: DeepTICA(\n",
      "  (loss_fn): ReduceEigenvaluesLoss()\n",
      "  (norm_in): Normalization(in_features=183, out_features=183, mode=mean_std)\n",
      "  (nn): FeedForward(\n",
      "    (nn): Sequential(\n",
      "      (0): Linear(in_features=183, out_features=15, bias=True)\n",
      "      (1): Shifted_Softplus(beta=1, threshold=20)\n",
      "      (2): Dropout(p=0.1, inplace=False)\n",
      "      (3): Linear(in_features=15, out_features=15, bias=True)\n",
      "      (4): Shifted_Softplus(beta=1, threshold=20)\n",
      "      (5): Dropout(p=0.1, inplace=False)\n",
      "      (6): Linear(in_features=15, out_features=2, bias=True)\n",
      "    )\n",
      "  )\n",
      "  (tica): TICA(in_features=2, out_features=2)\n",
      ")\n",
      "GPU available: False, used: False\n",
      "TPU available: False, using: 0 TPU cores\n",
      "HPU available: False, using: 0 HPUs\n",
      "\n",
      "  | Name    | Type                  | Params | Mode  | In sizes | Out sizes\n",
      "---------------------------------------------------------------------------------\n",
      "0 | loss_fn | ReduceEigenvaluesLoss | 0      | train | ?        | ?        \n",
      "1 | norm_in | Normalization         | 0      | train | [1, 183] | [1, 183] \n",
      "2 | nn      | FeedForward           | 3.0 K  | train | [1, 183] | [1, 2]   \n",
      "3 | tica    | TICA                  | 0      | train | [1, 2]   | [1, 2]   \n",
      "---------------------------------------------------------------------------------\n",
      "3.0 K     Trainable params\n",
      "0         Non-trainable params\n",
      "3.0 K     Total params\n",
      "0.012     Total estimated model params size (MB)\n",
      "INFO:deep_cartograph.tools.train_colvars.cv_calculator:Best model score: -21.77810287475586\n",
      "/home/pnavarro/repos/mlcolvar/mlcolvar/utils/plot.py:254: UserWarning: Data has no positive values, and therefore cannot be log-scaled.\n",
      "  ax.set_yscale(yscale)\n",
      "INFO:deep_cartograph.tools.train_colvars.cv_calculator:Projecting reference data onto DeepTICA ...\n",
      "INFO:deep_cartograph.tools.train_colvars.cv_calculator:Took 67 epochs\n",
      "INFO:deep_cartograph.tools.train_colvars.cv_calculator:Eigenvalue 1: 1.5481061935424805\n",
      "INFO:deep_cartograph.tools.train_colvars.cv_calculator:Eigenvalue 2: 0.341623455286026\n",
      "/home/pnavarro/repos/mlcolvar/mlcolvar/core/nn/utils.py:13: TracerWarning: Converting a tensor to a Python number might cause the trace to be incorrect. We can't record the data flow of Python values, so this value will be treated as a constant in the future. This means that the trace might not generalize to other inputs!\n",
      "  sp0 = F.softplus(torch.zeros(1), self.beta, self.threshold).item()\n",
      "INFO:deep_cartograph.tools.train_colvars.cv_calculator:Collective variable weights saved to /home/pnavarro/repos/NostrumBD/CV_learning/deep_cartograph/deep_cartograph/data/calpha_transitions/experiments/output/2olu_A-2olv_A-1/torsions/bs_32/train_colvars/deep_tica/weights.ptc\n",
      "INFO:deep_cartograph.tools.train_colvars.train_colvars_workflow:Projecting colvars file: /home/pnavarro/repos/NostrumBD/CV_learning/deep_cartograph/deep_cartograph/data/calpha_transitions/experiments/output/2olu_A-2olv_A-1/torsions/bs_32/compute_features/2olu_A-2olv_A-1/colvars.dat\n",
      "INFO:deep_cartograph.tools.train_colvars.train_colvars_workflow:Corresponding trajectory file: /home/pnavarro/repos/NostrumBD/CV_learning/deep_cartograph/deep_cartograph/data/calpha_transitions/input/2olu_A-2olv_A-1/2olu_A-2olv_A-1.dcd\n",
      "INFO:deep_cartograph.tools.train_colvars.train_colvars_workflow:Corresponding topology file: /home/pnavarro/repos/NostrumBD/CV_learning/deep_cartograph/deep_cartograph/data/calpha_transitions/input/2olu_A-2olv_A-1/2olu_A-2olv_A-1.pdb\n",
      "INFO:deep_cartograph.tools.train_colvars.cv_calculator:Projecting features onto DeepTICA ...\n",
      "INFO:deep_cartograph.modules.figures.figures:Computing FES(DeepTIC 1, DeepTIC 2)...\n",
      "/home/pnavarro/repos/NostrumBD/CV_learning/deep_cartograph/deep_cartograph/modules/figures/figures.py:129: UserWarning: No artists with labels found to put in legend.  Note that artists whose label start with an underscore are ignored when legend() is called with no argument.\n",
      "  ax.legend(fontsize = font_size)\n",
      "INFO:deep_cartograph:Elapsed time (Train colvars): 00 h 00 min 34 s\n",
      "INFO:deep_cartograph:Total elapsed time: 00 h 00 min 55 s\n",
      "INFO:deep_cartograph:================\n",
      "INFO:deep_cartograph:Compute features\n",
      "INFO:deep_cartograph:================\n",
      "INFO:deep_cartograph:Trajectory file: /home/pnavarro/repos/NostrumBD/CV_learning/deep_cartograph/deep_cartograph/data/calpha_transitions/input/2olu_A-2olv_A-1/2olu_A-2olv_A-1.dcd\n",
      "/home/pnavarro/miniforge3/envs/deep_cartograph/lib/python3.10/site-packages/MDAnalysis/topology/PDBParser.py:317: UserWarning: Element information is missing, elements attribute will not be populated. If needed these can be guessed using MDAnalysis.topology.guessers.\n",
      "  warnings.warn(\"Element information is missing, elements attribute \"\n",
      "/home/pnavarro/miniforge3/envs/deep_cartograph/lib/python3.10/site-packages/MDAnalysis/coordinates/PDB.py:747: UserWarning: Unit cell dimensions not found. CRYST1 record set to unitary values.\n",
      "  warnings.warn(\"Unit cell dimensions not found. \"\n",
      "/home/pnavarro/miniforge3/envs/deep_cartograph/lib/python3.10/site-packages/MDAnalysis/coordinates/PDB.py:1078: UserWarning: Found no information for attr: 'elements' Using default value of ' '\n",
      "  warnings.warn(\"Found no information for attr: '{}'\"\n",
      "/home/pnavarro/miniforge3/envs/deep_cartograph/lib/python3.10/site-packages/MDAnalysis/coordinates/PDB.py:429: UserWarning: 1 A^3 CRYST1 record, this is usually a placeholder. Unit cell dimensions will be set to None.\n",
      "  warnings.warn(\"1 A^3 CRYST1 record,\"\n",
      "INFO:deep_cartograph.modules.plumed.input_file.input_file:Found 1186 features for tor\n",
      "INFO:deep_cartograph.modules.plumed.utils:Executing PLUMED driver command: plumed driver --plumed /home/pnavarro/repos/NostrumBD/CV_learning/deep_cartograph/deep_cartograph/data/calpha_transitions/experiments/output/2olu_A-2olv_A-1/torsions/bs_64/compute_features/2olu_A-2olv_A-1/torsions.dat --mf_dcd /home/pnavarro/repos/NostrumBD/CV_learning/deep_cartograph/deep_cartograph/data/calpha_transitions/input/2olu_A-2olv_A-1/2olu_A-2olv_A-1.dcd --natoms 596\n",
      "INFO:deep_cartograph:Elapsed time (Compute features): 00 h 00 min 01 s\n",
      "INFO:deep_cartograph:==================\n",
      "INFO:deep_cartograph:Filtering features\n",
      "INFO:deep_cartograph:==================\n",
      "INFO:deep_cartograph:Finding the features that contains the most information about the transitions or conformational changes.\n",
      "INFO:deep_cartograph:The following algorithms are available:\n",
      "INFO:deep_cartograph:- Hartigan's dip test filter. Keeps features that are not unimodal.\n",
      "INFO:deep_cartograph:- Shannon entropy filter. Keeps features with entropy greater than a threshold.\n",
      "INFO:deep_cartograph:- Standard deviation filter. Keeps features with standard deviation greater than a threshold.\n",
      "INFO:deep_cartograph:Note that the all features must be in the same units to apply the entropy and standard deviation filters meaningfully.\n",
      "INFO:deep_cartograph:Initial size of features set: 1186.\n",
      "INFO:deep_cartograph.tools.filter_features.filtering:Computing dip test.\n",
      "INFO:deep_cartograph.tools.filter_features.filtering:Filtered 1003 features.\n",
      "INFO:deep_cartograph:Elapsed time (Filter features): 00 h 00 min 19 s\n",
      "INFO:deep_cartograph.modules.common.common: Using features in /home/pnavarro/repos/NostrumBD/CV_learning/deep_cartograph/deep_cartograph/data/calpha_transitions/experiments/output/2olu_A-2olv_A-1/torsions/bs_64/filter_features/filtered_features.txt\n",
      "INFO:deep_cartograph:================================\n",
      "INFO:deep_cartograph:Training of Collective Variables\n",
      "INFO:deep_cartograph:================================\n",
      "INFO:deep_cartograph:Training of collective variables using the mlcolvar library.\n",
      "INFO:deep_cartograph.tools.train_colvars.train_colvars_workflow:Collective variables to compute: ['ae', 'deep_tica']\n",
      "INFO:deep_cartograph.tools.train_colvars.cv_calculator:Reading training data from colvars files...\n",
      "INFO:deep_cartograph.tools.train_colvars.cv_calculator:Number of features: 183\n",
      "INFO:deep_cartograph.tools.train_colvars.cv_calculator:Number of samples: 338\n",
      "INFO:deep_cartograph.tools.train_colvars.cv_calculator:Calculating AE ...\n",
      "INFO:deep_cartograph.tools.train_colvars.cv_calculator:Training AE ...\n",
      "INFO:deep_cartograph.tools.train_colvars.cv_calculator:Model architecture: AutoEncoderCV(\n",
      "  (loss_fn): MSELoss()\n",
      "  (norm_in): Normalization(in_features=183, out_features=183, mode=mean_std)\n",
      "  (encoder): FeedForward(\n",
      "    (nn): Sequential(\n",
      "      (0): Linear(in_features=183, out_features=15, bias=True)\n",
      "      (1): Shifted_Softplus(beta=1, threshold=20)\n",
      "      (2): Dropout(p=0.1, inplace=False)\n",
      "      (3): Linear(in_features=15, out_features=15, bias=True)\n",
      "      (4): Shifted_Softplus(beta=1, threshold=20)\n",
      "      (5): Dropout(p=0.1, inplace=False)\n",
      "      (6): Linear(in_features=15, out_features=2, bias=True)\n",
      "    )\n",
      "  )\n",
      "  (decoder): FeedForward(\n",
      "    (nn): Sequential(\n",
      "      (0): Linear(in_features=2, out_features=15, bias=True)\n",
      "      (1): Shifted_Softplus(beta=1, threshold=20)\n",
      "      (2): Dropout(p=0.1, inplace=False)\n",
      "      (3): Linear(in_features=15, out_features=15, bias=True)\n",
      "      (4): Shifted_Softplus(beta=1, threshold=20)\n",
      "      (5): Dropout(p=0.1, inplace=False)\n",
      "      (6): Linear(in_features=15, out_features=183, bias=True)\n",
      "    )\n",
      "  )\n",
      ")\n",
      "GPU available: False, used: False\n",
      "TPU available: False, using: 0 TPU cores\n",
      "HPU available: False, using: 0 HPUs\n",
      "\n",
      "  | Name    | Type          | Params | Mode  | In sizes | Out sizes\n",
      "-------------------------------------------------------------------------\n",
      "0 | loss_fn | MSELoss       | 0      | train | ?        | ?        \n",
      "1 | norm_in | Normalization | 0      | train | [1, 183] | [1, 183] \n",
      "2 | encoder | FeedForward   | 3.0 K  | train | [1, 183] | [1, 2]   \n",
      "3 | decoder | FeedForward   | 3.2 K  | train | ?        | ?        \n",
      "-------------------------------------------------------------------------\n",
      "6.2 K     Trainable params\n",
      "0         Non-trainable params\n",
      "6.2 K     Total params\n",
      "0.025     Total estimated model params size (MB)\n",
      "INFO:deep_cartograph.tools.train_colvars.cv_calculator:Best model score: 0.002679416909813881\n",
      "INFO:deep_cartograph.tools.train_colvars.cv_calculator:Projecting reference data onto AE ...\n",
      "/home/pnavarro/repos/mlcolvar/mlcolvar/core/nn/utils.py:13: TracerWarning: Converting a tensor to a Python number might cause the trace to be incorrect. We can't record the data flow of Python values, so this value will be treated as a constant in the future. This means that the trace might not generalize to other inputs!\n",
      "  sp0 = F.softplus(torch.zeros(1), self.beta, self.threshold).item()\n",
      "INFO:deep_cartograph.tools.train_colvars.cv_calculator:Collective variable weights saved to /home/pnavarro/repos/NostrumBD/CV_learning/deep_cartograph/deep_cartograph/data/calpha_transitions/experiments/output/2olu_A-2olv_A-1/torsions/bs_64/train_colvars/ae/weights.ptc\n",
      "INFO:deep_cartograph.tools.train_colvars.train_colvars_workflow:Projecting colvars file: /home/pnavarro/repos/NostrumBD/CV_learning/deep_cartograph/deep_cartograph/data/calpha_transitions/experiments/output/2olu_A-2olv_A-1/torsions/bs_64/compute_features/2olu_A-2olv_A-1/colvars.dat\n",
      "INFO:deep_cartograph.tools.train_colvars.train_colvars_workflow:Corresponding trajectory file: /home/pnavarro/repos/NostrumBD/CV_learning/deep_cartograph/deep_cartograph/data/calpha_transitions/input/2olu_A-2olv_A-1/2olu_A-2olv_A-1.dcd\n",
      "INFO:deep_cartograph.tools.train_colvars.train_colvars_workflow:Corresponding topology file: /home/pnavarro/repos/NostrumBD/CV_learning/deep_cartograph/deep_cartograph/data/calpha_transitions/input/2olu_A-2olv_A-1/2olu_A-2olv_A-1.pdb\n",
      "INFO:deep_cartograph.tools.train_colvars.cv_calculator:Projecting features onto AE ...\n",
      "INFO:deep_cartograph.modules.figures.figures:Computing FES(AE 1, AE 2)...\n",
      "/home/pnavarro/repos/NostrumBD/CV_learning/deep_cartograph/deep_cartograph/modules/figures/figures.py:129: UserWarning: No artists with labels found to put in legend.  Note that artists whose label start with an underscore are ignored when legend() is called with no argument.\n",
      "  ax.legend(fontsize = font_size)\n",
      "INFO:deep_cartograph.tools.train_colvars.cv_calculator:Reading training data from colvars files...\n",
      "INFO:deep_cartograph.tools.train_colvars.cv_calculator:Number of features: 183\n",
      "/home/pnavarro/repos/mlcolvar/mlcolvar/utils/timelagged.py:140: UserWarning: Monitoring the progress for the search of time-lagged configurations with a progress_bar requires `tqdm`.\n",
      "  warnings.warn(\n",
      "INFO:deep_cartograph.tools.train_colvars.cv_calculator:Number of samples: 335\n",
      "INFO:deep_cartograph.tools.train_colvars.cv_calculator:Calculating DeepTICA ...\n",
      "INFO:deep_cartograph.tools.train_colvars.cv_calculator:Training DeepTICA ...\n",
      "INFO:deep_cartograph.tools.train_colvars.cv_calculator:Model architecture: DeepTICA(\n",
      "  (loss_fn): ReduceEigenvaluesLoss()\n",
      "  (norm_in): Normalization(in_features=183, out_features=183, mode=mean_std)\n",
      "  (nn): FeedForward(\n",
      "    (nn): Sequential(\n",
      "      (0): Linear(in_features=183, out_features=15, bias=True)\n",
      "      (1): Shifted_Softplus(beta=1, threshold=20)\n",
      "      (2): Dropout(p=0.1, inplace=False)\n",
      "      (3): Linear(in_features=15, out_features=15, bias=True)\n",
      "      (4): Shifted_Softplus(beta=1, threshold=20)\n",
      "      (5): Dropout(p=0.1, inplace=False)\n",
      "      (6): Linear(in_features=15, out_features=2, bias=True)\n",
      "    )\n",
      "  )\n",
      "  (tica): TICA(in_features=2, out_features=2)\n",
      ")\n",
      "GPU available: False, used: False\n",
      "TPU available: False, using: 0 TPU cores\n",
      "HPU available: False, using: 0 HPUs\n",
      "\n",
      "  | Name    | Type                  | Params | Mode  | In sizes | Out sizes\n",
      "---------------------------------------------------------------------------------\n",
      "0 | loss_fn | ReduceEigenvaluesLoss | 0      | train | ?        | ?        \n",
      "1 | norm_in | Normalization         | 0      | train | [1, 183] | [1, 183] \n",
      "2 | nn      | FeedForward           | 3.0 K  | train | [1, 183] | [1, 2]   \n",
      "3 | tica    | TICA                  | 0      | train | [1, 2]   | [1, 2]   \n",
      "---------------------------------------------------------------------------------\n",
      "3.0 K     Trainable params\n",
      "0         Non-trainable params\n",
      "3.0 K     Total params\n",
      "0.012     Total estimated model params size (MB)\n",
      "INFO:deep_cartograph.tools.train_colvars.cv_calculator:Best model score: -295.9145812988281\n",
      "/home/pnavarro/repos/mlcolvar/mlcolvar/utils/plot.py:254: UserWarning: Data has no positive values, and therefore cannot be log-scaled.\n",
      "  ax.set_yscale(yscale)\n",
      "INFO:deep_cartograph.tools.train_colvars.cv_calculator:Projecting reference data onto DeepTICA ...\n",
      "INFO:deep_cartograph.tools.train_colvars.cv_calculator:Took 41 epochs\n",
      "INFO:deep_cartograph.tools.train_colvars.cv_calculator:Eigenvalue 1: 3.3461179733276367\n",
      "INFO:deep_cartograph.tools.train_colvars.cv_calculator:Eigenvalue 2: -2.142871856689453\n",
      "/home/pnavarro/repos/mlcolvar/mlcolvar/core/nn/utils.py:13: TracerWarning: Converting a tensor to a Python number might cause the trace to be incorrect. We can't record the data flow of Python values, so this value will be treated as a constant in the future. This means that the trace might not generalize to other inputs!\n",
      "  sp0 = F.softplus(torch.zeros(1), self.beta, self.threshold).item()\n",
      "INFO:deep_cartograph.tools.train_colvars.cv_calculator:Collective variable weights saved to /home/pnavarro/repos/NostrumBD/CV_learning/deep_cartograph/deep_cartograph/data/calpha_transitions/experiments/output/2olu_A-2olv_A-1/torsions/bs_64/train_colvars/deep_tica/weights.ptc\n",
      "INFO:deep_cartograph.tools.train_colvars.train_colvars_workflow:Projecting colvars file: /home/pnavarro/repos/NostrumBD/CV_learning/deep_cartograph/deep_cartograph/data/calpha_transitions/experiments/output/2olu_A-2olv_A-1/torsions/bs_64/compute_features/2olu_A-2olv_A-1/colvars.dat\n",
      "INFO:deep_cartograph.tools.train_colvars.train_colvars_workflow:Corresponding trajectory file: /home/pnavarro/repos/NostrumBD/CV_learning/deep_cartograph/deep_cartograph/data/calpha_transitions/input/2olu_A-2olv_A-1/2olu_A-2olv_A-1.dcd\n",
      "INFO:deep_cartograph.tools.train_colvars.train_colvars_workflow:Corresponding topology file: /home/pnavarro/repos/NostrumBD/CV_learning/deep_cartograph/deep_cartograph/data/calpha_transitions/input/2olu_A-2olv_A-1/2olu_A-2olv_A-1.pdb\n",
      "INFO:deep_cartograph.tools.train_colvars.cv_calculator:Projecting features onto DeepTICA ...\n",
      "INFO:deep_cartograph.modules.figures.figures:Computing FES(DeepTIC 1, DeepTIC 2)...\n",
      "/home/pnavarro/repos/NostrumBD/CV_learning/deep_cartograph/deep_cartograph/modules/figures/figures.py:129: UserWarning: No artists with labels found to put in legend.  Note that artists whose label start with an underscore are ignored when legend() is called with no argument.\n",
      "  ax.legend(fontsize = font_size)\n",
      "INFO:deep_cartograph:Elapsed time (Train colvars): 00 h 00 min 17 s\n",
      "INFO:deep_cartograph:Total elapsed time: 00 h 00 min 38 s\n",
      "INFO:deep_cartograph:================\n",
      "INFO:deep_cartograph:Compute features\n",
      "INFO:deep_cartograph:================\n",
      "INFO:deep_cartograph:Trajectory file: /home/pnavarro/repos/NostrumBD/CV_learning/deep_cartograph/deep_cartograph/data/calpha_transitions/input/2olu_A-2olv_A-1/2olu_A-2olv_A-1.dcd\n",
      "/home/pnavarro/miniforge3/envs/deep_cartograph/lib/python3.10/site-packages/MDAnalysis/topology/PDBParser.py:317: UserWarning: Element information is missing, elements attribute will not be populated. If needed these can be guessed using MDAnalysis.topology.guessers.\n",
      "  warnings.warn(\"Element information is missing, elements attribute \"\n",
      "/home/pnavarro/miniforge3/envs/deep_cartograph/lib/python3.10/site-packages/MDAnalysis/coordinates/PDB.py:747: UserWarning: Unit cell dimensions not found. CRYST1 record set to unitary values.\n",
      "  warnings.warn(\"Unit cell dimensions not found. \"\n",
      "/home/pnavarro/miniforge3/envs/deep_cartograph/lib/python3.10/site-packages/MDAnalysis/coordinates/PDB.py:1078: UserWarning: Found no information for attr: 'elements' Using default value of ' '\n",
      "  warnings.warn(\"Found no information for attr: '{}'\"\n",
      "/home/pnavarro/miniforge3/envs/deep_cartograph/lib/python3.10/site-packages/MDAnalysis/coordinates/PDB.py:429: UserWarning: 1 A^3 CRYST1 record, this is usually a placeholder. Unit cell dimensions will be set to None.\n",
      "  warnings.warn(\"1 A^3 CRYST1 record,\"\n",
      "INFO:deep_cartograph.modules.plumed.input_file.input_file:Found 1186 features for tor\n",
      "INFO:deep_cartograph.modules.plumed.utils:Executing PLUMED driver command: plumed driver --plumed /home/pnavarro/repos/NostrumBD/CV_learning/deep_cartograph/deep_cartograph/data/calpha_transitions/experiments/output/2olu_A-2olv_A-1/torsions/bs_128/compute_features/2olu_A-2olv_A-1/torsions.dat --mf_dcd /home/pnavarro/repos/NostrumBD/CV_learning/deep_cartograph/deep_cartograph/data/calpha_transitions/input/2olu_A-2olv_A-1/2olu_A-2olv_A-1.dcd --natoms 596\n",
      "INFO:deep_cartograph:Elapsed time (Compute features): 00 h 00 min 01 s\n",
      "INFO:deep_cartograph:==================\n",
      "INFO:deep_cartograph:Filtering features\n",
      "INFO:deep_cartograph:==================\n",
      "INFO:deep_cartograph:Finding the features that contains the most information about the transitions or conformational changes.\n",
      "INFO:deep_cartograph:The following algorithms are available:\n",
      "INFO:deep_cartograph:- Hartigan's dip test filter. Keeps features that are not unimodal.\n",
      "INFO:deep_cartograph:- Shannon entropy filter. Keeps features with entropy greater than a threshold.\n",
      "INFO:deep_cartograph:- Standard deviation filter. Keeps features with standard deviation greater than a threshold.\n",
      "INFO:deep_cartograph:Note that the all features must be in the same units to apply the entropy and standard deviation filters meaningfully.\n",
      "INFO:deep_cartograph:Initial size of features set: 1186.\n",
      "INFO:deep_cartograph.tools.filter_features.filtering:Computing dip test.\n",
      "INFO:deep_cartograph.tools.filter_features.filtering:Filtered 1003 features.\n",
      "INFO:deep_cartograph:Elapsed time (Filter features): 00 h 00 min 18 s\n",
      "INFO:deep_cartograph.modules.common.common: Using features in /home/pnavarro/repos/NostrumBD/CV_learning/deep_cartograph/deep_cartograph/data/calpha_transitions/experiments/output/2olu_A-2olv_A-1/torsions/bs_128/filter_features/filtered_features.txt\n",
      "INFO:deep_cartograph:================================\n",
      "INFO:deep_cartograph:Training of Collective Variables\n",
      "INFO:deep_cartograph:================================\n",
      "INFO:deep_cartograph:Training of collective variables using the mlcolvar library.\n",
      "INFO:deep_cartograph.tools.train_colvars.train_colvars_workflow:Collective variables to compute: ['ae', 'deep_tica']\n",
      "INFO:deep_cartograph.tools.train_colvars.cv_calculator:Reading training data from colvars files...\n",
      "INFO:deep_cartograph.tools.train_colvars.cv_calculator:Number of features: 183\n",
      "INFO:deep_cartograph.tools.train_colvars.cv_calculator:Number of samples: 338\n",
      "INFO:deep_cartograph.tools.train_colvars.cv_calculator:Calculating AE ...\n",
      "INFO:deep_cartograph.tools.train_colvars.cv_calculator:Training AE ...\n",
      "INFO:deep_cartograph.tools.train_colvars.cv_calculator:Model architecture: AutoEncoderCV(\n",
      "  (loss_fn): MSELoss()\n",
      "  (norm_in): Normalization(in_features=183, out_features=183, mode=mean_std)\n",
      "  (encoder): FeedForward(\n",
      "    (nn): Sequential(\n",
      "      (0): Linear(in_features=183, out_features=15, bias=True)\n",
      "      (1): Shifted_Softplus(beta=1, threshold=20)\n",
      "      (2): Dropout(p=0.1, inplace=False)\n",
      "      (3): Linear(in_features=15, out_features=15, bias=True)\n",
      "      (4): Shifted_Softplus(beta=1, threshold=20)\n",
      "      (5): Dropout(p=0.1, inplace=False)\n",
      "      (6): Linear(in_features=15, out_features=2, bias=True)\n",
      "    )\n",
      "  )\n",
      "  (decoder): FeedForward(\n",
      "    (nn): Sequential(\n",
      "      (0): Linear(in_features=2, out_features=15, bias=True)\n",
      "      (1): Shifted_Softplus(beta=1, threshold=20)\n",
      "      (2): Dropout(p=0.1, inplace=False)\n",
      "      (3): Linear(in_features=15, out_features=15, bias=True)\n",
      "      (4): Shifted_Softplus(beta=1, threshold=20)\n",
      "      (5): Dropout(p=0.1, inplace=False)\n",
      "      (6): Linear(in_features=15, out_features=183, bias=True)\n",
      "    )\n",
      "  )\n",
      ")\n",
      "GPU available: False, used: False\n",
      "TPU available: False, using: 0 TPU cores\n",
      "HPU available: False, using: 0 HPUs\n",
      "\n",
      "  | Name    | Type          | Params | Mode  | In sizes | Out sizes\n",
      "-------------------------------------------------------------------------\n",
      "0 | loss_fn | MSELoss       | 0      | train | ?        | ?        \n",
      "1 | norm_in | Normalization | 0      | train | [1, 183] | [1, 183] \n",
      "2 | encoder | FeedForward   | 3.0 K  | train | [1, 183] | [1, 2]   \n",
      "3 | decoder | FeedForward   | 3.2 K  | train | ?        | ?        \n",
      "-------------------------------------------------------------------------\n",
      "6.2 K     Trainable params\n",
      "0         Non-trainable params\n",
      "6.2 K     Total params\n",
      "0.025     Total estimated model params size (MB)\n",
      "INFO:deep_cartograph.tools.train_colvars.cv_calculator:Best model score: 0.0026922516990453005\n",
      "INFO:deep_cartograph.tools.train_colvars.cv_calculator:Projecting reference data onto AE ...\n",
      "/home/pnavarro/repos/mlcolvar/mlcolvar/core/nn/utils.py:13: TracerWarning: Converting a tensor to a Python number might cause the trace to be incorrect. We can't record the data flow of Python values, so this value will be treated as a constant in the future. This means that the trace might not generalize to other inputs!\n",
      "  sp0 = F.softplus(torch.zeros(1), self.beta, self.threshold).item()\n",
      "INFO:deep_cartograph.tools.train_colvars.cv_calculator:Collective variable weights saved to /home/pnavarro/repos/NostrumBD/CV_learning/deep_cartograph/deep_cartograph/data/calpha_transitions/experiments/output/2olu_A-2olv_A-1/torsions/bs_128/train_colvars/ae/weights.ptc\n",
      "INFO:deep_cartograph.tools.train_colvars.train_colvars_workflow:Projecting colvars file: /home/pnavarro/repos/NostrumBD/CV_learning/deep_cartograph/deep_cartograph/data/calpha_transitions/experiments/output/2olu_A-2olv_A-1/torsions/bs_128/compute_features/2olu_A-2olv_A-1/colvars.dat\n",
      "INFO:deep_cartograph.tools.train_colvars.train_colvars_workflow:Corresponding trajectory file: /home/pnavarro/repos/NostrumBD/CV_learning/deep_cartograph/deep_cartograph/data/calpha_transitions/input/2olu_A-2olv_A-1/2olu_A-2olv_A-1.dcd\n",
      "INFO:deep_cartograph.tools.train_colvars.train_colvars_workflow:Corresponding topology file: /home/pnavarro/repos/NostrumBD/CV_learning/deep_cartograph/deep_cartograph/data/calpha_transitions/input/2olu_A-2olv_A-1/2olu_A-2olv_A-1.pdb\n",
      "INFO:deep_cartograph.tools.train_colvars.cv_calculator:Projecting features onto AE ...\n",
      "INFO:deep_cartograph.modules.figures.figures:Computing FES(AE 1, AE 2)...\n",
      "/home/pnavarro/repos/NostrumBD/CV_learning/deep_cartograph/deep_cartograph/modules/figures/figures.py:129: UserWarning: No artists with labels found to put in legend.  Note that artists whose label start with an underscore are ignored when legend() is called with no argument.\n",
      "  ax.legend(fontsize = font_size)\n",
      "INFO:deep_cartograph.tools.train_colvars.cv_calculator:Reading training data from colvars files...\n",
      "INFO:deep_cartograph.tools.train_colvars.cv_calculator:Number of features: 183\n",
      "/home/pnavarro/repos/mlcolvar/mlcolvar/utils/timelagged.py:140: UserWarning: Monitoring the progress for the search of time-lagged configurations with a progress_bar requires `tqdm`.\n",
      "  warnings.warn(\n",
      "INFO:deep_cartograph.tools.train_colvars.cv_calculator:Number of samples: 335\n",
      "INFO:deep_cartograph.tools.train_colvars.cv_calculator:Calculating DeepTICA ...\n",
      "INFO:deep_cartograph.tools.train_colvars.cv_calculator:Training DeepTICA ...\n",
      "INFO:deep_cartograph.tools.train_colvars.cv_calculator:Model architecture: DeepTICA(\n",
      "  (loss_fn): ReduceEigenvaluesLoss()\n",
      "  (norm_in): Normalization(in_features=183, out_features=183, mode=mean_std)\n",
      "  (nn): FeedForward(\n",
      "    (nn): Sequential(\n",
      "      (0): Linear(in_features=183, out_features=15, bias=True)\n",
      "      (1): Shifted_Softplus(beta=1, threshold=20)\n",
      "      (2): Dropout(p=0.1, inplace=False)\n",
      "      (3): Linear(in_features=15, out_features=15, bias=True)\n",
      "      (4): Shifted_Softplus(beta=1, threshold=20)\n",
      "      (5): Dropout(p=0.1, inplace=False)\n",
      "      (6): Linear(in_features=15, out_features=2, bias=True)\n",
      "    )\n",
      "  )\n",
      "  (tica): TICA(in_features=2, out_features=2)\n",
      ")\n",
      "GPU available: False, used: False\n",
      "TPU available: False, using: 0 TPU cores\n",
      "HPU available: False, using: 0 HPUs\n",
      "\n",
      "  | Name    | Type                  | Params | Mode  | In sizes | Out sizes\n",
      "---------------------------------------------------------------------------------\n",
      "0 | loss_fn | ReduceEigenvaluesLoss | 0      | train | ?        | ?        \n",
      "1 | norm_in | Normalization         | 0      | train | [1, 183] | [1, 183] \n",
      "2 | nn      | FeedForward           | 3.0 K  | train | [1, 183] | [1, 2]   \n",
      "3 | tica    | TICA                  | 0      | train | [1, 2]   | [1, 2]   \n",
      "---------------------------------------------------------------------------------\n",
      "3.0 K     Trainable params\n",
      "0         Non-trainable params\n",
      "3.0 K     Total params\n",
      "0.012     Total estimated model params size (MB)\n",
      "INFO:deep_cartograph.tools.train_colvars.cv_calculator:Best model score: -1.5930811166763306\n",
      "/home/pnavarro/repos/mlcolvar/mlcolvar/utils/plot.py:254: UserWarning: Data has no positive values, and therefore cannot be log-scaled.\n",
      "  ax.set_yscale(yscale)\n",
      "INFO:deep_cartograph.tools.train_colvars.cv_calculator:Projecting reference data onto DeepTICA ...\n",
      "INFO:deep_cartograph.tools.train_colvars.cv_calculator:Took 6 epochs\n",
      "INFO:deep_cartograph.tools.train_colvars.cv_calculator:Eigenvalue 1: 0.9437479972839355\n",
      "INFO:deep_cartograph.tools.train_colvars.cv_calculator:Eigenvalue 2: 0.8381054997444153\n",
      "/home/pnavarro/repos/mlcolvar/mlcolvar/core/nn/utils.py:13: TracerWarning: Converting a tensor to a Python number might cause the trace to be incorrect. We can't record the data flow of Python values, so this value will be treated as a constant in the future. This means that the trace might not generalize to other inputs!\n",
      "  sp0 = F.softplus(torch.zeros(1), self.beta, self.threshold).item()\n",
      "INFO:deep_cartograph.tools.train_colvars.cv_calculator:Collective variable weights saved to /home/pnavarro/repos/NostrumBD/CV_learning/deep_cartograph/deep_cartograph/data/calpha_transitions/experiments/output/2olu_A-2olv_A-1/torsions/bs_128/train_colvars/deep_tica/weights.ptc\n",
      "INFO:deep_cartograph.tools.train_colvars.train_colvars_workflow:Projecting colvars file: /home/pnavarro/repos/NostrumBD/CV_learning/deep_cartograph/deep_cartograph/data/calpha_transitions/experiments/output/2olu_A-2olv_A-1/torsions/bs_128/compute_features/2olu_A-2olv_A-1/colvars.dat\n",
      "INFO:deep_cartograph.tools.train_colvars.train_colvars_workflow:Corresponding trajectory file: /home/pnavarro/repos/NostrumBD/CV_learning/deep_cartograph/deep_cartograph/data/calpha_transitions/input/2olu_A-2olv_A-1/2olu_A-2olv_A-1.dcd\n",
      "INFO:deep_cartograph.tools.train_colvars.train_colvars_workflow:Corresponding topology file: /home/pnavarro/repos/NostrumBD/CV_learning/deep_cartograph/deep_cartograph/data/calpha_transitions/input/2olu_A-2olv_A-1/2olu_A-2olv_A-1.pdb\n",
      "INFO:deep_cartograph.tools.train_colvars.cv_calculator:Projecting features onto DeepTICA ...\n",
      "INFO:deep_cartograph.modules.figures.figures:Computing FES(DeepTIC 1, DeepTIC 2)...\n",
      "/home/pnavarro/repos/NostrumBD/CV_learning/deep_cartograph/deep_cartograph/modules/figures/figures.py:129: UserWarning: No artists with labels found to put in legend.  Note that artists whose label start with an underscore are ignored when legend() is called with no argument.\n",
      "  ax.legend(fontsize = font_size)\n",
      "/home/pnavarro/repos/NostrumBD/CV_learning/deep_cartograph/deep_cartograph/modules/figures/figures.py:311: RuntimeWarning: More than 20 figures have been opened. Figures created through the pyplot interface (`matplotlib.pyplot.figure`) are retained until explicitly closed and may consume too much memory. (To control this warning, see the rcParam `figure.max_open_warning`). Consider using `matplotlib.pyplot.close()`.\n",
      "  fig, ax = plt.subplots()\n",
      "INFO:deep_cartograph:Elapsed time (Train colvars): 00 h 00 min 09 s\n",
      "INFO:deep_cartograph:Total elapsed time: 00 h 00 min 29 s\n",
      "INFO:deep_cartograph:================\n",
      "INFO:deep_cartograph:Compute features\n",
      "INFO:deep_cartograph:================\n",
      "INFO:deep_cartograph:Trajectory file: /home/pnavarro/repos/NostrumBD/CV_learning/deep_cartograph/deep_cartograph/data/calpha_transitions/input/2olu_A-2olv_A-1/2olu_A-2olv_A-1.dcd\n",
      "/home/pnavarro/miniforge3/envs/deep_cartograph/lib/python3.10/site-packages/MDAnalysis/topology/PDBParser.py:317: UserWarning: Element information is missing, elements attribute will not be populated. If needed these can be guessed using MDAnalysis.topology.guessers.\n",
      "  warnings.warn(\"Element information is missing, elements attribute \"\n",
      "/home/pnavarro/miniforge3/envs/deep_cartograph/lib/python3.10/site-packages/MDAnalysis/coordinates/PDB.py:747: UserWarning: Unit cell dimensions not found. CRYST1 record set to unitary values.\n",
      "  warnings.warn(\"Unit cell dimensions not found. \"\n",
      "/home/pnavarro/miniforge3/envs/deep_cartograph/lib/python3.10/site-packages/MDAnalysis/coordinates/PDB.py:1078: UserWarning: Found no information for attr: 'elements' Using default value of ' '\n",
      "  warnings.warn(\"Found no information for attr: '{}'\"\n",
      "/home/pnavarro/miniforge3/envs/deep_cartograph/lib/python3.10/site-packages/MDAnalysis/coordinates/PDB.py:429: UserWarning: 1 A^3 CRYST1 record, this is usually a placeholder. Unit cell dimensions will be set to None.\n",
      "  warnings.warn(\"1 A^3 CRYST1 record,\"\n",
      "INFO:deep_cartograph.modules.plumed.input_file.input_file:Found 1186 features for tor\n",
      "INFO:deep_cartograph.modules.plumed.utils:Executing PLUMED driver command: plumed driver --plumed /home/pnavarro/repos/NostrumBD/CV_learning/deep_cartograph/deep_cartograph/data/calpha_transitions/experiments/output/2olu_A-2olv_A-1/torsions/bs_256/compute_features/2olu_A-2olv_A-1/torsions.dat --mf_dcd /home/pnavarro/repos/NostrumBD/CV_learning/deep_cartograph/deep_cartograph/data/calpha_transitions/input/2olu_A-2olv_A-1/2olu_A-2olv_A-1.dcd --natoms 596\n",
      "INFO:deep_cartograph:Elapsed time (Compute features): 00 h 00 min 01 s\n",
      "INFO:deep_cartograph:==================\n",
      "INFO:deep_cartograph:Filtering features\n",
      "INFO:deep_cartograph:==================\n",
      "INFO:deep_cartograph:Finding the features that contains the most information about the transitions or conformational changes.\n",
      "INFO:deep_cartograph:The following algorithms are available:\n",
      "INFO:deep_cartograph:- Hartigan's dip test filter. Keeps features that are not unimodal.\n",
      "INFO:deep_cartograph:- Shannon entropy filter. Keeps features with entropy greater than a threshold.\n",
      "INFO:deep_cartograph:- Standard deviation filter. Keeps features with standard deviation greater than a threshold.\n",
      "INFO:deep_cartograph:Note that the all features must be in the same units to apply the entropy and standard deviation filters meaningfully.\n",
      "INFO:deep_cartograph:Initial size of features set: 1186.\n",
      "INFO:deep_cartograph.tools.filter_features.filtering:Computing dip test.\n",
      "INFO:deep_cartograph.tools.filter_features.filtering:Filtered 1003 features.\n",
      "INFO:deep_cartograph:Elapsed time (Filter features): 00 h 00 min 20 s\n",
      "INFO:deep_cartograph.modules.common.common: Using features in /home/pnavarro/repos/NostrumBD/CV_learning/deep_cartograph/deep_cartograph/data/calpha_transitions/experiments/output/2olu_A-2olv_A-1/torsions/bs_256/filter_features/filtered_features.txt\n",
      "INFO:deep_cartograph:================================\n",
      "INFO:deep_cartograph:Training of Collective Variables\n",
      "INFO:deep_cartograph:================================\n",
      "INFO:deep_cartograph:Training of collective variables using the mlcolvar library.\n",
      "INFO:deep_cartograph.tools.train_colvars.train_colvars_workflow:Collective variables to compute: ['ae', 'deep_tica']\n",
      "INFO:deep_cartograph.tools.train_colvars.cv_calculator:Reading training data from colvars files...\n",
      "INFO:deep_cartograph.tools.train_colvars.cv_calculator:Number of features: 183\n",
      "INFO:deep_cartograph.tools.train_colvars.cv_calculator:Number of samples: 338\n",
      "INFO:deep_cartograph.tools.train_colvars.cv_calculator:Calculating AE ...\n",
      "INFO:deep_cartograph.tools.train_colvars.cv_calculator:Training AE ...\n",
      "INFO:deep_cartograph.tools.train_colvars.cv_calculator:Model architecture: AutoEncoderCV(\n",
      "  (loss_fn): MSELoss()\n",
      "  (norm_in): Normalization(in_features=183, out_features=183, mode=mean_std)\n",
      "  (encoder): FeedForward(\n",
      "    (nn): Sequential(\n",
      "      (0): Linear(in_features=183, out_features=15, bias=True)\n",
      "      (1): Shifted_Softplus(beta=1, threshold=20)\n",
      "      (2): Dropout(p=0.1, inplace=False)\n",
      "      (3): Linear(in_features=15, out_features=15, bias=True)\n",
      "      (4): Shifted_Softplus(beta=1, threshold=20)\n",
      "      (5): Dropout(p=0.1, inplace=False)\n",
      "      (6): Linear(in_features=15, out_features=2, bias=True)\n",
      "    )\n",
      "  )\n",
      "  (decoder): FeedForward(\n",
      "    (nn): Sequential(\n",
      "      (0): Linear(in_features=2, out_features=15, bias=True)\n",
      "      (1): Shifted_Softplus(beta=1, threshold=20)\n",
      "      (2): Dropout(p=0.1, inplace=False)\n",
      "      (3): Linear(in_features=15, out_features=15, bias=True)\n",
      "      (4): Shifted_Softplus(beta=1, threshold=20)\n",
      "      (5): Dropout(p=0.1, inplace=False)\n",
      "      (6): Linear(in_features=15, out_features=183, bias=True)\n",
      "    )\n",
      "  )\n",
      ")\n",
      "GPU available: False, used: False\n",
      "TPU available: False, using: 0 TPU cores\n",
      "HPU available: False, using: 0 HPUs\n",
      "\n",
      "  | Name    | Type          | Params | Mode  | In sizes | Out sizes\n",
      "-------------------------------------------------------------------------\n",
      "0 | loss_fn | MSELoss       | 0      | train | ?        | ?        \n",
      "1 | norm_in | Normalization | 0      | train | [1, 183] | [1, 183] \n",
      "2 | encoder | FeedForward   | 3.0 K  | train | [1, 183] | [1, 2]   \n",
      "3 | decoder | FeedForward   | 3.2 K  | train | ?        | ?        \n",
      "-------------------------------------------------------------------------\n",
      "6.2 K     Trainable params\n",
      "0         Non-trainable params\n",
      "6.2 K     Total params\n",
      "0.025     Total estimated model params size (MB)\n",
      "INFO:deep_cartograph.tools.train_colvars.cv_calculator:Best model score: 0.0031106199603527784\n",
      "/home/pnavarro/repos/mlcolvar/mlcolvar/utils/plot.py:233: RuntimeWarning: More than 20 figures have been opened. Figures created through the pyplot interface (`matplotlib.pyplot.figure`) are retained until explicitly closed and may consume too much memory. (To control this warning, see the rcParam `figure.max_open_warning`). Consider using `matplotlib.pyplot.close()`.\n",
      "  _, ax = plt.subplots(figsize=(5, 4), dpi=100)\n",
      "INFO:deep_cartograph.tools.train_colvars.cv_calculator:Projecting reference data onto AE ...\n",
      "/home/pnavarro/repos/mlcolvar/mlcolvar/core/nn/utils.py:13: TracerWarning: Converting a tensor to a Python number might cause the trace to be incorrect. We can't record the data flow of Python values, so this value will be treated as a constant in the future. This means that the trace might not generalize to other inputs!\n",
      "  sp0 = F.softplus(torch.zeros(1), self.beta, self.threshold).item()\n",
      "INFO:deep_cartograph.tools.train_colvars.cv_calculator:Collective variable weights saved to /home/pnavarro/repos/NostrumBD/CV_learning/deep_cartograph/deep_cartograph/data/calpha_transitions/experiments/output/2olu_A-2olv_A-1/torsions/bs_256/train_colvars/ae/weights.ptc\n",
      "INFO:deep_cartograph.tools.train_colvars.train_colvars_workflow:Projecting colvars file: /home/pnavarro/repos/NostrumBD/CV_learning/deep_cartograph/deep_cartograph/data/calpha_transitions/experiments/output/2olu_A-2olv_A-1/torsions/bs_256/compute_features/2olu_A-2olv_A-1/colvars.dat\n",
      "INFO:deep_cartograph.tools.train_colvars.train_colvars_workflow:Corresponding trajectory file: /home/pnavarro/repos/NostrumBD/CV_learning/deep_cartograph/deep_cartograph/data/calpha_transitions/input/2olu_A-2olv_A-1/2olu_A-2olv_A-1.dcd\n",
      "INFO:deep_cartograph.tools.train_colvars.train_colvars_workflow:Corresponding topology file: /home/pnavarro/repos/NostrumBD/CV_learning/deep_cartograph/deep_cartograph/data/calpha_transitions/input/2olu_A-2olv_A-1/2olu_A-2olv_A-1.pdb\n",
      "INFO:deep_cartograph.tools.train_colvars.cv_calculator:Projecting features onto AE ...\n",
      "INFO:deep_cartograph.modules.figures.figures:Computing FES(AE 1, AE 2)...\n",
      "/home/pnavarro/repos/NostrumBD/CV_learning/deep_cartograph/deep_cartograph/modules/figures/figures.py:129: UserWarning: No artists with labels found to put in legend.  Note that artists whose label start with an underscore are ignored when legend() is called with no argument.\n",
      "  ax.legend(fontsize = font_size)\n",
      "INFO:deep_cartograph.tools.train_colvars.cv_calculator:Reading training data from colvars files...\n",
      "INFO:deep_cartograph.tools.train_colvars.cv_calculator:Number of features: 183\n",
      "/home/pnavarro/repos/mlcolvar/mlcolvar/utils/timelagged.py:140: UserWarning: Monitoring the progress for the search of time-lagged configurations with a progress_bar requires `tqdm`.\n",
      "  warnings.warn(\n",
      "INFO:deep_cartograph.tools.train_colvars.cv_calculator:Number of samples: 335\n",
      "INFO:deep_cartograph.tools.train_colvars.cv_calculator:Calculating DeepTICA ...\n",
      "INFO:deep_cartograph.tools.train_colvars.cv_calculator:Training DeepTICA ...\n",
      "INFO:deep_cartograph.tools.train_colvars.cv_calculator:Model architecture: DeepTICA(\n",
      "  (loss_fn): ReduceEigenvaluesLoss()\n",
      "  (norm_in): Normalization(in_features=183, out_features=183, mode=mean_std)\n",
      "  (nn): FeedForward(\n",
      "    (nn): Sequential(\n",
      "      (0): Linear(in_features=183, out_features=15, bias=True)\n",
      "      (1): Shifted_Softplus(beta=1, threshold=20)\n",
      "      (2): Dropout(p=0.1, inplace=False)\n",
      "      (3): Linear(in_features=15, out_features=15, bias=True)\n",
      "      (4): Shifted_Softplus(beta=1, threshold=20)\n",
      "      (5): Dropout(p=0.1, inplace=False)\n",
      "      (6): Linear(in_features=15, out_features=2, bias=True)\n",
      "    )\n",
      "  )\n",
      "  (tica): TICA(in_features=2, out_features=2)\n",
      ")\n",
      "GPU available: False, used: False\n",
      "TPU available: False, using: 0 TPU cores\n",
      "HPU available: False, using: 0 HPUs\n",
      "\n",
      "  | Name    | Type                  | Params | Mode  | In sizes | Out sizes\n",
      "---------------------------------------------------------------------------------\n",
      "0 | loss_fn | ReduceEigenvaluesLoss | 0      | train | ?        | ?        \n",
      "1 | norm_in | Normalization         | 0      | train | [1, 183] | [1, 183] \n",
      "2 | nn      | FeedForward           | 3.0 K  | train | [1, 183] | [1, 2]   \n",
      "3 | tica    | TICA                  | 0      | train | [1, 2]   | [1, 2]   \n",
      "---------------------------------------------------------------------------------\n",
      "3.0 K     Trainable params\n",
      "0         Non-trainable params\n",
      "3.0 K     Total params\n",
      "0.012     Total estimated model params size (MB)\n",
      "INFO:deep_cartograph.tools.train_colvars.cv_calculator:Best model score: -1.5528762340545654\n",
      "/home/pnavarro/repos/mlcolvar/mlcolvar/utils/plot.py:254: UserWarning: Data has no positive values, and therefore cannot be log-scaled.\n",
      "  ax.set_yscale(yscale)\n",
      "INFO:deep_cartograph.tools.train_colvars.cv_calculator:Projecting reference data onto DeepTICA ...\n",
      "INFO:deep_cartograph.tools.train_colvars.cv_calculator:Took 5 epochs\n",
      "INFO:deep_cartograph.tools.train_colvars.cv_calculator:Eigenvalue 1: 0.9469762444496155\n",
      "INFO:deep_cartograph.tools.train_colvars.cv_calculator:Eigenvalue 2: 0.8100075125694275\n",
      "/home/pnavarro/repos/mlcolvar/mlcolvar/core/nn/utils.py:13: TracerWarning: Converting a tensor to a Python number might cause the trace to be incorrect. We can't record the data flow of Python values, so this value will be treated as a constant in the future. This means that the trace might not generalize to other inputs!\n",
      "  sp0 = F.softplus(torch.zeros(1), self.beta, self.threshold).item()\n",
      "INFO:deep_cartograph.tools.train_colvars.cv_calculator:Collective variable weights saved to /home/pnavarro/repos/NostrumBD/CV_learning/deep_cartograph/deep_cartograph/data/calpha_transitions/experiments/output/2olu_A-2olv_A-1/torsions/bs_256/train_colvars/deep_tica/weights.ptc\n",
      "INFO:deep_cartograph.tools.train_colvars.train_colvars_workflow:Projecting colvars file: /home/pnavarro/repos/NostrumBD/CV_learning/deep_cartograph/deep_cartograph/data/calpha_transitions/experiments/output/2olu_A-2olv_A-1/torsions/bs_256/compute_features/2olu_A-2olv_A-1/colvars.dat\n",
      "INFO:deep_cartograph.tools.train_colvars.train_colvars_workflow:Corresponding trajectory file: /home/pnavarro/repos/NostrumBD/CV_learning/deep_cartograph/deep_cartograph/data/calpha_transitions/input/2olu_A-2olv_A-1/2olu_A-2olv_A-1.dcd\n",
      "INFO:deep_cartograph.tools.train_colvars.train_colvars_workflow:Corresponding topology file: /home/pnavarro/repos/NostrumBD/CV_learning/deep_cartograph/deep_cartograph/data/calpha_transitions/input/2olu_A-2olv_A-1/2olu_A-2olv_A-1.pdb\n",
      "INFO:deep_cartograph.tools.train_colvars.cv_calculator:Projecting features onto DeepTICA ...\n",
      "INFO:deep_cartograph.modules.figures.figures:Computing FES(DeepTIC 1, DeepTIC 2)...\n",
      "/home/pnavarro/repos/NostrumBD/CV_learning/deep_cartograph/deep_cartograph/modules/figures/figures.py:129: UserWarning: No artists with labels found to put in legend.  Note that artists whose label start with an underscore are ignored when legend() is called with no argument.\n",
      "  ax.legend(fontsize = font_size)\n",
      "INFO:deep_cartograph:Elapsed time (Train colvars): 00 h 00 min 15 s\n",
      "INFO:deep_cartograph:Total elapsed time: 00 h 00 min 36 s\n"
     ]
    },
    {
     "data": {
      "text/plain": [
       "<Figure size 500x400 with 0 Axes>"
      ]
     },
     "metadata": {},
     "output_type": "display_data"
    },
    {
     "data": {
      "text/plain": [
       "<Figure size 640x480 with 0 Axes>"
      ]
     },
     "metadata": {},
     "output_type": "display_data"
    },
    {
     "data": {
      "text/plain": [
       "<Figure size 500x400 with 0 Axes>"
      ]
     },
     "metadata": {},
     "output_type": "display_data"
    },
    {
     "data": {
      "text/plain": [
       "<Figure size 500x400 with 0 Axes>"
      ]
     },
     "metadata": {},
     "output_type": "display_data"
    },
    {
     "data": {
      "text/plain": [
       "<Figure size 640x480 with 0 Axes>"
      ]
     },
     "metadata": {},
     "output_type": "display_data"
    },
    {
     "data": {
      "text/plain": [
       "<Figure size 500x400 with 0 Axes>"
      ]
     },
     "metadata": {},
     "output_type": "display_data"
    },
    {
     "data": {
      "text/plain": [
       "<Figure size 640x480 with 0 Axes>"
      ]
     },
     "metadata": {},
     "output_type": "display_data"
    },
    {
     "data": {
      "text/plain": [
       "<Figure size 500x400 with 0 Axes>"
      ]
     },
     "metadata": {},
     "output_type": "display_data"
    },
    {
     "data": {
      "text/plain": [
       "<Figure size 500x400 with 0 Axes>"
      ]
     },
     "metadata": {},
     "output_type": "display_data"
    },
    {
     "data": {
      "text/plain": [
       "<Figure size 640x480 with 0 Axes>"
      ]
     },
     "metadata": {},
     "output_type": "display_data"
    },
    {
     "data": {
      "text/plain": [
       "<Figure size 500x400 with 0 Axes>"
      ]
     },
     "metadata": {},
     "output_type": "display_data"
    },
    {
     "data": {
      "text/plain": [
       "<Figure size 640x480 with 0 Axes>"
      ]
     },
     "metadata": {},
     "output_type": "display_data"
    },
    {
     "data": {
      "text/plain": [
       "<Figure size 500x400 with 0 Axes>"
      ]
     },
     "metadata": {},
     "output_type": "display_data"
    },
    {
     "data": {
      "text/plain": [
       "<Figure size 500x400 with 0 Axes>"
      ]
     },
     "metadata": {},
     "output_type": "display_data"
    },
    {
     "data": {
      "text/plain": [
       "<Figure size 640x480 with 0 Axes>"
      ]
     },
     "metadata": {},
     "output_type": "display_data"
    },
    {
     "data": {
      "text/plain": [
       "<Figure size 500x400 with 0 Axes>"
      ]
     },
     "metadata": {},
     "output_type": "display_data"
    },
    {
     "data": {
      "text/plain": [
       "<Figure size 640x480 with 0 Axes>"
      ]
     },
     "metadata": {},
     "output_type": "display_data"
    },
    {
     "data": {
      "text/plain": [
       "<Figure size 500x400 with 0 Axes>"
      ]
     },
     "metadata": {},
     "output_type": "display_data"
    },
    {
     "data": {
      "text/plain": [
       "<Figure size 500x400 with 0 Axes>"
      ]
     },
     "metadata": {},
     "output_type": "display_data"
    },
    {
     "data": {
      "text/plain": [
       "<Figure size 640x480 with 0 Axes>"
      ]
     },
     "metadata": {},
     "output_type": "display_data"
    },
    {
     "data": {
      "text/plain": [
       "<Figure size 500x400 with 0 Axes>"
      ]
     },
     "metadata": {},
     "output_type": "display_data"
    },
    {
     "data": {
      "text/plain": [
       "<Figure size 640x480 with 0 Axes>"
      ]
     },
     "metadata": {},
     "output_type": "display_data"
    },
    {
     "data": {
      "text/plain": [
       "<Figure size 500x400 with 0 Axes>"
      ]
     },
     "metadata": {},
     "output_type": "display_data"
    },
    {
     "data": {
      "text/plain": [
       "<Figure size 500x400 with 0 Axes>"
      ]
     },
     "metadata": {},
     "output_type": "display_data"
    },
    {
     "data": {
      "text/plain": [
       "<Figure size 640x480 with 0 Axes>"
      ]
     },
     "metadata": {},
     "output_type": "display_data"
    }
   ],
   "source": [
    "\n",
    "features = 'torsions'\n",
    "\n",
    "# Load initial configuration\n",
    "config_path = f\"{data_folder}/calpha_transitions/experiments/{features}_config.yml\"\n",
    "\n",
    "with open(config_path, 'r') as file:\n",
    "    configuration = yaml.load(file, Loader = yaml.FullLoader)\n",
    "    \n",
    "batch_sizes = [16, 32, 64, 128, 256]   # 256 is close to all the samples in the training set (330*0.8 = 264)\n",
    "system_name = '2olu_A-2olv_A-1'        # Has around 330 frames\n",
    "\n",
    "for bs in batch_sizes:\n",
    "\n",
    "    # Test name\n",
    "    test_name = f\"bs_{bs}\"\n",
    "\n",
    "    # Make a copy of the initial configuration\n",
    "    test_configuration = configuration.copy()\n",
    "\n",
    "    # Update batch size\n",
    "    test_configuration['train_colvars']['common']['training']['general']['batch_size'] = bs\n",
    "\n",
    "    # Run deep cartograph\n",
    "    run_deep_cartograph(test_configuration, features, system_name, test_name)"
   ]
  },
  {
   "cell_type": "code",
   "execution_count": 5,
   "metadata": {},
   "outputs": [
    {
     "name": "stdout",
     "output_type": "stream",
     "text": [
      "Batch size: 16 ----------------------------------------------- #\n",
      "Output folder: /home/pnavarro/repos/NostrumBD/CV_learning/deep_cartograph/deep_cartograph/data/calpha_transitions/experiments/output/2olu_A-2olv_A-1/torsions/bs_16\n",
      "Final model score: 2.4646E-3\n"
     ]
    },
    {
     "data": {
      "text/html": [
       "<img src=\"/home/pnavarro/repos/NostrumBD/CV_learning/deep_cartograph/deep_cartograph/data/calpha_transitions/experiments/output/2olu_A-2olv_A-1/torsions/bs_16/train_colvars/ae/loss.png?1732801284\" style=\"width: 600px; margin-right: 10px;\">"
      ],
      "text/plain": [
       "<IPython.core.display.HTML object>"
      ]
     },
     "metadata": {},
     "output_type": "display_data"
    },
    {
     "name": "stdout",
     "output_type": "stream",
     "text": [
      "Batch size: 32 ----------------------------------------------- #\n",
      "Output folder: /home/pnavarro/repos/NostrumBD/CV_learning/deep_cartograph/deep_cartograph/data/calpha_transitions/experiments/output/2olu_A-2olv_A-1/torsions/bs_32\n",
      "Final model score: 2.3508E-3\n"
     ]
    },
    {
     "data": {
      "text/html": [
       "<img src=\"/home/pnavarro/repos/NostrumBD/CV_learning/deep_cartograph/deep_cartograph/data/calpha_transitions/experiments/output/2olu_A-2olv_A-1/torsions/bs_32/train_colvars/ae/loss.png?1732801284\" style=\"width: 600px; margin-right: 10px;\">"
      ],
      "text/plain": [
       "<IPython.core.display.HTML object>"
      ]
     },
     "metadata": {},
     "output_type": "display_data"
    },
    {
     "name": "stdout",
     "output_type": "stream",
     "text": [
      "Batch size: 64 ----------------------------------------------- #\n",
      "Output folder: /home/pnavarro/repos/NostrumBD/CV_learning/deep_cartograph/deep_cartograph/data/calpha_transitions/experiments/output/2olu_A-2olv_A-1/torsions/bs_64\n",
      "Final model score: 2.6794E-3\n"
     ]
    },
    {
     "data": {
      "text/html": [
       "<img src=\"/home/pnavarro/repos/NostrumBD/CV_learning/deep_cartograph/deep_cartograph/data/calpha_transitions/experiments/output/2olu_A-2olv_A-1/torsions/bs_64/train_colvars/ae/loss.png?1732801284\" style=\"width: 600px; margin-right: 10px;\">"
      ],
      "text/plain": [
       "<IPython.core.display.HTML object>"
      ]
     },
     "metadata": {},
     "output_type": "display_data"
    },
    {
     "name": "stdout",
     "output_type": "stream",
     "text": [
      "Batch size: 128 ----------------------------------------------- #\n",
      "Output folder: /home/pnavarro/repos/NostrumBD/CV_learning/deep_cartograph/deep_cartograph/data/calpha_transitions/experiments/output/2olu_A-2olv_A-1/torsions/bs_128\n",
      "Final model score: 2.6923E-3\n"
     ]
    },
    {
     "data": {
      "text/html": [
       "<img src=\"/home/pnavarro/repos/NostrumBD/CV_learning/deep_cartograph/deep_cartograph/data/calpha_transitions/experiments/output/2olu_A-2olv_A-1/torsions/bs_128/train_colvars/ae/loss.png?1732801284\" style=\"width: 600px; margin-right: 10px;\">"
      ],
      "text/plain": [
       "<IPython.core.display.HTML object>"
      ]
     },
     "metadata": {},
     "output_type": "display_data"
    },
    {
     "name": "stdout",
     "output_type": "stream",
     "text": [
      "Batch size: 256 ----------------------------------------------- #\n",
      "Output folder: /home/pnavarro/repos/NostrumBD/CV_learning/deep_cartograph/deep_cartograph/data/calpha_transitions/experiments/output/2olu_A-2olv_A-1/torsions/bs_256\n",
      "Final model score: 3.1106E-3\n"
     ]
    },
    {
     "data": {
      "text/html": [
       "<img src=\"/home/pnavarro/repos/NostrumBD/CV_learning/deep_cartograph/deep_cartograph/data/calpha_transitions/experiments/output/2olu_A-2olv_A-1/torsions/bs_256/train_colvars/ae/loss.png?1732801284\" style=\"width: 600px; margin-right: 10px;\">"
      ],
      "text/plain": [
       "<IPython.core.display.HTML object>"
      ]
     },
     "metadata": {},
     "output_type": "display_data"
    }
   ],
   "source": [
    "# Show results for the Autoencoder\n",
    "\n",
    "for bs in batch_sizes:\n",
    "\n",
    "    print(f\"Batch size: {bs} ----------------------------------------------- #\")\n",
    "\n",
    "    # Test name\n",
    "    test_name = f\"bs_{bs}\"\n",
    "    \n",
    "    # Show main results\n",
    "    show_results(features, system_name, 'ae', test_name)"
   ]
  },
  {
   "cell_type": "markdown",
   "metadata": {},
   "source": [
    "- We can see that as the batch size increases, the validation loss takes more epochs to decrease"
   ]
  },
  {
   "cell_type": "code",
   "execution_count": 3,
   "metadata": {},
   "outputs": [
    {
     "name": "stdout",
     "output_type": "stream",
     "text": [
      "Batch size: 16 ----------------------------------------------- #\n",
      "Output folder: /home/pnavarro/repos/NostrumBD/CV_learning/deep_cartograph/deep_cartograph/data/calpha_transitions/experiments/output/2olu_A-2olv_A-1/torsions/bs_16\n",
      "Final model score: -1.7073E+0\n",
      "Eigenvalue 1: 1.0026E+0\n",
      "Eigenvalue 2: 8.2974E-1\n"
     ]
    },
    {
     "data": {
      "text/html": [
       "<img src=\"/home/pnavarro/repos/NostrumBD/CV_learning/deep_cartograph/deep_cartograph/data/calpha_transitions/experiments/output/2olu_A-2olv_A-1/torsions/bs_16/train_colvars/deep_tica/loss.png?1732806216\" style=\"width: 600px; margin-right: 10px;\"><img src=\"/home/pnavarro/repos/NostrumBD/CV_learning/deep_cartograph/deep_cartograph/data/calpha_transitions/experiments/output/2olu_A-2olv_A-1/torsions/bs_16/train_colvars/deep_tica/eigenvalues.png?1732806216\" style=\"width: 600px; margin-right: 10px;\">"
      ],
      "text/plain": [
       "<IPython.core.display.HTML object>"
      ]
     },
     "metadata": {},
     "output_type": "display_data"
    },
    {
     "name": "stdout",
     "output_type": "stream",
     "text": [
      "Batch size: 32 ----------------------------------------------- #\n",
      "Output folder: /home/pnavarro/repos/NostrumBD/CV_learning/deep_cartograph/deep_cartograph/data/calpha_transitions/experiments/output/2olu_A-2olv_A-1/torsions/bs_32\n",
      "Final model score: -2.1778E+1\n",
      "Eigenvalue 1: 1.5481E+0\n",
      "Eigenvalue 2: 3.4162E-1\n"
     ]
    },
    {
     "data": {
      "text/html": [
       "<img src=\"/home/pnavarro/repos/NostrumBD/CV_learning/deep_cartograph/deep_cartograph/data/calpha_transitions/experiments/output/2olu_A-2olv_A-1/torsions/bs_32/train_colvars/deep_tica/loss.png?1732806216\" style=\"width: 600px; margin-right: 10px;\"><img src=\"/home/pnavarro/repos/NostrumBD/CV_learning/deep_cartograph/deep_cartograph/data/calpha_transitions/experiments/output/2olu_A-2olv_A-1/torsions/bs_32/train_colvars/deep_tica/eigenvalues.png?1732806216\" style=\"width: 600px; margin-right: 10px;\">"
      ],
      "text/plain": [
       "<IPython.core.display.HTML object>"
      ]
     },
     "metadata": {},
     "output_type": "display_data"
    },
    {
     "name": "stdout",
     "output_type": "stream",
     "text": [
      "Batch size: 64 ----------------------------------------------- #\n",
      "Output folder: /home/pnavarro/repos/NostrumBD/CV_learning/deep_cartograph/deep_cartograph/data/calpha_transitions/experiments/output/2olu_A-2olv_A-1/torsions/bs_64\n",
      "Final model score: -2.9591E+2\n",
      "Eigenvalue 1: 3.3461E+0\n",
      "Eigenvalue 2: -2.1429E+0\n"
     ]
    },
    {
     "data": {
      "text/html": [
       "<img src=\"/home/pnavarro/repos/NostrumBD/CV_learning/deep_cartograph/deep_cartograph/data/calpha_transitions/experiments/output/2olu_A-2olv_A-1/torsions/bs_64/train_colvars/deep_tica/loss.png?1732806216\" style=\"width: 600px; margin-right: 10px;\"><img src=\"/home/pnavarro/repos/NostrumBD/CV_learning/deep_cartograph/deep_cartograph/data/calpha_transitions/experiments/output/2olu_A-2olv_A-1/torsions/bs_64/train_colvars/deep_tica/eigenvalues.png?1732806216\" style=\"width: 600px; margin-right: 10px;\">"
      ],
      "text/plain": [
       "<IPython.core.display.HTML object>"
      ]
     },
     "metadata": {},
     "output_type": "display_data"
    },
    {
     "name": "stdout",
     "output_type": "stream",
     "text": [
      "Batch size: 128 ----------------------------------------------- #\n",
      "Output folder: /home/pnavarro/repos/NostrumBD/CV_learning/deep_cartograph/deep_cartograph/data/calpha_transitions/experiments/output/2olu_A-2olv_A-1/torsions/bs_128\n",
      "Final model score: -1.5931E+0\n",
      "Eigenvalue 1: 9.4375E-1\n",
      "Eigenvalue 2: 8.3811E-1\n"
     ]
    },
    {
     "data": {
      "text/html": [
       "<img src=\"/home/pnavarro/repos/NostrumBD/CV_learning/deep_cartograph/deep_cartograph/data/calpha_transitions/experiments/output/2olu_A-2olv_A-1/torsions/bs_128/train_colvars/deep_tica/loss.png?1732806216\" style=\"width: 600px; margin-right: 10px;\"><img src=\"/home/pnavarro/repos/NostrumBD/CV_learning/deep_cartograph/deep_cartograph/data/calpha_transitions/experiments/output/2olu_A-2olv_A-1/torsions/bs_128/train_colvars/deep_tica/eigenvalues.png?1732806216\" style=\"width: 600px; margin-right: 10px;\">"
      ],
      "text/plain": [
       "<IPython.core.display.HTML object>"
      ]
     },
     "metadata": {},
     "output_type": "display_data"
    },
    {
     "name": "stdout",
     "output_type": "stream",
     "text": [
      "Batch size: 256 ----------------------------------------------- #\n",
      "Output folder: /home/pnavarro/repos/NostrumBD/CV_learning/deep_cartograph/deep_cartograph/data/calpha_transitions/experiments/output/2olu_A-2olv_A-1/torsions/bs_256\n",
      "Final model score: -1.5529E+0\n",
      "Eigenvalue 1: 9.4698E-1\n",
      "Eigenvalue 2: 8.1001E-1\n"
     ]
    },
    {
     "data": {
      "text/html": [
       "<img src=\"/home/pnavarro/repos/NostrumBD/CV_learning/deep_cartograph/deep_cartograph/data/calpha_transitions/experiments/output/2olu_A-2olv_A-1/torsions/bs_256/train_colvars/deep_tica/loss.png?1732806216\" style=\"width: 600px; margin-right: 10px;\"><img src=\"/home/pnavarro/repos/NostrumBD/CV_learning/deep_cartograph/deep_cartograph/data/calpha_transitions/experiments/output/2olu_A-2olv_A-1/torsions/bs_256/train_colvars/deep_tica/eigenvalues.png?1732806216\" style=\"width: 600px; margin-right: 10px;\">"
      ],
      "text/plain": [
       "<IPython.core.display.HTML object>"
      ]
     },
     "metadata": {},
     "output_type": "display_data"
    }
   ],
   "source": [
    "# Show results for Deep TICA\n",
    "\n",
    "for bs in batch_sizes:\n",
    "\n",
    "    print(f\"Batch size: {bs} ----------------------------------------------- #\")\n",
    "\n",
    "    # Test name\n",
    "    test_name = f\"bs_{bs}\"\n",
    "    \n",
    "    # Show main results\n",
    "    show_results(features, system_name, 'deep_tica', test_name)"
   ]
  },
  {
   "cell_type": "markdown",
   "metadata": {},
   "source": [
    "## Learning rate\n",
    "\n",
    "It controls the size of the steps that the optimizer takes in the direction of the gradient. If the learning rate is too high, the optimizer might overshoot the minimum and diverge. If the learning rate is too low, the optimizer might take too long to converge."
   ]
  },
  {
   "cell_type": "code",
   "execution_count": null,
   "metadata": {},
   "outputs": [],
   "source": [
    "features = 'torsions'\n",
    "\n",
    "# Load initial configuration\n",
    "config_path = f\"{data_folder}/calpha_transitions/experiments/{features}_config.yml\"\n",
    "\n",
    "with open(config_path, 'r') as file:\n",
    "    configuration = yaml.load(file, Loader = yaml.FullLoader)\n",
    "    \n",
    "learning_rates = [1e-2, 1e-3, 1e-4, 1e-5]\n",
    "system_name = '2olu_A-2olv_A-1'        # Has around 330 frames\n",
    "\n",
    "for lr in learning_rates:\n",
    "\n",
    "    # Test name\n",
    "    test_name = f\"lr_{lr}\"\n",
    "\n",
    "    # Make a copy of the initial configuration\n",
    "    test_configuration = configuration.copy()\n",
    "\n",
    "    # Update learning rate\n",
    "    test_configuration['train_colvars']['common']['training']['optimizer']['kwargs']['lr'] = lr\n",
    "\n",
    "    # Run deep cartograph\n",
    "    run_deep_cartograph(test_configuration, features, system_name, test_name)"
   ]
  },
  {
   "cell_type": "code",
   "execution_count": 5,
   "metadata": {},
   "outputs": [
    {
     "name": "stdout",
     "output_type": "stream",
     "text": [
      "Learning rate: 0.01 ----------------------------------------------- #\n",
      "Output folder: /home/pnavarro/repos/NostrumBD/CV_learning/deep_cartograph/deep_cartograph/data/calpha_transitions/experiments/output/2olu_A-2olv_A-1/torsions/lr_0.01\n",
      "Final model score: 2.6511E-3\n"
     ]
    },
    {
     "data": {
      "text/html": [
       "<img src=\"/home/pnavarro/repos/NostrumBD/CV_learning/deep_cartograph/deep_cartograph/data/calpha_transitions/experiments/output/2olu_A-2olv_A-1/torsions/lr_0.01/train_colvars/ae/loss.png?1732806228\" style=\"width: 600px; margin-right: 10px;\">"
      ],
      "text/plain": [
       "<IPython.core.display.HTML object>"
      ]
     },
     "metadata": {},
     "output_type": "display_data"
    },
    {
     "name": "stdout",
     "output_type": "stream",
     "text": [
      "Learning rate: 0.001 ----------------------------------------------- #\n",
      "Output folder: /home/pnavarro/repos/NostrumBD/CV_learning/deep_cartograph/deep_cartograph/data/calpha_transitions/experiments/output/2olu_A-2olv_A-1/torsions/lr_0.001\n",
      "Final model score: 2.6794E-3\n"
     ]
    },
    {
     "data": {
      "text/html": [
       "<img src=\"/home/pnavarro/repos/NostrumBD/CV_learning/deep_cartograph/deep_cartograph/data/calpha_transitions/experiments/output/2olu_A-2olv_A-1/torsions/lr_0.001/train_colvars/ae/loss.png?1732806228\" style=\"width: 600px; margin-right: 10px;\">"
      ],
      "text/plain": [
       "<IPython.core.display.HTML object>"
      ]
     },
     "metadata": {},
     "output_type": "display_data"
    },
    {
     "name": "stdout",
     "output_type": "stream",
     "text": [
      "Learning rate: 0.0001 ----------------------------------------------- #\n",
      "Output folder: /home/pnavarro/repos/NostrumBD/CV_learning/deep_cartograph/deep_cartograph/data/calpha_transitions/experiments/output/2olu_A-2olv_A-1/torsions/lr_0.0001\n",
      "Final model score: 3.1012E-3\n"
     ]
    },
    {
     "data": {
      "text/html": [
       "<img src=\"/home/pnavarro/repos/NostrumBD/CV_learning/deep_cartograph/deep_cartograph/data/calpha_transitions/experiments/output/2olu_A-2olv_A-1/torsions/lr_0.0001/train_colvars/ae/loss.png?1732806228\" style=\"width: 600px; margin-right: 10px;\">"
      ],
      "text/plain": [
       "<IPython.core.display.HTML object>"
      ]
     },
     "metadata": {},
     "output_type": "display_data"
    },
    {
     "name": "stdout",
     "output_type": "stream",
     "text": [
      "Learning rate: 1e-05 ----------------------------------------------- #\n",
      "Output folder: /home/pnavarro/repos/NostrumBD/CV_learning/deep_cartograph/deep_cartograph/data/calpha_transitions/experiments/output/2olu_A-2olv_A-1/torsions/lr_1e-05\n",
      "Final model score: 6.1975E-3\n"
     ]
    },
    {
     "data": {
      "text/html": [
       "<img src=\"/home/pnavarro/repos/NostrumBD/CV_learning/deep_cartograph/deep_cartograph/data/calpha_transitions/experiments/output/2olu_A-2olv_A-1/torsions/lr_1e-05/train_colvars/ae/loss.png?1732806228\" style=\"width: 600px; margin-right: 10px;\">"
      ],
      "text/plain": [
       "<IPython.core.display.HTML object>"
      ]
     },
     "metadata": {},
     "output_type": "display_data"
    }
   ],
   "source": [
    "# Show results for the Autoencoder\n",
    "\n",
    "for lr in learning_rates:\n",
    "\n",
    "    print(f\"Learning rate: {lr} ----------------------------------------------- #\")\n",
    "\n",
    "    # Test name\n",
    "    test_name = f\"lr_{lr}\"\n",
    "    \n",
    "    # Show main results\n",
    "    show_results(features, system_name, 'ae', test_name)"
   ]
  },
  {
   "cell_type": "markdown",
   "metadata": {},
   "source": [
    "- Note that a lower loss after training does not necessarily mean a better model (see trajectory unfolding on each CV space)."
   ]
  },
  {
   "cell_type": "code",
   "execution_count": 6,
   "metadata": {},
   "outputs": [
    {
     "name": "stdout",
     "output_type": "stream",
     "text": [
      "Learning rate: 0.01 ----------------------------------------------- #\n",
      "Output folder: /home/pnavarro/repos/NostrumBD/CV_learning/deep_cartograph/deep_cartograph/data/calpha_transitions/experiments/output/2olu_A-2olv_A-1/torsions/lr_0.01\n",
      "Final model score: -2.1069E+0\n",
      "Eigenvalue 1: 1.0234E+0\n",
      "Eigenvalue 2: 6.7373E-1\n"
     ]
    },
    {
     "data": {
      "text/html": [
       "<img src=\"/home/pnavarro/repos/NostrumBD/CV_learning/deep_cartograph/deep_cartograph/data/calpha_transitions/experiments/output/2olu_A-2olv_A-1/torsions/lr_0.01/train_colvars/deep_tica/loss.png?1732806271\" style=\"width: 600px; margin-right: 10px;\"><img src=\"/home/pnavarro/repos/NostrumBD/CV_learning/deep_cartograph/deep_cartograph/data/calpha_transitions/experiments/output/2olu_A-2olv_A-1/torsions/lr_0.01/train_colvars/deep_tica/eigenvalues.png?1732806271\" style=\"width: 600px; margin-right: 10px;\">"
      ],
      "text/plain": [
       "<IPython.core.display.HTML object>"
      ]
     },
     "metadata": {},
     "output_type": "display_data"
    },
    {
     "name": "stdout",
     "output_type": "stream",
     "text": [
      "Learning rate: 0.001 ----------------------------------------------- #\n",
      "Output folder: /home/pnavarro/repos/NostrumBD/CV_learning/deep_cartograph/deep_cartograph/data/calpha_transitions/experiments/output/2olu_A-2olv_A-1/torsions/lr_0.001\n",
      "Final model score: -2.9591E+2\n",
      "Eigenvalue 1: 3.3461E+0\n",
      "Eigenvalue 2: -2.1429E+0\n"
     ]
    },
    {
     "data": {
      "text/html": [
       "<img src=\"/home/pnavarro/repos/NostrumBD/CV_learning/deep_cartograph/deep_cartograph/data/calpha_transitions/experiments/output/2olu_A-2olv_A-1/torsions/lr_0.001/train_colvars/deep_tica/loss.png?1732806271\" style=\"width: 600px; margin-right: 10px;\"><img src=\"/home/pnavarro/repos/NostrumBD/CV_learning/deep_cartograph/deep_cartograph/data/calpha_transitions/experiments/output/2olu_A-2olv_A-1/torsions/lr_0.001/train_colvars/deep_tica/eigenvalues.png?1732806271\" style=\"width: 600px; margin-right: 10px;\">"
      ],
      "text/plain": [
       "<IPython.core.display.HTML object>"
      ]
     },
     "metadata": {},
     "output_type": "display_data"
    },
    {
     "name": "stdout",
     "output_type": "stream",
     "text": [
      "Learning rate: 0.0001 ----------------------------------------------- #\n",
      "Output folder: /home/pnavarro/repos/NostrumBD/CV_learning/deep_cartograph/deep_cartograph/data/calpha_transitions/experiments/output/2olu_A-2olv_A-1/torsions/lr_0.0001\n",
      "Final model score: -3.9166E+0\n",
      "Eigenvalue 1: 1.0518E+0\n",
      "Eigenvalue 2: 1.7334E-1\n"
     ]
    },
    {
     "data": {
      "text/html": [
       "<img src=\"/home/pnavarro/repos/NostrumBD/CV_learning/deep_cartograph/deep_cartograph/data/calpha_transitions/experiments/output/2olu_A-2olv_A-1/torsions/lr_0.0001/train_colvars/deep_tica/loss.png?1732806271\" style=\"width: 600px; margin-right: 10px;\"><img src=\"/home/pnavarro/repos/NostrumBD/CV_learning/deep_cartograph/deep_cartograph/data/calpha_transitions/experiments/output/2olu_A-2olv_A-1/torsions/lr_0.0001/train_colvars/deep_tica/eigenvalues.png?1732806271\" style=\"width: 600px; margin-right: 10px;\">"
      ],
      "text/plain": [
       "<IPython.core.display.HTML object>"
      ]
     },
     "metadata": {},
     "output_type": "display_data"
    },
    {
     "name": "stdout",
     "output_type": "stream",
     "text": [
      "Learning rate: 1e-05 ----------------------------------------------- #\n",
      "Output folder: /home/pnavarro/repos/NostrumBD/CV_learning/deep_cartograph/deep_cartograph/data/calpha_transitions/experiments/output/2olu_A-2olv_A-1/torsions/lr_1e-05\n",
      "Final model score: -2.4631E+0\n",
      "Eigenvalue 1: 9.3888E-1\n",
      "Eigenvalue 2: 2.6067E-1\n"
     ]
    },
    {
     "data": {
      "text/html": [
       "<img src=\"/home/pnavarro/repos/NostrumBD/CV_learning/deep_cartograph/deep_cartograph/data/calpha_transitions/experiments/output/2olu_A-2olv_A-1/torsions/lr_1e-05/train_colvars/deep_tica/loss.png?1732806271\" style=\"width: 600px; margin-right: 10px;\"><img src=\"/home/pnavarro/repos/NostrumBD/CV_learning/deep_cartograph/deep_cartograph/data/calpha_transitions/experiments/output/2olu_A-2olv_A-1/torsions/lr_1e-05/train_colvars/deep_tica/eigenvalues.png?1732806271\" style=\"width: 600px; margin-right: 10px;\">"
      ],
      "text/plain": [
       "<IPython.core.display.HTML object>"
      ]
     },
     "metadata": {},
     "output_type": "display_data"
    }
   ],
   "source": [
    "# Show results for the Deep TICA\n",
    "\n",
    "for lr in learning_rates:\n",
    "\n",
    "    print(f\"Learning rate: {lr} ----------------------------------------------- #\")\n",
    "\n",
    "    # Test name\n",
    "    test_name = f\"lr_{lr}\"\n",
    "    \n",
    "    # Show main results\n",
    "    show_results(features, system_name, 'deep_tica', test_name)"
   ]
  },
  {
   "cell_type": "markdown",
   "metadata": {},
   "source": [
    "- The Deep TICA model is more robust to the learning rate, and it can be trained with a higher learning rate. For the high learning rate, the model can be trained with a single epoch."
   ]
  },
  {
   "cell_type": "markdown",
   "metadata": {},
   "source": [
    "## Dropout\n",
    "\n",
    "Dropout is a regularization technique that consists in randomly setting a fraction of the input tensor to zero during training. This helps the model to generalize better and avoid overfitting. The dropout rate is the fraction of the input tensor that is set to zero."
   ]
  },
  {
   "cell_type": "code",
   "execution_count": 7,
   "metadata": {},
   "outputs": [
    {
     "name": "stderr",
     "output_type": "stream",
     "text": [
      "INFO:deep_cartograph:================\n",
      "INFO:deep_cartograph:Compute features\n",
      "INFO:deep_cartograph:================\n",
      "INFO:deep_cartograph:Trajectory file: /home/pnavarro/repos/NostrumBD/CV_learning/deep_cartograph/deep_cartograph/data/calpha_transitions/input/2olu_A-2olv_A-1/2olu_A-2olv_A-1.dcd\n",
      "/home/pnavarro/miniforge3/envs/deep_cartograph/lib/python3.10/site-packages/MDAnalysis/topology/PDBParser.py:317: UserWarning: Element information is missing, elements attribute will not be populated. If needed these can be guessed using MDAnalysis.topology.guessers.\n",
      "  warnings.warn(\"Element information is missing, elements attribute \"\n",
      "/home/pnavarro/miniforge3/envs/deep_cartograph/lib/python3.10/site-packages/MDAnalysis/coordinates/PDB.py:747: UserWarning: Unit cell dimensions not found. CRYST1 record set to unitary values.\n",
      "  warnings.warn(\"Unit cell dimensions not found. \"\n",
      "/home/pnavarro/miniforge3/envs/deep_cartograph/lib/python3.10/site-packages/MDAnalysis/coordinates/PDB.py:1078: UserWarning: Found no information for attr: 'elements' Using default value of ' '\n",
      "  warnings.warn(\"Found no information for attr: '{}'\"\n",
      "/home/pnavarro/miniforge3/envs/deep_cartograph/lib/python3.10/site-packages/MDAnalysis/coordinates/PDB.py:429: UserWarning: 1 A^3 CRYST1 record, this is usually a placeholder. Unit cell dimensions will be set to None.\n",
      "  warnings.warn(\"1 A^3 CRYST1 record,\"\n",
      "INFO:deep_cartograph.modules.plumed.input_file.input_file:Found 1186 features for tor\n",
      "INFO:deep_cartograph.modules.plumed.utils:Executing PLUMED driver command: plumed driver --plumed /home/pnavarro/repos/NostrumBD/CV_learning/deep_cartograph/deep_cartograph/data/calpha_transitions/experiments/output/2olu_A-2olv_A-1/torsions/dr_0.05/compute_features/2olu_A-2olv_A-1/torsions.dat --mf_dcd /home/pnavarro/repos/NostrumBD/CV_learning/deep_cartograph/deep_cartograph/data/calpha_transitions/input/2olu_A-2olv_A-1/2olu_A-2olv_A-1.dcd --natoms 596\n",
      "INFO:deep_cartograph:Elapsed time (Compute features): 00 h 00 min 01 s\n",
      "INFO:deep_cartograph:==================\n",
      "INFO:deep_cartograph:Filtering features\n",
      "INFO:deep_cartograph:==================\n",
      "INFO:deep_cartograph:Finding the features that contains the most information about the transitions or conformational changes.\n",
      "INFO:deep_cartograph:The following algorithms are available:\n",
      "INFO:deep_cartograph:- Hartigan's dip test filter. Keeps features that are not unimodal.\n",
      "INFO:deep_cartograph:- Shannon entropy filter. Keeps features with entropy greater than a threshold.\n",
      "INFO:deep_cartograph:- Standard deviation filter. Keeps features with standard deviation greater than a threshold.\n",
      "INFO:deep_cartograph:Note that the all features must be in the same units to apply the entropy and standard deviation filters meaningfully.\n",
      "INFO:deep_cartograph:Initial size of features set: 1186.\n",
      "INFO:deep_cartograph.tools.filter_features.filtering:Computing dip test.\n",
      "INFO:deep_cartograph.tools.filter_features.filtering:Filtered 1003 features.\n",
      "INFO:deep_cartograph:Elapsed time (Filter features): 00 h 00 min 21 s\n",
      "INFO:deep_cartograph.modules.common.common: Using features in /home/pnavarro/repos/NostrumBD/CV_learning/deep_cartograph/deep_cartograph/data/calpha_transitions/experiments/output/2olu_A-2olv_A-1/torsions/dr_0.05/filter_features/filtered_features.txt\n",
      "INFO:deep_cartograph:================================\n",
      "INFO:deep_cartograph:Training of Collective Variables\n",
      "INFO:deep_cartograph:================================\n",
      "INFO:deep_cartograph:Training of collective variables using the mlcolvar library.\n",
      "INFO:deep_cartograph.tools.train_colvars.train_colvars_workflow:Collective variables to compute: ['ae', 'deep_tica']\n",
      "INFO:deep_cartograph.tools.train_colvars.cv_calculator:Reading training data from colvars files...\n",
      "INFO:deep_cartograph.tools.train_colvars.cv_calculator:Number of features: 183\n",
      "INFO:deep_cartograph.tools.train_colvars.cv_calculator:Number of samples: 338\n",
      "INFO:deep_cartograph.tools.train_colvars.cv_calculator:Calculating AE ...\n",
      "INFO:deep_cartograph.tools.train_colvars.cv_calculator:Training AE ...\n",
      "INFO:deep_cartograph.tools.train_colvars.cv_calculator:Model architecture: AutoEncoderCV(\n",
      "  (loss_fn): MSELoss()\n",
      "  (norm_in): Normalization(in_features=183, out_features=183, mode=mean_std)\n",
      "  (encoder): FeedForward(\n",
      "    (nn): Sequential(\n",
      "      (0): Linear(in_features=183, out_features=15, bias=True)\n",
      "      (1): Shifted_Softplus(beta=1, threshold=20)\n",
      "      (2): Dropout(p=0.05, inplace=False)\n",
      "      (3): Linear(in_features=15, out_features=15, bias=True)\n",
      "      (4): Shifted_Softplus(beta=1, threshold=20)\n",
      "      (5): Dropout(p=0.05, inplace=False)\n",
      "      (6): Linear(in_features=15, out_features=2, bias=True)\n",
      "    )\n",
      "  )\n",
      "  (decoder): FeedForward(\n",
      "    (nn): Sequential(\n",
      "      (0): Linear(in_features=2, out_features=15, bias=True)\n",
      "      (1): Shifted_Softplus(beta=1, threshold=20)\n",
      "      (2): Dropout(p=0.05, inplace=False)\n",
      "      (3): Linear(in_features=15, out_features=15, bias=True)\n",
      "      (4): Shifted_Softplus(beta=1, threshold=20)\n",
      "      (5): Dropout(p=0.05, inplace=False)\n",
      "      (6): Linear(in_features=15, out_features=183, bias=True)\n",
      "    )\n",
      "  )\n",
      ")\n",
      "GPU available: False, used: False\n",
      "TPU available: False, using: 0 TPU cores\n",
      "HPU available: False, using: 0 HPUs\n",
      "\n",
      "  | Name    | Type          | Params | Mode  | In sizes | Out sizes\n",
      "-------------------------------------------------------------------------\n",
      "0 | loss_fn | MSELoss       | 0      | train | ?        | ?        \n",
      "1 | norm_in | Normalization | 0      | train | [1, 183] | [1, 183] \n",
      "2 | encoder | FeedForward   | 3.0 K  | train | [1, 183] | [1, 2]   \n",
      "3 | decoder | FeedForward   | 3.2 K  | train | ?        | ?        \n",
      "-------------------------------------------------------------------------\n",
      "6.2 K     Trainable params\n",
      "0         Non-trainable params\n",
      "6.2 K     Total params\n",
      "0.025     Total estimated model params size (MB)\n",
      "INFO:deep_cartograph.tools.train_colvars.cv_calculator:Best model score: 0.002090535592287779\n",
      "INFO:deep_cartograph.tools.train_colvars.cv_calculator:Projecting reference data onto AE ...\n",
      "/home/pnavarro/repos/mlcolvar/mlcolvar/core/nn/utils.py:13: TracerWarning: Converting a tensor to a Python number might cause the trace to be incorrect. We can't record the data flow of Python values, so this value will be treated as a constant in the future. This means that the trace might not generalize to other inputs!\n",
      "  sp0 = F.softplus(torch.zeros(1), self.beta, self.threshold).item()\n",
      "INFO:deep_cartograph.tools.train_colvars.cv_calculator:Collective variable weights saved to /home/pnavarro/repos/NostrumBD/CV_learning/deep_cartograph/deep_cartograph/data/calpha_transitions/experiments/output/2olu_A-2olv_A-1/torsions/dr_0.05/train_colvars/ae/weights.ptc\n",
      "INFO:deep_cartograph.tools.train_colvars.train_colvars_workflow:Projecting colvars file: /home/pnavarro/repos/NostrumBD/CV_learning/deep_cartograph/deep_cartograph/data/calpha_transitions/experiments/output/2olu_A-2olv_A-1/torsions/dr_0.05/compute_features/2olu_A-2olv_A-1/colvars.dat\n",
      "INFO:deep_cartograph.tools.train_colvars.train_colvars_workflow:Corresponding trajectory file: /home/pnavarro/repos/NostrumBD/CV_learning/deep_cartograph/deep_cartograph/data/calpha_transitions/input/2olu_A-2olv_A-1/2olu_A-2olv_A-1.dcd\n",
      "INFO:deep_cartograph.tools.train_colvars.train_colvars_workflow:Corresponding topology file: /home/pnavarro/repos/NostrumBD/CV_learning/deep_cartograph/deep_cartograph/data/calpha_transitions/input/2olu_A-2olv_A-1/2olu_A-2olv_A-1.pdb\n",
      "INFO:deep_cartograph.tools.train_colvars.cv_calculator:Projecting features onto AE ...\n",
      "INFO:deep_cartograph.modules.figures.figures:Computing FES(AE 1, AE 2)...\n",
      "/home/pnavarro/repos/NostrumBD/CV_learning/deep_cartograph/deep_cartograph/modules/figures/figures.py:129: UserWarning: No artists with labels found to put in legend.  Note that artists whose label start with an underscore are ignored when legend() is called with no argument.\n",
      "  ax.legend(fontsize = font_size)\n",
      "INFO:deep_cartograph.tools.train_colvars.cv_calculator:Reading training data from colvars files...\n",
      "INFO:deep_cartograph.tools.train_colvars.cv_calculator:Number of features: 183\n",
      "/home/pnavarro/repos/mlcolvar/mlcolvar/utils/timelagged.py:140: UserWarning: Monitoring the progress for the search of time-lagged configurations with a progress_bar requires `tqdm`.\n",
      "  warnings.warn(\n",
      "/home/pnavarro/repos/mlcolvar/mlcolvar/utils/timelagged.py:186: UserWarning: Creating a tensor from a list of numpy.ndarrays is extremely slow. Please consider converting the list to a single numpy.ndarray with numpy.array() before converting to a tensor. (Triggered internally at ../torch/csrc/utils/tensor_new.cpp:275.)\n",
      "  x_t = torch.stack(x_t) if type(x) == torch.Tensor else torch.Tensor(x_t)\n",
      "INFO:deep_cartograph.tools.train_colvars.cv_calculator:Number of samples: 335\n",
      "INFO:deep_cartograph.tools.train_colvars.cv_calculator:Calculating DeepTICA ...\n",
      "INFO:deep_cartograph.tools.train_colvars.cv_calculator:Training DeepTICA ...\n",
      "INFO:deep_cartograph.tools.train_colvars.cv_calculator:Model architecture: DeepTICA(\n",
      "  (loss_fn): ReduceEigenvaluesLoss()\n",
      "  (norm_in): Normalization(in_features=183, out_features=183, mode=mean_std)\n",
      "  (nn): FeedForward(\n",
      "    (nn): Sequential(\n",
      "      (0): Linear(in_features=183, out_features=15, bias=True)\n",
      "      (1): Shifted_Softplus(beta=1, threshold=20)\n",
      "      (2): Dropout(p=0.05, inplace=False)\n",
      "      (3): Linear(in_features=15, out_features=15, bias=True)\n",
      "      (4): Shifted_Softplus(beta=1, threshold=20)\n",
      "      (5): Dropout(p=0.05, inplace=False)\n",
      "      (6): Linear(in_features=15, out_features=2, bias=True)\n",
      "    )\n",
      "  )\n",
      "  (tica): TICA(in_features=2, out_features=2)\n",
      ")\n",
      "GPU available: False, used: False\n",
      "TPU available: False, using: 0 TPU cores\n",
      "HPU available: False, using: 0 HPUs\n",
      "\n",
      "  | Name    | Type                  | Params | Mode  | In sizes | Out sizes\n",
      "---------------------------------------------------------------------------------\n",
      "0 | loss_fn | ReduceEigenvaluesLoss | 0      | train | ?        | ?        \n",
      "1 | norm_in | Normalization         | 0      | train | [1, 183] | [1, 183] \n",
      "2 | nn      | FeedForward           | 3.0 K  | train | [1, 183] | [1, 2]   \n",
      "3 | tica    | TICA                  | 0      | train | [1, 2]   | [1, 2]   \n",
      "---------------------------------------------------------------------------------\n",
      "3.0 K     Trainable params\n",
      "0         Non-trainable params\n",
      "3.0 K     Total params\n",
      "0.012     Total estimated model params size (MB)\n",
      "INFO:deep_cartograph.tools.train_colvars.cv_calculator:Best model score: -191.69259643554688\n",
      "/home/pnavarro/repos/mlcolvar/mlcolvar/utils/plot.py:254: UserWarning: Data has no positive values, and therefore cannot be log-scaled.\n",
      "  ax.set_yscale(yscale)\n",
      "INFO:deep_cartograph.tools.train_colvars.cv_calculator:Projecting reference data onto DeepTICA ...\n",
      "INFO:deep_cartograph.tools.train_colvars.cv_calculator:Took 67 epochs\n",
      "INFO:deep_cartograph.tools.train_colvars.cv_calculator:Eigenvalue 1: 3.332267999649048\n",
      "INFO:deep_cartograph.tools.train_colvars.cv_calculator:Eigenvalue 2: -1.2842117547988892\n",
      "/home/pnavarro/repos/mlcolvar/mlcolvar/core/nn/utils.py:13: TracerWarning: Converting a tensor to a Python number might cause the trace to be incorrect. We can't record the data flow of Python values, so this value will be treated as a constant in the future. This means that the trace might not generalize to other inputs!\n",
      "  sp0 = F.softplus(torch.zeros(1), self.beta, self.threshold).item()\n",
      "INFO:deep_cartograph.tools.train_colvars.cv_calculator:Collective variable weights saved to /home/pnavarro/repos/NostrumBD/CV_learning/deep_cartograph/deep_cartograph/data/calpha_transitions/experiments/output/2olu_A-2olv_A-1/torsions/dr_0.05/train_colvars/deep_tica/weights.ptc\n",
      "INFO:deep_cartograph.tools.train_colvars.train_colvars_workflow:Projecting colvars file: /home/pnavarro/repos/NostrumBD/CV_learning/deep_cartograph/deep_cartograph/data/calpha_transitions/experiments/output/2olu_A-2olv_A-1/torsions/dr_0.05/compute_features/2olu_A-2olv_A-1/colvars.dat\n",
      "INFO:deep_cartograph.tools.train_colvars.train_colvars_workflow:Corresponding trajectory file: /home/pnavarro/repos/NostrumBD/CV_learning/deep_cartograph/deep_cartograph/data/calpha_transitions/input/2olu_A-2olv_A-1/2olu_A-2olv_A-1.dcd\n",
      "INFO:deep_cartograph.tools.train_colvars.train_colvars_workflow:Corresponding topology file: /home/pnavarro/repos/NostrumBD/CV_learning/deep_cartograph/deep_cartograph/data/calpha_transitions/input/2olu_A-2olv_A-1/2olu_A-2olv_A-1.pdb\n",
      "INFO:deep_cartograph.tools.train_colvars.cv_calculator:Projecting features onto DeepTICA ...\n",
      "INFO:deep_cartograph.modules.figures.figures:Computing FES(DeepTIC 1, DeepTIC 2)...\n",
      "/home/pnavarro/repos/NostrumBD/CV_learning/deep_cartograph/deep_cartograph/modules/figures/figures.py:129: UserWarning: No artists with labels found to put in legend.  Note that artists whose label start with an underscore are ignored when legend() is called with no argument.\n",
      "  ax.legend(fontsize = font_size)\n",
      "INFO:deep_cartograph:Elapsed time (Train colvars): 00 h 00 min 22 s\n",
      "INFO:deep_cartograph:Total elapsed time: 00 h 00 min 45 s\n",
      "INFO:deep_cartograph:================\n",
      "INFO:deep_cartograph:Compute features\n",
      "INFO:deep_cartograph:================\n",
      "INFO:deep_cartograph:Trajectory file: /home/pnavarro/repos/NostrumBD/CV_learning/deep_cartograph/deep_cartograph/data/calpha_transitions/input/2olu_A-2olv_A-1/2olu_A-2olv_A-1.dcd\n",
      "/home/pnavarro/miniforge3/envs/deep_cartograph/lib/python3.10/site-packages/MDAnalysis/topology/PDBParser.py:317: UserWarning: Element information is missing, elements attribute will not be populated. If needed these can be guessed using MDAnalysis.topology.guessers.\n",
      "  warnings.warn(\"Element information is missing, elements attribute \"\n",
      "/home/pnavarro/miniforge3/envs/deep_cartograph/lib/python3.10/site-packages/MDAnalysis/coordinates/PDB.py:747: UserWarning: Unit cell dimensions not found. CRYST1 record set to unitary values.\n",
      "  warnings.warn(\"Unit cell dimensions not found. \"\n",
      "/home/pnavarro/miniforge3/envs/deep_cartograph/lib/python3.10/site-packages/MDAnalysis/coordinates/PDB.py:1078: UserWarning: Found no information for attr: 'elements' Using default value of ' '\n",
      "  warnings.warn(\"Found no information for attr: '{}'\"\n",
      "/home/pnavarro/miniforge3/envs/deep_cartograph/lib/python3.10/site-packages/MDAnalysis/coordinates/PDB.py:429: UserWarning: 1 A^3 CRYST1 record, this is usually a placeholder. Unit cell dimensions will be set to None.\n",
      "  warnings.warn(\"1 A^3 CRYST1 record,\"\n",
      "INFO:deep_cartograph.modules.plumed.input_file.input_file:Found 1186 features for tor\n",
      "INFO:deep_cartograph.modules.plumed.utils:Executing PLUMED driver command: plumed driver --plumed /home/pnavarro/repos/NostrumBD/CV_learning/deep_cartograph/deep_cartograph/data/calpha_transitions/experiments/output/2olu_A-2olv_A-1/torsions/dr_0.1/compute_features/2olu_A-2olv_A-1/torsions.dat --mf_dcd /home/pnavarro/repos/NostrumBD/CV_learning/deep_cartograph/deep_cartograph/data/calpha_transitions/input/2olu_A-2olv_A-1/2olu_A-2olv_A-1.dcd --natoms 596\n",
      "INFO:deep_cartograph:Elapsed time (Compute features): 00 h 00 min 01 s\n",
      "INFO:deep_cartograph:==================\n",
      "INFO:deep_cartograph:Filtering features\n",
      "INFO:deep_cartograph:==================\n",
      "INFO:deep_cartograph:Finding the features that contains the most information about the transitions or conformational changes.\n",
      "INFO:deep_cartograph:The following algorithms are available:\n",
      "INFO:deep_cartograph:- Hartigan's dip test filter. Keeps features that are not unimodal.\n",
      "INFO:deep_cartograph:- Shannon entropy filter. Keeps features with entropy greater than a threshold.\n",
      "INFO:deep_cartograph:- Standard deviation filter. Keeps features with standard deviation greater than a threshold.\n",
      "INFO:deep_cartograph:Note that the all features must be in the same units to apply the entropy and standard deviation filters meaningfully.\n",
      "INFO:deep_cartograph:Initial size of features set: 1186.\n",
      "INFO:deep_cartograph.tools.filter_features.filtering:Computing dip test.\n",
      "INFO:deep_cartograph.tools.filter_features.filtering:Filtered 1003 features.\n",
      "INFO:deep_cartograph:Elapsed time (Filter features): 00 h 00 min 23 s\n",
      "INFO:deep_cartograph.modules.common.common: Using features in /home/pnavarro/repos/NostrumBD/CV_learning/deep_cartograph/deep_cartograph/data/calpha_transitions/experiments/output/2olu_A-2olv_A-1/torsions/dr_0.1/filter_features/filtered_features.txt\n",
      "INFO:deep_cartograph:================================\n",
      "INFO:deep_cartograph:Training of Collective Variables\n",
      "INFO:deep_cartograph:================================\n",
      "INFO:deep_cartograph:Training of collective variables using the mlcolvar library.\n",
      "INFO:deep_cartograph.tools.train_colvars.train_colvars_workflow:Collective variables to compute: ['ae', 'deep_tica']\n",
      "INFO:deep_cartograph.tools.train_colvars.cv_calculator:Reading training data from colvars files...\n",
      "INFO:deep_cartograph.tools.train_colvars.cv_calculator:Number of features: 183\n",
      "INFO:deep_cartograph.tools.train_colvars.cv_calculator:Number of samples: 338\n",
      "INFO:deep_cartograph.tools.train_colvars.cv_calculator:Calculating AE ...\n",
      "INFO:deep_cartograph.tools.train_colvars.cv_calculator:Training AE ...\n",
      "INFO:deep_cartograph.tools.train_colvars.cv_calculator:Model architecture: AutoEncoderCV(\n",
      "  (loss_fn): MSELoss()\n",
      "  (norm_in): Normalization(in_features=183, out_features=183, mode=mean_std)\n",
      "  (encoder): FeedForward(\n",
      "    (nn): Sequential(\n",
      "      (0): Linear(in_features=183, out_features=15, bias=True)\n",
      "      (1): Shifted_Softplus(beta=1, threshold=20)\n",
      "      (2): Dropout(p=0.1, inplace=False)\n",
      "      (3): Linear(in_features=15, out_features=15, bias=True)\n",
      "      (4): Shifted_Softplus(beta=1, threshold=20)\n",
      "      (5): Dropout(p=0.1, inplace=False)\n",
      "      (6): Linear(in_features=15, out_features=2, bias=True)\n",
      "    )\n",
      "  )\n",
      "  (decoder): FeedForward(\n",
      "    (nn): Sequential(\n",
      "      (0): Linear(in_features=2, out_features=15, bias=True)\n",
      "      (1): Shifted_Softplus(beta=1, threshold=20)\n",
      "      (2): Dropout(p=0.1, inplace=False)\n",
      "      (3): Linear(in_features=15, out_features=15, bias=True)\n",
      "      (4): Shifted_Softplus(beta=1, threshold=20)\n",
      "      (5): Dropout(p=0.1, inplace=False)\n",
      "      (6): Linear(in_features=15, out_features=183, bias=True)\n",
      "    )\n",
      "  )\n",
      ")\n",
      "GPU available: False, used: False\n",
      "TPU available: False, using: 0 TPU cores\n",
      "HPU available: False, using: 0 HPUs\n",
      "\n",
      "  | Name    | Type          | Params | Mode  | In sizes | Out sizes\n",
      "-------------------------------------------------------------------------\n",
      "0 | loss_fn | MSELoss       | 0      | train | ?        | ?        \n",
      "1 | norm_in | Normalization | 0      | train | [1, 183] | [1, 183] \n",
      "2 | encoder | FeedForward   | 3.0 K  | train | [1, 183] | [1, 2]   \n",
      "3 | decoder | FeedForward   | 3.2 K  | train | ?        | ?        \n",
      "-------------------------------------------------------------------------\n",
      "6.2 K     Trainable params\n",
      "0         Non-trainable params\n",
      "6.2 K     Total params\n",
      "0.025     Total estimated model params size (MB)\n",
      "INFO:deep_cartograph.tools.train_colvars.cv_calculator:Best model score: 0.002679416909813881\n",
      "INFO:deep_cartograph.tools.train_colvars.cv_calculator:Projecting reference data onto AE ...\n",
      "/home/pnavarro/repos/mlcolvar/mlcolvar/core/nn/utils.py:13: TracerWarning: Converting a tensor to a Python number might cause the trace to be incorrect. We can't record the data flow of Python values, so this value will be treated as a constant in the future. This means that the trace might not generalize to other inputs!\n",
      "  sp0 = F.softplus(torch.zeros(1), self.beta, self.threshold).item()\n",
      "INFO:deep_cartograph.tools.train_colvars.cv_calculator:Collective variable weights saved to /home/pnavarro/repos/NostrumBD/CV_learning/deep_cartograph/deep_cartograph/data/calpha_transitions/experiments/output/2olu_A-2olv_A-1/torsions/dr_0.1/train_colvars/ae/weights.ptc\n",
      "INFO:deep_cartograph.tools.train_colvars.train_colvars_workflow:Projecting colvars file: /home/pnavarro/repos/NostrumBD/CV_learning/deep_cartograph/deep_cartograph/data/calpha_transitions/experiments/output/2olu_A-2olv_A-1/torsions/dr_0.1/compute_features/2olu_A-2olv_A-1/colvars.dat\n",
      "INFO:deep_cartograph.tools.train_colvars.train_colvars_workflow:Corresponding trajectory file: /home/pnavarro/repos/NostrumBD/CV_learning/deep_cartograph/deep_cartograph/data/calpha_transitions/input/2olu_A-2olv_A-1/2olu_A-2olv_A-1.dcd\n",
      "INFO:deep_cartograph.tools.train_colvars.train_colvars_workflow:Corresponding topology file: /home/pnavarro/repos/NostrumBD/CV_learning/deep_cartograph/deep_cartograph/data/calpha_transitions/input/2olu_A-2olv_A-1/2olu_A-2olv_A-1.pdb\n",
      "INFO:deep_cartograph.tools.train_colvars.cv_calculator:Projecting features onto AE ...\n",
      "INFO:deep_cartograph.modules.figures.figures:Computing FES(AE 1, AE 2)...\n",
      "/home/pnavarro/repos/NostrumBD/CV_learning/deep_cartograph/deep_cartograph/modules/figures/figures.py:129: UserWarning: No artists with labels found to put in legend.  Note that artists whose label start with an underscore are ignored when legend() is called with no argument.\n",
      "  ax.legend(fontsize = font_size)\n",
      "INFO:deep_cartograph.tools.train_colvars.cv_calculator:Reading training data from colvars files...\n",
      "INFO:deep_cartograph.tools.train_colvars.cv_calculator:Number of features: 183\n",
      "/home/pnavarro/repos/mlcolvar/mlcolvar/utils/timelagged.py:140: UserWarning: Monitoring the progress for the search of time-lagged configurations with a progress_bar requires `tqdm`.\n",
      "  warnings.warn(\n",
      "INFO:deep_cartograph.tools.train_colvars.cv_calculator:Number of samples: 335\n",
      "INFO:deep_cartograph.tools.train_colvars.cv_calculator:Calculating DeepTICA ...\n",
      "INFO:deep_cartograph.tools.train_colvars.cv_calculator:Training DeepTICA ...\n",
      "INFO:deep_cartograph.tools.train_colvars.cv_calculator:Model architecture: DeepTICA(\n",
      "  (loss_fn): ReduceEigenvaluesLoss()\n",
      "  (norm_in): Normalization(in_features=183, out_features=183, mode=mean_std)\n",
      "  (nn): FeedForward(\n",
      "    (nn): Sequential(\n",
      "      (0): Linear(in_features=183, out_features=15, bias=True)\n",
      "      (1): Shifted_Softplus(beta=1, threshold=20)\n",
      "      (2): Dropout(p=0.1, inplace=False)\n",
      "      (3): Linear(in_features=15, out_features=15, bias=True)\n",
      "      (4): Shifted_Softplus(beta=1, threshold=20)\n",
      "      (5): Dropout(p=0.1, inplace=False)\n",
      "      (6): Linear(in_features=15, out_features=2, bias=True)\n",
      "    )\n",
      "  )\n",
      "  (tica): TICA(in_features=2, out_features=2)\n",
      ")\n",
      "GPU available: False, used: False\n",
      "TPU available: False, using: 0 TPU cores\n",
      "HPU available: False, using: 0 HPUs\n",
      "\n",
      "  | Name    | Type                  | Params | Mode  | In sizes | Out sizes\n",
      "---------------------------------------------------------------------------------\n",
      "0 | loss_fn | ReduceEigenvaluesLoss | 0      | train | ?        | ?        \n",
      "1 | norm_in | Normalization         | 0      | train | [1, 183] | [1, 183] \n",
      "2 | nn      | FeedForward           | 3.0 K  | train | [1, 183] | [1, 2]   \n",
      "3 | tica    | TICA                  | 0      | train | [1, 2]   | [1, 2]   \n",
      "---------------------------------------------------------------------------------\n",
      "3.0 K     Trainable params\n",
      "0         Non-trainable params\n",
      "3.0 K     Total params\n",
      "0.012     Total estimated model params size (MB)\n",
      "INFO:deep_cartograph.tools.train_colvars.cv_calculator:Best model score: -295.9145812988281\n",
      "/home/pnavarro/repos/mlcolvar/mlcolvar/utils/plot.py:254: UserWarning: Data has no positive values, and therefore cannot be log-scaled.\n",
      "  ax.set_yscale(yscale)\n",
      "INFO:deep_cartograph.tools.train_colvars.cv_calculator:Projecting reference data onto DeepTICA ...\n",
      "INFO:deep_cartograph.tools.train_colvars.cv_calculator:Took 41 epochs\n",
      "INFO:deep_cartograph.tools.train_colvars.cv_calculator:Eigenvalue 1: 3.3461179733276367\n",
      "INFO:deep_cartograph.tools.train_colvars.cv_calculator:Eigenvalue 2: -2.142871856689453\n",
      "/home/pnavarro/repos/mlcolvar/mlcolvar/core/nn/utils.py:13: TracerWarning: Converting a tensor to a Python number might cause the trace to be incorrect. We can't record the data flow of Python values, so this value will be treated as a constant in the future. This means that the trace might not generalize to other inputs!\n",
      "  sp0 = F.softplus(torch.zeros(1), self.beta, self.threshold).item()\n",
      "INFO:deep_cartograph.tools.train_colvars.cv_calculator:Collective variable weights saved to /home/pnavarro/repos/NostrumBD/CV_learning/deep_cartograph/deep_cartograph/data/calpha_transitions/experiments/output/2olu_A-2olv_A-1/torsions/dr_0.1/train_colvars/deep_tica/weights.ptc\n",
      "INFO:deep_cartograph.tools.train_colvars.train_colvars_workflow:Projecting colvars file: /home/pnavarro/repos/NostrumBD/CV_learning/deep_cartograph/deep_cartograph/data/calpha_transitions/experiments/output/2olu_A-2olv_A-1/torsions/dr_0.1/compute_features/2olu_A-2olv_A-1/colvars.dat\n",
      "INFO:deep_cartograph.tools.train_colvars.train_colvars_workflow:Corresponding trajectory file: /home/pnavarro/repos/NostrumBD/CV_learning/deep_cartograph/deep_cartograph/data/calpha_transitions/input/2olu_A-2olv_A-1/2olu_A-2olv_A-1.dcd\n",
      "INFO:deep_cartograph.tools.train_colvars.train_colvars_workflow:Corresponding topology file: /home/pnavarro/repos/NostrumBD/CV_learning/deep_cartograph/deep_cartograph/data/calpha_transitions/input/2olu_A-2olv_A-1/2olu_A-2olv_A-1.pdb\n",
      "INFO:deep_cartograph.tools.train_colvars.cv_calculator:Projecting features onto DeepTICA ...\n",
      "INFO:deep_cartograph.modules.figures.figures:Computing FES(DeepTIC 1, DeepTIC 2)...\n",
      "/home/pnavarro/repos/NostrumBD/CV_learning/deep_cartograph/deep_cartograph/modules/figures/figures.py:129: UserWarning: No artists with labels found to put in legend.  Note that artists whose label start with an underscore are ignored when legend() is called with no argument.\n",
      "  ax.legend(fontsize = font_size)\n",
      "INFO:deep_cartograph:Elapsed time (Train colvars): 00 h 00 min 26 s\n",
      "INFO:deep_cartograph:Total elapsed time: 00 h 00 min 51 s\n",
      "INFO:deep_cartograph:================\n",
      "INFO:deep_cartograph:Compute features\n",
      "INFO:deep_cartograph:================\n",
      "INFO:deep_cartograph:Trajectory file: /home/pnavarro/repos/NostrumBD/CV_learning/deep_cartograph/deep_cartograph/data/calpha_transitions/input/2olu_A-2olv_A-1/2olu_A-2olv_A-1.dcd\n",
      "/home/pnavarro/miniforge3/envs/deep_cartograph/lib/python3.10/site-packages/MDAnalysis/topology/PDBParser.py:317: UserWarning: Element information is missing, elements attribute will not be populated. If needed these can be guessed using MDAnalysis.topology.guessers.\n",
      "  warnings.warn(\"Element information is missing, elements attribute \"\n",
      "/home/pnavarro/miniforge3/envs/deep_cartograph/lib/python3.10/site-packages/MDAnalysis/coordinates/PDB.py:747: UserWarning: Unit cell dimensions not found. CRYST1 record set to unitary values.\n",
      "  warnings.warn(\"Unit cell dimensions not found. \"\n",
      "/home/pnavarro/miniforge3/envs/deep_cartograph/lib/python3.10/site-packages/MDAnalysis/coordinates/PDB.py:1078: UserWarning: Found no information for attr: 'elements' Using default value of ' '\n",
      "  warnings.warn(\"Found no information for attr: '{}'\"\n",
      "/home/pnavarro/miniforge3/envs/deep_cartograph/lib/python3.10/site-packages/MDAnalysis/coordinates/PDB.py:429: UserWarning: 1 A^3 CRYST1 record, this is usually a placeholder. Unit cell dimensions will be set to None.\n",
      "  warnings.warn(\"1 A^3 CRYST1 record,\"\n",
      "INFO:deep_cartograph.modules.plumed.input_file.input_file:Found 1186 features for tor\n",
      "INFO:deep_cartograph.modules.plumed.utils:Executing PLUMED driver command: plumed driver --plumed /home/pnavarro/repos/NostrumBD/CV_learning/deep_cartograph/deep_cartograph/data/calpha_transitions/experiments/output/2olu_A-2olv_A-1/torsions/dr_0.2/compute_features/2olu_A-2olv_A-1/torsions.dat --mf_dcd /home/pnavarro/repos/NostrumBD/CV_learning/deep_cartograph/deep_cartograph/data/calpha_transitions/input/2olu_A-2olv_A-1/2olu_A-2olv_A-1.dcd --natoms 596\n",
      "INFO:deep_cartograph:Elapsed time (Compute features): 00 h 00 min 01 s\n",
      "INFO:deep_cartograph:==================\n",
      "INFO:deep_cartograph:Filtering features\n",
      "INFO:deep_cartograph:==================\n",
      "INFO:deep_cartograph:Finding the features that contains the most information about the transitions or conformational changes.\n",
      "INFO:deep_cartograph:The following algorithms are available:\n",
      "INFO:deep_cartograph:- Hartigan's dip test filter. Keeps features that are not unimodal.\n",
      "INFO:deep_cartograph:- Shannon entropy filter. Keeps features with entropy greater than a threshold.\n",
      "INFO:deep_cartograph:- Standard deviation filter. Keeps features with standard deviation greater than a threshold.\n",
      "INFO:deep_cartograph:Note that the all features must be in the same units to apply the entropy and standard deviation filters meaningfully.\n",
      "INFO:deep_cartograph:Initial size of features set: 1186.\n",
      "INFO:deep_cartograph.tools.filter_features.filtering:Computing dip test.\n",
      "INFO:deep_cartograph.tools.filter_features.filtering:Filtered 1003 features.\n",
      "INFO:deep_cartograph:Elapsed time (Filter features): 00 h 00 min 23 s\n",
      "INFO:deep_cartograph.modules.common.common: Using features in /home/pnavarro/repos/NostrumBD/CV_learning/deep_cartograph/deep_cartograph/data/calpha_transitions/experiments/output/2olu_A-2olv_A-1/torsions/dr_0.2/filter_features/filtered_features.txt\n",
      "INFO:deep_cartograph:================================\n",
      "INFO:deep_cartograph:Training of Collective Variables\n",
      "INFO:deep_cartograph:================================\n",
      "INFO:deep_cartograph:Training of collective variables using the mlcolvar library.\n",
      "INFO:deep_cartograph.tools.train_colvars.train_colvars_workflow:Collective variables to compute: ['ae', 'deep_tica']\n",
      "INFO:deep_cartograph.tools.train_colvars.cv_calculator:Reading training data from colvars files...\n",
      "INFO:deep_cartograph.tools.train_colvars.cv_calculator:Number of features: 183\n",
      "INFO:deep_cartograph.tools.train_colvars.cv_calculator:Number of samples: 338\n",
      "INFO:deep_cartograph.tools.train_colvars.cv_calculator:Calculating AE ...\n",
      "INFO:deep_cartograph.tools.train_colvars.cv_calculator:Training AE ...\n",
      "INFO:deep_cartograph.tools.train_colvars.cv_calculator:Model architecture: AutoEncoderCV(\n",
      "  (loss_fn): MSELoss()\n",
      "  (norm_in): Normalization(in_features=183, out_features=183, mode=mean_std)\n",
      "  (encoder): FeedForward(\n",
      "    (nn): Sequential(\n",
      "      (0): Linear(in_features=183, out_features=15, bias=True)\n",
      "      (1): Shifted_Softplus(beta=1, threshold=20)\n",
      "      (2): Dropout(p=0.2, inplace=False)\n",
      "      (3): Linear(in_features=15, out_features=15, bias=True)\n",
      "      (4): Shifted_Softplus(beta=1, threshold=20)\n",
      "      (5): Dropout(p=0.2, inplace=False)\n",
      "      (6): Linear(in_features=15, out_features=2, bias=True)\n",
      "    )\n",
      "  )\n",
      "  (decoder): FeedForward(\n",
      "    (nn): Sequential(\n",
      "      (0): Linear(in_features=2, out_features=15, bias=True)\n",
      "      (1): Shifted_Softplus(beta=1, threshold=20)\n",
      "      (2): Dropout(p=0.2, inplace=False)\n",
      "      (3): Linear(in_features=15, out_features=15, bias=True)\n",
      "      (4): Shifted_Softplus(beta=1, threshold=20)\n",
      "      (5): Dropout(p=0.2, inplace=False)\n",
      "      (6): Linear(in_features=15, out_features=183, bias=True)\n",
      "    )\n",
      "  )\n",
      ")\n",
      "GPU available: False, used: False\n",
      "TPU available: False, using: 0 TPU cores\n",
      "HPU available: False, using: 0 HPUs\n",
      "\n",
      "  | Name    | Type          | Params | Mode  | In sizes | Out sizes\n",
      "-------------------------------------------------------------------------\n",
      "0 | loss_fn | MSELoss       | 0      | train | ?        | ?        \n",
      "1 | norm_in | Normalization | 0      | train | [1, 183] | [1, 183] \n",
      "2 | encoder | FeedForward   | 3.0 K  | train | [1, 183] | [1, 2]   \n",
      "3 | decoder | FeedForward   | 3.2 K  | train | ?        | ?        \n",
      "-------------------------------------------------------------------------\n",
      "6.2 K     Trainable params\n",
      "0         Non-trainable params\n",
      "6.2 K     Total params\n",
      "0.025     Total estimated model params size (MB)\n",
      "INFO:deep_cartograph.tools.train_colvars.cv_calculator:Best model score: 0.0030902798753231764\n",
      "INFO:deep_cartograph.tools.train_colvars.cv_calculator:Projecting reference data onto AE ...\n",
      "/home/pnavarro/repos/mlcolvar/mlcolvar/core/nn/utils.py:13: TracerWarning: Converting a tensor to a Python number might cause the trace to be incorrect. We can't record the data flow of Python values, so this value will be treated as a constant in the future. This means that the trace might not generalize to other inputs!\n",
      "  sp0 = F.softplus(torch.zeros(1), self.beta, self.threshold).item()\n",
      "INFO:deep_cartograph.tools.train_colvars.cv_calculator:Collective variable weights saved to /home/pnavarro/repos/NostrumBD/CV_learning/deep_cartograph/deep_cartograph/data/calpha_transitions/experiments/output/2olu_A-2olv_A-1/torsions/dr_0.2/train_colvars/ae/weights.ptc\n",
      "INFO:deep_cartograph.tools.train_colvars.train_colvars_workflow:Projecting colvars file: /home/pnavarro/repos/NostrumBD/CV_learning/deep_cartograph/deep_cartograph/data/calpha_transitions/experiments/output/2olu_A-2olv_A-1/torsions/dr_0.2/compute_features/2olu_A-2olv_A-1/colvars.dat\n",
      "INFO:deep_cartograph.tools.train_colvars.train_colvars_workflow:Corresponding trajectory file: /home/pnavarro/repos/NostrumBD/CV_learning/deep_cartograph/deep_cartograph/data/calpha_transitions/input/2olu_A-2olv_A-1/2olu_A-2olv_A-1.dcd\n",
      "INFO:deep_cartograph.tools.train_colvars.train_colvars_workflow:Corresponding topology file: /home/pnavarro/repos/NostrumBD/CV_learning/deep_cartograph/deep_cartograph/data/calpha_transitions/input/2olu_A-2olv_A-1/2olu_A-2olv_A-1.pdb\n",
      "INFO:deep_cartograph.tools.train_colvars.cv_calculator:Projecting features onto AE ...\n",
      "INFO:deep_cartograph.modules.figures.figures:Computing FES(AE 1, AE 2)...\n",
      "/home/pnavarro/repos/NostrumBD/CV_learning/deep_cartograph/deep_cartograph/modules/figures/figures.py:129: UserWarning: No artists with labels found to put in legend.  Note that artists whose label start with an underscore are ignored when legend() is called with no argument.\n",
      "  ax.legend(fontsize = font_size)\n",
      "INFO:deep_cartograph.tools.train_colvars.cv_calculator:Reading training data from colvars files...\n",
      "INFO:deep_cartograph.tools.train_colvars.cv_calculator:Number of features: 183\n",
      "/home/pnavarro/repos/mlcolvar/mlcolvar/utils/timelagged.py:140: UserWarning: Monitoring the progress for the search of time-lagged configurations with a progress_bar requires `tqdm`.\n",
      "  warnings.warn(\n",
      "INFO:deep_cartograph.tools.train_colvars.cv_calculator:Number of samples: 335\n",
      "INFO:deep_cartograph.tools.train_colvars.cv_calculator:Calculating DeepTICA ...\n",
      "INFO:deep_cartograph.tools.train_colvars.cv_calculator:Training DeepTICA ...\n",
      "INFO:deep_cartograph.tools.train_colvars.cv_calculator:Model architecture: DeepTICA(\n",
      "  (loss_fn): ReduceEigenvaluesLoss()\n",
      "  (norm_in): Normalization(in_features=183, out_features=183, mode=mean_std)\n",
      "  (nn): FeedForward(\n",
      "    (nn): Sequential(\n",
      "      (0): Linear(in_features=183, out_features=15, bias=True)\n",
      "      (1): Shifted_Softplus(beta=1, threshold=20)\n",
      "      (2): Dropout(p=0.2, inplace=False)\n",
      "      (3): Linear(in_features=15, out_features=15, bias=True)\n",
      "      (4): Shifted_Softplus(beta=1, threshold=20)\n",
      "      (5): Dropout(p=0.2, inplace=False)\n",
      "      (6): Linear(in_features=15, out_features=2, bias=True)\n",
      "    )\n",
      "  )\n",
      "  (tica): TICA(in_features=2, out_features=2)\n",
      ")\n",
      "GPU available: False, used: False\n",
      "TPU available: False, using: 0 TPU cores\n",
      "HPU available: False, using: 0 HPUs\n",
      "\n",
      "  | Name    | Type                  | Params | Mode  | In sizes | Out sizes\n",
      "---------------------------------------------------------------------------------\n",
      "0 | loss_fn | ReduceEigenvaluesLoss | 0      | train | ?        | ?        \n",
      "1 | norm_in | Normalization         | 0      | train | [1, 183] | [1, 183] \n",
      "2 | nn      | FeedForward           | 3.0 K  | train | [1, 183] | [1, 2]   \n",
      "3 | tica    | TICA                  | 0      | train | [1, 2]   | [1, 2]   \n",
      "---------------------------------------------------------------------------------\n",
      "3.0 K     Trainable params\n",
      "0         Non-trainable params\n",
      "3.0 K     Total params\n",
      "0.012     Total estimated model params size (MB)\n",
      "INFO:deep_cartograph.tools.train_colvars.cv_calculator:Best model score: -4.08977746963501\n",
      "/home/pnavarro/repos/mlcolvar/mlcolvar/utils/plot.py:254: UserWarning: Data has no positive values, and therefore cannot be log-scaled.\n",
      "  ax.set_yscale(yscale)\n",
      "INFO:deep_cartograph.tools.train_colvars.cv_calculator:Projecting reference data onto DeepTICA ...\n",
      "INFO:deep_cartograph.tools.train_colvars.cv_calculator:Took 4 epochs\n",
      "INFO:deep_cartograph.tools.train_colvars.cv_calculator:Eigenvalue 1: 1.204637885093689\n",
      "INFO:deep_cartograph.tools.train_colvars.cv_calculator:Eigenvalue 2: 0.6857615113258362\n",
      "/home/pnavarro/repos/mlcolvar/mlcolvar/core/nn/utils.py:13: TracerWarning: Converting a tensor to a Python number might cause the trace to be incorrect. We can't record the data flow of Python values, so this value will be treated as a constant in the future. This means that the trace might not generalize to other inputs!\n",
      "  sp0 = F.softplus(torch.zeros(1), self.beta, self.threshold).item()\n",
      "INFO:deep_cartograph.tools.train_colvars.cv_calculator:Collective variable weights saved to /home/pnavarro/repos/NostrumBD/CV_learning/deep_cartograph/deep_cartograph/data/calpha_transitions/experiments/output/2olu_A-2olv_A-1/torsions/dr_0.2/train_colvars/deep_tica/weights.ptc\n",
      "INFO:deep_cartograph.tools.train_colvars.train_colvars_workflow:Projecting colvars file: /home/pnavarro/repos/NostrumBD/CV_learning/deep_cartograph/deep_cartograph/data/calpha_transitions/experiments/output/2olu_A-2olv_A-1/torsions/dr_0.2/compute_features/2olu_A-2olv_A-1/colvars.dat\n",
      "INFO:deep_cartograph.tools.train_colvars.train_colvars_workflow:Corresponding trajectory file: /home/pnavarro/repos/NostrumBD/CV_learning/deep_cartograph/deep_cartograph/data/calpha_transitions/input/2olu_A-2olv_A-1/2olu_A-2olv_A-1.dcd\n",
      "INFO:deep_cartograph.tools.train_colvars.train_colvars_workflow:Corresponding topology file: /home/pnavarro/repos/NostrumBD/CV_learning/deep_cartograph/deep_cartograph/data/calpha_transitions/input/2olu_A-2olv_A-1/2olu_A-2olv_A-1.pdb\n",
      "INFO:deep_cartograph.tools.train_colvars.cv_calculator:Projecting features onto DeepTICA ...\n",
      "INFO:deep_cartograph.modules.figures.figures:Computing FES(DeepTIC 1, DeepTIC 2)...\n",
      "/home/pnavarro/repos/NostrumBD/CV_learning/deep_cartograph/deep_cartograph/modules/figures/figures.py:129: UserWarning: No artists with labels found to put in legend.  Note that artists whose label start with an underscore are ignored when legend() is called with no argument.\n",
      "  ax.legend(fontsize = font_size)\n",
      "INFO:deep_cartograph:Elapsed time (Train colvars): 00 h 00 min 28 s\n",
      "INFO:deep_cartograph:Total elapsed time: 00 h 00 min 53 s\n",
      "INFO:deep_cartograph:================\n",
      "INFO:deep_cartograph:Compute features\n",
      "INFO:deep_cartograph:================\n",
      "INFO:deep_cartograph:Trajectory file: /home/pnavarro/repos/NostrumBD/CV_learning/deep_cartograph/deep_cartograph/data/calpha_transitions/input/2olu_A-2olv_A-1/2olu_A-2olv_A-1.dcd\n",
      "/home/pnavarro/miniforge3/envs/deep_cartograph/lib/python3.10/site-packages/MDAnalysis/topology/PDBParser.py:317: UserWarning: Element information is missing, elements attribute will not be populated. If needed these can be guessed using MDAnalysis.topology.guessers.\n",
      "  warnings.warn(\"Element information is missing, elements attribute \"\n",
      "/home/pnavarro/miniforge3/envs/deep_cartograph/lib/python3.10/site-packages/MDAnalysis/coordinates/PDB.py:747: UserWarning: Unit cell dimensions not found. CRYST1 record set to unitary values.\n",
      "  warnings.warn(\"Unit cell dimensions not found. \"\n",
      "/home/pnavarro/miniforge3/envs/deep_cartograph/lib/python3.10/site-packages/MDAnalysis/coordinates/PDB.py:1078: UserWarning: Found no information for attr: 'elements' Using default value of ' '\n",
      "  warnings.warn(\"Found no information for attr: '{}'\"\n",
      "/home/pnavarro/miniforge3/envs/deep_cartograph/lib/python3.10/site-packages/MDAnalysis/coordinates/PDB.py:429: UserWarning: 1 A^3 CRYST1 record, this is usually a placeholder. Unit cell dimensions will be set to None.\n",
      "  warnings.warn(\"1 A^3 CRYST1 record,\"\n",
      "INFO:deep_cartograph.modules.plumed.input_file.input_file:Found 1186 features for tor\n",
      "INFO:deep_cartograph.modules.plumed.utils:Executing PLUMED driver command: plumed driver --plumed /home/pnavarro/repos/NostrumBD/CV_learning/deep_cartograph/deep_cartograph/data/calpha_transitions/experiments/output/2olu_A-2olv_A-1/torsions/dr_0.3/compute_features/2olu_A-2olv_A-1/torsions.dat --mf_dcd /home/pnavarro/repos/NostrumBD/CV_learning/deep_cartograph/deep_cartograph/data/calpha_transitions/input/2olu_A-2olv_A-1/2olu_A-2olv_A-1.dcd --natoms 596\n",
      "INFO:deep_cartograph:Elapsed time (Compute features): 00 h 00 min 01 s\n",
      "INFO:deep_cartograph:==================\n",
      "INFO:deep_cartograph:Filtering features\n",
      "INFO:deep_cartograph:==================\n",
      "INFO:deep_cartograph:Finding the features that contains the most information about the transitions or conformational changes.\n",
      "INFO:deep_cartograph:The following algorithms are available:\n",
      "INFO:deep_cartograph:- Hartigan's dip test filter. Keeps features that are not unimodal.\n",
      "INFO:deep_cartograph:- Shannon entropy filter. Keeps features with entropy greater than a threshold.\n",
      "INFO:deep_cartograph:- Standard deviation filter. Keeps features with standard deviation greater than a threshold.\n",
      "INFO:deep_cartograph:Note that the all features must be in the same units to apply the entropy and standard deviation filters meaningfully.\n",
      "INFO:deep_cartograph:Initial size of features set: 1186.\n",
      "INFO:deep_cartograph.tools.filter_features.filtering:Computing dip test.\n",
      "INFO:deep_cartograph.tools.filter_features.filtering:Filtered 1003 features.\n",
      "INFO:deep_cartograph:Elapsed time (Filter features): 00 h 00 min 22 s\n",
      "INFO:deep_cartograph.modules.common.common: Using features in /home/pnavarro/repos/NostrumBD/CV_learning/deep_cartograph/deep_cartograph/data/calpha_transitions/experiments/output/2olu_A-2olv_A-1/torsions/dr_0.3/filter_features/filtered_features.txt\n",
      "INFO:deep_cartograph:================================\n",
      "INFO:deep_cartograph:Training of Collective Variables\n",
      "INFO:deep_cartograph:================================\n",
      "INFO:deep_cartograph:Training of collective variables using the mlcolvar library.\n",
      "INFO:deep_cartograph.tools.train_colvars.train_colvars_workflow:Collective variables to compute: ['ae', 'deep_tica']\n",
      "INFO:deep_cartograph.tools.train_colvars.cv_calculator:Reading training data from colvars files...\n",
      "INFO:deep_cartograph.tools.train_colvars.cv_calculator:Number of features: 183\n",
      "INFO:deep_cartograph.tools.train_colvars.cv_calculator:Number of samples: 338\n",
      "INFO:deep_cartograph.tools.train_colvars.cv_calculator:Calculating AE ...\n",
      "INFO:deep_cartograph.tools.train_colvars.cv_calculator:Training AE ...\n",
      "INFO:deep_cartograph.tools.train_colvars.cv_calculator:Model architecture: AutoEncoderCV(\n",
      "  (loss_fn): MSELoss()\n",
      "  (norm_in): Normalization(in_features=183, out_features=183, mode=mean_std)\n",
      "  (encoder): FeedForward(\n",
      "    (nn): Sequential(\n",
      "      (0): Linear(in_features=183, out_features=15, bias=True)\n",
      "      (1): Shifted_Softplus(beta=1, threshold=20)\n",
      "      (2): Dropout(p=0.3, inplace=False)\n",
      "      (3): Linear(in_features=15, out_features=15, bias=True)\n",
      "      (4): Shifted_Softplus(beta=1, threshold=20)\n",
      "      (5): Dropout(p=0.3, inplace=False)\n",
      "      (6): Linear(in_features=15, out_features=2, bias=True)\n",
      "    )\n",
      "  )\n",
      "  (decoder): FeedForward(\n",
      "    (nn): Sequential(\n",
      "      (0): Linear(in_features=2, out_features=15, bias=True)\n",
      "      (1): Shifted_Softplus(beta=1, threshold=20)\n",
      "      (2): Dropout(p=0.3, inplace=False)\n",
      "      (3): Linear(in_features=15, out_features=15, bias=True)\n",
      "      (4): Shifted_Softplus(beta=1, threshold=20)\n",
      "      (5): Dropout(p=0.3, inplace=False)\n",
      "      (6): Linear(in_features=15, out_features=183, bias=True)\n",
      "    )\n",
      "  )\n",
      ")\n",
      "GPU available: False, used: False\n",
      "TPU available: False, using: 0 TPU cores\n",
      "HPU available: False, using: 0 HPUs\n",
      "\n",
      "  | Name    | Type          | Params | Mode  | In sizes | Out sizes\n",
      "-------------------------------------------------------------------------\n",
      "0 | loss_fn | MSELoss       | 0      | train | ?        | ?        \n",
      "1 | norm_in | Normalization | 0      | train | [1, 183] | [1, 183] \n",
      "2 | encoder | FeedForward   | 3.0 K  | train | [1, 183] | [1, 2]   \n",
      "3 | decoder | FeedForward   | 3.2 K  | train | ?        | ?        \n",
      "-------------------------------------------------------------------------\n",
      "6.2 K     Trainable params\n",
      "0         Non-trainable params\n",
      "6.2 K     Total params\n",
      "0.025     Total estimated model params size (MB)\n",
      "INFO:deep_cartograph.tools.train_colvars.cv_calculator:Best model score: 0.0038534828927367926\n",
      "INFO:deep_cartograph.tools.train_colvars.cv_calculator:Projecting reference data onto AE ...\n",
      "/home/pnavarro/repos/mlcolvar/mlcolvar/core/nn/utils.py:13: TracerWarning: Converting a tensor to a Python number might cause the trace to be incorrect. We can't record the data flow of Python values, so this value will be treated as a constant in the future. This means that the trace might not generalize to other inputs!\n",
      "  sp0 = F.softplus(torch.zeros(1), self.beta, self.threshold).item()\n",
      "INFO:deep_cartograph.tools.train_colvars.cv_calculator:Collective variable weights saved to /home/pnavarro/repos/NostrumBD/CV_learning/deep_cartograph/deep_cartograph/data/calpha_transitions/experiments/output/2olu_A-2olv_A-1/torsions/dr_0.3/train_colvars/ae/weights.ptc\n",
      "INFO:deep_cartograph.tools.train_colvars.train_colvars_workflow:Projecting colvars file: /home/pnavarro/repos/NostrumBD/CV_learning/deep_cartograph/deep_cartograph/data/calpha_transitions/experiments/output/2olu_A-2olv_A-1/torsions/dr_0.3/compute_features/2olu_A-2olv_A-1/colvars.dat\n",
      "INFO:deep_cartograph.tools.train_colvars.train_colvars_workflow:Corresponding trajectory file: /home/pnavarro/repos/NostrumBD/CV_learning/deep_cartograph/deep_cartograph/data/calpha_transitions/input/2olu_A-2olv_A-1/2olu_A-2olv_A-1.dcd\n",
      "INFO:deep_cartograph.tools.train_colvars.train_colvars_workflow:Corresponding topology file: /home/pnavarro/repos/NostrumBD/CV_learning/deep_cartograph/deep_cartograph/data/calpha_transitions/input/2olu_A-2olv_A-1/2olu_A-2olv_A-1.pdb\n",
      "INFO:deep_cartograph.tools.train_colvars.cv_calculator:Projecting features onto AE ...\n",
      "INFO:deep_cartograph.modules.figures.figures:Computing FES(AE 1, AE 2)...\n",
      "/home/pnavarro/repos/NostrumBD/CV_learning/deep_cartograph/deep_cartograph/modules/figures/figures.py:129: UserWarning: No artists with labels found to put in legend.  Note that artists whose label start with an underscore are ignored when legend() is called with no argument.\n",
      "  ax.legend(fontsize = font_size)\n",
      "INFO:deep_cartograph.tools.train_colvars.cv_calculator:Reading training data from colvars files...\n",
      "INFO:deep_cartograph.tools.train_colvars.cv_calculator:Number of features: 183\n",
      "/home/pnavarro/repos/mlcolvar/mlcolvar/utils/timelagged.py:140: UserWarning: Monitoring the progress for the search of time-lagged configurations with a progress_bar requires `tqdm`.\n",
      "  warnings.warn(\n",
      "INFO:deep_cartograph.tools.train_colvars.cv_calculator:Number of samples: 335\n",
      "INFO:deep_cartograph.tools.train_colvars.cv_calculator:Calculating DeepTICA ...\n",
      "INFO:deep_cartograph.tools.train_colvars.cv_calculator:Training DeepTICA ...\n",
      "INFO:deep_cartograph.tools.train_colvars.cv_calculator:Model architecture: DeepTICA(\n",
      "  (loss_fn): ReduceEigenvaluesLoss()\n",
      "  (norm_in): Normalization(in_features=183, out_features=183, mode=mean_std)\n",
      "  (nn): FeedForward(\n",
      "    (nn): Sequential(\n",
      "      (0): Linear(in_features=183, out_features=15, bias=True)\n",
      "      (1): Shifted_Softplus(beta=1, threshold=20)\n",
      "      (2): Dropout(p=0.3, inplace=False)\n",
      "      (3): Linear(in_features=15, out_features=15, bias=True)\n",
      "      (4): Shifted_Softplus(beta=1, threshold=20)\n",
      "      (5): Dropout(p=0.3, inplace=False)\n",
      "      (6): Linear(in_features=15, out_features=2, bias=True)\n",
      "    )\n",
      "  )\n",
      "  (tica): TICA(in_features=2, out_features=2)\n",
      ")\n",
      "GPU available: False, used: False\n",
      "TPU available: False, using: 0 TPU cores\n",
      "HPU available: False, using: 0 HPUs\n",
      "\n",
      "  | Name    | Type                  | Params | Mode  | In sizes | Out sizes\n",
      "---------------------------------------------------------------------------------\n",
      "0 | loss_fn | ReduceEigenvaluesLoss | 0      | train | ?        | ?        \n",
      "1 | norm_in | Normalization         | 0      | train | [1, 183] | [1, 183] \n",
      "2 | nn      | FeedForward           | 3.0 K  | train | [1, 183] | [1, 2]   \n",
      "3 | tica    | TICA                  | 0      | train | [1, 2]   | [1, 2]   \n",
      "---------------------------------------------------------------------------------\n",
      "3.0 K     Trainable params\n",
      "0         Non-trainable params\n",
      "3.0 K     Total params\n",
      "0.012     Total estimated model params size (MB)\n",
      "INFO:deep_cartograph.tools.train_colvars.cv_calculator:Best model score: -251.6625518798828\n",
      "/home/pnavarro/repos/mlcolvar/mlcolvar/utils/plot.py:254: UserWarning: Data has no positive values, and therefore cannot be log-scaled.\n",
      "  ax.set_yscale(yscale)\n",
      "INFO:deep_cartograph.tools.train_colvars.cv_calculator:Projecting reference data onto DeepTICA ...\n",
      "INFO:deep_cartograph.tools.train_colvars.cv_calculator:Took 102 epochs\n",
      "INFO:deep_cartograph.tools.train_colvars.cv_calculator:Eigenvalue 1: 3.6097335815429688\n",
      "INFO:deep_cartograph.tools.train_colvars.cv_calculator:Eigenvalue 2: -1.6659162044525146\n",
      "/home/pnavarro/repos/mlcolvar/mlcolvar/core/nn/utils.py:13: TracerWarning: Converting a tensor to a Python number might cause the trace to be incorrect. We can't record the data flow of Python values, so this value will be treated as a constant in the future. This means that the trace might not generalize to other inputs!\n",
      "  sp0 = F.softplus(torch.zeros(1), self.beta, self.threshold).item()\n",
      "INFO:deep_cartograph.tools.train_colvars.cv_calculator:Collective variable weights saved to /home/pnavarro/repos/NostrumBD/CV_learning/deep_cartograph/deep_cartograph/data/calpha_transitions/experiments/output/2olu_A-2olv_A-1/torsions/dr_0.3/train_colvars/deep_tica/weights.ptc\n",
      "INFO:deep_cartograph.tools.train_colvars.train_colvars_workflow:Projecting colvars file: /home/pnavarro/repos/NostrumBD/CV_learning/deep_cartograph/deep_cartograph/data/calpha_transitions/experiments/output/2olu_A-2olv_A-1/torsions/dr_0.3/compute_features/2olu_A-2olv_A-1/colvars.dat\n",
      "INFO:deep_cartograph.tools.train_colvars.train_colvars_workflow:Corresponding trajectory file: /home/pnavarro/repos/NostrumBD/CV_learning/deep_cartograph/deep_cartograph/data/calpha_transitions/input/2olu_A-2olv_A-1/2olu_A-2olv_A-1.dcd\n",
      "INFO:deep_cartograph.tools.train_colvars.train_colvars_workflow:Corresponding topology file: /home/pnavarro/repos/NostrumBD/CV_learning/deep_cartograph/deep_cartograph/data/calpha_transitions/input/2olu_A-2olv_A-1/2olu_A-2olv_A-1.pdb\n",
      "INFO:deep_cartograph.tools.train_colvars.cv_calculator:Projecting features onto DeepTICA ...\n",
      "INFO:deep_cartograph.modules.figures.figures:Computing FES(DeepTIC 1, DeepTIC 2)...\n",
      "/home/pnavarro/repos/NostrumBD/CV_learning/deep_cartograph/deep_cartograph/modules/figures/figures.py:129: UserWarning: No artists with labels found to put in legend.  Note that artists whose label start with an underscore are ignored when legend() is called with no argument.\n",
      "  ax.legend(fontsize = font_size)\n",
      "/home/pnavarro/repos/NostrumBD/CV_learning/deep_cartograph/deep_cartograph/modules/figures/figures.py:311: RuntimeWarning: More than 20 figures have been opened. Figures created through the pyplot interface (`matplotlib.pyplot.figure`) are retained until explicitly closed and may consume too much memory. (To control this warning, see the rcParam `figure.max_open_warning`). Consider using `matplotlib.pyplot.close()`.\n",
      "  fig, ax = plt.subplots()\n",
      "INFO:deep_cartograph:Elapsed time (Train colvars): 00 h 00 min 22 s\n",
      "INFO:deep_cartograph:Total elapsed time: 00 h 00 min 46 s\n",
      "INFO:deep_cartograph:================\n",
      "INFO:deep_cartograph:Compute features\n",
      "INFO:deep_cartograph:================\n",
      "INFO:deep_cartograph:Trajectory file: /home/pnavarro/repos/NostrumBD/CV_learning/deep_cartograph/deep_cartograph/data/calpha_transitions/input/2olu_A-2olv_A-1/2olu_A-2olv_A-1.dcd\n",
      "/home/pnavarro/miniforge3/envs/deep_cartograph/lib/python3.10/site-packages/MDAnalysis/topology/PDBParser.py:317: UserWarning: Element information is missing, elements attribute will not be populated. If needed these can be guessed using MDAnalysis.topology.guessers.\n",
      "  warnings.warn(\"Element information is missing, elements attribute \"\n",
      "/home/pnavarro/miniforge3/envs/deep_cartograph/lib/python3.10/site-packages/MDAnalysis/coordinates/PDB.py:747: UserWarning: Unit cell dimensions not found. CRYST1 record set to unitary values.\n",
      "  warnings.warn(\"Unit cell dimensions not found. \"\n",
      "/home/pnavarro/miniforge3/envs/deep_cartograph/lib/python3.10/site-packages/MDAnalysis/coordinates/PDB.py:1078: UserWarning: Found no information for attr: 'elements' Using default value of ' '\n",
      "  warnings.warn(\"Found no information for attr: '{}'\"\n",
      "/home/pnavarro/miniforge3/envs/deep_cartograph/lib/python3.10/site-packages/MDAnalysis/coordinates/PDB.py:429: UserWarning: 1 A^3 CRYST1 record, this is usually a placeholder. Unit cell dimensions will be set to None.\n",
      "  warnings.warn(\"1 A^3 CRYST1 record,\"\n",
      "INFO:deep_cartograph.modules.plumed.input_file.input_file:Found 1186 features for tor\n",
      "INFO:deep_cartograph.modules.plumed.utils:Executing PLUMED driver command: plumed driver --plumed /home/pnavarro/repos/NostrumBD/CV_learning/deep_cartograph/deep_cartograph/data/calpha_transitions/experiments/output/2olu_A-2olv_A-1/torsions/dr_0.4/compute_features/2olu_A-2olv_A-1/torsions.dat --mf_dcd /home/pnavarro/repos/NostrumBD/CV_learning/deep_cartograph/deep_cartograph/data/calpha_transitions/input/2olu_A-2olv_A-1/2olu_A-2olv_A-1.dcd --natoms 596\n",
      "INFO:deep_cartograph:Elapsed time (Compute features): 00 h 00 min 01 s\n",
      "INFO:deep_cartograph:==================\n",
      "INFO:deep_cartograph:Filtering features\n",
      "INFO:deep_cartograph:==================\n",
      "INFO:deep_cartograph:Finding the features that contains the most information about the transitions or conformational changes.\n",
      "INFO:deep_cartograph:The following algorithms are available:\n",
      "INFO:deep_cartograph:- Hartigan's dip test filter. Keeps features that are not unimodal.\n",
      "INFO:deep_cartograph:- Shannon entropy filter. Keeps features with entropy greater than a threshold.\n",
      "INFO:deep_cartograph:- Standard deviation filter. Keeps features with standard deviation greater than a threshold.\n",
      "INFO:deep_cartograph:Note that the all features must be in the same units to apply the entropy and standard deviation filters meaningfully.\n",
      "INFO:deep_cartograph:Initial size of features set: 1186.\n",
      "INFO:deep_cartograph.tools.filter_features.filtering:Computing dip test.\n",
      "INFO:deep_cartograph.tools.filter_features.filtering:Filtered 1003 features.\n",
      "INFO:deep_cartograph:Elapsed time (Filter features): 00 h 00 min 23 s\n",
      "INFO:deep_cartograph.modules.common.common: Using features in /home/pnavarro/repos/NostrumBD/CV_learning/deep_cartograph/deep_cartograph/data/calpha_transitions/experiments/output/2olu_A-2olv_A-1/torsions/dr_0.4/filter_features/filtered_features.txt\n",
      "INFO:deep_cartograph:================================\n",
      "INFO:deep_cartograph:Training of Collective Variables\n",
      "INFO:deep_cartograph:================================\n",
      "INFO:deep_cartograph:Training of collective variables using the mlcolvar library.\n",
      "INFO:deep_cartograph.tools.train_colvars.train_colvars_workflow:Collective variables to compute: ['ae', 'deep_tica']\n",
      "INFO:deep_cartograph.tools.train_colvars.cv_calculator:Reading training data from colvars files...\n",
      "INFO:deep_cartograph.tools.train_colvars.cv_calculator:Number of features: 183\n",
      "INFO:deep_cartograph.tools.train_colvars.cv_calculator:Number of samples: 338\n",
      "INFO:deep_cartograph.tools.train_colvars.cv_calculator:Calculating AE ...\n",
      "INFO:deep_cartograph.tools.train_colvars.cv_calculator:Training AE ...\n",
      "INFO:deep_cartograph.tools.train_colvars.cv_calculator:Model architecture: AutoEncoderCV(\n",
      "  (loss_fn): MSELoss()\n",
      "  (norm_in): Normalization(in_features=183, out_features=183, mode=mean_std)\n",
      "  (encoder): FeedForward(\n",
      "    (nn): Sequential(\n",
      "      (0): Linear(in_features=183, out_features=15, bias=True)\n",
      "      (1): Shifted_Softplus(beta=1, threshold=20)\n",
      "      (2): Dropout(p=0.4, inplace=False)\n",
      "      (3): Linear(in_features=15, out_features=15, bias=True)\n",
      "      (4): Shifted_Softplus(beta=1, threshold=20)\n",
      "      (5): Dropout(p=0.4, inplace=False)\n",
      "      (6): Linear(in_features=15, out_features=2, bias=True)\n",
      "    )\n",
      "  )\n",
      "  (decoder): FeedForward(\n",
      "    (nn): Sequential(\n",
      "      (0): Linear(in_features=2, out_features=15, bias=True)\n",
      "      (1): Shifted_Softplus(beta=1, threshold=20)\n",
      "      (2): Dropout(p=0.4, inplace=False)\n",
      "      (3): Linear(in_features=15, out_features=15, bias=True)\n",
      "      (4): Shifted_Softplus(beta=1, threshold=20)\n",
      "      (5): Dropout(p=0.4, inplace=False)\n",
      "      (6): Linear(in_features=15, out_features=183, bias=True)\n",
      "    )\n",
      "  )\n",
      ")\n",
      "GPU available: False, used: False\n",
      "TPU available: False, using: 0 TPU cores\n",
      "HPU available: False, using: 0 HPUs\n",
      "\n",
      "  | Name    | Type          | Params | Mode  | In sizes | Out sizes\n",
      "-------------------------------------------------------------------------\n",
      "0 | loss_fn | MSELoss       | 0      | train | ?        | ?        \n",
      "1 | norm_in | Normalization | 0      | train | [1, 183] | [1, 183] \n",
      "2 | encoder | FeedForward   | 3.0 K  | train | [1, 183] | [1, 2]   \n",
      "3 | decoder | FeedForward   | 3.2 K  | train | ?        | ?        \n",
      "-------------------------------------------------------------------------\n",
      "6.2 K     Trainable params\n",
      "0         Non-trainable params\n",
      "6.2 K     Total params\n",
      "0.025     Total estimated model params size (MB)\n",
      "INFO:deep_cartograph.tools.train_colvars.cv_calculator:Best model score: 0.005079671740531921\n",
      "/home/pnavarro/repos/mlcolvar/mlcolvar/utils/plot.py:233: RuntimeWarning: More than 20 figures have been opened. Figures created through the pyplot interface (`matplotlib.pyplot.figure`) are retained until explicitly closed and may consume too much memory. (To control this warning, see the rcParam `figure.max_open_warning`). Consider using `matplotlib.pyplot.close()`.\n",
      "  _, ax = plt.subplots(figsize=(5, 4), dpi=100)\n",
      "INFO:deep_cartograph.tools.train_colvars.cv_calculator:Projecting reference data onto AE ...\n",
      "/home/pnavarro/repos/mlcolvar/mlcolvar/core/nn/utils.py:13: TracerWarning: Converting a tensor to a Python number might cause the trace to be incorrect. We can't record the data flow of Python values, so this value will be treated as a constant in the future. This means that the trace might not generalize to other inputs!\n",
      "  sp0 = F.softplus(torch.zeros(1), self.beta, self.threshold).item()\n",
      "INFO:deep_cartograph.tools.train_colvars.cv_calculator:Collective variable weights saved to /home/pnavarro/repos/NostrumBD/CV_learning/deep_cartograph/deep_cartograph/data/calpha_transitions/experiments/output/2olu_A-2olv_A-1/torsions/dr_0.4/train_colvars/ae/weights.ptc\n",
      "INFO:deep_cartograph.tools.train_colvars.train_colvars_workflow:Projecting colvars file: /home/pnavarro/repos/NostrumBD/CV_learning/deep_cartograph/deep_cartograph/data/calpha_transitions/experiments/output/2olu_A-2olv_A-1/torsions/dr_0.4/compute_features/2olu_A-2olv_A-1/colvars.dat\n",
      "INFO:deep_cartograph.tools.train_colvars.train_colvars_workflow:Corresponding trajectory file: /home/pnavarro/repos/NostrumBD/CV_learning/deep_cartograph/deep_cartograph/data/calpha_transitions/input/2olu_A-2olv_A-1/2olu_A-2olv_A-1.dcd\n",
      "INFO:deep_cartograph.tools.train_colvars.train_colvars_workflow:Corresponding topology file: /home/pnavarro/repos/NostrumBD/CV_learning/deep_cartograph/deep_cartograph/data/calpha_transitions/input/2olu_A-2olv_A-1/2olu_A-2olv_A-1.pdb\n",
      "INFO:deep_cartograph.tools.train_colvars.cv_calculator:Projecting features onto AE ...\n",
      "INFO:deep_cartograph.modules.figures.figures:Computing FES(AE 1, AE 2)...\n",
      "/home/pnavarro/repos/NostrumBD/CV_learning/deep_cartograph/deep_cartograph/modules/figures/figures.py:129: UserWarning: No artists with labels found to put in legend.  Note that artists whose label start with an underscore are ignored when legend() is called with no argument.\n",
      "  ax.legend(fontsize = font_size)\n",
      "INFO:deep_cartograph.tools.train_colvars.cv_calculator:Reading training data from colvars files...\n",
      "INFO:deep_cartograph.tools.train_colvars.cv_calculator:Number of features: 183\n",
      "/home/pnavarro/repos/mlcolvar/mlcolvar/utils/timelagged.py:140: UserWarning: Monitoring the progress for the search of time-lagged configurations with a progress_bar requires `tqdm`.\n",
      "  warnings.warn(\n",
      "INFO:deep_cartograph.tools.train_colvars.cv_calculator:Number of samples: 335\n",
      "INFO:deep_cartograph.tools.train_colvars.cv_calculator:Calculating DeepTICA ...\n",
      "INFO:deep_cartograph.tools.train_colvars.cv_calculator:Training DeepTICA ...\n",
      "INFO:deep_cartograph.tools.train_colvars.cv_calculator:Model architecture: DeepTICA(\n",
      "  (loss_fn): ReduceEigenvaluesLoss()\n",
      "  (norm_in): Normalization(in_features=183, out_features=183, mode=mean_std)\n",
      "  (nn): FeedForward(\n",
      "    (nn): Sequential(\n",
      "      (0): Linear(in_features=183, out_features=15, bias=True)\n",
      "      (1): Shifted_Softplus(beta=1, threshold=20)\n",
      "      (2): Dropout(p=0.4, inplace=False)\n",
      "      (3): Linear(in_features=15, out_features=15, bias=True)\n",
      "      (4): Shifted_Softplus(beta=1, threshold=20)\n",
      "      (5): Dropout(p=0.4, inplace=False)\n",
      "      (6): Linear(in_features=15, out_features=2, bias=True)\n",
      "    )\n",
      "  )\n",
      "  (tica): TICA(in_features=2, out_features=2)\n",
      ")\n",
      "GPU available: False, used: False\n",
      "TPU available: False, using: 0 TPU cores\n",
      "HPU available: False, using: 0 HPUs\n",
      "\n",
      "  | Name    | Type                  | Params | Mode  | In sizes | Out sizes\n",
      "---------------------------------------------------------------------------------\n",
      "0 | loss_fn | ReduceEigenvaluesLoss | 0      | train | ?        | ?        \n",
      "1 | norm_in | Normalization         | 0      | train | [1, 183] | [1, 183] \n",
      "2 | nn      | FeedForward           | 3.0 K  | train | [1, 183] | [1, 2]   \n",
      "3 | tica    | TICA                  | 0      | train | [1, 2]   | [1, 2]   \n",
      "---------------------------------------------------------------------------------\n",
      "3.0 K     Trainable params\n",
      "0         Non-trainable params\n",
      "3.0 K     Total params\n",
      "0.012     Total estimated model params size (MB)\n",
      "INFO:deep_cartograph.tools.train_colvars.cv_calculator:Best model score: -1.704117774963379\n",
      "/home/pnavarro/repos/mlcolvar/mlcolvar/utils/plot.py:254: UserWarning: Data has no positive values, and therefore cannot be log-scaled.\n",
      "  ax.set_yscale(yscale)\n",
      "INFO:deep_cartograph.tools.train_colvars.cv_calculator:Projecting reference data onto DeepTICA ...\n",
      "INFO:deep_cartograph.tools.train_colvars.cv_calculator:Took 6 epochs\n",
      "INFO:deep_cartograph.tools.train_colvars.cv_calculator:Eigenvalue 1: 0.9553620219230652\n",
      "INFO:deep_cartograph.tools.train_colvars.cv_calculator:Eigenvalue 2: 0.888690710067749\n",
      "/home/pnavarro/repos/mlcolvar/mlcolvar/core/nn/utils.py:13: TracerWarning: Converting a tensor to a Python number might cause the trace to be incorrect. We can't record the data flow of Python values, so this value will be treated as a constant in the future. This means that the trace might not generalize to other inputs!\n",
      "  sp0 = F.softplus(torch.zeros(1), self.beta, self.threshold).item()\n",
      "INFO:deep_cartograph.tools.train_colvars.cv_calculator:Collective variable weights saved to /home/pnavarro/repos/NostrumBD/CV_learning/deep_cartograph/deep_cartograph/data/calpha_transitions/experiments/output/2olu_A-2olv_A-1/torsions/dr_0.4/train_colvars/deep_tica/weights.ptc\n",
      "INFO:deep_cartograph.tools.train_colvars.train_colvars_workflow:Projecting colvars file: /home/pnavarro/repos/NostrumBD/CV_learning/deep_cartograph/deep_cartograph/data/calpha_transitions/experiments/output/2olu_A-2olv_A-1/torsions/dr_0.4/compute_features/2olu_A-2olv_A-1/colvars.dat\n",
      "INFO:deep_cartograph.tools.train_colvars.train_colvars_workflow:Corresponding trajectory file: /home/pnavarro/repos/NostrumBD/CV_learning/deep_cartograph/deep_cartograph/data/calpha_transitions/input/2olu_A-2olv_A-1/2olu_A-2olv_A-1.dcd\n",
      "INFO:deep_cartograph.tools.train_colvars.train_colvars_workflow:Corresponding topology file: /home/pnavarro/repos/NostrumBD/CV_learning/deep_cartograph/deep_cartograph/data/calpha_transitions/input/2olu_A-2olv_A-1/2olu_A-2olv_A-1.pdb\n",
      "INFO:deep_cartograph.tools.train_colvars.cv_calculator:Projecting features onto DeepTICA ...\n",
      "INFO:deep_cartograph.modules.figures.figures:Computing FES(DeepTIC 1, DeepTIC 2)...\n",
      "/home/pnavarro/repos/NostrumBD/CV_learning/deep_cartograph/deep_cartograph/modules/figures/figures.py:129: UserWarning: No artists with labels found to put in legend.  Note that artists whose label start with an underscore are ignored when legend() is called with no argument.\n",
      "  ax.legend(fontsize = font_size)\n",
      "INFO:deep_cartograph:Elapsed time (Train colvars): 00 h 00 min 31 s\n",
      "INFO:deep_cartograph:Total elapsed time: 00 h 00 min 56 s\n"
     ]
    },
    {
     "data": {
      "text/plain": [
       "<Figure size 500x400 with 0 Axes>"
      ]
     },
     "metadata": {},
     "output_type": "display_data"
    },
    {
     "data": {
      "text/plain": [
       "<Figure size 640x480 with 0 Axes>"
      ]
     },
     "metadata": {},
     "output_type": "display_data"
    },
    {
     "data": {
      "text/plain": [
       "<Figure size 500x400 with 0 Axes>"
      ]
     },
     "metadata": {},
     "output_type": "display_data"
    },
    {
     "data": {
      "text/plain": [
       "<Figure size 500x400 with 0 Axes>"
      ]
     },
     "metadata": {},
     "output_type": "display_data"
    },
    {
     "data": {
      "text/plain": [
       "<Figure size 640x480 with 0 Axes>"
      ]
     },
     "metadata": {},
     "output_type": "display_data"
    },
    {
     "data": {
      "text/plain": [
       "<Figure size 500x400 with 0 Axes>"
      ]
     },
     "metadata": {},
     "output_type": "display_data"
    },
    {
     "data": {
      "text/plain": [
       "<Figure size 640x480 with 0 Axes>"
      ]
     },
     "metadata": {},
     "output_type": "display_data"
    },
    {
     "data": {
      "text/plain": [
       "<Figure size 500x400 with 0 Axes>"
      ]
     },
     "metadata": {},
     "output_type": "display_data"
    },
    {
     "data": {
      "text/plain": [
       "<Figure size 500x400 with 0 Axes>"
      ]
     },
     "metadata": {},
     "output_type": "display_data"
    },
    {
     "data": {
      "text/plain": [
       "<Figure size 640x480 with 0 Axes>"
      ]
     },
     "metadata": {},
     "output_type": "display_data"
    },
    {
     "data": {
      "text/plain": [
       "<Figure size 500x400 with 0 Axes>"
      ]
     },
     "metadata": {},
     "output_type": "display_data"
    },
    {
     "data": {
      "text/plain": [
       "<Figure size 640x480 with 0 Axes>"
      ]
     },
     "metadata": {},
     "output_type": "display_data"
    },
    {
     "data": {
      "text/plain": [
       "<Figure size 500x400 with 0 Axes>"
      ]
     },
     "metadata": {},
     "output_type": "display_data"
    },
    {
     "data": {
      "text/plain": [
       "<Figure size 500x400 with 0 Axes>"
      ]
     },
     "metadata": {},
     "output_type": "display_data"
    },
    {
     "data": {
      "text/plain": [
       "<Figure size 640x480 with 0 Axes>"
      ]
     },
     "metadata": {},
     "output_type": "display_data"
    },
    {
     "data": {
      "text/plain": [
       "<Figure size 500x400 with 0 Axes>"
      ]
     },
     "metadata": {},
     "output_type": "display_data"
    },
    {
     "data": {
      "text/plain": [
       "<Figure size 640x480 with 0 Axes>"
      ]
     },
     "metadata": {},
     "output_type": "display_data"
    },
    {
     "data": {
      "text/plain": [
       "<Figure size 500x400 with 0 Axes>"
      ]
     },
     "metadata": {},
     "output_type": "display_data"
    },
    {
     "data": {
      "text/plain": [
       "<Figure size 500x400 with 0 Axes>"
      ]
     },
     "metadata": {},
     "output_type": "display_data"
    },
    {
     "data": {
      "text/plain": [
       "<Figure size 640x480 with 0 Axes>"
      ]
     },
     "metadata": {},
     "output_type": "display_data"
    },
    {
     "data": {
      "text/plain": [
       "<Figure size 500x400 with 0 Axes>"
      ]
     },
     "metadata": {},
     "output_type": "display_data"
    },
    {
     "data": {
      "text/plain": [
       "<Figure size 640x480 with 0 Axes>"
      ]
     },
     "metadata": {},
     "output_type": "display_data"
    },
    {
     "data": {
      "text/plain": [
       "<Figure size 500x400 with 0 Axes>"
      ]
     },
     "metadata": {},
     "output_type": "display_data"
    },
    {
     "data": {
      "text/plain": [
       "<Figure size 500x400 with 0 Axes>"
      ]
     },
     "metadata": {},
     "output_type": "display_data"
    },
    {
     "data": {
      "text/plain": [
       "<Figure size 640x480 with 0 Axes>"
      ]
     },
     "metadata": {},
     "output_type": "display_data"
    }
   ],
   "source": [
    "features = 'torsions'\n",
    "\n",
    "# Load initial configuration\n",
    "config_path = f\"{data_folder}/calpha_transitions/experiments/{features}_config.yml\"\n",
    "\n",
    "with open(config_path, 'r') as file:\n",
    "    configuration = yaml.load(file, Loader = yaml.FullLoader)\n",
    "    \n",
    "dropout_rates = [0.05, 0.1, 0.2, 0.3, 0.4]\n",
    "system_name = '2olu_A-2olv_A-1'        # Has around 330 frames\n",
    "\n",
    "for dr in dropout_rates:\n",
    "\n",
    "    # Test name\n",
    "    test_name = f\"dr_{dr}\"\n",
    "\n",
    "    # Make a copy of the initial configuration\n",
    "    test_configuration = configuration.copy()\n",
    "\n",
    "    # Update learning rate\n",
    "    test_configuration['train_colvars']['common']['training']['general']['dropout'] = dr\n",
    "\n",
    "    # Run deep cartograph\n",
    "    run_deep_cartograph(test_configuration, features, system_name, test_name)"
   ]
  },
  {
   "cell_type": "code",
   "execution_count": 8,
   "metadata": {},
   "outputs": [
    {
     "name": "stdout",
     "output_type": "stream",
     "text": [
      "Dropout rate: 0.05 ----------------------------------------------- #\n",
      "Output folder: /home/pnavarro/repos/NostrumBD/CV_learning/deep_cartograph/deep_cartograph/data/calpha_transitions/experiments/output/2olu_A-2olv_A-1/torsions/dr_0.05\n",
      "Final model score: 2.0905E-3\n"
     ]
    },
    {
     "data": {
      "text/html": [
       "<img src=\"/home/pnavarro/repos/NostrumBD/CV_learning/deep_cartograph/deep_cartograph/data/calpha_transitions/experiments/output/2olu_A-2olv_A-1/torsions/dr_0.05/train_colvars/ae/loss.png?1732806618\" style=\"width: 600px; margin-right: 10px;\">"
      ],
      "text/plain": [
       "<IPython.core.display.HTML object>"
      ]
     },
     "metadata": {},
     "output_type": "display_data"
    },
    {
     "name": "stdout",
     "output_type": "stream",
     "text": [
      "Dropout rate: 0.1 ----------------------------------------------- #\n",
      "Output folder: /home/pnavarro/repos/NostrumBD/CV_learning/deep_cartograph/deep_cartograph/data/calpha_transitions/experiments/output/2olu_A-2olv_A-1/torsions/dr_0.1\n",
      "Final model score: 2.6794E-3\n"
     ]
    },
    {
     "data": {
      "text/html": [
       "<img src=\"/home/pnavarro/repos/NostrumBD/CV_learning/deep_cartograph/deep_cartograph/data/calpha_transitions/experiments/output/2olu_A-2olv_A-1/torsions/dr_0.1/train_colvars/ae/loss.png?1732806618\" style=\"width: 600px; margin-right: 10px;\">"
      ],
      "text/plain": [
       "<IPython.core.display.HTML object>"
      ]
     },
     "metadata": {},
     "output_type": "display_data"
    },
    {
     "name": "stdout",
     "output_type": "stream",
     "text": [
      "Dropout rate: 0.2 ----------------------------------------------- #\n",
      "Output folder: /home/pnavarro/repos/NostrumBD/CV_learning/deep_cartograph/deep_cartograph/data/calpha_transitions/experiments/output/2olu_A-2olv_A-1/torsions/dr_0.2\n",
      "Final model score: 3.0903E-3\n"
     ]
    },
    {
     "data": {
      "text/html": [
       "<img src=\"/home/pnavarro/repos/NostrumBD/CV_learning/deep_cartograph/deep_cartograph/data/calpha_transitions/experiments/output/2olu_A-2olv_A-1/torsions/dr_0.2/train_colvars/ae/loss.png?1732806618\" style=\"width: 600px; margin-right: 10px;\">"
      ],
      "text/plain": [
       "<IPython.core.display.HTML object>"
      ]
     },
     "metadata": {},
     "output_type": "display_data"
    },
    {
     "name": "stdout",
     "output_type": "stream",
     "text": [
      "Dropout rate: 0.3 ----------------------------------------------- #\n",
      "Output folder: /home/pnavarro/repos/NostrumBD/CV_learning/deep_cartograph/deep_cartograph/data/calpha_transitions/experiments/output/2olu_A-2olv_A-1/torsions/dr_0.3\n",
      "Final model score: 3.8535E-3\n"
     ]
    },
    {
     "data": {
      "text/html": [
       "<img src=\"/home/pnavarro/repos/NostrumBD/CV_learning/deep_cartograph/deep_cartograph/data/calpha_transitions/experiments/output/2olu_A-2olv_A-1/torsions/dr_0.3/train_colvars/ae/loss.png?1732806618\" style=\"width: 600px; margin-right: 10px;\">"
      ],
      "text/plain": [
       "<IPython.core.display.HTML object>"
      ]
     },
     "metadata": {},
     "output_type": "display_data"
    },
    {
     "name": "stdout",
     "output_type": "stream",
     "text": [
      "Dropout rate: 0.4 ----------------------------------------------- #\n",
      "Output folder: /home/pnavarro/repos/NostrumBD/CV_learning/deep_cartograph/deep_cartograph/data/calpha_transitions/experiments/output/2olu_A-2olv_A-1/torsions/dr_0.4\n",
      "Final model score: 5.0797E-3\n"
     ]
    },
    {
     "data": {
      "text/html": [
       "<img src=\"/home/pnavarro/repos/NostrumBD/CV_learning/deep_cartograph/deep_cartograph/data/calpha_transitions/experiments/output/2olu_A-2olv_A-1/torsions/dr_0.4/train_colvars/ae/loss.png?1732806618\" style=\"width: 600px; margin-right: 10px;\">"
      ],
      "text/plain": [
       "<IPython.core.display.HTML object>"
      ]
     },
     "metadata": {},
     "output_type": "display_data"
    }
   ],
   "source": [
    "# Show results for the Autoencoder\n",
    "\n",
    "for dr in dropout_rates:\n",
    "\n",
    "    print(f\"Dropout rate: {dr} ----------------------------------------------- #\")\n",
    "\n",
    "    # Test name\n",
    "    test_name = f\"dr_{dr}\"\n",
    "    \n",
    "    # Show main results\n",
    "    show_results(features, system_name, 'ae', test_name)"
   ]
  },
  {
   "cell_type": "code",
   "execution_count": 9,
   "metadata": {},
   "outputs": [
    {
     "name": "stdout",
     "output_type": "stream",
     "text": [
      "Dropout rate: 0.05 ----------------------------------------------- #\n",
      "Output folder: /home/pnavarro/repos/NostrumBD/CV_learning/deep_cartograph/deep_cartograph/data/calpha_transitions/experiments/output/2olu_A-2olv_A-1/torsions/dr_0.05\n",
      "Final model score: -1.9169E+2\n",
      "Eigenvalue 1: 3.3323E+0\n",
      "Eigenvalue 2: -1.2842E+0\n"
     ]
    },
    {
     "data": {
      "text/html": [
       "<img src=\"/home/pnavarro/repos/NostrumBD/CV_learning/deep_cartograph/deep_cartograph/data/calpha_transitions/experiments/output/2olu_A-2olv_A-1/torsions/dr_0.05/train_colvars/deep_tica/loss.png?1732806631\" style=\"width: 600px; margin-right: 10px;\"><img src=\"/home/pnavarro/repos/NostrumBD/CV_learning/deep_cartograph/deep_cartograph/data/calpha_transitions/experiments/output/2olu_A-2olv_A-1/torsions/dr_0.05/train_colvars/deep_tica/eigenvalues.png?1732806631\" style=\"width: 600px; margin-right: 10px;\">"
      ],
      "text/plain": [
       "<IPython.core.display.HTML object>"
      ]
     },
     "metadata": {},
     "output_type": "display_data"
    },
    {
     "name": "stdout",
     "output_type": "stream",
     "text": [
      "Dropout rate: 0.1 ----------------------------------------------- #\n",
      "Output folder: /home/pnavarro/repos/NostrumBD/CV_learning/deep_cartograph/deep_cartograph/data/calpha_transitions/experiments/output/2olu_A-2olv_A-1/torsions/dr_0.1\n",
      "Final model score: -2.9591E+2\n",
      "Eigenvalue 1: 3.3461E+0\n",
      "Eigenvalue 2: -2.1429E+0\n"
     ]
    },
    {
     "data": {
      "text/html": [
       "<img src=\"/home/pnavarro/repos/NostrumBD/CV_learning/deep_cartograph/deep_cartograph/data/calpha_transitions/experiments/output/2olu_A-2olv_A-1/torsions/dr_0.1/train_colvars/deep_tica/loss.png?1732806631\" style=\"width: 600px; margin-right: 10px;\"><img src=\"/home/pnavarro/repos/NostrumBD/CV_learning/deep_cartograph/deep_cartograph/data/calpha_transitions/experiments/output/2olu_A-2olv_A-1/torsions/dr_0.1/train_colvars/deep_tica/eigenvalues.png?1732806631\" style=\"width: 600px; margin-right: 10px;\">"
      ],
      "text/plain": [
       "<IPython.core.display.HTML object>"
      ]
     },
     "metadata": {},
     "output_type": "display_data"
    },
    {
     "name": "stdout",
     "output_type": "stream",
     "text": [
      "Dropout rate: 0.2 ----------------------------------------------- #\n",
      "Output folder: /home/pnavarro/repos/NostrumBD/CV_learning/deep_cartograph/deep_cartograph/data/calpha_transitions/experiments/output/2olu_A-2olv_A-1/torsions/dr_0.2\n",
      "Final model score: -4.0898E+0\n",
      "Eigenvalue 1: 1.2046E+0\n",
      "Eigenvalue 2: 6.8576E-1\n"
     ]
    },
    {
     "data": {
      "text/html": [
       "<img src=\"/home/pnavarro/repos/NostrumBD/CV_learning/deep_cartograph/deep_cartograph/data/calpha_transitions/experiments/output/2olu_A-2olv_A-1/torsions/dr_0.2/train_colvars/deep_tica/loss.png?1732806631\" style=\"width: 600px; margin-right: 10px;\"><img src=\"/home/pnavarro/repos/NostrumBD/CV_learning/deep_cartograph/deep_cartograph/data/calpha_transitions/experiments/output/2olu_A-2olv_A-1/torsions/dr_0.2/train_colvars/deep_tica/eigenvalues.png?1732806631\" style=\"width: 600px; margin-right: 10px;\">"
      ],
      "text/plain": [
       "<IPython.core.display.HTML object>"
      ]
     },
     "metadata": {},
     "output_type": "display_data"
    },
    {
     "name": "stdout",
     "output_type": "stream",
     "text": [
      "Dropout rate: 0.3 ----------------------------------------------- #\n",
      "Output folder: /home/pnavarro/repos/NostrumBD/CV_learning/deep_cartograph/deep_cartograph/data/calpha_transitions/experiments/output/2olu_A-2olv_A-1/torsions/dr_0.3\n",
      "Final model score: -2.5166E+2\n",
      "Eigenvalue 1: 3.6097E+0\n",
      "Eigenvalue 2: -1.6659E+0\n"
     ]
    },
    {
     "data": {
      "text/html": [
       "<img src=\"/home/pnavarro/repos/NostrumBD/CV_learning/deep_cartograph/deep_cartograph/data/calpha_transitions/experiments/output/2olu_A-2olv_A-1/torsions/dr_0.3/train_colvars/deep_tica/loss.png?1732806631\" style=\"width: 600px; margin-right: 10px;\"><img src=\"/home/pnavarro/repos/NostrumBD/CV_learning/deep_cartograph/deep_cartograph/data/calpha_transitions/experiments/output/2olu_A-2olv_A-1/torsions/dr_0.3/train_colvars/deep_tica/eigenvalues.png?1732806631\" style=\"width: 600px; margin-right: 10px;\">"
      ],
      "text/plain": [
       "<IPython.core.display.HTML object>"
      ]
     },
     "metadata": {},
     "output_type": "display_data"
    },
    {
     "name": "stdout",
     "output_type": "stream",
     "text": [
      "Dropout rate: 0.4 ----------------------------------------------- #\n",
      "Output folder: /home/pnavarro/repos/NostrumBD/CV_learning/deep_cartograph/deep_cartograph/data/calpha_transitions/experiments/output/2olu_A-2olv_A-1/torsions/dr_0.4\n",
      "Final model score: -1.7041E+0\n",
      "Eigenvalue 1: 9.5536E-1\n",
      "Eigenvalue 2: 8.8869E-1\n"
     ]
    },
    {
     "data": {
      "text/html": [
       "<img src=\"/home/pnavarro/repos/NostrumBD/CV_learning/deep_cartograph/deep_cartograph/data/calpha_transitions/experiments/output/2olu_A-2olv_A-1/torsions/dr_0.4/train_colvars/deep_tica/loss.png?1732806631\" style=\"width: 600px; margin-right: 10px;\"><img src=\"/home/pnavarro/repos/NostrumBD/CV_learning/deep_cartograph/deep_cartograph/data/calpha_transitions/experiments/output/2olu_A-2olv_A-1/torsions/dr_0.4/train_colvars/deep_tica/eigenvalues.png?1732806631\" style=\"width: 600px; margin-right: 10px;\">"
      ],
      "text/plain": [
       "<IPython.core.display.HTML object>"
      ]
     },
     "metadata": {},
     "output_type": "display_data"
    }
   ],
   "source": [
    "# Show results for the Deep TICA\n",
    "\n",
    "for dr in dropout_rates:\n",
    "\n",
    "    print(f\"Dropout rate: {dr} ----------------------------------------------- #\")\n",
    "\n",
    "    # Test name\n",
    "    test_name = f\"dr_{dr}\"\n",
    "    \n",
    "    # Show main results\n",
    "    show_results(features, system_name, 'deep_tica', test_name)"
   ]
  },
  {
   "cell_type": "markdown",
   "metadata": {},
   "source": [
    "## Lag time\n",
    "\n",
    "Lag time is the number of frames between pairs of input samples. It is used in the TICA and Deep TICA models."
   ]
  },
  {
   "cell_type": "code",
   "execution_count": 10,
   "metadata": {},
   "outputs": [
    {
     "name": "stderr",
     "output_type": "stream",
     "text": [
      "INFO:deep_cartograph:================\n",
      "INFO:deep_cartograph:Compute features\n",
      "INFO:deep_cartograph:================\n",
      "INFO:deep_cartograph:Trajectory file: /home/pnavarro/repos/NostrumBD/CV_learning/deep_cartograph/deep_cartograph/data/calpha_transitions/input/2olu_A-2olv_A-1/2olu_A-2olv_A-1.dcd\n",
      "/home/pnavarro/miniforge3/envs/deep_cartograph/lib/python3.10/site-packages/MDAnalysis/topology/PDBParser.py:317: UserWarning: Element information is missing, elements attribute will not be populated. If needed these can be guessed using MDAnalysis.topology.guessers.\n",
      "  warnings.warn(\"Element information is missing, elements attribute \"\n",
      "/home/pnavarro/miniforge3/envs/deep_cartograph/lib/python3.10/site-packages/MDAnalysis/coordinates/PDB.py:747: UserWarning: Unit cell dimensions not found. CRYST1 record set to unitary values.\n",
      "  warnings.warn(\"Unit cell dimensions not found. \"\n",
      "/home/pnavarro/miniforge3/envs/deep_cartograph/lib/python3.10/site-packages/MDAnalysis/coordinates/PDB.py:1078: UserWarning: Found no information for attr: 'elements' Using default value of ' '\n",
      "  warnings.warn(\"Found no information for attr: '{}'\"\n",
      "/home/pnavarro/miniforge3/envs/deep_cartograph/lib/python3.10/site-packages/MDAnalysis/coordinates/PDB.py:429: UserWarning: 1 A^3 CRYST1 record, this is usually a placeholder. Unit cell dimensions will be set to None.\n",
      "  warnings.warn(\"1 A^3 CRYST1 record,\"\n",
      "INFO:deep_cartograph.modules.plumed.input_file.input_file:Found 1186 features for tor\n",
      "INFO:deep_cartograph.modules.plumed.utils:Executing PLUMED driver command: plumed driver --plumed /home/pnavarro/repos/NostrumBD/CV_learning/deep_cartograph/deep_cartograph/data/calpha_transitions/experiments/output/2olu_A-2olv_A-1/torsions/lt_1/compute_features/2olu_A-2olv_A-1/torsions.dat --mf_dcd /home/pnavarro/repos/NostrumBD/CV_learning/deep_cartograph/deep_cartograph/data/calpha_transitions/input/2olu_A-2olv_A-1/2olu_A-2olv_A-1.dcd --natoms 596\n",
      "INFO:deep_cartograph:Elapsed time (Compute features): 00 h 00 min 01 s\n",
      "INFO:deep_cartograph:==================\n",
      "INFO:deep_cartograph:Filtering features\n",
      "INFO:deep_cartograph:==================\n",
      "INFO:deep_cartograph:Finding the features that contains the most information about the transitions or conformational changes.\n",
      "INFO:deep_cartograph:The following algorithms are available:\n",
      "INFO:deep_cartograph:- Hartigan's dip test filter. Keeps features that are not unimodal.\n",
      "INFO:deep_cartograph:- Shannon entropy filter. Keeps features with entropy greater than a threshold.\n",
      "INFO:deep_cartograph:- Standard deviation filter. Keeps features with standard deviation greater than a threshold.\n",
      "INFO:deep_cartograph:Note that the all features must be in the same units to apply the entropy and standard deviation filters meaningfully.\n",
      "INFO:deep_cartograph:Initial size of features set: 1186.\n",
      "INFO:deep_cartograph.tools.filter_features.filtering:Computing dip test.\n",
      "INFO:deep_cartograph.tools.filter_features.filtering:Filtered 1003 features.\n",
      "INFO:deep_cartograph:Elapsed time (Filter features): 00 h 00 min 18 s\n",
      "INFO:deep_cartograph.modules.common.common: Using features in /home/pnavarro/repos/NostrumBD/CV_learning/deep_cartograph/deep_cartograph/data/calpha_transitions/experiments/output/2olu_A-2olv_A-1/torsions/lt_1/filter_features/filtered_features.txt\n",
      "INFO:deep_cartograph:================================\n",
      "INFO:deep_cartograph:Training of Collective Variables\n",
      "INFO:deep_cartograph:================================\n",
      "INFO:deep_cartograph:Training of collective variables using the mlcolvar library.\n",
      "INFO:deep_cartograph.tools.train_colvars.train_colvars_workflow:Collective variables to compute: ['ae', 'deep_tica']\n",
      "INFO:deep_cartograph.tools.train_colvars.cv_calculator:Reading training data from colvars files...\n",
      "INFO:deep_cartograph.tools.train_colvars.cv_calculator:Number of features: 183\n",
      "INFO:deep_cartograph.tools.train_colvars.cv_calculator:Number of samples: 338\n",
      "INFO:deep_cartograph.tools.train_colvars.cv_calculator:Calculating AE ...\n",
      "INFO:deep_cartograph.tools.train_colvars.cv_calculator:Training AE ...\n",
      "INFO:deep_cartograph.tools.train_colvars.cv_calculator:Model architecture: AutoEncoderCV(\n",
      "  (loss_fn): MSELoss()\n",
      "  (norm_in): Normalization(in_features=183, out_features=183, mode=mean_std)\n",
      "  (encoder): FeedForward(\n",
      "    (nn): Sequential(\n",
      "      (0): Linear(in_features=183, out_features=15, bias=True)\n",
      "      (1): Shifted_Softplus(beta=1, threshold=20)\n",
      "      (2): Dropout(p=0.1, inplace=False)\n",
      "      (3): Linear(in_features=15, out_features=15, bias=True)\n",
      "      (4): Shifted_Softplus(beta=1, threshold=20)\n",
      "      (5): Dropout(p=0.1, inplace=False)\n",
      "      (6): Linear(in_features=15, out_features=2, bias=True)\n",
      "    )\n",
      "  )\n",
      "  (decoder): FeedForward(\n",
      "    (nn): Sequential(\n",
      "      (0): Linear(in_features=2, out_features=15, bias=True)\n",
      "      (1): Shifted_Softplus(beta=1, threshold=20)\n",
      "      (2): Dropout(p=0.1, inplace=False)\n",
      "      (3): Linear(in_features=15, out_features=15, bias=True)\n",
      "      (4): Shifted_Softplus(beta=1, threshold=20)\n",
      "      (5): Dropout(p=0.1, inplace=False)\n",
      "      (6): Linear(in_features=15, out_features=183, bias=True)\n",
      "    )\n",
      "  )\n",
      ")\n",
      "GPU available: False, used: False\n",
      "TPU available: False, using: 0 TPU cores\n",
      "HPU available: False, using: 0 HPUs\n",
      "\n",
      "  | Name    | Type          | Params | Mode  | In sizes | Out sizes\n",
      "-------------------------------------------------------------------------\n",
      "0 | loss_fn | MSELoss       | 0      | train | ?        | ?        \n",
      "1 | norm_in | Normalization | 0      | train | [1, 183] | [1, 183] \n",
      "2 | encoder | FeedForward   | 3.0 K  | train | [1, 183] | [1, 2]   \n",
      "3 | decoder | FeedForward   | 3.2 K  | train | ?        | ?        \n",
      "-------------------------------------------------------------------------\n",
      "6.2 K     Trainable params\n",
      "0         Non-trainable params\n",
      "6.2 K     Total params\n",
      "0.025     Total estimated model params size (MB)\n",
      "INFO:deep_cartograph.tools.train_colvars.cv_calculator:Best model score: 0.002679416909813881\n",
      "INFO:deep_cartograph.tools.train_colvars.cv_calculator:Projecting reference data onto AE ...\n",
      "/home/pnavarro/repos/mlcolvar/mlcolvar/core/nn/utils.py:13: TracerWarning: Converting a tensor to a Python number might cause the trace to be incorrect. We can't record the data flow of Python values, so this value will be treated as a constant in the future. This means that the trace might not generalize to other inputs!\n",
      "  sp0 = F.softplus(torch.zeros(1), self.beta, self.threshold).item()\n",
      "INFO:deep_cartograph.tools.train_colvars.cv_calculator:Collective variable weights saved to /home/pnavarro/repos/NostrumBD/CV_learning/deep_cartograph/deep_cartograph/data/calpha_transitions/experiments/output/2olu_A-2olv_A-1/torsions/lt_1/train_colvars/ae/weights.ptc\n",
      "INFO:deep_cartograph.tools.train_colvars.train_colvars_workflow:Projecting colvars file: /home/pnavarro/repos/NostrumBD/CV_learning/deep_cartograph/deep_cartograph/data/calpha_transitions/experiments/output/2olu_A-2olv_A-1/torsions/lt_1/compute_features/2olu_A-2olv_A-1/colvars.dat\n",
      "INFO:deep_cartograph.tools.train_colvars.train_colvars_workflow:Corresponding trajectory file: /home/pnavarro/repos/NostrumBD/CV_learning/deep_cartograph/deep_cartograph/data/calpha_transitions/input/2olu_A-2olv_A-1/2olu_A-2olv_A-1.dcd\n",
      "INFO:deep_cartograph.tools.train_colvars.train_colvars_workflow:Corresponding topology file: /home/pnavarro/repos/NostrumBD/CV_learning/deep_cartograph/deep_cartograph/data/calpha_transitions/input/2olu_A-2olv_A-1/2olu_A-2olv_A-1.pdb\n",
      "INFO:deep_cartograph.tools.train_colvars.cv_calculator:Projecting features onto AE ...\n",
      "INFO:deep_cartograph.modules.figures.figures:Computing FES(AE 1, AE 2)...\n",
      "/home/pnavarro/repos/NostrumBD/CV_learning/deep_cartograph/deep_cartograph/modules/figures/figures.py:129: UserWarning: No artists with labels found to put in legend.  Note that artists whose label start with an underscore are ignored when legend() is called with no argument.\n",
      "  ax.legend(fontsize = font_size)\n",
      "INFO:deep_cartograph.tools.train_colvars.cv_calculator:Reading training data from colvars files...\n",
      "INFO:deep_cartograph.tools.train_colvars.cv_calculator:Number of features: 183\n",
      "/home/pnavarro/repos/mlcolvar/mlcolvar/utils/timelagged.py:140: UserWarning: Monitoring the progress for the search of time-lagged configurations with a progress_bar requires `tqdm`.\n",
      "  warnings.warn(\n",
      "INFO:deep_cartograph.tools.train_colvars.cv_calculator:Number of samples: 335\n",
      "INFO:deep_cartograph.tools.train_colvars.cv_calculator:Calculating DeepTICA ...\n",
      "INFO:deep_cartograph.tools.train_colvars.cv_calculator:Training DeepTICA ...\n",
      "INFO:deep_cartograph.tools.train_colvars.cv_calculator:Model architecture: DeepTICA(\n",
      "  (loss_fn): ReduceEigenvaluesLoss()\n",
      "  (norm_in): Normalization(in_features=183, out_features=183, mode=mean_std)\n",
      "  (nn): FeedForward(\n",
      "    (nn): Sequential(\n",
      "      (0): Linear(in_features=183, out_features=15, bias=True)\n",
      "      (1): Shifted_Softplus(beta=1, threshold=20)\n",
      "      (2): Dropout(p=0.1, inplace=False)\n",
      "      (3): Linear(in_features=15, out_features=15, bias=True)\n",
      "      (4): Shifted_Softplus(beta=1, threshold=20)\n",
      "      (5): Dropout(p=0.1, inplace=False)\n",
      "      (6): Linear(in_features=15, out_features=2, bias=True)\n",
      "    )\n",
      "  )\n",
      "  (tica): TICA(in_features=2, out_features=2)\n",
      ")\n",
      "GPU available: False, used: False\n",
      "TPU available: False, using: 0 TPU cores\n",
      "HPU available: False, using: 0 HPUs\n",
      "\n",
      "  | Name    | Type                  | Params | Mode  | In sizes | Out sizes\n",
      "---------------------------------------------------------------------------------\n",
      "0 | loss_fn | ReduceEigenvaluesLoss | 0      | train | ?        | ?        \n",
      "1 | norm_in | Normalization         | 0      | train | [1, 183] | [1, 183] \n",
      "2 | nn      | FeedForward           | 3.0 K  | train | [1, 183] | [1, 2]   \n",
      "3 | tica    | TICA                  | 0      | train | [1, 2]   | [1, 2]   \n",
      "---------------------------------------------------------------------------------\n",
      "3.0 K     Trainable params\n",
      "0         Non-trainable params\n",
      "3.0 K     Total params\n",
      "0.012     Total estimated model params size (MB)\n",
      "INFO:deep_cartograph.tools.train_colvars.cv_calculator:Best model score: -295.9145812988281\n",
      "/home/pnavarro/repos/mlcolvar/mlcolvar/utils/plot.py:254: UserWarning: Data has no positive values, and therefore cannot be log-scaled.\n",
      "  ax.set_yscale(yscale)\n",
      "INFO:deep_cartograph.tools.train_colvars.cv_calculator:Projecting reference data onto DeepTICA ...\n",
      "INFO:deep_cartograph.tools.train_colvars.cv_calculator:Took 41 epochs\n",
      "INFO:deep_cartograph.tools.train_colvars.cv_calculator:Eigenvalue 1: 3.3461179733276367\n",
      "INFO:deep_cartograph.tools.train_colvars.cv_calculator:Eigenvalue 2: -2.142871856689453\n",
      "/home/pnavarro/repos/mlcolvar/mlcolvar/core/nn/utils.py:13: TracerWarning: Converting a tensor to a Python number might cause the trace to be incorrect. We can't record the data flow of Python values, so this value will be treated as a constant in the future. This means that the trace might not generalize to other inputs!\n",
      "  sp0 = F.softplus(torch.zeros(1), self.beta, self.threshold).item()\n",
      "INFO:deep_cartograph.tools.train_colvars.cv_calculator:Collective variable weights saved to /home/pnavarro/repos/NostrumBD/CV_learning/deep_cartograph/deep_cartograph/data/calpha_transitions/experiments/output/2olu_A-2olv_A-1/torsions/lt_1/train_colvars/deep_tica/weights.ptc\n",
      "INFO:deep_cartograph.tools.train_colvars.train_colvars_workflow:Projecting colvars file: /home/pnavarro/repos/NostrumBD/CV_learning/deep_cartograph/deep_cartograph/data/calpha_transitions/experiments/output/2olu_A-2olv_A-1/torsions/lt_1/compute_features/2olu_A-2olv_A-1/colvars.dat\n",
      "INFO:deep_cartograph.tools.train_colvars.train_colvars_workflow:Corresponding trajectory file: /home/pnavarro/repos/NostrumBD/CV_learning/deep_cartograph/deep_cartograph/data/calpha_transitions/input/2olu_A-2olv_A-1/2olu_A-2olv_A-1.dcd\n",
      "INFO:deep_cartograph.tools.train_colvars.train_colvars_workflow:Corresponding topology file: /home/pnavarro/repos/NostrumBD/CV_learning/deep_cartograph/deep_cartograph/data/calpha_transitions/input/2olu_A-2olv_A-1/2olu_A-2olv_A-1.pdb\n",
      "INFO:deep_cartograph.tools.train_colvars.cv_calculator:Projecting features onto DeepTICA ...\n",
      "INFO:deep_cartograph.modules.figures.figures:Computing FES(DeepTIC 1, DeepTIC 2)...\n",
      "/home/pnavarro/repos/NostrumBD/CV_learning/deep_cartograph/deep_cartograph/modules/figures/figures.py:129: UserWarning: No artists with labels found to put in legend.  Note that artists whose label start with an underscore are ignored when legend() is called with no argument.\n",
      "  ax.legend(fontsize = font_size)\n",
      "INFO:deep_cartograph:Elapsed time (Train colvars): 00 h 00 min 18 s\n",
      "INFO:deep_cartograph:Total elapsed time: 00 h 00 min 38 s\n",
      "INFO:deep_cartograph:================\n",
      "INFO:deep_cartograph:Compute features\n",
      "INFO:deep_cartograph:================\n",
      "INFO:deep_cartograph:Trajectory file: /home/pnavarro/repos/NostrumBD/CV_learning/deep_cartograph/deep_cartograph/data/calpha_transitions/input/2olu_A-2olv_A-1/2olu_A-2olv_A-1.dcd\n",
      "/home/pnavarro/miniforge3/envs/deep_cartograph/lib/python3.10/site-packages/MDAnalysis/topology/PDBParser.py:317: UserWarning: Element information is missing, elements attribute will not be populated. If needed these can be guessed using MDAnalysis.topology.guessers.\n",
      "  warnings.warn(\"Element information is missing, elements attribute \"\n",
      "/home/pnavarro/miniforge3/envs/deep_cartograph/lib/python3.10/site-packages/MDAnalysis/coordinates/PDB.py:747: UserWarning: Unit cell dimensions not found. CRYST1 record set to unitary values.\n",
      "  warnings.warn(\"Unit cell dimensions not found. \"\n",
      "/home/pnavarro/miniforge3/envs/deep_cartograph/lib/python3.10/site-packages/MDAnalysis/coordinates/PDB.py:1078: UserWarning: Found no information for attr: 'elements' Using default value of ' '\n",
      "  warnings.warn(\"Found no information for attr: '{}'\"\n",
      "/home/pnavarro/miniforge3/envs/deep_cartograph/lib/python3.10/site-packages/MDAnalysis/coordinates/PDB.py:429: UserWarning: 1 A^3 CRYST1 record, this is usually a placeholder. Unit cell dimensions will be set to None.\n",
      "  warnings.warn(\"1 A^3 CRYST1 record,\"\n",
      "INFO:deep_cartograph.modules.plumed.input_file.input_file:Found 1186 features for tor\n",
      "INFO:deep_cartograph.modules.plumed.utils:Executing PLUMED driver command: plumed driver --plumed /home/pnavarro/repos/NostrumBD/CV_learning/deep_cartograph/deep_cartograph/data/calpha_transitions/experiments/output/2olu_A-2olv_A-1/torsions/lt_2/compute_features/2olu_A-2olv_A-1/torsions.dat --mf_dcd /home/pnavarro/repos/NostrumBD/CV_learning/deep_cartograph/deep_cartograph/data/calpha_transitions/input/2olu_A-2olv_A-1/2olu_A-2olv_A-1.dcd --natoms 596\n",
      "INFO:deep_cartograph:Elapsed time (Compute features): 00 h 00 min 01 s\n",
      "INFO:deep_cartograph:==================\n",
      "INFO:deep_cartograph:Filtering features\n",
      "INFO:deep_cartograph:==================\n",
      "INFO:deep_cartograph:Finding the features that contains the most information about the transitions or conformational changes.\n",
      "INFO:deep_cartograph:The following algorithms are available:\n",
      "INFO:deep_cartograph:- Hartigan's dip test filter. Keeps features that are not unimodal.\n",
      "INFO:deep_cartograph:- Shannon entropy filter. Keeps features with entropy greater than a threshold.\n",
      "INFO:deep_cartograph:- Standard deviation filter. Keeps features with standard deviation greater than a threshold.\n",
      "INFO:deep_cartograph:Note that the all features must be in the same units to apply the entropy and standard deviation filters meaningfully.\n",
      "INFO:deep_cartograph:Initial size of features set: 1186.\n",
      "INFO:deep_cartograph.tools.filter_features.filtering:Computing dip test.\n",
      "INFO:deep_cartograph.tools.filter_features.filtering:Filtered 1003 features.\n",
      "INFO:deep_cartograph:Elapsed time (Filter features): 00 h 00 min 22 s\n",
      "INFO:deep_cartograph.modules.common.common: Using features in /home/pnavarro/repos/NostrumBD/CV_learning/deep_cartograph/deep_cartograph/data/calpha_transitions/experiments/output/2olu_A-2olv_A-1/torsions/lt_2/filter_features/filtered_features.txt\n",
      "INFO:deep_cartograph:================================\n",
      "INFO:deep_cartograph:Training of Collective Variables\n",
      "INFO:deep_cartograph:================================\n",
      "INFO:deep_cartograph:Training of collective variables using the mlcolvar library.\n",
      "INFO:deep_cartograph.tools.train_colvars.train_colvars_workflow:Collective variables to compute: ['ae', 'deep_tica']\n",
      "INFO:deep_cartograph.tools.train_colvars.cv_calculator:Reading training data from colvars files...\n",
      "INFO:deep_cartograph.tools.train_colvars.cv_calculator:Number of features: 183\n",
      "INFO:deep_cartograph.tools.train_colvars.cv_calculator:Number of samples: 338\n",
      "INFO:deep_cartograph.tools.train_colvars.cv_calculator:Calculating AE ...\n",
      "INFO:deep_cartograph.tools.train_colvars.cv_calculator:Training AE ...\n",
      "INFO:deep_cartograph.tools.train_colvars.cv_calculator:Model architecture: AutoEncoderCV(\n",
      "  (loss_fn): MSELoss()\n",
      "  (norm_in): Normalization(in_features=183, out_features=183, mode=mean_std)\n",
      "  (encoder): FeedForward(\n",
      "    (nn): Sequential(\n",
      "      (0): Linear(in_features=183, out_features=15, bias=True)\n",
      "      (1): Shifted_Softplus(beta=1, threshold=20)\n",
      "      (2): Dropout(p=0.1, inplace=False)\n",
      "      (3): Linear(in_features=15, out_features=15, bias=True)\n",
      "      (4): Shifted_Softplus(beta=1, threshold=20)\n",
      "      (5): Dropout(p=0.1, inplace=False)\n",
      "      (6): Linear(in_features=15, out_features=2, bias=True)\n",
      "    )\n",
      "  )\n",
      "  (decoder): FeedForward(\n",
      "    (nn): Sequential(\n",
      "      (0): Linear(in_features=2, out_features=15, bias=True)\n",
      "      (1): Shifted_Softplus(beta=1, threshold=20)\n",
      "      (2): Dropout(p=0.1, inplace=False)\n",
      "      (3): Linear(in_features=15, out_features=15, bias=True)\n",
      "      (4): Shifted_Softplus(beta=1, threshold=20)\n",
      "      (5): Dropout(p=0.1, inplace=False)\n",
      "      (6): Linear(in_features=15, out_features=183, bias=True)\n",
      "    )\n",
      "  )\n",
      ")\n",
      "GPU available: False, used: False\n",
      "TPU available: False, using: 0 TPU cores\n",
      "HPU available: False, using: 0 HPUs\n",
      "\n",
      "  | Name    | Type          | Params | Mode  | In sizes | Out sizes\n",
      "-------------------------------------------------------------------------\n",
      "0 | loss_fn | MSELoss       | 0      | train | ?        | ?        \n",
      "1 | norm_in | Normalization | 0      | train | [1, 183] | [1, 183] \n",
      "2 | encoder | FeedForward   | 3.0 K  | train | [1, 183] | [1, 2]   \n",
      "3 | decoder | FeedForward   | 3.2 K  | train | ?        | ?        \n",
      "-------------------------------------------------------------------------\n",
      "6.2 K     Trainable params\n",
      "0         Non-trainable params\n",
      "6.2 K     Total params\n",
      "0.025     Total estimated model params size (MB)\n",
      "INFO:deep_cartograph.tools.train_colvars.cv_calculator:Best model score: 0.002679416909813881\n",
      "INFO:deep_cartograph.tools.train_colvars.cv_calculator:Projecting reference data onto AE ...\n",
      "/home/pnavarro/repos/mlcolvar/mlcolvar/core/nn/utils.py:13: TracerWarning: Converting a tensor to a Python number might cause the trace to be incorrect. We can't record the data flow of Python values, so this value will be treated as a constant in the future. This means that the trace might not generalize to other inputs!\n",
      "  sp0 = F.softplus(torch.zeros(1), self.beta, self.threshold).item()\n",
      "INFO:deep_cartograph.tools.train_colvars.cv_calculator:Collective variable weights saved to /home/pnavarro/repos/NostrumBD/CV_learning/deep_cartograph/deep_cartograph/data/calpha_transitions/experiments/output/2olu_A-2olv_A-1/torsions/lt_2/train_colvars/ae/weights.ptc\n",
      "INFO:deep_cartograph.tools.train_colvars.train_colvars_workflow:Projecting colvars file: /home/pnavarro/repos/NostrumBD/CV_learning/deep_cartograph/deep_cartograph/data/calpha_transitions/experiments/output/2olu_A-2olv_A-1/torsions/lt_2/compute_features/2olu_A-2olv_A-1/colvars.dat\n",
      "INFO:deep_cartograph.tools.train_colvars.train_colvars_workflow:Corresponding trajectory file: /home/pnavarro/repos/NostrumBD/CV_learning/deep_cartograph/deep_cartograph/data/calpha_transitions/input/2olu_A-2olv_A-1/2olu_A-2olv_A-1.dcd\n",
      "INFO:deep_cartograph.tools.train_colvars.train_colvars_workflow:Corresponding topology file: /home/pnavarro/repos/NostrumBD/CV_learning/deep_cartograph/deep_cartograph/data/calpha_transitions/input/2olu_A-2olv_A-1/2olu_A-2olv_A-1.pdb\n",
      "INFO:deep_cartograph.tools.train_colvars.cv_calculator:Projecting features onto AE ...\n",
      "INFO:deep_cartograph.modules.figures.figures:Computing FES(AE 1, AE 2)...\n",
      "/home/pnavarro/repos/NostrumBD/CV_learning/deep_cartograph/deep_cartograph/modules/figures/figures.py:129: UserWarning: No artists with labels found to put in legend.  Note that artists whose label start with an underscore are ignored when legend() is called with no argument.\n",
      "  ax.legend(fontsize = font_size)\n",
      "INFO:deep_cartograph.tools.train_colvars.cv_calculator:Reading training data from colvars files...\n",
      "INFO:deep_cartograph.tools.train_colvars.cv_calculator:Number of features: 183\n",
      "/home/pnavarro/repos/mlcolvar/mlcolvar/utils/timelagged.py:140: UserWarning: Monitoring the progress for the search of time-lagged configurations with a progress_bar requires `tqdm`.\n",
      "  warnings.warn(\n",
      "INFO:deep_cartograph.tools.train_colvars.cv_calculator:Number of samples: 334\n",
      "INFO:deep_cartograph.tools.train_colvars.cv_calculator:Calculating DeepTICA ...\n",
      "INFO:deep_cartograph.tools.train_colvars.cv_calculator:Training DeepTICA ...\n",
      "INFO:deep_cartograph.tools.train_colvars.cv_calculator:Model architecture: DeepTICA(\n",
      "  (loss_fn): ReduceEigenvaluesLoss()\n",
      "  (norm_in): Normalization(in_features=183, out_features=183, mode=mean_std)\n",
      "  (nn): FeedForward(\n",
      "    (nn): Sequential(\n",
      "      (0): Linear(in_features=183, out_features=15, bias=True)\n",
      "      (1): Shifted_Softplus(beta=1, threshold=20)\n",
      "      (2): Dropout(p=0.1, inplace=False)\n",
      "      (3): Linear(in_features=15, out_features=15, bias=True)\n",
      "      (4): Shifted_Softplus(beta=1, threshold=20)\n",
      "      (5): Dropout(p=0.1, inplace=False)\n",
      "      (6): Linear(in_features=15, out_features=2, bias=True)\n",
      "    )\n",
      "  )\n",
      "  (tica): TICA(in_features=2, out_features=2)\n",
      ")\n",
      "GPU available: False, used: False\n",
      "TPU available: False, using: 0 TPU cores\n",
      "HPU available: False, using: 0 HPUs\n",
      "\n",
      "  | Name    | Type                  | Params | Mode  | In sizes | Out sizes\n",
      "---------------------------------------------------------------------------------\n",
      "0 | loss_fn | ReduceEigenvaluesLoss | 0      | train | ?        | ?        \n",
      "1 | norm_in | Normalization         | 0      | train | [1, 183] | [1, 183] \n",
      "2 | nn      | FeedForward           | 3.0 K  | train | [1, 183] | [1, 2]   \n",
      "3 | tica    | TICA                  | 0      | train | [1, 2]   | [1, 2]   \n",
      "---------------------------------------------------------------------------------\n",
      "3.0 K     Trainable params\n",
      "0         Non-trainable params\n",
      "3.0 K     Total params\n",
      "0.012     Total estimated model params size (MB)\n",
      "INFO:deep_cartograph.tools.train_colvars.cv_calculator:Best model score: -304.84954833984375\n",
      "/home/pnavarro/repos/mlcolvar/mlcolvar/utils/plot.py:254: UserWarning: Data has no positive values, and therefore cannot be log-scaled.\n",
      "  ax.set_yscale(yscale)\n",
      "INFO:deep_cartograph.tools.train_colvars.cv_calculator:Projecting reference data onto DeepTICA ...\n",
      "INFO:deep_cartograph.tools.train_colvars.cv_calculator:Took 21 epochs\n",
      "INFO:deep_cartograph.tools.train_colvars.cv_calculator:Eigenvalue 1: 3.052596092224121\n",
      "INFO:deep_cartograph.tools.train_colvars.cv_calculator:Eigenvalue 2: -1.360460638999939\n",
      "/home/pnavarro/repos/mlcolvar/mlcolvar/core/nn/utils.py:13: TracerWarning: Converting a tensor to a Python number might cause the trace to be incorrect. We can't record the data flow of Python values, so this value will be treated as a constant in the future. This means that the trace might not generalize to other inputs!\n",
      "  sp0 = F.softplus(torch.zeros(1), self.beta, self.threshold).item()\n",
      "INFO:deep_cartograph.tools.train_colvars.cv_calculator:Collective variable weights saved to /home/pnavarro/repos/NostrumBD/CV_learning/deep_cartograph/deep_cartograph/data/calpha_transitions/experiments/output/2olu_A-2olv_A-1/torsions/lt_2/train_colvars/deep_tica/weights.ptc\n",
      "INFO:deep_cartograph.tools.train_colvars.train_colvars_workflow:Projecting colvars file: /home/pnavarro/repos/NostrumBD/CV_learning/deep_cartograph/deep_cartograph/data/calpha_transitions/experiments/output/2olu_A-2olv_A-1/torsions/lt_2/compute_features/2olu_A-2olv_A-1/colvars.dat\n",
      "INFO:deep_cartograph.tools.train_colvars.train_colvars_workflow:Corresponding trajectory file: /home/pnavarro/repos/NostrumBD/CV_learning/deep_cartograph/deep_cartograph/data/calpha_transitions/input/2olu_A-2olv_A-1/2olu_A-2olv_A-1.dcd\n",
      "INFO:deep_cartograph.tools.train_colvars.train_colvars_workflow:Corresponding topology file: /home/pnavarro/repos/NostrumBD/CV_learning/deep_cartograph/deep_cartograph/data/calpha_transitions/input/2olu_A-2olv_A-1/2olu_A-2olv_A-1.pdb\n",
      "INFO:deep_cartograph.tools.train_colvars.cv_calculator:Projecting features onto DeepTICA ...\n",
      "INFO:deep_cartograph.modules.figures.figures:Computing FES(DeepTIC 1, DeepTIC 2)...\n",
      "/home/pnavarro/repos/NostrumBD/CV_learning/deep_cartograph/deep_cartograph/modules/figures/figures.py:129: UserWarning: No artists with labels found to put in legend.  Note that artists whose label start with an underscore are ignored when legend() is called with no argument.\n",
      "  ax.legend(fontsize = font_size)\n",
      "INFO:deep_cartograph:Elapsed time (Train colvars): 00 h 00 min 25 s\n",
      "INFO:deep_cartograph:Total elapsed time: 00 h 00 min 49 s\n",
      "INFO:deep_cartograph:================\n",
      "INFO:deep_cartograph:Compute features\n",
      "INFO:deep_cartograph:================\n",
      "INFO:deep_cartograph:Trajectory file: /home/pnavarro/repos/NostrumBD/CV_learning/deep_cartograph/deep_cartograph/data/calpha_transitions/input/2olu_A-2olv_A-1/2olu_A-2olv_A-1.dcd\n",
      "/home/pnavarro/miniforge3/envs/deep_cartograph/lib/python3.10/site-packages/MDAnalysis/topology/PDBParser.py:317: UserWarning: Element information is missing, elements attribute will not be populated. If needed these can be guessed using MDAnalysis.topology.guessers.\n",
      "  warnings.warn(\"Element information is missing, elements attribute \"\n",
      "/home/pnavarro/miniforge3/envs/deep_cartograph/lib/python3.10/site-packages/MDAnalysis/coordinates/PDB.py:747: UserWarning: Unit cell dimensions not found. CRYST1 record set to unitary values.\n",
      "  warnings.warn(\"Unit cell dimensions not found. \"\n",
      "/home/pnavarro/miniforge3/envs/deep_cartograph/lib/python3.10/site-packages/MDAnalysis/coordinates/PDB.py:1078: UserWarning: Found no information for attr: 'elements' Using default value of ' '\n",
      "  warnings.warn(\"Found no information for attr: '{}'\"\n",
      "/home/pnavarro/miniforge3/envs/deep_cartograph/lib/python3.10/site-packages/MDAnalysis/coordinates/PDB.py:429: UserWarning: 1 A^3 CRYST1 record, this is usually a placeholder. Unit cell dimensions will be set to None.\n",
      "  warnings.warn(\"1 A^3 CRYST1 record,\"\n",
      "INFO:deep_cartograph.modules.plumed.input_file.input_file:Found 1186 features for tor\n",
      "INFO:deep_cartograph.modules.plumed.utils:Executing PLUMED driver command: plumed driver --plumed /home/pnavarro/repos/NostrumBD/CV_learning/deep_cartograph/deep_cartograph/data/calpha_transitions/experiments/output/2olu_A-2olv_A-1/torsions/lt_4/compute_features/2olu_A-2olv_A-1/torsions.dat --mf_dcd /home/pnavarro/repos/NostrumBD/CV_learning/deep_cartograph/deep_cartograph/data/calpha_transitions/input/2olu_A-2olv_A-1/2olu_A-2olv_A-1.dcd --natoms 596\n",
      "INFO:deep_cartograph:Elapsed time (Compute features): 00 h 00 min 01 s\n",
      "INFO:deep_cartograph:==================\n",
      "INFO:deep_cartograph:Filtering features\n",
      "INFO:deep_cartograph:==================\n",
      "INFO:deep_cartograph:Finding the features that contains the most information about the transitions or conformational changes.\n",
      "INFO:deep_cartograph:The following algorithms are available:\n",
      "INFO:deep_cartograph:- Hartigan's dip test filter. Keeps features that are not unimodal.\n",
      "INFO:deep_cartograph:- Shannon entropy filter. Keeps features with entropy greater than a threshold.\n",
      "INFO:deep_cartograph:- Standard deviation filter. Keeps features with standard deviation greater than a threshold.\n",
      "INFO:deep_cartograph:Note that the all features must be in the same units to apply the entropy and standard deviation filters meaningfully.\n",
      "INFO:deep_cartograph:Initial size of features set: 1186.\n",
      "INFO:deep_cartograph.tools.filter_features.filtering:Computing dip test.\n",
      "INFO:deep_cartograph.tools.filter_features.filtering:Filtered 1003 features.\n",
      "INFO:deep_cartograph:Elapsed time (Filter features): 00 h 00 min 24 s\n",
      "INFO:deep_cartograph.modules.common.common: Using features in /home/pnavarro/repos/NostrumBD/CV_learning/deep_cartograph/deep_cartograph/data/calpha_transitions/experiments/output/2olu_A-2olv_A-1/torsions/lt_4/filter_features/filtered_features.txt\n",
      "INFO:deep_cartograph:================================\n",
      "INFO:deep_cartograph:Training of Collective Variables\n",
      "INFO:deep_cartograph:================================\n",
      "INFO:deep_cartograph:Training of collective variables using the mlcolvar library.\n",
      "INFO:deep_cartograph.tools.train_colvars.train_colvars_workflow:Collective variables to compute: ['ae', 'deep_tica']\n",
      "INFO:deep_cartograph.tools.train_colvars.cv_calculator:Reading training data from colvars files...\n",
      "INFO:deep_cartograph.tools.train_colvars.cv_calculator:Number of features: 183\n",
      "INFO:deep_cartograph.tools.train_colvars.cv_calculator:Number of samples: 338\n",
      "INFO:deep_cartograph.tools.train_colvars.cv_calculator:Calculating AE ...\n",
      "INFO:deep_cartograph.tools.train_colvars.cv_calculator:Training AE ...\n",
      "INFO:deep_cartograph.tools.train_colvars.cv_calculator:Model architecture: AutoEncoderCV(\n",
      "  (loss_fn): MSELoss()\n",
      "  (norm_in): Normalization(in_features=183, out_features=183, mode=mean_std)\n",
      "  (encoder): FeedForward(\n",
      "    (nn): Sequential(\n",
      "      (0): Linear(in_features=183, out_features=15, bias=True)\n",
      "      (1): Shifted_Softplus(beta=1, threshold=20)\n",
      "      (2): Dropout(p=0.1, inplace=False)\n",
      "      (3): Linear(in_features=15, out_features=15, bias=True)\n",
      "      (4): Shifted_Softplus(beta=1, threshold=20)\n",
      "      (5): Dropout(p=0.1, inplace=False)\n",
      "      (6): Linear(in_features=15, out_features=2, bias=True)\n",
      "    )\n",
      "  )\n",
      "  (decoder): FeedForward(\n",
      "    (nn): Sequential(\n",
      "      (0): Linear(in_features=2, out_features=15, bias=True)\n",
      "      (1): Shifted_Softplus(beta=1, threshold=20)\n",
      "      (2): Dropout(p=0.1, inplace=False)\n",
      "      (3): Linear(in_features=15, out_features=15, bias=True)\n",
      "      (4): Shifted_Softplus(beta=1, threshold=20)\n",
      "      (5): Dropout(p=0.1, inplace=False)\n",
      "      (6): Linear(in_features=15, out_features=183, bias=True)\n",
      "    )\n",
      "  )\n",
      ")\n",
      "GPU available: False, used: False\n",
      "TPU available: False, using: 0 TPU cores\n",
      "HPU available: False, using: 0 HPUs\n",
      "\n",
      "  | Name    | Type          | Params | Mode  | In sizes | Out sizes\n",
      "-------------------------------------------------------------------------\n",
      "0 | loss_fn | MSELoss       | 0      | train | ?        | ?        \n",
      "1 | norm_in | Normalization | 0      | train | [1, 183] | [1, 183] \n",
      "2 | encoder | FeedForward   | 3.0 K  | train | [1, 183] | [1, 2]   \n",
      "3 | decoder | FeedForward   | 3.2 K  | train | ?        | ?        \n",
      "-------------------------------------------------------------------------\n",
      "6.2 K     Trainable params\n",
      "0         Non-trainable params\n",
      "6.2 K     Total params\n",
      "0.025     Total estimated model params size (MB)\n",
      "INFO:deep_cartograph.tools.train_colvars.cv_calculator:Best model score: 0.002679416909813881\n",
      "INFO:deep_cartograph.tools.train_colvars.cv_calculator:Projecting reference data onto AE ...\n",
      "/home/pnavarro/repos/mlcolvar/mlcolvar/core/nn/utils.py:13: TracerWarning: Converting a tensor to a Python number might cause the trace to be incorrect. We can't record the data flow of Python values, so this value will be treated as a constant in the future. This means that the trace might not generalize to other inputs!\n",
      "  sp0 = F.softplus(torch.zeros(1), self.beta, self.threshold).item()\n",
      "INFO:deep_cartograph.tools.train_colvars.cv_calculator:Collective variable weights saved to /home/pnavarro/repos/NostrumBD/CV_learning/deep_cartograph/deep_cartograph/data/calpha_transitions/experiments/output/2olu_A-2olv_A-1/torsions/lt_4/train_colvars/ae/weights.ptc\n",
      "INFO:deep_cartograph.tools.train_colvars.train_colvars_workflow:Projecting colvars file: /home/pnavarro/repos/NostrumBD/CV_learning/deep_cartograph/deep_cartograph/data/calpha_transitions/experiments/output/2olu_A-2olv_A-1/torsions/lt_4/compute_features/2olu_A-2olv_A-1/colvars.dat\n",
      "INFO:deep_cartograph.tools.train_colvars.train_colvars_workflow:Corresponding trajectory file: /home/pnavarro/repos/NostrumBD/CV_learning/deep_cartograph/deep_cartograph/data/calpha_transitions/input/2olu_A-2olv_A-1/2olu_A-2olv_A-1.dcd\n",
      "INFO:deep_cartograph.tools.train_colvars.train_colvars_workflow:Corresponding topology file: /home/pnavarro/repos/NostrumBD/CV_learning/deep_cartograph/deep_cartograph/data/calpha_transitions/input/2olu_A-2olv_A-1/2olu_A-2olv_A-1.pdb\n",
      "INFO:deep_cartograph.tools.train_colvars.cv_calculator:Projecting features onto AE ...\n",
      "INFO:deep_cartograph.modules.figures.figures:Computing FES(AE 1, AE 2)...\n",
      "/home/pnavarro/repos/NostrumBD/CV_learning/deep_cartograph/deep_cartograph/modules/figures/figures.py:129: UserWarning: No artists with labels found to put in legend.  Note that artists whose label start with an underscore are ignored when legend() is called with no argument.\n",
      "  ax.legend(fontsize = font_size)\n",
      "INFO:deep_cartograph.tools.train_colvars.cv_calculator:Reading training data from colvars files...\n",
      "INFO:deep_cartograph.tools.train_colvars.cv_calculator:Number of features: 183\n",
      "/home/pnavarro/repos/mlcolvar/mlcolvar/utils/timelagged.py:140: UserWarning: Monitoring the progress for the search of time-lagged configurations with a progress_bar requires `tqdm`.\n",
      "  warnings.warn(\n",
      "INFO:deep_cartograph.tools.train_colvars.cv_calculator:Number of samples: 332\n",
      "INFO:deep_cartograph.tools.train_colvars.cv_calculator:Calculating DeepTICA ...\n",
      "INFO:deep_cartograph.tools.train_colvars.cv_calculator:Training DeepTICA ...\n",
      "INFO:deep_cartograph.tools.train_colvars.cv_calculator:Model architecture: DeepTICA(\n",
      "  (loss_fn): ReduceEigenvaluesLoss()\n",
      "  (norm_in): Normalization(in_features=183, out_features=183, mode=mean_std)\n",
      "  (nn): FeedForward(\n",
      "    (nn): Sequential(\n",
      "      (0): Linear(in_features=183, out_features=15, bias=True)\n",
      "      (1): Shifted_Softplus(beta=1, threshold=20)\n",
      "      (2): Dropout(p=0.1, inplace=False)\n",
      "      (3): Linear(in_features=15, out_features=15, bias=True)\n",
      "      (4): Shifted_Softplus(beta=1, threshold=20)\n",
      "      (5): Dropout(p=0.1, inplace=False)\n",
      "      (6): Linear(in_features=15, out_features=2, bias=True)\n",
      "    )\n",
      "  )\n",
      "  (tica): TICA(in_features=2, out_features=2)\n",
      ")\n",
      "GPU available: False, used: False\n",
      "TPU available: False, using: 0 TPU cores\n",
      "HPU available: False, using: 0 HPUs\n",
      "\n",
      "  | Name    | Type                  | Params | Mode  | In sizes | Out sizes\n",
      "---------------------------------------------------------------------------------\n",
      "0 | loss_fn | ReduceEigenvaluesLoss | 0      | train | ?        | ?        \n",
      "1 | norm_in | Normalization         | 0      | train | [1, 183] | [1, 183] \n",
      "2 | nn      | FeedForward           | 3.0 K  | train | [1, 183] | [1, 2]   \n",
      "3 | tica    | TICA                  | 0      | train | [1, 2]   | [1, 2]   \n",
      "---------------------------------------------------------------------------------\n",
      "3.0 K     Trainable params\n",
      "0         Non-trainable params\n",
      "3.0 K     Total params\n",
      "0.012     Total estimated model params size (MB)\n",
      "INFO:deep_cartograph.tools.train_colvars.cv_calculator:Best model score: -26471.669921875\n",
      "/home/pnavarro/repos/mlcolvar/mlcolvar/utils/plot.py:254: UserWarning: Data has no positive values, and therefore cannot be log-scaled.\n",
      "  ax.set_yscale(yscale)\n",
      "INFO:deep_cartograph.tools.train_colvars.cv_calculator:Projecting reference data onto DeepTICA ...\n",
      "INFO:deep_cartograph.tools.train_colvars.cv_calculator:Took 228 epochs\n",
      "INFO:deep_cartograph.tools.train_colvars.cv_calculator:Eigenvalue 1: 20.8305721282959\n",
      "INFO:deep_cartograph.tools.train_colvars.cv_calculator:Eigenvalue 2: -19.788415908813477\n",
      "/home/pnavarro/repos/mlcolvar/mlcolvar/core/nn/utils.py:13: TracerWarning: Converting a tensor to a Python number might cause the trace to be incorrect. We can't record the data flow of Python values, so this value will be treated as a constant in the future. This means that the trace might not generalize to other inputs!\n",
      "  sp0 = F.softplus(torch.zeros(1), self.beta, self.threshold).item()\n",
      "INFO:deep_cartograph.tools.train_colvars.cv_calculator:Collective variable weights saved to /home/pnavarro/repos/NostrumBD/CV_learning/deep_cartograph/deep_cartograph/data/calpha_transitions/experiments/output/2olu_A-2olv_A-1/torsions/lt_4/train_colvars/deep_tica/weights.ptc\n",
      "INFO:deep_cartograph.tools.train_colvars.train_colvars_workflow:Projecting colvars file: /home/pnavarro/repos/NostrumBD/CV_learning/deep_cartograph/deep_cartograph/data/calpha_transitions/experiments/output/2olu_A-2olv_A-1/torsions/lt_4/compute_features/2olu_A-2olv_A-1/colvars.dat\n",
      "INFO:deep_cartograph.tools.train_colvars.train_colvars_workflow:Corresponding trajectory file: /home/pnavarro/repos/NostrumBD/CV_learning/deep_cartograph/deep_cartograph/data/calpha_transitions/input/2olu_A-2olv_A-1/2olu_A-2olv_A-1.dcd\n",
      "INFO:deep_cartograph.tools.train_colvars.train_colvars_workflow:Corresponding topology file: /home/pnavarro/repos/NostrumBD/CV_learning/deep_cartograph/deep_cartograph/data/calpha_transitions/input/2olu_A-2olv_A-1/2olu_A-2olv_A-1.pdb\n",
      "INFO:deep_cartograph.tools.train_colvars.cv_calculator:Projecting features onto DeepTICA ...\n",
      "INFO:deep_cartograph.modules.figures.figures:Computing FES(DeepTIC 1, DeepTIC 2)...\n",
      "/home/pnavarro/repos/NostrumBD/CV_learning/deep_cartograph/deep_cartograph/modules/figures/figures.py:129: UserWarning: No artists with labels found to put in legend.  Note that artists whose label start with an underscore are ignored when legend() is called with no argument.\n",
      "  ax.legend(fontsize = font_size)\n",
      "INFO:deep_cartograph:Elapsed time (Train colvars): 00 h 00 min 38 s\n",
      "INFO:deep_cartograph:Total elapsed time: 00 h 01 min 04 s\n",
      "INFO:deep_cartograph:================\n",
      "INFO:deep_cartograph:Compute features\n",
      "INFO:deep_cartograph:================\n",
      "INFO:deep_cartograph:Trajectory file: /home/pnavarro/repos/NostrumBD/CV_learning/deep_cartograph/deep_cartograph/data/calpha_transitions/input/2olu_A-2olv_A-1/2olu_A-2olv_A-1.dcd\n",
      "/home/pnavarro/miniforge3/envs/deep_cartograph/lib/python3.10/site-packages/MDAnalysis/topology/PDBParser.py:317: UserWarning: Element information is missing, elements attribute will not be populated. If needed these can be guessed using MDAnalysis.topology.guessers.\n",
      "  warnings.warn(\"Element information is missing, elements attribute \"\n",
      "/home/pnavarro/miniforge3/envs/deep_cartograph/lib/python3.10/site-packages/MDAnalysis/coordinates/PDB.py:747: UserWarning: Unit cell dimensions not found. CRYST1 record set to unitary values.\n",
      "  warnings.warn(\"Unit cell dimensions not found. \"\n",
      "/home/pnavarro/miniforge3/envs/deep_cartograph/lib/python3.10/site-packages/MDAnalysis/coordinates/PDB.py:1078: UserWarning: Found no information for attr: 'elements' Using default value of ' '\n",
      "  warnings.warn(\"Found no information for attr: '{}'\"\n",
      "/home/pnavarro/miniforge3/envs/deep_cartograph/lib/python3.10/site-packages/MDAnalysis/coordinates/PDB.py:429: UserWarning: 1 A^3 CRYST1 record, this is usually a placeholder. Unit cell dimensions will be set to None.\n",
      "  warnings.warn(\"1 A^3 CRYST1 record,\"\n",
      "INFO:deep_cartograph.modules.plumed.input_file.input_file:Found 1186 features for tor\n",
      "INFO:deep_cartograph.modules.plumed.utils:Executing PLUMED driver command: plumed driver --plumed /home/pnavarro/repos/NostrumBD/CV_learning/deep_cartograph/deep_cartograph/data/calpha_transitions/experiments/output/2olu_A-2olv_A-1/torsions/lt_8/compute_features/2olu_A-2olv_A-1/torsions.dat --mf_dcd /home/pnavarro/repos/NostrumBD/CV_learning/deep_cartograph/deep_cartograph/data/calpha_transitions/input/2olu_A-2olv_A-1/2olu_A-2olv_A-1.dcd --natoms 596\n",
      "INFO:deep_cartograph:Elapsed time (Compute features): 00 h 00 min 01 s\n",
      "INFO:deep_cartograph:==================\n",
      "INFO:deep_cartograph:Filtering features\n",
      "INFO:deep_cartograph:==================\n",
      "INFO:deep_cartograph:Finding the features that contains the most information about the transitions or conformational changes.\n",
      "INFO:deep_cartograph:The following algorithms are available:\n",
      "INFO:deep_cartograph:- Hartigan's dip test filter. Keeps features that are not unimodal.\n",
      "INFO:deep_cartograph:- Shannon entropy filter. Keeps features with entropy greater than a threshold.\n",
      "INFO:deep_cartograph:- Standard deviation filter. Keeps features with standard deviation greater than a threshold.\n",
      "INFO:deep_cartograph:Note that the all features must be in the same units to apply the entropy and standard deviation filters meaningfully.\n",
      "INFO:deep_cartograph:Initial size of features set: 1186.\n",
      "INFO:deep_cartograph.tools.filter_features.filtering:Computing dip test.\n",
      "INFO:deep_cartograph.tools.filter_features.filtering:Filtered 1003 features.\n",
      "INFO:deep_cartograph:Elapsed time (Filter features): 00 h 00 min 24 s\n",
      "INFO:deep_cartograph.modules.common.common: Using features in /home/pnavarro/repos/NostrumBD/CV_learning/deep_cartograph/deep_cartograph/data/calpha_transitions/experiments/output/2olu_A-2olv_A-1/torsions/lt_8/filter_features/filtered_features.txt\n",
      "INFO:deep_cartograph:================================\n",
      "INFO:deep_cartograph:Training of Collective Variables\n",
      "INFO:deep_cartograph:================================\n",
      "INFO:deep_cartograph:Training of collective variables using the mlcolvar library.\n",
      "INFO:deep_cartograph.tools.train_colvars.train_colvars_workflow:Collective variables to compute: ['ae', 'deep_tica']\n",
      "INFO:deep_cartograph.tools.train_colvars.cv_calculator:Reading training data from colvars files...\n",
      "INFO:deep_cartograph.tools.train_colvars.cv_calculator:Number of features: 183\n",
      "INFO:deep_cartograph.tools.train_colvars.cv_calculator:Number of samples: 338\n",
      "INFO:deep_cartograph.tools.train_colvars.cv_calculator:Calculating AE ...\n",
      "INFO:deep_cartograph.tools.train_colvars.cv_calculator:Training AE ...\n",
      "INFO:deep_cartograph.tools.train_colvars.cv_calculator:Model architecture: AutoEncoderCV(\n",
      "  (loss_fn): MSELoss()\n",
      "  (norm_in): Normalization(in_features=183, out_features=183, mode=mean_std)\n",
      "  (encoder): FeedForward(\n",
      "    (nn): Sequential(\n",
      "      (0): Linear(in_features=183, out_features=15, bias=True)\n",
      "      (1): Shifted_Softplus(beta=1, threshold=20)\n",
      "      (2): Dropout(p=0.1, inplace=False)\n",
      "      (3): Linear(in_features=15, out_features=15, bias=True)\n",
      "      (4): Shifted_Softplus(beta=1, threshold=20)\n",
      "      (5): Dropout(p=0.1, inplace=False)\n",
      "      (6): Linear(in_features=15, out_features=2, bias=True)\n",
      "    )\n",
      "  )\n",
      "  (decoder): FeedForward(\n",
      "    (nn): Sequential(\n",
      "      (0): Linear(in_features=2, out_features=15, bias=True)\n",
      "      (1): Shifted_Softplus(beta=1, threshold=20)\n",
      "      (2): Dropout(p=0.1, inplace=False)\n",
      "      (3): Linear(in_features=15, out_features=15, bias=True)\n",
      "      (4): Shifted_Softplus(beta=1, threshold=20)\n",
      "      (5): Dropout(p=0.1, inplace=False)\n",
      "      (6): Linear(in_features=15, out_features=183, bias=True)\n",
      "    )\n",
      "  )\n",
      ")\n",
      "GPU available: False, used: False\n",
      "TPU available: False, using: 0 TPU cores\n",
      "HPU available: False, using: 0 HPUs\n",
      "\n",
      "  | Name    | Type          | Params | Mode  | In sizes | Out sizes\n",
      "-------------------------------------------------------------------------\n",
      "0 | loss_fn | MSELoss       | 0      | train | ?        | ?        \n",
      "1 | norm_in | Normalization | 0      | train | [1, 183] | [1, 183] \n",
      "2 | encoder | FeedForward   | 3.0 K  | train | [1, 183] | [1, 2]   \n",
      "3 | decoder | FeedForward   | 3.2 K  | train | ?        | ?        \n",
      "-------------------------------------------------------------------------\n",
      "6.2 K     Trainable params\n",
      "0         Non-trainable params\n",
      "6.2 K     Total params\n",
      "0.025     Total estimated model params size (MB)\n",
      "INFO:deep_cartograph.tools.train_colvars.cv_calculator:Best model score: 0.002679416909813881\n",
      "INFO:deep_cartograph.tools.train_colvars.cv_calculator:Projecting reference data onto AE ...\n",
      "/home/pnavarro/repos/mlcolvar/mlcolvar/core/nn/utils.py:13: TracerWarning: Converting a tensor to a Python number might cause the trace to be incorrect. We can't record the data flow of Python values, so this value will be treated as a constant in the future. This means that the trace might not generalize to other inputs!\n",
      "  sp0 = F.softplus(torch.zeros(1), self.beta, self.threshold).item()\n",
      "INFO:deep_cartograph.tools.train_colvars.cv_calculator:Collective variable weights saved to /home/pnavarro/repos/NostrumBD/CV_learning/deep_cartograph/deep_cartograph/data/calpha_transitions/experiments/output/2olu_A-2olv_A-1/torsions/lt_8/train_colvars/ae/weights.ptc\n",
      "INFO:deep_cartograph.tools.train_colvars.train_colvars_workflow:Projecting colvars file: /home/pnavarro/repos/NostrumBD/CV_learning/deep_cartograph/deep_cartograph/data/calpha_transitions/experiments/output/2olu_A-2olv_A-1/torsions/lt_8/compute_features/2olu_A-2olv_A-1/colvars.dat\n",
      "INFO:deep_cartograph.tools.train_colvars.train_colvars_workflow:Corresponding trajectory file: /home/pnavarro/repos/NostrumBD/CV_learning/deep_cartograph/deep_cartograph/data/calpha_transitions/input/2olu_A-2olv_A-1/2olu_A-2olv_A-1.dcd\n",
      "INFO:deep_cartograph.tools.train_colvars.train_colvars_workflow:Corresponding topology file: /home/pnavarro/repos/NostrumBD/CV_learning/deep_cartograph/deep_cartograph/data/calpha_transitions/input/2olu_A-2olv_A-1/2olu_A-2olv_A-1.pdb\n",
      "INFO:deep_cartograph.tools.train_colvars.cv_calculator:Projecting features onto AE ...\n",
      "INFO:deep_cartograph.modules.figures.figures:Computing FES(AE 1, AE 2)...\n",
      "/home/pnavarro/repos/NostrumBD/CV_learning/deep_cartograph/deep_cartograph/modules/figures/figures.py:129: UserWarning: No artists with labels found to put in legend.  Note that artists whose label start with an underscore are ignored when legend() is called with no argument.\n",
      "  ax.legend(fontsize = font_size)\n",
      "INFO:deep_cartograph.tools.train_colvars.cv_calculator:Reading training data from colvars files...\n",
      "INFO:deep_cartograph.tools.train_colvars.cv_calculator:Number of features: 183\n",
      "/home/pnavarro/repos/mlcolvar/mlcolvar/utils/timelagged.py:140: UserWarning: Monitoring the progress for the search of time-lagged configurations with a progress_bar requires `tqdm`.\n",
      "  warnings.warn(\n",
      "INFO:deep_cartograph.tools.train_colvars.cv_calculator:Number of samples: 328\n",
      "INFO:deep_cartograph.tools.train_colvars.cv_calculator:Calculating DeepTICA ...\n",
      "INFO:deep_cartograph.tools.train_colvars.cv_calculator:Training DeepTICA ...\n",
      "INFO:deep_cartograph.tools.train_colvars.cv_calculator:Model architecture: DeepTICA(\n",
      "  (loss_fn): ReduceEigenvaluesLoss()\n",
      "  (norm_in): Normalization(in_features=183, out_features=183, mode=mean_std)\n",
      "  (nn): FeedForward(\n",
      "    (nn): Sequential(\n",
      "      (0): Linear(in_features=183, out_features=15, bias=True)\n",
      "      (1): Shifted_Softplus(beta=1, threshold=20)\n",
      "      (2): Dropout(p=0.1, inplace=False)\n",
      "      (3): Linear(in_features=15, out_features=15, bias=True)\n",
      "      (4): Shifted_Softplus(beta=1, threshold=20)\n",
      "      (5): Dropout(p=0.1, inplace=False)\n",
      "      (6): Linear(in_features=15, out_features=2, bias=True)\n",
      "    )\n",
      "  )\n",
      "  (tica): TICA(in_features=2, out_features=2)\n",
      ")\n",
      "GPU available: False, used: False\n",
      "TPU available: False, using: 0 TPU cores\n",
      "HPU available: False, using: 0 HPUs\n",
      "\n",
      "  | Name    | Type                  | Params | Mode  | In sizes | Out sizes\n",
      "---------------------------------------------------------------------------------\n",
      "0 | loss_fn | ReduceEigenvaluesLoss | 0      | train | ?        | ?        \n",
      "1 | norm_in | Normalization         | 0      | train | [1, 183] | [1, 183] \n",
      "2 | nn      | FeedForward           | 3.0 K  | train | [1, 183] | [1, 2]   \n",
      "3 | tica    | TICA                  | 0      | train | [1, 2]   | [1, 2]   \n",
      "---------------------------------------------------------------------------------\n",
      "3.0 K     Trainable params\n",
      "0         Non-trainable params\n",
      "3.0 K     Total params\n",
      "0.012     Total estimated model params size (MB)\n",
      "INFO:deep_cartograph.tools.train_colvars.cv_calculator:Best model score: -1.491290807723999\n",
      "/home/pnavarro/repos/mlcolvar/mlcolvar/utils/plot.py:254: UserWarning: Data has no positive values, and therefore cannot be log-scaled.\n",
      "  ax.set_yscale(yscale)\n",
      "INFO:deep_cartograph.tools.train_colvars.cv_calculator:Projecting reference data onto DeepTICA ...\n",
      "INFO:deep_cartograph.tools.train_colvars.cv_calculator:Took 13 epochs\n",
      "INFO:deep_cartograph.tools.train_colvars.cv_calculator:Eigenvalue 1: 0.9278119802474976\n",
      "INFO:deep_cartograph.tools.train_colvars.cv_calculator:Eigenvalue 2: 0.7794311046600342\n"
     ]
    },
    {
     "name": "stdout",
     "output_type": "stream",
     "text": [
      "[Warning] Normalization: the following features have a range of values < 1e-6: tensor([[1]])\n"
     ]
    },
    {
     "name": "stderr",
     "output_type": "stream",
     "text": [
      "/home/pnavarro/repos/mlcolvar/mlcolvar/core/nn/utils.py:13: TracerWarning: Converting a tensor to a Python number might cause the trace to be incorrect. We can't record the data flow of Python values, so this value will be treated as a constant in the future. This means that the trace might not generalize to other inputs!\n",
      "  sp0 = F.softplus(torch.zeros(1), self.beta, self.threshold).item()\n",
      "INFO:deep_cartograph.tools.train_colvars.cv_calculator:Collective variable weights saved to /home/pnavarro/repos/NostrumBD/CV_learning/deep_cartograph/deep_cartograph/data/calpha_transitions/experiments/output/2olu_A-2olv_A-1/torsions/lt_8/train_colvars/deep_tica/weights.ptc\n",
      "INFO:deep_cartograph.tools.train_colvars.train_colvars_workflow:Projecting colvars file: /home/pnavarro/repos/NostrumBD/CV_learning/deep_cartograph/deep_cartograph/data/calpha_transitions/experiments/output/2olu_A-2olv_A-1/torsions/lt_8/compute_features/2olu_A-2olv_A-1/colvars.dat\n",
      "INFO:deep_cartograph.tools.train_colvars.train_colvars_workflow:Corresponding trajectory file: /home/pnavarro/repos/NostrumBD/CV_learning/deep_cartograph/deep_cartograph/data/calpha_transitions/input/2olu_A-2olv_A-1/2olu_A-2olv_A-1.dcd\n",
      "INFO:deep_cartograph.tools.train_colvars.train_colvars_workflow:Corresponding topology file: /home/pnavarro/repos/NostrumBD/CV_learning/deep_cartograph/deep_cartograph/data/calpha_transitions/input/2olu_A-2olv_A-1/2olu_A-2olv_A-1.pdb\n",
      "INFO:deep_cartograph.tools.train_colvars.cv_calculator:Projecting features onto DeepTICA ...\n",
      "INFO:deep_cartograph.modules.figures.figures:Computing FES(DeepTIC 1, DeepTIC 2)...\n"
     ]
    },
    {
     "ename": "ValueError",
     "evalue": "Every data point must be inside of the grid.",
     "output_type": "error",
     "traceback": [
      "\u001b[0;31m---------------------------------------------------------------------------\u001b[0m",
      "\u001b[0;31mValueError\u001b[0m                                Traceback (most recent call last)",
      "Cell \u001b[0;32mIn[10], line 24\u001b[0m\n\u001b[1;32m     21\u001b[0m test_configuration[\u001b[38;5;124m'\u001b[39m\u001b[38;5;124mtrain_colvars\u001b[39m\u001b[38;5;124m'\u001b[39m][\u001b[38;5;124m'\u001b[39m\u001b[38;5;124mcommon\u001b[39m\u001b[38;5;124m'\u001b[39m][\u001b[38;5;124m'\u001b[39m\u001b[38;5;124marchitecture\u001b[39m\u001b[38;5;124m'\u001b[39m][\u001b[38;5;124m'\u001b[39m\u001b[38;5;124mlag_time\u001b[39m\u001b[38;5;124m'\u001b[39m] \u001b[38;5;241m=\u001b[39m lt\n\u001b[1;32m     23\u001b[0m \u001b[38;5;66;03m# Run deep cartograph\u001b[39;00m\n\u001b[0;32m---> 24\u001b[0m \u001b[43mrun_deep_cartograph\u001b[49m\u001b[43m(\u001b[49m\u001b[43mtest_configuration\u001b[49m\u001b[43m,\u001b[49m\u001b[43m \u001b[49m\u001b[43mfeatures\u001b[49m\u001b[43m,\u001b[49m\u001b[43m \u001b[49m\u001b[43msystem_name\u001b[49m\u001b[43m,\u001b[49m\u001b[43m \u001b[49m\u001b[43mtest_name\u001b[49m\u001b[43m)\u001b[49m\n",
      "Cell \u001b[0;32mIn[1], line 46\u001b[0m, in \u001b[0;36mrun_deep_cartograph\u001b[0;34m(configuration, features, system_name, test_name)\u001b[0m\n\u001b[1;32m     43\u001b[0m     shutil\u001b[38;5;241m.\u001b[39mrmtree(output_folder)\n\u001b[1;32m     45\u001b[0m \u001b[38;5;66;03m# Run workflow \u001b[39;00m\n\u001b[0;32m---> 46\u001b[0m \u001b[43mdeep_cartograph\u001b[49m\u001b[43m(\u001b[49m\n\u001b[1;32m     47\u001b[0m \u001b[43m    \u001b[49m\u001b[43mconfiguration\u001b[49m\u001b[43m \u001b[49m\u001b[38;5;241;43m=\u001b[39;49m\u001b[43m \u001b[49m\u001b[43mconfiguration\u001b[49m\u001b[43m,\u001b[49m\n\u001b[1;32m     48\u001b[0m \u001b[43m    \u001b[49m\u001b[43mtrajectory_data\u001b[49m\u001b[43m \u001b[49m\u001b[38;5;241;43m=\u001b[39;49m\u001b[43m \u001b[49m\u001b[43mtraj_path\u001b[49m\u001b[43m,\u001b[49m\n\u001b[1;32m     49\u001b[0m \u001b[43m    \u001b[49m\u001b[43mtopology_data\u001b[49m\u001b[43m \u001b[49m\u001b[38;5;241;43m=\u001b[39;49m\u001b[43m \u001b[49m\u001b[43mtop_path\u001b[49m\u001b[43m,\u001b[49m\n\u001b[1;32m     50\u001b[0m \u001b[43m    \u001b[49m\u001b[43moutput_folder\u001b[49m\u001b[43m \u001b[49m\u001b[38;5;241;43m=\u001b[39;49m\u001b[43m \u001b[49m\u001b[43moutput_folder\u001b[49m\u001b[43m)\u001b[49m\n",
      "File \u001b[0;32m~/repos/NostrumBD/CV_learning/deep_cartograph/deep_cartograph/run.py:141\u001b[0m, in \u001b[0;36mdeep_cartograph\u001b[0;34m(configuration, trajectory_data, topology_data, ref_trajectory_data, ref_topology_data, label_reference, dimension, cvs, restart, output_folder)\u001b[0m\n\u001b[1;32m    139\u001b[0m \u001b[38;5;66;03m# Step 3: Train colvars\u001b[39;00m\n\u001b[1;32m    140\u001b[0m step3_output_folder \u001b[38;5;241m=\u001b[39m os\u001b[38;5;241m.\u001b[39mpath\u001b[38;5;241m.\u001b[39mjoin(output_folder, \u001b[38;5;124m'\u001b[39m\u001b[38;5;124mtrain_colvars\u001b[39m\u001b[38;5;124m'\u001b[39m)\n\u001b[0;32m--> 141\u001b[0m \u001b[43mtrain_colvars\u001b[49m\u001b[43m(\u001b[49m\n\u001b[1;32m    142\u001b[0m \u001b[43m    \u001b[49m\u001b[43mconfiguration\u001b[49m\u001b[43m \u001b[49m\u001b[38;5;241;43m=\u001b[39;49m\u001b[43m \u001b[49m\u001b[43mconfiguration\u001b[49m\u001b[43m[\u001b[49m\u001b[38;5;124;43m'\u001b[39;49m\u001b[38;5;124;43mtrain_colvars\u001b[39;49m\u001b[38;5;124;43m'\u001b[39;49m\u001b[43m]\u001b[49m\u001b[43m,\u001b[49m\n\u001b[1;32m    143\u001b[0m \u001b[43m    \u001b[49m\u001b[43mcolvars_paths\u001b[49m\u001b[43m \u001b[49m\u001b[38;5;241;43m=\u001b[39;49m\u001b[43m \u001b[49m\u001b[43mtraj_colvars_paths\u001b[49m\u001b[43m,\u001b[49m\n\u001b[1;32m    144\u001b[0m \u001b[43m    \u001b[49m\u001b[43mfeature_constraints\u001b[49m\u001b[43m \u001b[49m\u001b[38;5;241;43m=\u001b[39;49m\u001b[43m \u001b[49m\u001b[43mfiltered_features\u001b[49m\u001b[43m,\u001b[49m\n\u001b[1;32m    145\u001b[0m \u001b[43m    \u001b[49m\u001b[43mref_colvars_paths\u001b[49m\u001b[43m \u001b[49m\u001b[38;5;241;43m=\u001b[39;49m\u001b[43m \u001b[49m\u001b[43mref_colvars_paths\u001b[49m\u001b[43m,\u001b[49m\n\u001b[1;32m    146\u001b[0m \u001b[43m    \u001b[49m\u001b[43mref_labels\u001b[49m\u001b[43m \u001b[49m\u001b[38;5;241;43m=\u001b[39;49m\u001b[43m \u001b[49m\u001b[43mref_names\u001b[49m\u001b[43m,\u001b[49m\n\u001b[1;32m    147\u001b[0m \u001b[43m    \u001b[49m\u001b[43mdimension\u001b[49m\u001b[43m \u001b[49m\u001b[38;5;241;43m=\u001b[39;49m\u001b[43m \u001b[49m\u001b[43mdimension\u001b[49m\u001b[43m,\u001b[49m\n\u001b[1;32m    148\u001b[0m \u001b[43m    \u001b[49m\u001b[43mcvs\u001b[49m\u001b[43m \u001b[49m\u001b[38;5;241;43m=\u001b[39;49m\u001b[43m \u001b[49m\u001b[43mcvs\u001b[49m\u001b[43m,\u001b[49m\n\u001b[1;32m    149\u001b[0m \u001b[43m    \u001b[49m\u001b[43mtrajectories\u001b[49m\u001b[43m \u001b[49m\u001b[38;5;241;43m=\u001b[39;49m\u001b[43m \u001b[49m\u001b[43mtrajectories\u001b[49m\u001b[43m,\u001b[49m\n\u001b[1;32m    150\u001b[0m \u001b[43m    \u001b[49m\u001b[43mtopologies\u001b[49m\u001b[43m \u001b[49m\u001b[38;5;241;43m=\u001b[39;49m\u001b[43m \u001b[49m\u001b[43mtopologies\u001b[49m\u001b[43m,\u001b[49m\n\u001b[1;32m    151\u001b[0m \u001b[43m    \u001b[49m\u001b[43msamples_per_frame\u001b[49m\u001b[43m \u001b[49m\u001b[38;5;241;43m=\u001b[39;49m\u001b[43m \u001b[49m\u001b[38;5;241;43m1\u001b[39;49m\u001b[38;5;241;43m/\u001b[39;49m\u001b[43mconfiguration\u001b[49m\u001b[43m[\u001b[49m\u001b[38;5;124;43m'\u001b[39;49m\u001b[38;5;124;43mcompute_features\u001b[39;49m\u001b[38;5;124;43m'\u001b[39;49m\u001b[43m]\u001b[49m\u001b[43m[\u001b[49m\u001b[38;5;124;43m'\u001b[39;49m\u001b[38;5;124;43mplumed_settings\u001b[39;49m\u001b[38;5;124;43m'\u001b[39;49m\u001b[43m]\u001b[49m\u001b[43m[\u001b[49m\u001b[38;5;124;43m'\u001b[39;49m\u001b[38;5;124;43mtraj_stride\u001b[39;49m\u001b[38;5;124;43m'\u001b[39;49m\u001b[43m]\u001b[49m\u001b[43m,\u001b[49m\n\u001b[1;32m    152\u001b[0m \u001b[43m    \u001b[49m\u001b[43moutput_folder\u001b[49m\u001b[43m \u001b[49m\u001b[38;5;241;43m=\u001b[39;49m\u001b[43m \u001b[49m\u001b[43mstep3_output_folder\u001b[49m\u001b[43m)\u001b[49m\n\u001b[1;32m    154\u001b[0m \u001b[38;5;66;03m# End timer\u001b[39;00m\n\u001b[1;32m    155\u001b[0m elapsed_time \u001b[38;5;241m=\u001b[39m time\u001b[38;5;241m.\u001b[39mtime() \u001b[38;5;241m-\u001b[39m start_time\n",
      "File \u001b[0;32m~/repos/NostrumBD/CV_learning/deep_cartograph/deep_cartograph/tools/train_colvars/train_colvars.py:127\u001b[0m, in \u001b[0;36mtrain_colvars\u001b[0;34m(configuration, colvars_paths, feature_constraints, ref_colvars_paths, ref_labels, dimension, cvs, trajectories, topologies, samples_per_frame, output_folder)\u001b[0m\n\u001b[1;32m    112\u001b[0m workflow \u001b[38;5;241m=\u001b[39m TrainColvarsWorkflow(\n\u001b[1;32m    113\u001b[0m     configuration\u001b[38;5;241m=\u001b[39mconfiguration,\n\u001b[1;32m    114\u001b[0m     colvars_paths\u001b[38;5;241m=\u001b[39mcolvars_paths,\n\u001b[0;32m   (...)\u001b[0m\n\u001b[1;32m    123\u001b[0m     output_folder\u001b[38;5;241m=\u001b[39moutput_folder\n\u001b[1;32m    124\u001b[0m )\n\u001b[1;32m    126\u001b[0m \u001b[38;5;66;03m# Run the workflow\u001b[39;00m\n\u001b[0;32m--> 127\u001b[0m \u001b[43mworkflow\u001b[49m\u001b[38;5;241;43m.\u001b[39;49m\u001b[43mrun\u001b[49m\u001b[43m(\u001b[49m\u001b[43m)\u001b[49m\n\u001b[1;32m    129\u001b[0m \u001b[38;5;66;03m# End timer\u001b[39;00m\n\u001b[1;32m    130\u001b[0m elapsed_time \u001b[38;5;241m=\u001b[39m time\u001b[38;5;241m.\u001b[39mtime() \u001b[38;5;241m-\u001b[39m start_time\n",
      "File \u001b[0;32m~/repos/NostrumBD/CV_learning/deep_cartograph/deep_cartograph/tools/train_colvars/train_colvars_workflow.py:183\u001b[0m, in \u001b[0;36mTrainColvarsWorkflow.run\u001b[0;34m(self)\u001b[0m\n\u001b[1;32m    180\u001b[0m projected_colvars \u001b[38;5;241m=\u001b[39m cv_calculator\u001b[38;5;241m.\u001b[39mproject_colvars(colvars)\n\u001b[1;32m    182\u001b[0m \u001b[38;5;66;03m# Plot FES of the CV space - add ref data if available\u001b[39;00m\n\u001b[0;32m--> 183\u001b[0m \u001b[43mfigures\u001b[49m\u001b[38;5;241;43m.\u001b[39;49m\u001b[43mplot_fes\u001b[49m\u001b[43m(\u001b[49m\n\u001b[1;32m    184\u001b[0m \u001b[43m    \u001b[49m\u001b[43mX\u001b[49m\u001b[43m \u001b[49m\u001b[38;5;241;43m=\u001b[39;49m\u001b[43m \u001b[49m\u001b[43mprojected_colvars\u001b[49m\u001b[43m,\u001b[49m\n\u001b[1;32m    185\u001b[0m \u001b[43m    \u001b[49m\u001b[43mcv_labels\u001b[49m\u001b[43m \u001b[49m\u001b[38;5;241;43m=\u001b[39;49m\u001b[43m \u001b[49m\u001b[43mcv_calculator\u001b[49m\u001b[38;5;241;43m.\u001b[39;49m\u001b[43mget_labels\u001b[49m\u001b[43m(\u001b[49m\u001b[43m)\u001b[49m\u001b[43m,\u001b[49m\n\u001b[1;32m    186\u001b[0m \u001b[43m    \u001b[49m\u001b[43mX_ref\u001b[49m\u001b[43m \u001b[49m\u001b[38;5;241;43m=\u001b[39;49m\u001b[43m \u001b[49m\u001b[43mcv_calculator\u001b[49m\u001b[38;5;241;43m.\u001b[39;49m\u001b[43mget_projected_ref\u001b[49m\u001b[43m(\u001b[49m\u001b[43m)\u001b[49m\u001b[43m,\u001b[49m\n\u001b[1;32m    187\u001b[0m \u001b[43m    \u001b[49m\u001b[43mX_ref_labels\u001b[49m\u001b[43m \u001b[49m\u001b[38;5;241;43m=\u001b[39;49m\u001b[43m \u001b[49m\u001b[38;5;28;43mself\u001b[39;49m\u001b[38;5;241;43m.\u001b[39;49m\u001b[43mref_labels\u001b[49m\u001b[43m,\u001b[49m\n\u001b[1;32m    188\u001b[0m \u001b[43m    \u001b[49m\u001b[43msettings\u001b[49m\u001b[43m \u001b[49m\u001b[38;5;241;43m=\u001b[39;49m\u001b[43m \u001b[49m\u001b[38;5;28;43mself\u001b[39;49m\u001b[38;5;241;43m.\u001b[39;49m\u001b[43mfigures_configuration\u001b[49m\u001b[43m,\u001b[49m\n\u001b[1;32m    189\u001b[0m \u001b[43m    \u001b[49m\u001b[43moutput_path\u001b[49m\u001b[43m \u001b[49m\u001b[38;5;241;43m=\u001b[39;49m\u001b[43m \u001b[49m\u001b[43mtraj_output_folder\u001b[49m\u001b[43m)\u001b[49m\n\u001b[1;32m    191\u001b[0m \u001b[38;5;66;03m# Create a dataframe with the projected input data\u001b[39;00m\n\u001b[1;32m    192\u001b[0m projected_colvars_df \u001b[38;5;241m=\u001b[39m pd\u001b[38;5;241m.\u001b[39mDataFrame(projected_colvars, columns\u001b[38;5;241m=\u001b[39mcv_calculator\u001b[38;5;241m.\u001b[39mget_labels())\n",
      "File \u001b[0;32m~/repos/NostrumBD/CV_learning/deep_cartograph/deep_cartograph/modules/figures/figures.py:78\u001b[0m, in \u001b[0;36mplot_fes\u001b[0;34m(X, cv_labels, X_ref, X_ref_labels, settings, output_path)\u001b[0m\n\u001b[1;32m     75\u001b[0m fig, ax \u001b[38;5;241m=\u001b[39m plt\u001b[38;5;241m.\u001b[39msubplots()\n\u001b[1;32m     77\u001b[0m \u001b[38;5;66;03m# Compute the FES along the given variables\u001b[39;00m\n\u001b[0;32m---> 78\u001b[0m fes, fes_grid, fes_bounds, fes_error \u001b[38;5;241m=\u001b[39m \u001b[43mcompute_fes\u001b[49m\u001b[43m(\u001b[49m\u001b[43mX\u001b[49m\u001b[43m,\u001b[49m\u001b[43m \u001b[49m\u001b[43mtemp\u001b[49m\u001b[43m \u001b[49m\u001b[38;5;241;43m=\u001b[39;49m\u001b[43m \u001b[49m\u001b[43mtemperature\u001b[49m\u001b[43m,\u001b[49m\u001b[43m \u001b[49m\u001b[43max\u001b[49m\u001b[43m \u001b[49m\u001b[38;5;241;43m=\u001b[39;49m\u001b[43m \u001b[49m\u001b[43max\u001b[49m\u001b[43m,\u001b[49m\u001b[43m \u001b[49m\u001b[43mplot\u001b[49m\u001b[43m \u001b[49m\u001b[38;5;241;43m=\u001b[39;49m\u001b[43m \u001b[49m\u001b[38;5;28;43;01mTrue\u001b[39;49;00m\u001b[43m,\u001b[49m\u001b[43m \u001b[49m\n\u001b[1;32m     79\u001b[0m \u001b[43m                                    \u001b[49m\u001b[43mplot_max_fes\u001b[49m\u001b[43m \u001b[49m\u001b[38;5;241;43m=\u001b[39;49m\u001b[43m \u001b[49m\u001b[43mmax_fes\u001b[49m\u001b[43m,\u001b[49m\u001b[43m \u001b[49m\u001b[43mbackend\u001b[49m\u001b[43m \u001b[49m\u001b[38;5;241;43m=\u001b[39;49m\u001b[43m \u001b[49m\u001b[38;5;124;43m\"\u001b[39;49m\u001b[38;5;124;43mKDEpy\u001b[39;49m\u001b[38;5;124;43m\"\u001b[39;49m\u001b[43m,\u001b[49m\n\u001b[1;32m     80\u001b[0m \u001b[43m                                    \u001b[49m\u001b[43mnum_samples\u001b[49m\u001b[43m \u001b[49m\u001b[38;5;241;43m=\u001b[39;49m\u001b[43m \u001b[49m\u001b[43mnum_bins\u001b[49m\u001b[43m,\u001b[49m\u001b[43m \u001b[49m\u001b[43mbandwidth\u001b[49m\u001b[43m \u001b[49m\u001b[38;5;241;43m=\u001b[39;49m\u001b[43m \u001b[49m\u001b[43mbandwidth\u001b[49m\u001b[43m,\u001b[49m\n\u001b[1;32m     81\u001b[0m \u001b[43m                                    \u001b[49m\u001b[43mblocks\u001b[49m\u001b[43m \u001b[49m\u001b[38;5;241;43m=\u001b[39;49m\u001b[43m \u001b[49m\u001b[43mnum_blocks\u001b[49m\u001b[43m,\u001b[49m\u001b[43m \u001b[49m\u001b[43meps\u001b[49m\u001b[43m \u001b[49m\u001b[38;5;241;43m=\u001b[39;49m\u001b[43m \u001b[49m\u001b[38;5;241;43m1e-10\u001b[39;49m\u001b[43m,\u001b[49m\u001b[43m \u001b[49m\u001b[43mbounds\u001b[49m\u001b[43m \u001b[49m\u001b[38;5;241;43m=\u001b[39;49m\u001b[43m \u001b[49m\u001b[43mget_ranges\u001b[49m\u001b[43m(\u001b[49m\u001b[43mX\u001b[49m\u001b[43m)\u001b[49m\u001b[43m)\u001b[49m\n\u001b[1;32m     83\u001b[0m \u001b[38;5;66;03m# Save the FE values, the grid, the bounds and the error\u001b[39;00m\n\u001b[1;32m     84\u001b[0m \u001b[38;5;28;01mif\u001b[39;00m settings\u001b[38;5;241m.\u001b[39mget(\u001b[38;5;124m'\u001b[39m\u001b[38;5;124msave\u001b[39m\u001b[38;5;124m'\u001b[39m, \u001b[38;5;28;01mFalse\u001b[39;00m):\n",
      "File \u001b[0;32m~/repos/mlcolvar/mlcolvar/utils/fes.py:213\u001b[0m, in \u001b[0;36mcompute_fes\u001b[0;34m(X, temp, kbt, num_samples, fes_units, bounds, bandwidth, kernel, weights, scale_by, blocks, fes_to_zero, plot, plot_max_fes, ax, backend, eps)\u001b[0m\n\u001b[1;32m    208\u001b[0m         pos \u001b[38;5;241m=\u001b[39m grid_list\n\u001b[1;32m    210\u001b[0m     \u001b[38;5;66;03m# pdf --> fes\u001b[39;00m\n\u001b[1;32m    211\u001b[0m     fes \u001b[38;5;241m=\u001b[39m (\n\u001b[1;32m    212\u001b[0m         \u001b[38;5;241m-\u001b[39mkbt\n\u001b[0;32m--> 213\u001b[0m         \u001b[38;5;241m*\u001b[39m np\u001b[38;5;241m.\u001b[39mlog(\u001b[43mkde\u001b[49m\u001b[38;5;241;43m.\u001b[39;49m\u001b[43mevaluate\u001b[49m\u001b[43m(\u001b[49m\u001b[43mcartesian\u001b[49m\u001b[43m(\u001b[49m\u001b[43mpos\u001b[49m\u001b[43m)\u001b[49m\u001b[43m)\u001b[49m \u001b[38;5;241m+\u001b[39m eps)\n\u001b[1;32m    214\u001b[0m         \u001b[38;5;241m.\u001b[39mreshape([num_samples \u001b[38;5;28;01mfor\u001b[39;00m i \u001b[38;5;129;01min\u001b[39;00m \u001b[38;5;28mrange\u001b[39m(dim)])\n\u001b[1;32m    215\u001b[0m         \u001b[38;5;241m.\u001b[39mT\n\u001b[1;32m    216\u001b[0m     )\n\u001b[1;32m    218\u001b[0m \u001b[38;5;28;01melif\u001b[39;00m backend \u001b[38;5;241m==\u001b[39m \u001b[38;5;124m\"\u001b[39m\u001b[38;5;124msklearn\u001b[39m\u001b[38;5;124m\"\u001b[39m:\n\u001b[1;32m    219\u001b[0m     kde \u001b[38;5;241m=\u001b[39m KernelDensity(bandwidth\u001b[38;5;241m=\u001b[39mbandwidth, kernel\u001b[38;5;241m=\u001b[39mkernel)\n",
      "File \u001b[0;32m~/miniforge3/envs/deep_cartograph/lib/python3.10/site-packages/KDEpy/FFTKDE.py:160\u001b[0m, in \u001b[0;36mFFTKDE.evaluate\u001b[0;34m(self, grid_points)\u001b[0m\n\u001b[1;32m    158\u001b[0m max_data \u001b[38;5;241m=\u001b[39m np\u001b[38;5;241m.\u001b[39mmax(\u001b[38;5;28mself\u001b[39m\u001b[38;5;241m.\u001b[39mdata, axis\u001b[38;5;241m=\u001b[39m\u001b[38;5;241m0\u001b[39m)\n\u001b[1;32m    159\u001b[0m \u001b[38;5;28;01mif\u001b[39;00m \u001b[38;5;129;01mnot\u001b[39;00m ((min_grid \u001b[38;5;241m<\u001b[39m min_data)\u001b[38;5;241m.\u001b[39mall() \u001b[38;5;129;01mand\u001b[39;00m (max_grid \u001b[38;5;241m>\u001b[39m max_data)\u001b[38;5;241m.\u001b[39mall()):\n\u001b[0;32m--> 160\u001b[0m     \u001b[38;5;28;01mraise\u001b[39;00m \u001b[38;5;167;01mValueError\u001b[39;00m(\u001b[38;5;124m\"\u001b[39m\u001b[38;5;124mEvery data point must be inside of the grid.\u001b[39m\u001b[38;5;124m\"\u001b[39m)\n\u001b[1;32m    162\u001b[0m \u001b[38;5;66;03m# Step 1 - Obtaining the grid counts\u001b[39;00m\n\u001b[1;32m    163\u001b[0m \u001b[38;5;66;03m# TODO: Consider moving this to the fitting phase instead\u001b[39;00m\n\u001b[1;32m    164\u001b[0m data \u001b[38;5;241m=\u001b[39m linear_binning(\u001b[38;5;28mself\u001b[39m\u001b[38;5;241m.\u001b[39mdata, grid_points\u001b[38;5;241m=\u001b[39m\u001b[38;5;28mself\u001b[39m\u001b[38;5;241m.\u001b[39mgrid_points, weights\u001b[38;5;241m=\u001b[39m\u001b[38;5;28mself\u001b[39m\u001b[38;5;241m.\u001b[39mweights)\n",
      "\u001b[0;31mValueError\u001b[0m: Every data point must be inside of the grid."
     ]
    },
    {
     "data": {
      "text/plain": [
       "<Figure size 500x400 with 0 Axes>"
      ]
     },
     "metadata": {},
     "output_type": "display_data"
    },
    {
     "data": {
      "text/plain": [
       "<Figure size 640x480 with 0 Axes>"
      ]
     },
     "metadata": {},
     "output_type": "display_data"
    },
    {
     "data": {
      "text/plain": [
       "<Figure size 500x400 with 0 Axes>"
      ]
     },
     "metadata": {},
     "output_type": "display_data"
    },
    {
     "data": {
      "text/plain": [
       "<Figure size 500x400 with 0 Axes>"
      ]
     },
     "metadata": {},
     "output_type": "display_data"
    },
    {
     "data": {
      "text/plain": [
       "<Figure size 640x480 with 0 Axes>"
      ]
     },
     "metadata": {},
     "output_type": "display_data"
    },
    {
     "data": {
      "text/plain": [
       "<Figure size 500x400 with 0 Axes>"
      ]
     },
     "metadata": {},
     "output_type": "display_data"
    },
    {
     "data": {
      "text/plain": [
       "<Figure size 640x480 with 0 Axes>"
      ]
     },
     "metadata": {},
     "output_type": "display_data"
    },
    {
     "data": {
      "text/plain": [
       "<Figure size 500x400 with 0 Axes>"
      ]
     },
     "metadata": {},
     "output_type": "display_data"
    },
    {
     "data": {
      "text/plain": [
       "<Figure size 500x400 with 0 Axes>"
      ]
     },
     "metadata": {},
     "output_type": "display_data"
    },
    {
     "data": {
      "text/plain": [
       "<Figure size 640x480 with 0 Axes>"
      ]
     },
     "metadata": {},
     "output_type": "display_data"
    },
    {
     "data": {
      "text/plain": [
       "<Figure size 500x400 with 0 Axes>"
      ]
     },
     "metadata": {},
     "output_type": "display_data"
    },
    {
     "data": {
      "text/plain": [
       "<Figure size 640x480 with 0 Axes>"
      ]
     },
     "metadata": {},
     "output_type": "display_data"
    },
    {
     "data": {
      "text/plain": [
       "<Figure size 500x400 with 0 Axes>"
      ]
     },
     "metadata": {},
     "output_type": "display_data"
    },
    {
     "data": {
      "text/plain": [
       "<Figure size 500x400 with 0 Axes>"
      ]
     },
     "metadata": {},
     "output_type": "display_data"
    },
    {
     "data": {
      "text/plain": [
       "<Figure size 640x480 with 0 Axes>"
      ]
     },
     "metadata": {},
     "output_type": "display_data"
    },
    {
     "data": {
      "text/plain": [
       "<Figure size 500x400 with 0 Axes>"
      ]
     },
     "metadata": {},
     "output_type": "display_data"
    },
    {
     "data": {
      "text/plain": [
       "<Figure size 640x480 with 0 Axes>"
      ]
     },
     "metadata": {},
     "output_type": "display_data"
    },
    {
     "data": {
      "text/plain": [
       "<Figure size 500x400 with 0 Axes>"
      ]
     },
     "metadata": {},
     "output_type": "display_data"
    },
    {
     "data": {
      "text/plain": [
       "<Figure size 500x400 with 0 Axes>"
      ]
     },
     "metadata": {},
     "output_type": "display_data"
    },
    {
     "data": {
      "image/png": "[encoded data removed]",
      "text/plain": [
       "<Figure size 640x480 with 1 Axes>"
      ]
     },
     "metadata": {},
     "output_type": "display_data"
    }
   ],
   "source": [
    "features = 'torsions'\n",
    "\n",
    "# Load initial configuration\n",
    "config_path = f\"{data_folder}/calpha_transitions/experiments/{features}_config.yml\"\n",
    "\n",
    "with open(config_path, 'r') as file:\n",
    "    configuration = yaml.load(file, Loader = yaml.FullLoader)\n",
    "    \n",
    "lag_times = [1, 2, 4, 8, 16]\n",
    "system_name = '2olu_A-2olv_A-1'        # Has around 330 frames\n",
    "\n",
    "for lt in lag_times:\n",
    "\n",
    "    # Test name\n",
    "    test_name = f\"lt_{lt}\"\n",
    "\n",
    "    # Make a copy of the initial configuration\n",
    "    test_configuration = configuration.copy()\n",
    "\n",
    "    # Update learning rate\n",
    "    test_configuration['train_colvars']['common']['architecture']['lag_time'] = lt\n",
    "\n",
    "    # Run deep cartograph\n",
    "    run_deep_cartograph(test_configuration, features, system_name, test_name)"
   ]
  },
  {
   "cell_type": "code",
   "execution_count": 20,
   "metadata": {},
   "outputs": [
    {
     "name": "stdout",
     "output_type": "stream",
     "text": [
      "Lag time: 1 ----------------------------------------------- #\n",
      "Output folder: ../../../data/calpha_transitions/experiments/output/2olu_A-2olv_A-1/torsions/lt_1\n",
      "Final model score: -1.9195E+0\n",
      "Eigenvalue 1: 9.8996E-1\n",
      "Eigenvalue 2: 9.6897E-1\n"
     ]
    },
    {
     "data": {
      "text/html": [
       "<img src=\"../../../data/calpha_transitions/experiments/output/2olu_A-2olv_A-1/torsions/lt_1/train_colvars/deep_tica/loss.png?1724938657\" style=\"width: 600px; margin-right: 10px;\"><img src=\"../../../data/calpha_transitions/experiments/output/2olu_A-2olv_A-1/torsions/lt_1/train_colvars/deep_tica/eigenvalues.png?1724938657\" style=\"width: 600px; margin-right: 10px;\"><img src=\"../../../data/calpha_transitions/experiments/output/2olu_A-2olv_A-1/torsions/lt_1/train_colvars/deep_tica/trajectory.png?1724938657\" style=\"width: 600px; margin-right: 10px;\">"
      ],
      "text/plain": [
       "<IPython.core.display.HTML object>"
      ]
     },
     "metadata": {},
     "output_type": "display_data"
    },
    {
     "name": "stdout",
     "output_type": "stream",
     "text": [
      "Lag time: 2 ----------------------------------------------- #\n",
      "Output folder: ../../../data/calpha_transitions/experiments/output/2olu_A-2olv_A-1/torsions/lt_2\n",
      "Final model score: -9.5201E+1\n",
      "Eigenvalue 1: 2.2902E+0\n",
      "Eigenvalue 2: -2.8179E-1\n"
     ]
    },
    {
     "data": {
      "text/html": [
       "<img src=\"../../../data/calpha_transitions/experiments/output/2olu_A-2olv_A-1/torsions/lt_2/train_colvars/deep_tica/loss.png?1724938657\" style=\"width: 600px; margin-right: 10px;\"><img src=\"../../../data/calpha_transitions/experiments/output/2olu_A-2olv_A-1/torsions/lt_2/train_colvars/deep_tica/eigenvalues.png?1724938657\" style=\"width: 600px; margin-right: 10px;\"><img src=\"../../../data/calpha_transitions/experiments/output/2olu_A-2olv_A-1/torsions/lt_2/train_colvars/deep_tica/trajectory.png?1724938657\" style=\"width: 600px; margin-right: 10px;\">"
      ],
      "text/plain": [
       "<IPython.core.display.HTML object>"
      ]
     },
     "metadata": {},
     "output_type": "display_data"
    },
    {
     "name": "stdout",
     "output_type": "stream",
     "text": [
      "Lag time: 4 ----------------------------------------------- #\n",
      "Output folder: ../../../data/calpha_transitions/experiments/output/2olu_A-2olv_A-1/torsions/lt_4\n",
      "Final model score: -3.2059E+2\n",
      "Eigenvalue 1: 3.1755E+0\n",
      "Eigenvalue 2: -1.3986E+0\n"
     ]
    },
    {
     "data": {
      "text/html": [
       "<img src=\"../../../data/calpha_transitions/experiments/output/2olu_A-2olv_A-1/torsions/lt_4/train_colvars/deep_tica/loss.png?1724938657\" style=\"width: 600px; margin-right: 10px;\"><img src=\"../../../data/calpha_transitions/experiments/output/2olu_A-2olv_A-1/torsions/lt_4/train_colvars/deep_tica/eigenvalues.png?1724938657\" style=\"width: 600px; margin-right: 10px;\"><img src=\"../../../data/calpha_transitions/experiments/output/2olu_A-2olv_A-1/torsions/lt_4/train_colvars/deep_tica/trajectory.png?1724938657\" style=\"width: 600px; margin-right: 10px;\">"
      ],
      "text/plain": [
       "<IPython.core.display.HTML object>"
      ]
     },
     "metadata": {},
     "output_type": "display_data"
    },
    {
     "name": "stdout",
     "output_type": "stream",
     "text": [
      "Lag time: 8 ----------------------------------------------- #\n",
      "Output folder: ../../../data/calpha_transitions/experiments/output/2olu_A-2olv_A-1/torsions/lt_8\n",
      "Final model score: -1.8162E+0\n",
      "Eigenvalue 1: 1.0153E+0\n",
      "Eigenvalue 2: 8.7031E-1\n"
     ]
    },
    {
     "data": {
      "text/html": [
       "<img src=\"../../../data/calpha_transitions/experiments/output/2olu_A-2olv_A-1/torsions/lt_8/train_colvars/deep_tica/loss.png?1724938657\" style=\"width: 600px; margin-right: 10px;\"><img src=\"../../../data/calpha_transitions/experiments/output/2olu_A-2olv_A-1/torsions/lt_8/train_colvars/deep_tica/eigenvalues.png?1724938657\" style=\"width: 600px; margin-right: 10px;\"><img src=\"../../../data/calpha_transitions/experiments/output/2olu_A-2olv_A-1/torsions/lt_8/train_colvars/deep_tica/trajectory.png?1724938657\" style=\"width: 600px; margin-right: 10px;\">"
      ],
      "text/plain": [
       "<IPython.core.display.HTML object>"
      ]
     },
     "metadata": {},
     "output_type": "display_data"
    },
    {
     "name": "stdout",
     "output_type": "stream",
     "text": [
      "Lag time: 16 ----------------------------------------------- #\n",
      "Output folder: ../../../data/calpha_transitions/experiments/output/2olu_A-2olv_A-1/torsions/lt_16\n",
      "Final model score: -1.8405E+0\n",
      "Eigenvalue 1: 1.0926E+0\n",
      "Eigenvalue 2: 8.0412E-1\n"
     ]
    },
    {
     "data": {
      "text/html": [
       "<img src=\"../../../data/calpha_transitions/experiments/output/2olu_A-2olv_A-1/torsions/lt_16/train_colvars/deep_tica/loss.png?1724938657\" style=\"width: 600px; margin-right: 10px;\"><img src=\"../../../data/calpha_transitions/experiments/output/2olu_A-2olv_A-1/torsions/lt_16/train_colvars/deep_tica/eigenvalues.png?1724938657\" style=\"width: 600px; margin-right: 10px;\"><img src=\"../../../data/calpha_transitions/experiments/output/2olu_A-2olv_A-1/torsions/lt_16/train_colvars/deep_tica/trajectory.png?1724938657\" style=\"width: 600px; margin-right: 10px;\">"
      ],
      "text/plain": [
       "<IPython.core.display.HTML object>"
      ]
     },
     "metadata": {},
     "output_type": "display_data"
    }
   ],
   "source": [
    "# Show results for Deep TICA\n",
    "\n",
    "for lt in lag_times:\n",
    "\n",
    "    print(f\"Lag time: {lt} ----------------------------------------------- #\")\n",
    "\n",
    "    # Test name\n",
    "    test_name = f\"lt_{lt}\"\n",
    "    \n",
    "    # Show main results\n",
    "    show_results(features, system_name, 'deep_tica', test_name)"
   ]
  },
  {
   "cell_type": "markdown",
   "metadata": {},
   "source": [
    "- Lag time should be 1"
   ]
  }
 ],
 "metadata": {
  "kernelspec": {
   "display_name": "deep_cartograph",
   "language": "python",
   "name": "python3"
  },
  "language_info": {
   "codemirror_mode": {
    "name": "ipython",
    "version": 3
   },
   "file_extension": ".py",
   "mimetype": "text/x-python",
   "name": "python",
   "nbconvert_exporter": "python",
   "pygments_lexer": "ipython3",
   "version": "3.10.0"
  },
  "varInspector": {
   "cols": {
    "lenName": 16,
    "lenType": 16,
    "lenVar": 40
   },
   "kernels_config": {
    "python": {
     "delete_cmd_postfix": "",
     "delete_cmd_prefix": "del ",
     "library": "var_list.py",
     "varRefreshCmd": "print(var_dic_list())"
    },
    "r": {
     "delete_cmd_postfix": ") ",
     "delete_cmd_prefix": "rm(",
     "library": "var_list.r",
     "varRefreshCmd": "cat(var_dic_list()) "
    }
   },
   "types_to_exclude": [
    "module",
    "function",
    "builtin_function_or_method",
    "instance",
    "_Feature"
   ],
   "window_display": false
  }
 },
 "nbformat": 4,
 "nbformat_minor": 4
}
