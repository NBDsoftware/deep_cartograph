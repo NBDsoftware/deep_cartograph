{
 "cells": [
  {
   "cell_type": "markdown",
   "metadata": {},
   "source": [
    "# Experiments on parameters"
   ]
  },
  {
   "cell_type": "markdown",
   "metadata": {},
   "source": [
    "This notebook can be used to experiment with the different parameters of the models and see how those affect the outcome of the training. The discussion of the results for each hyper-parameter will be divided between the autoencoder and the deep tica models. As the hyper-parameters might affect them differently.\n",
    "\n",
    "Unlike with alanine dipeptide, here we don't have access to a lower dimensional manifold that separates the metastable states. Thus we cannot simply project the CV onto the $\\phi$, $\\psi$ space and see how well the model is able to separate the metastable states. Instead, knowing that each trajectory shows a transition between two states, we can project the trajectory on the CV space and see how smoothly it separates the initial and the final states."
   ]
  },
  {
   "cell_type": "code",
   "execution_count": 1,
   "metadata": {},
   "outputs": [],
   "source": [
    "from deep_cartograph.run import deep_cartograph\n",
    "import importlib.resources as resources\n",
    "from deep_cartograph import data\n",
    "\n",
    "from IPython.display import display, HTML\n",
    "from typing import Literal, Dict\n",
    "from decimal import Decimal\n",
    "import logging\n",
    "import shutil\n",
    "import yaml\n",
    "import time\n",
    "import os\n",
    "\n",
    "# Get the path to the data\n",
    "data_folder = resources.files(data)\n",
    "\n",
    "# Set logging level\n",
    "logging.basicConfig(level=logging.INFO)\n",
    "    \n",
    "def run_deep_cartograph(configuration: Dict, features: Literal['torsions', 'distances'], system_name: str, test_name: str):\n",
    "    \"\"\"\n",
    "    Runs deep cartograph using one of the system trajectories. Using one of the feature dictionaries\n",
    "    and the provided configuration.\n",
    "\n",
    "    Input\n",
    "    -----\n",
    "\n",
    "        configuration: configuration for all the steps of the deep cartograph main workflow\n",
    "        features:      choice of features to use to train/compute the CVs\n",
    "        system_name:   name of the system to use\n",
    "        test_name:     name of the test that will be used as output folder name\n",
    "    \"\"\"\n",
    "    # Input trajectory and topology\n",
    "    input_path = f\"{data_folder}/calpha_transitions/input/{system_name}\"\n",
    "    traj_path = os.path.join(input_path, f'{system_name}.dcd')\n",
    "    top_path = os.path.join(input_path, f'{system_name}.pdb')\n",
    "        \n",
    "    # Output folder\n",
    "    output_folder = f\"{data_folder}/calpha_transitions/experiments/output/{system_name}/{features}/{test_name}\"\n",
    "\n",
    "    # Clean output folder\n",
    "    if os.path.exists(output_folder):\n",
    "        shutil.rmtree(output_folder)\n",
    "\n",
    "    # Run workflow \n",
    "    deep_cartograph(\n",
    "        configuration = configuration,\n",
    "        trajectory = traj_path,\n",
    "        topology = top_path,\n",
    "        output_folder = output_folder)\n",
    "\n",
    "def show_results(features: Literal['torsions', 'distances'], system_name: str, model_name: str, test_name: str):\n",
    "    \"\"\"\n",
    "    Show the results for a specific model trained with deep cartograph\n",
    "\n",
    "    Inputs\n",
    "    ------\n",
    "\n",
    "        features:    choice of features to use to train/compute the CVs\n",
    "        system_name: name of the system\n",
    "        model_name:  name of the model\n",
    "        test_name:   name of the test to show results for\n",
    "    \"\"\"\n",
    "    def show_score(score_path):\n",
    "        \"\"\"\n",
    "        Print score path in a nice format \n",
    "\n",
    "        Input\n",
    "        -----\n",
    "\n",
    "            score_path: path to the score file\n",
    "        \"\"\"\n",
    "\n",
    "        # Read score\n",
    "        with open(score_path, 'r') as file:\n",
    "            score = file.read()\n",
    "\n",
    "        # Print score in scientific notation\n",
    "        print(f\"Final model score: {Decimal(score):.4E}\")\n",
    "\n",
    "    def show_eigenvalues(eig_path):\n",
    "        \"\"\"\n",
    "        Print eigenvalues in a nice format\n",
    "\n",
    "        Input\n",
    "        -----\n",
    "\n",
    "            eig_path: path to the eigenvalues file\n",
    "        \"\"\"\n",
    "\n",
    "        # Read eigenvalues\n",
    "        with open(eig_path, 'r') as file:\n",
    "            eigenvalues = file.readlines()\n",
    "\n",
    "        # Print eigenvalues\n",
    "        for i, eig in enumerate(eigenvalues):\n",
    "            print(f\"Eigenvalue {i+1}: {Decimal(eig):.4E}\")\n",
    "\n",
    "    # Output folder\n",
    "    output_folder = f\"{data_folder}/calpha_transitions/experiments/output/{system_name}/{features}/{test_name}\"\n",
    "\n",
    "    # Show output folder\n",
    "    print(f\"Output folder: {output_folder}\")\n",
    "\n",
    "    # Find model path\n",
    "    model_path = os.path.join(output_folder, \"train_colvars\", model_name)\n",
    "\n",
    "    # Find score if any\n",
    "    if model_name in ['ae', 'deep_tica']:\n",
    "        score_path = os.path.join(model_path, \"model_score.txt\")\n",
    "        if os.path.exists(score_path):\n",
    "            show_score(score_path)\n",
    "        else:\n",
    "            print(\"Score file not found\")\n",
    "\n",
    "    # Find eigenvalues if any\n",
    "    if model_name == 'deep_tica':\n",
    "        eig_path = os.path.join(model_path, \"eigenvalues.txt\")\n",
    "        if os.path.exists(eig_path):\n",
    "            show_eigenvalues(eig_path)\n",
    "        else:\n",
    "            print(\"Eigenvalues file not found\")\n",
    "\n",
    "    # Paths to images\n",
    "    loss = os.path.join(model_path, 'loss.png')\n",
    "    eigenvalues = os.path.join(model_path, 'eigenvalues.png')\n",
    "    trajectory = os.path.join(model_path, 'trajectory.png')\n",
    "    paths = [loss, eigenvalues, trajectory]\n",
    "\n",
    "    # Generate HTML image tags\n",
    "    timestamp = int(time.time()) # Add timestamp to avoid caching\n",
    "    images_html = [f'<img src=\"{path}?{timestamp}\" style=\"width: 600px; margin-right: 10px;\">' for path in paths if os.path.exists(path)]\n",
    "\n",
    "    # Display images\n",
    "    display(HTML(''.join(images_html)))"
   ]
  },
  {
   "cell_type": "markdown",
   "metadata": {},
   "source": [
    "## Batch size\n",
    "\n",
    "Smaller batch sizes can introduce more noise in the gradient updates, which can help the model scape local or sharp minima and find better solutions. Thus generalize better (see relation between training and validation loss). However, smaller batch sizes can also slow down the training process. In this case we have a small dataset and model, so the recommendation is to use a small batch size."
   ]
  },
  {
   "cell_type": "code",
   "execution_count": 5,
   "metadata": {},
   "outputs": [
    {
     "name": "stderr",
     "output_type": "stream",
     "text": [
      "INFO:deep_cartograph:================\n",
      "INFO:deep_cartograph:Compute features\n",
      "INFO:deep_cartograph:================\n",
      "INFO:deep_cartograph:Trajectory file: ../../../data/calpha_transitions/input/2olu_A-2olv_A-1/2olu_A-2olv_A-1.dcd\n",
      "/shared/work/pnavarro/envs/deep_cartograph/lib/python3.10/site-packages/MDAnalysis/topology/PDBParser.py:317: UserWarning: Element information is missing, elements attribute will not be populated. If needed these can be guessed using MDAnalysis.topology.guessers.\n",
      "  warnings.warn(\"Element information is missing, elements attribute \"\n",
      "/shared/work/pnavarro/envs/deep_cartograph/lib/python3.10/site-packages/MDAnalysis/coordinates/PDB.py:747: UserWarning: Unit cell dimensions not found. CRYST1 record set to unitary values.\n",
      "  warnings.warn(\"Unit cell dimensions not found. \"\n",
      "/shared/work/pnavarro/envs/deep_cartograph/lib/python3.10/site-packages/MDAnalysis/coordinates/PDB.py:1078: UserWarning: Found no information for attr: 'elements' Using default value of ' '\n",
      "  warnings.warn(\"Found no information for attr: '{}'\"\n",
      "/shared/work/pnavarro/envs/deep_cartograph/lib/python3.10/site-packages/MDAnalysis/coordinates/PDB.py:429: UserWarning: 1 A^3 CRYST1 record, this is usually a placeholder. Unit cell dimensions will be set to None.\n",
      "  warnings.warn(\"1 A^3 CRYST1 record,\"\n",
      "INFO:deep_cartograph.modules.plumed.input_file.input_file:Found 1186 features for tor\n",
      "INFO:deep_cartograph.modules.plumed.utils:Executing PLUMED driver command: ml PLUMED/2.9.0-intel-2021b && unset I_MPI_PMI_LIBRARY && /eb/x86_64/software/PLUMED/2.9.0-intel-2021b/bin/plumed driver --plumed /shared/work/pnavarro/repos/deep_cartograph/data/calpha_transitions/experiments/output/2olu_A-2olv_A-1/torsions/bs_16/compute_features_traj/torsions.dat --mf_dcd /shared/work/pnavarro/repos/deep_cartograph/data/calpha_transitions/input/2olu_A-2olv_A-1/2olu_A-2olv_A-1.dcd --natoms 596\n",
      "INFO:deep_cartograph:Elapsed time (Compute features): 00 h 00 min 02 s\n",
      "INFO:deep_cartograph:==================\n",
      "INFO:deep_cartograph:Filtering features\n",
      "INFO:deep_cartograph:==================\n",
      "INFO:deep_cartograph:Finding the features that contains the most information about the transitions or conformational changes.\n",
      "INFO:deep_cartograph:The following algorithms are available:\n",
      "INFO:deep_cartograph:- Hartigan's dip test filter. Keeps features that are not unimodal.\n",
      "INFO:deep_cartograph:- Shannon entropy filter. Keeps features with entropy greater than a threshold.\n",
      "INFO:deep_cartograph:- Standard deviation filter. Keeps features with standard deviation greater than a threshold.\n",
      "INFO:deep_cartograph:- Final Mutual information clustering (AMINO). Clusters filtered features according to a mutual information based distance and selects one feature per cluster minimizing the distorsion.\n",
      "INFO:deep_cartograph:Note that the all features must be in the same units to apply the entropy and standard deviation filters meaningfully.\n",
      "INFO:deep_cartograph:Initial size of features set: 1186.\n",
      "INFO:deep_cartograph.tools.filter_features.filtering:Computing dip test.\n",
      "INFO:deep_cartograph.tools.filter_features.filtering:Filtered 1038 features.\n",
      "INFO:deep_cartograph.modules.amino.amino:Skipping AMINO clustering.\n",
      "INFO:deep_cartograph:Elapsed time (Filter features): 00 h 00 min 26 s\n",
      "INFO:deep_cartograph:================================\n",
      "INFO:deep_cartograph:Training of Collective Variables\n",
      "INFO:deep_cartograph:================================\n",
      "INFO:deep_cartograph:Training of collective variables using the mlcolvar library.\n",
      "INFO:deep_cartograph:Creating datasets from colvars...\n",
      "INFO:deep_cartograph:Number of samples: 338\n",
      "INFO:deep_cartograph:Number of features: 148\n",
      "INFO:deep_cartograph.tools.train_colvars.utils:Training Autoencoder CV...\n",
      "/shared/work/pnavarro/envs/deep_cartograph/lib/python3.10/site-packages/lightning/fabric/plugins/environments/slurm.py:204: The `srun` command is available on your system but is not used. HINT: If your intention is to run Lightning on SLURM, prepend your python command with `srun` like so: srun python /shared/work/pnavarro/envs/deep_cartograph/lib/pytho ...\n",
      "GPU available: False, used: False\n",
      "TPU available: False, using: 0 TPU cores\n",
      "HPU available: False, using: 0 HPUs\n",
      "\n",
      "  | Name    | Type          | Params | Mode  | In sizes | Out sizes\n",
      "-------------------------------------------------------------------------\n",
      "0 | loss_fn | MSELoss       | 0      | train | ?        | ?        \n",
      "1 | norm_in | Normalization | 0      | train | [1, 148] | [1, 148] \n",
      "2 | encoder | FeedForward   | 2.5 K  | train | [1, 148] | [1, 2]   \n",
      "3 | decoder | FeedForward   | 2.7 K  | train | ?        | ?        \n",
      "-------------------------------------------------------------------------\n",
      "5.2 K     Trainable params\n",
      "0         Non-trainable params\n",
      "5.2 K     Total params\n",
      "0.021     Total estimated model params size (MB)\n",
      "INFO:deep_cartograph.tools.train_colvars.utils:Best model score: 0.002808844903483987\n",
      "/shared/work/pnavarro/envs/deep_cartograph/lib/python3.10/site-packages/mlcolvar/core/nn/utils.py:13: TracerWarning: Converting a tensor to a Python number might cause the trace to be incorrect. We can't record the data flow of Python values, so this value will be treated as a constant in the future. This means that the trace might not generalize to other inputs!\n",
      "  sp0 = F.softplus(torch.zeros(1), self.beta, self.threshold).item()\n",
      "INFO:deep_cartograph.tools.train_colvars.utils:Projecting trajectory...\n",
      "/shared/work/pnavarro/envs/deep_cartograph/lib/python3.10/site-packages/mlcolvar/utils/timelagged.py:140: UserWarning: Monitoring the progress for the search of time-lagged configurations with a progress_bar requires `tqdm`.\n",
      "  warnings.warn(\n",
      "INFO:deep_cartograph.tools.train_colvars.utils:Calculating DeepTICA CV...\n",
      "/shared/work/pnavarro/envs/deep_cartograph/lib/python3.10/site-packages/lightning/fabric/plugins/environments/slurm.py:204: The `srun` command is available on your system but is not used. HINT: If your intention is to run Lightning on SLURM, prepend your python command with `srun` like so: srun python /shared/work/pnavarro/envs/deep_cartograph/lib/pytho ...\n",
      "GPU available: False, used: False\n",
      "TPU available: False, using: 0 TPU cores\n",
      "HPU available: False, using: 0 HPUs\n",
      "\n",
      "  | Name    | Type                  | Params | Mode  | In sizes | Out sizes\n",
      "---------------------------------------------------------------------------------\n",
      "0 | loss_fn | ReduceEigenvaluesLoss | 0      | train | ?        | ?        \n",
      "1 | norm_in | Normalization         | 0      | train | [1, 148] | [1, 148] \n",
      "2 | nn      | FeedForward           | 2.5 K  | train | [1, 148] | [1, 2]   \n",
      "3 | tica    | TICA                  | 0      | train | [1, 2]   | [1, 2]   \n",
      "---------------------------------------------------------------------------------\n",
      "2.5 K     Trainable params\n",
      "0         Non-trainable params\n",
      "2.5 K     Total params\n",
      "0.010     Total estimated model params size (MB)\n",
      "INFO:deep_cartograph.tools.train_colvars.utils:Best model score: -2572.7314453125\n",
      "INFO:deep_cartograph.tools.train_colvars.utils:Took 218 epochs\n",
      "INFO:deep_cartograph.tools.train_colvars.utils:Eigenvalue 1: 11.716729164123535\n",
      "INFO:deep_cartograph.tools.train_colvars.utils:Eigenvalue 2: -0.20832544565200806\n",
      "/shared/work/pnavarro/envs/deep_cartograph/lib/python3.10/site-packages/mlcolvar/core/nn/utils.py:13: TracerWarning: Converting a tensor to a Python number might cause the trace to be incorrect. We can't record the data flow of Python values, so this value will be treated as a constant in the future. This means that the trace might not generalize to other inputs!\n",
      "  sp0 = F.softplus(torch.zeros(1), self.beta, self.threshold).item()\n",
      "INFO:deep_cartograph.tools.train_colvars.utils:Projecting trajectory...\n",
      "INFO:deep_cartograph:Elapsed time (Train colvars): 00 h 00 min 43 s\n",
      "INFO:deep_cartograph:Total elapsed time: 00 h 01 min 13 s\n",
      "INFO:deep_cartograph:================\n",
      "INFO:deep_cartograph:Compute features\n",
      "INFO:deep_cartograph:================\n",
      "INFO:deep_cartograph:Trajectory file: ../../../data/calpha_transitions/input/2olu_A-2olv_A-1/2olu_A-2olv_A-1.dcd\n",
      "/shared/work/pnavarro/envs/deep_cartograph/lib/python3.10/site-packages/MDAnalysis/topology/PDBParser.py:317: UserWarning: Element information is missing, elements attribute will not be populated. If needed these can be guessed using MDAnalysis.topology.guessers.\n",
      "  warnings.warn(\"Element information is missing, elements attribute \"\n",
      "/shared/work/pnavarro/envs/deep_cartograph/lib/python3.10/site-packages/MDAnalysis/coordinates/PDB.py:747: UserWarning: Unit cell dimensions not found. CRYST1 record set to unitary values.\n",
      "  warnings.warn(\"Unit cell dimensions not found. \"\n",
      "/shared/work/pnavarro/envs/deep_cartograph/lib/python3.10/site-packages/MDAnalysis/coordinates/PDB.py:1078: UserWarning: Found no information for attr: 'elements' Using default value of ' '\n",
      "  warnings.warn(\"Found no information for attr: '{}'\"\n",
      "/shared/work/pnavarro/envs/deep_cartograph/lib/python3.10/site-packages/MDAnalysis/coordinates/PDB.py:429: UserWarning: 1 A^3 CRYST1 record, this is usually a placeholder. Unit cell dimensions will be set to None.\n",
      "  warnings.warn(\"1 A^3 CRYST1 record,\"\n",
      "INFO:deep_cartograph.modules.plumed.input_file.input_file:Found 1186 features for tor\n",
      "INFO:deep_cartograph.modules.plumed.utils:Executing PLUMED driver command: ml PLUMED/2.9.0-intel-2021b && unset I_MPI_PMI_LIBRARY && /eb/x86_64/software/PLUMED/2.9.0-intel-2021b/bin/plumed driver --plumed /shared/work/pnavarro/repos/deep_cartograph/data/calpha_transitions/experiments/output/2olu_A-2olv_A-1/torsions/bs_32/compute_features_traj/torsions.dat --mf_dcd /shared/work/pnavarro/repos/deep_cartograph/data/calpha_transitions/input/2olu_A-2olv_A-1/2olu_A-2olv_A-1.dcd --natoms 596\n",
      "INFO:deep_cartograph:Elapsed time (Compute features): 00 h 00 min 02 s\n",
      "INFO:deep_cartograph:==================\n",
      "INFO:deep_cartograph:Filtering features\n",
      "INFO:deep_cartograph:==================\n",
      "INFO:deep_cartograph:Finding the features that contains the most information about the transitions or conformational changes.\n",
      "INFO:deep_cartograph:The following algorithms are available:\n",
      "INFO:deep_cartograph:- Hartigan's dip test filter. Keeps features that are not unimodal.\n",
      "INFO:deep_cartograph:- Shannon entropy filter. Keeps features with entropy greater than a threshold.\n",
      "INFO:deep_cartograph:- Standard deviation filter. Keeps features with standard deviation greater than a threshold.\n",
      "INFO:deep_cartograph:- Final Mutual information clustering (AMINO). Clusters filtered features according to a mutual information based distance and selects one feature per cluster minimizing the distorsion.\n",
      "INFO:deep_cartograph:Note that the all features must be in the same units to apply the entropy and standard deviation filters meaningfully.\n",
      "INFO:deep_cartograph:Initial size of features set: 1186.\n",
      "INFO:deep_cartograph.tools.filter_features.filtering:Computing dip test.\n",
      "INFO:deep_cartograph.tools.filter_features.filtering:Filtered 1038 features.\n",
      "INFO:deep_cartograph.modules.amino.amino:Skipping AMINO clustering.\n",
      "INFO:deep_cartograph:Elapsed time (Filter features): 00 h 00 min 27 s\n",
      "INFO:deep_cartograph:================================\n",
      "INFO:deep_cartograph:Training of Collective Variables\n",
      "INFO:deep_cartograph:================================\n",
      "INFO:deep_cartograph:Training of collective variables using the mlcolvar library.\n",
      "INFO:deep_cartograph:Creating datasets from colvars...\n",
      "INFO:deep_cartograph:Number of samples: 338\n",
      "INFO:deep_cartograph:Number of features: 148\n",
      "INFO:deep_cartograph.tools.train_colvars.utils:Training Autoencoder CV...\n",
      "/shared/work/pnavarro/envs/deep_cartograph/lib/python3.10/site-packages/lightning/fabric/plugins/environments/slurm.py:204: The `srun` command is available on your system but is not used. HINT: If your intention is to run Lightning on SLURM, prepend your python command with `srun` like so: srun python /shared/work/pnavarro/envs/deep_cartograph/lib/pytho ...\n",
      "GPU available: False, used: False\n",
      "TPU available: False, using: 0 TPU cores\n",
      "HPU available: False, using: 0 HPUs\n",
      "\n",
      "  | Name    | Type          | Params | Mode  | In sizes | Out sizes\n",
      "-------------------------------------------------------------------------\n",
      "0 | loss_fn | MSELoss       | 0      | train | ?        | ?        \n",
      "1 | norm_in | Normalization | 0      | train | [1, 148] | [1, 148] \n",
      "2 | encoder | FeedForward   | 2.5 K  | train | [1, 148] | [1, 2]   \n",
      "3 | decoder | FeedForward   | 2.7 K  | train | ?        | ?        \n",
      "-------------------------------------------------------------------------\n",
      "5.2 K     Trainable params\n",
      "0         Non-trainable params\n",
      "5.2 K     Total params\n",
      "0.021     Total estimated model params size (MB)\n",
      "INFO:deep_cartograph.tools.train_colvars.utils:Best model score: 0.002826289739459753\n",
      "/shared/work/pnavarro/envs/deep_cartograph/lib/python3.10/site-packages/mlcolvar/core/nn/utils.py:13: TracerWarning: Converting a tensor to a Python number might cause the trace to be incorrect. We can't record the data flow of Python values, so this value will be treated as a constant in the future. This means that the trace might not generalize to other inputs!\n",
      "  sp0 = F.softplus(torch.zeros(1), self.beta, self.threshold).item()\n",
      "INFO:deep_cartograph.tools.train_colvars.utils:Projecting trajectory...\n",
      "/shared/work/pnavarro/envs/deep_cartograph/lib/python3.10/site-packages/mlcolvar/utils/timelagged.py:140: UserWarning: Monitoring the progress for the search of time-lagged configurations with a progress_bar requires `tqdm`.\n",
      "  warnings.warn(\n",
      "INFO:deep_cartograph.tools.train_colvars.utils:Calculating DeepTICA CV...\n",
      "/shared/work/pnavarro/envs/deep_cartograph/lib/python3.10/site-packages/lightning/fabric/plugins/environments/slurm.py:204: The `srun` command is available on your system but is not used. HINT: If your intention is to run Lightning on SLURM, prepend your python command with `srun` like so: srun python /shared/work/pnavarro/envs/deep_cartograph/lib/pytho ...\n",
      "GPU available: False, used: False\n",
      "TPU available: False, using: 0 TPU cores\n",
      "HPU available: False, using: 0 HPUs\n",
      "\n",
      "  | Name    | Type                  | Params | Mode  | In sizes | Out sizes\n",
      "---------------------------------------------------------------------------------\n",
      "0 | loss_fn | ReduceEigenvaluesLoss | 0      | train | ?        | ?        \n",
      "1 | norm_in | Normalization         | 0      | train | [1, 148] | [1, 148] \n",
      "2 | nn      | FeedForward           | 2.5 K  | train | [1, 148] | [1, 2]   \n",
      "3 | tica    | TICA                  | 0      | train | [1, 2]   | [1, 2]   \n",
      "---------------------------------------------------------------------------------\n",
      "2.5 K     Trainable params\n",
      "0         Non-trainable params\n",
      "2.5 K     Total params\n",
      "0.010     Total estimated model params size (MB)\n",
      "INFO:deep_cartograph.tools.train_colvars.utils:Best model score: -1.833871841430664\n",
      "INFO:deep_cartograph.tools.train_colvars.utils:Took 5 epochs\n",
      "INFO:deep_cartograph.tools.train_colvars.utils:Eigenvalue 1: 0.979826033115387\n",
      "INFO:deep_cartograph.tools.train_colvars.utils:Eigenvalue 2: 0.9338240623474121\n",
      "/shared/work/pnavarro/envs/deep_cartograph/lib/python3.10/site-packages/mlcolvar/core/nn/utils.py:13: TracerWarning: Converting a tensor to a Python number might cause the trace to be incorrect. We can't record the data flow of Python values, so this value will be treated as a constant in the future. This means that the trace might not generalize to other inputs!\n",
      "  sp0 = F.softplus(torch.zeros(1), self.beta, self.threshold).item()\n",
      "INFO:deep_cartograph.tools.train_colvars.utils:Projecting trajectory...\n",
      "INFO:deep_cartograph:Elapsed time (Train colvars): 00 h 00 min 21 s\n",
      "INFO:deep_cartograph:Total elapsed time: 00 h 00 min 52 s\n",
      "INFO:deep_cartograph:================\n",
      "INFO:deep_cartograph:Compute features\n",
      "INFO:deep_cartograph:================\n",
      "INFO:deep_cartograph:Trajectory file: ../../../data/calpha_transitions/input/2olu_A-2olv_A-1/2olu_A-2olv_A-1.dcd\n",
      "/shared/work/pnavarro/envs/deep_cartograph/lib/python3.10/site-packages/MDAnalysis/topology/PDBParser.py:317: UserWarning: Element information is missing, elements attribute will not be populated. If needed these can be guessed using MDAnalysis.topology.guessers.\n",
      "  warnings.warn(\"Element information is missing, elements attribute \"\n",
      "/shared/work/pnavarro/envs/deep_cartograph/lib/python3.10/site-packages/MDAnalysis/coordinates/PDB.py:747: UserWarning: Unit cell dimensions not found. CRYST1 record set to unitary values.\n",
      "  warnings.warn(\"Unit cell dimensions not found. \"\n",
      "/shared/work/pnavarro/envs/deep_cartograph/lib/python3.10/site-packages/MDAnalysis/coordinates/PDB.py:1078: UserWarning: Found no information for attr: 'elements' Using default value of ' '\n",
      "  warnings.warn(\"Found no information for attr: '{}'\"\n",
      "/shared/work/pnavarro/envs/deep_cartograph/lib/python3.10/site-packages/MDAnalysis/coordinates/PDB.py:429: UserWarning: 1 A^3 CRYST1 record, this is usually a placeholder. Unit cell dimensions will be set to None.\n",
      "  warnings.warn(\"1 A^3 CRYST1 record,\"\n",
      "INFO:deep_cartograph.modules.plumed.input_file.input_file:Found 1186 features for tor\n",
      "INFO:deep_cartograph.modules.plumed.utils:Executing PLUMED driver command: ml PLUMED/2.9.0-intel-2021b && unset I_MPI_PMI_LIBRARY && /eb/x86_64/software/PLUMED/2.9.0-intel-2021b/bin/plumed driver --plumed /shared/work/pnavarro/repos/deep_cartograph/data/calpha_transitions/experiments/output/2olu_A-2olv_A-1/torsions/bs_64/compute_features_traj/torsions.dat --mf_dcd /shared/work/pnavarro/repos/deep_cartograph/data/calpha_transitions/input/2olu_A-2olv_A-1/2olu_A-2olv_A-1.dcd --natoms 596\n",
      "INFO:deep_cartograph:Elapsed time (Compute features): 00 h 00 min 02 s\n",
      "INFO:deep_cartograph:==================\n",
      "INFO:deep_cartograph:Filtering features\n",
      "INFO:deep_cartograph:==================\n",
      "INFO:deep_cartograph:Finding the features that contains the most information about the transitions or conformational changes.\n",
      "INFO:deep_cartograph:The following algorithms are available:\n",
      "INFO:deep_cartograph:- Hartigan's dip test filter. Keeps features that are not unimodal.\n",
      "INFO:deep_cartograph:- Shannon entropy filter. Keeps features with entropy greater than a threshold.\n",
      "INFO:deep_cartograph:- Standard deviation filter. Keeps features with standard deviation greater than a threshold.\n",
      "INFO:deep_cartograph:- Final Mutual information clustering (AMINO). Clusters filtered features according to a mutual information based distance and selects one feature per cluster minimizing the distorsion.\n",
      "INFO:deep_cartograph:Note that the all features must be in the same units to apply the entropy and standard deviation filters meaningfully.\n",
      "INFO:deep_cartograph:Initial size of features set: 1186.\n",
      "INFO:deep_cartograph.tools.filter_features.filtering:Computing dip test.\n",
      "INFO:deep_cartograph.tools.filter_features.filtering:Filtered 1038 features.\n",
      "INFO:deep_cartograph.modules.amino.amino:Skipping AMINO clustering.\n",
      "INFO:deep_cartograph:Elapsed time (Filter features): 00 h 00 min 26 s\n",
      "INFO:deep_cartograph:================================\n",
      "INFO:deep_cartograph:Training of Collective Variables\n",
      "INFO:deep_cartograph:================================\n",
      "INFO:deep_cartograph:Training of collective variables using the mlcolvar library.\n",
      "INFO:deep_cartograph:Creating datasets from colvars...\n",
      "INFO:deep_cartograph:Number of samples: 338\n",
      "INFO:deep_cartograph:Number of features: 148\n",
      "INFO:deep_cartograph.tools.train_colvars.utils:Training Autoencoder CV...\n",
      "/shared/work/pnavarro/envs/deep_cartograph/lib/python3.10/site-packages/lightning/fabric/plugins/environments/slurm.py:204: The `srun` command is available on your system but is not used. HINT: If your intention is to run Lightning on SLURM, prepend your python command with `srun` like so: srun python /shared/work/pnavarro/envs/deep_cartograph/lib/pytho ...\n",
      "GPU available: False, used: False\n",
      "TPU available: False, using: 0 TPU cores\n",
      "HPU available: False, using: 0 HPUs\n",
      "\n",
      "  | Name    | Type          | Params | Mode  | In sizes | Out sizes\n",
      "-------------------------------------------------------------------------\n",
      "0 | loss_fn | MSELoss       | 0      | train | ?        | ?        \n",
      "1 | norm_in | Normalization | 0      | train | [1, 148] | [1, 148] \n",
      "2 | encoder | FeedForward   | 2.5 K  | train | [1, 148] | [1, 2]   \n",
      "3 | decoder | FeedForward   | 2.7 K  | train | ?        | ?        \n",
      "-------------------------------------------------------------------------\n",
      "5.2 K     Trainable params\n",
      "0         Non-trainable params\n",
      "5.2 K     Total params\n",
      "0.021     Total estimated model params size (MB)\n",
      "INFO:deep_cartograph.tools.train_colvars.utils:Best model score: 0.0030074643436819315\n",
      "/shared/work/pnavarro/envs/deep_cartograph/lib/python3.10/site-packages/mlcolvar/core/nn/utils.py:13: TracerWarning: Converting a tensor to a Python number might cause the trace to be incorrect. We can't record the data flow of Python values, so this value will be treated as a constant in the future. This means that the trace might not generalize to other inputs!\n",
      "  sp0 = F.softplus(torch.zeros(1), self.beta, self.threshold).item()\n",
      "INFO:deep_cartograph.tools.train_colvars.utils:Projecting trajectory...\n",
      "/shared/work/pnavarro/envs/deep_cartograph/lib/python3.10/site-packages/mlcolvar/utils/timelagged.py:140: UserWarning: Monitoring the progress for the search of time-lagged configurations with a progress_bar requires `tqdm`.\n",
      "  warnings.warn(\n",
      "INFO:deep_cartograph.tools.train_colvars.utils:Calculating DeepTICA CV...\n",
      "/shared/work/pnavarro/envs/deep_cartograph/lib/python3.10/site-packages/lightning/fabric/plugins/environments/slurm.py:204: The `srun` command is available on your system but is not used. HINT: If your intention is to run Lightning on SLURM, prepend your python command with `srun` like so: srun python /shared/work/pnavarro/envs/deep_cartograph/lib/pytho ...\n",
      "GPU available: False, used: False\n",
      "TPU available: False, using: 0 TPU cores\n",
      "HPU available: False, using: 0 HPUs\n",
      "\n",
      "  | Name    | Type                  | Params | Mode  | In sizes | Out sizes\n",
      "---------------------------------------------------------------------------------\n",
      "0 | loss_fn | ReduceEigenvaluesLoss | 0      | train | ?        | ?        \n",
      "1 | norm_in | Normalization         | 0      | train | [1, 148] | [1, 148] \n",
      "2 | nn      | FeedForward           | 2.5 K  | train | [1, 148] | [1, 2]   \n",
      "3 | tica    | TICA                  | 0      | train | [1, 2]   | [1, 2]   \n",
      "---------------------------------------------------------------------------------\n",
      "2.5 K     Trainable params\n",
      "0         Non-trainable params\n",
      "2.5 K     Total params\n",
      "0.010     Total estimated model params size (MB)\n",
      "INFO:deep_cartograph.tools.train_colvars.utils:Best model score: -1.9195023775100708\n",
      "INFO:deep_cartograph.tools.train_colvars.utils:Took 6 epochs\n",
      "INFO:deep_cartograph.tools.train_colvars.utils:Eigenvalue 1: 0.9899606108665466\n",
      "INFO:deep_cartograph.tools.train_colvars.utils:Eigenvalue 2: 0.9689686298370361\n",
      "/shared/work/pnavarro/envs/deep_cartograph/lib/python3.10/site-packages/mlcolvar/core/nn/utils.py:13: TracerWarning: Converting a tensor to a Python number might cause the trace to be incorrect. We can't record the data flow of Python values, so this value will be treated as a constant in the future. This means that the trace might not generalize to other inputs!\n",
      "  sp0 = F.softplus(torch.zeros(1), self.beta, self.threshold).item()\n",
      "INFO:deep_cartograph.tools.train_colvars.utils:Projecting trajectory...\n",
      "INFO:deep_cartograph:Elapsed time (Train colvars): 00 h 00 min 17 s\n",
      "INFO:deep_cartograph:Total elapsed time: 00 h 00 min 46 s\n",
      "INFO:deep_cartograph:================\n",
      "INFO:deep_cartograph:Compute features\n",
      "INFO:deep_cartograph:================\n",
      "INFO:deep_cartograph:Trajectory file: ../../../data/calpha_transitions/input/2olu_A-2olv_A-1/2olu_A-2olv_A-1.dcd\n",
      "/shared/work/pnavarro/envs/deep_cartograph/lib/python3.10/site-packages/MDAnalysis/topology/PDBParser.py:317: UserWarning: Element information is missing, elements attribute will not be populated. If needed these can be guessed using MDAnalysis.topology.guessers.\n",
      "  warnings.warn(\"Element information is missing, elements attribute \"\n",
      "/shared/work/pnavarro/envs/deep_cartograph/lib/python3.10/site-packages/MDAnalysis/coordinates/PDB.py:747: UserWarning: Unit cell dimensions not found. CRYST1 record set to unitary values.\n",
      "  warnings.warn(\"Unit cell dimensions not found. \"\n",
      "/shared/work/pnavarro/envs/deep_cartograph/lib/python3.10/site-packages/MDAnalysis/coordinates/PDB.py:1078: UserWarning: Found no information for attr: 'elements' Using default value of ' '\n",
      "  warnings.warn(\"Found no information for attr: '{}'\"\n",
      "/shared/work/pnavarro/envs/deep_cartograph/lib/python3.10/site-packages/MDAnalysis/coordinates/PDB.py:429: UserWarning: 1 A^3 CRYST1 record, this is usually a placeholder. Unit cell dimensions will be set to None.\n",
      "  warnings.warn(\"1 A^3 CRYST1 record,\"\n",
      "INFO:deep_cartograph.modules.plumed.input_file.input_file:Found 1186 features for tor\n",
      "INFO:deep_cartograph.modules.plumed.utils:Executing PLUMED driver command: ml PLUMED/2.9.0-intel-2021b && unset I_MPI_PMI_LIBRARY && /eb/x86_64/software/PLUMED/2.9.0-intel-2021b/bin/plumed driver --plumed /shared/work/pnavarro/repos/deep_cartograph/data/calpha_transitions/experiments/output/2olu_A-2olv_A-1/torsions/bs_128/compute_features_traj/torsions.dat --mf_dcd /shared/work/pnavarro/repos/deep_cartograph/data/calpha_transitions/input/2olu_A-2olv_A-1/2olu_A-2olv_A-1.dcd --natoms 596\n",
      "INFO:deep_cartograph:Elapsed time (Compute features): 00 h 00 min 02 s\n",
      "INFO:deep_cartograph:==================\n",
      "INFO:deep_cartograph:Filtering features\n",
      "INFO:deep_cartograph:==================\n",
      "INFO:deep_cartograph:Finding the features that contains the most information about the transitions or conformational changes.\n",
      "INFO:deep_cartograph:The following algorithms are available:\n",
      "INFO:deep_cartograph:- Hartigan's dip test filter. Keeps features that are not unimodal.\n",
      "INFO:deep_cartograph:- Shannon entropy filter. Keeps features with entropy greater than a threshold.\n",
      "INFO:deep_cartograph:- Standard deviation filter. Keeps features with standard deviation greater than a threshold.\n",
      "INFO:deep_cartograph:- Final Mutual information clustering (AMINO). Clusters filtered features according to a mutual information based distance and selects one feature per cluster minimizing the distorsion.\n",
      "INFO:deep_cartograph:Note that the all features must be in the same units to apply the entropy and standard deviation filters meaningfully.\n",
      "INFO:deep_cartograph:Initial size of features set: 1186.\n",
      "INFO:deep_cartograph.tools.filter_features.filtering:Computing dip test.\n",
      "INFO:deep_cartograph.tools.filter_features.filtering:Filtered 1038 features.\n",
      "INFO:deep_cartograph.modules.amino.amino:Skipping AMINO clustering.\n",
      "INFO:deep_cartograph:Elapsed time (Filter features): 00 h 00 min 27 s\n",
      "INFO:deep_cartograph:================================\n",
      "INFO:deep_cartograph:Training of Collective Variables\n",
      "INFO:deep_cartograph:================================\n",
      "INFO:deep_cartograph:Training of collective variables using the mlcolvar library.\n",
      "INFO:deep_cartograph:Creating datasets from colvars...\n",
      "INFO:deep_cartograph:Number of samples: 338\n",
      "INFO:deep_cartograph:Number of features: 148\n",
      "INFO:deep_cartograph.tools.train_colvars.utils:Training Autoencoder CV...\n",
      "/shared/work/pnavarro/envs/deep_cartograph/lib/python3.10/site-packages/lightning/fabric/plugins/environments/slurm.py:204: The `srun` command is available on your system but is not used. HINT: If your intention is to run Lightning on SLURM, prepend your python command with `srun` like so: srun python /shared/work/pnavarro/envs/deep_cartograph/lib/pytho ...\n",
      "GPU available: False, used: False\n",
      "TPU available: False, using: 0 TPU cores\n",
      "HPU available: False, using: 0 HPUs\n",
      "\n",
      "  | Name    | Type          | Params | Mode  | In sizes | Out sizes\n",
      "-------------------------------------------------------------------------\n",
      "0 | loss_fn | MSELoss       | 0      | train | ?        | ?        \n",
      "1 | norm_in | Normalization | 0      | train | [1, 148] | [1, 148] \n",
      "2 | encoder | FeedForward   | 2.5 K  | train | [1, 148] | [1, 2]   \n",
      "3 | decoder | FeedForward   | 2.7 K  | train | ?        | ?        \n",
      "-------------------------------------------------------------------------\n",
      "5.2 K     Trainable params\n",
      "0         Non-trainable params\n",
      "5.2 K     Total params\n",
      "0.021     Total estimated model params size (MB)\n",
      "INFO:deep_cartograph.tools.train_colvars.utils:Best model score: 0.00320337968878448\n",
      "/shared/work/pnavarro/envs/deep_cartograph/lib/python3.10/site-packages/mlcolvar/core/nn/utils.py:13: TracerWarning: Converting a tensor to a Python number might cause the trace to be incorrect. We can't record the data flow of Python values, so this value will be treated as a constant in the future. This means that the trace might not generalize to other inputs!\n",
      "  sp0 = F.softplus(torch.zeros(1), self.beta, self.threshold).item()\n",
      "INFO:deep_cartograph.tools.train_colvars.utils:Projecting trajectory...\n",
      "/shared/work/pnavarro/envs/deep_cartograph/lib/python3.10/site-packages/mlcolvar/utils/timelagged.py:140: UserWarning: Monitoring the progress for the search of time-lagged configurations with a progress_bar requires `tqdm`.\n",
      "  warnings.warn(\n",
      "INFO:deep_cartograph.tools.train_colvars.utils:Calculating DeepTICA CV...\n",
      "/shared/work/pnavarro/envs/deep_cartograph/lib/python3.10/site-packages/lightning/fabric/plugins/environments/slurm.py:204: The `srun` command is available on your system but is not used. HINT: If your intention is to run Lightning on SLURM, prepend your python command with `srun` like so: srun python /shared/work/pnavarro/envs/deep_cartograph/lib/pytho ...\n",
      "GPU available: False, used: False\n",
      "TPU available: False, using: 0 TPU cores\n",
      "HPU available: False, using: 0 HPUs\n",
      "\n",
      "  | Name    | Type                  | Params | Mode  | In sizes | Out sizes\n",
      "---------------------------------------------------------------------------------\n",
      "0 | loss_fn | ReduceEigenvaluesLoss | 0      | train | ?        | ?        \n",
      "1 | norm_in | Normalization         | 0      | train | [1, 148] | [1, 148] \n",
      "2 | nn      | FeedForward           | 2.5 K  | train | [1, 148] | [1, 2]   \n",
      "3 | tica    | TICA                  | 0      | train | [1, 2]   | [1, 2]   \n",
      "---------------------------------------------------------------------------------\n",
      "2.5 K     Trainable params\n",
      "0         Non-trainable params\n",
      "2.5 K     Total params\n",
      "0.010     Total estimated model params size (MB)\n",
      "INFO:deep_cartograph.tools.train_colvars.utils:Best model score: -1.8907840251922607\n",
      "INFO:deep_cartograph.tools.train_colvars.utils:Took 8 epochs\n",
      "INFO:deep_cartograph.tools.train_colvars.utils:Eigenvalue 1: 0.9848261475563049\n",
      "INFO:deep_cartograph.tools.train_colvars.utils:Eigenvalue 2: 0.9596360325813293\n",
      "/shared/work/pnavarro/envs/deep_cartograph/lib/python3.10/site-packages/mlcolvar/core/nn/utils.py:13: TracerWarning: Converting a tensor to a Python number might cause the trace to be incorrect. We can't record the data flow of Python values, so this value will be treated as a constant in the future. This means that the trace might not generalize to other inputs!\n",
      "  sp0 = F.softplus(torch.zeros(1), self.beta, self.threshold).item()\n",
      "INFO:deep_cartograph.tools.train_colvars.utils:Projecting trajectory...\n",
      "INFO:deep_cartograph:Elapsed time (Train colvars): 00 h 00 min 16 s\n",
      "INFO:deep_cartograph:Total elapsed time: 00 h 00 min 46 s\n",
      "INFO:deep_cartograph:================\n",
      "INFO:deep_cartograph:Compute features\n",
      "INFO:deep_cartograph:================\n",
      "INFO:deep_cartograph:Trajectory file: ../../../data/calpha_transitions/input/2olu_A-2olv_A-1/2olu_A-2olv_A-1.dcd\n",
      "/shared/work/pnavarro/envs/deep_cartograph/lib/python3.10/site-packages/MDAnalysis/topology/PDBParser.py:317: UserWarning: Element information is missing, elements attribute will not be populated. If needed these can be guessed using MDAnalysis.topology.guessers.\n",
      "  warnings.warn(\"Element information is missing, elements attribute \"\n",
      "/shared/work/pnavarro/envs/deep_cartograph/lib/python3.10/site-packages/MDAnalysis/coordinates/PDB.py:747: UserWarning: Unit cell dimensions not found. CRYST1 record set to unitary values.\n",
      "  warnings.warn(\"Unit cell dimensions not found. \"\n",
      "/shared/work/pnavarro/envs/deep_cartograph/lib/python3.10/site-packages/MDAnalysis/coordinates/PDB.py:1078: UserWarning: Found no information for attr: 'elements' Using default value of ' '\n",
      "  warnings.warn(\"Found no information for attr: '{}'\"\n",
      "/shared/work/pnavarro/envs/deep_cartograph/lib/python3.10/site-packages/MDAnalysis/coordinates/PDB.py:429: UserWarning: 1 A^3 CRYST1 record, this is usually a placeholder. Unit cell dimensions will be set to None.\n",
      "  warnings.warn(\"1 A^3 CRYST1 record,\"\n",
      "INFO:deep_cartograph.modules.plumed.input_file.input_file:Found 1186 features for tor\n",
      "INFO:deep_cartograph.modules.plumed.utils:Executing PLUMED driver command: ml PLUMED/2.9.0-intel-2021b && unset I_MPI_PMI_LIBRARY && /eb/x86_64/software/PLUMED/2.9.0-intel-2021b/bin/plumed driver --plumed /shared/work/pnavarro/repos/deep_cartograph/data/calpha_transitions/experiments/output/2olu_A-2olv_A-1/torsions/bs_256/compute_features_traj/torsions.dat --mf_dcd /shared/work/pnavarro/repos/deep_cartograph/data/calpha_transitions/input/2olu_A-2olv_A-1/2olu_A-2olv_A-1.dcd --natoms 596\n",
      "INFO:deep_cartograph:Elapsed time (Compute features): 00 h 00 min 02 s\n",
      "INFO:deep_cartograph:==================\n",
      "INFO:deep_cartograph:Filtering features\n",
      "INFO:deep_cartograph:==================\n",
      "INFO:deep_cartograph:Finding the features that contains the most information about the transitions or conformational changes.\n",
      "INFO:deep_cartograph:The following algorithms are available:\n",
      "INFO:deep_cartograph:- Hartigan's dip test filter. Keeps features that are not unimodal.\n",
      "INFO:deep_cartograph:- Shannon entropy filter. Keeps features with entropy greater than a threshold.\n",
      "INFO:deep_cartograph:- Standard deviation filter. Keeps features with standard deviation greater than a threshold.\n",
      "INFO:deep_cartograph:- Final Mutual information clustering (AMINO). Clusters filtered features according to a mutual information based distance and selects one feature per cluster minimizing the distorsion.\n",
      "INFO:deep_cartograph:Note that the all features must be in the same units to apply the entropy and standard deviation filters meaningfully.\n",
      "INFO:deep_cartograph:Initial size of features set: 1186.\n",
      "INFO:deep_cartograph.tools.filter_features.filtering:Computing dip test.\n",
      "INFO:deep_cartograph.tools.filter_features.filtering:Filtered 1038 features.\n",
      "INFO:deep_cartograph.modules.amino.amino:Skipping AMINO clustering.\n",
      "INFO:deep_cartograph:Elapsed time (Filter features): 00 h 00 min 27 s\n",
      "INFO:deep_cartograph:================================\n",
      "INFO:deep_cartograph:Training of Collective Variables\n",
      "INFO:deep_cartograph:================================\n",
      "INFO:deep_cartograph:Training of collective variables using the mlcolvar library.\n",
      "INFO:deep_cartograph:Creating datasets from colvars...\n",
      "INFO:deep_cartograph:Number of samples: 338\n",
      "INFO:deep_cartograph:Number of features: 148\n",
      "INFO:deep_cartograph.tools.train_colvars.utils:Training Autoencoder CV...\n",
      "/shared/work/pnavarro/envs/deep_cartograph/lib/python3.10/site-packages/lightning/fabric/plugins/environments/slurm.py:204: The `srun` command is available on your system but is not used. HINT: If your intention is to run Lightning on SLURM, prepend your python command with `srun` like so: srun python /shared/work/pnavarro/envs/deep_cartograph/lib/pytho ...\n",
      "GPU available: False, used: False\n",
      "TPU available: False, using: 0 TPU cores\n",
      "HPU available: False, using: 0 HPUs\n",
      "\n",
      "  | Name    | Type          | Params | Mode  | In sizes | Out sizes\n",
      "-------------------------------------------------------------------------\n",
      "0 | loss_fn | MSELoss       | 0      | train | ?        | ?        \n",
      "1 | norm_in | Normalization | 0      | train | [1, 148] | [1, 148] \n",
      "2 | encoder | FeedForward   | 2.5 K  | train | [1, 148] | [1, 2]   \n",
      "3 | decoder | FeedForward   | 2.7 K  | train | ?        | ?        \n",
      "-------------------------------------------------------------------------\n",
      "5.2 K     Trainable params\n",
      "0         Non-trainable params\n",
      "5.2 K     Total params\n",
      "0.021     Total estimated model params size (MB)\n",
      "INFO:deep_cartograph.tools.train_colvars.utils:Best model score: 0.004347050096839666\n",
      "/shared/work/pnavarro/envs/deep_cartograph/lib/python3.10/site-packages/mlcolvar/core/nn/utils.py:13: TracerWarning: Converting a tensor to a Python number might cause the trace to be incorrect. We can't record the data flow of Python values, so this value will be treated as a constant in the future. This means that the trace might not generalize to other inputs!\n",
      "  sp0 = F.softplus(torch.zeros(1), self.beta, self.threshold).item()\n",
      "INFO:deep_cartograph.tools.train_colvars.utils:Projecting trajectory...\n",
      "/shared/work/pnavarro/envs/deep_cartograph/lib/python3.10/site-packages/mlcolvar/utils/timelagged.py:140: UserWarning: Monitoring the progress for the search of time-lagged configurations with a progress_bar requires `tqdm`.\n",
      "  warnings.warn(\n",
      "INFO:deep_cartograph.tools.train_colvars.utils:Calculating DeepTICA CV...\n",
      "/shared/work/pnavarro/envs/deep_cartograph/lib/python3.10/site-packages/lightning/fabric/plugins/environments/slurm.py:204: The `srun` command is available on your system but is not used. HINT: If your intention is to run Lightning on SLURM, prepend your python command with `srun` like so: srun python /shared/work/pnavarro/envs/deep_cartograph/lib/pytho ...\n",
      "GPU available: False, used: False\n",
      "TPU available: False, using: 0 TPU cores\n",
      "HPU available: False, using: 0 HPUs\n",
      "\n",
      "  | Name    | Type                  | Params | Mode  | In sizes | Out sizes\n",
      "---------------------------------------------------------------------------------\n",
      "0 | loss_fn | ReduceEigenvaluesLoss | 0      | train | ?        | ?        \n",
      "1 | norm_in | Normalization         | 0      | train | [1, 148] | [1, 148] \n",
      "2 | nn      | FeedForward           | 2.5 K  | train | [1, 148] | [1, 2]   \n",
      "3 | tica    | TICA                  | 0      | train | [1, 2]   | [1, 2]   \n",
      "---------------------------------------------------------------------------------\n",
      "2.5 K     Trainable params\n",
      "0         Non-trainable params\n",
      "2.5 K     Total params\n",
      "0.010     Total estimated model params size (MB)\n",
      "INFO:deep_cartograph.tools.train_colvars.utils:Best model score: -1.8661770820617676\n",
      "INFO:deep_cartograph.tools.train_colvars.utils:Took 10 epochs\n",
      "INFO:deep_cartograph.tools.train_colvars.utils:Eigenvalue 1: 0.9924545288085938\n",
      "INFO:deep_cartograph.tools.train_colvars.utils:Eigenvalue 2: 0.9387284517288208\n",
      "/shared/work/pnavarro/envs/deep_cartograph/lib/python3.10/site-packages/mlcolvar/core/nn/utils.py:13: TracerWarning: Converting a tensor to a Python number might cause the trace to be incorrect. We can't record the data flow of Python values, so this value will be treated as a constant in the future. This means that the trace might not generalize to other inputs!\n",
      "  sp0 = F.softplus(torch.zeros(1), self.beta, self.threshold).item()\n",
      "INFO:deep_cartograph.tools.train_colvars.utils:Projecting trajectory...\n",
      "INFO:deep_cartograph:Elapsed time (Train colvars): 00 h 00 min 10 s\n",
      "INFO:deep_cartograph:Total elapsed time: 00 h 00 min 40 s\n"
     ]
    },
    {
     "data": {
      "text/plain": [
       "<Figure size 500x400 with 0 Axes>"
      ]
     },
     "metadata": {},
     "output_type": "display_data"
    },
    {
     "data": {
      "text/plain": [
       "<Figure size 500x400 with 0 Axes>"
      ]
     },
     "metadata": {},
     "output_type": "display_data"
    },
    {
     "data": {
      "text/plain": [
       "<Figure size 500x400 with 0 Axes>"
      ]
     },
     "metadata": {},
     "output_type": "display_data"
    },
    {
     "data": {
      "text/plain": [
       "<Figure size 500x400 with 0 Axes>"
      ]
     },
     "metadata": {},
     "output_type": "display_data"
    },
    {
     "data": {
      "text/plain": [
       "<Figure size 500x400 with 0 Axes>"
      ]
     },
     "metadata": {},
     "output_type": "display_data"
    },
    {
     "data": {
      "text/plain": [
       "<Figure size 500x400 with 0 Axes>"
      ]
     },
     "metadata": {},
     "output_type": "display_data"
    },
    {
     "data": {
      "text/plain": [
       "<Figure size 500x400 with 0 Axes>"
      ]
     },
     "metadata": {},
     "output_type": "display_data"
    },
    {
     "data": {
      "text/plain": [
       "<Figure size 500x400 with 0 Axes>"
      ]
     },
     "metadata": {},
     "output_type": "display_data"
    },
    {
     "data": {
      "text/plain": [
       "<Figure size 500x400 with 0 Axes>"
      ]
     },
     "metadata": {},
     "output_type": "display_data"
    },
    {
     "data": {
      "text/plain": [
       "<Figure size 500x400 with 0 Axes>"
      ]
     },
     "metadata": {},
     "output_type": "display_data"
    },
    {
     "data": {
      "text/plain": [
       "<Figure size 500x400 with 0 Axes>"
      ]
     },
     "metadata": {},
     "output_type": "display_data"
    },
    {
     "data": {
      "text/plain": [
       "<Figure size 500x400 with 0 Axes>"
      ]
     },
     "metadata": {},
     "output_type": "display_data"
    },
    {
     "data": {
      "text/plain": [
       "<Figure size 500x400 with 0 Axes>"
      ]
     },
     "metadata": {},
     "output_type": "display_data"
    },
    {
     "data": {
      "text/plain": [
       "<Figure size 500x400 with 0 Axes>"
      ]
     },
     "metadata": {},
     "output_type": "display_data"
    },
    {
     "data": {
      "text/plain": [
       "<Figure size 500x400 with 0 Axes>"
      ]
     },
     "metadata": {},
     "output_type": "display_data"
    }
   ],
   "source": [
    "\n",
    "features = 'torsions'\n",
    "\n",
    "# Load initial configuration\n",
    "config_path = f\"{data_folder}/calpha_transitions/experiments/{features}_config.yml\"\n",
    "\n",
    "with open(config_path, 'r') as file:\n",
    "    configuration = yaml.load(file, Loader = yaml.FullLoader)\n",
    "    \n",
    "batch_sizes = [16, 32, 64, 128, 256]   # 256 is close to all the samples in the training set (330*0.8 = 264)\n",
    "system_name = '2olu_A-2olv_A-1'        # Has around 330 frames\n",
    "\n",
    "for bs in batch_sizes:\n",
    "\n",
    "    # Test name\n",
    "    test_name = f\"bs_{bs}\"\n",
    "\n",
    "    # Make a copy of the initial configuration\n",
    "    test_configuration = configuration.copy()\n",
    "\n",
    "    # Update batch size\n",
    "    test_configuration['train_colvars']['common']['training']['general']['batch_size'] = bs\n",
    "\n",
    "    # Run deep cartograph\n",
    "    run_deep_cartograph(test_configuration, features, system_name, test_name)"
   ]
  },
  {
   "cell_type": "code",
   "execution_count": 6,
   "metadata": {},
   "outputs": [
    {
     "name": "stdout",
     "output_type": "stream",
     "text": [
      "Batch size: 16 ----------------------------------------------- #\n",
      "Output folder: ../../../data/calpha_transitions/experiments/output/2olu_A-2olv_A-1/torsions/bs_16\n",
      "Final model score: 2.8088E-3\n"
     ]
    },
    {
     "data": {
      "text/html": [
       "<img src=\"../../../data/calpha_transitions/experiments/output/2olu_A-2olv_A-1/torsions/bs_16/train_colvars/ae/loss.png?1724936362\" style=\"width: 600px; margin-right: 10px;\"><img src=\"../../../data/calpha_transitions/experiments/output/2olu_A-2olv_A-1/torsions/bs_16/train_colvars/ae/trajectory.png?1724936362\" style=\"width: 600px; margin-right: 10px;\">"
      ],
      "text/plain": [
       "<IPython.core.display.HTML object>"
      ]
     },
     "metadata": {},
     "output_type": "display_data"
    },
    {
     "name": "stdout",
     "output_type": "stream",
     "text": [
      "Batch size: 32 ----------------------------------------------- #\n",
      "Output folder: ../../../data/calpha_transitions/experiments/output/2olu_A-2olv_A-1/torsions/bs_32\n",
      "Final model score: 2.8263E-3\n"
     ]
    },
    {
     "data": {
      "text/html": [
       "<img src=\"../../../data/calpha_transitions/experiments/output/2olu_A-2olv_A-1/torsions/bs_32/train_colvars/ae/loss.png?1724936362\" style=\"width: 600px; margin-right: 10px;\"><img src=\"../../../data/calpha_transitions/experiments/output/2olu_A-2olv_A-1/torsions/bs_32/train_colvars/ae/trajectory.png?1724936362\" style=\"width: 600px; margin-right: 10px;\">"
      ],
      "text/plain": [
       "<IPython.core.display.HTML object>"
      ]
     },
     "metadata": {},
     "output_type": "display_data"
    },
    {
     "name": "stdout",
     "output_type": "stream",
     "text": [
      "Batch size: 64 ----------------------------------------------- #\n",
      "Output folder: ../../../data/calpha_transitions/experiments/output/2olu_A-2olv_A-1/torsions/bs_64\n",
      "Final model score: 3.0075E-3\n"
     ]
    },
    {
     "data": {
      "text/html": [
       "<img src=\"../../../data/calpha_transitions/experiments/output/2olu_A-2olv_A-1/torsions/bs_64/train_colvars/ae/loss.png?1724936362\" style=\"width: 600px; margin-right: 10px;\"><img src=\"../../../data/calpha_transitions/experiments/output/2olu_A-2olv_A-1/torsions/bs_64/train_colvars/ae/trajectory.png?1724936362\" style=\"width: 600px; margin-right: 10px;\">"
      ],
      "text/plain": [
       "<IPython.core.display.HTML object>"
      ]
     },
     "metadata": {},
     "output_type": "display_data"
    },
    {
     "name": "stdout",
     "output_type": "stream",
     "text": [
      "Batch size: 128 ----------------------------------------------- #\n",
      "Output folder: ../../../data/calpha_transitions/experiments/output/2olu_A-2olv_A-1/torsions/bs_128\n",
      "Final model score: 3.2034E-3\n"
     ]
    },
    {
     "data": {
      "text/html": [
       "<img src=\"../../../data/calpha_transitions/experiments/output/2olu_A-2olv_A-1/torsions/bs_128/train_colvars/ae/loss.png?1724936362\" style=\"width: 600px; margin-right: 10px;\"><img src=\"../../../data/calpha_transitions/experiments/output/2olu_A-2olv_A-1/torsions/bs_128/train_colvars/ae/trajectory.png?1724936362\" style=\"width: 600px; margin-right: 10px;\">"
      ],
      "text/plain": [
       "<IPython.core.display.HTML object>"
      ]
     },
     "metadata": {},
     "output_type": "display_data"
    },
    {
     "name": "stdout",
     "output_type": "stream",
     "text": [
      "Batch size: 256 ----------------------------------------------- #\n",
      "Output folder: ../../../data/calpha_transitions/experiments/output/2olu_A-2olv_A-1/torsions/bs_256\n",
      "Final model score: 4.3471E-3\n"
     ]
    },
    {
     "data": {
      "text/html": [
       "<img src=\"../../../data/calpha_transitions/experiments/output/2olu_A-2olv_A-1/torsions/bs_256/train_colvars/ae/loss.png?1724936362\" style=\"width: 600px; margin-right: 10px;\"><img src=\"../../../data/calpha_transitions/experiments/output/2olu_A-2olv_A-1/torsions/bs_256/train_colvars/ae/trajectory.png?1724936362\" style=\"width: 600px; margin-right: 10px;\">"
      ],
      "text/plain": [
       "<IPython.core.display.HTML object>"
      ]
     },
     "metadata": {},
     "output_type": "display_data"
    }
   ],
   "source": [
    "# Show results for the Autoencoder\n",
    "\n",
    "for bs in batch_sizes:\n",
    "\n",
    "    print(f\"Batch size: {bs} ----------------------------------------------- #\")\n",
    "\n",
    "    # Test name\n",
    "    test_name = f\"bs_{bs}\"\n",
    "    \n",
    "    # Show main results\n",
    "    show_results(features, system_name, 'ae', test_name)"
   ]
  },
  {
   "cell_type": "markdown",
   "metadata": {},
   "source": [
    "- We can see that as the batch size increases, the validation loss takes more epochs to decrease\n",
    "- Also, the training loss follows more closely the validation loss"
   ]
  },
  {
   "cell_type": "code",
   "execution_count": 7,
   "metadata": {},
   "outputs": [
    {
     "name": "stdout",
     "output_type": "stream",
     "text": [
      "Batch size: 16 ----------------------------------------------- #\n",
      "Output folder: ../../../data/calpha_transitions/experiments/output/2olu_A-2olv_A-1/torsions/bs_16\n",
      "Final model score: -2.5727E+3\n",
      "Eigenvalue 1: 1.1717E+1\n",
      "Eigenvalue 2: -2.0833E-1\n"
     ]
    },
    {
     "data": {
      "text/html": [
       "<img src=\"../../../data/calpha_transitions/experiments/output/2olu_A-2olv_A-1/torsions/bs_16/train_colvars/deep_tica/loss.png?1724936369\" style=\"width: 600px; margin-right: 10px;\"><img src=\"../../../data/calpha_transitions/experiments/output/2olu_A-2olv_A-1/torsions/bs_16/train_colvars/deep_tica/eigenvalues.png?1724936369\" style=\"width: 600px; margin-right: 10px;\"><img src=\"../../../data/calpha_transitions/experiments/output/2olu_A-2olv_A-1/torsions/bs_16/train_colvars/deep_tica/trajectory.png?1724936369\" style=\"width: 600px; margin-right: 10px;\">"
      ],
      "text/plain": [
       "<IPython.core.display.HTML object>"
      ]
     },
     "metadata": {},
     "output_type": "display_data"
    },
    {
     "name": "stdout",
     "output_type": "stream",
     "text": [
      "Batch size: 32 ----------------------------------------------- #\n",
      "Output folder: ../../../data/calpha_transitions/experiments/output/2olu_A-2olv_A-1/torsions/bs_32\n",
      "Final model score: -1.8339E+0\n",
      "Eigenvalue 1: 9.7983E-1\n",
      "Eigenvalue 2: 9.3382E-1\n"
     ]
    },
    {
     "data": {
      "text/html": [
       "<img src=\"../../../data/calpha_transitions/experiments/output/2olu_A-2olv_A-1/torsions/bs_32/train_colvars/deep_tica/loss.png?1724936369\" style=\"width: 600px; margin-right: 10px;\"><img src=\"../../../data/calpha_transitions/experiments/output/2olu_A-2olv_A-1/torsions/bs_32/train_colvars/deep_tica/eigenvalues.png?1724936369\" style=\"width: 600px; margin-right: 10px;\"><img src=\"../../../data/calpha_transitions/experiments/output/2olu_A-2olv_A-1/torsions/bs_32/train_colvars/deep_tica/trajectory.png?1724936369\" style=\"width: 600px; margin-right: 10px;\">"
      ],
      "text/plain": [
       "<IPython.core.display.HTML object>"
      ]
     },
     "metadata": {},
     "output_type": "display_data"
    },
    {
     "name": "stdout",
     "output_type": "stream",
     "text": [
      "Batch size: 64 ----------------------------------------------- #\n",
      "Output folder: ../../../data/calpha_transitions/experiments/output/2olu_A-2olv_A-1/torsions/bs_64\n",
      "Final model score: -1.9195E+0\n",
      "Eigenvalue 1: 9.8996E-1\n",
      "Eigenvalue 2: 9.6897E-1\n"
     ]
    },
    {
     "data": {
      "text/html": [
       "<img src=\"../../../data/calpha_transitions/experiments/output/2olu_A-2olv_A-1/torsions/bs_64/train_colvars/deep_tica/loss.png?1724936369\" style=\"width: 600px; margin-right: 10px;\"><img src=\"../../../data/calpha_transitions/experiments/output/2olu_A-2olv_A-1/torsions/bs_64/train_colvars/deep_tica/eigenvalues.png?1724936369\" style=\"width: 600px; margin-right: 10px;\"><img src=\"../../../data/calpha_transitions/experiments/output/2olu_A-2olv_A-1/torsions/bs_64/train_colvars/deep_tica/trajectory.png?1724936369\" style=\"width: 600px; margin-right: 10px;\">"
      ],
      "text/plain": [
       "<IPython.core.display.HTML object>"
      ]
     },
     "metadata": {},
     "output_type": "display_data"
    },
    {
     "name": "stdout",
     "output_type": "stream",
     "text": [
      "Batch size: 128 ----------------------------------------------- #\n",
      "Output folder: ../../../data/calpha_transitions/experiments/output/2olu_A-2olv_A-1/torsions/bs_128\n",
      "Final model score: -1.8908E+0\n",
      "Eigenvalue 1: 9.8483E-1\n",
      "Eigenvalue 2: 9.5964E-1\n"
     ]
    },
    {
     "data": {
      "text/html": [
       "<img src=\"../../../data/calpha_transitions/experiments/output/2olu_A-2olv_A-1/torsions/bs_128/train_colvars/deep_tica/loss.png?1724936369\" style=\"width: 600px; margin-right: 10px;\"><img src=\"../../../data/calpha_transitions/experiments/output/2olu_A-2olv_A-1/torsions/bs_128/train_colvars/deep_tica/eigenvalues.png?1724936369\" style=\"width: 600px; margin-right: 10px;\"><img src=\"../../../data/calpha_transitions/experiments/output/2olu_A-2olv_A-1/torsions/bs_128/train_colvars/deep_tica/trajectory.png?1724936369\" style=\"width: 600px; margin-right: 10px;\">"
      ],
      "text/plain": [
       "<IPython.core.display.HTML object>"
      ]
     },
     "metadata": {},
     "output_type": "display_data"
    },
    {
     "name": "stdout",
     "output_type": "stream",
     "text": [
      "Batch size: 256 ----------------------------------------------- #\n",
      "Output folder: ../../../data/calpha_transitions/experiments/output/2olu_A-2olv_A-1/torsions/bs_256\n",
      "Final model score: -1.8662E+0\n",
      "Eigenvalue 1: 9.9245E-1\n",
      "Eigenvalue 2: 9.3873E-1\n"
     ]
    },
    {
     "data": {
      "text/html": [
       "<img src=\"../../../data/calpha_transitions/experiments/output/2olu_A-2olv_A-1/torsions/bs_256/train_colvars/deep_tica/loss.png?1724936369\" style=\"width: 600px; margin-right: 10px;\"><img src=\"../../../data/calpha_transitions/experiments/output/2olu_A-2olv_A-1/torsions/bs_256/train_colvars/deep_tica/eigenvalues.png?1724936369\" style=\"width: 600px; margin-right: 10px;\"><img src=\"../../../data/calpha_transitions/experiments/output/2olu_A-2olv_A-1/torsions/bs_256/train_colvars/deep_tica/trajectory.png?1724936369\" style=\"width: 600px; margin-right: 10px;\">"
      ],
      "text/plain": [
       "<IPython.core.display.HTML object>"
      ]
     },
     "metadata": {},
     "output_type": "display_data"
    }
   ],
   "source": [
    "# Show results for Deep TICA\n",
    "\n",
    "for bs in batch_sizes:\n",
    "\n",
    "    print(f\"Batch size: {bs} ----------------------------------------------- #\")\n",
    "\n",
    "    # Test name\n",
    "    test_name = f\"bs_{bs}\"\n",
    "    \n",
    "    # Show main results\n",
    "    show_results(features, system_name, 'deep_tica', test_name)"
   ]
  },
  {
   "cell_type": "markdown",
   "metadata": {},
   "source": [
    "## Learning rate\n",
    "\n",
    "It controls the size of the steps that the optimizer takes in the direction of the gradient. If the learning rate is too high, the optimizer might overshoot the minimum and diverge. If the learning rate is too low, the optimizer might take too long to converge."
   ]
  },
  {
   "cell_type": "code",
   "execution_count": 9,
   "metadata": {},
   "outputs": [
    {
     "name": "stderr",
     "output_type": "stream",
     "text": [
      "INFO:deep_cartograph:================\n",
      "INFO:deep_cartograph:Compute features\n",
      "INFO:deep_cartograph:================\n",
      "INFO:deep_cartograph:Trajectory file: ../../../data/calpha_transitions/input/2olu_A-2olv_A-1/2olu_A-2olv_A-1.dcd\n",
      "/shared/work/pnavarro/envs/deep_cartograph/lib/python3.10/site-packages/MDAnalysis/topology/PDBParser.py:317: UserWarning: Element information is missing, elements attribute will not be populated. If needed these can be guessed using MDAnalysis.topology.guessers.\n",
      "  warnings.warn(\"Element information is missing, elements attribute \"\n",
      "/shared/work/pnavarro/envs/deep_cartograph/lib/python3.10/site-packages/MDAnalysis/coordinates/PDB.py:747: UserWarning: Unit cell dimensions not found. CRYST1 record set to unitary values.\n",
      "  warnings.warn(\"Unit cell dimensions not found. \"\n",
      "/shared/work/pnavarro/envs/deep_cartograph/lib/python3.10/site-packages/MDAnalysis/coordinates/PDB.py:1078: UserWarning: Found no information for attr: 'elements' Using default value of ' '\n",
      "  warnings.warn(\"Found no information for attr: '{}'\"\n",
      "/shared/work/pnavarro/envs/deep_cartograph/lib/python3.10/site-packages/MDAnalysis/coordinates/PDB.py:429: UserWarning: 1 A^3 CRYST1 record, this is usually a placeholder. Unit cell dimensions will be set to None.\n",
      "  warnings.warn(\"1 A^3 CRYST1 record,\"\n",
      "INFO:deep_cartograph.modules.plumed.input_file.input_file:Found 1186 features for tor\n",
      "INFO:deep_cartograph.modules.plumed.utils:Executing PLUMED driver command: ml PLUMED/2.9.0-intel-2021b && unset I_MPI_PMI_LIBRARY && /eb/x86_64/software/PLUMED/2.9.0-intel-2021b/bin/plumed driver --plumed /shared/work/pnavarro/repos/deep_cartograph/data/calpha_transitions/experiments/output/2olu_A-2olv_A-1/torsions/lr_0.01/compute_features_traj/torsions.dat --mf_dcd /shared/work/pnavarro/repos/deep_cartograph/data/calpha_transitions/input/2olu_A-2olv_A-1/2olu_A-2olv_A-1.dcd --natoms 596\n",
      "INFO:deep_cartograph:Elapsed time (Compute features): 00 h 00 min 02 s\n",
      "INFO:deep_cartograph:==================\n",
      "INFO:deep_cartograph:Filtering features\n",
      "INFO:deep_cartograph:==================\n",
      "INFO:deep_cartograph:Finding the features that contains the most information about the transitions or conformational changes.\n",
      "INFO:deep_cartograph:The following algorithms are available:\n",
      "INFO:deep_cartograph:- Hartigan's dip test filter. Keeps features that are not unimodal.\n",
      "INFO:deep_cartograph:- Shannon entropy filter. Keeps features with entropy greater than a threshold.\n",
      "INFO:deep_cartograph:- Standard deviation filter. Keeps features with standard deviation greater than a threshold.\n",
      "INFO:deep_cartograph:- Final Mutual information clustering (AMINO). Clusters filtered features according to a mutual information based distance and selects one feature per cluster minimizing the distorsion.\n",
      "INFO:deep_cartograph:Note that the all features must be in the same units to apply the entropy and standard deviation filters meaningfully.\n",
      "INFO:deep_cartograph:Initial size of features set: 1186.\n",
      "INFO:deep_cartograph.tools.filter_features.filtering:Computing dip test.\n",
      "INFO:deep_cartograph.tools.filter_features.filtering:Filtered 1038 features.\n",
      "INFO:deep_cartograph.modules.amino.amino:Skipping AMINO clustering.\n",
      "INFO:deep_cartograph:Elapsed time (Filter features): 00 h 00 min 26 s\n",
      "INFO:deep_cartograph:================================\n",
      "INFO:deep_cartograph:Training of Collective Variables\n",
      "INFO:deep_cartograph:================================\n",
      "INFO:deep_cartograph:Training of collective variables using the mlcolvar library.\n",
      "INFO:deep_cartograph:Creating datasets from colvars...\n",
      "INFO:deep_cartograph:Number of samples: 338\n",
      "INFO:deep_cartograph:Number of features: 148\n",
      "INFO:deep_cartograph.tools.train_colvars.utils:Training Autoencoder CV...\n",
      "/shared/work/pnavarro/envs/deep_cartograph/lib/python3.10/site-packages/lightning/fabric/plugins/environments/slurm.py:204: The `srun` command is available on your system but is not used. HINT: If your intention is to run Lightning on SLURM, prepend your python command with `srun` like so: srun python /shared/work/pnavarro/envs/deep_cartograph/lib/pytho ...\n",
      "GPU available: False, used: False\n",
      "TPU available: False, using: 0 TPU cores\n",
      "HPU available: False, using: 0 HPUs\n",
      "\n",
      "  | Name    | Type          | Params | Mode  | In sizes | Out sizes\n",
      "-------------------------------------------------------------------------\n",
      "0 | loss_fn | MSELoss       | 0      | train | ?        | ?        \n",
      "1 | norm_in | Normalization | 0      | train | [1, 148] | [1, 148] \n",
      "2 | encoder | FeedForward   | 2.5 K  | train | [1, 148] | [1, 2]   \n",
      "3 | decoder | FeedForward   | 2.7 K  | train | ?        | ?        \n",
      "-------------------------------------------------------------------------\n",
      "5.2 K     Trainable params\n",
      "0         Non-trainable params\n",
      "5.2 K     Total params\n",
      "0.021     Total estimated model params size (MB)\n",
      "INFO:deep_cartograph.tools.train_colvars.utils:Best model score: 0.002900201128795743\n",
      "/shared/work/pnavarro/envs/deep_cartograph/lib/python3.10/site-packages/mlcolvar/core/nn/utils.py:13: TracerWarning: Converting a tensor to a Python number might cause the trace to be incorrect. We can't record the data flow of Python values, so this value will be treated as a constant in the future. This means that the trace might not generalize to other inputs!\n",
      "  sp0 = F.softplus(torch.zeros(1), self.beta, self.threshold).item()\n",
      "INFO:deep_cartograph.tools.train_colvars.utils:Projecting trajectory...\n",
      "/shared/work/pnavarro/envs/deep_cartograph/lib/python3.10/site-packages/mlcolvar/utils/timelagged.py:140: UserWarning: Monitoring the progress for the search of time-lagged configurations with a progress_bar requires `tqdm`.\n",
      "  warnings.warn(\n",
      "INFO:deep_cartograph.tools.train_colvars.utils:Calculating DeepTICA CV...\n",
      "/shared/work/pnavarro/envs/deep_cartograph/lib/python3.10/site-packages/lightning/fabric/plugins/environments/slurm.py:204: The `srun` command is available on your system but is not used. HINT: If your intention is to run Lightning on SLURM, prepend your python command with `srun` like so: srun python /shared/work/pnavarro/envs/deep_cartograph/lib/pytho ...\n",
      "GPU available: False, used: False\n",
      "TPU available: False, using: 0 TPU cores\n",
      "HPU available: False, using: 0 HPUs\n",
      "\n",
      "  | Name    | Type                  | Params | Mode  | In sizes | Out sizes\n",
      "---------------------------------------------------------------------------------\n",
      "0 | loss_fn | ReduceEigenvaluesLoss | 0      | train | ?        | ?        \n",
      "1 | norm_in | Normalization         | 0      | train | [1, 148] | [1, 148] \n",
      "2 | nn      | FeedForward           | 2.5 K  | train | [1, 148] | [1, 2]   \n",
      "3 | tica    | TICA                  | 0      | train | [1, 2]   | [1, 2]   \n",
      "---------------------------------------------------------------------------------\n",
      "2.5 K     Trainable params\n",
      "0         Non-trainable params\n",
      "2.5 K     Total params\n",
      "0.010     Total estimated model params size (MB)\n",
      "INFO:deep_cartograph.tools.train_colvars.utils:Best model score: -1.967350721359253\n",
      "INFO:deep_cartograph.tools.train_colvars.utils:Took 2 epochs\n",
      "INFO:deep_cartograph.tools.train_colvars.utils:Eigenvalue 1: 0.9995520114898682\n",
      "INFO:deep_cartograph.tools.train_colvars.utils:Eigenvalue 2: 0.9824584126472473\n",
      "/shared/work/pnavarro/envs/deep_cartograph/lib/python3.10/site-packages/mlcolvar/core/nn/utils.py:13: TracerWarning: Converting a tensor to a Python number might cause the trace to be incorrect. We can't record the data flow of Python values, so this value will be treated as a constant in the future. This means that the trace might not generalize to other inputs!\n",
      "  sp0 = F.softplus(torch.zeros(1), self.beta, self.threshold).item()\n",
      "INFO:deep_cartograph.tools.train_colvars.utils:Projecting trajectory...\n",
      "INFO:deep_cartograph:Elapsed time (Train colvars): 00 h 00 min 07 s\n",
      "INFO:deep_cartograph:Total elapsed time: 00 h 00 min 37 s\n",
      "INFO:deep_cartograph:================\n",
      "INFO:deep_cartograph:Compute features\n",
      "INFO:deep_cartograph:================\n",
      "INFO:deep_cartograph:Trajectory file: ../../../data/calpha_transitions/input/2olu_A-2olv_A-1/2olu_A-2olv_A-1.dcd\n",
      "/shared/work/pnavarro/envs/deep_cartograph/lib/python3.10/site-packages/MDAnalysis/topology/PDBParser.py:317: UserWarning: Element information is missing, elements attribute will not be populated. If needed these can be guessed using MDAnalysis.topology.guessers.\n",
      "  warnings.warn(\"Element information is missing, elements attribute \"\n",
      "/shared/work/pnavarro/envs/deep_cartograph/lib/python3.10/site-packages/MDAnalysis/coordinates/PDB.py:747: UserWarning: Unit cell dimensions not found. CRYST1 record set to unitary values.\n",
      "  warnings.warn(\"Unit cell dimensions not found. \"\n",
      "/shared/work/pnavarro/envs/deep_cartograph/lib/python3.10/site-packages/MDAnalysis/coordinates/PDB.py:1078: UserWarning: Found no information for attr: 'elements' Using default value of ' '\n",
      "  warnings.warn(\"Found no information for attr: '{}'\"\n",
      "/shared/work/pnavarro/envs/deep_cartograph/lib/python3.10/site-packages/MDAnalysis/coordinates/PDB.py:429: UserWarning: 1 A^3 CRYST1 record, this is usually a placeholder. Unit cell dimensions will be set to None.\n",
      "  warnings.warn(\"1 A^3 CRYST1 record,\"\n",
      "INFO:deep_cartograph.modules.plumed.input_file.input_file:Found 1186 features for tor\n",
      "INFO:deep_cartograph.modules.plumed.utils:Executing PLUMED driver command: ml PLUMED/2.9.0-intel-2021b && unset I_MPI_PMI_LIBRARY && /eb/x86_64/software/PLUMED/2.9.0-intel-2021b/bin/plumed driver --plumed /shared/work/pnavarro/repos/deep_cartograph/data/calpha_transitions/experiments/output/2olu_A-2olv_A-1/torsions/lr_0.001/compute_features_traj/torsions.dat --mf_dcd /shared/work/pnavarro/repos/deep_cartograph/data/calpha_transitions/input/2olu_A-2olv_A-1/2olu_A-2olv_A-1.dcd --natoms 596\n",
      "INFO:deep_cartograph:Elapsed time (Compute features): 00 h 00 min 03 s\n",
      "INFO:deep_cartograph:==================\n",
      "INFO:deep_cartograph:Filtering features\n",
      "INFO:deep_cartograph:==================\n",
      "INFO:deep_cartograph:Finding the features that contains the most information about the transitions or conformational changes.\n",
      "INFO:deep_cartograph:The following algorithms are available:\n",
      "INFO:deep_cartograph:- Hartigan's dip test filter. Keeps features that are not unimodal.\n",
      "INFO:deep_cartograph:- Shannon entropy filter. Keeps features with entropy greater than a threshold.\n",
      "INFO:deep_cartograph:- Standard deviation filter. Keeps features with standard deviation greater than a threshold.\n",
      "INFO:deep_cartograph:- Final Mutual information clustering (AMINO). Clusters filtered features according to a mutual information based distance and selects one feature per cluster minimizing the distorsion.\n",
      "INFO:deep_cartograph:Note that the all features must be in the same units to apply the entropy and standard deviation filters meaningfully.\n",
      "INFO:deep_cartograph:Initial size of features set: 1186.\n",
      "INFO:deep_cartograph.tools.filter_features.filtering:Computing dip test.\n",
      "INFO:deep_cartograph.tools.filter_features.filtering:Filtered 1038 features.\n",
      "INFO:deep_cartograph.modules.amino.amino:Skipping AMINO clustering.\n",
      "INFO:deep_cartograph:Elapsed time (Filter features): 00 h 00 min 27 s\n",
      "INFO:deep_cartograph:================================\n",
      "INFO:deep_cartograph:Training of Collective Variables\n",
      "INFO:deep_cartograph:================================\n",
      "INFO:deep_cartograph:Training of collective variables using the mlcolvar library.\n",
      "INFO:deep_cartograph:Creating datasets from colvars...\n",
      "INFO:deep_cartograph:Number of samples: 338\n",
      "INFO:deep_cartograph:Number of features: 148\n",
      "INFO:deep_cartograph.tools.train_colvars.utils:Training Autoencoder CV...\n",
      "/shared/work/pnavarro/envs/deep_cartograph/lib/python3.10/site-packages/lightning/fabric/plugins/environments/slurm.py:204: The `srun` command is available on your system but is not used. HINT: If your intention is to run Lightning on SLURM, prepend your python command with `srun` like so: srun python /shared/work/pnavarro/envs/deep_cartograph/lib/pytho ...\n",
      "GPU available: False, used: False\n",
      "TPU available: False, using: 0 TPU cores\n",
      "HPU available: False, using: 0 HPUs\n",
      "\n",
      "  | Name    | Type          | Params | Mode  | In sizes | Out sizes\n",
      "-------------------------------------------------------------------------\n",
      "0 | loss_fn | MSELoss       | 0      | train | ?        | ?        \n",
      "1 | norm_in | Normalization | 0      | train | [1, 148] | [1, 148] \n",
      "2 | encoder | FeedForward   | 2.5 K  | train | [1, 148] | [1, 2]   \n",
      "3 | decoder | FeedForward   | 2.7 K  | train | ?        | ?        \n",
      "-------------------------------------------------------------------------\n",
      "5.2 K     Trainable params\n",
      "0         Non-trainable params\n",
      "5.2 K     Total params\n",
      "0.021     Total estimated model params size (MB)\n",
      "INFO:deep_cartograph.tools.train_colvars.utils:Best model score: 0.0030074643436819315\n",
      "/shared/work/pnavarro/envs/deep_cartograph/lib/python3.10/site-packages/mlcolvar/core/nn/utils.py:13: TracerWarning: Converting a tensor to a Python number might cause the trace to be incorrect. We can't record the data flow of Python values, so this value will be treated as a constant in the future. This means that the trace might not generalize to other inputs!\n",
      "  sp0 = F.softplus(torch.zeros(1), self.beta, self.threshold).item()\n",
      "INFO:deep_cartograph.tools.train_colvars.utils:Projecting trajectory...\n",
      "/shared/work/pnavarro/envs/deep_cartograph/lib/python3.10/site-packages/mlcolvar/utils/timelagged.py:140: UserWarning: Monitoring the progress for the search of time-lagged configurations with a progress_bar requires `tqdm`.\n",
      "  warnings.warn(\n",
      "INFO:deep_cartograph.tools.train_colvars.utils:Calculating DeepTICA CV...\n",
      "/shared/work/pnavarro/envs/deep_cartograph/lib/python3.10/site-packages/lightning/fabric/plugins/environments/slurm.py:204: The `srun` command is available on your system but is not used. HINT: If your intention is to run Lightning on SLURM, prepend your python command with `srun` like so: srun python /shared/work/pnavarro/envs/deep_cartograph/lib/pytho ...\n",
      "GPU available: False, used: False\n",
      "TPU available: False, using: 0 TPU cores\n",
      "HPU available: False, using: 0 HPUs\n",
      "\n",
      "  | Name    | Type                  | Params | Mode  | In sizes | Out sizes\n",
      "---------------------------------------------------------------------------------\n",
      "0 | loss_fn | ReduceEigenvaluesLoss | 0      | train | ?        | ?        \n",
      "1 | norm_in | Normalization         | 0      | train | [1, 148] | [1, 148] \n",
      "2 | nn      | FeedForward           | 2.5 K  | train | [1, 148] | [1, 2]   \n",
      "3 | tica    | TICA                  | 0      | train | [1, 2]   | [1, 2]   \n",
      "---------------------------------------------------------------------------------\n",
      "2.5 K     Trainable params\n",
      "0         Non-trainable params\n",
      "2.5 K     Total params\n",
      "0.010     Total estimated model params size (MB)\n",
      "INFO:deep_cartograph.tools.train_colvars.utils:Best model score: -1.9195023775100708\n",
      "INFO:deep_cartograph.tools.train_colvars.utils:Took 6 epochs\n",
      "INFO:deep_cartograph.tools.train_colvars.utils:Eigenvalue 1: 0.9899606108665466\n",
      "INFO:deep_cartograph.tools.train_colvars.utils:Eigenvalue 2: 0.9689686298370361\n",
      "/shared/work/pnavarro/envs/deep_cartograph/lib/python3.10/site-packages/mlcolvar/core/nn/utils.py:13: TracerWarning: Converting a tensor to a Python number might cause the trace to be incorrect. We can't record the data flow of Python values, so this value will be treated as a constant in the future. This means that the trace might not generalize to other inputs!\n",
      "  sp0 = F.softplus(torch.zeros(1), self.beta, self.threshold).item()\n",
      "INFO:deep_cartograph.tools.train_colvars.utils:Projecting trajectory...\n",
      "INFO:deep_cartograph:Elapsed time (Train colvars): 00 h 00 min 16 s\n",
      "INFO:deep_cartograph:Total elapsed time: 00 h 00 min 47 s\n",
      "INFO:deep_cartograph:================\n",
      "INFO:deep_cartograph:Compute features\n",
      "INFO:deep_cartograph:================\n",
      "INFO:deep_cartograph:Trajectory file: ../../../data/calpha_transitions/input/2olu_A-2olv_A-1/2olu_A-2olv_A-1.dcd\n",
      "/shared/work/pnavarro/envs/deep_cartograph/lib/python3.10/site-packages/MDAnalysis/topology/PDBParser.py:317: UserWarning: Element information is missing, elements attribute will not be populated. If needed these can be guessed using MDAnalysis.topology.guessers.\n",
      "  warnings.warn(\"Element information is missing, elements attribute \"\n",
      "/shared/work/pnavarro/envs/deep_cartograph/lib/python3.10/site-packages/MDAnalysis/coordinates/PDB.py:747: UserWarning: Unit cell dimensions not found. CRYST1 record set to unitary values.\n",
      "  warnings.warn(\"Unit cell dimensions not found. \"\n",
      "/shared/work/pnavarro/envs/deep_cartograph/lib/python3.10/site-packages/MDAnalysis/coordinates/PDB.py:1078: UserWarning: Found no information for attr: 'elements' Using default value of ' '\n",
      "  warnings.warn(\"Found no information for attr: '{}'\"\n",
      "/shared/work/pnavarro/envs/deep_cartograph/lib/python3.10/site-packages/MDAnalysis/coordinates/PDB.py:429: UserWarning: 1 A^3 CRYST1 record, this is usually a placeholder. Unit cell dimensions will be set to None.\n",
      "  warnings.warn(\"1 A^3 CRYST1 record,\"\n",
      "INFO:deep_cartograph.modules.plumed.input_file.input_file:Found 1186 features for tor\n",
      "INFO:deep_cartograph.modules.plumed.utils:Executing PLUMED driver command: ml PLUMED/2.9.0-intel-2021b && unset I_MPI_PMI_LIBRARY && /eb/x86_64/software/PLUMED/2.9.0-intel-2021b/bin/plumed driver --plumed /shared/work/pnavarro/repos/deep_cartograph/data/calpha_transitions/experiments/output/2olu_A-2olv_A-1/torsions/lr_0.0001/compute_features_traj/torsions.dat --mf_dcd /shared/work/pnavarro/repos/deep_cartograph/data/calpha_transitions/input/2olu_A-2olv_A-1/2olu_A-2olv_A-1.dcd --natoms 596\n",
      "INFO:deep_cartograph:Elapsed time (Compute features): 00 h 00 min 02 s\n",
      "INFO:deep_cartograph:==================\n",
      "INFO:deep_cartograph:Filtering features\n",
      "INFO:deep_cartograph:==================\n",
      "INFO:deep_cartograph:Finding the features that contains the most information about the transitions or conformational changes.\n",
      "INFO:deep_cartograph:The following algorithms are available:\n",
      "INFO:deep_cartograph:- Hartigan's dip test filter. Keeps features that are not unimodal.\n",
      "INFO:deep_cartograph:- Shannon entropy filter. Keeps features with entropy greater than a threshold.\n",
      "INFO:deep_cartograph:- Standard deviation filter. Keeps features with standard deviation greater than a threshold.\n",
      "INFO:deep_cartograph:- Final Mutual information clustering (AMINO). Clusters filtered features according to a mutual information based distance and selects one feature per cluster minimizing the distorsion.\n",
      "INFO:deep_cartograph:Note that the all features must be in the same units to apply the entropy and standard deviation filters meaningfully.\n",
      "INFO:deep_cartograph:Initial size of features set: 1186.\n",
      "INFO:deep_cartograph.tools.filter_features.filtering:Computing dip test.\n",
      "INFO:deep_cartograph.tools.filter_features.filtering:Filtered 1038 features.\n",
      "INFO:deep_cartograph.modules.amino.amino:Skipping AMINO clustering.\n",
      "INFO:deep_cartograph:Elapsed time (Filter features): 00 h 00 min 27 s\n",
      "INFO:deep_cartograph:================================\n",
      "INFO:deep_cartograph:Training of Collective Variables\n",
      "INFO:deep_cartograph:================================\n",
      "INFO:deep_cartograph:Training of collective variables using the mlcolvar library.\n",
      "INFO:deep_cartograph:Creating datasets from colvars...\n",
      "INFO:deep_cartograph:Number of samples: 338\n",
      "INFO:deep_cartograph:Number of features: 148\n",
      "INFO:deep_cartograph.tools.train_colvars.utils:Training Autoencoder CV...\n",
      "/shared/work/pnavarro/envs/deep_cartograph/lib/python3.10/site-packages/lightning/fabric/plugins/environments/slurm.py:204: The `srun` command is available on your system but is not used. HINT: If your intention is to run Lightning on SLURM, prepend your python command with `srun` like so: srun python /shared/work/pnavarro/envs/deep_cartograph/lib/pytho ...\n",
      "GPU available: False, used: False\n",
      "TPU available: False, using: 0 TPU cores\n",
      "HPU available: False, using: 0 HPUs\n",
      "\n",
      "  | Name    | Type          | Params | Mode  | In sizes | Out sizes\n",
      "-------------------------------------------------------------------------\n",
      "0 | loss_fn | MSELoss       | 0      | train | ?        | ?        \n",
      "1 | norm_in | Normalization | 0      | train | [1, 148] | [1, 148] \n",
      "2 | encoder | FeedForward   | 2.5 K  | train | [1, 148] | [1, 2]   \n",
      "3 | decoder | FeedForward   | 2.7 K  | train | ?        | ?        \n",
      "-------------------------------------------------------------------------\n",
      "5.2 K     Trainable params\n",
      "0         Non-trainable params\n",
      "5.2 K     Total params\n",
      "0.021     Total estimated model params size (MB)\n",
      "INFO:deep_cartograph.tools.train_colvars.utils:Best model score: 0.003936807159334421\n",
      "/shared/work/pnavarro/envs/deep_cartograph/lib/python3.10/site-packages/mlcolvar/core/nn/utils.py:13: TracerWarning: Converting a tensor to a Python number might cause the trace to be incorrect. We can't record the data flow of Python values, so this value will be treated as a constant in the future. This means that the trace might not generalize to other inputs!\n",
      "  sp0 = F.softplus(torch.zeros(1), self.beta, self.threshold).item()\n",
      "INFO:deep_cartograph.tools.train_colvars.utils:Projecting trajectory...\n",
      "/shared/work/pnavarro/envs/deep_cartograph/lib/python3.10/site-packages/mlcolvar/utils/timelagged.py:140: UserWarning: Monitoring the progress for the search of time-lagged configurations with a progress_bar requires `tqdm`.\n",
      "  warnings.warn(\n",
      "INFO:deep_cartograph.tools.train_colvars.utils:Calculating DeepTICA CV...\n",
      "/shared/work/pnavarro/envs/deep_cartograph/lib/python3.10/site-packages/lightning/fabric/plugins/environments/slurm.py:204: The `srun` command is available on your system but is not used. HINT: If your intention is to run Lightning on SLURM, prepend your python command with `srun` like so: srun python /shared/work/pnavarro/envs/deep_cartograph/lib/pytho ...\n",
      "GPU available: False, used: False\n",
      "TPU available: False, using: 0 TPU cores\n",
      "HPU available: False, using: 0 HPUs\n",
      "\n",
      "  | Name    | Type                  | Params | Mode  | In sizes | Out sizes\n",
      "---------------------------------------------------------------------------------\n",
      "0 | loss_fn | ReduceEigenvaluesLoss | 0      | train | ?        | ?        \n",
      "1 | norm_in | Normalization         | 0      | train | [1, 148] | [1, 148] \n",
      "2 | nn      | FeedForward           | 2.5 K  | train | [1, 148] | [1, 2]   \n",
      "3 | tica    | TICA                  | 0      | train | [1, 2]   | [1, 2]   \n",
      "---------------------------------------------------------------------------------\n",
      "2.5 K     Trainable params\n",
      "0         Non-trainable params\n",
      "2.5 K     Total params\n",
      "0.010     Total estimated model params size (MB)\n",
      "INFO:deep_cartograph.tools.train_colvars.utils:Best model score: -1.8395363092422485\n",
      "INFO:deep_cartograph.tools.train_colvars.utils:Took 64 epochs\n",
      "INFO:deep_cartograph.tools.train_colvars.utils:Eigenvalue 1: 0.9934154748916626\n",
      "INFO:deep_cartograph.tools.train_colvars.utils:Eigenvalue 2: 0.9221336245536804\n",
      "/shared/work/pnavarro/envs/deep_cartograph/lib/python3.10/site-packages/mlcolvar/core/nn/utils.py:13: TracerWarning: Converting a tensor to a Python number might cause the trace to be incorrect. We can't record the data flow of Python values, so this value will be treated as a constant in the future. This means that the trace might not generalize to other inputs!\n",
      "  sp0 = F.softplus(torch.zeros(1), self.beta, self.threshold).item()\n",
      "INFO:deep_cartograph.tools.train_colvars.utils:Projecting trajectory...\n",
      "INFO:deep_cartograph:Elapsed time (Train colvars): 00 h 00 min 50 s\n",
      "INFO:deep_cartograph:Total elapsed time: 00 h 01 min 21 s\n",
      "INFO:deep_cartograph:================\n",
      "INFO:deep_cartograph:Compute features\n",
      "INFO:deep_cartograph:================\n",
      "INFO:deep_cartograph:Trajectory file: ../../../data/calpha_transitions/input/2olu_A-2olv_A-1/2olu_A-2olv_A-1.dcd\n",
      "/shared/work/pnavarro/envs/deep_cartograph/lib/python3.10/site-packages/MDAnalysis/topology/PDBParser.py:317: UserWarning: Element information is missing, elements attribute will not be populated. If needed these can be guessed using MDAnalysis.topology.guessers.\n",
      "  warnings.warn(\"Element information is missing, elements attribute \"\n",
      "/shared/work/pnavarro/envs/deep_cartograph/lib/python3.10/site-packages/MDAnalysis/coordinates/PDB.py:747: UserWarning: Unit cell dimensions not found. CRYST1 record set to unitary values.\n",
      "  warnings.warn(\"Unit cell dimensions not found. \"\n",
      "/shared/work/pnavarro/envs/deep_cartograph/lib/python3.10/site-packages/MDAnalysis/coordinates/PDB.py:1078: UserWarning: Found no information for attr: 'elements' Using default value of ' '\n",
      "  warnings.warn(\"Found no information for attr: '{}'\"\n",
      "/shared/work/pnavarro/envs/deep_cartograph/lib/python3.10/site-packages/MDAnalysis/coordinates/PDB.py:429: UserWarning: 1 A^3 CRYST1 record, this is usually a placeholder. Unit cell dimensions will be set to None.\n",
      "  warnings.warn(\"1 A^3 CRYST1 record,\"\n",
      "INFO:deep_cartograph.modules.plumed.input_file.input_file:Found 1186 features for tor\n",
      "INFO:deep_cartograph.modules.plumed.utils:Executing PLUMED driver command: ml PLUMED/2.9.0-intel-2021b && unset I_MPI_PMI_LIBRARY && /eb/x86_64/software/PLUMED/2.9.0-intel-2021b/bin/plumed driver --plumed /shared/work/pnavarro/repos/deep_cartograph/data/calpha_transitions/experiments/output/2olu_A-2olv_A-1/torsions/lr_1e-05/compute_features_traj/torsions.dat --mf_dcd /shared/work/pnavarro/repos/deep_cartograph/data/calpha_transitions/input/2olu_A-2olv_A-1/2olu_A-2olv_A-1.dcd --natoms 596\n",
      "INFO:deep_cartograph:Elapsed time (Compute features): 00 h 00 min 02 s\n",
      "INFO:deep_cartograph:==================\n",
      "INFO:deep_cartograph:Filtering features\n",
      "INFO:deep_cartograph:==================\n",
      "INFO:deep_cartograph:Finding the features that contains the most information about the transitions or conformational changes.\n",
      "INFO:deep_cartograph:The following algorithms are available:\n",
      "INFO:deep_cartograph:- Hartigan's dip test filter. Keeps features that are not unimodal.\n",
      "INFO:deep_cartograph:- Shannon entropy filter. Keeps features with entropy greater than a threshold.\n",
      "INFO:deep_cartograph:- Standard deviation filter. Keeps features with standard deviation greater than a threshold.\n",
      "INFO:deep_cartograph:- Final Mutual information clustering (AMINO). Clusters filtered features according to a mutual information based distance and selects one feature per cluster minimizing the distorsion.\n",
      "INFO:deep_cartograph:Note that the all features must be in the same units to apply the entropy and standard deviation filters meaningfully.\n",
      "INFO:deep_cartograph:Initial size of features set: 1186.\n",
      "INFO:deep_cartograph.tools.filter_features.filtering:Computing dip test.\n",
      "INFO:deep_cartograph.tools.filter_features.filtering:Filtered 1038 features.\n",
      "INFO:deep_cartograph.modules.amino.amino:Skipping AMINO clustering.\n",
      "INFO:deep_cartograph:Elapsed time (Filter features): 00 h 00 min 26 s\n",
      "INFO:deep_cartograph:================================\n",
      "INFO:deep_cartograph:Training of Collective Variables\n",
      "INFO:deep_cartograph:================================\n",
      "INFO:deep_cartograph:Training of collective variables using the mlcolvar library.\n",
      "INFO:deep_cartograph:Creating datasets from colvars...\n",
      "INFO:deep_cartograph:Number of samples: 338\n",
      "INFO:deep_cartograph:Number of features: 148\n",
      "INFO:deep_cartograph.tools.train_colvars.utils:Training Autoencoder CV...\n",
      "/shared/work/pnavarro/envs/deep_cartograph/lib/python3.10/site-packages/lightning/fabric/plugins/environments/slurm.py:204: The `srun` command is available on your system but is not used. HINT: If your intention is to run Lightning on SLURM, prepend your python command with `srun` like so: srun python /shared/work/pnavarro/envs/deep_cartograph/lib/pytho ...\n",
      "GPU available: False, used: False\n",
      "TPU available: False, using: 0 TPU cores\n",
      "HPU available: False, using: 0 HPUs\n",
      "\n",
      "  | Name    | Type          | Params | Mode  | In sizes | Out sizes\n",
      "-------------------------------------------------------------------------\n",
      "0 | loss_fn | MSELoss       | 0      | train | ?        | ?        \n",
      "1 | norm_in | Normalization | 0      | train | [1, 148] | [1, 148] \n",
      "2 | encoder | FeedForward   | 2.5 K  | train | [1, 148] | [1, 2]   \n",
      "3 | decoder | FeedForward   | 2.7 K  | train | ?        | ?        \n",
      "-------------------------------------------------------------------------\n",
      "5.2 K     Trainable params\n",
      "0         Non-trainable params\n",
      "5.2 K     Total params\n",
      "0.021     Total estimated model params size (MB)\n",
      "INFO:deep_cartograph.tools.train_colvars.utils:Best model score: 0.006226853933185339\n",
      "/shared/work/pnavarro/envs/deep_cartograph/lib/python3.10/site-packages/mlcolvar/core/nn/utils.py:13: TracerWarning: Converting a tensor to a Python number might cause the trace to be incorrect. We can't record the data flow of Python values, so this value will be treated as a constant in the future. This means that the trace might not generalize to other inputs!\n",
      "  sp0 = F.softplus(torch.zeros(1), self.beta, self.threshold).item()\n",
      "INFO:deep_cartograph.tools.train_colvars.utils:Projecting trajectory...\n",
      "/shared/work/pnavarro/envs/deep_cartograph/lib/python3.10/site-packages/mlcolvar/utils/timelagged.py:140: UserWarning: Monitoring the progress for the search of time-lagged configurations with a progress_bar requires `tqdm`.\n",
      "  warnings.warn(\n",
      "INFO:deep_cartograph.tools.train_colvars.utils:Calculating DeepTICA CV...\n",
      "/shared/work/pnavarro/envs/deep_cartograph/lib/python3.10/site-packages/lightning/fabric/plugins/environments/slurm.py:204: The `srun` command is available on your system but is not used. HINT: If your intention is to run Lightning on SLURM, prepend your python command with `srun` like so: srun python /shared/work/pnavarro/envs/deep_cartograph/lib/pytho ...\n",
      "GPU available: False, used: False\n",
      "TPU available: False, using: 0 TPU cores\n",
      "HPU available: False, using: 0 HPUs\n",
      "\n",
      "  | Name    | Type                  | Params | Mode  | In sizes | Out sizes\n",
      "---------------------------------------------------------------------------------\n",
      "0 | loss_fn | ReduceEigenvaluesLoss | 0      | train | ?        | ?        \n",
      "1 | norm_in | Normalization         | 0      | train | [1, 148] | [1, 148] \n",
      "2 | nn      | FeedForward           | 2.5 K  | train | [1, 148] | [1, 2]   \n",
      "3 | tica    | TICA                  | 0      | train | [1, 2]   | [1, 2]   \n",
      "---------------------------------------------------------------------------------\n",
      "2.5 K     Trainable params\n",
      "0         Non-trainable params\n",
      "2.5 K     Total params\n",
      "0.010     Total estimated model params size (MB)\n",
      "INFO:deep_cartograph.tools.train_colvars.utils:Best model score: -1.8306050300598145\n",
      "INFO:deep_cartograph.tools.train_colvars.utils:Took 571 epochs\n",
      "INFO:deep_cartograph.tools.train_colvars.utils:Eigenvalue 1: 0.9908900260925293\n",
      "INFO:deep_cartograph.tools.train_colvars.utils:Eigenvalue 2: 0.920135498046875\n",
      "/shared/work/pnavarro/envs/deep_cartograph/lib/python3.10/site-packages/mlcolvar/core/nn/utils.py:13: TracerWarning: Converting a tensor to a Python number might cause the trace to be incorrect. We can't record the data flow of Python values, so this value will be treated as a constant in the future. This means that the trace might not generalize to other inputs!\n",
      "  sp0 = F.softplus(torch.zeros(1), self.beta, self.threshold).item()\n",
      "INFO:deep_cartograph.tools.train_colvars.utils:Projecting trajectory...\n",
      "INFO:deep_cartograph:Elapsed time (Train colvars): 00 h 02 min 30 s\n",
      "INFO:deep_cartograph:Total elapsed time: 00 h 03 min 00 s\n"
     ]
    },
    {
     "data": {
      "text/plain": [
       "<Figure size 500x400 with 0 Axes>"
      ]
     },
     "metadata": {},
     "output_type": "display_data"
    },
    {
     "data": {
      "text/plain": [
       "<Figure size 500x400 with 0 Axes>"
      ]
     },
     "metadata": {},
     "output_type": "display_data"
    },
    {
     "data": {
      "text/plain": [
       "<Figure size 500x400 with 0 Axes>"
      ]
     },
     "metadata": {},
     "output_type": "display_data"
    },
    {
     "data": {
      "text/plain": [
       "<Figure size 500x400 with 0 Axes>"
      ]
     },
     "metadata": {},
     "output_type": "display_data"
    },
    {
     "data": {
      "text/plain": [
       "<Figure size 500x400 with 0 Axes>"
      ]
     },
     "metadata": {},
     "output_type": "display_data"
    },
    {
     "data": {
      "text/plain": [
       "<Figure size 500x400 with 0 Axes>"
      ]
     },
     "metadata": {},
     "output_type": "display_data"
    },
    {
     "data": {
      "text/plain": [
       "<Figure size 500x400 with 0 Axes>"
      ]
     },
     "metadata": {},
     "output_type": "display_data"
    },
    {
     "data": {
      "text/plain": [
       "<Figure size 500x400 with 0 Axes>"
      ]
     },
     "metadata": {},
     "output_type": "display_data"
    },
    {
     "data": {
      "text/plain": [
       "<Figure size 500x400 with 0 Axes>"
      ]
     },
     "metadata": {},
     "output_type": "display_data"
    },
    {
     "data": {
      "text/plain": [
       "<Figure size 500x400 with 0 Axes>"
      ]
     },
     "metadata": {},
     "output_type": "display_data"
    },
    {
     "data": {
      "text/plain": [
       "<Figure size 500x400 with 0 Axes>"
      ]
     },
     "metadata": {},
     "output_type": "display_data"
    },
    {
     "data": {
      "text/plain": [
       "<Figure size 500x400 with 0 Axes>"
      ]
     },
     "metadata": {},
     "output_type": "display_data"
    }
   ],
   "source": [
    "features = 'torsions'\n",
    "\n",
    "# Load initial configuration\n",
    "config_path = f\"{data_folder}/calpha_transitions/experiments/{features}_config.yml\"\n",
    "\n",
    "with open(config_path, 'r') as file:\n",
    "    configuration = yaml.load(file, Loader = yaml.FullLoader)\n",
    "    \n",
    "learning_rates = [1e-2, 1e-3, 1e-4, 1e-5]\n",
    "system_name = '2olu_A-2olv_A-1'        # Has around 330 frames\n",
    "\n",
    "for lr in learning_rates:\n",
    "\n",
    "    # Test name\n",
    "    test_name = f\"lr_{lr}\"\n",
    "\n",
    "    # Make a copy of the initial configuration\n",
    "    test_configuration = configuration.copy()\n",
    "\n",
    "    # Update learning rate\n",
    "    test_configuration['train_colvars']['common']['training']['optimizer']['kwargs']['lr'] = lr\n",
    "\n",
    "    # Run deep cartograph\n",
    "    run_deep_cartograph(test_configuration, features, system_name, test_name)"
   ]
  },
  {
   "cell_type": "code",
   "execution_count": 10,
   "metadata": {},
   "outputs": [
    {
     "name": "stdout",
     "output_type": "stream",
     "text": [
      "Learning rate: 0.01 ----------------------------------------------- #\n",
      "Output folder: ../../../data/calpha_transitions/experiments/output/2olu_A-2olv_A-1/torsions/lr_0.01\n",
      "Final model score: 2.9002E-3\n"
     ]
    },
    {
     "data": {
      "text/html": [
       "<img src=\"../../../data/calpha_transitions/experiments/output/2olu_A-2olv_A-1/torsions/lr_0.01/train_colvars/ae/loss.png?1724936898\" style=\"width: 600px; margin-right: 10px;\"><img src=\"../../../data/calpha_transitions/experiments/output/2olu_A-2olv_A-1/torsions/lr_0.01/train_colvars/ae/trajectory.png?1724936898\" style=\"width: 600px; margin-right: 10px;\">"
      ],
      "text/plain": [
       "<IPython.core.display.HTML object>"
      ]
     },
     "metadata": {},
     "output_type": "display_data"
    },
    {
     "name": "stdout",
     "output_type": "stream",
     "text": [
      "Learning rate: 0.001 ----------------------------------------------- #\n",
      "Output folder: ../../../data/calpha_transitions/experiments/output/2olu_A-2olv_A-1/torsions/lr_0.001\n",
      "Final model score: 3.0075E-3\n"
     ]
    },
    {
     "data": {
      "text/html": [
       "<img src=\"../../../data/calpha_transitions/experiments/output/2olu_A-2olv_A-1/torsions/lr_0.001/train_colvars/ae/loss.png?1724936898\" style=\"width: 600px; margin-right: 10px;\"><img src=\"../../../data/calpha_transitions/experiments/output/2olu_A-2olv_A-1/torsions/lr_0.001/train_colvars/ae/trajectory.png?1724936898\" style=\"width: 600px; margin-right: 10px;\">"
      ],
      "text/plain": [
       "<IPython.core.display.HTML object>"
      ]
     },
     "metadata": {},
     "output_type": "display_data"
    },
    {
     "name": "stdout",
     "output_type": "stream",
     "text": [
      "Learning rate: 0.0001 ----------------------------------------------- #\n",
      "Output folder: ../../../data/calpha_transitions/experiments/output/2olu_A-2olv_A-1/torsions/lr_0.0001\n",
      "Final model score: 3.9368E-3\n"
     ]
    },
    {
     "data": {
      "text/html": [
       "<img src=\"../../../data/calpha_transitions/experiments/output/2olu_A-2olv_A-1/torsions/lr_0.0001/train_colvars/ae/loss.png?1724936898\" style=\"width: 600px; margin-right: 10px;\"><img src=\"../../../data/calpha_transitions/experiments/output/2olu_A-2olv_A-1/torsions/lr_0.0001/train_colvars/ae/trajectory.png?1724936898\" style=\"width: 600px; margin-right: 10px;\">"
      ],
      "text/plain": [
       "<IPython.core.display.HTML object>"
      ]
     },
     "metadata": {},
     "output_type": "display_data"
    },
    {
     "name": "stdout",
     "output_type": "stream",
     "text": [
      "Learning rate: 1e-05 ----------------------------------------------- #\n",
      "Output folder: ../../../data/calpha_transitions/experiments/output/2olu_A-2olv_A-1/torsions/lr_1e-05\n",
      "Final model score: 6.2269E-3\n"
     ]
    },
    {
     "data": {
      "text/html": [
       "<img src=\"../../../data/calpha_transitions/experiments/output/2olu_A-2olv_A-1/torsions/lr_1e-05/train_colvars/ae/loss.png?1724936898\" style=\"width: 600px; margin-right: 10px;\"><img src=\"../../../data/calpha_transitions/experiments/output/2olu_A-2olv_A-1/torsions/lr_1e-05/train_colvars/ae/trajectory.png?1724936898\" style=\"width: 600px; margin-right: 10px;\">"
      ],
      "text/plain": [
       "<IPython.core.display.HTML object>"
      ]
     },
     "metadata": {},
     "output_type": "display_data"
    }
   ],
   "source": [
    "# Show results for the Autoencoder\n",
    "\n",
    "for lr in learning_rates:\n",
    "\n",
    "    print(f\"Learning rate: {lr} ----------------------------------------------- #\")\n",
    "\n",
    "    # Test name\n",
    "    test_name = f\"lr_{lr}\"\n",
    "    \n",
    "    # Show main results\n",
    "    show_results(features, system_name, 'ae', test_name)"
   ]
  },
  {
   "cell_type": "markdown",
   "metadata": {},
   "source": [
    "- From these results we can see that the Autoencoder needs a lower learning rate. Thus making it more expensive to train than Deep TICA.\n",
    "- Note that a lower loss after training does not necessarily mean a better model (see trajectory unfolding on each CV space)."
   ]
  },
  {
   "cell_type": "code",
   "execution_count": 11,
   "metadata": {},
   "outputs": [
    {
     "name": "stdout",
     "output_type": "stream",
     "text": [
      "Learning rate: 0.01 ----------------------------------------------- #\n",
      "Output folder: ../../../data/calpha_transitions/experiments/output/2olu_A-2olv_A-1/torsions/lr_0.01\n",
      "Final model score: -1.9674E+0\n",
      "Eigenvalue 1: 9.9955E-1\n",
      "Eigenvalue 2: 9.8246E-1\n"
     ]
    },
    {
     "data": {
      "text/html": [
       "<img src=\"../../../data/calpha_transitions/experiments/output/2olu_A-2olv_A-1/torsions/lr_0.01/train_colvars/deep_tica/loss.png?1724937053\" style=\"width: 600px; margin-right: 10px;\"><img src=\"../../../data/calpha_transitions/experiments/output/2olu_A-2olv_A-1/torsions/lr_0.01/train_colvars/deep_tica/eigenvalues.png?1724937053\" style=\"width: 600px; margin-right: 10px;\"><img src=\"../../../data/calpha_transitions/experiments/output/2olu_A-2olv_A-1/torsions/lr_0.01/train_colvars/deep_tica/trajectory.png?1724937053\" style=\"width: 600px; margin-right: 10px;\">"
      ],
      "text/plain": [
       "<IPython.core.display.HTML object>"
      ]
     },
     "metadata": {},
     "output_type": "display_data"
    },
    {
     "name": "stdout",
     "output_type": "stream",
     "text": [
      "Learning rate: 0.001 ----------------------------------------------- #\n",
      "Output folder: ../../../data/calpha_transitions/experiments/output/2olu_A-2olv_A-1/torsions/lr_0.001\n",
      "Final model score: -1.9195E+0\n",
      "Eigenvalue 1: 9.8996E-1\n",
      "Eigenvalue 2: 9.6897E-1\n"
     ]
    },
    {
     "data": {
      "text/html": [
       "<img src=\"../../../data/calpha_transitions/experiments/output/2olu_A-2olv_A-1/torsions/lr_0.001/train_colvars/deep_tica/loss.png?1724937053\" style=\"width: 600px; margin-right: 10px;\"><img src=\"../../../data/calpha_transitions/experiments/output/2olu_A-2olv_A-1/torsions/lr_0.001/train_colvars/deep_tica/eigenvalues.png?1724937053\" style=\"width: 600px; margin-right: 10px;\"><img src=\"../../../data/calpha_transitions/experiments/output/2olu_A-2olv_A-1/torsions/lr_0.001/train_colvars/deep_tica/trajectory.png?1724937053\" style=\"width: 600px; margin-right: 10px;\">"
      ],
      "text/plain": [
       "<IPython.core.display.HTML object>"
      ]
     },
     "metadata": {},
     "output_type": "display_data"
    },
    {
     "name": "stdout",
     "output_type": "stream",
     "text": [
      "Learning rate: 0.0001 ----------------------------------------------- #\n",
      "Output folder: ../../../data/calpha_transitions/experiments/output/2olu_A-2olv_A-1/torsions/lr_0.0001\n",
      "Final model score: -1.8395E+0\n",
      "Eigenvalue 1: 9.9342E-1\n",
      "Eigenvalue 2: 9.2213E-1\n"
     ]
    },
    {
     "data": {
      "text/html": [
       "<img src=\"../../../data/calpha_transitions/experiments/output/2olu_A-2olv_A-1/torsions/lr_0.0001/train_colvars/deep_tica/loss.png?1724937053\" style=\"width: 600px; margin-right: 10px;\"><img src=\"../../../data/calpha_transitions/experiments/output/2olu_A-2olv_A-1/torsions/lr_0.0001/train_colvars/deep_tica/eigenvalues.png?1724937053\" style=\"width: 600px; margin-right: 10px;\"><img src=\"../../../data/calpha_transitions/experiments/output/2olu_A-2olv_A-1/torsions/lr_0.0001/train_colvars/deep_tica/trajectory.png?1724937053\" style=\"width: 600px; margin-right: 10px;\">"
      ],
      "text/plain": [
       "<IPython.core.display.HTML object>"
      ]
     },
     "metadata": {},
     "output_type": "display_data"
    },
    {
     "name": "stdout",
     "output_type": "stream",
     "text": [
      "Learning rate: 1e-05 ----------------------------------------------- #\n",
      "Output folder: ../../../data/calpha_transitions/experiments/output/2olu_A-2olv_A-1/torsions/lr_1e-05\n",
      "Final model score: -1.8306E+0\n",
      "Eigenvalue 1: 9.9089E-1\n",
      "Eigenvalue 2: 9.2014E-1\n"
     ]
    },
    {
     "data": {
      "text/html": [
       "<img src=\"../../../data/calpha_transitions/experiments/output/2olu_A-2olv_A-1/torsions/lr_1e-05/train_colvars/deep_tica/loss.png?1724937053\" style=\"width: 600px; margin-right: 10px;\"><img src=\"../../../data/calpha_transitions/experiments/output/2olu_A-2olv_A-1/torsions/lr_1e-05/train_colvars/deep_tica/eigenvalues.png?1724937053\" style=\"width: 600px; margin-right: 10px;\"><img src=\"../../../data/calpha_transitions/experiments/output/2olu_A-2olv_A-1/torsions/lr_1e-05/train_colvars/deep_tica/trajectory.png?1724937053\" style=\"width: 600px; margin-right: 10px;\">"
      ],
      "text/plain": [
       "<IPython.core.display.HTML object>"
      ]
     },
     "metadata": {},
     "output_type": "display_data"
    }
   ],
   "source": [
    "# Show results for the Deep TICA\n",
    "\n",
    "for lr in learning_rates:\n",
    "\n",
    "    print(f\"Learning rate: {lr} ----------------------------------------------- #\")\n",
    "\n",
    "    # Test name\n",
    "    test_name = f\"lr_{lr}\"\n",
    "    \n",
    "    # Show main results\n",
    "    show_results(features, system_name, 'deep_tica', test_name)"
   ]
  },
  {
   "cell_type": "markdown",
   "metadata": {},
   "source": [
    "- The Deep TICA model is more robust to the learning rate, and it can be trained with a higher learning rate. For the high learning rate, the model can be trained with a single epoch."
   ]
  },
  {
   "cell_type": "markdown",
   "metadata": {},
   "source": [
    "## Dropout\n",
    "\n",
    "Dropout is a regularization technique that consists in randomly setting a fraction of the input tensor to zero during training. This helps the model to generalize better and avoid overfitting. The dropout rate is the fraction of the input tensor that is set to zero."
   ]
  },
  {
   "cell_type": "code",
   "execution_count": 12,
   "metadata": {},
   "outputs": [
    {
     "name": "stderr",
     "output_type": "stream",
     "text": [
      "INFO:deep_cartograph:================\n",
      "INFO:deep_cartograph:Compute features\n",
      "INFO:deep_cartograph:================\n",
      "INFO:deep_cartograph:Trajectory file: ../../../data/calpha_transitions/input/2olu_A-2olv_A-1/2olu_A-2olv_A-1.dcd\n",
      "/shared/work/pnavarro/envs/deep_cartograph/lib/python3.10/site-packages/MDAnalysis/topology/PDBParser.py:317: UserWarning: Element information is missing, elements attribute will not be populated. If needed these can be guessed using MDAnalysis.topology.guessers.\n",
      "  warnings.warn(\"Element information is missing, elements attribute \"\n",
      "/shared/work/pnavarro/envs/deep_cartograph/lib/python3.10/site-packages/MDAnalysis/coordinates/PDB.py:747: UserWarning: Unit cell dimensions not found. CRYST1 record set to unitary values.\n",
      "  warnings.warn(\"Unit cell dimensions not found. \"\n",
      "/shared/work/pnavarro/envs/deep_cartograph/lib/python3.10/site-packages/MDAnalysis/coordinates/PDB.py:1078: UserWarning: Found no information for attr: 'elements' Using default value of ' '\n",
      "  warnings.warn(\"Found no information for attr: '{}'\"\n",
      "/shared/work/pnavarro/envs/deep_cartograph/lib/python3.10/site-packages/MDAnalysis/coordinates/PDB.py:429: UserWarning: 1 A^3 CRYST1 record, this is usually a placeholder. Unit cell dimensions will be set to None.\n",
      "  warnings.warn(\"1 A^3 CRYST1 record,\"\n",
      "INFO:deep_cartograph.modules.plumed.input_file.input_file:Found 1186 features for tor\n",
      "INFO:deep_cartograph.modules.plumed.utils:Executing PLUMED driver command: ml PLUMED/2.9.0-intel-2021b && unset I_MPI_PMI_LIBRARY && /eb/x86_64/software/PLUMED/2.9.0-intel-2021b/bin/plumed driver --plumed /shared/work/pnavarro/repos/deep_cartograph/data/calpha_transitions/experiments/output/2olu_A-2olv_A-1/torsions/dr_0.05/compute_features_traj/torsions.dat --mf_dcd /shared/work/pnavarro/repos/deep_cartograph/data/calpha_transitions/input/2olu_A-2olv_A-1/2olu_A-2olv_A-1.dcd --natoms 596\n",
      "INFO:deep_cartograph:Elapsed time (Compute features): 00 h 00 min 07 s\n",
      "INFO:deep_cartograph:==================\n",
      "INFO:deep_cartograph:Filtering features\n",
      "INFO:deep_cartograph:==================\n",
      "INFO:deep_cartograph:Finding the features that contains the most information about the transitions or conformational changes.\n",
      "INFO:deep_cartograph:The following algorithms are available:\n",
      "INFO:deep_cartograph:- Hartigan's dip test filter. Keeps features that are not unimodal.\n",
      "INFO:deep_cartograph:- Shannon entropy filter. Keeps features with entropy greater than a threshold.\n",
      "INFO:deep_cartograph:- Standard deviation filter. Keeps features with standard deviation greater than a threshold.\n",
      "INFO:deep_cartograph:- Final Mutual information clustering (AMINO). Clusters filtered features according to a mutual information based distance and selects one feature per cluster minimizing the distorsion.\n",
      "INFO:deep_cartograph:Note that the all features must be in the same units to apply the entropy and standard deviation filters meaningfully.\n",
      "INFO:deep_cartograph:Initial size of features set: 1186.\n",
      "INFO:deep_cartograph.tools.filter_features.filtering:Computing dip test.\n",
      "INFO:deep_cartograph.tools.filter_features.filtering:Filtered 1038 features.\n",
      "INFO:deep_cartograph.modules.amino.amino:Skipping AMINO clustering.\n",
      "INFO:deep_cartograph:Elapsed time (Filter features): 00 h 00 min 27 s\n",
      "INFO:deep_cartograph:================================\n",
      "INFO:deep_cartograph:Training of Collective Variables\n",
      "INFO:deep_cartograph:================================\n",
      "INFO:deep_cartograph:Training of collective variables using the mlcolvar library.\n",
      "INFO:deep_cartograph:Creating datasets from colvars...\n",
      "INFO:deep_cartograph:Number of samples: 338\n",
      "INFO:deep_cartograph:Number of features: 148\n",
      "INFO:deep_cartograph.tools.train_colvars.utils:Training Autoencoder CV...\n",
      "/shared/work/pnavarro/envs/deep_cartograph/lib/python3.10/site-packages/lightning/fabric/plugins/environments/slurm.py:204: The `srun` command is available on your system but is not used. HINT: If your intention is to run Lightning on SLURM, prepend your python command with `srun` like so: srun python /shared/work/pnavarro/envs/deep_cartograph/lib/pytho ...\n",
      "GPU available: False, used: False\n",
      "TPU available: False, using: 0 TPU cores\n",
      "HPU available: False, using: 0 HPUs\n",
      "\n",
      "  | Name    | Type          | Params | Mode  | In sizes | Out sizes\n",
      "-------------------------------------------------------------------------\n",
      "0 | loss_fn | MSELoss       | 0      | train | ?        | ?        \n",
      "1 | norm_in | Normalization | 0      | train | [1, 148] | [1, 148] \n",
      "2 | encoder | FeedForward   | 2.5 K  | train | [1, 148] | [1, 2]   \n",
      "3 | decoder | FeedForward   | 2.7 K  | train | ?        | ?        \n",
      "-------------------------------------------------------------------------\n",
      "5.2 K     Trainable params\n",
      "0         Non-trainable params\n",
      "5.2 K     Total params\n",
      "0.021     Total estimated model params size (MB)\n",
      "INFO:deep_cartograph.tools.train_colvars.utils:Best model score: 0.0024001910351216793\n",
      "/shared/work/pnavarro/envs/deep_cartograph/lib/python3.10/site-packages/mlcolvar/core/nn/utils.py:13: TracerWarning: Converting a tensor to a Python number might cause the trace to be incorrect. We can't record the data flow of Python values, so this value will be treated as a constant in the future. This means that the trace might not generalize to other inputs!\n",
      "  sp0 = F.softplus(torch.zeros(1), self.beta, self.threshold).item()\n",
      "INFO:deep_cartograph.tools.train_colvars.utils:Projecting trajectory...\n",
      "/shared/work/pnavarro/envs/deep_cartograph/lib/python3.10/site-packages/mlcolvar/utils/timelagged.py:140: UserWarning: Monitoring the progress for the search of time-lagged configurations with a progress_bar requires `tqdm`.\n",
      "  warnings.warn(\n",
      "INFO:deep_cartograph.tools.train_colvars.utils:Calculating DeepTICA CV...\n",
      "/shared/work/pnavarro/envs/deep_cartograph/lib/python3.10/site-packages/lightning/fabric/plugins/environments/slurm.py:204: The `srun` command is available on your system but is not used. HINT: If your intention is to run Lightning on SLURM, prepend your python command with `srun` like so: srun python /shared/work/pnavarro/envs/deep_cartograph/lib/pytho ...\n",
      "GPU available: False, used: False\n",
      "TPU available: False, using: 0 TPU cores\n",
      "HPU available: False, using: 0 HPUs\n",
      "\n",
      "  | Name    | Type                  | Params | Mode  | In sizes | Out sizes\n",
      "---------------------------------------------------------------------------------\n",
      "0 | loss_fn | ReduceEigenvaluesLoss | 0      | train | ?        | ?        \n",
      "1 | norm_in | Normalization         | 0      | train | [1, 148] | [1, 148] \n",
      "2 | nn      | FeedForward           | 2.5 K  | train | [1, 148] | [1, 2]   \n",
      "3 | tica    | TICA                  | 0      | train | [1, 2]   | [1, 2]   \n",
      "---------------------------------------------------------------------------------\n",
      "2.5 K     Trainable params\n",
      "0         Non-trainable params\n",
      "2.5 K     Total params\n",
      "0.010     Total estimated model params size (MB)\n",
      "INFO:deep_cartograph.tools.train_colvars.utils:Best model score: -1.8998997211456299\n",
      "INFO:deep_cartograph.tools.train_colvars.utils:Took 3 epochs\n",
      "INFO:deep_cartograph.tools.train_colvars.utils:Eigenvalue 1: 0.9976995587348938\n",
      "INFO:deep_cartograph.tools.train_colvars.utils:Eigenvalue 2: 0.950535774230957\n",
      "/shared/work/pnavarro/envs/deep_cartograph/lib/python3.10/site-packages/mlcolvar/core/nn/utils.py:13: TracerWarning: Converting a tensor to a Python number might cause the trace to be incorrect. We can't record the data flow of Python values, so this value will be treated as a constant in the future. This means that the trace might not generalize to other inputs!\n",
      "  sp0 = F.softplus(torch.zeros(1), self.beta, self.threshold).item()\n",
      "INFO:deep_cartograph.tools.train_colvars.utils:Projecting trajectory...\n",
      "INFO:deep_cartograph:Elapsed time (Train colvars): 00 h 00 min 18 s\n",
      "INFO:deep_cartograph:Total elapsed time: 00 h 00 min 52 s\n",
      "INFO:deep_cartograph:================\n",
      "INFO:deep_cartograph:Compute features\n",
      "INFO:deep_cartograph:================\n",
      "INFO:deep_cartograph:Trajectory file: ../../../data/calpha_transitions/input/2olu_A-2olv_A-1/2olu_A-2olv_A-1.dcd\n",
      "/shared/work/pnavarro/envs/deep_cartograph/lib/python3.10/site-packages/MDAnalysis/topology/PDBParser.py:317: UserWarning: Element information is missing, elements attribute will not be populated. If needed these can be guessed using MDAnalysis.topology.guessers.\n",
      "  warnings.warn(\"Element information is missing, elements attribute \"\n",
      "/shared/work/pnavarro/envs/deep_cartograph/lib/python3.10/site-packages/MDAnalysis/coordinates/PDB.py:747: UserWarning: Unit cell dimensions not found. CRYST1 record set to unitary values.\n",
      "  warnings.warn(\"Unit cell dimensions not found. \"\n",
      "/shared/work/pnavarro/envs/deep_cartograph/lib/python3.10/site-packages/MDAnalysis/coordinates/PDB.py:1078: UserWarning: Found no information for attr: 'elements' Using default value of ' '\n",
      "  warnings.warn(\"Found no information for attr: '{}'\"\n",
      "/shared/work/pnavarro/envs/deep_cartograph/lib/python3.10/site-packages/MDAnalysis/coordinates/PDB.py:429: UserWarning: 1 A^3 CRYST1 record, this is usually a placeholder. Unit cell dimensions will be set to None.\n",
      "  warnings.warn(\"1 A^3 CRYST1 record,\"\n",
      "INFO:deep_cartograph.modules.plumed.input_file.input_file:Found 1186 features for tor\n",
      "INFO:deep_cartograph.modules.plumed.utils:Executing PLUMED driver command: ml PLUMED/2.9.0-intel-2021b && unset I_MPI_PMI_LIBRARY && /eb/x86_64/software/PLUMED/2.9.0-intel-2021b/bin/plumed driver --plumed /shared/work/pnavarro/repos/deep_cartograph/data/calpha_transitions/experiments/output/2olu_A-2olv_A-1/torsions/dr_0.1/compute_features_traj/torsions.dat --mf_dcd /shared/work/pnavarro/repos/deep_cartograph/data/calpha_transitions/input/2olu_A-2olv_A-1/2olu_A-2olv_A-1.dcd --natoms 596\n",
      "INFO:deep_cartograph:Elapsed time (Compute features): 00 h 00 min 02 s\n",
      "INFO:deep_cartograph:==================\n",
      "INFO:deep_cartograph:Filtering features\n",
      "INFO:deep_cartograph:==================\n",
      "INFO:deep_cartograph:Finding the features that contains the most information about the transitions or conformational changes.\n",
      "INFO:deep_cartograph:The following algorithms are available:\n",
      "INFO:deep_cartograph:- Hartigan's dip test filter. Keeps features that are not unimodal.\n",
      "INFO:deep_cartograph:- Shannon entropy filter. Keeps features with entropy greater than a threshold.\n",
      "INFO:deep_cartograph:- Standard deviation filter. Keeps features with standard deviation greater than a threshold.\n",
      "INFO:deep_cartograph:- Final Mutual information clustering (AMINO). Clusters filtered features according to a mutual information based distance and selects one feature per cluster minimizing the distorsion.\n",
      "INFO:deep_cartograph:Note that the all features must be in the same units to apply the entropy and standard deviation filters meaningfully.\n",
      "INFO:deep_cartograph:Initial size of features set: 1186.\n",
      "INFO:deep_cartograph.tools.filter_features.filtering:Computing dip test.\n",
      "INFO:deep_cartograph.tools.filter_features.filtering:Filtered 1038 features.\n",
      "INFO:deep_cartograph.modules.amino.amino:Skipping AMINO clustering.\n",
      "INFO:deep_cartograph:Elapsed time (Filter features): 00 h 00 min 26 s\n",
      "INFO:deep_cartograph:================================\n",
      "INFO:deep_cartograph:Training of Collective Variables\n",
      "INFO:deep_cartograph:================================\n",
      "INFO:deep_cartograph:Training of collective variables using the mlcolvar library.\n",
      "INFO:deep_cartograph:Creating datasets from colvars...\n",
      "INFO:deep_cartograph:Number of samples: 338\n",
      "INFO:deep_cartograph:Number of features: 148\n",
      "INFO:deep_cartograph.tools.train_colvars.utils:Training Autoencoder CV...\n",
      "/shared/work/pnavarro/envs/deep_cartograph/lib/python3.10/site-packages/lightning/fabric/plugins/environments/slurm.py:204: The `srun` command is available on your system but is not used. HINT: If your intention is to run Lightning on SLURM, prepend your python command with `srun` like so: srun python /shared/work/pnavarro/envs/deep_cartograph/lib/pytho ...\n",
      "GPU available: False, used: False\n",
      "TPU available: False, using: 0 TPU cores\n",
      "HPU available: False, using: 0 HPUs\n",
      "\n",
      "  | Name    | Type          | Params | Mode  | In sizes | Out sizes\n",
      "-------------------------------------------------------------------------\n",
      "0 | loss_fn | MSELoss       | 0      | train | ?        | ?        \n",
      "1 | norm_in | Normalization | 0      | train | [1, 148] | [1, 148] \n",
      "2 | encoder | FeedForward   | 2.5 K  | train | [1, 148] | [1, 2]   \n",
      "3 | decoder | FeedForward   | 2.7 K  | train | ?        | ?        \n",
      "-------------------------------------------------------------------------\n",
      "5.2 K     Trainable params\n",
      "0         Non-trainable params\n",
      "5.2 K     Total params\n",
      "0.021     Total estimated model params size (MB)\n",
      "INFO:deep_cartograph.tools.train_colvars.utils:Best model score: 0.0030074643436819315\n",
      "/shared/work/pnavarro/envs/deep_cartograph/lib/python3.10/site-packages/mlcolvar/core/nn/utils.py:13: TracerWarning: Converting a tensor to a Python number might cause the trace to be incorrect. We can't record the data flow of Python values, so this value will be treated as a constant in the future. This means that the trace might not generalize to other inputs!\n",
      "  sp0 = F.softplus(torch.zeros(1), self.beta, self.threshold).item()\n",
      "INFO:deep_cartograph.tools.train_colvars.utils:Projecting trajectory...\n",
      "/shared/work/pnavarro/envs/deep_cartograph/lib/python3.10/site-packages/mlcolvar/utils/timelagged.py:140: UserWarning: Monitoring the progress for the search of time-lagged configurations with a progress_bar requires `tqdm`.\n",
      "  warnings.warn(\n",
      "INFO:deep_cartograph.tools.train_colvars.utils:Calculating DeepTICA CV...\n",
      "/shared/work/pnavarro/envs/deep_cartograph/lib/python3.10/site-packages/lightning/fabric/plugins/environments/slurm.py:204: The `srun` command is available on your system but is not used. HINT: If your intention is to run Lightning on SLURM, prepend your python command with `srun` like so: srun python /shared/work/pnavarro/envs/deep_cartograph/lib/pytho ...\n",
      "GPU available: False, used: False\n",
      "TPU available: False, using: 0 TPU cores\n",
      "HPU available: False, using: 0 HPUs\n",
      "\n",
      "  | Name    | Type                  | Params | Mode  | In sizes | Out sizes\n",
      "---------------------------------------------------------------------------------\n",
      "0 | loss_fn | ReduceEigenvaluesLoss | 0      | train | ?        | ?        \n",
      "1 | norm_in | Normalization         | 0      | train | [1, 148] | [1, 148] \n",
      "2 | nn      | FeedForward           | 2.5 K  | train | [1, 148] | [1, 2]   \n",
      "3 | tica    | TICA                  | 0      | train | [1, 2]   | [1, 2]   \n",
      "---------------------------------------------------------------------------------\n",
      "2.5 K     Trainable params\n",
      "0         Non-trainable params\n",
      "2.5 K     Total params\n",
      "0.010     Total estimated model params size (MB)\n",
      "INFO:deep_cartograph.tools.train_colvars.utils:Best model score: -1.9195023775100708\n",
      "INFO:deep_cartograph.tools.train_colvars.utils:Took 6 epochs\n",
      "INFO:deep_cartograph.tools.train_colvars.utils:Eigenvalue 1: 0.9899606108665466\n",
      "INFO:deep_cartograph.tools.train_colvars.utils:Eigenvalue 2: 0.9689686298370361\n",
      "/shared/work/pnavarro/envs/deep_cartograph/lib/python3.10/site-packages/mlcolvar/core/nn/utils.py:13: TracerWarning: Converting a tensor to a Python number might cause the trace to be incorrect. We can't record the data flow of Python values, so this value will be treated as a constant in the future. This means that the trace might not generalize to other inputs!\n",
      "  sp0 = F.softplus(torch.zeros(1), self.beta, self.threshold).item()\n",
      "INFO:deep_cartograph.tools.train_colvars.utils:Projecting trajectory...\n",
      "INFO:deep_cartograph:Elapsed time (Train colvars): 00 h 00 min 16 s\n",
      "INFO:deep_cartograph:Total elapsed time: 00 h 00 min 46 s\n",
      "INFO:deep_cartograph:================\n",
      "INFO:deep_cartograph:Compute features\n",
      "INFO:deep_cartograph:================\n",
      "INFO:deep_cartograph:Trajectory file: ../../../data/calpha_transitions/input/2olu_A-2olv_A-1/2olu_A-2olv_A-1.dcd\n",
      "/shared/work/pnavarro/envs/deep_cartograph/lib/python3.10/site-packages/MDAnalysis/topology/PDBParser.py:317: UserWarning: Element information is missing, elements attribute will not be populated. If needed these can be guessed using MDAnalysis.topology.guessers.\n",
      "  warnings.warn(\"Element information is missing, elements attribute \"\n",
      "/shared/work/pnavarro/envs/deep_cartograph/lib/python3.10/site-packages/MDAnalysis/coordinates/PDB.py:747: UserWarning: Unit cell dimensions not found. CRYST1 record set to unitary values.\n",
      "  warnings.warn(\"Unit cell dimensions not found. \"\n",
      "/shared/work/pnavarro/envs/deep_cartograph/lib/python3.10/site-packages/MDAnalysis/coordinates/PDB.py:1078: UserWarning: Found no information for attr: 'elements' Using default value of ' '\n",
      "  warnings.warn(\"Found no information for attr: '{}'\"\n",
      "/shared/work/pnavarro/envs/deep_cartograph/lib/python3.10/site-packages/MDAnalysis/coordinates/PDB.py:429: UserWarning: 1 A^3 CRYST1 record, this is usually a placeholder. Unit cell dimensions will be set to None.\n",
      "  warnings.warn(\"1 A^3 CRYST1 record,\"\n",
      "INFO:deep_cartograph.modules.plumed.input_file.input_file:Found 1186 features for tor\n",
      "INFO:deep_cartograph.modules.plumed.utils:Executing PLUMED driver command: ml PLUMED/2.9.0-intel-2021b && unset I_MPI_PMI_LIBRARY && /eb/x86_64/software/PLUMED/2.9.0-intel-2021b/bin/plumed driver --plumed /shared/work/pnavarro/repos/deep_cartograph/data/calpha_transitions/experiments/output/2olu_A-2olv_A-1/torsions/dr_0.2/compute_features_traj/torsions.dat --mf_dcd /shared/work/pnavarro/repos/deep_cartograph/data/calpha_transitions/input/2olu_A-2olv_A-1/2olu_A-2olv_A-1.dcd --natoms 596\n",
      "INFO:deep_cartograph:Elapsed time (Compute features): 00 h 00 min 02 s\n",
      "INFO:deep_cartograph:==================\n",
      "INFO:deep_cartograph:Filtering features\n",
      "INFO:deep_cartograph:==================\n",
      "INFO:deep_cartograph:Finding the features that contains the most information about the transitions or conformational changes.\n",
      "INFO:deep_cartograph:The following algorithms are available:\n",
      "INFO:deep_cartograph:- Hartigan's dip test filter. Keeps features that are not unimodal.\n",
      "INFO:deep_cartograph:- Shannon entropy filter. Keeps features with entropy greater than a threshold.\n",
      "INFO:deep_cartograph:- Standard deviation filter. Keeps features with standard deviation greater than a threshold.\n",
      "INFO:deep_cartograph:- Final Mutual information clustering (AMINO). Clusters filtered features according to a mutual information based distance and selects one feature per cluster minimizing the distorsion.\n",
      "INFO:deep_cartograph:Note that the all features must be in the same units to apply the entropy and standard deviation filters meaningfully.\n",
      "INFO:deep_cartograph:Initial size of features set: 1186.\n",
      "INFO:deep_cartograph.tools.filter_features.filtering:Computing dip test.\n",
      "INFO:deep_cartograph.tools.filter_features.filtering:Filtered 1038 features.\n",
      "INFO:deep_cartograph.modules.amino.amino:Skipping AMINO clustering.\n",
      "INFO:deep_cartograph:Elapsed time (Filter features): 00 h 00 min 27 s\n",
      "INFO:deep_cartograph:================================\n",
      "INFO:deep_cartograph:Training of Collective Variables\n",
      "INFO:deep_cartograph:================================\n",
      "INFO:deep_cartograph:Training of collective variables using the mlcolvar library.\n",
      "INFO:deep_cartograph:Creating datasets from colvars...\n",
      "INFO:deep_cartograph:Number of samples: 338\n",
      "INFO:deep_cartograph:Number of features: 148\n",
      "INFO:deep_cartograph.tools.train_colvars.utils:Training Autoencoder CV...\n",
      "/shared/work/pnavarro/envs/deep_cartograph/lib/python3.10/site-packages/lightning/fabric/plugins/environments/slurm.py:204: The `srun` command is available on your system but is not used. HINT: If your intention is to run Lightning on SLURM, prepend your python command with `srun` like so: srun python /shared/work/pnavarro/envs/deep_cartograph/lib/pytho ...\n",
      "GPU available: False, used: False\n",
      "TPU available: False, using: 0 TPU cores\n",
      "HPU available: False, using: 0 HPUs\n",
      "\n",
      "  | Name    | Type          | Params | Mode  | In sizes | Out sizes\n",
      "-------------------------------------------------------------------------\n",
      "0 | loss_fn | MSELoss       | 0      | train | ?        | ?        \n",
      "1 | norm_in | Normalization | 0      | train | [1, 148] | [1, 148] \n",
      "2 | encoder | FeedForward   | 2.5 K  | train | [1, 148] | [1, 2]   \n",
      "3 | decoder | FeedForward   | 2.7 K  | train | ?        | ?        \n",
      "-------------------------------------------------------------------------\n",
      "5.2 K     Trainable params\n",
      "0         Non-trainable params\n",
      "5.2 K     Total params\n",
      "0.021     Total estimated model params size (MB)\n",
      "INFO:deep_cartograph.tools.train_colvars.utils:Best model score: 0.0043446822091937065\n",
      "/shared/work/pnavarro/envs/deep_cartograph/lib/python3.10/site-packages/mlcolvar/core/nn/utils.py:13: TracerWarning: Converting a tensor to a Python number might cause the trace to be incorrect. We can't record the data flow of Python values, so this value will be treated as a constant in the future. This means that the trace might not generalize to other inputs!\n",
      "  sp0 = F.softplus(torch.zeros(1), self.beta, self.threshold).item()\n",
      "INFO:deep_cartograph.tools.train_colvars.utils:Projecting trajectory...\n",
      "/shared/work/pnavarro/envs/deep_cartograph/lib/python3.10/site-packages/mlcolvar/utils/timelagged.py:140: UserWarning: Monitoring the progress for the search of time-lagged configurations with a progress_bar requires `tqdm`.\n",
      "  warnings.warn(\n",
      "INFO:deep_cartograph.tools.train_colvars.utils:Calculating DeepTICA CV...\n",
      "/shared/work/pnavarro/envs/deep_cartograph/lib/python3.10/site-packages/lightning/fabric/plugins/environments/slurm.py:204: The `srun` command is available on your system but is not used. HINT: If your intention is to run Lightning on SLURM, prepend your python command with `srun` like so: srun python /shared/work/pnavarro/envs/deep_cartograph/lib/pytho ...\n",
      "GPU available: False, used: False\n",
      "TPU available: False, using: 0 TPU cores\n",
      "HPU available: False, using: 0 HPUs\n",
      "\n",
      "  | Name    | Type                  | Params | Mode  | In sizes | Out sizes\n",
      "---------------------------------------------------------------------------------\n",
      "0 | loss_fn | ReduceEigenvaluesLoss | 0      | train | ?        | ?        \n",
      "1 | norm_in | Normalization         | 0      | train | [1, 148] | [1, 148] \n",
      "2 | nn      | FeedForward           | 2.5 K  | train | [1, 148] | [1, 2]   \n",
      "3 | tica    | TICA                  | 0      | train | [1, 2]   | [1, 2]   \n",
      "---------------------------------------------------------------------------------\n",
      "2.5 K     Trainable params\n",
      "0         Non-trainable params\n",
      "2.5 K     Total params\n",
      "0.010     Total estimated model params size (MB)\n",
      "INFO:deep_cartograph.tools.train_colvars.utils:Best model score: -1.9188287258148193\n",
      "INFO:deep_cartograph.tools.train_colvars.utils:Took 7 epochs\n",
      "INFO:deep_cartograph.tools.train_colvars.utils:Eigenvalue 1: 0.990016758441925\n",
      "INFO:deep_cartograph.tools.train_colvars.utils:Eigenvalue 2: 0.9687413573265076\n",
      "/shared/work/pnavarro/envs/deep_cartograph/lib/python3.10/site-packages/mlcolvar/core/nn/utils.py:13: TracerWarning: Converting a tensor to a Python number might cause the trace to be incorrect. We can't record the data flow of Python values, so this value will be treated as a constant in the future. This means that the trace might not generalize to other inputs!\n",
      "  sp0 = F.softplus(torch.zeros(1), self.beta, self.threshold).item()\n",
      "INFO:deep_cartograph.tools.train_colvars.utils:Projecting trajectory...\n",
      "INFO:deep_cartograph:Elapsed time (Train colvars): 00 h 00 min 11 s\n",
      "INFO:deep_cartograph:Total elapsed time: 00 h 00 min 41 s\n",
      "INFO:deep_cartograph:================\n",
      "INFO:deep_cartograph:Compute features\n",
      "INFO:deep_cartograph:================\n",
      "INFO:deep_cartograph:Trajectory file: ../../../data/calpha_transitions/input/2olu_A-2olv_A-1/2olu_A-2olv_A-1.dcd\n",
      "/shared/work/pnavarro/envs/deep_cartograph/lib/python3.10/site-packages/MDAnalysis/topology/PDBParser.py:317: UserWarning: Element information is missing, elements attribute will not be populated. If needed these can be guessed using MDAnalysis.topology.guessers.\n",
      "  warnings.warn(\"Element information is missing, elements attribute \"\n",
      "/shared/work/pnavarro/envs/deep_cartograph/lib/python3.10/site-packages/MDAnalysis/coordinates/PDB.py:747: UserWarning: Unit cell dimensions not found. CRYST1 record set to unitary values.\n",
      "  warnings.warn(\"Unit cell dimensions not found. \"\n",
      "/shared/work/pnavarro/envs/deep_cartograph/lib/python3.10/site-packages/MDAnalysis/coordinates/PDB.py:1078: UserWarning: Found no information for attr: 'elements' Using default value of ' '\n",
      "  warnings.warn(\"Found no information for attr: '{}'\"\n",
      "/shared/work/pnavarro/envs/deep_cartograph/lib/python3.10/site-packages/MDAnalysis/coordinates/PDB.py:429: UserWarning: 1 A^3 CRYST1 record, this is usually a placeholder. Unit cell dimensions will be set to None.\n",
      "  warnings.warn(\"1 A^3 CRYST1 record,\"\n",
      "INFO:deep_cartograph.modules.plumed.input_file.input_file:Found 1186 features for tor\n",
      "INFO:deep_cartograph.modules.plumed.utils:Executing PLUMED driver command: ml PLUMED/2.9.0-intel-2021b && unset I_MPI_PMI_LIBRARY && /eb/x86_64/software/PLUMED/2.9.0-intel-2021b/bin/plumed driver --plumed /shared/work/pnavarro/repos/deep_cartograph/data/calpha_transitions/experiments/output/2olu_A-2olv_A-1/torsions/dr_0.3/compute_features_traj/torsions.dat --mf_dcd /shared/work/pnavarro/repos/deep_cartograph/data/calpha_transitions/input/2olu_A-2olv_A-1/2olu_A-2olv_A-1.dcd --natoms 596\n",
      "INFO:deep_cartograph:Elapsed time (Compute features): 00 h 00 min 03 s\n",
      "INFO:deep_cartograph:==================\n",
      "INFO:deep_cartograph:Filtering features\n",
      "INFO:deep_cartograph:==================\n",
      "INFO:deep_cartograph:Finding the features that contains the most information about the transitions or conformational changes.\n",
      "INFO:deep_cartograph:The following algorithms are available:\n",
      "INFO:deep_cartograph:- Hartigan's dip test filter. Keeps features that are not unimodal.\n",
      "INFO:deep_cartograph:- Shannon entropy filter. Keeps features with entropy greater than a threshold.\n",
      "INFO:deep_cartograph:- Standard deviation filter. Keeps features with standard deviation greater than a threshold.\n",
      "INFO:deep_cartograph:- Final Mutual information clustering (AMINO). Clusters filtered features according to a mutual information based distance and selects one feature per cluster minimizing the distorsion.\n",
      "INFO:deep_cartograph:Note that the all features must be in the same units to apply the entropy and standard deviation filters meaningfully.\n",
      "INFO:deep_cartograph:Initial size of features set: 1186.\n",
      "INFO:deep_cartograph.tools.filter_features.filtering:Computing dip test.\n",
      "INFO:deep_cartograph.tools.filter_features.filtering:Filtered 1038 features.\n",
      "INFO:deep_cartograph.modules.amino.amino:Skipping AMINO clustering.\n",
      "INFO:deep_cartograph:Elapsed time (Filter features): 00 h 00 min 27 s\n",
      "INFO:deep_cartograph:================================\n",
      "INFO:deep_cartograph:Training of Collective Variables\n",
      "INFO:deep_cartograph:================================\n",
      "INFO:deep_cartograph:Training of collective variables using the mlcolvar library.\n",
      "INFO:deep_cartograph:Creating datasets from colvars...\n",
      "INFO:deep_cartograph:Number of samples: 338\n",
      "INFO:deep_cartograph:Number of features: 148\n",
      "INFO:deep_cartograph.tools.train_colvars.utils:Training Autoencoder CV...\n",
      "/shared/work/pnavarro/envs/deep_cartograph/lib/python3.10/site-packages/lightning/fabric/plugins/environments/slurm.py:204: The `srun` command is available on your system but is not used. HINT: If your intention is to run Lightning on SLURM, prepend your python command with `srun` like so: srun python /shared/work/pnavarro/envs/deep_cartograph/lib/pytho ...\n",
      "GPU available: False, used: False\n",
      "TPU available: False, using: 0 TPU cores\n",
      "HPU available: False, using: 0 HPUs\n",
      "\n",
      "  | Name    | Type          | Params | Mode  | In sizes | Out sizes\n",
      "-------------------------------------------------------------------------\n",
      "0 | loss_fn | MSELoss       | 0      | train | ?        | ?        \n",
      "1 | norm_in | Normalization | 0      | train | [1, 148] | [1, 148] \n",
      "2 | encoder | FeedForward   | 2.5 K  | train | [1, 148] | [1, 2]   \n",
      "3 | decoder | FeedForward   | 2.7 K  | train | ?        | ?        \n",
      "-------------------------------------------------------------------------\n",
      "5.2 K     Trainable params\n",
      "0         Non-trainable params\n",
      "5.2 K     Total params\n",
      "0.021     Total estimated model params size (MB)\n",
      "INFO:deep_cartograph.tools.train_colvars.utils:Best model score: 0.0050352951511740685\n",
      "/shared/work/pnavarro/envs/deep_cartograph/lib/python3.10/site-packages/mlcolvar/core/nn/utils.py:13: TracerWarning: Converting a tensor to a Python number might cause the trace to be incorrect. We can't record the data flow of Python values, so this value will be treated as a constant in the future. This means that the trace might not generalize to other inputs!\n",
      "  sp0 = F.softplus(torch.zeros(1), self.beta, self.threshold).item()\n",
      "INFO:deep_cartograph.tools.train_colvars.utils:Projecting trajectory...\n",
      "/shared/work/pnavarro/envs/deep_cartograph/lib/python3.10/site-packages/mlcolvar/utils/timelagged.py:140: UserWarning: Monitoring the progress for the search of time-lagged configurations with a progress_bar requires `tqdm`.\n",
      "  warnings.warn(\n",
      "INFO:deep_cartograph.tools.train_colvars.utils:Calculating DeepTICA CV...\n",
      "/shared/work/pnavarro/envs/deep_cartograph/lib/python3.10/site-packages/lightning/fabric/plugins/environments/slurm.py:204: The `srun` command is available on your system but is not used. HINT: If your intention is to run Lightning on SLURM, prepend your python command with `srun` like so: srun python /shared/work/pnavarro/envs/deep_cartograph/lib/pytho ...\n",
      "GPU available: False, used: False\n",
      "TPU available: False, using: 0 TPU cores\n",
      "HPU available: False, using: 0 HPUs\n",
      "\n",
      "  | Name    | Type                  | Params | Mode  | In sizes | Out sizes\n",
      "---------------------------------------------------------------------------------\n",
      "0 | loss_fn | ReduceEigenvaluesLoss | 0      | train | ?        | ?        \n",
      "1 | norm_in | Normalization         | 0      | train | [1, 148] | [1, 148] \n",
      "2 | nn      | FeedForward           | 2.5 K  | train | [1, 148] | [1, 2]   \n",
      "3 | tica    | TICA                  | 0      | train | [1, 2]   | [1, 2]   \n",
      "---------------------------------------------------------------------------------\n",
      "2.5 K     Trainable params\n",
      "0         Non-trainable params\n",
      "2.5 K     Total params\n",
      "0.010     Total estimated model params size (MB)\n",
      "INFO:deep_cartograph.tools.train_colvars.utils:Best model score: -2.0692920684814453\n",
      "INFO:deep_cartograph.tools.train_colvars.utils:Took 32 epochs\n",
      "INFO:deep_cartograph.tools.train_colvars.utils:Eigenvalue 1: 1.1236313581466675\n",
      "INFO:deep_cartograph.tools.train_colvars.utils:Eigenvalue 2: 0.7255662679672241\n",
      "/shared/work/pnavarro/envs/deep_cartograph/lib/python3.10/site-packages/mlcolvar/core/nn/utils.py:13: TracerWarning: Converting a tensor to a Python number might cause the trace to be incorrect. We can't record the data flow of Python values, so this value will be treated as a constant in the future. This means that the trace might not generalize to other inputs!\n",
      "  sp0 = F.softplus(torch.zeros(1), self.beta, self.threshold).item()\n",
      "INFO:deep_cartograph.tools.train_colvars.utils:Projecting trajectory...\n",
      "INFO:deep_cartograph:Elapsed time (Train colvars): 00 h 00 min 16 s\n",
      "INFO:deep_cartograph:Total elapsed time: 00 h 00 min 46 s\n",
      "INFO:deep_cartograph:================\n",
      "INFO:deep_cartograph:Compute features\n",
      "INFO:deep_cartograph:================\n",
      "INFO:deep_cartograph:Trajectory file: ../../../data/calpha_transitions/input/2olu_A-2olv_A-1/2olu_A-2olv_A-1.dcd\n",
      "/shared/work/pnavarro/envs/deep_cartograph/lib/python3.10/site-packages/MDAnalysis/topology/PDBParser.py:317: UserWarning: Element information is missing, elements attribute will not be populated. If needed these can be guessed using MDAnalysis.topology.guessers.\n",
      "  warnings.warn(\"Element information is missing, elements attribute \"\n",
      "/shared/work/pnavarro/envs/deep_cartograph/lib/python3.10/site-packages/MDAnalysis/coordinates/PDB.py:747: UserWarning: Unit cell dimensions not found. CRYST1 record set to unitary values.\n",
      "  warnings.warn(\"Unit cell dimensions not found. \"\n",
      "/shared/work/pnavarro/envs/deep_cartograph/lib/python3.10/site-packages/MDAnalysis/coordinates/PDB.py:1078: UserWarning: Found no information for attr: 'elements' Using default value of ' '\n",
      "  warnings.warn(\"Found no information for attr: '{}'\"\n",
      "/shared/work/pnavarro/envs/deep_cartograph/lib/python3.10/site-packages/MDAnalysis/coordinates/PDB.py:429: UserWarning: 1 A^3 CRYST1 record, this is usually a placeholder. Unit cell dimensions will be set to None.\n",
      "  warnings.warn(\"1 A^3 CRYST1 record,\"\n",
      "INFO:deep_cartograph.modules.plumed.input_file.input_file:Found 1186 features for tor\n",
      "INFO:deep_cartograph.modules.plumed.utils:Executing PLUMED driver command: ml PLUMED/2.9.0-intel-2021b && unset I_MPI_PMI_LIBRARY && /eb/x86_64/software/PLUMED/2.9.0-intel-2021b/bin/plumed driver --plumed /shared/work/pnavarro/repos/deep_cartograph/data/calpha_transitions/experiments/output/2olu_A-2olv_A-1/torsions/dr_0.4/compute_features_traj/torsions.dat --mf_dcd /shared/work/pnavarro/repos/deep_cartograph/data/calpha_transitions/input/2olu_A-2olv_A-1/2olu_A-2olv_A-1.dcd --natoms 596\n",
      "INFO:deep_cartograph:Elapsed time (Compute features): 00 h 00 min 02 s\n",
      "INFO:deep_cartograph:==================\n",
      "INFO:deep_cartograph:Filtering features\n",
      "INFO:deep_cartograph:==================\n",
      "INFO:deep_cartograph:Finding the features that contains the most information about the transitions or conformational changes.\n",
      "INFO:deep_cartograph:The following algorithms are available:\n",
      "INFO:deep_cartograph:- Hartigan's dip test filter. Keeps features that are not unimodal.\n",
      "INFO:deep_cartograph:- Shannon entropy filter. Keeps features with entropy greater than a threshold.\n",
      "INFO:deep_cartograph:- Standard deviation filter. Keeps features with standard deviation greater than a threshold.\n",
      "INFO:deep_cartograph:- Final Mutual information clustering (AMINO). Clusters filtered features according to a mutual information based distance and selects one feature per cluster minimizing the distorsion.\n",
      "INFO:deep_cartograph:Note that the all features must be in the same units to apply the entropy and standard deviation filters meaningfully.\n",
      "INFO:deep_cartograph:Initial size of features set: 1186.\n",
      "INFO:deep_cartograph.tools.filter_features.filtering:Computing dip test.\n",
      "INFO:deep_cartograph.tools.filter_features.filtering:Filtered 1038 features.\n",
      "INFO:deep_cartograph.modules.amino.amino:Skipping AMINO clustering.\n",
      "INFO:deep_cartograph:Elapsed time (Filter features): 00 h 00 min 27 s\n",
      "INFO:deep_cartograph:================================\n",
      "INFO:deep_cartograph:Training of Collective Variables\n",
      "INFO:deep_cartograph:================================\n",
      "INFO:deep_cartograph:Training of collective variables using the mlcolvar library.\n",
      "INFO:deep_cartograph:Creating datasets from colvars...\n",
      "INFO:deep_cartograph:Number of samples: 338\n",
      "INFO:deep_cartograph:Number of features: 148\n",
      "INFO:deep_cartograph.tools.train_colvars.utils:Training Autoencoder CV...\n",
      "/shared/work/pnavarro/envs/deep_cartograph/lib/python3.10/site-packages/lightning/fabric/plugins/environments/slurm.py:204: The `srun` command is available on your system but is not used. HINT: If your intention is to run Lightning on SLURM, prepend your python command with `srun` like so: srun python /shared/work/pnavarro/envs/deep_cartograph/lib/pytho ...\n",
      "GPU available: False, used: False\n",
      "TPU available: False, using: 0 TPU cores\n",
      "HPU available: False, using: 0 HPUs\n",
      "\n",
      "  | Name    | Type          | Params | Mode  | In sizes | Out sizes\n",
      "-------------------------------------------------------------------------\n",
      "0 | loss_fn | MSELoss       | 0      | train | ?        | ?        \n",
      "1 | norm_in | Normalization | 0      | train | [1, 148] | [1, 148] \n",
      "2 | encoder | FeedForward   | 2.5 K  | train | [1, 148] | [1, 2]   \n",
      "3 | decoder | FeedForward   | 2.7 K  | train | ?        | ?        \n",
      "-------------------------------------------------------------------------\n",
      "5.2 K     Trainable params\n",
      "0         Non-trainable params\n",
      "5.2 K     Total params\n",
      "0.021     Total estimated model params size (MB)\n",
      "INFO:deep_cartograph.tools.train_colvars.utils:Best model score: 0.006946060806512833\n",
      "/shared/work/pnavarro/envs/deep_cartograph/lib/python3.10/site-packages/mlcolvar/core/nn/utils.py:13: TracerWarning: Converting a tensor to a Python number might cause the trace to be incorrect. We can't record the data flow of Python values, so this value will be treated as a constant in the future. This means that the trace might not generalize to other inputs!\n",
      "  sp0 = F.softplus(torch.zeros(1), self.beta, self.threshold).item()\n",
      "INFO:deep_cartograph.tools.train_colvars.utils:Projecting trajectory...\n",
      "/shared/work/pnavarro/envs/deep_cartograph/lib/python3.10/site-packages/mlcolvar/utils/timelagged.py:140: UserWarning: Monitoring the progress for the search of time-lagged configurations with a progress_bar requires `tqdm`.\n",
      "  warnings.warn(\n",
      "INFO:deep_cartograph.tools.train_colvars.utils:Calculating DeepTICA CV...\n",
      "/shared/work/pnavarro/envs/deep_cartograph/lib/python3.10/site-packages/lightning/fabric/plugins/environments/slurm.py:204: The `srun` command is available on your system but is not used. HINT: If your intention is to run Lightning on SLURM, prepend your python command with `srun` like so: srun python /shared/work/pnavarro/envs/deep_cartograph/lib/pytho ...\n",
      "GPU available: False, used: False\n",
      "TPU available: False, using: 0 TPU cores\n",
      "HPU available: False, using: 0 HPUs\n",
      "\n",
      "  | Name    | Type                  | Params | Mode  | In sizes | Out sizes\n",
      "---------------------------------------------------------------------------------\n",
      "0 | loss_fn | ReduceEigenvaluesLoss | 0      | train | ?        | ?        \n",
      "1 | norm_in | Normalization         | 0      | train | [1, 148] | [1, 148] \n",
      "2 | nn      | FeedForward           | 2.5 K  | train | [1, 148] | [1, 2]   \n",
      "3 | tica    | TICA                  | 0      | train | [1, 2]   | [1, 2]   \n",
      "---------------------------------------------------------------------------------\n",
      "2.5 K     Trainable params\n",
      "0         Non-trainable params\n",
      "2.5 K     Total params\n",
      "0.010     Total estimated model params size (MB)\n",
      "INFO:deep_cartograph.tools.train_colvars.utils:Best model score: -5.541113376617432\n",
      "INFO:deep_cartograph.tools.train_colvars.utils:Took 8 epochs\n",
      "INFO:deep_cartograph.tools.train_colvars.utils:Eigenvalue 1: 1.3820781707763672\n",
      "INFO:deep_cartograph.tools.train_colvars.utils:Eigenvalue 2: 0.7038792371749878\n",
      "/shared/work/pnavarro/envs/deep_cartograph/lib/python3.10/site-packages/mlcolvar/core/nn/utils.py:13: TracerWarning: Converting a tensor to a Python number might cause the trace to be incorrect. We can't record the data flow of Python values, so this value will be treated as a constant in the future. This means that the trace might not generalize to other inputs!\n",
      "  sp0 = F.softplus(torch.zeros(1), self.beta, self.threshold).item()\n",
      "INFO:deep_cartograph.tools.train_colvars.utils:Projecting trajectory...\n",
      "INFO:deep_cartograph:Elapsed time (Train colvars): 00 h 00 min 11 s\n",
      "INFO:deep_cartograph:Total elapsed time: 00 h 00 min 41 s\n"
     ]
    },
    {
     "data": {
      "text/plain": [
       "<Figure size 500x400 with 0 Axes>"
      ]
     },
     "metadata": {},
     "output_type": "display_data"
    },
    {
     "data": {
      "text/plain": [
       "<Figure size 500x400 with 0 Axes>"
      ]
     },
     "metadata": {},
     "output_type": "display_data"
    },
    {
     "data": {
      "text/plain": [
       "<Figure size 500x400 with 0 Axes>"
      ]
     },
     "metadata": {},
     "output_type": "display_data"
    },
    {
     "data": {
      "text/plain": [
       "<Figure size 500x400 with 0 Axes>"
      ]
     },
     "metadata": {},
     "output_type": "display_data"
    },
    {
     "data": {
      "text/plain": [
       "<Figure size 500x400 with 0 Axes>"
      ]
     },
     "metadata": {},
     "output_type": "display_data"
    },
    {
     "data": {
      "text/plain": [
       "<Figure size 500x400 with 0 Axes>"
      ]
     },
     "metadata": {},
     "output_type": "display_data"
    },
    {
     "data": {
      "text/plain": [
       "<Figure size 500x400 with 0 Axes>"
      ]
     },
     "metadata": {},
     "output_type": "display_data"
    },
    {
     "data": {
      "text/plain": [
       "<Figure size 500x400 with 0 Axes>"
      ]
     },
     "metadata": {},
     "output_type": "display_data"
    },
    {
     "data": {
      "text/plain": [
       "<Figure size 500x400 with 0 Axes>"
      ]
     },
     "metadata": {},
     "output_type": "display_data"
    },
    {
     "data": {
      "text/plain": [
       "<Figure size 500x400 with 0 Axes>"
      ]
     },
     "metadata": {},
     "output_type": "display_data"
    },
    {
     "data": {
      "text/plain": [
       "<Figure size 500x400 with 0 Axes>"
      ]
     },
     "metadata": {},
     "output_type": "display_data"
    },
    {
     "data": {
      "text/plain": [
       "<Figure size 500x400 with 0 Axes>"
      ]
     },
     "metadata": {},
     "output_type": "display_data"
    },
    {
     "data": {
      "text/plain": [
       "<Figure size 500x400 with 0 Axes>"
      ]
     },
     "metadata": {},
     "output_type": "display_data"
    },
    {
     "data": {
      "text/plain": [
       "<Figure size 500x400 with 0 Axes>"
      ]
     },
     "metadata": {},
     "output_type": "display_data"
    },
    {
     "data": {
      "text/plain": [
       "<Figure size 500x400 with 0 Axes>"
      ]
     },
     "metadata": {},
     "output_type": "display_data"
    }
   ],
   "source": [
    "features = 'torsions'\n",
    "\n",
    "# Load initial configuration\n",
    "config_path = f\"{data_folder}/calpha_transitions/experiments/{features}_config.yml\"\n",
    "\n",
    "with open(config_path, 'r') as file:\n",
    "    configuration = yaml.load(file, Loader = yaml.FullLoader)\n",
    "    \n",
    "dropout_rates = [0.05, 0.1, 0.2, 0.3, 0.4]\n",
    "system_name = '2olu_A-2olv_A-1'        # Has around 330 frames\n",
    "\n",
    "for dr in dropout_rates:\n",
    "\n",
    "    # Test name\n",
    "    test_name = f\"dr_{dr}\"\n",
    "\n",
    "    # Make a copy of the initial configuration\n",
    "    test_configuration = configuration.copy()\n",
    "\n",
    "    # Update learning rate\n",
    "    test_configuration['train_colvars']['common']['training']['general']['dropout'] = dr\n",
    "\n",
    "    # Run deep cartograph\n",
    "    run_deep_cartograph(test_configuration, features, system_name, test_name)"
   ]
  },
  {
   "cell_type": "code",
   "execution_count": 15,
   "metadata": {},
   "outputs": [
    {
     "name": "stdout",
     "output_type": "stream",
     "text": [
      "Dropout rate: 0.05 ----------------------------------------------- #\n",
      "Output folder: ../../../data/calpha_transitions/experiments/output/2olu_A-2olv_A-1/torsions/dr_0.05\n",
      "Final model score: 2.4002E-3\n"
     ]
    },
    {
     "data": {
      "text/html": [
       "<img src=\"../../../data/calpha_transitions/experiments/output/2olu_A-2olv_A-1/torsions/dr_0.05/train_colvars/ae/loss.png?1724938358\" style=\"width: 600px; margin-right: 10px;\"><img src=\"../../../data/calpha_transitions/experiments/output/2olu_A-2olv_A-1/torsions/dr_0.05/train_colvars/ae/trajectory.png?1724938358\" style=\"width: 600px; margin-right: 10px;\">"
      ],
      "text/plain": [
       "<IPython.core.display.HTML object>"
      ]
     },
     "metadata": {},
     "output_type": "display_data"
    },
    {
     "name": "stdout",
     "output_type": "stream",
     "text": [
      "Dropout rate: 0.1 ----------------------------------------------- #\n",
      "Output folder: ../../../data/calpha_transitions/experiments/output/2olu_A-2olv_A-1/torsions/dr_0.1\n",
      "Final model score: 3.0075E-3\n"
     ]
    },
    {
     "data": {
      "text/html": [
       "<img src=\"../../../data/calpha_transitions/experiments/output/2olu_A-2olv_A-1/torsions/dr_0.1/train_colvars/ae/loss.png?1724938358\" style=\"width: 600px; margin-right: 10px;\"><img src=\"../../../data/calpha_transitions/experiments/output/2olu_A-2olv_A-1/torsions/dr_0.1/train_colvars/ae/trajectory.png?1724938358\" style=\"width: 600px; margin-right: 10px;\">"
      ],
      "text/plain": [
       "<IPython.core.display.HTML object>"
      ]
     },
     "metadata": {},
     "output_type": "display_data"
    },
    {
     "name": "stdout",
     "output_type": "stream",
     "text": [
      "Dropout rate: 0.2 ----------------------------------------------- #\n",
      "Output folder: ../../../data/calpha_transitions/experiments/output/2olu_A-2olv_A-1/torsions/dr_0.2\n",
      "Final model score: 4.3447E-3\n"
     ]
    },
    {
     "data": {
      "text/html": [
       "<img src=\"../../../data/calpha_transitions/experiments/output/2olu_A-2olv_A-1/torsions/dr_0.2/train_colvars/ae/loss.png?1724938358\" style=\"width: 600px; margin-right: 10px;\"><img src=\"../../../data/calpha_transitions/experiments/output/2olu_A-2olv_A-1/torsions/dr_0.2/train_colvars/ae/trajectory.png?1724938358\" style=\"width: 600px; margin-right: 10px;\">"
      ],
      "text/plain": [
       "<IPython.core.display.HTML object>"
      ]
     },
     "metadata": {},
     "output_type": "display_data"
    },
    {
     "name": "stdout",
     "output_type": "stream",
     "text": [
      "Dropout rate: 0.3 ----------------------------------------------- #\n",
      "Output folder: ../../../data/calpha_transitions/experiments/output/2olu_A-2olv_A-1/torsions/dr_0.3\n",
      "Final model score: 5.0353E-3\n"
     ]
    },
    {
     "data": {
      "text/html": [
       "<img src=\"../../../data/calpha_transitions/experiments/output/2olu_A-2olv_A-1/torsions/dr_0.3/train_colvars/ae/loss.png?1724938359\" style=\"width: 600px; margin-right: 10px;\"><img src=\"../../../data/calpha_transitions/experiments/output/2olu_A-2olv_A-1/torsions/dr_0.3/train_colvars/ae/trajectory.png?1724938359\" style=\"width: 600px; margin-right: 10px;\">"
      ],
      "text/plain": [
       "<IPython.core.display.HTML object>"
      ]
     },
     "metadata": {},
     "output_type": "display_data"
    },
    {
     "name": "stdout",
     "output_type": "stream",
     "text": [
      "Dropout rate: 0.4 ----------------------------------------------- #\n",
      "Output folder: ../../../data/calpha_transitions/experiments/output/2olu_A-2olv_A-1/torsions/dr_0.4\n",
      "Final model score: 6.9461E-3\n"
     ]
    },
    {
     "data": {
      "text/html": [
       "<img src=\"../../../data/calpha_transitions/experiments/output/2olu_A-2olv_A-1/torsions/dr_0.4/train_colvars/ae/loss.png?1724938359\" style=\"width: 600px; margin-right: 10px;\"><img src=\"../../../data/calpha_transitions/experiments/output/2olu_A-2olv_A-1/torsions/dr_0.4/train_colvars/ae/trajectory.png?1724938359\" style=\"width: 600px; margin-right: 10px;\">"
      ],
      "text/plain": [
       "<IPython.core.display.HTML object>"
      ]
     },
     "metadata": {},
     "output_type": "display_data"
    }
   ],
   "source": [
    "# Show results for the Autoencoder\n",
    "\n",
    "for dr in dropout_rates:\n",
    "\n",
    "    print(f\"Dropout rate: {dr} ----------------------------------------------- #\")\n",
    "\n",
    "    # Test name\n",
    "    test_name = f\"dr_{dr}\"\n",
    "    \n",
    "    # Show main results\n",
    "    show_results(features, system_name, 'ae', test_name)"
   ]
  },
  {
   "cell_type": "code",
   "execution_count": 14,
   "metadata": {},
   "outputs": [
    {
     "name": "stdout",
     "output_type": "stream",
     "text": [
      "Dropout rate: 0.05 ----------------------------------------------- #\n",
      "Output folder: ../../../data/calpha_transitions/experiments/output/2olu_A-2olv_A-1/torsions/dr_0.05\n",
      "Final model score: -1.8999E+0\n",
      "Eigenvalue 1: 9.9770E-1\n",
      "Eigenvalue 2: 9.5054E-1\n"
     ]
    },
    {
     "data": {
      "text/html": [
       "<img src=\"../../../data/calpha_transitions/experiments/output/2olu_A-2olv_A-1/torsions/dr_0.05/train_colvars/deep_tica/loss.png?1724938289\" style=\"width: 600px; margin-right: 10px;\"><img src=\"../../../data/calpha_transitions/experiments/output/2olu_A-2olv_A-1/torsions/dr_0.05/train_colvars/deep_tica/eigenvalues.png?1724938289\" style=\"width: 600px; margin-right: 10px;\"><img src=\"../../../data/calpha_transitions/experiments/output/2olu_A-2olv_A-1/torsions/dr_0.05/train_colvars/deep_tica/trajectory.png?1724938289\" style=\"width: 600px; margin-right: 10px;\">"
      ],
      "text/plain": [
       "<IPython.core.display.HTML object>"
      ]
     },
     "metadata": {},
     "output_type": "display_data"
    },
    {
     "name": "stdout",
     "output_type": "stream",
     "text": [
      "Dropout rate: 0.1 ----------------------------------------------- #\n",
      "Output folder: ../../../data/calpha_transitions/experiments/output/2olu_A-2olv_A-1/torsions/dr_0.1\n",
      "Final model score: -1.9195E+0\n",
      "Eigenvalue 1: 9.8996E-1\n",
      "Eigenvalue 2: 9.6897E-1\n"
     ]
    },
    {
     "data": {
      "text/html": [
       "<img src=\"../../../data/calpha_transitions/experiments/output/2olu_A-2olv_A-1/torsions/dr_0.1/train_colvars/deep_tica/loss.png?1724938289\" style=\"width: 600px; margin-right: 10px;\"><img src=\"../../../data/calpha_transitions/experiments/output/2olu_A-2olv_A-1/torsions/dr_0.1/train_colvars/deep_tica/eigenvalues.png?1724938289\" style=\"width: 600px; margin-right: 10px;\"><img src=\"../../../data/calpha_transitions/experiments/output/2olu_A-2olv_A-1/torsions/dr_0.1/train_colvars/deep_tica/trajectory.png?1724938289\" style=\"width: 600px; margin-right: 10px;\">"
      ],
      "text/plain": [
       "<IPython.core.display.HTML object>"
      ]
     },
     "metadata": {},
     "output_type": "display_data"
    },
    {
     "name": "stdout",
     "output_type": "stream",
     "text": [
      "Dropout rate: 0.2 ----------------------------------------------- #\n",
      "Output folder: ../../../data/calpha_transitions/experiments/output/2olu_A-2olv_A-1/torsions/dr_0.2\n",
      "Final model score: -1.9188E+0\n",
      "Eigenvalue 1: 9.9002E-1\n",
      "Eigenvalue 2: 9.6874E-1\n"
     ]
    },
    {
     "data": {
      "text/html": [
       "<img src=\"../../../data/calpha_transitions/experiments/output/2olu_A-2olv_A-1/torsions/dr_0.2/train_colvars/deep_tica/loss.png?1724938289\" style=\"width: 600px; margin-right: 10px;\"><img src=\"../../../data/calpha_transitions/experiments/output/2olu_A-2olv_A-1/torsions/dr_0.2/train_colvars/deep_tica/eigenvalues.png?1724938289\" style=\"width: 600px; margin-right: 10px;\"><img src=\"../../../data/calpha_transitions/experiments/output/2olu_A-2olv_A-1/torsions/dr_0.2/train_colvars/deep_tica/trajectory.png?1724938289\" style=\"width: 600px; margin-right: 10px;\">"
      ],
      "text/plain": [
       "<IPython.core.display.HTML object>"
      ]
     },
     "metadata": {},
     "output_type": "display_data"
    },
    {
     "name": "stdout",
     "output_type": "stream",
     "text": [
      "Dropout rate: 0.3 ----------------------------------------------- #\n",
      "Output folder: ../../../data/calpha_transitions/experiments/output/2olu_A-2olv_A-1/torsions/dr_0.3\n",
      "Final model score: -2.0693E+0\n",
      "Eigenvalue 1: 1.1236E+0\n",
      "Eigenvalue 2: 7.2557E-1\n"
     ]
    },
    {
     "data": {
      "text/html": [
       "<img src=\"../../../data/calpha_transitions/experiments/output/2olu_A-2olv_A-1/torsions/dr_0.3/train_colvars/deep_tica/loss.png?1724938289\" style=\"width: 600px; margin-right: 10px;\"><img src=\"../../../data/calpha_transitions/experiments/output/2olu_A-2olv_A-1/torsions/dr_0.3/train_colvars/deep_tica/eigenvalues.png?1724938289\" style=\"width: 600px; margin-right: 10px;\"><img src=\"../../../data/calpha_transitions/experiments/output/2olu_A-2olv_A-1/torsions/dr_0.3/train_colvars/deep_tica/trajectory.png?1724938289\" style=\"width: 600px; margin-right: 10px;\">"
      ],
      "text/plain": [
       "<IPython.core.display.HTML object>"
      ]
     },
     "metadata": {},
     "output_type": "display_data"
    },
    {
     "name": "stdout",
     "output_type": "stream",
     "text": [
      "Dropout rate: 0.4 ----------------------------------------------- #\n",
      "Output folder: ../../../data/calpha_transitions/experiments/output/2olu_A-2olv_A-1/torsions/dr_0.4\n",
      "Final model score: -5.5411E+0\n",
      "Eigenvalue 1: 1.3821E+0\n",
      "Eigenvalue 2: 7.0388E-1\n"
     ]
    },
    {
     "data": {
      "text/html": [
       "<img src=\"../../../data/calpha_transitions/experiments/output/2olu_A-2olv_A-1/torsions/dr_0.4/train_colvars/deep_tica/loss.png?1724938289\" style=\"width: 600px; margin-right: 10px;\"><img src=\"../../../data/calpha_transitions/experiments/output/2olu_A-2olv_A-1/torsions/dr_0.4/train_colvars/deep_tica/eigenvalues.png?1724938289\" style=\"width: 600px; margin-right: 10px;\"><img src=\"../../../data/calpha_transitions/experiments/output/2olu_A-2olv_A-1/torsions/dr_0.4/train_colvars/deep_tica/trajectory.png?1724938289\" style=\"width: 600px; margin-right: 10px;\">"
      ],
      "text/plain": [
       "<IPython.core.display.HTML object>"
      ]
     },
     "metadata": {},
     "output_type": "display_data"
    }
   ],
   "source": [
    "# Show results for the Deep TICA\n",
    "\n",
    "for dr in dropout_rates:\n",
    "\n",
    "    print(f\"Dropout rate: {dr} ----------------------------------------------- #\")\n",
    "\n",
    "    # Test name\n",
    "    test_name = f\"dr_{dr}\"\n",
    "    \n",
    "    # Show main results\n",
    "    show_results(features, system_name, 'deep_tica', test_name)"
   ]
  },
  {
   "cell_type": "markdown",
   "metadata": {},
   "source": [
    "- The Autoncoder model benefits from a higher dropout rate. This might be because the Autoencoder has more parameters."
   ]
  },
  {
   "cell_type": "markdown",
   "metadata": {},
   "source": [
    "## Lag time\n",
    "\n",
    "Lag time is the number of frames between pairs of input samples. It is used in the TICA and Deep TICA models."
   ]
  },
  {
   "cell_type": "code",
   "execution_count": 13,
   "metadata": {},
   "outputs": [
    {
     "name": "stderr",
     "output_type": "stream",
     "text": [
      "INFO:deep_cartograph:================\n",
      "INFO:deep_cartograph:Compute features\n",
      "INFO:deep_cartograph:================\n",
      "INFO:deep_cartograph:Trajectory file: ../../../data/calpha_transitions/input/2olu_A-2olv_A-1/2olu_A-2olv_A-1.dcd\n",
      "/shared/work/pnavarro/envs/deep_cartograph/lib/python3.10/site-packages/MDAnalysis/topology/PDBParser.py:317: UserWarning: Element information is missing, elements attribute will not be populated. If needed these can be guessed using MDAnalysis.topology.guessers.\n",
      "  warnings.warn(\"Element information is missing, elements attribute \"\n",
      "/shared/work/pnavarro/envs/deep_cartograph/lib/python3.10/site-packages/MDAnalysis/coordinates/PDB.py:747: UserWarning: Unit cell dimensions not found. CRYST1 record set to unitary values.\n",
      "  warnings.warn(\"Unit cell dimensions not found. \"\n",
      "/shared/work/pnavarro/envs/deep_cartograph/lib/python3.10/site-packages/MDAnalysis/coordinates/PDB.py:1078: UserWarning: Found no information for attr: 'elements' Using default value of ' '\n",
      "  warnings.warn(\"Found no information for attr: '{}'\"\n",
      "/shared/work/pnavarro/envs/deep_cartograph/lib/python3.10/site-packages/MDAnalysis/coordinates/PDB.py:429: UserWarning: 1 A^3 CRYST1 record, this is usually a placeholder. Unit cell dimensions will be set to None.\n",
      "  warnings.warn(\"1 A^3 CRYST1 record,\"\n",
      "INFO:deep_cartograph.modules.plumed.input_file.input_file:Found 1186 features for tor\n",
      "INFO:deep_cartograph.modules.plumed.utils:Executing PLUMED driver command: ml PLUMED/2.9.0-intel-2021b && unset I_MPI_PMI_LIBRARY && /eb/x86_64/software/PLUMED/2.9.0-intel-2021b/bin/plumed driver --plumed /shared/work/pnavarro/repos/deep_cartograph/data/calpha_transitions/experiments/output/2olu_A-2olv_A-1/torsions/lt_1/compute_features_traj/torsions.dat --mf_dcd /shared/work/pnavarro/repos/deep_cartograph/data/calpha_transitions/input/2olu_A-2olv_A-1/2olu_A-2olv_A-1.dcd --natoms 596\n",
      "INFO:deep_cartograph:Elapsed time (Compute features): 00 h 00 min 06 s\n",
      "INFO:deep_cartograph:==================\n",
      "INFO:deep_cartograph:Filtering features\n",
      "INFO:deep_cartograph:==================\n",
      "INFO:deep_cartograph:Finding the features that contains the most information about the transitions or conformational changes.\n",
      "INFO:deep_cartograph:The following algorithms are available:\n",
      "INFO:deep_cartograph:- Hartigan's dip test filter. Keeps features that are not unimodal.\n",
      "INFO:deep_cartograph:- Shannon entropy filter. Keeps features with entropy greater than a threshold.\n",
      "INFO:deep_cartograph:- Standard deviation filter. Keeps features with standard deviation greater than a threshold.\n",
      "INFO:deep_cartograph:- Final Mutual information clustering (AMINO). Clusters filtered features according to a mutual information based distance and selects one feature per cluster minimizing the distorsion.\n",
      "INFO:deep_cartograph:Note that the all features must be in the same units to apply the entropy and standard deviation filters meaningfully.\n",
      "INFO:deep_cartograph:Initial size of features set: 1186.\n",
      "INFO:deep_cartograph.tools.filter_features.filtering:Computing dip test.\n",
      "INFO:deep_cartograph.tools.filter_features.filtering:Filtered 1038 features.\n",
      "INFO:deep_cartograph.modules.amino.amino:Skipping AMINO clustering.\n",
      "INFO:deep_cartograph:Elapsed time (Filter features): 00 h 00 min 30 s\n",
      "INFO:deep_cartograph:================================\n",
      "INFO:deep_cartograph:Training of Collective Variables\n",
      "INFO:deep_cartograph:================================\n",
      "INFO:deep_cartograph:Training of collective variables using the mlcolvar library.\n",
      "INFO:deep_cartograph:Creating datasets from colvars...\n",
      "INFO:deep_cartograph:Number of samples: 338\n",
      "INFO:deep_cartograph:Number of features: 148\n",
      "INFO:deep_cartograph.tools.train_colvars.utils:Training Autoencoder CV...\n",
      "/shared/work/pnavarro/envs/deep_cartograph/lib/python3.10/site-packages/lightning/fabric/plugins/environments/slurm.py:204: The `srun` command is available on your system but is not used. HINT: If your intention is to run Lightning on SLURM, prepend your python command with `srun` like so: srun python /shared/work/pnavarro/envs/deep_cartograph/lib/pytho ...\n",
      "GPU available: False, used: False\n",
      "TPU available: False, using: 0 TPU cores\n",
      "HPU available: False, using: 0 HPUs\n",
      "\n",
      "  | Name    | Type          | Params | Mode  | In sizes | Out sizes\n",
      "-------------------------------------------------------------------------\n",
      "0 | loss_fn | MSELoss       | 0      | train | ?        | ?        \n",
      "1 | norm_in | Normalization | 0      | train | [1, 148] | [1, 148] \n",
      "2 | encoder | FeedForward   | 2.5 K  | train | [1, 148] | [1, 2]   \n",
      "3 | decoder | FeedForward   | 2.7 K  | train | ?        | ?        \n",
      "-------------------------------------------------------------------------\n",
      "5.2 K     Trainable params\n",
      "0         Non-trainable params\n",
      "5.2 K     Total params\n",
      "0.021     Total estimated model params size (MB)\n",
      "INFO:deep_cartograph.tools.train_colvars.utils:Best model score: 0.0030074643436819315\n",
      "/shared/work/pnavarro/envs/deep_cartograph/lib/python3.10/site-packages/mlcolvar/core/nn/utils.py:13: TracerWarning: Converting a tensor to a Python number might cause the trace to be incorrect. We can't record the data flow of Python values, so this value will be treated as a constant in the future. This means that the trace might not generalize to other inputs!\n",
      "  sp0 = F.softplus(torch.zeros(1), self.beta, self.threshold).item()\n",
      "INFO:deep_cartograph.tools.train_colvars.utils:Projecting trajectory...\n",
      "/shared/work/pnavarro/envs/deep_cartograph/lib/python3.10/site-packages/mlcolvar/utils/timelagged.py:140: UserWarning: Monitoring the progress for the search of time-lagged configurations with a progress_bar requires `tqdm`.\n",
      "  warnings.warn(\n",
      "INFO:deep_cartograph.tools.train_colvars.utils:Calculating DeepTICA CV...\n",
      "/shared/work/pnavarro/envs/deep_cartograph/lib/python3.10/site-packages/lightning/fabric/plugins/environments/slurm.py:204: The `srun` command is available on your system but is not used. HINT: If your intention is to run Lightning on SLURM, prepend your python command with `srun` like so: srun python /shared/work/pnavarro/envs/deep_cartograph/lib/pytho ...\n",
      "GPU available: False, used: False\n",
      "TPU available: False, using: 0 TPU cores\n",
      "HPU available: False, using: 0 HPUs\n",
      "\n",
      "  | Name    | Type                  | Params | Mode  | In sizes | Out sizes\n",
      "---------------------------------------------------------------------------------\n",
      "0 | loss_fn | ReduceEigenvaluesLoss | 0      | train | ?        | ?        \n",
      "1 | norm_in | Normalization         | 0      | train | [1, 148] | [1, 148] \n",
      "2 | nn      | FeedForward           | 2.5 K  | train | [1, 148] | [1, 2]   \n",
      "3 | tica    | TICA                  | 0      | train | [1, 2]   | [1, 2]   \n",
      "---------------------------------------------------------------------------------\n",
      "2.5 K     Trainable params\n",
      "0         Non-trainable params\n",
      "2.5 K     Total params\n",
      "0.010     Total estimated model params size (MB)\n",
      "INFO:deep_cartograph.tools.train_colvars.utils:Best model score: -1.9195023775100708\n",
      "INFO:deep_cartograph.tools.train_colvars.utils:Took 6 epochs\n",
      "INFO:deep_cartograph.tools.train_colvars.utils:Eigenvalue 1: 0.9899606108665466\n",
      "INFO:deep_cartograph.tools.train_colvars.utils:Eigenvalue 2: 0.9689686298370361\n",
      "/shared/work/pnavarro/envs/deep_cartograph/lib/python3.10/site-packages/mlcolvar/core/nn/utils.py:13: TracerWarning: Converting a tensor to a Python number might cause the trace to be incorrect. We can't record the data flow of Python values, so this value will be treated as a constant in the future. This means that the trace might not generalize to other inputs!\n",
      "  sp0 = F.softplus(torch.zeros(1), self.beta, self.threshold).item()\n",
      "INFO:deep_cartograph.tools.train_colvars.utils:Projecting trajectory...\n",
      "INFO:deep_cartograph:Elapsed time (Train colvars): 00 h 00 min 19 s\n",
      "INFO:deep_cartograph:Total elapsed time: 00 h 00 min 55 s\n",
      "INFO:deep_cartograph:================\n",
      "INFO:deep_cartograph:Compute features\n",
      "INFO:deep_cartograph:================\n",
      "INFO:deep_cartograph:Trajectory file: ../../../data/calpha_transitions/input/2olu_A-2olv_A-1/2olu_A-2olv_A-1.dcd\n",
      "/shared/work/pnavarro/envs/deep_cartograph/lib/python3.10/site-packages/MDAnalysis/topology/PDBParser.py:317: UserWarning: Element information is missing, elements attribute will not be populated. If needed these can be guessed using MDAnalysis.topology.guessers.\n",
      "  warnings.warn(\"Element information is missing, elements attribute \"\n",
      "/shared/work/pnavarro/envs/deep_cartograph/lib/python3.10/site-packages/MDAnalysis/coordinates/PDB.py:747: UserWarning: Unit cell dimensions not found. CRYST1 record set to unitary values.\n",
      "  warnings.warn(\"Unit cell dimensions not found. \"\n",
      "/shared/work/pnavarro/envs/deep_cartograph/lib/python3.10/site-packages/MDAnalysis/coordinates/PDB.py:1078: UserWarning: Found no information for attr: 'elements' Using default value of ' '\n",
      "  warnings.warn(\"Found no information for attr: '{}'\"\n",
      "/shared/work/pnavarro/envs/deep_cartograph/lib/python3.10/site-packages/MDAnalysis/coordinates/PDB.py:429: UserWarning: 1 A^3 CRYST1 record, this is usually a placeholder. Unit cell dimensions will be set to None.\n",
      "  warnings.warn(\"1 A^3 CRYST1 record,\"\n",
      "INFO:deep_cartograph.modules.plumed.input_file.input_file:Found 1186 features for tor\n",
      "INFO:deep_cartograph.modules.plumed.utils:Executing PLUMED driver command: ml PLUMED/2.9.0-intel-2021b && unset I_MPI_PMI_LIBRARY && /eb/x86_64/software/PLUMED/2.9.0-intel-2021b/bin/plumed driver --plumed /shared/work/pnavarro/repos/deep_cartograph/data/calpha_transitions/experiments/output/2olu_A-2olv_A-1/torsions/lt_2/compute_features_traj/torsions.dat --mf_dcd /shared/work/pnavarro/repos/deep_cartograph/data/calpha_transitions/input/2olu_A-2olv_A-1/2olu_A-2olv_A-1.dcd --natoms 596\n",
      "INFO:deep_cartograph:Elapsed time (Compute features): 00 h 00 min 03 s\n",
      "INFO:deep_cartograph:==================\n",
      "INFO:deep_cartograph:Filtering features\n",
      "INFO:deep_cartograph:==================\n",
      "INFO:deep_cartograph:Finding the features that contains the most information about the transitions or conformational changes.\n",
      "INFO:deep_cartograph:The following algorithms are available:\n",
      "INFO:deep_cartograph:- Hartigan's dip test filter. Keeps features that are not unimodal.\n",
      "INFO:deep_cartograph:- Shannon entropy filter. Keeps features with entropy greater than a threshold.\n",
      "INFO:deep_cartograph:- Standard deviation filter. Keeps features with standard deviation greater than a threshold.\n",
      "INFO:deep_cartograph:- Final Mutual information clustering (AMINO). Clusters filtered features according to a mutual information based distance and selects one feature per cluster minimizing the distorsion.\n",
      "INFO:deep_cartograph:Note that the all features must be in the same units to apply the entropy and standard deviation filters meaningfully.\n",
      "INFO:deep_cartograph:Initial size of features set: 1186.\n",
      "INFO:deep_cartograph.tools.filter_features.filtering:Computing dip test.\n",
      "INFO:deep_cartograph.tools.filter_features.filtering:Filtered 1038 features.\n",
      "INFO:deep_cartograph.modules.amino.amino:Skipping AMINO clustering.\n",
      "INFO:deep_cartograph:Elapsed time (Filter features): 00 h 00 min 30 s\n",
      "INFO:deep_cartograph:================================\n",
      "INFO:deep_cartograph:Training of Collective Variables\n",
      "INFO:deep_cartograph:================================\n",
      "INFO:deep_cartograph:Training of collective variables using the mlcolvar library.\n",
      "INFO:deep_cartograph:Creating datasets from colvars...\n",
      "INFO:deep_cartograph:Number of samples: 338\n",
      "INFO:deep_cartograph:Number of features: 148\n",
      "INFO:deep_cartograph.tools.train_colvars.utils:Training Autoencoder CV...\n",
      "/shared/work/pnavarro/envs/deep_cartograph/lib/python3.10/site-packages/lightning/fabric/plugins/environments/slurm.py:204: The `srun` command is available on your system but is not used. HINT: If your intention is to run Lightning on SLURM, prepend your python command with `srun` like so: srun python /shared/work/pnavarro/envs/deep_cartograph/lib/pytho ...\n",
      "GPU available: False, used: False\n",
      "TPU available: False, using: 0 TPU cores\n",
      "HPU available: False, using: 0 HPUs\n",
      "\n",
      "  | Name    | Type          | Params | Mode  | In sizes | Out sizes\n",
      "-------------------------------------------------------------------------\n",
      "0 | loss_fn | MSELoss       | 0      | train | ?        | ?        \n",
      "1 | norm_in | Normalization | 0      | train | [1, 148] | [1, 148] \n",
      "2 | encoder | FeedForward   | 2.5 K  | train | [1, 148] | [1, 2]   \n",
      "3 | decoder | FeedForward   | 2.7 K  | train | ?        | ?        \n",
      "-------------------------------------------------------------------------\n",
      "5.2 K     Trainable params\n",
      "0         Non-trainable params\n",
      "5.2 K     Total params\n",
      "0.021     Total estimated model params size (MB)\n",
      "INFO:deep_cartograph.tools.train_colvars.utils:Best model score: 0.0030074643436819315\n",
      "/shared/work/pnavarro/envs/deep_cartograph/lib/python3.10/site-packages/mlcolvar/core/nn/utils.py:13: TracerWarning: Converting a tensor to a Python number might cause the trace to be incorrect. We can't record the data flow of Python values, so this value will be treated as a constant in the future. This means that the trace might not generalize to other inputs!\n",
      "  sp0 = F.softplus(torch.zeros(1), self.beta, self.threshold).item()\n",
      "INFO:deep_cartograph.tools.train_colvars.utils:Projecting trajectory...\n",
      "/shared/work/pnavarro/envs/deep_cartograph/lib/python3.10/site-packages/mlcolvar/utils/timelagged.py:140: UserWarning: Monitoring the progress for the search of time-lagged configurations with a progress_bar requires `tqdm`.\n",
      "  warnings.warn(\n",
      "INFO:deep_cartograph.tools.train_colvars.utils:Calculating DeepTICA CV...\n",
      "/shared/work/pnavarro/envs/deep_cartograph/lib/python3.10/site-packages/lightning/fabric/plugins/environments/slurm.py:204: The `srun` command is available on your system but is not used. HINT: If your intention is to run Lightning on SLURM, prepend your python command with `srun` like so: srun python /shared/work/pnavarro/envs/deep_cartograph/lib/pytho ...\n",
      "GPU available: False, used: False\n",
      "TPU available: False, using: 0 TPU cores\n",
      "HPU available: False, using: 0 HPUs\n",
      "\n",
      "  | Name    | Type                  | Params | Mode  | In sizes | Out sizes\n",
      "---------------------------------------------------------------------------------\n",
      "0 | loss_fn | ReduceEigenvaluesLoss | 0      | train | ?        | ?        \n",
      "1 | norm_in | Normalization         | 0      | train | [1, 148] | [1, 148] \n",
      "2 | nn      | FeedForward           | 2.5 K  | train | [1, 148] | [1, 2]   \n",
      "3 | tica    | TICA                  | 0      | train | [1, 2]   | [1, 2]   \n",
      "---------------------------------------------------------------------------------\n",
      "2.5 K     Trainable params\n",
      "0         Non-trainable params\n",
      "2.5 K     Total params\n",
      "0.010     Total estimated model params size (MB)\n",
      "INFO:deep_cartograph.tools.train_colvars.utils:Best model score: -95.20116424560547\n",
      "INFO:deep_cartograph.tools.train_colvars.utils:Took 58 epochs\n",
      "INFO:deep_cartograph.tools.train_colvars.utils:Eigenvalue 1: 2.2901995182037354\n",
      "INFO:deep_cartograph.tools.train_colvars.utils:Eigenvalue 2: -0.281789094209671\n",
      "/shared/work/pnavarro/envs/deep_cartograph/lib/python3.10/site-packages/mlcolvar/core/nn/utils.py:13: TracerWarning: Converting a tensor to a Python number might cause the trace to be incorrect. We can't record the data flow of Python values, so this value will be treated as a constant in the future. This means that the trace might not generalize to other inputs!\n",
      "  sp0 = F.softplus(torch.zeros(1), self.beta, self.threshold).item()\n",
      "INFO:deep_cartograph.tools.train_colvars.utils:Projecting trajectory...\n",
      "INFO:deep_cartograph:Elapsed time (Train colvars): 00 h 00 min 21 s\n",
      "INFO:deep_cartograph:Total elapsed time: 00 h 00 min 54 s\n",
      "INFO:deep_cartograph:================\n",
      "INFO:deep_cartograph:Compute features\n",
      "INFO:deep_cartograph:================\n",
      "INFO:deep_cartograph:Trajectory file: ../../../data/calpha_transitions/input/2olu_A-2olv_A-1/2olu_A-2olv_A-1.dcd\n",
      "/shared/work/pnavarro/envs/deep_cartograph/lib/python3.10/site-packages/MDAnalysis/topology/PDBParser.py:317: UserWarning: Element information is missing, elements attribute will not be populated. If needed these can be guessed using MDAnalysis.topology.guessers.\n",
      "  warnings.warn(\"Element information is missing, elements attribute \"\n",
      "/shared/work/pnavarro/envs/deep_cartograph/lib/python3.10/site-packages/MDAnalysis/coordinates/PDB.py:747: UserWarning: Unit cell dimensions not found. CRYST1 record set to unitary values.\n",
      "  warnings.warn(\"Unit cell dimensions not found. \"\n",
      "/shared/work/pnavarro/envs/deep_cartograph/lib/python3.10/site-packages/MDAnalysis/coordinates/PDB.py:1078: UserWarning: Found no information for attr: 'elements' Using default value of ' '\n",
      "  warnings.warn(\"Found no information for attr: '{}'\"\n",
      "/shared/work/pnavarro/envs/deep_cartograph/lib/python3.10/site-packages/MDAnalysis/coordinates/PDB.py:429: UserWarning: 1 A^3 CRYST1 record, this is usually a placeholder. Unit cell dimensions will be set to None.\n",
      "  warnings.warn(\"1 A^3 CRYST1 record,\"\n",
      "INFO:deep_cartograph.modules.plumed.input_file.input_file:Found 1186 features for tor\n",
      "INFO:deep_cartograph.modules.plumed.utils:Executing PLUMED driver command: ml PLUMED/2.9.0-intel-2021b && unset I_MPI_PMI_LIBRARY && /eb/x86_64/software/PLUMED/2.9.0-intel-2021b/bin/plumed driver --plumed /shared/work/pnavarro/repos/deep_cartograph/data/calpha_transitions/experiments/output/2olu_A-2olv_A-1/torsions/lt_4/compute_features_traj/torsions.dat --mf_dcd /shared/work/pnavarro/repos/deep_cartograph/data/calpha_transitions/input/2olu_A-2olv_A-1/2olu_A-2olv_A-1.dcd --natoms 596\n",
      "INFO:deep_cartograph:Elapsed time (Compute features): 00 h 00 min 03 s\n",
      "INFO:deep_cartograph:==================\n",
      "INFO:deep_cartograph:Filtering features\n",
      "INFO:deep_cartograph:==================\n",
      "INFO:deep_cartograph:Finding the features that contains the most information about the transitions or conformational changes.\n",
      "INFO:deep_cartograph:The following algorithms are available:\n",
      "INFO:deep_cartograph:- Hartigan's dip test filter. Keeps features that are not unimodal.\n",
      "INFO:deep_cartograph:- Shannon entropy filter. Keeps features with entropy greater than a threshold.\n",
      "INFO:deep_cartograph:- Standard deviation filter. Keeps features with standard deviation greater than a threshold.\n",
      "INFO:deep_cartograph:- Final Mutual information clustering (AMINO). Clusters filtered features according to a mutual information based distance and selects one feature per cluster minimizing the distorsion.\n",
      "INFO:deep_cartograph:Note that the all features must be in the same units to apply the entropy and standard deviation filters meaningfully.\n",
      "INFO:deep_cartograph:Initial size of features set: 1186.\n",
      "INFO:deep_cartograph.tools.filter_features.filtering:Computing dip test.\n",
      "INFO:deep_cartograph.tools.filter_features.filtering:Filtered 1038 features.\n",
      "INFO:deep_cartograph.modules.amino.amino:Skipping AMINO clustering.\n",
      "INFO:deep_cartograph:Elapsed time (Filter features): 00 h 00 min 30 s\n",
      "INFO:deep_cartograph:================================\n",
      "INFO:deep_cartograph:Training of Collective Variables\n",
      "INFO:deep_cartograph:================================\n",
      "INFO:deep_cartograph:Training of collective variables using the mlcolvar library.\n",
      "INFO:deep_cartograph:Creating datasets from colvars...\n",
      "INFO:deep_cartograph:Number of samples: 338\n",
      "INFO:deep_cartograph:Number of features: 148\n",
      "INFO:deep_cartograph.tools.train_colvars.utils:Training Autoencoder CV...\n",
      "/shared/work/pnavarro/envs/deep_cartograph/lib/python3.10/site-packages/lightning/fabric/plugins/environments/slurm.py:204: The `srun` command is available on your system but is not used. HINT: If your intention is to run Lightning on SLURM, prepend your python command with `srun` like so: srun python /shared/work/pnavarro/envs/deep_cartograph/lib/pytho ...\n",
      "GPU available: False, used: False\n",
      "TPU available: False, using: 0 TPU cores\n",
      "HPU available: False, using: 0 HPUs\n",
      "\n",
      "  | Name    | Type          | Params | Mode  | In sizes | Out sizes\n",
      "-------------------------------------------------------------------------\n",
      "0 | loss_fn | MSELoss       | 0      | train | ?        | ?        \n",
      "1 | norm_in | Normalization | 0      | train | [1, 148] | [1, 148] \n",
      "2 | encoder | FeedForward   | 2.5 K  | train | [1, 148] | [1, 2]   \n",
      "3 | decoder | FeedForward   | 2.7 K  | train | ?        | ?        \n",
      "-------------------------------------------------------------------------\n",
      "5.2 K     Trainable params\n",
      "0         Non-trainable params\n",
      "5.2 K     Total params\n",
      "0.021     Total estimated model params size (MB)\n",
      "INFO:deep_cartograph.tools.train_colvars.utils:Best model score: 0.0030074643436819315\n",
      "/shared/work/pnavarro/envs/deep_cartograph/lib/python3.10/site-packages/mlcolvar/core/nn/utils.py:13: TracerWarning: Converting a tensor to a Python number might cause the trace to be incorrect. We can't record the data flow of Python values, so this value will be treated as a constant in the future. This means that the trace might not generalize to other inputs!\n",
      "  sp0 = F.softplus(torch.zeros(1), self.beta, self.threshold).item()\n",
      "INFO:deep_cartograph.tools.train_colvars.utils:Projecting trajectory...\n",
      "/shared/work/pnavarro/envs/deep_cartograph/lib/python3.10/site-packages/mlcolvar/utils/timelagged.py:140: UserWarning: Monitoring the progress for the search of time-lagged configurations with a progress_bar requires `tqdm`.\n",
      "  warnings.warn(\n",
      "INFO:deep_cartograph.tools.train_colvars.utils:Calculating DeepTICA CV...\n",
      "/shared/work/pnavarro/envs/deep_cartograph/lib/python3.10/site-packages/lightning/fabric/plugins/environments/slurm.py:204: The `srun` command is available on your system but is not used. HINT: If your intention is to run Lightning on SLURM, prepend your python command with `srun` like so: srun python /shared/work/pnavarro/envs/deep_cartograph/lib/pytho ...\n",
      "GPU available: False, used: False\n",
      "TPU available: False, using: 0 TPU cores\n",
      "HPU available: False, using: 0 HPUs\n",
      "\n",
      "  | Name    | Type                  | Params | Mode  | In sizes | Out sizes\n",
      "---------------------------------------------------------------------------------\n",
      "0 | loss_fn | ReduceEigenvaluesLoss | 0      | train | ?        | ?        \n",
      "1 | norm_in | Normalization         | 0      | train | [1, 148] | [1, 148] \n",
      "2 | nn      | FeedForward           | 2.5 K  | train | [1, 148] | [1, 2]   \n",
      "3 | tica    | TICA                  | 0      | train | [1, 2]   | [1, 2]   \n",
      "---------------------------------------------------------------------------------\n",
      "2.5 K     Trainable params\n",
      "0         Non-trainable params\n",
      "2.5 K     Total params\n",
      "0.010     Total estimated model params size (MB)\n",
      "INFO:deep_cartograph.tools.train_colvars.utils:Best model score: -320.5906066894531\n",
      "INFO:deep_cartograph.tools.train_colvars.utils:Took 119 epochs\n",
      "INFO:deep_cartograph.tools.train_colvars.utils:Eigenvalue 1: 3.1755146980285645\n",
      "INFO:deep_cartograph.tools.train_colvars.utils:Eigenvalue 2: -1.3986164331436157\n",
      "/shared/work/pnavarro/envs/deep_cartograph/lib/python3.10/site-packages/mlcolvar/core/nn/utils.py:13: TracerWarning: Converting a tensor to a Python number might cause the trace to be incorrect. We can't record the data flow of Python values, so this value will be treated as a constant in the future. This means that the trace might not generalize to other inputs!\n",
      "  sp0 = F.softplus(torch.zeros(1), self.beta, self.threshold).item()\n",
      "INFO:deep_cartograph.tools.train_colvars.utils:Projecting trajectory...\n",
      "INFO:deep_cartograph:Elapsed time (Train colvars): 00 h 00 min 24 s\n",
      "INFO:deep_cartograph:Total elapsed time: 00 h 00 min 58 s\n",
      "INFO:deep_cartograph:================\n",
      "INFO:deep_cartograph:Compute features\n",
      "INFO:deep_cartograph:================\n",
      "INFO:deep_cartograph:Trajectory file: ../../../data/calpha_transitions/input/2olu_A-2olv_A-1/2olu_A-2olv_A-1.dcd\n",
      "/shared/work/pnavarro/envs/deep_cartograph/lib/python3.10/site-packages/MDAnalysis/topology/PDBParser.py:317: UserWarning: Element information is missing, elements attribute will not be populated. If needed these can be guessed using MDAnalysis.topology.guessers.\n",
      "  warnings.warn(\"Element information is missing, elements attribute \"\n",
      "/shared/work/pnavarro/envs/deep_cartograph/lib/python3.10/site-packages/MDAnalysis/coordinates/PDB.py:747: UserWarning: Unit cell dimensions not found. CRYST1 record set to unitary values.\n",
      "  warnings.warn(\"Unit cell dimensions not found. \"\n",
      "/shared/work/pnavarro/envs/deep_cartograph/lib/python3.10/site-packages/MDAnalysis/coordinates/PDB.py:1078: UserWarning: Found no information for attr: 'elements' Using default value of ' '\n",
      "  warnings.warn(\"Found no information for attr: '{}'\"\n",
      "/shared/work/pnavarro/envs/deep_cartograph/lib/python3.10/site-packages/MDAnalysis/coordinates/PDB.py:429: UserWarning: 1 A^3 CRYST1 record, this is usually a placeholder. Unit cell dimensions will be set to None.\n",
      "  warnings.warn(\"1 A^3 CRYST1 record,\"\n",
      "INFO:deep_cartograph.modules.plumed.input_file.input_file:Found 1186 features for tor\n",
      "INFO:deep_cartograph.modules.plumed.utils:Executing PLUMED driver command: ml PLUMED/2.9.0-intel-2021b && unset I_MPI_PMI_LIBRARY && /eb/x86_64/software/PLUMED/2.9.0-intel-2021b/bin/plumed driver --plumed /shared/work/pnavarro/repos/deep_cartograph/data/calpha_transitions/experiments/output/2olu_A-2olv_A-1/torsions/lt_8/compute_features_traj/torsions.dat --mf_dcd /shared/work/pnavarro/repos/deep_cartograph/data/calpha_transitions/input/2olu_A-2olv_A-1/2olu_A-2olv_A-1.dcd --natoms 596\n",
      "INFO:deep_cartograph:Elapsed time (Compute features): 00 h 00 min 03 s\n",
      "INFO:deep_cartograph:==================\n",
      "INFO:deep_cartograph:Filtering features\n",
      "INFO:deep_cartograph:==================\n",
      "INFO:deep_cartograph:Finding the features that contains the most information about the transitions or conformational changes.\n",
      "INFO:deep_cartograph:The following algorithms are available:\n",
      "INFO:deep_cartograph:- Hartigan's dip test filter. Keeps features that are not unimodal.\n",
      "INFO:deep_cartograph:- Shannon entropy filter. Keeps features with entropy greater than a threshold.\n",
      "INFO:deep_cartograph:- Standard deviation filter. Keeps features with standard deviation greater than a threshold.\n",
      "INFO:deep_cartograph:- Final Mutual information clustering (AMINO). Clusters filtered features according to a mutual information based distance and selects one feature per cluster minimizing the distorsion.\n",
      "INFO:deep_cartograph:Note that the all features must be in the same units to apply the entropy and standard deviation filters meaningfully.\n",
      "INFO:deep_cartograph:Initial size of features set: 1186.\n",
      "INFO:deep_cartograph.tools.filter_features.filtering:Computing dip test.\n",
      "INFO:deep_cartograph.tools.filter_features.filtering:Filtered 1038 features.\n",
      "INFO:deep_cartograph.modules.amino.amino:Skipping AMINO clustering.\n",
      "INFO:deep_cartograph:Elapsed time (Filter features): 00 h 00 min 30 s\n",
      "INFO:deep_cartograph:================================\n",
      "INFO:deep_cartograph:Training of Collective Variables\n",
      "INFO:deep_cartograph:================================\n",
      "INFO:deep_cartograph:Training of collective variables using the mlcolvar library.\n",
      "INFO:deep_cartograph:Creating datasets from colvars...\n",
      "INFO:deep_cartograph:Number of samples: 338\n",
      "INFO:deep_cartograph:Number of features: 148\n",
      "INFO:deep_cartograph.tools.train_colvars.utils:Training Autoencoder CV...\n",
      "/shared/work/pnavarro/envs/deep_cartograph/lib/python3.10/site-packages/lightning/fabric/plugins/environments/slurm.py:204: The `srun` command is available on your system but is not used. HINT: If your intention is to run Lightning on SLURM, prepend your python command with `srun` like so: srun python /shared/work/pnavarro/envs/deep_cartograph/lib/pytho ...\n",
      "GPU available: False, used: False\n",
      "TPU available: False, using: 0 TPU cores\n",
      "HPU available: False, using: 0 HPUs\n",
      "\n",
      "  | Name    | Type          | Params | Mode  | In sizes | Out sizes\n",
      "-------------------------------------------------------------------------\n",
      "0 | loss_fn | MSELoss       | 0      | train | ?        | ?        \n",
      "1 | norm_in | Normalization | 0      | train | [1, 148] | [1, 148] \n",
      "2 | encoder | FeedForward   | 2.5 K  | train | [1, 148] | [1, 2]   \n",
      "3 | decoder | FeedForward   | 2.7 K  | train | ?        | ?        \n",
      "-------------------------------------------------------------------------\n",
      "5.2 K     Trainable params\n",
      "0         Non-trainable params\n",
      "5.2 K     Total params\n",
      "0.021     Total estimated model params size (MB)\n",
      "INFO:deep_cartograph.tools.train_colvars.utils:Best model score: 0.0030074643436819315\n",
      "/shared/work/pnavarro/envs/deep_cartograph/lib/python3.10/site-packages/mlcolvar/core/nn/utils.py:13: TracerWarning: Converting a tensor to a Python number might cause the trace to be incorrect. We can't record the data flow of Python values, so this value will be treated as a constant in the future. This means that the trace might not generalize to other inputs!\n",
      "  sp0 = F.softplus(torch.zeros(1), self.beta, self.threshold).item()\n",
      "INFO:deep_cartograph.tools.train_colvars.utils:Projecting trajectory...\n",
      "/shared/work/pnavarro/envs/deep_cartograph/lib/python3.10/site-packages/mlcolvar/utils/timelagged.py:140: UserWarning: Monitoring the progress for the search of time-lagged configurations with a progress_bar requires `tqdm`.\n",
      "  warnings.warn(\n",
      "INFO:deep_cartograph.tools.train_colvars.utils:Calculating DeepTICA CV...\n",
      "/shared/work/pnavarro/envs/deep_cartograph/lib/python3.10/site-packages/lightning/fabric/plugins/environments/slurm.py:204: The `srun` command is available on your system but is not used. HINT: If your intention is to run Lightning on SLURM, prepend your python command with `srun` like so: srun python /shared/work/pnavarro/envs/deep_cartograph/lib/pytho ...\n",
      "GPU available: False, used: False\n",
      "TPU available: False, using: 0 TPU cores\n",
      "HPU available: False, using: 0 HPUs\n",
      "\n",
      "  | Name    | Type                  | Params | Mode  | In sizes | Out sizes\n",
      "---------------------------------------------------------------------------------\n",
      "0 | loss_fn | ReduceEigenvaluesLoss | 0      | train | ?        | ?        \n",
      "1 | norm_in | Normalization         | 0      | train | [1, 148] | [1, 148] \n",
      "2 | nn      | FeedForward           | 2.5 K  | train | [1, 148] | [1, 2]   \n",
      "3 | tica    | TICA                  | 0      | train | [1, 2]   | [1, 2]   \n",
      "---------------------------------------------------------------------------------\n",
      "2.5 K     Trainable params\n",
      "0         Non-trainable params\n",
      "2.5 K     Total params\n",
      "0.010     Total estimated model params size (MB)\n",
      "INFO:deep_cartograph.tools.train_colvars.utils:Best model score: -1.816190242767334\n",
      "INFO:deep_cartograph.tools.train_colvars.utils:Took 74 epochs\n",
      "INFO:deep_cartograph.tools.train_colvars.utils:Eigenvalue 1: 1.015286922454834\n",
      "INFO:deep_cartograph.tools.train_colvars.utils:Eigenvalue 2: 0.8703110218048096\n",
      "/shared/work/pnavarro/envs/deep_cartograph/lib/python3.10/site-packages/mlcolvar/core/nn/utils.py:13: TracerWarning: Converting a tensor to a Python number might cause the trace to be incorrect. We can't record the data flow of Python values, so this value will be treated as a constant in the future. This means that the trace might not generalize to other inputs!\n",
      "  sp0 = F.softplus(torch.zeros(1), self.beta, self.threshold).item()\n",
      "INFO:deep_cartograph.tools.train_colvars.utils:Projecting trajectory...\n"
     ]
    },
    {
     "name": "stdout",
     "output_type": "stream",
     "text": [
      "[Warning] Normalization: the following features have a range of values < 1e-6: tensor([[1]])\n"
     ]
    },
    {
     "name": "stderr",
     "output_type": "stream",
     "text": [
      "INFO:deep_cartograph:Elapsed time (Train colvars): 00 h 00 min 21 s\n",
      "INFO:deep_cartograph:Total elapsed time: 00 h 00 min 54 s\n",
      "INFO:deep_cartograph:================\n",
      "INFO:deep_cartograph:Compute features\n",
      "INFO:deep_cartograph:================\n",
      "INFO:deep_cartograph:Trajectory file: ../../../data/calpha_transitions/input/2olu_A-2olv_A-1/2olu_A-2olv_A-1.dcd\n",
      "/shared/work/pnavarro/envs/deep_cartograph/lib/python3.10/site-packages/MDAnalysis/topology/PDBParser.py:317: UserWarning: Element information is missing, elements attribute will not be populated. If needed these can be guessed using MDAnalysis.topology.guessers.\n",
      "  warnings.warn(\"Element information is missing, elements attribute \"\n",
      "/shared/work/pnavarro/envs/deep_cartograph/lib/python3.10/site-packages/MDAnalysis/coordinates/PDB.py:747: UserWarning: Unit cell dimensions not found. CRYST1 record set to unitary values.\n",
      "  warnings.warn(\"Unit cell dimensions not found. \"\n",
      "/shared/work/pnavarro/envs/deep_cartograph/lib/python3.10/site-packages/MDAnalysis/coordinates/PDB.py:1078: UserWarning: Found no information for attr: 'elements' Using default value of ' '\n",
      "  warnings.warn(\"Found no information for attr: '{}'\"\n",
      "/shared/work/pnavarro/envs/deep_cartograph/lib/python3.10/site-packages/MDAnalysis/coordinates/PDB.py:429: UserWarning: 1 A^3 CRYST1 record, this is usually a placeholder. Unit cell dimensions will be set to None.\n",
      "  warnings.warn(\"1 A^3 CRYST1 record,\"\n",
      "INFO:deep_cartograph.modules.plumed.input_file.input_file:Found 1186 features for tor\n",
      "INFO:deep_cartograph.modules.plumed.utils:Executing PLUMED driver command: ml PLUMED/2.9.0-intel-2021b && unset I_MPI_PMI_LIBRARY && /eb/x86_64/software/PLUMED/2.9.0-intel-2021b/bin/plumed driver --plumed /shared/work/pnavarro/repos/deep_cartograph/data/calpha_transitions/experiments/output/2olu_A-2olv_A-1/torsions/lt_16/compute_features_traj/torsions.dat --mf_dcd /shared/work/pnavarro/repos/deep_cartograph/data/calpha_transitions/input/2olu_A-2olv_A-1/2olu_A-2olv_A-1.dcd --natoms 596\n",
      "INFO:deep_cartograph:Elapsed time (Compute features): 00 h 00 min 03 s\n",
      "INFO:deep_cartograph:==================\n",
      "INFO:deep_cartograph:Filtering features\n",
      "INFO:deep_cartograph:==================\n",
      "INFO:deep_cartograph:Finding the features that contains the most information about the transitions or conformational changes.\n",
      "INFO:deep_cartograph:The following algorithms are available:\n",
      "INFO:deep_cartograph:- Hartigan's dip test filter. Keeps features that are not unimodal.\n",
      "INFO:deep_cartograph:- Shannon entropy filter. Keeps features with entropy greater than a threshold.\n",
      "INFO:deep_cartograph:- Standard deviation filter. Keeps features with standard deviation greater than a threshold.\n",
      "INFO:deep_cartograph:- Final Mutual information clustering (AMINO). Clusters filtered features according to a mutual information based distance and selects one feature per cluster minimizing the distorsion.\n",
      "INFO:deep_cartograph:Note that the all features must be in the same units to apply the entropy and standard deviation filters meaningfully.\n",
      "INFO:deep_cartograph:Initial size of features set: 1186.\n",
      "INFO:deep_cartograph.tools.filter_features.filtering:Computing dip test.\n",
      "INFO:deep_cartograph.tools.filter_features.filtering:Filtered 1038 features.\n",
      "INFO:deep_cartograph.modules.amino.amino:Skipping AMINO clustering.\n",
      "INFO:deep_cartograph:Elapsed time (Filter features): 00 h 00 min 29 s\n",
      "INFO:deep_cartograph:================================\n",
      "INFO:deep_cartograph:Training of Collective Variables\n",
      "INFO:deep_cartograph:================================\n",
      "INFO:deep_cartograph:Training of collective variables using the mlcolvar library.\n",
      "INFO:deep_cartograph:Creating datasets from colvars...\n",
      "INFO:deep_cartograph:Number of samples: 338\n",
      "INFO:deep_cartograph:Number of features: 148\n",
      "INFO:deep_cartograph.tools.train_colvars.utils:Training Autoencoder CV...\n",
      "/shared/work/pnavarro/envs/deep_cartograph/lib/python3.10/site-packages/lightning/fabric/plugins/environments/slurm.py:204: The `srun` command is available on your system but is not used. HINT: If your intention is to run Lightning on SLURM, prepend your python command with `srun` like so: srun python /shared/work/pnavarro/envs/deep_cartograph/lib/pytho ...\n",
      "GPU available: False, used: False\n",
      "TPU available: False, using: 0 TPU cores\n",
      "HPU available: False, using: 0 HPUs\n",
      "\n",
      "  | Name    | Type          | Params | Mode  | In sizes | Out sizes\n",
      "-------------------------------------------------------------------------\n",
      "0 | loss_fn | MSELoss       | 0      | train | ?        | ?        \n",
      "1 | norm_in | Normalization | 0      | train | [1, 148] | [1, 148] \n",
      "2 | encoder | FeedForward   | 2.5 K  | train | [1, 148] | [1, 2]   \n",
      "3 | decoder | FeedForward   | 2.7 K  | train | ?        | ?        \n",
      "-------------------------------------------------------------------------\n",
      "5.2 K     Trainable params\n",
      "0         Non-trainable params\n",
      "5.2 K     Total params\n",
      "0.021     Total estimated model params size (MB)\n",
      "INFO:deep_cartograph.tools.train_colvars.utils:Best model score: 0.0030074643436819315\n",
      "/shared/work/pnavarro/envs/deep_cartograph/lib/python3.10/site-packages/mlcolvar/core/nn/utils.py:13: TracerWarning: Converting a tensor to a Python number might cause the trace to be incorrect. We can't record the data flow of Python values, so this value will be treated as a constant in the future. This means that the trace might not generalize to other inputs!\n",
      "  sp0 = F.softplus(torch.zeros(1), self.beta, self.threshold).item()\n",
      "INFO:deep_cartograph.tools.train_colvars.utils:Projecting trajectory...\n",
      "/shared/work/pnavarro/envs/deep_cartograph/lib/python3.10/site-packages/mlcolvar/utils/timelagged.py:140: UserWarning: Monitoring the progress for the search of time-lagged configurations with a progress_bar requires `tqdm`.\n",
      "  warnings.warn(\n",
      "INFO:deep_cartograph.tools.train_colvars.utils:Calculating DeepTICA CV...\n",
      "/shared/work/pnavarro/envs/deep_cartograph/lib/python3.10/site-packages/lightning/fabric/plugins/environments/slurm.py:204: The `srun` command is available on your system but is not used. HINT: If your intention is to run Lightning on SLURM, prepend your python command with `srun` like so: srun python /shared/work/pnavarro/envs/deep_cartograph/lib/pytho ...\n",
      "GPU available: False, used: False\n",
      "TPU available: False, using: 0 TPU cores\n",
      "HPU available: False, using: 0 HPUs\n",
      "\n",
      "  | Name    | Type                  | Params | Mode  | In sizes | Out sizes\n",
      "---------------------------------------------------------------------------------\n",
      "0 | loss_fn | ReduceEigenvaluesLoss | 0      | train | ?        | ?        \n",
      "1 | norm_in | Normalization         | 0      | train | [1, 148] | [1, 148] \n",
      "2 | nn      | FeedForward           | 2.5 K  | train | [1, 148] | [1, 2]   \n",
      "3 | tica    | TICA                  | 0      | train | [1, 2]   | [1, 2]   \n",
      "---------------------------------------------------------------------------------\n",
      "2.5 K     Trainable params\n",
      "0         Non-trainable params\n",
      "2.5 K     Total params\n",
      "0.010     Total estimated model params size (MB)\n",
      "INFO:deep_cartograph.tools.train_colvars.utils:Best model score: -1.840468168258667\n",
      "INFO:deep_cartograph.tools.train_colvars.utils:Took 52 epochs\n",
      "INFO:deep_cartograph.tools.train_colvars.utils:Eigenvalue 1: 1.0926350355148315\n",
      "INFO:deep_cartograph.tools.train_colvars.utils:Eigenvalue 2: 0.8041248917579651\n",
      "/shared/work/pnavarro/envs/deep_cartograph/lib/python3.10/site-packages/mlcolvar/core/nn/utils.py:13: TracerWarning: Converting a tensor to a Python number might cause the trace to be incorrect. We can't record the data flow of Python values, so this value will be treated as a constant in the future. This means that the trace might not generalize to other inputs!\n",
      "  sp0 = F.softplus(torch.zeros(1), self.beta, self.threshold).item()\n",
      "INFO:deep_cartograph.tools.train_colvars.utils:Projecting trajectory...\n",
      "INFO:deep_cartograph:Elapsed time (Train colvars): 00 h 00 min 19 s\n",
      "INFO:deep_cartograph:Total elapsed time: 00 h 00 min 52 s\n"
     ]
    },
    {
     "data": {
      "text/plain": [
       "<Figure size 500x400 with 0 Axes>"
      ]
     },
     "metadata": {},
     "output_type": "display_data"
    },
    {
     "data": {
      "text/plain": [
       "<Figure size 500x400 with 0 Axes>"
      ]
     },
     "metadata": {},
     "output_type": "display_data"
    },
    {
     "data": {
      "text/plain": [
       "<Figure size 500x400 with 0 Axes>"
      ]
     },
     "metadata": {},
     "output_type": "display_data"
    },
    {
     "data": {
      "text/plain": [
       "<Figure size 500x400 with 0 Axes>"
      ]
     },
     "metadata": {},
     "output_type": "display_data"
    },
    {
     "data": {
      "text/plain": [
       "<Figure size 500x400 with 0 Axes>"
      ]
     },
     "metadata": {},
     "output_type": "display_data"
    },
    {
     "data": {
      "text/plain": [
       "<Figure size 500x400 with 0 Axes>"
      ]
     },
     "metadata": {},
     "output_type": "display_data"
    },
    {
     "data": {
      "text/plain": [
       "<Figure size 500x400 with 0 Axes>"
      ]
     },
     "metadata": {},
     "output_type": "display_data"
    },
    {
     "data": {
      "text/plain": [
       "<Figure size 500x400 with 0 Axes>"
      ]
     },
     "metadata": {},
     "output_type": "display_data"
    },
    {
     "data": {
      "text/plain": [
       "<Figure size 500x400 with 0 Axes>"
      ]
     },
     "metadata": {},
     "output_type": "display_data"
    },
    {
     "data": {
      "text/plain": [
       "<Figure size 500x400 with 0 Axes>"
      ]
     },
     "metadata": {},
     "output_type": "display_data"
    },
    {
     "data": {
      "text/plain": [
       "<Figure size 500x400 with 0 Axes>"
      ]
     },
     "metadata": {},
     "output_type": "display_data"
    },
    {
     "data": {
      "text/plain": [
       "<Figure size 500x400 with 0 Axes>"
      ]
     },
     "metadata": {},
     "output_type": "display_data"
    },
    {
     "data": {
      "text/plain": [
       "<Figure size 500x400 with 0 Axes>"
      ]
     },
     "metadata": {},
     "output_type": "display_data"
    },
    {
     "data": {
      "text/plain": [
       "<Figure size 500x400 with 0 Axes>"
      ]
     },
     "metadata": {},
     "output_type": "display_data"
    },
    {
     "data": {
      "text/plain": [
       "<Figure size 500x400 with 0 Axes>"
      ]
     },
     "metadata": {},
     "output_type": "display_data"
    }
   ],
   "source": [
    "features = 'torsions'\n",
    "\n",
    "# Load initial configuration\n",
    "config_path = f\"{data_folder}/calpha_transitions/experiments/{features}_config.yml\"\n",
    "\n",
    "with open(config_path, 'r') as file:\n",
    "    configuration = yaml.load(file, Loader = yaml.FullLoader)\n",
    "    \n",
    "lag_times = [1, 2, 4, 8, 16]\n",
    "system_name = '2olu_A-2olv_A-1'        # Has around 330 frames\n",
    "\n",
    "for lt in lag_times:\n",
    "\n",
    "    # Test name\n",
    "    test_name = f\"lt_{lt}\"\n",
    "\n",
    "    # Make a copy of the initial configuration\n",
    "    test_configuration = configuration.copy()\n",
    "\n",
    "    # Update learning rate\n",
    "    test_configuration['train_colvars']['common']['architecture']['lag_time'] = lt\n",
    "\n",
    "    # Run deep cartograph\n",
    "    run_deep_cartograph(test_configuration, features, system_name, test_name)"
   ]
  },
  {
   "cell_type": "code",
   "execution_count": 20,
   "metadata": {},
   "outputs": [
    {
     "name": "stdout",
     "output_type": "stream",
     "text": [
      "Lag time: 1 ----------------------------------------------- #\n",
      "Output folder: ../../../data/calpha_transitions/experiments/output/2olu_A-2olv_A-1/torsions/lt_1\n",
      "Final model score: -1.9195E+0\n",
      "Eigenvalue 1: 9.8996E-1\n",
      "Eigenvalue 2: 9.6897E-1\n"
     ]
    },
    {
     "data": {
      "text/html": [
       "<img src=\"../../../data/calpha_transitions/experiments/output/2olu_A-2olv_A-1/torsions/lt_1/train_colvars/deep_tica/loss.png?1724938657\" style=\"width: 600px; margin-right: 10px;\"><img src=\"../../../data/calpha_transitions/experiments/output/2olu_A-2olv_A-1/torsions/lt_1/train_colvars/deep_tica/eigenvalues.png?1724938657\" style=\"width: 600px; margin-right: 10px;\"><img src=\"../../../data/calpha_transitions/experiments/output/2olu_A-2olv_A-1/torsions/lt_1/train_colvars/deep_tica/trajectory.png?1724938657\" style=\"width: 600px; margin-right: 10px;\">"
      ],
      "text/plain": [
       "<IPython.core.display.HTML object>"
      ]
     },
     "metadata": {},
     "output_type": "display_data"
    },
    {
     "name": "stdout",
     "output_type": "stream",
     "text": [
      "Lag time: 2 ----------------------------------------------- #\n",
      "Output folder: ../../../data/calpha_transitions/experiments/output/2olu_A-2olv_A-1/torsions/lt_2\n",
      "Final model score: -9.5201E+1\n",
      "Eigenvalue 1: 2.2902E+0\n",
      "Eigenvalue 2: -2.8179E-1\n"
     ]
    },
    {
     "data": {
      "text/html": [
       "<img src=\"../../../data/calpha_transitions/experiments/output/2olu_A-2olv_A-1/torsions/lt_2/train_colvars/deep_tica/loss.png?1724938657\" style=\"width: 600px; margin-right: 10px;\"><img src=\"../../../data/calpha_transitions/experiments/output/2olu_A-2olv_A-1/torsions/lt_2/train_colvars/deep_tica/eigenvalues.png?1724938657\" style=\"width: 600px; margin-right: 10px;\"><img src=\"../../../data/calpha_transitions/experiments/output/2olu_A-2olv_A-1/torsions/lt_2/train_colvars/deep_tica/trajectory.png?1724938657\" style=\"width: 600px; margin-right: 10px;\">"
      ],
      "text/plain": [
       "<IPython.core.display.HTML object>"
      ]
     },
     "metadata": {},
     "output_type": "display_data"
    },
    {
     "name": "stdout",
     "output_type": "stream",
     "text": [
      "Lag time: 4 ----------------------------------------------- #\n",
      "Output folder: ../../../data/calpha_transitions/experiments/output/2olu_A-2olv_A-1/torsions/lt_4\n",
      "Final model score: -3.2059E+2\n",
      "Eigenvalue 1: 3.1755E+0\n",
      "Eigenvalue 2: -1.3986E+0\n"
     ]
    },
    {
     "data": {
      "text/html": [
       "<img src=\"../../../data/calpha_transitions/experiments/output/2olu_A-2olv_A-1/torsions/lt_4/train_colvars/deep_tica/loss.png?1724938657\" style=\"width: 600px; margin-right: 10px;\"><img src=\"../../../data/calpha_transitions/experiments/output/2olu_A-2olv_A-1/torsions/lt_4/train_colvars/deep_tica/eigenvalues.png?1724938657\" style=\"width: 600px; margin-right: 10px;\"><img src=\"../../../data/calpha_transitions/experiments/output/2olu_A-2olv_A-1/torsions/lt_4/train_colvars/deep_tica/trajectory.png?1724938657\" style=\"width: 600px; margin-right: 10px;\">"
      ],
      "text/plain": [
       "<IPython.core.display.HTML object>"
      ]
     },
     "metadata": {},
     "output_type": "display_data"
    },
    {
     "name": "stdout",
     "output_type": "stream",
     "text": [
      "Lag time: 8 ----------------------------------------------- #\n",
      "Output folder: ../../../data/calpha_transitions/experiments/output/2olu_A-2olv_A-1/torsions/lt_8\n",
      "Final model score: -1.8162E+0\n",
      "Eigenvalue 1: 1.0153E+0\n",
      "Eigenvalue 2: 8.7031E-1\n"
     ]
    },
    {
     "data": {
      "text/html": [
       "<img src=\"../../../data/calpha_transitions/experiments/output/2olu_A-2olv_A-1/torsions/lt_8/train_colvars/deep_tica/loss.png?1724938657\" style=\"width: 600px; margin-right: 10px;\"><img src=\"../../../data/calpha_transitions/experiments/output/2olu_A-2olv_A-1/torsions/lt_8/train_colvars/deep_tica/eigenvalues.png?1724938657\" style=\"width: 600px; margin-right: 10px;\"><img src=\"../../../data/calpha_transitions/experiments/output/2olu_A-2olv_A-1/torsions/lt_8/train_colvars/deep_tica/trajectory.png?1724938657\" style=\"width: 600px; margin-right: 10px;\">"
      ],
      "text/plain": [
       "<IPython.core.display.HTML object>"
      ]
     },
     "metadata": {},
     "output_type": "display_data"
    },
    {
     "name": "stdout",
     "output_type": "stream",
     "text": [
      "Lag time: 16 ----------------------------------------------- #\n",
      "Output folder: ../../../data/calpha_transitions/experiments/output/2olu_A-2olv_A-1/torsions/lt_16\n",
      "Final model score: -1.8405E+0\n",
      "Eigenvalue 1: 1.0926E+0\n",
      "Eigenvalue 2: 8.0412E-1\n"
     ]
    },
    {
     "data": {
      "text/html": [
       "<img src=\"../../../data/calpha_transitions/experiments/output/2olu_A-2olv_A-1/torsions/lt_16/train_colvars/deep_tica/loss.png?1724938657\" style=\"width: 600px; margin-right: 10px;\"><img src=\"../../../data/calpha_transitions/experiments/output/2olu_A-2olv_A-1/torsions/lt_16/train_colvars/deep_tica/eigenvalues.png?1724938657\" style=\"width: 600px; margin-right: 10px;\"><img src=\"../../../data/calpha_transitions/experiments/output/2olu_A-2olv_A-1/torsions/lt_16/train_colvars/deep_tica/trajectory.png?1724938657\" style=\"width: 600px; margin-right: 10px;\">"
      ],
      "text/plain": [
       "<IPython.core.display.HTML object>"
      ]
     },
     "metadata": {},
     "output_type": "display_data"
    }
   ],
   "source": [
    "# Show results for Deep TICA\n",
    "\n",
    "for lt in lag_times:\n",
    "\n",
    "    print(f\"Lag time: {lt} ----------------------------------------------- #\")\n",
    "\n",
    "    # Test name\n",
    "    test_name = f\"lt_{lt}\"\n",
    "    \n",
    "    # Show main results\n",
    "    show_results(features, system_name, 'deep_tica', test_name)"
   ]
  },
  {
   "cell_type": "markdown",
   "metadata": {},
   "source": [
    "- Lag time should be 1"
   ]
  }
 ],
 "metadata": {
  "kernelspec": {
   "display_name": "Python 3 (ipykernel)",
   "language": "python",
   "name": "python3"
  },
  "varInspector": {
   "cols": {
    "lenName": 16,
    "lenType": 16,
    "lenVar": 40
   },
   "kernels_config": {
    "python": {
     "delete_cmd_postfix": "",
     "delete_cmd_prefix": "del ",
     "library": "var_list.py",
     "varRefreshCmd": "print(var_dic_list())"
    },
    "r": {
     "delete_cmd_postfix": ") ",
     "delete_cmd_prefix": "rm(",
     "library": "var_list.r",
     "varRefreshCmd": "cat(var_dic_list()) "
    }
   },
   "types_to_exclude": [
    "module",
    "function",
    "builtin_function_or_method",
    "instance",
    "_Feature"
   ],
   "window_display": false
  }
 },
 "nbformat": 4,
 "nbformat_minor": 4
}
